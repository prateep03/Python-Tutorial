{
 "cells": [
  {
   "cell_type": "markdown",
   "metadata": {},
   "source": [
    "# Decision Trees\n",
    "\n",
    "In this notebook, let us look at [Decision Trees](https://en.wikipedia.org/wiki/Decision_tree_learning) using python `sklearn` module. Like other machine learning algorithms, *Decision Trees* can perform both classification and regression tasks. They are very powerful algorithms, capable of fitting complex datasets. "
   ]
  },
  {
   "cell_type": "markdown",
   "metadata": {},
   "source": [
    "# Training and Visualizing a Decision Tree\n",
    "\n",
    "To understand Decision Trees, let's build one and take a look at how it makes predictions."
   ]
  },
  {
   "cell_type": "code",
   "execution_count": 1,
   "metadata": {},
   "outputs": [],
   "source": [
    "import numpy as np\n",
    "import pandas as pd\n",
    "import matplotlib.pyplot as plt\n",
    "from matplotlib.colors import ListedColormap\n",
    "%matplotlib inline\n",
    "import seaborn as sns\n",
    "from sklearn import datasets\n",
    "from sklearn.tree import DecisionTreeClassifier"
   ]
  },
  {
   "cell_type": "code",
   "execution_count": 2,
   "metadata": {},
   "outputs": [],
   "source": [
    "# Plot properties.\n",
    "plt.rcParams['figure.dpi'] = 100\n",
    "plt.rcParams['lines.linewidth'] = 2\n",
    "plt.rcParams['axes.axisbelow'] = True\n",
    "plt.rcParams['axes.titlesize'] = 20"
   ]
  },
  {
   "cell_type": "code",
   "execution_count": 3,
   "metadata": {},
   "outputs": [],
   "source": [
    "# Load data\n",
    "iris = datasets.load_iris()"
   ]
  },
  {
   "cell_type": "code",
   "execution_count": 4,
   "metadata": {},
   "outputs": [
    {
     "data": {
      "text/html": [
       "<div>\n",
       "<style scoped>\n",
       "    .dataframe tbody tr th:only-of-type {\n",
       "        vertical-align: middle;\n",
       "    }\n",
       "\n",
       "    .dataframe tbody tr th {\n",
       "        vertical-align: top;\n",
       "    }\n",
       "\n",
       "    .dataframe thead th {\n",
       "        text-align: right;\n",
       "    }\n",
       "</style>\n",
       "<table border=\"1\" class=\"dataframe\">\n",
       "  <thead>\n",
       "    <tr style=\"text-align: right;\">\n",
       "      <th></th>\n",
       "      <th>sepal length (cm)</th>\n",
       "      <th>sepal width (cm)</th>\n",
       "      <th>petal length (cm)</th>\n",
       "      <th>petal width (cm)</th>\n",
       "    </tr>\n",
       "  </thead>\n",
       "  <tbody>\n",
       "    <tr>\n",
       "      <th>0</th>\n",
       "      <td>5.1</td>\n",
       "      <td>3.5</td>\n",
       "      <td>1.4</td>\n",
       "      <td>0.2</td>\n",
       "    </tr>\n",
       "    <tr>\n",
       "      <th>1</th>\n",
       "      <td>4.9</td>\n",
       "      <td>3.0</td>\n",
       "      <td>1.4</td>\n",
       "      <td>0.2</td>\n",
       "    </tr>\n",
       "    <tr>\n",
       "      <th>2</th>\n",
       "      <td>4.7</td>\n",
       "      <td>3.2</td>\n",
       "      <td>1.3</td>\n",
       "      <td>0.2</td>\n",
       "    </tr>\n",
       "    <tr>\n",
       "      <th>3</th>\n",
       "      <td>4.6</td>\n",
       "      <td>3.1</td>\n",
       "      <td>1.5</td>\n",
       "      <td>0.2</td>\n",
       "    </tr>\n",
       "    <tr>\n",
       "      <th>4</th>\n",
       "      <td>5.0</td>\n",
       "      <td>3.6</td>\n",
       "      <td>1.4</td>\n",
       "      <td>0.2</td>\n",
       "    </tr>\n",
       "  </tbody>\n",
       "</table>\n",
       "</div>"
      ],
      "text/plain": [
       "   sepal length (cm)  sepal width (cm)  petal length (cm)  petal width (cm)\n",
       "0                5.1               3.5                1.4               0.2\n",
       "1                4.9               3.0                1.4               0.2\n",
       "2                4.7               3.2                1.3               0.2\n",
       "3                4.6               3.1                1.5               0.2\n",
       "4                5.0               3.6                1.4               0.2"
      ]
     },
     "execution_count": 4,
     "metadata": {},
     "output_type": "execute_result"
    }
   ],
   "source": [
    "# Lets look at the dataframe.\n",
    "df = pd.DataFrame(iris.data, columns=iris.feature_names)\n",
    "df.head()"
   ]
  },
  {
   "cell_type": "code",
   "execution_count": 5,
   "metadata": {},
   "outputs": [],
   "source": [
    "# Use features petal length and width ONLY.\n",
    "X = iris.data[:, 2:]\n",
    "y = iris.target"
   ]
  },
  {
   "cell_type": "code",
   "execution_count": 6,
   "metadata": {},
   "outputs": [
    {
     "data": {
      "text/plain": [
       "array(['setosa', 'versicolor', 'virginica'], dtype='<U10')"
      ]
     },
     "execution_count": 6,
     "metadata": {},
     "output_type": "execute_result"
    }
   ],
   "source": [
    "iris.target_names"
   ]
  },
  {
   "cell_type": "code",
   "execution_count": 7,
   "metadata": {},
   "outputs": [
    {
     "data": {
      "text/plain": [
       "DecisionTreeClassifier(max_depth=2)"
      ]
     },
     "execution_count": 7,
     "metadata": {},
     "output_type": "execute_result"
    }
   ],
   "source": [
    "# Fit a model.\n",
    "trainer = DecisionTreeClassifier(max_depth=2)\n",
    "trainer.fit(X,y)"
   ]
  },
  {
   "cell_type": "markdown",
   "metadata": {},
   "source": [
    "Visualize the trained Decision Tree by first using the `export_graphviz()` method to output a graph definition file called **iris_tree.dot**."
   ]
  },
  {
   "cell_type": "code",
   "execution_count": 8,
   "metadata": {},
   "outputs": [
    {
     "data": {
      "text/plain": [
       "[Text(186.0, 251.66666666666666, 'petal width (cm) <= 0.8\\ngini = 0.667\\nsamples = 150\\nvalue = [50, 50, 50]\\nclass = setosa'),\n",
       " Text(93.0, 151.0, 'gini = 0.0\\nsamples = 50\\nvalue = [50, 0, 0]\\nclass = setosa'),\n",
       " Text(279.0, 151.0, 'petal width (cm) <= 1.75\\ngini = 0.5\\nsamples = 100\\nvalue = [0, 50, 50]\\nclass = versicolor'),\n",
       " Text(186.0, 50.333333333333314, 'gini = 0.168\\nsamples = 54\\nvalue = [0, 49, 5]\\nclass = versicolor'),\n",
       " Text(372.0, 50.333333333333314, 'gini = 0.043\\nsamples = 46\\nvalue = [0, 1, 45]\\nclass = virginica')]"
      ]
     },
     "execution_count": 8,
     "metadata": {},
     "output_type": "execute_result"
    },
    {
     "data": {
      "image/png": "[encoded data removed]",
      "text/plain": [
       "<Figure size 600x400 with 1 Axes>"
      ]
     },
     "metadata": {
      "needs_background": "light"
     },
     "output_type": "display_data"
    }
   ],
   "source": [
    "from sklearn import tree # sklearn-version >= 0.21\n",
    "\n",
    "tree.plot_tree(trainer, max_depth=2, \n",
    "                   feature_names=iris.feature_names[2:],\n",
    "                   class_names=iris.target_names,\n",
    "                   rounded=True,\n",
    "                   filled=True)"
   ]
  },
  {
   "cell_type": "markdown",
   "metadata": {},
   "source": [
    "TODO: Add code cell using `export_graphviz'."
   ]
  },
  {
   "cell_type": "markdown",
   "metadata": {},
   "source": [
    "## Making predictions\n",
    "\n",
    "For prediction, we start at the *root node* (depth=0, at the top): this node asks whether the flower's petal length is smaller than 2.45 cm. If it is, then you move down to the root's left child node (depth=1,left). In this case, it is a *leaf node*, so it directly predicts the class as `setosa`. Otherwise, you travel the root's right child (depth=1,right). This node asks whether the petal width is <= 1.75 cm. If the answer is *yes*, the classifier predicts `versicolor` as predicted class, else it predicts `virginica` as the predicted class."
   ]
  },
  {
   "cell_type": "markdown",
   "metadata": {},
   "source": [
    "Some advantages of *Decision Trees* are as follows:\n",
    "- Simple to understand and to interpret. Trees can be visualised.\n",
    "- Requires little data preparation. Other techniques often require data normalisation, dummy variables need to be created and blank values to be removed. Note however that this module does not support missing values.\n",
    "- Able to handle both numerical and categorical data.\n",
    "- Possible to validate a model using statistical tests. \n",
    "\n",
    "\n",
    "Some disadvantages of *Decision Trees* are as follows:\n",
    "- Decision-tree learners can create over-complex trees that do not generalise the data well. This is called overfitting. Mechanisms such as pruning, setting the minimum number of samples required at a leaf node or setting the maximum depth of the tree are necessary to avoid this problem.\n",
    "- Decision trees can be unstable because small variations in the data might result in a completely different tree being generated. This problem is mitigated by using decision trees within an ensemble."
   ]
  },
  {
   "cell_type": "markdown",
   "metadata": {},
   "source": [
    "A tree-node's *samples* attribute counts how many training instances it applies to. Its *value* attribute tells how many training instances of each class this node applies to. Finally, the *gini* attribute meatures its *impurity*, a node is **\"pure\"** if all training instances it applies to belong to the same class. \n",
    "\n",
    "The goal of their learning algorithms is always to find the best split for each node of the tree. The goodness of a split is measured by the *gini impurity* score. Formally, a *gini impurity* score is defined as:\n",
    "\n",
    "$$\n",
    "G_i = 1 - \\underset{k}\\sum p_{ik}^{2}\n",
    "$$\n",
    "\n",
    "where $p_{ik}$ is the ratio of class $k$ instances among the training instances in the $i^{th}$ tree-node."
   ]
  },
  {
   "cell_type": "markdown",
   "metadata": {},
   "source": [
    "For the root node (depth=0), the *gini impurity* measure can be computed as follows: (assume `setosa` = 1,`versicolor` = 2, `virginica` = 3)\n",
    "\n",
    "$$\n",
    "\\begin{align*}\n",
    "& p_{0,1} = p_{0,2} = p_{0,3}  = \\frac{50}{150} \\\\\n",
    "\\implies G_0 &= 1 - \\left({\\frac{50}{150}}\\right)^2 - \\left({\\frac{50}{150}}\\right)^2 - \\left({\\frac{50}{150}}\\right)^2 \\\\\n",
    "\\implies &= 1 - \\left({\\frac{50}{150}} \\right)^2 \\times 3 \\\\\n",
    "\\implies &= 1 - \\frac{1}{3} = \\frac{2}{3} = 0.667\n",
    "\\end{align*}\n",
    "$$"
   ]
  },
  {
   "cell_type": "markdown",
   "metadata": {},
   "source": [
    "Apart from *gini impurity*, you can also choose *entropy impurity* by setting the `criterion` argument to `'entropy'`. The entropy measure at node $i$ is defined as:\n",
    "\n",
    "$$\n",
    "H_i = - \\underset{k}\\sum p_{ik} log\\left( p_{ik} \\right), \\; \\; p_{ik} \\neq 0\n",
    "$$"
   ]
  },
  {
   "cell_type": "markdown",
   "metadata": {},
   "source": [
    "<div class=\"alert alert-block alert-success\">\n",
    "    <b> EXCERCISE: </b>\n",
    "    \n",
    "   <ul>\n",
    "    <li> Measure analytically the entropy impurity at all leaf nodes. </li>\n",
    "    <li> Change the <tt>criterion</tt> parameter in <tt>DecisionTreeClassifier</tt> to entropy. Plot the tree. Now, check if your answers match with the computed impurities. </li>\n",
    "   </ul>\n",
    "</div>"
   ]
  },
  {
   "cell_type": "code",
   "execution_count": 9,
   "metadata": {},
   "outputs": [],
   "source": [
    "# Step size in the mesh. For visualization purpose.\n",
    "stepSize = .1\n",
    "\n",
    "x_min, x_max = X[:, 0].min() - 1, X[:, 0].max() + 1\n",
    "y_min, y_max = X[:, 1].min() - 1, X[:, 1].max() + 1\n",
    "xx, yy = np.meshgrid(np.arange(x_min, x_max, stepSize),\n",
    "                         np.arange(y_min, y_max, stepSize))"
   ]
  },
  {
   "cell_type": "code",
   "execution_count": 10,
   "metadata": {},
   "outputs": [],
   "source": [
    "Z = trainer.predict(np.c_[xx.ravel(), yy.ravel()])"
   ]
  },
  {
   "cell_type": "code",
   "execution_count": 11,
   "metadata": {},
   "outputs": [],
   "source": [
    "# Create color maps\n",
    "cmap_light = ListedColormap(['orange', 'cyan', 'cornflowerblue'])\n",
    "cmap_bold = ListedColormap(['darkorange', 'cyan', 'darkblue'])"
   ]
  },
  {
   "cell_type": "code",
   "execution_count": 12,
   "metadata": {},
   "outputs": [
    {
     "data": {
      "text/plain": [
       "Text(0.5, 1.0, '3-Class Classification using a DecisionTreeClassifer with max_depth:2')"
      ]
     },
     "execution_count": 12,
     "metadata": {},
     "output_type": "execute_result"
    },
    {
     "data": {
      "image/png": "[encoded data removed]",
      "text/plain": [
       "<Figure size 600x400 with 1 Axes>"
      ]
     },
     "metadata": {
      "needs_background": "light"
     },
     "output_type": "display_data"
    }
   ],
   "source": [
    "# Put the decision boundary into a color plot\n",
    "Z = Z.reshape(xx.shape)\n",
    "\n",
    "plt.pcolormesh(xx, yy, Z, cmap=cmap_light)\n",
    "\n",
    "# Next, add the training points.\n",
    "plt.scatter(X[:,0], X[:,1], c=y, cmap=cmap_bold, edgecolors='k',s=20)\n",
    "plt.xlim(xx.min(), xx.max())\n",
    "plt.ylim(yy.min(), yy.max())\n",
    "plt.xlabel('petal length (cm)')\n",
    "plt.ylabel('petal width (cm)')\n",
    "plt.title(f'3-Class Classification using a DecisionTreeClassifer with max_depth:2')"
   ]
  },
  {
   "cell_type": "markdown",
   "metadata": {},
   "source": [
    "## Estimating Class Probabilities\n",
    "\n",
    "A *Decision Tree* can also estimate the probability that an instance beongs to particular class $k$: first it traverses the tree to find the leaf node for this instance, and then it returns the ratio of training instances of class $k$ in this node. For example, suppose you have found a flower whose petals are 5 cm long and 1.5 cm wide. The corresponding leaf node is the depth-2 left node, so the *Decision Tree* should output the following probabilities: 0% for `setosa` (0/54), 90.7% for `versicolor`(49/54) and 9.3% for `virginica` (5/54). Therefore, the predicted class is `versicolor`."
   ]
  },
  {
   "cell_type": "code",
   "execution_count": 13,
   "metadata": {},
   "outputs": [
    {
     "data": {
      "text/plain": [
       "array([[0.        , 0.90740741, 0.09259259]])"
      ]
     },
     "execution_count": 13,
     "metadata": {},
     "output_type": "execute_result"
    }
   ],
   "source": [
    "trainer.predict_proba([[5, 1.5]])"
   ]
  },
  {
   "cell_type": "code",
   "execution_count": 14,
   "metadata": {},
   "outputs": [
    {
     "data": {
      "text/plain": [
       "array([1])"
      ]
     },
     "execution_count": 14,
     "metadata": {},
     "output_type": "execute_result"
    }
   ],
   "source": [
    "trainer.predict([[5, 1.5]])"
   ]
  },
  {
   "cell_type": "markdown",
   "metadata": {},
   "source": [
    "## The CART Training Algorithm\n",
    "\n",
    "`sklearn` uses the *Classification And Regression Tree (CART)* algorithm to train *Decision Trees*. The algorithm first splits the training set in two subsets using a single feature $k$ and a threshold $\\theta_k$(like, petal length <= 2.45 cm). How does it choose $k$ and $\\theta_k$ ? It searches for the pair($k,\\theta_k$) that produces the *purest subsets* (weighted by their size). The cost function that the algorithm tries to minimize is as follows:\n",
    "\n",
    "$$\n",
    "J(k,\\theta_k) = \\dfrac{n_l}{n} G_l + \\dfrac{n_r}{n} G_r\n",
    "$$\n",
    "\n",
    "where, $G_l,G_r$ measures the *gini impurities* of left/right subsets, $n_l,n_r$ is the number of instances in left/right subsets."
   ]
  },
  {
   "cell_type": "markdown",
   "metadata": {},
   "source": [
    "Once it has successfully split the training set in two, it splits the subsets using the same logic, and so on recursively. The algorithm terminates once it has reached the maximum depth (defined by the `max_depth` parameter), or if it cannot find a split that will reduce impurity. \n",
    "\n",
    "<div class=\"alert alert-block alert-warning\">\n",
    "    <b> NOTE: </b>\n",
    "   \n",
    "<p> The CART algorithm is a <font color=\"red\">greedy algorithm</font>, it greedily searches for an optimum split at the top level, the repeats the process at each level. It does not check whether or not the split will lead to the lowest possible impurity several levels down. A greedy algorithm produces a reasonably good solution, but it is not guaranteed to be the optimal solution.\n",
    "</p>\n",
    "    </div>"
   ]
  },
  {
   "cell_type": "markdown",
   "metadata": {},
   "source": [
    "## Pruning a Tree\n",
    "\n",
    "To avoid *overfitting* the training data, it is imperative to restrict the *Decision Tree's* freedom during the training. This is also known as **regularization** in machine learning. In `sklearn`, you can control the height of the tree using `max_depth` parameter. Reducing this value will result in a short tree and hence avoid overfitting.\n",
    "\n",
    "Apart from `max_depth`, there are certain other parameters as well that help to reduce *overfitting*.\n",
    "- `min_samples_split`- the min number of samples a node must have before it can be split.\n",
    "- `min_samples_leaf` - the min number of sampels a leaf node must have.\n",
    "- `min_weight_fraction_leaf` - min_samples_leaf over the total number of weighted instances.\n",
    "- `max_leaf_nodes`- the max number of leaf nodes.\n",
    "- `max_features` - the max number of features that are evaluated for splitting at each node.\n",
    "\n",
    "**Increasing *min* parameters or reducing *max* parameters will regularize the model**."
   ]
  },
  {
   "cell_type": "markdown",
   "metadata": {},
   "source": [
    "## Train a DecisionTreeClassifier on adult data"
   ]
  },
  {
   "cell_type": "markdown",
   "metadata": {},
   "source": [
    "Load a pre-cleaned data from `train_adult.pkl` and `test_adult.pkl` files. If you are reusing same train and test datasets for different algorithms, you can just pre-process the dataset **once** and re-use it for all algorithms. In this case, I've stored the pre-processed data in the **Naïve Bayes Classifier** notebook."
   ]
  },
  {
   "cell_type": "code",
   "execution_count": 15,
   "metadata": {},
   "outputs": [],
   "source": [
    "# load a pre-cleaned training data. Look at 'Naïve Bayes Classifier' notebook for preprocessing.\n",
    "import pickle\n",
    "\n",
    "with open('../data/train_adult.pkl','rb') as f:\n",
    "    train_data = pickle.load(f)\n",
    "    X_train = train_data['X']\n",
    "    y_train = train_data['y']"
   ]
  },
  {
   "cell_type": "code",
   "execution_count": 16,
   "metadata": {},
   "outputs": [],
   "source": [
    "# load a pre-cleaned test data.\n",
    "\n",
    "with open('../data/test_adult.pkl', 'rb') as f:\n",
    "    test_data = pickle.load(f)\n",
    "    X_test = test_data['X']\n",
    "    y_test = test_data['y']"
   ]
  },
  {
   "cell_type": "markdown",
   "metadata": {},
   "source": [
    "Check the datasets."
   ]
  },
  {
   "cell_type": "code",
   "execution_count": 17,
   "metadata": {},
   "outputs": [
    {
     "data": {
      "text/html": [
       "<div>\n",
       "<style scoped>\n",
       "    .dataframe tbody tr th:only-of-type {\n",
       "        vertical-align: middle;\n",
       "    }\n",
       "\n",
       "    .dataframe tbody tr th {\n",
       "        vertical-align: top;\n",
       "    }\n",
       "\n",
       "    .dataframe thead tr th {\n",
       "        text-align: left;\n",
       "    }\n",
       "</style>\n",
       "<table border=\"1\" class=\"dataframe\">\n",
       "  <thead>\n",
       "    <tr>\n",
       "      <th></th>\n",
       "      <th>Age</th>\n",
       "      <th>Workclass_1</th>\n",
       "      <th>Workclass_2</th>\n",
       "      <th>Workclass_3</th>\n",
       "      <th>Workclass_4</th>\n",
       "      <th>Workclass_5</th>\n",
       "      <th>Workclass_6</th>\n",
       "      <th>Workclass_7</th>\n",
       "      <th>Workclass_8</th>\n",
       "      <th>ID</th>\n",
       "      <th>...</th>\n",
       "      <th>Country_32</th>\n",
       "      <th>Country_33</th>\n",
       "      <th>Country_34</th>\n",
       "      <th>Country_35</th>\n",
       "      <th>Country_36</th>\n",
       "      <th>Country_37</th>\n",
       "      <th>Country_38</th>\n",
       "      <th>Country_39</th>\n",
       "      <th>Country_40</th>\n",
       "      <th>Country_41</th>\n",
       "    </tr>\n",
       "  </thead>\n",
       "  <tbody>\n",
       "    <tr>\n",
       "      <th>0</th>\n",
       "      <td>-0.25</td>\n",
       "      <td>0.0</td>\n",
       "      <td>0.0</td>\n",
       "      <td>0.0</td>\n",
       "      <td>0.0</td>\n",
       "      <td>0.0</td>\n",
       "      <td>0.0</td>\n",
       "      <td>0.0</td>\n",
       "      <td>0.0</td>\n",
       "      <td>4.649359</td>\n",
       "      <td>...</td>\n",
       "      <td>0.0</td>\n",
       "      <td>0.0</td>\n",
       "      <td>0.0</td>\n",
       "      <td>0.0</td>\n",
       "      <td>0.0</td>\n",
       "      <td>0.0</td>\n",
       "      <td>0.0</td>\n",
       "      <td>0.0</td>\n",
       "      <td>0.0</td>\n",
       "      <td>0.0</td>\n",
       "    </tr>\n",
       "    <tr>\n",
       "      <th>1</th>\n",
       "      <td>-0.70</td>\n",
       "      <td>0.0</td>\n",
       "      <td>0.0</td>\n",
       "      <td>0.0</td>\n",
       "      <td>0.0</td>\n",
       "      <td>0.0</td>\n",
       "      <td>0.0</td>\n",
       "      <td>0.0</td>\n",
       "      <td>0.0</td>\n",
       "      <td>-0.886948</td>\n",
       "      <td>...</td>\n",
       "      <td>0.0</td>\n",
       "      <td>0.0</td>\n",
       "      <td>0.0</td>\n",
       "      <td>0.0</td>\n",
       "      <td>0.0</td>\n",
       "      <td>0.0</td>\n",
       "      <td>0.0</td>\n",
       "      <td>0.0</td>\n",
       "      <td>0.0</td>\n",
       "      <td>0.0</td>\n",
       "    </tr>\n",
       "    <tr>\n",
       "      <th>2</th>\n",
       "      <td>-0.20</td>\n",
       "      <td>0.0</td>\n",
       "      <td>0.0</td>\n",
       "      <td>0.0</td>\n",
       "      <td>0.0</td>\n",
       "      <td>0.0</td>\n",
       "      <td>0.0</td>\n",
       "      <td>0.0</td>\n",
       "      <td>0.0</td>\n",
       "      <td>-0.130124</td>\n",
       "      <td>...</td>\n",
       "      <td>0.0</td>\n",
       "      <td>0.0</td>\n",
       "      <td>0.0</td>\n",
       "      <td>0.0</td>\n",
       "      <td>0.0</td>\n",
       "      <td>0.0</td>\n",
       "      <td>0.0</td>\n",
       "      <td>0.0</td>\n",
       "      <td>0.0</td>\n",
       "      <td>0.0</td>\n",
       "    </tr>\n",
       "    <tr>\n",
       "      <th>3</th>\n",
       "      <td>0.95</td>\n",
       "      <td>-1.0</td>\n",
       "      <td>1.0</td>\n",
       "      <td>0.0</td>\n",
       "      <td>0.0</td>\n",
       "      <td>0.0</td>\n",
       "      <td>0.0</td>\n",
       "      <td>0.0</td>\n",
       "      <td>0.0</td>\n",
       "      <td>0.078743</td>\n",
       "      <td>...</td>\n",
       "      <td>0.0</td>\n",
       "      <td>0.0</td>\n",
       "      <td>0.0</td>\n",
       "      <td>0.0</td>\n",
       "      <td>0.0</td>\n",
       "      <td>0.0</td>\n",
       "      <td>0.0</td>\n",
       "      <td>0.0</td>\n",
       "      <td>0.0</td>\n",
       "      <td>0.0</td>\n",
       "    </tr>\n",
       "    <tr>\n",
       "      <th>4</th>\n",
       "      <td>0.65</td>\n",
       "      <td>0.0</td>\n",
       "      <td>0.0</td>\n",
       "      <td>0.0</td>\n",
       "      <td>0.0</td>\n",
       "      <td>0.0</td>\n",
       "      <td>0.0</td>\n",
       "      <td>0.0</td>\n",
       "      <td>0.0</td>\n",
       "      <td>-1.131533</td>\n",
       "      <td>...</td>\n",
       "      <td>0.0</td>\n",
       "      <td>0.0</td>\n",
       "      <td>0.0</td>\n",
       "      <td>0.0</td>\n",
       "      <td>0.0</td>\n",
       "      <td>0.0</td>\n",
       "      <td>0.0</td>\n",
       "      <td>0.0</td>\n",
       "      <td>0.0</td>\n",
       "      <td>0.0</td>\n",
       "    </tr>\n",
       "  </tbody>\n",
       "</table>\n",
       "<p>5 rows × 105 columns</p>\n",
       "</div>"
      ],
      "text/plain": [
       "    Age Workclass_1 Workclass_2 Workclass_3 Workclass_4 Workclass_5  \\\n",
       "0 -0.25         0.0         0.0         0.0         0.0         0.0   \n",
       "1 -0.70         0.0         0.0         0.0         0.0         0.0   \n",
       "2 -0.20         0.0         0.0         0.0         0.0         0.0   \n",
       "3  0.95        -1.0         1.0         0.0         0.0         0.0   \n",
       "4  0.65         0.0         0.0         0.0         0.0         0.0   \n",
       "\n",
       "  Workclass_6 Workclass_7 Workclass_8        ID    ...     Country_32  \\\n",
       "0         0.0         0.0         0.0  4.649359    ...            0.0   \n",
       "1         0.0         0.0         0.0 -0.886948    ...            0.0   \n",
       "2         0.0         0.0         0.0 -0.130124    ...            0.0   \n",
       "3         0.0         0.0         0.0  0.078743    ...            0.0   \n",
       "4         0.0         0.0         0.0 -1.131533    ...            0.0   \n",
       "\n",
       "  Country_33 Country_34 Country_35 Country_36 Country_37 Country_38  \\\n",
       "0        0.0        0.0        0.0        0.0        0.0        0.0   \n",
       "1        0.0        0.0        0.0        0.0        0.0        0.0   \n",
       "2        0.0        0.0        0.0        0.0        0.0        0.0   \n",
       "3        0.0        0.0        0.0        0.0        0.0        0.0   \n",
       "4        0.0        0.0        0.0        0.0        0.0        0.0   \n",
       "\n",
       "  Country_39 Country_40 Country_41  \n",
       "0        0.0        0.0        0.0  \n",
       "1        0.0        0.0        0.0  \n",
       "2        0.0        0.0        0.0  \n",
       "3        0.0        0.0        0.0  \n",
       "4        0.0        0.0        0.0  \n",
       "\n",
       "[5 rows x 105 columns]"
      ]
     },
     "execution_count": 17,
     "metadata": {},
     "output_type": "execute_result"
    }
   ],
   "source": [
    "X_train.head()"
   ]
  },
  {
   "cell_type": "code",
   "execution_count": 18,
   "metadata": {},
   "outputs": [
    {
     "data": {
      "text/html": [
       "<div>\n",
       "<style scoped>\n",
       "    .dataframe tbody tr th:only-of-type {\n",
       "        vertical-align: middle;\n",
       "    }\n",
       "\n",
       "    .dataframe tbody tr th {\n",
       "        vertical-align: top;\n",
       "    }\n",
       "\n",
       "    .dataframe thead tr th {\n",
       "        text-align: left;\n",
       "    }\n",
       "</style>\n",
       "<table border=\"1\" class=\"dataframe\">\n",
       "  <thead>\n",
       "    <tr>\n",
       "      <th></th>\n",
       "      <th>Age</th>\n",
       "      <th>Workclass_1</th>\n",
       "      <th>Workclass_2</th>\n",
       "      <th>Workclass_3</th>\n",
       "      <th>Workclass_4</th>\n",
       "      <th>Workclass_5</th>\n",
       "      <th>Workclass_6</th>\n",
       "      <th>Workclass_7</th>\n",
       "      <th>Workclass_8</th>\n",
       "      <th>ID</th>\n",
       "      <th>...</th>\n",
       "      <th>Country_32</th>\n",
       "      <th>Country_33</th>\n",
       "      <th>Country_34</th>\n",
       "      <th>Country_35</th>\n",
       "      <th>Country_36</th>\n",
       "      <th>Country_37</th>\n",
       "      <th>Country_38</th>\n",
       "      <th>Country_39</th>\n",
       "      <th>Country_40</th>\n",
       "      <th>Country_41</th>\n",
       "    </tr>\n",
       "  </thead>\n",
       "  <tbody>\n",
       "    <tr>\n",
       "      <th>0</th>\n",
       "      <td>0.051948</td>\n",
       "      <td>0.0</td>\n",
       "      <td>0.0</td>\n",
       "      <td>0.0</td>\n",
       "      <td>0.0</td>\n",
       "      <td>0.0</td>\n",
       "      <td>0.0</td>\n",
       "      <td>0.0</td>\n",
       "      <td>0.0</td>\n",
       "      <td>4.193259</td>\n",
       "      <td>...</td>\n",
       "      <td>0.0</td>\n",
       "      <td>0.0</td>\n",
       "      <td>0.0</td>\n",
       "      <td>0.0</td>\n",
       "      <td>0.0</td>\n",
       "      <td>0.0</td>\n",
       "      <td>0.0</td>\n",
       "      <td>0.0</td>\n",
       "      <td>0.0</td>\n",
       "      <td>0.0</td>\n",
       "    </tr>\n",
       "    <tr>\n",
       "      <th>1</th>\n",
       "      <td>0.415584</td>\n",
       "      <td>-1.0</td>\n",
       "      <td>0.0</td>\n",
       "      <td>0.0</td>\n",
       "      <td>0.0</td>\n",
       "      <td>0.0</td>\n",
       "      <td>1.0</td>\n",
       "      <td>0.0</td>\n",
       "      <td>0.0</td>\n",
       "      <td>-1.065147</td>\n",
       "      <td>...</td>\n",
       "      <td>0.0</td>\n",
       "      <td>0.0</td>\n",
       "      <td>0.0</td>\n",
       "      <td>0.0</td>\n",
       "      <td>0.0</td>\n",
       "      <td>0.0</td>\n",
       "      <td>0.0</td>\n",
       "      <td>0.0</td>\n",
       "      <td>0.0</td>\n",
       "      <td>0.0</td>\n",
       "    </tr>\n",
       "    <tr>\n",
       "      <th>2</th>\n",
       "      <td>-0.415584</td>\n",
       "      <td>0.0</td>\n",
       "      <td>0.0</td>\n",
       "      <td>0.0</td>\n",
       "      <td>0.0</td>\n",
       "      <td>0.0</td>\n",
       "      <td>0.0</td>\n",
       "      <td>0.0</td>\n",
       "      <td>0.0</td>\n",
       "      <td>0.064818</td>\n",
       "      <td>...</td>\n",
       "      <td>0.0</td>\n",
       "      <td>0.0</td>\n",
       "      <td>0.0</td>\n",
       "      <td>0.0</td>\n",
       "      <td>0.0</td>\n",
       "      <td>0.0</td>\n",
       "      <td>0.0</td>\n",
       "      <td>0.0</td>\n",
       "      <td>0.0</td>\n",
       "      <td>0.0</td>\n",
       "    </tr>\n",
       "    <tr>\n",
       "      <th>3</th>\n",
       "      <td>0.727273</td>\n",
       "      <td>0.0</td>\n",
       "      <td>0.0</td>\n",
       "      <td>0.0</td>\n",
       "      <td>0.0</td>\n",
       "      <td>0.0</td>\n",
       "      <td>0.0</td>\n",
       "      <td>0.0</td>\n",
       "      <td>0.0</td>\n",
       "      <td>1.068370</td>\n",
       "      <td>...</td>\n",
       "      <td>0.0</td>\n",
       "      <td>0.0</td>\n",
       "      <td>0.0</td>\n",
       "      <td>0.0</td>\n",
       "      <td>0.0</td>\n",
       "      <td>0.0</td>\n",
       "      <td>0.0</td>\n",
       "      <td>0.0</td>\n",
       "      <td>0.0</td>\n",
       "      <td>0.0</td>\n",
       "    </tr>\n",
       "    <tr>\n",
       "      <th>4</th>\n",
       "      <td>0.467532</td>\n",
       "      <td>0.0</td>\n",
       "      <td>0.0</td>\n",
       "      <td>0.0</td>\n",
       "      <td>0.0</td>\n",
       "      <td>0.0</td>\n",
       "      <td>0.0</td>\n",
       "      <td>0.0</td>\n",
       "      <td>0.0</td>\n",
       "      <td>-0.451461</td>\n",
       "      <td>...</td>\n",
       "      <td>0.0</td>\n",
       "      <td>0.0</td>\n",
       "      <td>0.0</td>\n",
       "      <td>0.0</td>\n",
       "      <td>0.0</td>\n",
       "      <td>0.0</td>\n",
       "      <td>0.0</td>\n",
       "      <td>0.0</td>\n",
       "      <td>0.0</td>\n",
       "      <td>0.0</td>\n",
       "    </tr>\n",
       "  </tbody>\n",
       "</table>\n",
       "<p>5 rows × 105 columns</p>\n",
       "</div>"
      ],
      "text/plain": [
       "        Age Workclass_1 Workclass_2 Workclass_3 Workclass_4 Workclass_5  \\\n",
       "0  0.051948         0.0         0.0         0.0         0.0         0.0   \n",
       "1  0.415584        -1.0         0.0         0.0         0.0         0.0   \n",
       "2 -0.415584         0.0         0.0         0.0         0.0         0.0   \n",
       "3  0.727273         0.0         0.0         0.0         0.0         0.0   \n",
       "4  0.467532         0.0         0.0         0.0         0.0         0.0   \n",
       "\n",
       "  Workclass_6 Workclass_7 Workclass_8        ID    ...     Country_32  \\\n",
       "0         0.0         0.0         0.0  4.193259    ...            0.0   \n",
       "1         1.0         0.0         0.0 -1.065147    ...            0.0   \n",
       "2         0.0         0.0         0.0  0.064818    ...            0.0   \n",
       "3         0.0         0.0         0.0  1.068370    ...            0.0   \n",
       "4         0.0         0.0         0.0 -0.451461    ...            0.0   \n",
       "\n",
       "  Country_33 Country_34 Country_35 Country_36 Country_37 Country_38  \\\n",
       "0        0.0        0.0        0.0        0.0        0.0        0.0   \n",
       "1        0.0        0.0        0.0        0.0        0.0        0.0   \n",
       "2        0.0        0.0        0.0        0.0        0.0        0.0   \n",
       "3        0.0        0.0        0.0        0.0        0.0        0.0   \n",
       "4        0.0        0.0        0.0        0.0        0.0        0.0   \n",
       "\n",
       "  Country_39 Country_40 Country_41  \n",
       "0        0.0        0.0        0.0  \n",
       "1        0.0        0.0        0.0  \n",
       "2        0.0        0.0        0.0  \n",
       "3        0.0        0.0        0.0  \n",
       "4        0.0        0.0        0.0  \n",
       "\n",
       "[5 rows x 105 columns]"
      ]
     },
     "execution_count": 18,
     "metadata": {},
     "output_type": "execute_result"
    }
   ],
   "source": [
    "X_test.head()"
   ]
  },
  {
   "cell_type": "markdown",
   "metadata": {},
   "source": [
    "## Finding a best tree depth with KFold Cross Validation\n",
    "\n",
    "As we discussed above, for training a *DecisionTreeClassifier* model on real data, we have to find a suitable depth of the tree. A good way to find the best value for this parameter is just iterating through all the possible depths and measure the accuracy with [Cross Validation](https://en.wikipedia.org/wiki/Cross-validation_(statistics)).\n",
    "\n",
    "<img src=\"../data/k-fold-cv.png\"> </img>\n",
    "\n",
    "*Cross Validation* is a model validation technique that splits the training dataset in a given number of \"folds\". Each split uses different train and test datasets, which allows the model to be trained and validated on different data at each iteration. The disadvantage of such an approach is that the model has to be trained and validated on each fold, and therefore this method is computationally expensive.\n",
    "\n",
    "The simplest way to use cross-validation is to call `sklearn.model_selection.cross_val_score` helper function on the estimator and the dataset."
   ]
  },
  {
   "cell_type": "code",
   "execution_count": 19,
   "metadata": {},
   "outputs": [],
   "source": [
    "from sklearn.model_selection import KFold, cross_val_score\n",
    "from sklearn.metrics import accuracy_score"
   ]
  },
  {
   "cell_type": "markdown",
   "metadata": {},
   "source": [
    "The following code we see how Cross validation is used to split the training data, fit a model and computing the score with each fold. When the `cv` parameter is specified as an integer, `cross_val_score` uses **KFold** strategies by default. \n",
    "\n",
    "[KFold](https://scikit-learn.org/stable/modules/generated/sklearn.model_selection.KFold.html#sklearn.model_selection.KFold) divides all the samples in $k$ groups of samples. The prediction function is learned using $k-1$ folds, and the fold left out is used for test. **See figure above.**"
   ]
  },
  {
   "cell_type": "code",
   "execution_count": 20,
   "metadata": {},
   "outputs": [
    {
     "name": "stdout",
     "output_type": "stream",
     "text": [
      "1 [0.7600351  0.7600351  0.76020184 0.76020184 0.75998245] mean score: 0.7601\n",
      "2 [0.83044527 0.831542   0.82799473 0.83194384 0.82492321] mean score: 0.8294\n",
      "3 [0.84645756 0.84930906 0.84335235 0.84181659 0.84203598] mean score: 0.8446\n",
      "4 [0.84623821 0.85237991 0.84269416 0.84181659 0.84203598] mean score: 0.8450\n",
      "5 [0.85150252 0.86246984 0.8490566  0.84795963 0.84488811] mean score: 0.8512\n",
      "6 [0.85457337 0.86159245 0.85103115 0.85168934 0.84949539] mean score: 0.8537\n",
      "7 [0.85347664 0.86225049 0.85037297 0.84949539 0.85234752] mean score: 0.8536\n",
      "8 [0.84777363 0.86400526 0.85081176 0.85103115 0.85212813] mean score: 0.8531\n",
      "9 [0.8466769  0.86203115 0.84839842 0.85125055 0.85059237] mean score: 0.8518\n",
      "10 [0.84579952 0.85435403 0.8490566  0.8453269  0.85015358] mean score: 0.8489\n",
      "11 [0.84492213 0.8528186  0.84752084 0.84839842 0.85015358] mean score: 0.8488\n",
      "12 [0.8438254  0.84908971 0.85037297 0.84774024 0.84883721] mean score: 0.8480\n",
      "13 [0.8409739  0.85018644 0.84642387 0.84093901 0.85015358] mean score: 0.8457\n",
      "14 [0.8409739  0.85172187 0.84598508 0.84159719 0.84949539] mean score: 0.8460\n",
      "Wall time: 26.9 s\n"
     ]
    }
   ],
   "source": [
    "%%time\n",
    "n_fold = 5\n",
    "max_depth_range = range(1,15)\n",
    "accuracies = []\n",
    "\n",
    "for depth in max_depth_range:\n",
    "    trainer = DecisionTreeClassifier(max_depth=depth)\n",
    "    \n",
    "    scores = cross_val_score(trainer, X_train, y_train, cv=n_fold)\n",
    "    accuracies.append(sum(scores) / len(scores))\n",
    "    print(depth, scores, f'mean score: {sum(scores) / len(scores):.4f}')"
   ]
  },
  {
   "cell_type": "code",
   "execution_count": 21,
   "metadata": {
    "scrolled": true
   },
   "outputs": [
    {
     "data": {
      "text/html": [
       "<div>\n",
       "<style scoped>\n",
       "    .dataframe tbody tr th:only-of-type {\n",
       "        vertical-align: middle;\n",
       "    }\n",
       "\n",
       "    .dataframe tbody tr th {\n",
       "        vertical-align: top;\n",
       "    }\n",
       "\n",
       "    .dataframe thead th {\n",
       "        text-align: right;\n",
       "    }\n",
       "</style>\n",
       "<table border=\"1\" class=\"dataframe\">\n",
       "  <thead>\n",
       "    <tr style=\"text-align: right;\">\n",
       "      <th></th>\n",
       "      <th>max_depth</th>\n",
       "      <th>accuracy</th>\n",
       "    </tr>\n",
       "  </thead>\n",
       "  <tbody>\n",
       "    <tr>\n",
       "      <th>0</th>\n",
       "      <td>1</td>\n",
       "      <td>0.760091</td>\n",
       "    </tr>\n",
       "    <tr>\n",
       "      <th>1</th>\n",
       "      <td>2</td>\n",
       "      <td>0.829370</td>\n",
       "    </tr>\n",
       "    <tr>\n",
       "      <th>2</th>\n",
       "      <td>3</td>\n",
       "      <td>0.844594</td>\n",
       "    </tr>\n",
       "    <tr>\n",
       "      <th>3</th>\n",
       "      <td>4</td>\n",
       "      <td>0.845033</td>\n",
       "    </tr>\n",
       "    <tr>\n",
       "      <th>4</th>\n",
       "      <td>5</td>\n",
       "      <td>0.851175</td>\n",
       "    </tr>\n",
       "    <tr>\n",
       "      <th>5</th>\n",
       "      <td>6</td>\n",
       "      <td>0.853676</td>\n",
       "    </tr>\n",
       "    <tr>\n",
       "      <th>6</th>\n",
       "      <td>7</td>\n",
       "      <td>0.853589</td>\n",
       "    </tr>\n",
       "    <tr>\n",
       "      <th>7</th>\n",
       "      <td>8</td>\n",
       "      <td>0.853150</td>\n",
       "    </tr>\n",
       "    <tr>\n",
       "      <th>8</th>\n",
       "      <td>9</td>\n",
       "      <td>0.851790</td>\n",
       "    </tr>\n",
       "    <tr>\n",
       "      <th>9</th>\n",
       "      <td>10</td>\n",
       "      <td>0.848938</td>\n",
       "    </tr>\n",
       "    <tr>\n",
       "      <th>10</th>\n",
       "      <td>11</td>\n",
       "      <td>0.848763</td>\n",
       "    </tr>\n",
       "    <tr>\n",
       "      <th>11</th>\n",
       "      <td>12</td>\n",
       "      <td>0.847973</td>\n",
       "    </tr>\n",
       "    <tr>\n",
       "      <th>12</th>\n",
       "      <td>13</td>\n",
       "      <td>0.845735</td>\n",
       "    </tr>\n",
       "    <tr>\n",
       "      <th>13</th>\n",
       "      <td>14</td>\n",
       "      <td>0.845955</td>\n",
       "    </tr>\n",
       "  </tbody>\n",
       "</table>\n",
       "</div>"
      ],
      "text/plain": [
       "    max_depth  accuracy\n",
       "0           1  0.760091\n",
       "1           2  0.829370\n",
       "2           3  0.844594\n",
       "3           4  0.845033\n",
       "4           5  0.851175\n",
       "5           6  0.853676\n",
       "6           7  0.853589\n",
       "7           8  0.853150\n",
       "8           9  0.851790\n",
       "9          10  0.848938\n",
       "10         11  0.848763\n",
       "11         12  0.847973\n",
       "12         13  0.845735\n",
       "13         14  0.845955"
      ]
     },
     "execution_count": 21,
     "metadata": {},
     "output_type": "execute_result"
    }
   ],
   "source": [
    "# Check accuracies\n",
    "pd.DataFrame({'max_depth': max_depth_range, 'accuracy': accuracies}).head(n=len(accuracies))"
   ]
  },
  {
   "cell_type": "markdown",
   "metadata": {},
   "source": [
    "### Leave One Out (LOO)\n",
    "\n",
    "`LeaveOneOut` is a simple cross-validation. Each learning set is created by taking all the samples except one, the test set being the sample left out. Therefore, for $n$ samples, we have $n$ different training sets and $n$ different test sets. \n",
    "\n",
    "An example is as follows."
   ]
  },
  {
   "cell_type": "code",
   "execution_count": 22,
   "metadata": {},
   "outputs": [],
   "source": [
    "from sklearn.model_selection import LeaveOneOut"
   ]
  },
  {
   "cell_type": "code",
   "execution_count": 23,
   "metadata": {
    "scrolled": true
   },
   "outputs": [
    {
     "name": "stdout",
     "output_type": "stream",
     "text": [
      "[1 2 3 4] [0]\n",
      "[0 2 3 4] [1]\n",
      "[0 1 3 4] [2]\n",
      "[0 1 2 4] [3]\n",
      "[0 1 2 3] [4]\n"
     ]
    }
   ],
   "source": [
    "X = [i for i in range(5)]\n",
    "loo = LeaveOneOut()\n",
    "for train, test in loo.split(X):\n",
    "    print(f'{train} {test}')"
   ]
  },
  {
   "cell_type": "markdown",
   "metadata": {},
   "source": [
    "<div class=\"alert alert-block alert-success\">\n",
    "    <b> EXCERCISE </b>\n",
    "    \n",
    "   <ul>\n",
    "    <li> Can you find the best Decision Tree model for the above data using LeaveOneOut validation? </li>\n",
    "    <li> Tune other parameters above and try to come up with a <tt> best model </tt> for this data. What is the best accuracy you can achieve? </li>\n",
    "    </ul>\n",
    "</div>"
   ]
  },
  {
   "cell_type": "markdown",
   "metadata": {},
   "source": [
    "Using KFold, the best `max_depth` parameter appears to be 7 (85.35% mean accuracy). If we increase the depth even more, a drop in accuracy is noticed. Therefore, `max_depth=7` seems to be a good estimate."
   ]
  },
  {
   "cell_type": "code",
   "execution_count": 24,
   "metadata": {},
   "outputs": [
    {
     "name": "stdout",
     "output_type": "stream",
     "text": [
      "Test accuracy: 0.8383\n"
     ]
    }
   ],
   "source": [
    "# Visualize the best model\n",
    "trainer = DecisionTreeClassifier(max_depth=7)\n",
    "trainer.fit(X_train,y_train)\n",
    "\n",
    "y_pred = trainer.predict(X_test)\n",
    "\n",
    "print(f'Test accuracy: {accuracy_score(y_test, y_pred):.4f}')\n",
    "\n",
    "# tree.plot_tree(trainer, max_depth=3, \n",
    "#                    feature_names=X_train.columns,\n",
    "#                    class_names=['>=50k', '<50k'],\n",
    "#                    rounded=True,\n",
    "#                    filled=True)"
   ]
  },
  {
   "cell_type": "markdown",
   "metadata": {},
   "source": [
    "Plot the confusion matrix."
   ]
  },
  {
   "cell_type": "code",
   "execution_count": 25,
   "metadata": {},
   "outputs": [
    {
     "data": {
      "text/plain": [
       "<matplotlib.axes._subplots.AxesSubplot at 0xceaa750>"
      ]
     },
     "execution_count": 25,
     "metadata": {},
     "output_type": "execute_result"
    },
    {
     "data": {
      "image/png": "[encoded data removed]",
      "text/plain": [
       "<Figure size 600x400 with 2 Axes>"
      ]
     },
     "metadata": {
      "needs_background": "light"
     },
     "output_type": "display_data"
    }
   ],
   "source": [
    "from sklearn.metrics import confusion_matrix\n",
    "\n",
    "cm = confusion_matrix(y_test, y_pred)\n",
    "sns.heatmap(cm/np.sum(cm), fmt='.2%', xticklabels=['<=50k','>50k'], yticklabels=['<=50k','>50k'], annot=True)"
   ]
  }
 ],
 "metadata": {
  "kernelspec": {
   "display_name": "Python 3",
   "language": "python",
   "name": "python3"
  },
  "language_info": {
   "codemirror_mode": {
    "name": "ipython",
    "version": 3
   },
   "file_extension": ".py",
   "mimetype": "text/x-python",
   "name": "python",
   "nbconvert_exporter": "python",
   "pygments_lexer": "ipython3",
   "version": "3.7.2"
  }
 },
 "nbformat": 4,
 "nbformat_minor": 2
}
