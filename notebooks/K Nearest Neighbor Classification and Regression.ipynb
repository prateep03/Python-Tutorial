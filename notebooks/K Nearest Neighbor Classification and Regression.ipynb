{
 "cells": [
  {
   "cell_type": "markdown",
   "metadata": {},
   "source": [
    "*K-Nearest Neighbor (KNN)* is a very simple, versatile and one of the most frequently used ML algorithms. KNN is used in a variety of applications, like finance, healthcare, political science, image and video recognition. KNN algorithm is used for both classification and regression problems.\n",
    "\n",
    "The principle behind nearest neighbor methods is to find a predefined number of training samples closest in distance to the new point, and predict the label from these. The number of samples can be a user-defined constant(*k-nearest neighbor* learning) or vary based on the local density of points(*Kernel Density Estimation* methods). "
   ]
  },
  {
   "cell_type": "markdown",
   "metadata": {},
   "source": [
    "# KNN Classification\n",
    "\n",
    "Neighbors-based classification is a type of *instance-based learning* or *non-generalizing learning*: it does not attempt to construct a general internal model, but simply stores instances of the training data. Classification is computed from a simple majority vote of the nearest neighbors of each point: a query point is assigned the data class which has the most representatives within the nearest neighbors of the point.\n",
    "\n",
    "<img src=\"../data/KNN.png\"> </img>"
   ]
  },
  {
   "cell_type": "markdown",
   "metadata": {},
   "source": [
    "`scitkit-learn` implements two different nearest neighbor classifiers: `KNeighborsClassifier` implements learning based on the $k$ nearest neighbors of each query point. `RadiusNeighborsClassifier` implements learning based on the number of neighbors within a fixed radius $r$ of each training point, where $r$ is user-specified."
   ]
  },
  {
   "cell_type": "markdown",
   "metadata": {},
   "source": [
    "In cases where the data is not uniformyl sampled, radius-based neighbors classification in `RadiusNeighborsClassifer` can be a better choice. The user specifies a fixed radius $r$, such that points in sparser neighborhoods use fewer nearest neighbors for classification."
   ]
  },
  {
   "cell_type": "markdown",
   "metadata": {},
   "source": [
    "The basic nearest neighbor classification uses uniform weights, the value assigned to a query point is computed from a simple majority vote of the nearest neighbors. The default value, `weights = 'uniform'`, assigns uniform weights to each neighbor. Under some circumstances, weighted neighbors can be a better fit. `weights = 'distance'` assigns weights proportional to the inverse of the distance from the query point. Alternatively, a user-defined function can be supplied to compute the weights.\n",
    "\n",
    "Lets now see a demo."
   ]
  },
  {
   "cell_type": "code",
   "execution_count": 1,
   "metadata": {},
   "outputs": [],
   "source": [
    "# Import libraries\n",
    "\n",
    "import numpy as np\n",
    "import pandas as pd\n",
    "from matplotlib import pyplot as plt\n",
    "from matplotlib.colors import ListedColormap\n",
    "%matplotlib inline\n",
    "\n",
    "from sklearn import neighbors, datasets"
   ]
  },
  {
   "cell_type": "code",
   "execution_count": 2,
   "metadata": {},
   "outputs": [],
   "source": [
    "# Plot properties.\n",
    "plt.rcParams['figure.dpi'] = 100\n",
    "plt.rcParams['lines.linewidth'] = 2\n",
    "plt.rcParams['axes.axisbelow'] = True\n",
    "plt.rcParams['axes.titlesize'] = 20"
   ]
  },
  {
   "cell_type": "code",
   "execution_count": 3,
   "metadata": {},
   "outputs": [],
   "source": [
    "# Load good-ol iris dataset.\n",
    "iris = datasets.load_iris()"
   ]
  },
  {
   "cell_type": "code",
   "execution_count": 4,
   "metadata": {},
   "outputs": [
    {
     "data": {
      "text/html": [
       "<div>\n",
       "<style scoped>\n",
       "    .dataframe tbody tr th:only-of-type {\n",
       "        vertical-align: middle;\n",
       "    }\n",
       "\n",
       "    .dataframe tbody tr th {\n",
       "        vertical-align: top;\n",
       "    }\n",
       "\n",
       "    .dataframe thead th {\n",
       "        text-align: right;\n",
       "    }\n",
       "</style>\n",
       "<table border=\"1\" class=\"dataframe\">\n",
       "  <thead>\n",
       "    <tr style=\"text-align: right;\">\n",
       "      <th></th>\n",
       "      <th>sepal length (cm)</th>\n",
       "      <th>sepal width (cm)</th>\n",
       "      <th>petal length (cm)</th>\n",
       "      <th>petal width (cm)</th>\n",
       "    </tr>\n",
       "  </thead>\n",
       "  <tbody>\n",
       "    <tr>\n",
       "      <th>0</th>\n",
       "      <td>5.1</td>\n",
       "      <td>3.5</td>\n",
       "      <td>1.4</td>\n",
       "      <td>0.2</td>\n",
       "    </tr>\n",
       "    <tr>\n",
       "      <th>1</th>\n",
       "      <td>4.9</td>\n",
       "      <td>3.0</td>\n",
       "      <td>1.4</td>\n",
       "      <td>0.2</td>\n",
       "    </tr>\n",
       "    <tr>\n",
       "      <th>2</th>\n",
       "      <td>4.7</td>\n",
       "      <td>3.2</td>\n",
       "      <td>1.3</td>\n",
       "      <td>0.2</td>\n",
       "    </tr>\n",
       "    <tr>\n",
       "      <th>3</th>\n",
       "      <td>4.6</td>\n",
       "      <td>3.1</td>\n",
       "      <td>1.5</td>\n",
       "      <td>0.2</td>\n",
       "    </tr>\n",
       "    <tr>\n",
       "      <th>4</th>\n",
       "      <td>5.0</td>\n",
       "      <td>3.6</td>\n",
       "      <td>1.4</td>\n",
       "      <td>0.2</td>\n",
       "    </tr>\n",
       "  </tbody>\n",
       "</table>\n",
       "</div>"
      ],
      "text/plain": [
       "   sepal length (cm)  sepal width (cm)  petal length (cm)  petal width (cm)\n",
       "0                5.1               3.5                1.4               0.2\n",
       "1                4.9               3.0                1.4               0.2\n",
       "2                4.7               3.2                1.3               0.2\n",
       "3                4.6               3.1                1.5               0.2\n",
       "4                5.0               3.6                1.4               0.2"
      ]
     },
     "execution_count": 4,
     "metadata": {},
     "output_type": "execute_result"
    }
   ],
   "source": [
    "# Lets look at the dataframe.\n",
    "df = pd.DataFrame(iris.data, columns=iris.feature_names)\n",
    "df.head()"
   ]
  },
  {
   "cell_type": "markdown",
   "metadata": {},
   "source": [
    "For demo purposes, we will take only the first two features, that is **sepal length** and **sepal width**."
   ]
  },
  {
   "cell_type": "code",
   "execution_count": 5,
   "metadata": {},
   "outputs": [],
   "source": [
    "X = iris.data[:, :2]\n",
    "y = iris.target"
   ]
  },
  {
   "cell_type": "code",
   "execution_count": 6,
   "metadata": {},
   "outputs": [
    {
     "data": {
      "text/plain": [
       "array(['setosa', 'versicolor', 'virginica'], dtype='<U10')"
      ]
     },
     "execution_count": 6,
     "metadata": {},
     "output_type": "execute_result"
    }
   ],
   "source": [
    "# Number of classes: 3\n",
    "iris.target_names"
   ]
  },
  {
   "cell_type": "markdown",
   "metadata": {},
   "source": [
    "## Uniform weights"
   ]
  },
  {
   "cell_type": "code",
   "execution_count": 7,
   "metadata": {},
   "outputs": [],
   "source": [
    "# Specify number of neighbors.\n",
    "n_neighbors = 20\n",
    "\n",
    "# Step size in the mesh. For visualization purpose.\n",
    "stepSize = .1"
   ]
  },
  {
   "cell_type": "code",
   "execution_count": 8,
   "metadata": {},
   "outputs": [
    {
     "data": {
      "text/plain": [
       "KNeighborsClassifier(algorithm='auto', leaf_size=30, metric='minkowski',\n",
       "           metric_params=None, n_jobs=None, n_neighbors=20, p=2,\n",
       "           weights='uniform')"
      ]
     },
     "execution_count": 8,
     "metadata": {},
     "output_type": "execute_result"
    }
   ],
   "source": [
    "trainer = neighbors.KNeighborsClassifier(n_neighbors=n_neighbors, weights='uniform')\n",
    "trainer.fit(X,y)"
   ]
  },
  {
   "cell_type": "markdown",
   "metadata": {},
   "source": [
    "Let us plot the decision boundary. "
   ]
  },
  {
   "cell_type": "code",
   "execution_count": 9,
   "metadata": {},
   "outputs": [],
   "source": [
    "x_min, x_max = X[:, 0].min() - 1, X[:, 0].max() + 1\n",
    "y_min, y_max = X[:, 1].min() - 1, X[:, 1].max() + 1\n",
    "xx, yy = np.meshgrid(np.arange(x_min, x_max, stepSize),\n",
    "                         np.arange(y_min, y_max, stepSize))"
   ]
  },
  {
   "cell_type": "code",
   "execution_count": 10,
   "metadata": {},
   "outputs": [
    {
     "data": {
      "text/plain": [
       "array([0, 0, 0, ..., 2, 2, 2])"
      ]
     },
     "execution_count": 10,
     "metadata": {},
     "output_type": "execute_result"
    }
   ],
   "source": [
    "Z = trainer.predict(np.c_[xx.ravel(), yy.ravel()])\n",
    "Z"
   ]
  },
  {
   "cell_type": "code",
   "execution_count": 11,
   "metadata": {},
   "outputs": [],
   "source": [
    "# Create color maps\n",
    "cmap_light = ListedColormap(['orange', 'cyan', 'cornflowerblue'])\n",
    "cmap_bold = ListedColormap(['darkorange', 'cyan', 'darkblue'])"
   ]
  },
  {
   "cell_type": "code",
   "execution_count": 12,
   "metadata": {},
   "outputs": [
    {
     "data": {
      "text/plain": [
       "Text(0.5, 1.0, \"3-Class Classification neighbors=20, weights='uniform'\")"
      ]
     },
     "execution_count": 12,
     "metadata": {},
     "output_type": "execute_result"
    },
    {
     "data": {
      "image/png": "[encoded data removed]",
      "text/plain": [
       "<Figure size 600x400 with 1 Axes>"
      ]
     },
     "metadata": {
      "needs_background": "light"
     },
     "output_type": "display_data"
    }
   ],
   "source": [
    "# Put the decision boundary into a color plot\n",
    "Z = Z.reshape(xx.shape)\n",
    "\n",
    "plt.pcolormesh(xx, yy, Z, cmap=cmap_light)\n",
    "\n",
    "# Next, add the training points.\n",
    "plt.scatter(X[:,0], X[:,1], c=y, cmap=cmap_bold, edgecolors='k',s=20)\n",
    "plt.xlim(xx.min(), xx.max())\n",
    "plt.ylim(yy.min(), yy.max())\n",
    "plt.xlabel('sepal length (cm)')\n",
    "plt.ylabel('sepal width (cm)')\n",
    "plt.title(f'3-Class Classification neighbors={n_neighbors}, weights=\\'uniform\\'')"
   ]
  },
  {
   "cell_type": "markdown",
   "metadata": {},
   "source": [
    "<div class=\"alert alert-warning\">\n",
    "    <b> WARNING: </b>\n",
    "     \n",
    "   <ul>\n",
    "    <li> KNN algorithms degrade with high dimensional data. More the number of dimensions more difficult it is for the algorithm to caculate distances in each dimension. </li>\n",
    "    <li> KNN algorithms suffer with large number of data points, specially with dense population. Since we are calculating distance for each query point from its neighbors, time complexity increases proportionally with more data points. </li>\n",
    "    <li> KNN is sensitive to outliers (missing values). To get better performance, outliers need to be imputed before applying KNN classification.</li>\n",
    "   </ul>\n",
    "</div>"
   ]
  },
  {
   "cell_type": "markdown",
   "metadata": {},
   "source": [
    "<div class=\"alert alert-success\">\n",
    "    <b> EXCERCISE: </b>\n",
    "    \n",
    "   <ul>\n",
    "    <li> Repeat the same experiment with <font color=\"color:red\"> RadiusNeighborsClassifier </font> and analyze the results.</li>\n",
    "    <li> Change the value of radius to get different decision boundaries.</li>\n",
    "   </ul>\n",
    "</div>"
   ]
  },
  {
   "cell_type": "markdown",
   "metadata": {},
   "source": [
    "# KNN Regression\n",
    "\n",
    "Neighbors-based regression can be used in cases where the data labels are *continuous* rather than *discrete variables*. The label assigned to a query point is computed based on the mean of the labels of its nearest neighbors.\n",
    "\n",
    "scitkit-learn implements two different nearest neighbor regressors: `KNeighborsRegressor` implements learning based on the  𝑘  nearest neighbors of each query point. `RadiusNeighborsRegressor` implements learning based on the number of neighbors within a fixed radius  𝑟  of each training point, where $𝑟$  is user-specified.\n",
    "\n",
    "The basic nearest neighbor regressor uses uniform weights, the value assigned to a query point is computed from a simple majority vote of the nearest neighbors. The default value, `weights = 'uniform'`, assigns uniform weights to each neighbor. Under some circumstances, weighted neighbors can be a better fit. `weights = 'distance'` assigns weights proportional to the inverse of the distance from the query point. Alternatively, a user-defined function can be supplied to compute the weights.\n",
    "\n",
    "Let us now see a demo."
   ]
  },
  {
   "cell_type": "code",
   "execution_count": 24,
   "metadata": {},
   "outputs": [],
   "source": [
    "# Seed random generator for reproducibility.\n",
    "np.random.seed(42)"
   ]
  },
  {
   "cell_type": "code",
   "execution_count": 75,
   "metadata": {},
   "outputs": [
    {
     "data": {
      "text/plain": [
       "array([[0.07196744],\n",
       "       [0.20364401],\n",
       "       [0.22652005],\n",
       "       [0.23001321],\n",
       "       [0.35284374],\n",
       "       [0.4891708 ],\n",
       "       [0.5803632 ],\n",
       "       [0.78218521],\n",
       "       [0.81467214],\n",
       "       [0.86600935],\n",
       "       [0.8664716 ],\n",
       "       [1.23865495],\n",
       "       [1.25121449],\n",
       "       [1.39966948],\n",
       "       [1.77986339],\n",
       "       [1.87306307],\n",
       "       [1.99252367],\n",
       "       [2.04476472],\n",
       "       [2.09800031],\n",
       "       [2.16925825],\n",
       "       [2.36735885],\n",
       "       [2.37086915],\n",
       "       [2.45807938],\n",
       "       [2.51568129],\n",
       "       [2.74613332],\n",
       "       [2.77177026],\n",
       "       [3.05860373],\n",
       "       [3.07925049],\n",
       "       [3.12929958],\n",
       "       [3.17546825],\n",
       "       [3.21209639],\n",
       "       [3.29346816],\n",
       "       [3.30098688],\n",
       "       [3.5182893 ],\n",
       "       [3.57297961],\n",
       "       [3.68948458],\n",
       "       [3.78923055],\n",
       "       [4.27730292],\n",
       "       [4.28244921],\n",
       "       [4.7743264 ]])"
      ]
     },
     "execution_count": 75,
     "metadata": {},
     "output_type": "execute_result"
    }
   ],
   "source": [
    "# Generate toy data points.\n",
    "X_train = np.sort(5 * np.random.rand(40,1), axis=0)\n",
    "X_train"
   ]
  },
  {
   "cell_type": "code",
   "execution_count": 76,
   "metadata": {},
   "outputs": [
    {
     "data": {
      "text/plain": [
       "(100, 1)"
      ]
     },
     "execution_count": 76,
     "metadata": {},
     "output_type": "execute_result"
    }
   ],
   "source": [
    "# Generate a toy test dataset.\n",
    "X_test = np.linspace(0, 5, 100)[:,np.newaxis]\n",
    "X_test.shape"
   ]
  },
  {
   "cell_type": "code",
   "execution_count": 77,
   "metadata": {},
   "outputs": [],
   "source": [
    "# Flatten the data.\n",
    "y = np.sin(X_train).ravel()\n",
    "\n",
    "# Add some noise.\n",
    "y[::5] += 1 * (0.5 - np.random.rand(8))"
   ]
  },
  {
   "cell_type": "code",
   "execution_count": 86,
   "metadata": {},
   "outputs": [],
   "source": [
    "# Number of neighbors\n",
    "n_neighbors = 5"
   ]
  },
  {
   "cell_type": "markdown",
   "metadata": {},
   "source": [
    "## Uniform weights"
   ]
  },
  {
   "cell_type": "code",
   "execution_count": 87,
   "metadata": {},
   "outputs": [
    {
     "data": {
      "text/plain": [
       "KNeighborsRegressor(algorithm='auto', leaf_size=30, metric='minkowski',\n",
       "          metric_params=None, n_jobs=None, n_neighbors=5, p=2,\n",
       "          weights='uniform')"
      ]
     },
     "execution_count": 87,
     "metadata": {},
     "output_type": "execute_result"
    }
   ],
   "source": [
    "trainer = neighbors.KNeighborsRegressor(n_neighbors=n_neighbors, weights='uniform')\n",
    "\n",
    "trainer.fit(X_train, y)"
   ]
  },
  {
   "cell_type": "code",
   "execution_count": 88,
   "metadata": {},
   "outputs": [],
   "source": [
    "Z = trainer.predict(X_test)"
   ]
  },
  {
   "cell_type": "code",
   "execution_count": 89,
   "metadata": {},
   "outputs": [
    {
     "data": {
      "text/plain": [
       "Text(0.5, 1.0, \"KNN Regression with neighbors=5, weight='uniform'\")"
      ]
     },
     "execution_count": 89,
     "metadata": {},
     "output_type": "execute_result"
    },
    {
     "data": {
      "image/png": "[encoded data removed]",
      "text/plain": [
       "<Figure size 800x600 with 1 Axes>"
      ]
     },
     "metadata": {
      "needs_background": "light"
     },
     "output_type": "display_data"
    }
   ],
   "source": [
    "# Plot the results.\n",
    "plt.figure(figsize=(8,6))\n",
    "plt.scatter(X_train, y, color='lightgreen', label='targets')\n",
    "plt.plot(X_test, Z, color='navy', label='prediction')\n",
    "plt.axis('tight')\n",
    "plt.legend()\n",
    "plt.title(f'KNN Regression with neighbors={n_neighbors}, weight=\\'uniform\\'')\n",
    "# plt.tight_layout()"
   ]
  },
  {
   "cell_type": "markdown",
   "metadata": {},
   "source": [
    "### Excercise\n",
    "\n",
    "- Try `RadiusNeighborsRegressor` and report the results.\n",
    "- Check the difference in targets and predictions. Calculate the **Root Mean Squared Error (RMSE)** on the test test."
   ]
  }
 ],
 "metadata": {
  "kernelspec": {
   "display_name": "Python 3",
   "language": "python",
   "name": "python3"
  },
  "language_info": {
   "codemirror_mode": {
    "name": "ipython",
    "version": 3
   },
   "file_extension": ".py",
   "mimetype": "text/x-python",
   "name": "python",
   "nbconvert_exporter": "python",
   "pygments_lexer": "ipython3",
   "version": "3.7.2"
  }
 },
 "nbformat": 4,
 "nbformat_minor": 2
}
