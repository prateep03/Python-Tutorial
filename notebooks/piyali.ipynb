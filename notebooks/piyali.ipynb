{
 "cells": [
  {
   "cell_type": "code",
   "execution_count": 1,
   "id": "02ea34f3-818c-4db6-802d-2da829a4a211",
   "metadata": {},
   "outputs": [],
   "source": [
    "# List: mutable\n",
    "a = [1, 2, 3, \"apple\"] # matlab: a = [1 2 3]"
   ]
  },
  {
   "cell_type": "code",
   "execution_count": 2,
   "id": "fbee901e-2efd-41b1-9d15-aeb8fd6a1584",
   "metadata": {},
   "outputs": [
    {
     "data": {
      "text/plain": [
       "1"
      ]
     },
     "execution_count": 2,
     "metadata": {},
     "output_type": "execute_result"
    }
   ],
   "source": [
    "a[0]"
   ]
  },
  {
   "cell_type": "code",
   "execution_count": 3,
   "id": "33ea1156-af47-43d3-bcbb-7081aab1ae66",
   "metadata": {},
   "outputs": [],
   "source": [
    "a[0] = 4"
   ]
  },
  {
   "cell_type": "code",
   "execution_count": 4,
   "id": "0fc0b9e5-9378-4000-9308-d694908964b6",
   "metadata": {},
   "outputs": [
    {
     "data": {
      "text/plain": [
       "[4, 2, 3, 'apple']"
      ]
     },
     "execution_count": 4,
     "metadata": {},
     "output_type": "execute_result"
    }
   ],
   "source": [
    "a"
   ]
  },
  {
   "cell_type": "code",
   "execution_count": 5,
   "id": "b63a5615-1097-4e10-8683-6e5dd950333f",
   "metadata": {},
   "outputs": [],
   "source": [
    "# String: immutable"
   ]
  },
  {
   "cell_type": "code",
   "execution_count": 6,
   "id": "ee59207b-0966-4dbe-99ae-2826cfb5019f",
   "metadata": {},
   "outputs": [],
   "source": [
    "b = 'python'"
   ]
  },
  {
   "cell_type": "code",
   "execution_count": 7,
   "id": "b19b7fc6-f96d-4cd2-a644-85105015b570",
   "metadata": {},
   "outputs": [
    {
     "data": {
      "text/plain": [
       "'p'"
      ]
     },
     "execution_count": 7,
     "metadata": {},
     "output_type": "execute_result"
    }
   ],
   "source": [
    "b[0]"
   ]
  },
  {
   "cell_type": "code",
   "execution_count": 8,
   "id": "ba1ae8ed-ee8e-4ffd-9298-9401db53a8ae",
   "metadata": {},
   "outputs": [],
   "source": [
    "#b[0] = 'c'"
   ]
  },
  {
   "cell_type": "code",
   "execution_count": 9,
   "id": "9c47d066-41a2-4578-a4c9-4624ef783040",
   "metadata": {},
   "outputs": [],
   "source": [
    "# Tuple\n",
    "\n",
    "tup = (\"apple\", \"banana\", 1, 2)"
   ]
  },
  {
   "cell_type": "code",
   "execution_count": 10,
   "id": "f524826f-2743-4933-9b4c-50088a1718af",
   "metadata": {},
   "outputs": [],
   "source": [
    "# tup[0] = \"orange\""
   ]
  },
  {
   "cell_type": "code",
   "execution_count": 11,
   "id": "359056bd-7c13-4b09-bf63-ed163453621c",
   "metadata": {},
   "outputs": [
    {
     "data": {
      "text/plain": [
       "1"
      ]
     },
     "execution_count": 11,
     "metadata": {},
     "output_type": "execute_result"
    }
   ],
   "source": [
    "tup[-2]"
   ]
  },
  {
   "cell_type": "code",
   "execution_count": 12,
   "id": "4f437089-0cda-47e8-ae5b-44414bd8c755",
   "metadata": {},
   "outputs": [
    {
     "data": {
      "text/plain": [
       "('banana', 1, 2)"
      ]
     },
     "execution_count": 12,
     "metadata": {},
     "output_type": "execute_result"
    }
   ],
   "source": [
    "tup[1:] # start(=0):stop(=|len|):steps(=+1)"
   ]
  },
  {
   "cell_type": "code",
   "execution_count": 13,
   "id": "d7ea349f-6783-4549-8202-83cbcc6418f2",
   "metadata": {},
   "outputs": [
    {
     "data": {
      "text/plain": [
       "('banana', 2)"
      ]
     },
     "execution_count": 13,
     "metadata": {},
     "output_type": "execute_result"
    }
   ],
   "source": [
    "tup[1::2]"
   ]
  },
  {
   "cell_type": "code",
   "execution_count": 14,
   "id": "09209af8-a034-49ff-85dd-32c1414f26da",
   "metadata": {},
   "outputs": [
    {
     "data": {
      "text/plain": [
       "('banana', 2)"
      ]
     },
     "execution_count": 14,
     "metadata": {},
     "output_type": "execute_result"
    }
   ],
   "source": [
    "tup[-3::2]"
   ]
  },
  {
   "cell_type": "code",
   "execution_count": 15,
   "id": "6e65594a-cb67-4bb3-957e-67026dc64fa5",
   "metadata": {},
   "outputs": [
    {
     "data": {
      "text/plain": [
       "(1, 'apple')"
      ]
     },
     "execution_count": 15,
     "metadata": {},
     "output_type": "execute_result"
    }
   ],
   "source": [
    "tup[-2::-2]"
   ]
  },
  {
   "cell_type": "code",
   "execution_count": 16,
   "id": "a7e95b60-f994-4b7d-b038-08a58021d0ed",
   "metadata": {},
   "outputs": [
    {
     "data": {
      "text/plain": [
       "(2, 1, 'banana', 'apple')"
      ]
     },
     "execution_count": 16,
     "metadata": {},
     "output_type": "execute_result"
    }
   ],
   "source": [
    "tup[::-1]"
   ]
  },
  {
   "cell_type": "code",
   "execution_count": 17,
   "id": "8eacfa2e-044d-4753-8600-354ba999e04c",
   "metadata": {},
   "outputs": [
    {
     "data": {
      "text/plain": [
       "1"
      ]
     },
     "execution_count": 17,
     "metadata": {},
     "output_type": "execute_result"
    }
   ],
   "source": [
    "tup.count(1)"
   ]
  },
  {
   "cell_type": "code",
   "execution_count": 18,
   "id": "ab9d7f0b-4a53-4225-829a-87d2c9a64c2b",
   "metadata": {},
   "outputs": [
    {
     "data": {
      "text/plain": [
       "[4, 2, 3, 'apple']"
      ]
     },
     "execution_count": 18,
     "metadata": {},
     "output_type": "execute_result"
    }
   ],
   "source": [
    "a"
   ]
  },
  {
   "cell_type": "code",
   "execution_count": 19,
   "id": "48e16d19-61de-4e39-8cdc-fadf2490fd54",
   "metadata": {},
   "outputs": [],
   "source": [
    "a.insert(0, 4.0)"
   ]
  },
  {
   "cell_type": "code",
   "execution_count": 20,
   "id": "0d4b91e0-eb4e-4cff-b050-5681987e874a",
   "metadata": {},
   "outputs": [
    {
     "data": {
      "text/plain": [
       "[4.0, 4, 2, 3, 'apple']"
      ]
     },
     "execution_count": 20,
     "metadata": {},
     "output_type": "execute_result"
    }
   ],
   "source": [
    "a"
   ]
  },
  {
   "cell_type": "code",
   "execution_count": 21,
   "id": "de4bd44d-8087-4159-9453-9e5e26ef3707",
   "metadata": {},
   "outputs": [],
   "source": [
    "# a.remove(1)"
   ]
  },
  {
   "cell_type": "code",
   "execution_count": 22,
   "id": "64069b09-5cf1-435c-9425-809da7df3b22",
   "metadata": {},
   "outputs": [
    {
     "data": {
      "text/plain": [
       "[4.0, 4, 2, 3, 'apple']"
      ]
     },
     "execution_count": 22,
     "metadata": {},
     "output_type": "execute_result"
    }
   ],
   "source": [
    "a"
   ]
  },
  {
   "cell_type": "code",
   "execution_count": 23,
   "id": "ba757bab-1e16-435d-9cd0-a9ab82642fbc",
   "metadata": {},
   "outputs": [
    {
     "data": {
      "text/plain": [
       "4"
      ]
     },
     "execution_count": 23,
     "metadata": {},
     "output_type": "execute_result"
    }
   ],
   "source": [
    "a.pop(1)"
   ]
  },
  {
   "cell_type": "code",
   "execution_count": 24,
   "id": "f960a63d-8ad0-4193-9003-9b065beede34",
   "metadata": {},
   "outputs": [
    {
     "data": {
      "text/plain": [
       "[4.0, 2, 3, 'apple']"
      ]
     },
     "execution_count": 24,
     "metadata": {},
     "output_type": "execute_result"
    }
   ],
   "source": [
    "a"
   ]
  },
  {
   "cell_type": "code",
   "execution_count": 25,
   "id": "02e7b69b-5cc8-47a0-adfa-ad199e09791f",
   "metadata": {},
   "outputs": [],
   "source": [
    "# a.sort()"
   ]
  },
  {
   "cell_type": "code",
   "execution_count": 26,
   "id": "e9fa1907-8e84-4549-8baf-250248651fc2",
   "metadata": {},
   "outputs": [],
   "source": [
    "a.sort(key=lambda x: str(x)[0], reverse=True) # f = lambda x: => f(x)"
   ]
  },
  {
   "cell_type": "code",
   "execution_count": 27,
   "id": "8b913831-64da-4b3c-ae38-debd529871ae",
   "metadata": {},
   "outputs": [
    {
     "data": {
      "text/plain": [
       "['apple', 4.0, 3, 2]"
      ]
     },
     "execution_count": 27,
     "metadata": {},
     "output_type": "execute_result"
    }
   ],
   "source": [
    "a"
   ]
  },
  {
   "cell_type": "code",
   "execution_count": 28,
   "id": "2feda492-9e4e-49c6-b3d2-7e968bea228e",
   "metadata": {},
   "outputs": [
    {
     "data": {
      "text/plain": [
       "97"
      ]
     },
     "execution_count": 28,
     "metadata": {},
     "output_type": "execute_result"
    }
   ],
   "source": [
    "ord('a')"
   ]
  },
  {
   "cell_type": "code",
   "execution_count": 29,
   "id": "64fe5f49-dabc-4f02-b136-e97b53767c80",
   "metadata": {},
   "outputs": [],
   "source": [
    "a.append(2)"
   ]
  },
  {
   "cell_type": "code",
   "execution_count": 30,
   "id": "4e4c9ca5-060f-4527-aef7-df15c5f64720",
   "metadata": {},
   "outputs": [
    {
     "data": {
      "text/plain": [
       "['apple', 4.0, 3, 2, 2]"
      ]
     },
     "execution_count": 30,
     "metadata": {},
     "output_type": "execute_result"
    }
   ],
   "source": [
    "a"
   ]
  },
  {
   "cell_type": "code",
   "execution_count": 31,
   "id": "5b98bcde-883b-4897-af67-9acf0bee49a8",
   "metadata": {},
   "outputs": [],
   "source": [
    "# Set\n",
    "\n",
    "s = {1, 2, 3, 3.2, 'apple'}"
   ]
  },
  {
   "cell_type": "code",
   "execution_count": 32,
   "id": "ef7975ca-827e-4c29-a1ae-08b969d1da29",
   "metadata": {},
   "outputs": [
    {
     "data": {
      "text/plain": [
       "{1, 2, 3, 3.2, 'apple'}"
      ]
     },
     "execution_count": 32,
     "metadata": {},
     "output_type": "execute_result"
    }
   ],
   "source": [
    "s"
   ]
  },
  {
   "cell_type": "code",
   "execution_count": 33,
   "id": "b7258e79-456d-4413-a7f4-70c9c6bb234f",
   "metadata": {},
   "outputs": [],
   "source": [
    "# s[0] = 4 # cant change tuple"
   ]
  },
  {
   "cell_type": "code",
   "execution_count": 34,
   "id": "1622645a-8256-482e-824a-66083da2a385",
   "metadata": {},
   "outputs": [
    {
     "data": {
      "text/plain": [
       "'\\n  input: [3, 1, 2, 4, 5]\\n  tree: (binary-search-tree) ordering => left-child-val < node-val < right-child-va, 1st element is at root\\n  root->   3\\n          / \\\\ \\n         1   4\\n          \\\\   \\\\ \\nleaf->     2   5\\n\\n   heap: (minimum-heap/maximum-heap) ordering => min/max element is at root\\n   tree:   1\\n          /          4   3\\n          \\\\  /\\n           5 2 \\n'"
      ]
     },
     "execution_count": 34,
     "metadata": {},
     "output_type": "execute_result"
    }
   ],
   "source": [
    "'''\n",
    "  input: [3, 1, 2, 4, 5]\n",
    "  tree: (binary-search-tree) ordering => left-child-val < node-val < right-child-va, 1st element is at root\n",
    "  root->   3\n",
    "          / \\ \n",
    "         1   4\n",
    "          \\   \\ \n",
    "leaf->     2   5\n",
    "\n",
    "   heap: (minimum-heap/maximum-heap) ordering => min/max element is at root\n",
    "   tree:   1\n",
    "          / \\\n",
    "         4   3\n",
    "          \\  /\n",
    "           5 2 \n",
    "'''"
   ]
  },
  {
   "cell_type": "code",
   "execution_count": 35,
   "id": "c64dd1e0-6496-4b79-a34e-d36b6eeb6910",
   "metadata": {},
   "outputs": [
    {
     "data": {
      "text/plain": [
       "2"
      ]
     },
     "execution_count": 35,
     "metadata": {},
     "output_type": "execute_result"
    }
   ],
   "source": [
    "2 & 3 # 2 = 10, 3 = 2^1 * 1 + 2^0 * 1 = 11, 2 & 3 = (10 & 11) = 10 => 2"
   ]
  },
  {
   "cell_type": "code",
   "execution_count": 36,
   "id": "c13049bc-073b-4e67-9b3b-c4b91cbc24f6",
   "metadata": {},
   "outputs": [
    {
     "data": {
      "text/plain": [
       "0"
      ]
     },
     "execution_count": 36,
     "metadata": {},
     "output_type": "execute_result"
    }
   ],
   "source": [
    "0 or 0 or 0 or 0 # condition1 and condition2 / condition1 or condition2"
   ]
  },
  {
   "cell_type": "code",
   "execution_count": 37,
   "id": "e6e35da9-670f-4317-bd64-ceccf68bf236",
   "metadata": {},
   "outputs": [
    {
     "name": "stdout",
     "output_type": "stream",
     "text": [
      "1 2 3 4 5 6 7 8 9 10 \n"
     ]
    }
   ],
   "source": [
    "# int i = 1;\n",
    "# for (i = 1; i <= 10; i++)\n",
    "for i in range(1, 11): # range(start, stop - 1, step) => generator\n",
    "    print(i, end=' ')\n",
    "print()"
   ]
  },
  {
   "cell_type": "code",
   "execution_count": 38,
   "id": "914f77ea-1f40-4974-b467-9d9e7617aacf",
   "metadata": {},
   "outputs": [
    {
     "name": "stdout",
     "output_type": "stream",
     "text": [
      "1 2 3 4 5 6 7 8 9 "
     ]
    }
   ],
   "source": [
    "i = 1\n",
    "while i < 10:\n",
    "    print(i, end=' ')\n",
    "    i += 1"
   ]
  },
  {
   "cell_type": "code",
   "execution_count": 39,
   "id": "650600a7-6faf-490e-90b6-eeaf971631fa",
   "metadata": {},
   "outputs": [
    {
     "name": "stdout",
     "output_type": "stream",
     "text": [
      "2 3 4 5 6 7 8 9 10 11 \n",
      "3 4 5 6 7 8 9 10 11 12 \n",
      "4 5 6 7 8 9 10 11 12 13 \n",
      "5 6 7 8 9 10 11 12 13 14 \n",
      "6 7 8 9 10 11 12 13 14 15 \n",
      "7 8 9 10 11 12 13 14 15 16 \n",
      "8 9 10 11 12 13 14 15 16 17 \n",
      "9 10 11 12 13 14 15 16 17 18 \n",
      "10 11 12 13 14 15 16 17 18 19 \n",
      "11 12 13 14 15 16 17 18 19 20 \n"
     ]
    }
   ],
   "source": [
    "for i in range(1, 11):\n",
    "    for j in range(1, 11):\n",
    "        print(i + j, end = ' ')\n",
    "    print()"
   ]
  },
  {
   "cell_type": "code",
   "execution_count": 40,
   "id": "b73bd06f-7e16-4cf2-a41d-03564c5bfcba",
   "metadata": {},
   "outputs": [
    {
     "name": "stdout",
     "output_type": "stream",
     "text": [
      "['1.txt', '2.txt', '3.txt', '4.txt', '5.txt']\n",
      "[30, 30, 30, 30, 30]\n",
      "150\n"
     ]
    }
   ],
   "source": [
    "# FILE* fptr = fopen(\"input.txt\", \"r\")\n",
    "# Goal: read number from file, compute factorial of number and save in {number}_out.txt\n",
    "\n",
    "in_dir = \"/Users/prateepmukherjee/Box/Python-Tutorial/data/piyali\"\n",
    "out_dir = in_dir\n",
    "\n",
    "import os # same as #include\n",
    "import functools # from functools import reduce\n",
    "import operator\n",
    "\n",
    "list_files = os.listdir(in_dir)\n",
    "print(list_files)\n",
    "\n",
    "result = []\n",
    "\n",
    "for file in list_files:\n",
    "    file_path = os.path.join(in_dir, file)\n",
    "    if file_path.endswith('.txt'):\n",
    "        try:\n",
    "#             reader = open(file_path, 'r') # with open(file_path, 'r') as fp: # => scope of the file\n",
    "            with open(file_path, 'r') as reader:\n",
    "                lines = list(filter(lambda x: True if len(x) > 0 and x != \"\\n\" else False, reader.readlines()))\n",
    "                lines_gc = list(filter(lambda x: True if x.__contains__('gene-c') else False, lines))\n",
    "                lines_1 = list(map(lambda x: int(x.strip().split('=')[1]), lines_gc)) #[x.strip() for x in lines]\n",
    "      #         print(fp.readlines())\n",
    "#                 print(functools.reduce(operator.add, lines_1))\n",
    "                result.append(lines_1[0])\n",
    "                out_file_path = os.path.join(out_dir, os.path.splitext(file)[0] + \"_out.txt\")\n",
    "#                 with open(out_file_path, 'w') as writer:\n",
    "#                     writer.writelines(lines_gc)\n",
    "#             fp.close()\n",
    "        except Exception as e:\n",
    "            print(file, e)\n",
    "            \n",
    "print(result)\n",
    "sum = functools.reduce(lambda x, sum: sum + x, result) # for r in result: sum += r\n",
    "# print(functools.reduce(operator.add, result))\n",
    "print(sum)"
   ]
  },
  {
   "cell_type": "code",
   "execution_count": 41,
   "id": "48f82c52-2768-4348-a783-5b699bd9e70b",
   "metadata": {},
   "outputs": [
    {
     "data": {
      "text/plain": [
       "'/Users/prateepmukherjee/Box/Python-Tutorial/notebooks'"
      ]
     },
     "execution_count": 41,
     "metadata": {},
     "output_type": "execute_result"
    }
   ],
   "source": [
    "os.getcwd()"
   ]
  },
  {
   "cell_type": "code",
   "execution_count": 42,
   "id": "4a44ad8f-8286-4707-8842-10f0b2a9e58c",
   "metadata": {},
   "outputs": [
    {
     "data": {
      "text/plain": [
       "[1, 2, 3, 4, 5, 6, 7, 8, 9]"
      ]
     },
     "execution_count": 42,
     "metadata": {},
     "output_type": "execute_result"
    }
   ],
   "source": [
    "list(range(1, 10))"
   ]
  },
  {
   "cell_type": "code",
   "execution_count": 43,
   "id": "1abb4cda-ae1a-4b72-8077-1e6dcdab09f5",
   "metadata": {},
   "outputs": [
    {
     "name": "stdout",
     "output_type": "stream",
     "text": [
      "[1, 2, 3, 4, 5, 6, 7, 8, 9] [4, 6, 8]\n"
     ]
    }
   ],
   "source": [
    "a = list(range(1, 10))\n",
    "filt = filter(lambda x: True if x % 2 == 0 and x >= 4 else False, a) # if x % 2 return True else return False\n",
    "filt_list = list(filt)\n",
    "print(a, filt_list)"
   ]
  },
  {
   "cell_type": "code",
   "execution_count": 44,
   "id": "937030f3-f2df-4fb7-a490-e835d7433187",
   "metadata": {},
   "outputs": [],
   "source": [
    "# lexicographic ordering\n",
    "#  - a, aa, aaa, ab, abb, abc, abccd, ..."
   ]
  },
  {
   "cell_type": "code",
   "execution_count": 45,
   "id": "7a0393c7-edb0-4179-91fe-943d208c1622",
   "metadata": {},
   "outputs": [
    {
     "data": {
      "text/plain": [
       "'\\n| model   | brand  | year |\\n---------------------------\\n| Mustang | Ford   | 1964 |\\n| Aspire  | Ford   | 2010 |\\n| Ignis   | Maruti | 1999 |\\n'"
      ]
     },
     "execution_count": 45,
     "metadata": {},
     "output_type": "execute_result"
    }
   ],
   "source": [
    "thisdict =\t{\n",
    "  \"model\": [\"Mustang\", \"Aspire\", \"Ignis\", \"Camry\"],\n",
    "  \"brand\": [\"Ford\", \"Ford\", \"Maruti\", \"Toyota\"],\n",
    "  \"year\": [1964, 2010, 1999, 2005]\n",
    "}\n",
    "thisdict\n",
    "\n",
    "'''\n",
    "| model   | brand  | year |\n",
    "---------------------------\n",
    "| Mustang | Ford   | 1964 |\n",
    "| Aspire  | Ford   | 2010 |\n",
    "| Ignis   | Maruti | 1999 |\n",
    "'''"
   ]
  },
  {
   "cell_type": "code",
   "execution_count": 46,
   "id": "0fdce591-6711-4652-8860-f483d832f18c",
   "metadata": {},
   "outputs": [
    {
     "data": {
      "text/plain": [
       "['Ford', 'Ford', 'Maruti', 'Toyota']"
      ]
     },
     "execution_count": 46,
     "metadata": {},
     "output_type": "execute_result"
    }
   ],
   "source": [
    "thisdict[\"brand\"]"
   ]
  },
  {
   "cell_type": "code",
   "execution_count": 47,
   "id": "477ef0ec-8bc8-4214-832c-f5d17474e748",
   "metadata": {},
   "outputs": [
    {
     "data": {
      "text/plain": [
       "['model', 'brand', 'year']"
      ]
     },
     "execution_count": 47,
     "metadata": {},
     "output_type": "execute_result"
    }
   ],
   "source": [
    "list(thisdict.keys())"
   ]
  },
  {
   "cell_type": "code",
   "execution_count": 48,
   "id": "36162932-314f-4d52-af97-0fd441c76bc8",
   "metadata": {},
   "outputs": [
    {
     "data": {
      "text/plain": [
       "sys.version_info(major=3, minor=6, micro=8, releaselevel='final', serial=0)"
      ]
     },
     "execution_count": 48,
     "metadata": {},
     "output_type": "execute_result"
    }
   ],
   "source": [
    "import sys\n",
    "sys.version_info"
   ]
  },
  {
   "cell_type": "code",
   "execution_count": 49,
   "id": "cd98223f-2503-4249-87d5-4668b6e36f34",
   "metadata": {},
   "outputs": [],
   "source": [
    "# try:\n",
    "#     import Bio\n",
    "# except ModuleNotFoundError:\n",
    "#     print('module {} not found. Install'.format('biopython'))\n",
    "#     !pip install biopython"
   ]
  },
  {
   "cell_type": "code",
   "execution_count": 60,
   "id": "029f1cb6-fdb0-4d60-beeb-55a43838f35d",
   "metadata": {},
   "outputs": [],
   "source": [
    "# Explicit definition\n",
    "def fff(x: str) -> str:\n",
    "    return str(x * 2)\n",
    "def fff(x):\n",
    "    return x * 2\n",
    "\n",
    "# Lambda definition\n",
    "fl = lambda x: x * 2"
   ]
  },
  {
   "cell_type": "code",
   "execution_count": 61,
   "id": "71911ad0-0dde-4220-8d13-1d7239b0ea63",
   "metadata": {},
   "outputs": [
    {
     "data": {
      "text/plain": [
       "'11'"
      ]
     },
     "execution_count": 61,
     "metadata": {},
     "output_type": "execute_result"
    }
   ],
   "source": [
    "fff('1')"
   ]
  },
  {
   "cell_type": "code",
   "execution_count": null,
   "id": "9bb41232-3069-426f-81f6-0b9242b9d9f3",
   "metadata": {},
   "outputs": [],
   "source": [
    "fl(3)"
   ]
  },
  {
   "cell_type": "code",
   "execution_count": 53,
   "id": "775602a3-509b-4191-a831-8e7d57864e08",
   "metadata": {},
   "outputs": [],
   "source": [
    "def greeting(name: str) -> str:\n",
    "    return 'Hello ' + name"
   ]
  },
  {
   "cell_type": "code",
   "execution_count": 55,
   "id": "bde91b28-3322-4d5c-84e9-b1771e7e13f6",
   "metadata": {},
   "outputs": [
    {
     "data": {
      "text/plain": [
       "'Hello 1'"
      ]
     },
     "execution_count": 55,
     "metadata": {},
     "output_type": "execute_result"
    }
   ],
   "source": [
    "greeting('1')"
   ]
  },
  {
   "cell_type": "code",
   "execution_count": 87,
   "id": "76926bd5-326d-41ff-91f8-5c5e1596c805",
   "metadata": {},
   "outputs": [],
   "source": [
    "# Args: Non-keyword arguments to function, interprets a variable length list. [C: main(int argc, char* argv[])]\n",
    "# Kwargs: Keyword arguments, dictionary([key, value])\n",
    "\n",
    "def fun(*args):\n",
    "    print(isinstance(args, tuple))\n",
    "    for arg in args:\n",
    "        print(arg)\n",
    "        \n",
    "def fun_kw(**kwargs):\n",
    "    print(isinstance(kwargs, dict))\n",
    "    for key, val in kwargs.items():\n",
    "        print(key, val)"
   ]
  },
  {
   "cell_type": "code",
   "execution_count": 88,
   "id": "2397a38b-2f9f-448a-a381-34677a0ed60e",
   "metadata": {},
   "outputs": [
    {
     "name": "stdout",
     "output_type": "stream",
     "text": [
      "True\n",
      "1\n",
      "2\n",
      "prateep\n"
     ]
    }
   ],
   "source": [
    "fun(1, 2, 'prateep')"
   ]
  },
  {
   "cell_type": "code",
   "execution_count": 80,
   "id": "0ed6066c-3d23-42c1-91de-d4d736f13f33",
   "metadata": {},
   "outputs": [
    {
     "name": "stdout",
     "output_type": "stream",
     "text": [
      "True\n",
      "prateep\n"
     ]
    }
   ],
   "source": [
    "fun('prateep')"
   ]
  },
  {
   "cell_type": "code",
   "execution_count": 81,
   "id": "589f90fd-766c-44b9-870c-56945da2019f",
   "metadata": {},
   "outputs": [
    {
     "name": "stdout",
     "output_type": "stream",
     "text": [
      "True\n"
     ]
    }
   ],
   "source": [
    "fun() # no arguments"
   ]
  },
  {
   "cell_type": "code",
   "execution_count": 82,
   "id": "24a6258b-9c90-481b-8444-07565e4acd2c",
   "metadata": {},
   "outputs": [
    {
     "name": "stdout",
     "output_type": "stream",
     "text": [
      "True\n",
      "val1 1\n",
      "val2 2\n",
      "val3 prateep\n"
     ]
    }
   ],
   "source": [
    "fun_kw(val1=1, val2=2, val3='prateep')"
   ]
  },
  {
   "cell_type": "code",
   "execution_count": 107,
   "id": "40a49bfb-3ff1-4953-a7dc-1fe1f84036ca",
   "metadata": {},
   "outputs": [],
   "source": [
    "list_a = ['a'] * 2"
   ]
  },
  {
   "cell_type": "code",
   "execution_count": 108,
   "id": "3c5b4bb1-3fa2-4011-970e-08f411220be8",
   "metadata": {},
   "outputs": [
    {
     "data": {
      "text/plain": [
       "['a', 'a']"
      ]
     },
     "execution_count": 108,
     "metadata": {},
     "output_type": "execute_result"
    }
   ],
   "source": [
    "list_a"
   ]
  },
  {
   "cell_type": "code",
   "execution_count": 109,
   "id": "f4532473-f9f1-4a6e-91fa-ab2839295f36",
   "metadata": {},
   "outputs": [],
   "source": [
    "# list_b = list_a      # copy by reference\n",
    "list_b = list_a.copy() # copy by value"
   ]
  },
  {
   "cell_type": "code",
   "execution_count": 110,
   "id": "71c8ab65-4e50-433d-9fc6-5227a0fb7204",
   "metadata": {},
   "outputs": [
    {
     "data": {
      "text/plain": [
       "['a', 'a']"
      ]
     },
     "execution_count": 110,
     "metadata": {},
     "output_type": "execute_result"
    }
   ],
   "source": [
    "list_b"
   ]
  },
  {
   "cell_type": "code",
   "execution_count": 111,
   "id": "2a807deb-2a09-48a3-b22e-ee74e2e4e3e7",
   "metadata": {},
   "outputs": [
    {
     "data": {
      "text/plain": [
       "['b', 'a']"
      ]
     },
     "execution_count": 111,
     "metadata": {},
     "output_type": "execute_result"
    }
   ],
   "source": [
    "list_b[0] = 'b'\n",
    "list_b"
   ]
  },
  {
   "cell_type": "code",
   "execution_count": 112,
   "id": "d33f5ebd-6d3a-4e14-804d-86a149de0a58",
   "metadata": {},
   "outputs": [
    {
     "data": {
      "text/plain": [
       "['a', 'a']"
      ]
     },
     "execution_count": 112,
     "metadata": {},
     "output_type": "execute_result"
    }
   ],
   "source": [
    "list_a"
   ]
  },
  {
   "cell_type": "code",
   "execution_count": 113,
   "id": "b6cd9aba-0d8a-4fae-a8d0-2e8ff882ea2e",
   "metadata": {},
   "outputs": [],
   "source": [
    "dict_a = {'a': 1, 'b': 2}"
   ]
  },
  {
   "cell_type": "code",
   "execution_count": 114,
   "id": "383904c5-31e8-4d3e-b7b1-c191eb2f4fb4",
   "metadata": {},
   "outputs": [],
   "source": [
    "dict_b = dict_a"
   ]
  },
  {
   "cell_type": "code",
   "execution_count": 115,
   "id": "271bf1dc-6749-4470-844d-2dabfe29788d",
   "metadata": {},
   "outputs": [],
   "source": [
    "dict_b['a'] = 3"
   ]
  },
  {
   "cell_type": "code",
   "execution_count": 116,
   "id": "97e3cb7a-ce6d-43a5-9afa-5558cb27ed44",
   "metadata": {},
   "outputs": [
    {
     "data": {
      "text/plain": [
       "{'a': 3, 'b': 2}"
      ]
     },
     "execution_count": 116,
     "metadata": {},
     "output_type": "execute_result"
    }
   ],
   "source": [
    "dict_b"
   ]
  },
  {
   "cell_type": "code",
   "execution_count": 117,
   "id": "4a69085b-f423-442f-b539-9d2b2675d440",
   "metadata": {},
   "outputs": [
    {
     "data": {
      "text/plain": [
       "{'a': 3, 'b': 2}"
      ]
     },
     "execution_count": 117,
     "metadata": {},
     "output_type": "execute_result"
    }
   ],
   "source": [
    "dict_a"
   ]
  },
  {
   "cell_type": "code",
   "execution_count": 118,
   "id": "711e5784-0e39-4be8-b802-05e35b2b23d8",
   "metadata": {},
   "outputs": [
    {
     "name": "stdout",
     "output_type": "stream",
     "text": [
      "2 3\n"
     ]
    }
   ],
   "source": [
    "a = 2\n",
    "b = a\n",
    "b += 1\n",
    "print(a, b)"
   ]
  },
  {
   "cell_type": "code",
   "execution_count": 129,
   "id": "b01a2cd9-8e46-42c2-9a6e-6aef9acdf98a",
   "metadata": {},
   "outputs": [
    {
     "name": "stdout",
     "output_type": "stream",
     "text": [
      "140236846029384\n",
      "140236845919496\n",
      "[3, 2] [1, 2]\n"
     ]
    }
   ],
   "source": [
    "def f(list_a):\n",
    "#     print(id(list_a))\n",
    "    list_a[0] = 3 \n",
    "    return list_a\n",
    "    \n",
    "old_a = [1, 2]\n",
    "print(id(old_a))\n",
    "# new_a = f(old_a) # === = old_a\n",
    "new_a = f(old_a.copy())\n",
    "print(id(new_a))\n",
    "print(new_a, old_a)"
   ]
  },
  {
   "cell_type": "code",
   "execution_count": 130,
   "id": "0584a0c6-ee69-46ee-8241-6a203470a975",
   "metadata": {},
   "outputs": [
    {
     "name": "stdout",
     "output_type": "stream",
     "text": [
      "[3, 2] [3, 2] [3, 2]\n"
     ]
    }
   ],
   "source": [
    "list_a = [1, 2]\n",
    "list_b = list_a\n",
    "list_c = list_b\n",
    "list_c[0] = 3\n",
    "print(list_a, list_b, list_c)"
   ]
  },
  {
   "cell_type": "code",
   "execution_count": 131,
   "id": "fe8664c5-d55d-4add-81bd-5b33aa340481",
   "metadata": {},
   "outputs": [],
   "source": [
    "# Iterator\n",
    "class Range(object):\n",
    "\n",
    "    def __init__(self, start, end, step = 1):\n",
    "        self.value = start\n",
    "        self.end = end\n",
    "        self.step = step\n",
    "\n",
    "    def __iter__(self):\n",
    "        return self\n",
    "\n",
    "    def __next__(self):\n",
    "        if self.value >= self.end:\n",
    "            raise StopIteration\n",
    "        current = self.value\n",
    "        self.value += self.step\n",
    "        return current # generator"
   ]
  },
  {
   "cell_type": "code",
   "execution_count": 137,
   "id": "26d4b08f-751b-4e84-9cda-2ccbb7fbd885",
   "metadata": {},
   "outputs": [
    {
     "name": "stdout",
     "output_type": "stream",
     "text": [
      "1\n",
      "1\n"
     ]
    }
   ],
   "source": [
    "rng = Range(1, 10, 2) # => for i in range(1, 10, 2)\n",
    "i_r = iter(rng)\n",
    "print(i_r.value)\n",
    "print(next(i_r))"
   ]
  },
  {
   "cell_type": "code",
   "execution_count": 133,
   "id": "f9fa7778-6b8f-4d9c-b7ae-2f2b07776646",
   "metadata": {},
   "outputs": [
    {
     "name": "stdout",
     "output_type": "stream",
     "text": [
      "3\n"
     ]
    }
   ],
   "source": [
    "print(next(i_r))"
   ]
  },
  {
   "cell_type": "code",
   "execution_count": 134,
   "id": "fa5844cd-2def-4cf3-ae12-8cf09be6f385",
   "metadata": {},
   "outputs": [
    {
     "name": "stdout",
     "output_type": "stream",
     "text": [
      "5\n"
     ]
    }
   ],
   "source": [
    "print(next(i_r))"
   ]
  },
  {
   "cell_type": "code",
   "execution_count": 135,
   "id": "df2cd1f8-c792-46f4-a665-23daa730454a",
   "metadata": {},
   "outputs": [
    {
     "name": "stdout",
     "output_type": "stream",
     "text": [
      "7\n"
     ]
    }
   ],
   "source": [
    "print(next(i_r))"
   ]
  },
  {
   "cell_type": "code",
   "execution_count": 138,
   "id": "3378e481-39b1-42e9-959d-33253418a832",
   "metadata": {},
   "outputs": [],
   "source": [
    "# Generator\n",
    "\n",
    "def square(num):\n",
    "    for i in range(num):\n",
    "        yield i*i"
   ]
  },
  {
   "cell_type": "code",
   "execution_count": 139,
   "id": "6d2c3118-1925-4b7e-98c1-f403a1ccf494",
   "metadata": {},
   "outputs": [],
   "source": [
    "gen = square(3)"
   ]
  },
  {
   "cell_type": "code",
   "execution_count": 141,
   "id": "9d7689d5-8bb0-46da-9654-13d922dfbe68",
   "metadata": {},
   "outputs": [
    {
     "data": {
      "text/plain": [
       "0"
      ]
     },
     "execution_count": 141,
     "metadata": {},
     "output_type": "execute_result"
    }
   ],
   "source": [
    "next(gen)"
   ]
  },
  {
   "cell_type": "code",
   "execution_count": 142,
   "id": "653c8faa-31e4-41ad-a725-56010f8c21e9",
   "metadata": {},
   "outputs": [
    {
     "data": {
      "text/plain": [
       "1"
      ]
     },
     "execution_count": 142,
     "metadata": {},
     "output_type": "execute_result"
    }
   ],
   "source": [
    "next(gen)"
   ]
  },
  {
   "cell_type": "code",
   "execution_count": 143,
   "id": "78081fe8-f8fc-4a2e-9d03-4b4fabdb09b8",
   "metadata": {},
   "outputs": [
    {
     "data": {
      "text/plain": [
       "4"
      ]
     },
     "execution_count": 143,
     "metadata": {},
     "output_type": "execute_result"
    }
   ],
   "source": [
    "next(gen)"
   ]
  },
  {
   "cell_type": "code",
   "execution_count": 3,
   "id": "b7a93717-35b7-4869-80c3-00b1007a3b84",
   "metadata": {},
   "outputs": [],
   "source": [
    "# Return x + n * y\n",
    "\n",
    "def compute(n, x, y):\n",
    "    if n == 0: return x\n",
    "    return compute(n - 1, x + y, y)"
   ]
  },
  {
   "cell_type": "code",
   "execution_count": 4,
   "id": "da944d23-37e5-472f-8ab5-91d39a6fe88b",
   "metadata": {},
   "outputs": [
    {
     "data": {
      "text/plain": [
       "29"
      ]
     },
     "execution_count": 4,
     "metadata": {},
     "output_type": "execute_result"
    }
   ],
   "source": [
    "compute(3, 5, 8)"
   ]
  },
  {
   "cell_type": "code",
   "execution_count": 5,
   "id": "82c693ec-6712-4669-8a0a-a61d2356da8b",
   "metadata": {},
   "outputs": [
    {
     "data": {
      "text/plain": [
       "13"
      ]
     },
     "execution_count": 5,
     "metadata": {},
     "output_type": "execute_result"
    }
   ],
   "source": [
    "compute(1, 5, 8)"
   ]
  },
  {
   "cell_type": "code",
   "execution_count": 6,
   "id": "97c16cdb-a034-4e83-b380-5301b6d098da",
   "metadata": {},
   "outputs": [
    {
     "data": {
      "text/plain": [
       "21"
      ]
     },
     "execution_count": 6,
     "metadata": {},
     "output_type": "execute_result"
    }
   ],
   "source": [
    "compute(2, 5, 8)"
   ]
  },
  {
   "cell_type": "code",
   "execution_count": null,
   "id": "5c61075f-1ec0-4344-ac27-95744e4c163c",
   "metadata": {},
   "outputs": [],
   "source": []
  }
 ],
 "metadata": {
  "kernelspec": {
   "display_name": "venv",
   "language": "python",
   "name": "venv"
  },
  "language_info": {
   "codemirror_mode": {
    "name": "ipython",
    "version": 3
   },
   "file_extension": ".py",
   "mimetype": "text/x-python",
   "name": "python",
   "nbconvert_exporter": "python",
   "pygments_lexer": "ipython3",
   "version": "3.6.8"
  }
 },
 "nbformat": 4,
 "nbformat_minor": 5
}
