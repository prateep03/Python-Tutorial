{
 "cells": [
  {
   "cell_type": "code",
   "execution_count": 11,
   "id": "02ea34f3-818c-4db6-802d-2da829a4a211",
   "metadata": {},
   "outputs": [],
   "source": [
    "# List: mutable\n",
    "a = [1, 2, 3, \"apple\"] # matlab: a = [1 2 3]"
   ]
  },
  {
   "cell_type": "code",
   "execution_count": 2,
   "id": "fbee901e-2efd-41b1-9d15-aeb8fd6a1584",
   "metadata": {},
   "outputs": [
    {
     "data": {
      "text/plain": [
       "1"
      ]
     },
     "execution_count": 2,
     "metadata": {},
     "output_type": "execute_result"
    }
   ],
   "source": [
    "a[0]"
   ]
  },
  {
   "cell_type": "code",
   "execution_count": 3,
   "id": "33ea1156-af47-43d3-bcbb-7081aab1ae66",
   "metadata": {},
   "outputs": [],
   "source": [
    "a[0] = 4"
   ]
  },
  {
   "cell_type": "code",
   "execution_count": 4,
   "id": "0fc0b9e5-9378-4000-9308-d694908964b6",
   "metadata": {},
   "outputs": [
    {
     "data": {
      "text/plain": [
       "[4, 2, 3]"
      ]
     },
     "execution_count": 4,
     "metadata": {},
     "output_type": "execute_result"
    }
   ],
   "source": [
    "a"
   ]
  },
  {
   "cell_type": "code",
   "execution_count": 5,
   "id": "b63a5615-1097-4e10-8683-6e5dd950333f",
   "metadata": {},
   "outputs": [],
   "source": [
    "# String: immutable"
   ]
  },
  {
   "cell_type": "code",
   "execution_count": 6,
   "id": "ee59207b-0966-4dbe-99ae-2826cfb5019f",
   "metadata": {},
   "outputs": [],
   "source": [
    "b = 'python'"
   ]
  },
  {
   "cell_type": "code",
   "execution_count": 7,
   "id": "b19b7fc6-f96d-4cd2-a644-85105015b570",
   "metadata": {},
   "outputs": [
    {
     "data": {
      "text/plain": [
       "'p'"
      ]
     },
     "execution_count": 7,
     "metadata": {},
     "output_type": "execute_result"
    }
   ],
   "source": [
    "b[0]"
   ]
  },
  {
   "cell_type": "code",
   "execution_count": 8,
   "id": "ba1ae8ed-ee8e-4ffd-9298-9401db53a8ae",
   "metadata": {},
   "outputs": [
    {
     "ename": "TypeError",
     "evalue": "'str' object does not support item assignment",
     "output_type": "error",
     "traceback": [
      "\u001b[0;31m---------------------------------------------------------------------------\u001b[0m",
      "\u001b[0;31mTypeError\u001b[0m                                 Traceback (most recent call last)",
      "\u001b[0;32m<ipython-input-8-65a6410c23ad>\u001b[0m in \u001b[0;36m<module>\u001b[0;34m\u001b[0m\n\u001b[0;32m----> 1\u001b[0;31m \u001b[0mb\u001b[0m\u001b[0;34m[\u001b[0m\u001b[0;36m0\u001b[0m\u001b[0;34m]\u001b[0m \u001b[0;34m=\u001b[0m \u001b[0;34m'c'\u001b[0m\u001b[0;34m\u001b[0m\u001b[0;34m\u001b[0m\u001b[0m\n\u001b[0m",
      "\u001b[0;31mTypeError\u001b[0m: 'str' object does not support item assignment"
     ]
    }
   ],
   "source": [
    "b[0] = 'c'"
   ]
  },
  {
   "cell_type": "code",
   "execution_count": 13,
   "id": "9c47d066-41a2-4578-a4c9-4624ef783040",
   "metadata": {},
   "outputs": [],
   "source": [
    "# Tuple\n",
    "\n",
    "tup = (\"apple\", \"banana\", 1, 2)"
   ]
  },
  {
   "cell_type": "code",
   "execution_count": 14,
   "id": "f524826f-2743-4933-9b4c-50088a1718af",
   "metadata": {},
   "outputs": [
    {
     "ename": "TypeError",
     "evalue": "'tuple' object does not support item assignment",
     "output_type": "error",
     "traceback": [
      "\u001b[0;31m---------------------------------------------------------------------------\u001b[0m",
      "\u001b[0;31mTypeError\u001b[0m                                 Traceback (most recent call last)",
      "\u001b[0;32m<ipython-input-14-e081f3b1a4cb>\u001b[0m in \u001b[0;36m<module>\u001b[0;34m\u001b[0m\n\u001b[0;32m----> 1\u001b[0;31m \u001b[0mtup\u001b[0m\u001b[0;34m[\u001b[0m\u001b[0;36m0\u001b[0m\u001b[0;34m]\u001b[0m \u001b[0;34m=\u001b[0m \u001b[0;34m\"orange\"\u001b[0m\u001b[0;34m\u001b[0m\u001b[0;34m\u001b[0m\u001b[0m\n\u001b[0m",
      "\u001b[0;31mTypeError\u001b[0m: 'tuple' object does not support item assignment"
     ]
    }
   ],
   "source": [
    "tup[0] = \"orange\""
   ]
  },
  {
   "cell_type": "code",
   "execution_count": 16,
   "id": "359056bd-7c13-4b09-bf63-ed163453621c",
   "metadata": {},
   "outputs": [
    {
     "data": {
      "text/plain": [
       "1"
      ]
     },
     "execution_count": 16,
     "metadata": {},
     "output_type": "execute_result"
    }
   ],
   "source": [
    "tup[-2]"
   ]
  },
  {
   "cell_type": "code",
   "execution_count": 17,
   "id": "4f437089-0cda-47e8-ae5b-44414bd8c755",
   "metadata": {},
   "outputs": [
    {
     "data": {
      "text/plain": [
       "('banana', 1, 2)"
      ]
     },
     "execution_count": 17,
     "metadata": {},
     "output_type": "execute_result"
    }
   ],
   "source": [
    "tup[1:] # start(=0):stop(=|len|):steps(=+1)"
   ]
  },
  {
   "cell_type": "code",
   "execution_count": 18,
   "id": "d7ea349f-6783-4549-8202-83cbcc6418f2",
   "metadata": {},
   "outputs": [
    {
     "data": {
      "text/plain": [
       "('banana', 2)"
      ]
     },
     "execution_count": 18,
     "metadata": {},
     "output_type": "execute_result"
    }
   ],
   "source": [
    "tup[1::2]"
   ]
  },
  {
   "cell_type": "code",
   "execution_count": 19,
   "id": "09209af8-a034-49ff-85dd-32c1414f26da",
   "metadata": {},
   "outputs": [
    {
     "data": {
      "text/plain": [
       "('banana', 2)"
      ]
     },
     "execution_count": 19,
     "metadata": {},
     "output_type": "execute_result"
    }
   ],
   "source": [
    "tup[-3::2]"
   ]
  },
  {
   "cell_type": "code",
   "execution_count": 21,
   "id": "6e65594a-cb67-4bb3-957e-67026dc64fa5",
   "metadata": {},
   "outputs": [
    {
     "data": {
      "text/plain": [
       "(1, 'apple')"
      ]
     },
     "execution_count": 21,
     "metadata": {},
     "output_type": "execute_result"
    }
   ],
   "source": [
    "tup[-2::-2]"
   ]
  },
  {
   "cell_type": "code",
   "execution_count": 22,
   "id": "a7e95b60-f994-4b7d-b038-08a58021d0ed",
   "metadata": {},
   "outputs": [
    {
     "data": {
      "text/plain": [
       "(2, 1, 'banana', 'apple')"
      ]
     },
     "execution_count": 22,
     "metadata": {},
     "output_type": "execute_result"
    }
   ],
   "source": [
    "tup[::-1]"
   ]
  },
  {
   "cell_type": "code",
   "execution_count": 23,
   "id": "8eacfa2e-044d-4753-8600-354ba999e04c",
   "metadata": {},
   "outputs": [
    {
     "data": {
      "text/plain": [
       "1"
      ]
     },
     "execution_count": 23,
     "metadata": {},
     "output_type": "execute_result"
    }
   ],
   "source": [
    "tup.count(1)"
   ]
  },
  {
   "cell_type": "code",
   "execution_count": 24,
   "id": "ab9d7f0b-4a53-4225-829a-87d2c9a64c2b",
   "metadata": {},
   "outputs": [
    {
     "data": {
      "text/plain": [
       "[1, 2, 3, 'apple']"
      ]
     },
     "execution_count": 24,
     "metadata": {},
     "output_type": "execute_result"
    }
   ],
   "source": [
    "a"
   ]
  },
  {
   "cell_type": "code",
   "execution_count": 28,
   "id": "48e16d19-61de-4e39-8cdc-fadf2490fd54",
   "metadata": {},
   "outputs": [],
   "source": [
    "a.insert(0, 4.0)"
   ]
  },
  {
   "cell_type": "code",
   "execution_count": 29,
   "id": "0d4b91e0-eb4e-4cff-b050-5681987e874a",
   "metadata": {},
   "outputs": [
    {
     "data": {
      "text/plain": [
       "[4.0, 4, 1, 2, 3, 'apple']"
      ]
     },
     "execution_count": 29,
     "metadata": {},
     "output_type": "execute_result"
    }
   ],
   "source": [
    "a"
   ]
  },
  {
   "cell_type": "code",
   "execution_count": 30,
   "id": "de4bd44d-8087-4159-9453-9e5e26ef3707",
   "metadata": {},
   "outputs": [],
   "source": [
    "a.remove(1)"
   ]
  },
  {
   "cell_type": "code",
   "execution_count": 31,
   "id": "64069b09-5cf1-435c-9425-809da7df3b22",
   "metadata": {},
   "outputs": [
    {
     "data": {
      "text/plain": [
       "[4.0, 4, 2, 3, 'apple']"
      ]
     },
     "execution_count": 31,
     "metadata": {},
     "output_type": "execute_result"
    }
   ],
   "source": [
    "a"
   ]
  },
  {
   "cell_type": "code",
   "execution_count": 32,
   "id": "ba757bab-1e16-435d-9cd0-a9ab82642fbc",
   "metadata": {},
   "outputs": [
    {
     "data": {
      "text/plain": [
       "4"
      ]
     },
     "execution_count": 32,
     "metadata": {},
     "output_type": "execute_result"
    }
   ],
   "source": [
    "a.pop(1)"
   ]
  },
  {
   "cell_type": "code",
   "execution_count": 33,
   "id": "f960a63d-8ad0-4193-9003-9b065beede34",
   "metadata": {},
   "outputs": [
    {
     "data": {
      "text/plain": [
       "[4.0, 2, 3, 'apple']"
      ]
     },
     "execution_count": 33,
     "metadata": {},
     "output_type": "execute_result"
    }
   ],
   "source": [
    "a"
   ]
  },
  {
   "cell_type": "code",
   "execution_count": 34,
   "id": "02e7b69b-5cc8-47a0-adfa-ad199e09791f",
   "metadata": {},
   "outputs": [
    {
     "ename": "TypeError",
     "evalue": "'<' not supported between instances of 'str' and 'int'",
     "output_type": "error",
     "traceback": [
      "\u001b[0;31m---------------------------------------------------------------------------\u001b[0m",
      "\u001b[0;31mTypeError\u001b[0m                                 Traceback (most recent call last)",
      "\u001b[0;32m<ipython-input-34-2ed0d7de6146>\u001b[0m in \u001b[0;36m<module>\u001b[0;34m\u001b[0m\n\u001b[0;32m----> 1\u001b[0;31m \u001b[0ma\u001b[0m\u001b[0;34m.\u001b[0m\u001b[0msort\u001b[0m\u001b[0;34m(\u001b[0m\u001b[0;34m)\u001b[0m\u001b[0;34m\u001b[0m\u001b[0;34m\u001b[0m\u001b[0m\n\u001b[0m",
      "\u001b[0;31mTypeError\u001b[0m: '<' not supported between instances of 'str' and 'int'"
     ]
    }
   ],
   "source": [
    "a.sort()"
   ]
  },
  {
   "cell_type": "code",
   "execution_count": 40,
   "id": "e9fa1907-8e84-4549-8baf-250248651fc2",
   "metadata": {},
   "outputs": [],
   "source": [
    "a.sort(key=lambda x: str(x)[0], reverse=True) # f = lambda x: => f(x)"
   ]
  },
  {
   "cell_type": "code",
   "execution_count": 41,
   "id": "8b913831-64da-4b3c-ae38-debd529871ae",
   "metadata": {},
   "outputs": [
    {
     "data": {
      "text/plain": [
       "['apple', 4.0, 3, 2]"
      ]
     },
     "execution_count": 41,
     "metadata": {},
     "output_type": "execute_result"
    }
   ],
   "source": [
    "a"
   ]
  },
  {
   "cell_type": "code",
   "execution_count": 39,
   "id": "2feda492-9e4e-49c6-b3d2-7e968bea228e",
   "metadata": {},
   "outputs": [
    {
     "data": {
      "text/plain": [
       "97"
      ]
     },
     "execution_count": 39,
     "metadata": {},
     "output_type": "execute_result"
    }
   ],
   "source": [
    "ord('a')"
   ]
  },
  {
   "cell_type": "code",
   "execution_count": 42,
   "id": "64fe5f49-dabc-4f02-b136-e97b53767c80",
   "metadata": {},
   "outputs": [],
   "source": [
    "a.append(2)"
   ]
  },
  {
   "cell_type": "code",
   "execution_count": 43,
   "id": "4e4c9ca5-060f-4527-aef7-df15c5f64720",
   "metadata": {},
   "outputs": [
    {
     "data": {
      "text/plain": [
       "['apple', 4.0, 3, 2, 2]"
      ]
     },
     "execution_count": 43,
     "metadata": {},
     "output_type": "execute_result"
    }
   ],
   "source": [
    "a"
   ]
  },
  {
   "cell_type": "code",
   "execution_count": 50,
   "id": "5b98bcde-883b-4897-af67-9acf0bee49a8",
   "metadata": {},
   "outputs": [],
   "source": [
    "# Set\n",
    "\n",
    "s = {1, 2, 3, 3.2, 'apple'}"
   ]
  },
  {
   "cell_type": "code",
   "execution_count": 51,
   "id": "ef7975ca-827e-4c29-a1ae-08b969d1da29",
   "metadata": {},
   "outputs": [
    {
     "data": {
      "text/plain": [
       "{1, 2, 3, 3.2, 'apple'}"
      ]
     },
     "execution_count": 51,
     "metadata": {},
     "output_type": "execute_result"
    }
   ],
   "source": [
    "s"
   ]
  },
  {
   "cell_type": "code",
   "execution_count": 52,
   "id": "b7258e79-456d-4413-a7f4-70c9c6bb234f",
   "metadata": {},
   "outputs": [
    {
     "ename": "TypeError",
     "evalue": "'set' object does not support item assignment",
     "output_type": "error",
     "traceback": [
      "\u001b[0;31m---------------------------------------------------------------------------\u001b[0m",
      "\u001b[0;31mTypeError\u001b[0m                                 Traceback (most recent call last)",
      "\u001b[0;32m<ipython-input-52-06ee6658ee71>\u001b[0m in \u001b[0;36m<module>\u001b[0;34m\u001b[0m\n\u001b[0;32m----> 1\u001b[0;31m \u001b[0ms\u001b[0m\u001b[0;34m[\u001b[0m\u001b[0;36m0\u001b[0m\u001b[0;34m]\u001b[0m \u001b[0;34m=\u001b[0m \u001b[0;36m4\u001b[0m\u001b[0;34m\u001b[0m\u001b[0;34m\u001b[0m\u001b[0m\n\u001b[0m",
      "\u001b[0;31mTypeError\u001b[0m: 'set' object does not support item assignment"
     ]
    }
   ],
   "source": [
    "s[0] = 4"
   ]
  },
  {
   "cell_type": "code",
   "execution_count": 53,
   "id": "1622645a-8256-482e-824a-66083da2a385",
   "metadata": {},
   "outputs": [
    {
     "data": {
      "text/plain": [
       "'\\n  input: [3, 1, 2, 4, 5]\\n  tree: (binary-search-tree) ordering => left-child-val < node-val < right-child-va, 1st element is at root\\n  root->   3\\n          / \\\\ \\n         1   4\\n          \\\\   \\\\ \\nleaf->     2   5\\n\\n   heap: (minimum-heap/maximum-heap) ordering => min/max element is at root\\n   tree:   1\\n          /          4   3\\n          \\\\  /\\n           5 2 \\n'"
      ]
     },
     "execution_count": 53,
     "metadata": {},
     "output_type": "execute_result"
    }
   ],
   "source": [
    "'''\n",
    "  input: [3, 1, 2, 4, 5]\n",
    "  tree: (binary-search-tree) ordering => left-child-val < node-val < right-child-va, 1st element is at root\n",
    "  root->   3\n",
    "          / \\ \n",
    "         1   4\n",
    "          \\   \\ \n",
    "leaf->     2   5\n",
    "\n",
    "   heap: (minimum-heap/maximum-heap) ordering => min/max element is at root\n",
    "   tree:   1\n",
    "          / \\\n",
    "         4   3\n",
    "          \\  /\n",
    "           5 2 \n",
    "'''"
   ]
  },
  {
   "cell_type": "code",
   "execution_count": 1,
   "id": "c64dd1e0-6496-4b79-a34e-d36b6eeb6910",
   "metadata": {},
   "outputs": [
    {
     "data": {
      "text/plain": [
       "2"
      ]
     },
     "execution_count": 1,
     "metadata": {},
     "output_type": "execute_result"
    }
   ],
   "source": [
    "2 & 3 # 2 = 10, 3 = 2^1 * 1 + 2^0 * 1 = 11, 2 & 3 = (10 & 11) = 10 => 2"
   ]
  },
  {
   "cell_type": "code",
   "execution_count": 9,
   "id": "c13049bc-073b-4e67-9b3b-c4b91cbc24f6",
   "metadata": {},
   "outputs": [
    {
     "data": {
      "text/plain": [
       "0"
      ]
     },
     "execution_count": 9,
     "metadata": {},
     "output_type": "execute_result"
    }
   ],
   "source": [
    "0 or 0 or 0 or 0 # condition1 and condition2 / condition1 or condition2"
   ]
  },
  {
   "cell_type": "code",
   "execution_count": 11,
   "id": "e6e35da9-670f-4317-bd64-ceccf68bf236",
   "metadata": {},
   "outputs": [
    {
     "name": "stdout",
     "output_type": "stream",
     "text": [
      "1 2 3 4 5 6 7 8 9 10 \n"
     ]
    }
   ],
   "source": [
    "# int i = 1;\n",
    "# for (i = 1; i <= 10; i++)\n",
    "for i in range(1, 11): # range(start, stop - 1, step) => generator\n",
    "    print(i, end=' ')\n",
    "print()"
   ]
  },
  {
   "cell_type": "code",
   "execution_count": 12,
   "id": "914f77ea-1f40-4974-b467-9d9e7617aacf",
   "metadata": {},
   "outputs": [
    {
     "name": "stdout",
     "output_type": "stream",
     "text": [
      "1 2 3 4 5 6 7 8 9 "
     ]
    }
   ],
   "source": [
    "i = 1\n",
    "while i < 10:\n",
    "    print(i, end=' ')\n",
    "    i += 1"
   ]
  },
  {
   "cell_type": "code",
   "execution_count": 16,
   "id": "650600a7-6faf-490e-90b6-eeaf971631fa",
   "metadata": {},
   "outputs": [
    {
     "name": "stdout",
     "output_type": "stream",
     "text": [
      "2 3 4 5 6 7 8 9 10 11 \n",
      "3 4 5 6 7 8 9 10 11 12 \n",
      "4 5 6 7 8 9 10 11 12 13 \n",
      "5 6 7 8 9 10 11 12 13 14 \n",
      "6 7 8 9 10 11 12 13 14 15 \n",
      "7 8 9 10 11 12 13 14 15 16 \n",
      "8 9 10 11 12 13 14 15 16 17 \n",
      "9 10 11 12 13 14 15 16 17 18 \n",
      "10 11 12 13 14 15 16 17 18 19 \n",
      "11 12 13 14 15 16 17 18 19 20 \n"
     ]
    }
   ],
   "source": [
    "for i in range(1, 11):\n",
    "    for j in range(1, 11):\n",
    "        print(i + j, end = ' ')\n",
    "    print()"
   ]
  },
  {
   "cell_type": "code",
   "execution_count": 66,
   "id": "b73bd06f-7e16-4cf2-a41d-03564c5bfcba",
   "metadata": {},
   "outputs": [
    {
     "name": "stdout",
     "output_type": "stream",
     "text": [
      "['1.txt', '2.txt', '3.txt', '4.txt', '5.txt']\n",
      "[30, 30, 30, 30, 30]\n",
      "150\n"
     ]
    }
   ],
   "source": [
    "# FILE* fptr = fopen(\"input.txt\", \"r\")\n",
    "# Goal: read number from file, compute factorial of number and save in {number}_out.txt\n",
    "\n",
    "in_dir = \"/Users/prateepmukherjee/Box/Python-Tutorial/data/piyali\"\n",
    "out_dir = in_dir\n",
    "\n",
    "import os # same as #include\n",
    "import functools # from functools import reduce\n",
    "import operator\n",
    "\n",
    "list_files = os.listdir(in_dir)\n",
    "print(list_files)\n",
    "\n",
    "result = []\n",
    "\n",
    "for file in list_files:\n",
    "    file_path = os.path.join(in_dir, file)\n",
    "    if file_path.endswith('.txt'):\n",
    "        try:\n",
    "#             reader = open(file_path, 'r') # with open(file_path, 'r') as fp: # => scope of the file\n",
    "            with open(file_path, 'r') as reader:\n",
    "                lines = list(filter(lambda x: True if len(x) > 0 and x != \"\\n\" else False, reader.readlines()))\n",
    "                lines_gc = list(filter(lambda x: True if x.__contains__('gene-c') else False, lines))\n",
    "                lines_1 = list(map(lambda x: int(x.strip().split('=')[1]), lines_gc)) #[x.strip() for x in lines]\n",
    "      #         print(fp.readlines())\n",
    "#                 print(functools.reduce(operator.add, lines_1))\n",
    "                result.append(lines_1[0])\n",
    "                out_file_path = os.path.join(out_dir, os.path.splitext(file)[0] + \"_out.txt\")\n",
    "#                 with open(out_file_path, 'w') as writer:\n",
    "#                     writer.writelines(lines_gc)\n",
    "#             fp.close()\n",
    "        except Exception as e:\n",
    "            print(file, e)\n",
    "            \n",
    "print(result)\n",
    "sum = functools.reduce(lambda x, sum: sum + x, result) # for r in result: sum += r\n",
    "# print(functools.reduce(operator.add, result))\n",
    "print(sum)"
   ]
  },
  {
   "cell_type": "code",
   "execution_count": 26,
   "id": "48f82c52-2768-4348-a783-5b699bd9e70b",
   "metadata": {},
   "outputs": [
    {
     "data": {
      "text/plain": [
       "'/Users/prateepmukherjee/Box/Python-Tutorial/notebooks'"
      ]
     },
     "execution_count": 26,
     "metadata": {},
     "output_type": "execute_result"
    }
   ],
   "source": [
    "os.getcwd()"
   ]
  },
  {
   "cell_type": "code",
   "execution_count": 29,
   "id": "4a44ad8f-8286-4707-8842-10f0b2a9e58c",
   "metadata": {},
   "outputs": [
    {
     "data": {
      "text/plain": [
       "[1, 2, 3, 4, 5, 6, 7, 8, 9]"
      ]
     },
     "execution_count": 29,
     "metadata": {},
     "output_type": "execute_result"
    }
   ],
   "source": [
    "list(range(1, 10))"
   ]
  },
  {
   "cell_type": "code",
   "execution_count": 42,
   "id": "1abb4cda-ae1a-4b72-8077-1e6dcdab09f5",
   "metadata": {},
   "outputs": [
    {
     "name": "stdout",
     "output_type": "stream",
     "text": [
      "[1, 2, 3, 4, 5, 6, 7, 8, 9] [4, 6, 8]\n"
     ]
    }
   ],
   "source": [
    "a = list(range(1, 10))\n",
    "filt = filter(lambda x: True if x % 2 == 0 and x >= 4 else False, a) # if x % 2 return True else return False\n",
    "filt_list = list(filt)\n",
    "print(a, filt_list)"
   ]
  },
  {
   "cell_type": "code",
   "execution_count": null,
   "id": "937030f3-f2df-4fb7-a490-e835d7433187",
   "metadata": {},
   "outputs": [],
   "source": []
  }
 ],
 "metadata": {
  "kernelspec": {
   "display_name": "venv",
   "language": "python",
   "name": "venv"
  },
  "language_info": {
   "codemirror_mode": {
    "name": "ipython",
    "version": 3
   },
   "file_extension": ".py",
   "mimetype": "text/x-python",
   "name": "python",
   "nbconvert_exporter": "python",
   "pygments_lexer": "ipython3",
   "version": "3.6.8"
  }
 },
 "nbformat": 4,
 "nbformat_minor": 5
}
