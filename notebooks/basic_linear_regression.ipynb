{
 "cells": [
  {
   "cell_type": "markdown",
   "metadata": {},
   "source": [
    "# Linear Regression\n",
    "\n",
    "Finding a straight line of best fit through the data. This works well when the true underlying function is linear."
   ]
  },
  {
   "cell_type": "markdown",
   "metadata": {},
   "source": [
    "## Linear Model\n",
    "\n",
    "The idea of simple linear regression is to fit a line to a set of points. Let us use the line function given by:\n",
    "\n",
    "$$ f(x) = y = mx + b $$\n",
    "\n",
    "where $m$ is the slope and $b$ is our y-intercept. For multiple variables, a linear function $h(x)$ can be expressed as:\n",
    "\n",
    "$$ h_{\\theta}(x) = \\theta_{0} x_0 + \\theta_{1} x_1 + \\theta_{2} x_2 + \\theta_{3} x_3 + \\cdots + \\theta_{n}x_{n} = \\Theta^T \\mathbf{X}$$\n",
    "\n",
    "where $\\theta$ is our parameters(**slope** and **intercept**) and $h_{\\theta}(x)$ is our hypothesis or predicted value."
   ]
  },
  {
   "cell_type": "markdown",
   "metadata": {},
   "source": [
    "So, that's the Linear Regression model. But how do we train it ? For this purpose, we first need a measure of how well (or poorly) the model fits the training data. The most common performance mearue of a regression model is the *Root Mean Square Error* (or RMSE). Therefore, to train a a *Linear Regression* model, you need to find the value of $\\theta$ that minimizes the RMSE. In practice, it is simpler to minimize the *Mean Square Error* (or MSE) than the RMSE, and it leads to the same result.\n",
    "\n",
    "The *MSE* cost function for a Linear Regression model is given as:\n",
    "\n",
    "$$\n",
    "MSE(\\mathbf{X},h_{\\theta}) = \\frac{1}{n} \\underset{i}\\sum \\left ( \\theta^T x_i - y_i \\right )^2\n",
    "$$\n",
    "\n",
    "To find the value of $\\theta$ thta minimizes the cost function, there is a *closed-form solution*, as follows.\n",
    "\n",
    "$$\n",
    "\\hat{\\theta} = \\left ( \\mathbf{X}^T \\mathbf{X} \\right )^{-1} \\cdot \\mathbf{X}^T \\cdot \\mathbf{y}\n",
    "$$\n",
    "\n",
    "where $\\hat{\\theta}$ is the optimal value of $\\theta$."
   ]
  },
  {
   "cell_type": "markdown",
   "metadata": {},
   "source": [
    "## Example"
   ]
  },
  {
   "cell_type": "markdown",
   "metadata": {},
   "source": [
    "### 1. Importing Libraries and Packages\n",
    "\n",
    "We will use these packages to help us manipulate the data and visualize the features/labels as well as measure how well our model performed. Numpy and Pandas are helpful for manipulating the dataframe and its columns and cells. We will use matplotlib along with Seaborn to visualize our data.\n"
   ]
  },
  {
   "cell_type": "code",
   "execution_count": 3,
   "metadata": {},
   "outputs": [],
   "source": [
    "import numpy as np \n",
    "import pandas as pd \n",
    "import matplotlib.pyplot as plt\n",
    "import seaborn as sns "
   ]
  },
  {
   "cell_type": "markdown",
   "metadata": {},
   "source": [
    "### 2. Loading and Viewing the Data Set\n",
    "\n",
    "With Pandas, we can load both the training and testing set that we wil later use to train and test our model. Before we begin, we should take a look at our data table to see the values that we'll be working with. We can use the head and describe function to look at some sample data and statistics."
   ]
  },
  {
   "cell_type": "code",
   "execution_count": 4,
   "metadata": {},
   "outputs": [
    {
     "data": {
      "text/plain": [
       "<bound method DataFrame.info of     experience  salary\n",
       "0          0.5    2500\n",
       "1          0.0    2250\n",
       "2          1.0    2750\n",
       "3          5.0    8000\n",
       "4          8.0    9000\n",
       "5          4.0    6900\n",
       "6         15.0   20000\n",
       "7          7.0    8500\n",
       "8          3.0    6000\n",
       "9          2.0    3500\n",
       "10        12.0   15000\n",
       "11        10.0   13000\n",
       "12        14.0   18000\n",
       "13         6.0    7500>"
      ]
     },
     "execution_count": 4,
     "metadata": {},
     "output_type": "execute_result"
    }
   ],
   "source": [
    "df = pd.read_csv('../data/linear-regression-dataset.csv')\n",
    "df.info"
   ]
  },
  {
   "cell_type": "code",
   "execution_count": 3,
   "metadata": {},
   "outputs": [
    {
     "data": {
      "text/html": [
       "<div>\n",
       "<style scoped>\n",
       "    .dataframe tbody tr th:only-of-type {\n",
       "        vertical-align: middle;\n",
       "    }\n",
       "\n",
       "    .dataframe tbody tr th {\n",
       "        vertical-align: top;\n",
       "    }\n",
       "\n",
       "    .dataframe thead th {\n",
       "        text-align: right;\n",
       "    }\n",
       "</style>\n",
       "<table border=\"1\" class=\"dataframe\">\n",
       "  <thead>\n",
       "    <tr style=\"text-align: right;\">\n",
       "      <th></th>\n",
       "      <th>experience</th>\n",
       "      <th>salary</th>\n",
       "    </tr>\n",
       "  </thead>\n",
       "  <tbody>\n",
       "    <tr>\n",
       "      <th>0</th>\n",
       "      <td>0.5</td>\n",
       "      <td>2500</td>\n",
       "    </tr>\n",
       "    <tr>\n",
       "      <th>1</th>\n",
       "      <td>0.0</td>\n",
       "      <td>2250</td>\n",
       "    </tr>\n",
       "    <tr>\n",
       "      <th>2</th>\n",
       "      <td>1.0</td>\n",
       "      <td>2750</td>\n",
       "    </tr>\n",
       "    <tr>\n",
       "      <th>3</th>\n",
       "      <td>5.0</td>\n",
       "      <td>8000</td>\n",
       "    </tr>\n",
       "    <tr>\n",
       "      <th>4</th>\n",
       "      <td>8.0</td>\n",
       "      <td>9000</td>\n",
       "    </tr>\n",
       "  </tbody>\n",
       "</table>\n",
       "</div>"
      ],
      "text/plain": [
       "   experience  salary\n",
       "0         0.5    2500\n",
       "1         0.0    2250\n",
       "2         1.0    2750\n",
       "3         5.0    8000\n",
       "4         8.0    9000"
      ]
     },
     "execution_count": 3,
     "metadata": {},
     "output_type": "execute_result"
    }
   ],
   "source": [
    "df.head()"
   ]
  },
  {
   "cell_type": "markdown",
   "metadata": {},
   "source": [
    "### 3. Plotting and Visualizing Data\n",
    "\n",
    "Plotting the data with `matplotlib.pyplot.scatter`."
   ]
  },
  {
   "cell_type": "code",
   "execution_count": 13,
   "metadata": {},
   "outputs": [
    {
     "data": {
      "image/png": "[encoded data removed]",
      "text/plain": [
       "<Figure size 432x288 with 1 Axes>"
      ]
     },
     "metadata": {
      "needs_background": "light"
     },
     "output_type": "display_data"
    }
   ],
   "source": [
    "plt.scatter(df.experience, df.salary)\n",
    "plt.xlabel('Experience')\n",
    "plt.ylabel('Salary')\n",
    "plt.show()"
   ]
  },
  {
   "cell_type": "markdown",
   "metadata": {},
   "source": [
    "Plotting data with subplot."
   ]
  },
  {
   "cell_type": "code",
   "execution_count": 5,
   "metadata": {},
   "outputs": [
    {
     "data": {
      "text/plain": [
       "<matplotlib.axes._subplots.AxesSubplot at 0xcd68cf0>"
      ]
     },
     "execution_count": 5,
     "metadata": {},
     "output_type": "execute_result"
    },
    {
     "data": {
      "image/png": "[encoded data removed]",
      "text/plain": [
       "<Figure size 432x288 with 1 Axes>"
      ]
     },
     "metadata": {
      "needs_background": "light"
     },
     "output_type": "display_data"
    }
   ],
   "source": [
    "df_plot = df.loc[:,[\"experience\",\"salary\"]]\n",
    "df_plot.plot()"
   ]
  },
  {
   "cell_type": "markdown",
   "metadata": {},
   "source": [
    "### 4. Model Fitting, Optimizing and Predicting\n",
    "\n",
    "Now that our data has been processed and formmated properly, and that we understand the general data we're working with as well as the trends and associations, we can start to build our model. We can import different classifiers from sklearn."
   ]
  },
  {
   "cell_type": "code",
   "execution_count": 1,
   "metadata": {},
   "outputs": [],
   "source": [
    "from sklearn.linear_model import LinearRegression"
   ]
  },
  {
   "cell_type": "code",
   "execution_count": 5,
   "metadata": {},
   "outputs": [],
   "source": [
    "model = LinearRegression()\n",
    "x = df.experience.values.reshape(-1,1) # vectorize\n",
    "y = df.salary.values.reshape(-1,1) # vectorize"
   ]
  },
  {
   "cell_type": "markdown",
   "metadata": {},
   "source": [
    "Fitting the data."
   ]
  },
  {
   "cell_type": "code",
   "execution_count": 9,
   "metadata": {},
   "outputs": [
    {
     "data": {
      "text/plain": [
       "LinearRegression(copy_X=True, fit_intercept=True, n_jobs=None,\n",
       "         normalize=False)"
      ]
     },
     "execution_count": 9,
     "metadata": {},
     "output_type": "execute_result"
    }
   ],
   "source": [
    "model.fit(x,y)"
   ]
  },
  {
   "cell_type": "markdown",
   "metadata": {},
   "source": [
    "Predicting salary for twenty years experience."
   ]
  },
  {
   "cell_type": "code",
   "execution_count": 10,
   "metadata": {},
   "outputs": [
    {
     "name": "stdout",
     "output_type": "stream",
     "text": [
      "[[24430.85913699]]\n"
     ]
    }
   ],
   "source": [
    "prediction = model.predict([[20]])\n",
    "print(prediction)"
   ]
  },
  {
   "cell_type": "markdown",
   "metadata": {},
   "source": [
    "## Disadvantages of Linear Regression"
   ]
  },
  {
   "cell_type": "markdown",
   "metadata": {},
   "source": [
    "### Linear Regression only looks at Mean of the Dependent Variable\n",
    "\n",
    "LR looks at a relationship between the mean of the dependent variable and the independent variables. For example, if you look at the relationshop between the birth weight of infants and maternal characteristics like age, linear regression will look at the average weight of babies born to mothers at different ages. The mean is always not the most complete description of a single variable."
   ]
  },
  {
   "cell_type": "markdown",
   "metadata": {},
   "source": [
    "### LR is sensitive to outliers\n",
    "\n",
    " If you are looking at age and income, univariate outliers would be things like a person who is 118 years old, or one who made \\\\$12 million last year. A multivariate outlier would be an 18-year-old who made \\\\$200,000. In this case, neither the age nor the income is very extreme, but very few 18-year-old people make that much money.\n",
    " \n",
    " Outliers can have huge effects on the regression."
   ]
  },
  {
   "cell_type": "markdown",
   "metadata": {},
   "source": [
    "### Data must be independent\n",
    "\n",
    "LR assumes that the data points are independent. That means the score of one subject has no correlation with that of any other. This is not true always. \n",
    "\n",
    "A classical example is student test scores, when you have students from various classes, grades, schools and school districts. Students from the same class tend to be similar in many ways, i.e. they come from the same neighborhoods, they have same teachers etc. Thus, they are not independent."
   ]
  }
 ],
 "metadata": {
  "kernelspec": {
   "display_name": "Python 3",
   "language": "python",
   "name": "python3"
  },
  "language_info": {
   "codemirror_mode": {
    "name": "ipython",
    "version": 3
   },
   "file_extension": ".py",
   "mimetype": "text/x-python",
   "name": "python",
   "nbconvert_exporter": "python",
   "pygments_lexer": "ipython3",
   "version": "3.7.2"
  }
 },
 "nbformat": 4,
 "nbformat_minor": 2
}
