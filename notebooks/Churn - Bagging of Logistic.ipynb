{
 "cells": [
  {
   "cell_type": "markdown",
   "metadata": {},
   "source": [
    "# Bagging\n",
    "\n",
    "Ensemble learning is a machine learning paradigm where multiple models (often called “weak learners”) are trained to solve the same problem and combined to get better results. The main hypothesis is that when weak models are correctly combined we can obtain more accurate and/or robust models."
   ]
  },
  {
   "cell_type": "markdown",
   "metadata": {},
   "source": [
    "## Bias-Variance Tradeoff\n",
    "\n",
    "In data science, the choice of the model is extremely important to have any chance to obtain good results. A **low bias** and **high variance** are the two most fundamental features expected from a model. Indeed, to be able to “solve” a problem, we want our model to have enough degrees of freedom to resolve the underlying complexity of the data we are working with, but we also want it to have not too much degrees of freedom to avoid high variance and be more robust. This is known as **bias-variance tradeoff**.\n",
    "\n",
    "<img src='../data/bias-variance.png'> </img>"
   ]
  },
  {
   "cell_type": "markdown",
   "metadata": {},
   "source": [
    "Bagging is a simple and yet very powerful ensemble method. Bagging is a general procedure that can be used to reduce the variance for those algorithm that have high variance. An algorithm that has high variance are decision trees, like classification and regression trees (CART). In order to reduce variance in training, bagging methods use the same training algorithm for every predictor, but trains them on different random subsets of the training set. \n",
    "\n",
    "Once all the predictors are trained, the ensemble can make a prediction for a new instance by simply aggregating the predictions of all predictors. The aggregation function is typically the *statistical model* for classification, or the average for regression. Each individual predictor has a higher bias than if it were trained on the original training set, but aggregation reduces both bias and variance. "
   ]
  },
  {
   "cell_type": "markdown",
   "metadata": {},
   "source": [
    "## Bagging on a small dataset\n",
    "\n",
    "`scikit-learn` offers a simple API for bagging with the `BaggingClassifier` class. The dataset used for the following demo is from `sklearn.datasets.make_moons`, which essentially makes two interleaving half circles. "
   ]
  },
  {
   "cell_type": "code",
   "execution_count": 1,
   "metadata": {},
   "outputs": [],
   "source": [
    "import numpy as np\n",
    "import pandas as pd\n",
    "from sklearn.datasets import make_moons\n",
    "from sklearn.preprocessing import StandardScaler"
   ]
  },
  {
   "cell_type": "code",
   "execution_count": 2,
   "metadata": {},
   "outputs": [
    {
     "data": {
      "text/plain": [
       "(1500, 2)"
      ]
     },
     "execution_count": 2,
     "metadata": {},
     "output_type": "execute_result"
    }
   ],
   "source": [
    "n_samples = 1500 # number of samples drawn\n",
    "\n",
    "X, y = make_moons(n_samples=n_samples, noise=0.05, random_state=42)\n",
    "\n",
    "X.shape"
   ]
  },
  {
   "cell_type": "code",
   "execution_count": 3,
   "metadata": {},
   "outputs": [
    {
     "name": "stdout",
     "output_type": "stream",
     "text": [
      "No. of train samples: 1050\n",
      "No. of test samples: 450\n"
     ]
    }
   ],
   "source": [
    "from sklearn.model_selection import train_test_split\n",
    "X_train, X_test, y_train, y_test = train_test_split(X, y, test_size = 0.30, \n",
    "                                                    random_state = 42)\n",
    "\n",
    "print(\"No. of train samples: {}\".format(X_train.shape[0]))\n",
    "print(\"No. of test samples: {}\".format(X_test.shape[0]))"
   ]
  },
  {
   "cell_type": "markdown",
   "metadata": {},
   "source": [
    "The following code trains an ensemble of 500 *DecisionTreeClassifiers*, each trained on 100 training instances randomly selected from the training set with replacement. The `n_jobs` parameter tells sklearn the number of CPU cores to use for training and predictions (-1 to use all available cores)."
   ]
  },
  {
   "cell_type": "code",
   "execution_count": 4,
   "metadata": {},
   "outputs": [
    {
     "name": "stderr",
     "output_type": "stream",
     "text": [
      "D:\\Teaching\\venv-p3.7.2\\lib\\site-packages\\sklearn\\ensemble\\weight_boosting.py:29: DeprecationWarning: numpy.core.umath_tests is an internal NumPy module and should not be imported. It will be removed in a future NumPy release.\n",
      "  from numpy.core.umath_tests import inner1d\n"
     ]
    },
    {
     "data": {
      "text/plain": [
       "BaggingClassifier(base_estimator=DecisionTreeClassifier(class_weight=None, criterion='gini', max_depth=None,\n",
       "            max_features=None, max_leaf_nodes=None,\n",
       "            min_impurity_decrease=0.0, min_impurity_split=None,\n",
       "            min_samples_leaf=1, min_samples_split=2,\n",
       "            min_weight_fraction_leaf=0.0, presort=False, random_state=42,\n",
       "            splitter='best'),\n",
       "         bootstrap=True, bootstrap_features=False, max_features=1.0,\n",
       "         max_samples=100, n_estimators=500, n_jobs=1, oob_score=False,\n",
       "         random_state=None, verbose=0, warm_start=False)"
      ]
     },
     "execution_count": 4,
     "metadata": {},
     "output_type": "execute_result"
    }
   ],
   "source": [
    "from sklearn.ensemble import BaggingClassifier\n",
    "from sklearn.tree import DecisionTreeClassifier\n",
    "\n",
    "tree_model = DecisionTreeClassifier(random_state=42)\n",
    "\n",
    "bag_clf = BaggingClassifier(base_estimator = tree_model, \n",
    "                            n_estimators = 500, # number of base estimators in the ensemble\n",
    "                            max_samples = 100, # number of samples to draw from X to train each base estimator \n",
    "                            bootstrap = True, # whether samples are drawn with replacement.\n",
    "                            n_jobs = 1,\n",
    "                            verbose = 0\n",
    "                           )\n",
    "bag_clf.fit(X_train, y_train)"
   ]
  },
  {
   "cell_type": "code",
   "execution_count": 5,
   "metadata": {},
   "outputs": [],
   "source": [
    "y_pred = bag_clf.predict(X_test)"
   ]
  },
  {
   "cell_type": "code",
   "execution_count": 6,
   "metadata": {},
   "outputs": [
    {
     "name": "stdout",
     "output_type": "stream",
     "text": [
      "Test accuracy: 0.9911111111111112\n"
     ]
    }
   ],
   "source": [
    "from sklearn.metrics import accuracy_score\n",
    "print(f'Test accuracy: {accuracy_score(y_test, y_pred)}')"
   ]
  },
  {
   "cell_type": "markdown",
   "metadata": {},
   "source": [
    "Check **null accuracy**."
   ]
  },
  {
   "cell_type": "code",
   "execution_count": 7,
   "metadata": {
    "scrolled": true
   },
   "outputs": [
    {
     "name": "stdout",
     "output_type": "stream",
     "text": [
      "Null accuracy: 0.52\n"
     ]
    }
   ],
   "source": [
    "unique, counts = np.unique(y_test, return_counts=True)\n",
    "print(f'Null accuracy: {counts[0] / counts.sum()}')"
   ]
  },
  {
   "cell_type": "markdown",
   "metadata": {},
   "source": [
    "Let's plot the decision surface."
   ]
  },
  {
   "cell_type": "code",
   "execution_count": 8,
   "metadata": {},
   "outputs": [],
   "source": [
    "# Step size in the mesh. For visualization purpose.\n",
    "stepSize = .1\n",
    "\n",
    "x_min, x_max = X[:, 0].min() - 1, X[:, 0].max() + 1\n",
    "y_min, y_max = X[:, 1].min() - 1, X[:, 1].max() + 1\n",
    "xx, yy = np.meshgrid(np.arange(x_min, x_max, stepSize),\n",
    "                         np.arange(y_min, y_max, stepSize))"
   ]
  },
  {
   "cell_type": "code",
   "execution_count": 9,
   "metadata": {},
   "outputs": [],
   "source": [
    "Z = bag_clf.predict(np.c_[xx.ravel(), yy.ravel()])"
   ]
  },
  {
   "cell_type": "code",
   "execution_count": 10,
   "metadata": {},
   "outputs": [],
   "source": [
    "from matplotlib import pyplot as plt\n",
    "from matplotlib.colors import ListedColormap\n",
    "%matplotlib inline\n",
    "\n",
    "# Create color maps\n",
    "cmap_light = ListedColormap(['orange', 'cyan', 'cornflowerblue'])\n",
    "cmap_bold = ListedColormap(['darkorange', 'cyan', 'darkblue'])"
   ]
  },
  {
   "cell_type": "code",
   "execution_count": 11,
   "metadata": {},
   "outputs": [
    {
     "data": {
      "text/plain": [
       "Text(0.5, 1.0, '2-Class Classification in `make_moons` dataset')"
      ]
     },
     "execution_count": 11,
     "metadata": {},
     "output_type": "execute_result"
    },
    {
     "data": {
      "image/png": "[encoded data removed]",
      "text/plain": [
       "<Figure size 432x288 with 1 Axes>"
      ]
     },
     "metadata": {
      "needs_background": "light"
     },
     "output_type": "display_data"
    }
   ],
   "source": [
    "# Put the decision boundary into a color plot\n",
    "Z = Z.reshape(xx.shape)\n",
    "\n",
    "plt.pcolormesh(xx, yy, Z, cmap=cmap_light)\n",
    "\n",
    "# Next, add the training points.\n",
    "ax = plt.scatter(X[:,0], X[:,1], c=y, cmap=cmap_bold, edgecolors='k',s=20)\n",
    "plt.xlim(xx.min(), xx.max())\n",
    "plt.ylim(yy.min(), yy.max())\n",
    "plt.xlabel('moon 1')\n",
    "plt.ylabel('moon 2')\n",
    "plt.title('2-Class Classification in `make_moons` dataset')"
   ]
  },
  {
   "cell_type": "markdown",
   "metadata": {},
   "source": [
    "## Bagging on Churn dataset"
   ]
  },
  {
   "cell_type": "code",
   "execution_count": 12,
   "metadata": {},
   "outputs": [],
   "source": [
    "# The following code includes Bagging of logistic models\n",
    "# best parameters are identified using grid search with cross validation"
   ]
  },
  {
   "cell_type": "code",
   "execution_count": 13,
   "metadata": {},
   "outputs": [
    {
     "name": "stdout",
     "output_type": "stream",
     "text": [
      "D:\\Teaching\\Python-Tutorial\\data\n"
     ]
    }
   ],
   "source": [
    "import os\n",
    "os.chdir(\"D:\\Teaching\\Python-Tutorial\\data\")\n",
    "print (os.getcwd())"
   ]
  },
  {
   "cell_type": "code",
   "execution_count": 14,
   "metadata": {},
   "outputs": [
    {
     "data": {
      "text/html": [
       "<div>\n",
       "<style scoped>\n",
       "    .dataframe tbody tr th:only-of-type {\n",
       "        vertical-align: middle;\n",
       "    }\n",
       "\n",
       "    .dataframe tbody tr th {\n",
       "        vertical-align: top;\n",
       "    }\n",
       "\n",
       "    .dataframe thead th {\n",
       "        text-align: right;\n",
       "    }\n",
       "</style>\n",
       "<table border=\"1\" class=\"dataframe\">\n",
       "  <thead>\n",
       "    <tr style=\"text-align: right;\">\n",
       "      <th></th>\n",
       "      <th>AccountLength</th>\n",
       "      <th>AreaCode</th>\n",
       "      <th>IntlPlan</th>\n",
       "      <th>VMailPlan</th>\n",
       "      <th>VMailMessage</th>\n",
       "      <th>DayMins</th>\n",
       "      <th>DayCalls</th>\n",
       "      <th>DayCharge</th>\n",
       "      <th>EveMins</th>\n",
       "      <th>EveCalls</th>\n",
       "      <th>EveCharge</th>\n",
       "      <th>NightMins</th>\n",
       "      <th>NightCalls</th>\n",
       "      <th>NightCharge</th>\n",
       "      <th>IntlMins</th>\n",
       "      <th>IntlCalls</th>\n",
       "      <th>IntlCharge</th>\n",
       "      <th>CusServCalls</th>\n",
       "      <th>Churn</th>\n",
       "    </tr>\n",
       "  </thead>\n",
       "  <tbody>\n",
       "    <tr>\n",
       "      <th>count</th>\n",
       "      <td>3333.000000</td>\n",
       "      <td>3333.000000</td>\n",
       "      <td>3333.000000</td>\n",
       "      <td>3333.000000</td>\n",
       "      <td>3333.000000</td>\n",
       "      <td>3333.000000</td>\n",
       "      <td>3333.000000</td>\n",
       "      <td>3333.000000</td>\n",
       "      <td>3333.000000</td>\n",
       "      <td>3333.000000</td>\n",
       "      <td>3333.000000</td>\n",
       "      <td>3333.000000</td>\n",
       "      <td>3333.000000</td>\n",
       "      <td>3333.000000</td>\n",
       "      <td>3333.000000</td>\n",
       "      <td>3333.000000</td>\n",
       "      <td>3333.000000</td>\n",
       "      <td>3333.000000</td>\n",
       "      <td>3333.000000</td>\n",
       "    </tr>\n",
       "    <tr>\n",
       "      <th>mean</th>\n",
       "      <td>101.064806</td>\n",
       "      <td>437.182418</td>\n",
       "      <td>0.096910</td>\n",
       "      <td>0.276628</td>\n",
       "      <td>8.099010</td>\n",
       "      <td>179.775098</td>\n",
       "      <td>100.435644</td>\n",
       "      <td>30.562307</td>\n",
       "      <td>200.980348</td>\n",
       "      <td>100.114311</td>\n",
       "      <td>17.083540</td>\n",
       "      <td>200.872037</td>\n",
       "      <td>100.107711</td>\n",
       "      <td>9.039325</td>\n",
       "      <td>10.237294</td>\n",
       "      <td>4.479448</td>\n",
       "      <td>2.764581</td>\n",
       "      <td>1.562856</td>\n",
       "      <td>0.144914</td>\n",
       "    </tr>\n",
       "    <tr>\n",
       "      <th>std</th>\n",
       "      <td>39.822106</td>\n",
       "      <td>42.371290</td>\n",
       "      <td>0.295879</td>\n",
       "      <td>0.447398</td>\n",
       "      <td>13.688365</td>\n",
       "      <td>54.467389</td>\n",
       "      <td>20.069084</td>\n",
       "      <td>9.259435</td>\n",
       "      <td>50.713844</td>\n",
       "      <td>19.922625</td>\n",
       "      <td>4.310668</td>\n",
       "      <td>50.573847</td>\n",
       "      <td>19.568609</td>\n",
       "      <td>2.275873</td>\n",
       "      <td>2.791840</td>\n",
       "      <td>2.461214</td>\n",
       "      <td>0.753773</td>\n",
       "      <td>1.315491</td>\n",
       "      <td>0.352067</td>\n",
       "    </tr>\n",
       "    <tr>\n",
       "      <th>min</th>\n",
       "      <td>1.000000</td>\n",
       "      <td>408.000000</td>\n",
       "      <td>0.000000</td>\n",
       "      <td>0.000000</td>\n",
       "      <td>0.000000</td>\n",
       "      <td>0.000000</td>\n",
       "      <td>0.000000</td>\n",
       "      <td>0.000000</td>\n",
       "      <td>0.000000</td>\n",
       "      <td>0.000000</td>\n",
       "      <td>0.000000</td>\n",
       "      <td>23.200000</td>\n",
       "      <td>33.000000</td>\n",
       "      <td>1.040000</td>\n",
       "      <td>0.000000</td>\n",
       "      <td>0.000000</td>\n",
       "      <td>0.000000</td>\n",
       "      <td>0.000000</td>\n",
       "      <td>0.000000</td>\n",
       "    </tr>\n",
       "    <tr>\n",
       "      <th>25%</th>\n",
       "      <td>74.000000</td>\n",
       "      <td>408.000000</td>\n",
       "      <td>0.000000</td>\n",
       "      <td>0.000000</td>\n",
       "      <td>0.000000</td>\n",
       "      <td>143.700000</td>\n",
       "      <td>87.000000</td>\n",
       "      <td>24.430000</td>\n",
       "      <td>166.600000</td>\n",
       "      <td>87.000000</td>\n",
       "      <td>14.160000</td>\n",
       "      <td>167.000000</td>\n",
       "      <td>87.000000</td>\n",
       "      <td>7.520000</td>\n",
       "      <td>8.500000</td>\n",
       "      <td>3.000000</td>\n",
       "      <td>2.300000</td>\n",
       "      <td>1.000000</td>\n",
       "      <td>0.000000</td>\n",
       "    </tr>\n",
       "    <tr>\n",
       "      <th>50%</th>\n",
       "      <td>101.000000</td>\n",
       "      <td>415.000000</td>\n",
       "      <td>0.000000</td>\n",
       "      <td>0.000000</td>\n",
       "      <td>0.000000</td>\n",
       "      <td>179.400000</td>\n",
       "      <td>101.000000</td>\n",
       "      <td>30.500000</td>\n",
       "      <td>201.400000</td>\n",
       "      <td>100.000000</td>\n",
       "      <td>17.120000</td>\n",
       "      <td>201.200000</td>\n",
       "      <td>100.000000</td>\n",
       "      <td>9.050000</td>\n",
       "      <td>10.300000</td>\n",
       "      <td>4.000000</td>\n",
       "      <td>2.780000</td>\n",
       "      <td>1.000000</td>\n",
       "      <td>0.000000</td>\n",
       "    </tr>\n",
       "    <tr>\n",
       "      <th>75%</th>\n",
       "      <td>127.000000</td>\n",
       "      <td>510.000000</td>\n",
       "      <td>0.000000</td>\n",
       "      <td>1.000000</td>\n",
       "      <td>20.000000</td>\n",
       "      <td>216.400000</td>\n",
       "      <td>114.000000</td>\n",
       "      <td>36.790000</td>\n",
       "      <td>235.300000</td>\n",
       "      <td>114.000000</td>\n",
       "      <td>20.000000</td>\n",
       "      <td>235.300000</td>\n",
       "      <td>113.000000</td>\n",
       "      <td>10.590000</td>\n",
       "      <td>12.100000</td>\n",
       "      <td>6.000000</td>\n",
       "      <td>3.270000</td>\n",
       "      <td>2.000000</td>\n",
       "      <td>0.000000</td>\n",
       "    </tr>\n",
       "    <tr>\n",
       "      <th>max</th>\n",
       "      <td>243.000000</td>\n",
       "      <td>510.000000</td>\n",
       "      <td>1.000000</td>\n",
       "      <td>1.000000</td>\n",
       "      <td>51.000000</td>\n",
       "      <td>350.800000</td>\n",
       "      <td>165.000000</td>\n",
       "      <td>59.640000</td>\n",
       "      <td>363.700000</td>\n",
       "      <td>170.000000</td>\n",
       "      <td>30.910000</td>\n",
       "      <td>395.000000</td>\n",
       "      <td>175.000000</td>\n",
       "      <td>17.770000</td>\n",
       "      <td>20.000000</td>\n",
       "      <td>20.000000</td>\n",
       "      <td>5.400000</td>\n",
       "      <td>9.000000</td>\n",
       "      <td>1.000000</td>\n",
       "    </tr>\n",
       "  </tbody>\n",
       "</table>\n",
       "</div>"
      ],
      "text/plain": [
       "       AccountLength     AreaCode     IntlPlan    VMailPlan  VMailMessage  \\\n",
       "count    3333.000000  3333.000000  3333.000000  3333.000000   3333.000000   \n",
       "mean      101.064806   437.182418     0.096910     0.276628      8.099010   \n",
       "std        39.822106    42.371290     0.295879     0.447398     13.688365   \n",
       "min         1.000000   408.000000     0.000000     0.000000      0.000000   \n",
       "25%        74.000000   408.000000     0.000000     0.000000      0.000000   \n",
       "50%       101.000000   415.000000     0.000000     0.000000      0.000000   \n",
       "75%       127.000000   510.000000     0.000000     1.000000     20.000000   \n",
       "max       243.000000   510.000000     1.000000     1.000000     51.000000   \n",
       "\n",
       "           DayMins     DayCalls    DayCharge      EveMins     EveCalls  \\\n",
       "count  3333.000000  3333.000000  3333.000000  3333.000000  3333.000000   \n",
       "mean    179.775098   100.435644    30.562307   200.980348   100.114311   \n",
       "std      54.467389    20.069084     9.259435    50.713844    19.922625   \n",
       "min       0.000000     0.000000     0.000000     0.000000     0.000000   \n",
       "25%     143.700000    87.000000    24.430000   166.600000    87.000000   \n",
       "50%     179.400000   101.000000    30.500000   201.400000   100.000000   \n",
       "75%     216.400000   114.000000    36.790000   235.300000   114.000000   \n",
       "max     350.800000   165.000000    59.640000   363.700000   170.000000   \n",
       "\n",
       "         EveCharge    NightMins   NightCalls  NightCharge     IntlMins  \\\n",
       "count  3333.000000  3333.000000  3333.000000  3333.000000  3333.000000   \n",
       "mean     17.083540   200.872037   100.107711     9.039325    10.237294   \n",
       "std       4.310668    50.573847    19.568609     2.275873     2.791840   \n",
       "min       0.000000    23.200000    33.000000     1.040000     0.000000   \n",
       "25%      14.160000   167.000000    87.000000     7.520000     8.500000   \n",
       "50%      17.120000   201.200000   100.000000     9.050000    10.300000   \n",
       "75%      20.000000   235.300000   113.000000    10.590000    12.100000   \n",
       "max      30.910000   395.000000   175.000000    17.770000    20.000000   \n",
       "\n",
       "         IntlCalls   IntlCharge  CusServCalls        Churn  \n",
       "count  3333.000000  3333.000000   3333.000000  3333.000000  \n",
       "mean      4.479448     2.764581      1.562856     0.144914  \n",
       "std       2.461214     0.753773      1.315491     0.352067  \n",
       "min       0.000000     0.000000      0.000000     0.000000  \n",
       "25%       3.000000     2.300000      1.000000     0.000000  \n",
       "50%       4.000000     2.780000      1.000000     0.000000  \n",
       "75%       6.000000     3.270000      2.000000     0.000000  \n",
       "max      20.000000     5.400000      9.000000     1.000000  "
      ]
     },
     "execution_count": 14,
     "metadata": {},
     "output_type": "execute_result"
    }
   ],
   "source": [
    "churn = pd.read_csv('Churn.csv')\n",
    "churn.describe()"
   ]
  },
  {
   "cell_type": "code",
   "execution_count": 15,
   "metadata": {},
   "outputs": [
    {
     "data": {
      "text/plain": [
       "(3333, 21)"
      ]
     },
     "execution_count": 15,
     "metadata": {},
     "output_type": "execute_result"
    }
   ],
   "source": [
    "churn.shape"
   ]
  },
  {
   "cell_type": "code",
   "execution_count": 16,
   "metadata": {},
   "outputs": [
    {
     "data": {
      "text/plain": [
       "(array([0, 1], dtype=int64), array([2850,  483]))"
      ]
     },
     "execution_count": 16,
     "metadata": {},
     "output_type": "execute_result"
    }
   ],
   "source": [
    "# target class ratio\n",
    "np.unique(churn.Churn,return_counts=True)"
   ]
  },
  {
   "cell_type": "code",
   "execution_count": 17,
   "metadata": {},
   "outputs": [
    {
     "data": {
      "text/plain": [
       "0.8550855085508551"
      ]
     },
     "execution_count": 17,
     "metadata": {},
     "output_type": "execute_result"
    }
   ],
   "source": [
    "2850/(2850+483)"
   ]
  },
  {
   "cell_type": "code",
   "execution_count": 18,
   "metadata": {},
   "outputs": [
    {
     "data": {
      "text/plain": [
       "array(['State', 'AccountLength', 'AreaCode', 'Phone', 'IntlPlan',\n",
       "       'VMailPlan', 'VMailMessage', 'DayMins', 'DayCalls', 'DayCharge',\n",
       "       'EveMins', 'EveCalls', 'EveCharge', 'NightMins', 'NightCalls',\n",
       "       'NightCharge', 'IntlMins', 'IntlCalls', 'IntlCharge',\n",
       "       'CusServCalls', 'Churn'], dtype=object)"
      ]
     },
     "execution_count": 18,
     "metadata": {},
     "output_type": "execute_result"
    }
   ],
   "source": [
    "churn.columns.values"
   ]
  },
  {
   "cell_type": "code",
   "execution_count": 19,
   "metadata": {},
   "outputs": [
    {
     "data": {
      "text/plain": [
       "False"
      ]
     },
     "execution_count": 19,
     "metadata": {},
     "output_type": "execute_result"
    }
   ],
   "source": [
    "# check if any NA values\n",
    "churn.isnull().values.any()"
   ]
  },
  {
   "cell_type": "code",
   "execution_count": 20,
   "metadata": {},
   "outputs": [
    {
     "data": {
      "text/plain": [
       "array([[1.        , 0.99999995],\n",
       "       [0.99999995, 1.        ]])"
      ]
     },
     "execution_count": 20,
     "metadata": {},
     "output_type": "execute_result"
    }
   ],
   "source": [
    "# find out corrleation between day charge and day minutes\n",
    "np.corrcoef(churn.DayMins,churn.DayCharge)"
   ]
  },
  {
   "cell_type": "code",
   "execution_count": 21,
   "metadata": {},
   "outputs": [
    {
     "data": {
      "text/plain": [
       "array([[1.        , 0.99999978],\n",
       "       [0.99999978, 1.        ]])"
      ]
     },
     "execution_count": 21,
     "metadata": {},
     "output_type": "execute_result"
    }
   ],
   "source": [
    "np.corrcoef(churn.EveMins,churn.EveCharge)"
   ]
  },
  {
   "cell_type": "code",
   "execution_count": 22,
   "metadata": {},
   "outputs": [
    {
     "data": {
      "text/plain": [
       "array([[1.        , 0.99999921],\n",
       "       [0.99999921, 1.        ]])"
      ]
     },
     "execution_count": 22,
     "metadata": {},
     "output_type": "execute_result"
    }
   ],
   "source": [
    "np.corrcoef(churn.NightMins,churn.NightCharge)"
   ]
  },
  {
   "cell_type": "code",
   "execution_count": 23,
   "metadata": {},
   "outputs": [
    {
     "data": {
      "text/plain": [
       "array([[1.        , 0.99999274],\n",
       "       [0.99999274, 1.        ]])"
      ]
     },
     "execution_count": 23,
     "metadata": {},
     "output_type": "execute_result"
    }
   ],
   "source": [
    "np.corrcoef(churn.IntlMins,churn.IntlCharge)"
   ]
  },
  {
   "cell_type": "code",
   "execution_count": 24,
   "metadata": {},
   "outputs": [
    {
     "data": {
      "text/plain": [
       "array([[1.        , 0.00675296],\n",
       "       [0.00675296, 1.        ]])"
      ]
     },
     "execution_count": 24,
     "metadata": {},
     "output_type": "execute_result"
    }
   ],
   "source": [
    "np.corrcoef(churn.DayCalls,churn.DayCharge)"
   ]
  },
  {
   "cell_type": "code",
   "execution_count": 25,
   "metadata": {},
   "outputs": [
    {
     "name": "stdout",
     "output_type": "stream",
     "text": [
      "count    3333.000000\n",
      "mean        0.144914\n",
      "std         0.352067\n",
      "min         0.000000\n",
      "25%         0.000000\n",
      "50%         0.000000\n",
      "75%         0.000000\n",
      "max         1.000000\n",
      "Name: Churn, dtype: float64\n",
      "(3333, 19)\n"
     ]
    }
   ],
   "source": [
    "# split the file into Independent and dependent variables\n",
    "churnY = churn.iloc[::,20]\n",
    "print(churnY.describe())\n",
    "churnX = churn\n",
    "churnX.drop(columns=['Churn','Phone'],axis=1,inplace=True)\n",
    "print(churnX.shape)"
   ]
  },
  {
   "cell_type": "code",
   "execution_count": 26,
   "metadata": {},
   "outputs": [
    {
     "name": "stdout",
     "output_type": "stream",
     "text": [
      "<class 'pandas.core.frame.DataFrame'>\n",
      "<class 'pandas.core.series.Series'>\n",
      "<class 'pandas.core.frame.DataFrame'>\n",
      "<class 'pandas.core.series.Series'>\n"
     ]
    }
   ],
   "source": [
    "# splitting the data into Train and Test\n",
    "from sklearn.model_selection import train_test_split\n",
    "X_train, X_test, Y_train, Y_test = train_test_split(churnX, churnY, test_size = 0.50, \n",
    "                                                    random_state = 42)\n",
    "print(type(X_train))\n",
    "print(type(Y_train))\n",
    "print(type(X_test))\n",
    "print(type(Y_test))"
   ]
  },
  {
   "cell_type": "code",
   "execution_count": 27,
   "metadata": {},
   "outputs": [
    {
     "name": "stdout",
     "output_type": "stream",
     "text": [
      "(1666,)\n",
      "(1667, 19)\n",
      "(1667,)\n"
     ]
    }
   ],
   "source": [
    "#print(X_train[0:5])\n",
    "print(Y_train.shape)\n",
    "print(X_test.shape)\n",
    "print(Y_test.shape)"
   ]
  },
  {
   "cell_type": "code",
   "execution_count": 28,
   "metadata": {},
   "outputs": [
    {
     "data": {
      "text/plain": [
       "(array([408, 415, 510], dtype=int64), array([ 838, 1655,  840]))"
      ]
     },
     "execution_count": 28,
     "metadata": {},
     "output_type": "execute_result"
    }
   ],
   "source": [
    "np.unique(churn.AreaCode,return_counts=True)"
   ]
  },
  {
   "cell_type": "code",
   "execution_count": 29,
   "metadata": {},
   "outputs": [
    {
     "data": {
      "text/plain": [
       "(array(['AK', 'AL', 'AR', 'AZ', 'CA', 'CO', 'CT', 'DC', 'DE', 'FL', 'GA',\n",
       "        'HI', 'IA', 'ID', 'IL', 'IN', 'KS', 'KY', 'LA', 'MA', 'MD', 'ME',\n",
       "        'MI', 'MN', 'MO', 'MS', 'MT', 'NC', 'ND', 'NE', 'NH', 'NJ', 'NM',\n",
       "        'NV', 'NY', 'OH', 'OK', 'OR', 'PA', 'RI', 'SC', 'SD', 'TN', 'TX',\n",
       "        'UT', 'VA', 'VT', 'WA', 'WI', 'WV', 'WY'], dtype=object),\n",
       " array([ 52,  80,  55,  64,  34,  66,  74,  54,  61,  63,  54,  53,  44,\n",
       "         73,  58,  71,  70,  59,  51,  65,  70,  62,  73,  84,  63,  65,\n",
       "         68,  68,  62,  61,  56,  68,  62,  66,  83,  78,  61,  78,  45,\n",
       "         65,  60,  60,  53,  72,  72,  77,  73,  66,  78, 106,  77]))"
      ]
     },
     "execution_count": 29,
     "metadata": {},
     "output_type": "execute_result"
    }
   ],
   "source": [
    "np.unique(churn.State,return_counts=True)"
   ]
  },
  {
   "cell_type": "code",
   "execution_count": 30,
   "metadata": {},
   "outputs": [
    {
     "name": "stdout",
     "output_type": "stream",
     "text": [
      "count    1666.000000\n",
      "mean       25.992797\n",
      "std        14.736319\n",
      "min         0.000000\n",
      "25%        14.000000\n",
      "50%        26.000000\n",
      "75%        39.000000\n",
      "max        50.000000\n",
      "Name: State, dtype: float64\n"
     ]
    },
    {
     "name": "stderr",
     "output_type": "stream",
     "text": [
      "E:\\Python\\Python3.7.2\\lib\\site-packages\\pandas\\core\\generic.py:4405: SettingWithCopyWarning: \n",
      "A value is trying to be set on a copy of a slice from a DataFrame.\n",
      "Try using .loc[row_indexer,col_indexer] = value instead\n",
      "\n",
      "See the caveats in the documentation: http://pandas.pydata.org/pandas-docs/stable/indexing.html#indexing-view-versus-copy\n",
      "  self[name] = value\n"
     ]
    }
   ],
   "source": [
    "# lable encoding for strings - state\n",
    "from sklearn.preprocessing import LabelEncoder\n",
    "le = LabelEncoder()\n",
    "X_train.State = le.fit_transform(X_train.State)\n",
    "X_test.State = le.transform(X_test.State)\n",
    "# Y_train = le.fit_transform(np.ravel(Y_train))  # NOTE: This is an important step here. Otherwise, the estimators later wont work.\n",
    "print(X_train.State.describe())"
   ]
  },
  {
   "cell_type": "code",
   "execution_count": 31,
   "metadata": {},
   "outputs": [],
   "source": [
    "#dir(LabelEncoder)"
   ]
  },
  {
   "cell_type": "code",
   "execution_count": 32,
   "metadata": {},
   "outputs": [
    {
     "data": {
      "text/plain": [
       "(array([ 0,  1,  2,  3,  4,  5,  6,  7,  8,  9, 10, 11, 12, 13, 14, 15, 16,\n",
       "        17, 18, 19, 20, 21, 22, 23, 24, 25, 26, 27, 28, 29, 30, 31, 32, 33,\n",
       "        34, 35, 36, 37, 38, 39, 40, 41, 42, 43, 44, 45, 46, 47, 48, 49, 50],\n",
       "       dtype=int32),\n",
       " array([28, 37, 28, 31, 21, 30, 34, 29, 34, 31, 23, 26, 20, 40, 26, 35, 32,\n",
       "        33, 27, 35, 37, 27, 40, 49, 35, 34, 32, 32, 26, 22, 26, 36, 32, 36,\n",
       "        42, 38, 34, 35, 28, 37, 28, 31, 30, 36, 35, 37, 32, 36, 45, 49, 29]))"
      ]
     },
     "execution_count": 32,
     "metadata": {},
     "output_type": "execute_result"
    }
   ],
   "source": [
    "np.unique(X_train.State,return_counts=True)"
   ]
  },
  {
   "cell_type": "code",
   "execution_count": 33,
   "metadata": {},
   "outputs": [
    {
     "data": {
      "text/plain": [
       "array(['State', 'AccountLength', 'AreaCode', 'IntlPlan', 'VMailPlan',\n",
       "       'VMailMessage', 'DayMins', 'DayCalls', 'DayCharge', 'EveMins',\n",
       "       'EveCalls', 'EveCharge', 'NightMins', 'NightCalls', 'NightCharge',\n",
       "       'IntlMins', 'IntlCalls', 'IntlCharge', 'CusServCalls'],\n",
       "      dtype=object)"
      ]
     },
     "execution_count": 33,
     "metadata": {},
     "output_type": "execute_result"
    }
   ],
   "source": [
    "X_train.columns.values"
   ]
  },
  {
   "cell_type": "code",
   "execution_count": 34,
   "metadata": {},
   "outputs": [
    {
     "data": {
      "text/plain": [
       "(1666, 19)"
      ]
     },
     "execution_count": 34,
     "metadata": {},
     "output_type": "execute_result"
    }
   ],
   "source": [
    "X_train.shape"
   ]
  },
  {
   "cell_type": "code",
   "execution_count": 35,
   "metadata": {},
   "outputs": [
    {
     "name": "stdout",
     "output_type": "stream",
     "text": [
      "(1666, 31)\n",
      "(1667, 31)\n"
     ]
    }
   ],
   "source": [
    "# apply one hot encoding on state and area\n",
    "from sklearn.preprocessing import OneHotEncoder\n",
    "categories = np.array([17,18])                 # column 17 - state, 18 - area code\n",
    "OHE = OneHotEncoder(n_values = 'auto', categorical_features = categories, \n",
    "                    sparse = False, handle_unknown = 'ignore')\n",
    "X_train = OHE.fit_transform(X_train)\n",
    "print(X_train.shape)\n",
    "X_test = OHE.transform(X_test)\n",
    "print(X_test.shape)"
   ]
  },
  {
   "cell_type": "code",
   "execution_count": 36,
   "metadata": {},
   "outputs": [
    {
     "data": {
      "text/plain": [
       "numpy.ndarray"
      ]
     },
     "execution_count": 36,
     "metadata": {},
     "output_type": "execute_result"
    }
   ],
   "source": [
    "type(X_train)"
   ]
  },
  {
   "cell_type": "code",
   "execution_count": 37,
   "metadata": {},
   "outputs": [],
   "source": [
    "# Bagging Classifier on logistic\n",
    "# build the logistic object\n",
    "from sklearn.linear_model import LogisticRegression\n",
    "lgr = LogisticRegression(class_weight = 'balanced',solver='lbfgs',penalty='l2',C=0.5)\n",
    "# build grid search parameters\n",
    "parms = {'n_estimators' : [50,100],\n",
    "          'bootstrap':[True,False],\n",
    "          'max_samples':[0.8,0.7]} \n",
    "# perform grid search\n",
    "from sklearn.ensemble import BaggingClassifier\n",
    "Bagging = BaggingClassifier(base_estimator = lgr, max_features = 1.0,\n",
    "                           verbose = 0, oob_score = False)"
   ]
  },
  {
   "cell_type": "code",
   "execution_count": 38,
   "metadata": {},
   "outputs": [
    {
     "name": "stdout",
     "output_type": "stream",
     "text": [
      "Wall time: 2min 23s\n"
     ]
    }
   ],
   "source": [
    "%%time\n",
    "from sklearn.model_selection import GridSearchCV\n",
    "CV = GridSearchCV(estimator = Bagging,param_grid = parms, scoring = 'roc_auc',cv=3, refit=True,\n",
    "                           return_train_score = True, verbose=0,n_jobs=1)\n",
    "CV.fit(X_train,Y_train)"
   ]
  },
  {
   "cell_type": "code",
   "execution_count": 39,
   "metadata": {},
   "outputs": [
    {
     "data": {
      "text/html": [
       "<div>\n",
       "<style scoped>\n",
       "    .dataframe tbody tr th:only-of-type {\n",
       "        vertical-align: middle;\n",
       "    }\n",
       "\n",
       "    .dataframe tbody tr th {\n",
       "        vertical-align: top;\n",
       "    }\n",
       "\n",
       "    .dataframe thead th {\n",
       "        text-align: right;\n",
       "    }\n",
       "</style>\n",
       "<table border=\"1\" class=\"dataframe\">\n",
       "  <thead>\n",
       "    <tr style=\"text-align: right;\">\n",
       "      <th></th>\n",
       "      <th>mean_fit_time</th>\n",
       "      <th>std_fit_time</th>\n",
       "      <th>mean_score_time</th>\n",
       "      <th>std_score_time</th>\n",
       "      <th>param_bootstrap</th>\n",
       "      <th>param_max_samples</th>\n",
       "      <th>param_n_estimators</th>\n",
       "      <th>params</th>\n",
       "      <th>split0_test_score</th>\n",
       "      <th>split1_test_score</th>\n",
       "      <th>split2_test_score</th>\n",
       "      <th>mean_test_score</th>\n",
       "      <th>std_test_score</th>\n",
       "      <th>rank_test_score</th>\n",
       "      <th>split0_train_score</th>\n",
       "      <th>split1_train_score</th>\n",
       "      <th>split2_train_score</th>\n",
       "      <th>mean_train_score</th>\n",
       "      <th>std_train_score</th>\n",
       "    </tr>\n",
       "  </thead>\n",
       "  <tbody>\n",
       "    <tr>\n",
       "      <th>0</th>\n",
       "      <td>3.845142</td>\n",
       "      <td>0.049536</td>\n",
       "      <td>0.0104</td>\n",
       "      <td>7.353895e-03</td>\n",
       "      <td>True</td>\n",
       "      <td>0.8</td>\n",
       "      <td>50</td>\n",
       "      <td>{'bootstrap': True, 'max_samples': 0.8, 'n_est...</td>\n",
       "      <td>0.765100</td>\n",
       "      <td>0.673157</td>\n",
       "      <td>0.680198</td>\n",
       "      <td>0.706183</td>\n",
       "      <td>0.041797</td>\n",
       "      <td>1</td>\n",
       "      <td>0.742030</td>\n",
       "      <td>0.777963</td>\n",
       "      <td>0.732667</td>\n",
       "      <td>0.750887</td>\n",
       "      <td>0.019524</td>\n",
       "    </tr>\n",
       "    <tr>\n",
       "      <th>1</th>\n",
       "      <td>7.718158</td>\n",
       "      <td>0.147977</td>\n",
       "      <td>0.0208</td>\n",
       "      <td>7.353951e-03</td>\n",
       "      <td>True</td>\n",
       "      <td>0.8</td>\n",
       "      <td>100</td>\n",
       "      <td>{'bootstrap': True, 'max_samples': 0.8, 'n_est...</td>\n",
       "      <td>0.765342</td>\n",
       "      <td>0.653953</td>\n",
       "      <td>0.674127</td>\n",
       "      <td>0.697836</td>\n",
       "      <td>0.048481</td>\n",
       "      <td>7</td>\n",
       "      <td>0.736328</td>\n",
       "      <td>0.760723</td>\n",
       "      <td>0.732499</td>\n",
       "      <td>0.743183</td>\n",
       "      <td>0.012500</td>\n",
       "    </tr>\n",
       "    <tr>\n",
       "      <th>2</th>\n",
       "      <td>3.790807</td>\n",
       "      <td>0.022062</td>\n",
       "      <td>0.0104</td>\n",
       "      <td>7.353951e-03</td>\n",
       "      <td>True</td>\n",
       "      <td>0.7</td>\n",
       "      <td>50</td>\n",
       "      <td>{'bootstrap': True, 'max_samples': 0.7, 'n_est...</td>\n",
       "      <td>0.776204</td>\n",
       "      <td>0.654758</td>\n",
       "      <td>0.665632</td>\n",
       "      <td>0.698905</td>\n",
       "      <td>0.054888</td>\n",
       "      <td>6</td>\n",
       "      <td>0.765810</td>\n",
       "      <td>0.768823</td>\n",
       "      <td>0.733693</td>\n",
       "      <td>0.756108</td>\n",
       "      <td>0.015898</td>\n",
       "    </tr>\n",
       "    <tr>\n",
       "      <th>3</th>\n",
       "      <td>7.545547</td>\n",
       "      <td>0.006882</td>\n",
       "      <td>0.0156</td>\n",
       "      <td>1.123916e-07</td>\n",
       "      <td>True</td>\n",
       "      <td>0.7</td>\n",
       "      <td>100</td>\n",
       "      <td>{'bootstrap': True, 'max_samples': 0.7, 'n_est...</td>\n",
       "      <td>0.760514</td>\n",
       "      <td>0.665594</td>\n",
       "      <td>0.662147</td>\n",
       "      <td>0.696126</td>\n",
       "      <td>0.045592</td>\n",
       "      <td>8</td>\n",
       "      <td>0.737592</td>\n",
       "      <td>0.776889</td>\n",
       "      <td>0.720550</td>\n",
       "      <td>0.745010</td>\n",
       "      <td>0.023591</td>\n",
       "    </tr>\n",
       "    <tr>\n",
       "      <th>4</th>\n",
       "      <td>3.790807</td>\n",
       "      <td>0.012737</td>\n",
       "      <td>0.0104</td>\n",
       "      <td>7.353895e-03</td>\n",
       "      <td>False</td>\n",
       "      <td>0.8</td>\n",
       "      <td>50</td>\n",
       "      <td>{'bootstrap': False, 'max_samples': 0.8, 'n_es...</td>\n",
       "      <td>0.762043</td>\n",
       "      <td>0.667766</td>\n",
       "      <td>0.683983</td>\n",
       "      <td>0.704622</td>\n",
       "      <td>0.041175</td>\n",
       "      <td>2</td>\n",
       "      <td>0.742854</td>\n",
       "      <td>0.780422</td>\n",
       "      <td>0.737904</td>\n",
       "      <td>0.753727</td>\n",
       "      <td>0.018984</td>\n",
       "    </tr>\n",
       "    <tr>\n",
       "      <th>5</th>\n",
       "      <td>7.646881</td>\n",
       "      <td>0.068834</td>\n",
       "      <td>0.0312</td>\n",
       "      <td>1.273732e-02</td>\n",
       "      <td>False</td>\n",
       "      <td>0.8</td>\n",
       "      <td>100</td>\n",
       "      <td>{'bootstrap': False, 'max_samples': 0.8, 'n_es...</td>\n",
       "      <td>0.765690</td>\n",
       "      <td>0.664441</td>\n",
       "      <td>0.683248</td>\n",
       "      <td>0.704485</td>\n",
       "      <td>0.043993</td>\n",
       "      <td>3</td>\n",
       "      <td>0.746340</td>\n",
       "      <td>0.775687</td>\n",
       "      <td>0.743623</td>\n",
       "      <td>0.755217</td>\n",
       "      <td>0.014517</td>\n",
       "    </tr>\n",
       "    <tr>\n",
       "      <th>6</th>\n",
       "      <td>3.764807</td>\n",
       "      <td>0.019457</td>\n",
       "      <td>0.0104</td>\n",
       "      <td>7.353838e-03</td>\n",
       "      <td>False</td>\n",
       "      <td>0.7</td>\n",
       "      <td>50</td>\n",
       "      <td>{'bootstrap': False, 'max_samples': 0.7, 'n_es...</td>\n",
       "      <td>0.767917</td>\n",
       "      <td>0.650118</td>\n",
       "      <td>0.689374</td>\n",
       "      <td>0.702485</td>\n",
       "      <td>0.049002</td>\n",
       "      <td>4</td>\n",
       "      <td>0.745509</td>\n",
       "      <td>0.763837</td>\n",
       "      <td>0.749055</td>\n",
       "      <td>0.752800</td>\n",
       "      <td>0.007937</td>\n",
       "    </tr>\n",
       "    <tr>\n",
       "      <th>7</th>\n",
       "      <td>7.607613</td>\n",
       "      <td>0.019457</td>\n",
       "      <td>0.0260</td>\n",
       "      <td>7.353782e-03</td>\n",
       "      <td>False</td>\n",
       "      <td>0.7</td>\n",
       "      <td>100</td>\n",
       "      <td>{'bootstrap': False, 'max_samples': 0.7, 'n_es...</td>\n",
       "      <td>0.762311</td>\n",
       "      <td>0.666264</td>\n",
       "      <td>0.677067</td>\n",
       "      <td>0.701911</td>\n",
       "      <td>0.042975</td>\n",
       "      <td>5</td>\n",
       "      <td>0.735693</td>\n",
       "      <td>0.776788</td>\n",
       "      <td>0.734665</td>\n",
       "      <td>0.749049</td>\n",
       "      <td>0.019619</td>\n",
       "    </tr>\n",
       "  </tbody>\n",
       "</table>\n",
       "</div>"
      ],
      "text/plain": [
       "   mean_fit_time  std_fit_time  mean_score_time  std_score_time  \\\n",
       "0       3.845142      0.049536           0.0104    7.353895e-03   \n",
       "1       7.718158      0.147977           0.0208    7.353951e-03   \n",
       "2       3.790807      0.022062           0.0104    7.353951e-03   \n",
       "3       7.545547      0.006882           0.0156    1.123916e-07   \n",
       "4       3.790807      0.012737           0.0104    7.353895e-03   \n",
       "5       7.646881      0.068834           0.0312    1.273732e-02   \n",
       "6       3.764807      0.019457           0.0104    7.353838e-03   \n",
       "7       7.607613      0.019457           0.0260    7.353782e-03   \n",
       "\n",
       "  param_bootstrap param_max_samples param_n_estimators  \\\n",
       "0            True               0.8                 50   \n",
       "1            True               0.8                100   \n",
       "2            True               0.7                 50   \n",
       "3            True               0.7                100   \n",
       "4           False               0.8                 50   \n",
       "5           False               0.8                100   \n",
       "6           False               0.7                 50   \n",
       "7           False               0.7                100   \n",
       "\n",
       "                                              params  split0_test_score  \\\n",
       "0  {'bootstrap': True, 'max_samples': 0.8, 'n_est...           0.765100   \n",
       "1  {'bootstrap': True, 'max_samples': 0.8, 'n_est...           0.765342   \n",
       "2  {'bootstrap': True, 'max_samples': 0.7, 'n_est...           0.776204   \n",
       "3  {'bootstrap': True, 'max_samples': 0.7, 'n_est...           0.760514   \n",
       "4  {'bootstrap': False, 'max_samples': 0.8, 'n_es...           0.762043   \n",
       "5  {'bootstrap': False, 'max_samples': 0.8, 'n_es...           0.765690   \n",
       "6  {'bootstrap': False, 'max_samples': 0.7, 'n_es...           0.767917   \n",
       "7  {'bootstrap': False, 'max_samples': 0.7, 'n_es...           0.762311   \n",
       "\n",
       "   split1_test_score  split2_test_score  mean_test_score  std_test_score  \\\n",
       "0           0.673157           0.680198         0.706183        0.041797   \n",
       "1           0.653953           0.674127         0.697836        0.048481   \n",
       "2           0.654758           0.665632         0.698905        0.054888   \n",
       "3           0.665594           0.662147         0.696126        0.045592   \n",
       "4           0.667766           0.683983         0.704622        0.041175   \n",
       "5           0.664441           0.683248         0.704485        0.043993   \n",
       "6           0.650118           0.689374         0.702485        0.049002   \n",
       "7           0.666264           0.677067         0.701911        0.042975   \n",
       "\n",
       "   rank_test_score  split0_train_score  split1_train_score  \\\n",
       "0                1            0.742030            0.777963   \n",
       "1                7            0.736328            0.760723   \n",
       "2                6            0.765810            0.768823   \n",
       "3                8            0.737592            0.776889   \n",
       "4                2            0.742854            0.780422   \n",
       "5                3            0.746340            0.775687   \n",
       "6                4            0.745509            0.763837   \n",
       "7                5            0.735693            0.776788   \n",
       "\n",
       "   split2_train_score  mean_train_score  std_train_score  \n",
       "0            0.732667          0.750887         0.019524  \n",
       "1            0.732499          0.743183         0.012500  \n",
       "2            0.733693          0.756108         0.015898  \n",
       "3            0.720550          0.745010         0.023591  \n",
       "4            0.737904          0.753727         0.018984  \n",
       "5            0.743623          0.755217         0.014517  \n",
       "6            0.749055          0.752800         0.007937  \n",
       "7            0.734665          0.749049         0.019619  "
      ]
     },
     "execution_count": 39,
     "metadata": {},
     "output_type": "execute_result"
    }
   ],
   "source": [
    "CVResults = pd.DataFrame(CV.cv_results_)\n",
    "CVResults\n",
    "# CVResults.to_excel('CVResutls_Bagging_Logistic.xlsx')"
   ]
  },
  {
   "cell_type": "code",
   "execution_count": 40,
   "metadata": {},
   "outputs": [
    {
     "name": "stdout",
     "output_type": "stream",
     "text": [
      "BaggingClassifier(base_estimator=LogisticRegression(C=0.5, class_weight='balanced', dual=False,\n",
      "          fit_intercept=True, intercept_scaling=1, max_iter=100,\n",
      "          multi_class='ovr', n_jobs=1, penalty='l2', random_state=None,\n",
      "          solver='lbfgs', tol=0.0001, verbose=0, warm_start=False),\n",
      "         bootstrap=True, bootstrap_features=False, max_features=1.0,\n",
      "         max_samples=0.8, n_estimators=50, n_jobs=1, oob_score=False,\n",
      "         random_state=None, verbose=0, warm_start=False)\n"
     ]
    }
   ],
   "source": [
    "print(CV.best_estimator_)"
   ]
  },
  {
   "cell_type": "code",
   "execution_count": 41,
   "metadata": {},
   "outputs": [
    {
     "name": "stdout",
     "output_type": "stream",
     "text": [
      "0.706183125699065\n",
      "{'bootstrap': True, 'max_samples': 0.8, 'n_estimators': 50}\n"
     ]
    }
   ],
   "source": [
    "print(CV.best_score_)\n",
    "print(CV.best_params_)"
   ]
  },
  {
   "cell_type": "code",
   "execution_count": 42,
   "metadata": {},
   "outputs": [
    {
     "name": "stdout",
     "output_type": "stream",
     "text": [
      "[1 0 1 1 0 0 0 0 0 0]\n"
     ]
    }
   ],
   "source": [
    "# Preidct on Test data and check the confusion matrix\n",
    "predictTest = CV.predict(X_test)\n",
    "print(predictTest[0:10])"
   ]
  },
  {
   "cell_type": "code",
   "execution_count": 43,
   "metadata": {},
   "outputs": [
    {
     "name": "stdout",
     "output_type": "stream",
     "text": [
      "[[0.47480304 0.52519696]\n",
      " [0.71540682 0.28459318]\n",
      " [0.49154595 0.50845405]\n",
      " [0.38812629 0.61187371]\n",
      " [0.68948075 0.31051925]\n",
      " [0.772103   0.227897  ]\n",
      " [0.70012021 0.29987979]\n",
      " [0.65884924 0.34115076]\n",
      " [0.5330061  0.4669939 ]\n",
      " [0.64738009 0.35261991]]\n"
     ]
    }
   ],
   "source": [
    "predictProb = CV.predict_proba(X_test)\n",
    "print(predictProb[0:10])\n",
    "PProb = pd.DataFrame(predictProb)"
   ]
  },
  {
   "cell_type": "code",
   "execution_count": 44,
   "metadata": {},
   "outputs": [
    {
     "name": "stdout",
     "output_type": "stream",
     "text": [
      "[[1028  389]\n",
      " [  69  181]]\n",
      "             precision    recall  f1-score   support\n",
      "\n",
      "          0       0.94      0.73      0.82      1417\n",
      "          1       0.32      0.72      0.44       250\n",
      "\n",
      "avg / total       0.84      0.73      0.76      1667\n",
      "\n"
     ]
    }
   ],
   "source": [
    "# generate confusion matrix\n",
    "# import confusion matrix and classification report\n",
    "from sklearn.metrics import confusion_matrix, classification_report\n",
    "print (confusion_matrix(Y_test,predictTest))\n",
    "print (classification_report(Y_test,predictTest))"
   ]
  },
  {
   "cell_type": "code",
   "execution_count": 45,
   "metadata": {},
   "outputs": [
    {
     "name": "stdout",
     "output_type": "stream",
     "text": [
      "0.7847170077628793\n"
     ]
    }
   ],
   "source": [
    "# generate ROC curve\n",
    "from sklearn.metrics import roc_auc_score, roc_curve\n",
    "# AUC for class 1\n",
    "AUC = roc_auc_score(Y_test, PProb[1])\n",
    "print(AUC)\n",
    "# define variables for True Positive Rate and Falst Positive Rate & threshold value\n",
    "TPR = dict()\n",
    "FPR = dict()\n",
    "THR = dict()\n",
    "FPR, TPR, THR = roc_curve(Y_test, PProb[1])"
   ]
  },
  {
   "cell_type": "code",
   "execution_count": 46,
   "metadata": {},
   "outputs": [
    {
     "name": "stdout",
     "output_type": "stream",
     "text": [
      "[0.90650013 0.82149108 0.81658693 0.80230514 0.79476134 0.79123096\n",
      " 0.78840437 0.77376866 0.77315708 0.7558398  0.75535347 0.75284673\n",
      " 0.74767982 0.74612773 0.74105957 0.74066786 0.73856858 0.73308854\n",
      " 0.73274893 0.7316772  0.73124366 0.72977482 0.72687947 0.72587661\n",
      " 0.72077048 0.72029859 0.71894667 0.71597049 0.71565115 0.71425038\n",
      " 0.71231906 0.711859   0.70980129 0.70844773 0.70808776 0.70794214\n",
      " 0.70735614 0.70657941 0.70622434 0.70450625 0.70110026 0.69856291\n",
      " 0.69413599 0.69238061 0.69233202 0.69024223 0.68607436 0.68463763\n",
      " 0.68404065 0.68390668 0.6829783  0.67896554 0.67740858 0.67698021\n",
      " 0.67654464 0.67555522 0.67437034 0.67248161 0.66999672 0.6699906\n",
      " 0.66988968 0.66869532 0.66752434 0.66692086 0.66409243 0.66305577\n",
      " 0.65872385 0.65843984 0.65713413 0.65702546 0.6569139  0.655559\n",
      " 0.6550891  0.65427776 0.65191888 0.65062681 0.64853733 0.64817267\n",
      " 0.64546822 0.64473825 0.64442715 0.64390012 0.64100285 0.64027765\n",
      " 0.63899118 0.63801521 0.63739155 0.63700204 0.63516334 0.63504126\n",
      " 0.62854306 0.62832984 0.6237924  0.62347301 0.62316345 0.6224322\n",
      " 0.62197933 0.62112485 0.62077973 0.61926853 0.61772241 0.61762429\n",
      " 0.6174349  0.61574285 0.61556607 0.61508375 0.61500848 0.61210923\n",
      " 0.61152433 0.61152215 0.61067536 0.61049665 0.60958299 0.60915225\n",
      " 0.60660995 0.60604373 0.60092304 0.60086856 0.60036796 0.60034042\n",
      " 0.60002934 0.59706269 0.59452276 0.59436482 0.59228639 0.59202168\n",
      " 0.59187755 0.59183448 0.59165467 0.59117368 0.58960635 0.58956959\n",
      " 0.58935949 0.5891302  0.58682695 0.58658038 0.58538625 0.58520718\n",
      " 0.58486852 0.58364951 0.58058833 0.57887835 0.57668015 0.57609092\n",
      " 0.57506194 0.57460796 0.5744463  0.57398325 0.57373547 0.57316119\n",
      " 0.57177032 0.57147983 0.57095143 0.57029791 0.56898752 0.56896226\n",
      " 0.56839929 0.56763731 0.56743903 0.56699451 0.56402318 0.56279421\n",
      " 0.55888509 0.55864172 0.55754767 0.55691885 0.55664816 0.55638534\n",
      " 0.55415708 0.5537727  0.54637183 0.54612853 0.54560503 0.54556837\n",
      " 0.54005375 0.54002973 0.53696258 0.53649232 0.53508179 0.53417975\n",
      " 0.53289241 0.53205056 0.53161235 0.53134165 0.52996665 0.52974865\n",
      " 0.52792603 0.52780723 0.52519696 0.52490477 0.52358717 0.52356005\n",
      " 0.51907868 0.51858213 0.51677084 0.5167377  0.51550906 0.51518351\n",
      " 0.51418177 0.51412723 0.51276053 0.5126841  0.51065003 0.51062506\n",
      " 0.51007631 0.50948828 0.50868552 0.50845405 0.50793058 0.50772081\n",
      " 0.50756995 0.50748439 0.50715642 0.50700615 0.50644248 0.50622321\n",
      " 0.50516758 0.50464031 0.50441706 0.50425885 0.5032431  0.5031969\n",
      " 0.50049703 0.50009523 0.49800619 0.49794203 0.49175811 0.49055118\n",
      " 0.48847589 0.48813964 0.48676324 0.48620805 0.48557171 0.48520733\n",
      " 0.48455236 0.48450542 0.4835801  0.48330431 0.48294168 0.48271461\n",
      " 0.48263507 0.48244096 0.48185498 0.48142785 0.47900483 0.47861424\n",
      " 0.4783058  0.47820973 0.47617052 0.4756489  0.47288398 0.47270892\n",
      " 0.47086168 0.47061911 0.4632984  0.46327287 0.46147222 0.46135163\n",
      " 0.45550231 0.45546109 0.45480481 0.45382385 0.4537521  0.45355652\n",
      " 0.45344408 0.45310262 0.4517859  0.45172729 0.44418889 0.44371173\n",
      " 0.42730424 0.42715085 0.42186696 0.42179019 0.42159089 0.42097603\n",
      " 0.4198778  0.41979395 0.41928475 0.41920655 0.41760389 0.41755717\n",
      " 0.41253615 0.41224259 0.41207221 0.41201654 0.40605255 0.40554562\n",
      " 0.40551341 0.40543738 0.39685116 0.39657551 0.38430616 0.38418856\n",
      " 0.3782205  0.37817359 0.36873147 0.36838572 0.36335015 0.36330289\n",
      " 0.35671644 0.35642521 0.35415023 0.35399851 0.35067667 0.35004918\n",
      " 0.34510566 0.34448843 0.33890439 0.33885627 0.32353416 0.32333394\n",
      " 0.31844731 0.3178915  0.31355521 0.31263903 0.30711896 0.30680572\n",
      " 0.30437529 0.30357243 0.29186182 0.29075859 0.27788748 0.27769221\n",
      " 0.27345103 0.27343528 0.27191577 0.27179038 0.26911332 0.26856081\n",
      " 0.26044254 0.26042877 0.2455076  0.24489398 0.24116299 0.24115823\n",
      " 0.23144879 0.23113684 0.20634342 0.20528483 0.20286619 0.20266497\n",
      " 0.19834463 0.19752327 0.17292179 0.17123793 0.16537787 0.16441802\n",
      " 0.08088707 0.07962169 0.07688421 0.07076294 0.05136987]\n",
      "[0.004 0.04  0.04  0.068 0.068 0.072 0.072 0.084 0.084 0.104 0.104 0.108\n",
      " 0.108 0.112 0.112 0.116 0.116 0.12  0.12  0.124 0.124 0.132 0.132 0.136\n",
      " 0.136 0.148 0.148 0.168 0.168 0.172 0.172 0.18  0.18  0.184 0.184 0.188\n",
      " 0.188 0.192 0.192 0.196 0.196 0.204 0.204 0.212 0.212 0.22  0.22  0.236\n",
      " 0.236 0.244 0.244 0.26  0.26  0.264 0.264 0.28  0.28  0.296 0.296 0.3\n",
      " 0.3   0.308 0.308 0.32  0.32  0.328 0.328 0.332 0.332 0.336 0.336 0.344\n",
      " 0.344 0.352 0.352 0.36  0.36  0.364 0.364 0.372 0.372 0.376 0.376 0.388\n",
      " 0.388 0.396 0.396 0.4   0.4   0.404 0.404 0.408 0.408 0.416 0.416 0.42\n",
      " 0.42  0.424 0.424 0.432 0.432 0.436 0.436 0.448 0.448 0.452 0.452 0.456\n",
      " 0.456 0.46  0.46  0.464 0.464 0.468 0.468 0.472 0.472 0.476 0.476 0.48\n",
      " 0.48  0.496 0.496 0.5   0.5   0.504 0.504 0.508 0.508 0.516 0.516 0.52\n",
      " 0.52  0.528 0.528 0.536 0.536 0.54  0.54  0.548 0.548 0.56  0.56  0.564\n",
      " 0.564 0.568 0.568 0.572 0.572 0.576 0.576 0.58  0.58  0.584 0.584 0.588\n",
      " 0.588 0.592 0.592 0.596 0.596 0.6   0.6   0.604 0.604 0.608 0.608 0.612\n",
      " 0.612 0.616 0.616 0.62  0.62  0.624 0.624 0.628 0.628 0.632 0.632 0.636\n",
      " 0.636 0.64  0.64  0.644 0.644 0.648 0.648 0.652 0.652 0.656 0.656 0.66\n",
      " 0.66  0.664 0.664 0.668 0.668 0.672 0.672 0.676 0.676 0.68  0.68  0.684\n",
      " 0.684 0.688 0.688 0.692 0.692 0.696 0.696 0.7   0.7   0.704 0.704 0.708\n",
      " 0.708 0.712 0.712 0.716 0.716 0.72  0.72  0.724 0.724 0.728 0.728 0.736\n",
      " 0.736 0.74  0.74  0.744 0.744 0.748 0.748 0.752 0.752 0.756 0.756 0.76\n",
      " 0.76  0.768 0.768 0.776 0.776 0.78  0.78  0.784 0.784 0.788 0.788 0.792\n",
      " 0.792 0.796 0.796 0.8   0.8   0.804 0.804 0.808 0.808 0.812 0.812 0.816\n",
      " 0.816 0.824 0.824 0.828 0.828 0.832 0.832 0.836 0.836 0.84  0.84  0.844\n",
      " 0.844 0.848 0.848 0.852 0.852 0.856 0.856 0.86  0.86  0.864 0.864 0.868\n",
      " 0.868 0.872 0.872 0.88  0.88  0.884 0.884 0.888 0.888 0.892 0.892 0.896\n",
      " 0.896 0.9   0.9   0.904 0.904 0.908 0.908 0.912 0.912 0.916 0.916 0.92\n",
      " 0.92  0.924 0.924 0.928 0.928 0.932 0.932 0.936 0.936 0.94  0.94  0.944\n",
      " 0.944 0.948 0.948 0.952 0.952 0.956 0.956 0.96  0.96  0.964 0.964 0.968\n",
      " 0.968 0.972 0.972 0.976 0.976 0.98  0.98  0.984 0.984 0.988 0.988 0.992\n",
      " 0.992 0.996 0.996 1.    1.   ]\n",
      "[0.00000000e+00 0.00000000e+00 7.05716302e-04 7.05716302e-04\n",
      " 2.11714891e-03 2.11714891e-03 2.82286521e-03 2.82286521e-03\n",
      " 3.52858151e-03 3.52858151e-03 4.23429781e-03 4.23429781e-03\n",
      " 6.35144672e-03 6.35144672e-03 7.05716302e-03 7.05716302e-03\n",
      " 7.76287932e-03 7.76287932e-03 8.46859562e-03 8.46859562e-03\n",
      " 9.88002823e-03 9.88002823e-03 1.05857445e-02 1.05857445e-02\n",
      " 1.34086097e-02 1.34086097e-02 1.41143260e-02 1.41143260e-02\n",
      " 1.48200423e-02 1.48200423e-02 1.62314749e-02 1.62314749e-02\n",
      " 1.76429076e-02 1.76429076e-02 1.83486239e-02 1.83486239e-02\n",
      " 1.97600565e-02 1.97600565e-02 2.04657728e-02 2.04657728e-02\n",
      " 2.18772054e-02 2.18772054e-02 2.54057869e-02 2.54057869e-02\n",
      " 2.61115032e-02 2.61115032e-02 3.10515173e-02 3.10515173e-02\n",
      " 3.17572336e-02 3.17572336e-02 3.24629499e-02 3.24629499e-02\n",
      " 3.38743825e-02 3.38743825e-02 3.45800988e-02 3.45800988e-02\n",
      " 3.74029640e-02 3.74029640e-02 3.88143966e-02 3.88143966e-02\n",
      " 3.95201129e-02 3.95201129e-02 4.16372618e-02 4.16372618e-02\n",
      " 4.37544107e-02 4.37544107e-02 4.72829922e-02 4.72829922e-02\n",
      " 5.01058574e-02 5.01058574e-02 5.08115737e-02 5.08115737e-02\n",
      " 5.15172900e-02 5.15172900e-02 5.50458716e-02 5.50458716e-02\n",
      " 5.71630205e-02 5.71630205e-02 6.21030346e-02 6.21030346e-02\n",
      " 6.28087509e-02 6.28087509e-02 6.63373324e-02 6.63373324e-02\n",
      " 6.77487650e-02 6.77487650e-02 6.91601976e-02 6.91601976e-02\n",
      " 7.12773465e-02 7.12773465e-02 7.90402258e-02 7.90402258e-02\n",
      " 8.32745236e-02 8.32745236e-02 8.39802399e-02 8.39802399e-02\n",
      " 8.60973888e-02 8.60973888e-02 8.68031052e-02 8.68031052e-02\n",
      " 8.96259704e-02 8.96259704e-02 9.03316867e-02 9.03316867e-02\n",
      " 9.10374030e-02 9.10374030e-02 9.24488356e-02 9.24488356e-02\n",
      " 9.38602682e-02 9.38602682e-02 9.45659845e-02 9.45659845e-02\n",
      " 9.52717008e-02 9.52717008e-02 9.95059986e-02 9.95059986e-02\n",
      " 1.07974594e-01 1.07974594e-01 1.10091743e-01 1.10091743e-01\n",
      " 1.12208892e-01 1.12208892e-01 1.15737474e-01 1.15737474e-01\n",
      " 1.17148906e-01 1.17148906e-01 1.19266055e-01 1.19266055e-01\n",
      " 1.19971771e-01 1.19971771e-01 1.23500353e-01 1.23500353e-01\n",
      " 1.26323218e-01 1.26323218e-01 1.28440367e-01 1.28440367e-01\n",
      " 1.31968948e-01 1.31968948e-01 1.32674665e-01 1.32674665e-01\n",
      " 1.39026112e-01 1.39026112e-01 1.42554693e-01 1.42554693e-01\n",
      " 1.46083275e-01 1.46083275e-01 1.46788991e-01 1.46788991e-01\n",
      " 1.48200423e-01 1.48200423e-01 1.50317572e-01 1.50317572e-01\n",
      " 1.52434721e-01 1.52434721e-01 1.53140438e-01 1.53140438e-01\n",
      " 1.53846154e-01 1.53846154e-01 1.55963303e-01 1.55963303e-01\n",
      " 1.68666196e-01 1.68666196e-01 1.79251941e-01 1.79251941e-01\n",
      " 1.80663373e-01 1.80663373e-01 1.82074806e-01 1.82074806e-01\n",
      " 1.84897671e-01 1.84897671e-01 1.94777699e-01 1.94777699e-01\n",
      " 1.96189132e-01 1.96189132e-01 2.06069160e-01 2.06069160e-01\n",
      " 2.11009174e-01 2.11009174e-01 2.12420607e-01 2.12420607e-01\n",
      " 2.14537756e-01 2.14537756e-01 2.15243472e-01 2.15243472e-01\n",
      " 2.17360621e-01 2.17360621e-01 2.20889203e-01 2.20889203e-01\n",
      " 2.23712068e-01 2.23712068e-01 2.26534933e-01 2.26534933e-01\n",
      " 2.37120677e-01 2.37120677e-01 2.38532110e-01 2.38532110e-01\n",
      " 2.40649259e-01 2.40649259e-01 2.42060692e-01 2.42060692e-01\n",
      " 2.46294989e-01 2.46294989e-01 2.49823571e-01 2.49823571e-01\n",
      " 2.50529287e-01 2.50529287e-01 2.51940720e-01 2.51940720e-01\n",
      " 2.52646436e-01 2.52646436e-01 2.53352152e-01 2.53352152e-01\n",
      " 2.54057869e-01 2.54057869e-01 2.54763585e-01 2.54763585e-01\n",
      " 2.59703599e-01 2.59703599e-01 2.60409315e-01 2.60409315e-01\n",
      " 2.63232181e-01 2.63232181e-01 2.74523641e-01 2.74523641e-01\n",
      " 2.78757939e-01 2.78757939e-01 2.95695131e-01 2.95695131e-01\n",
      " 2.99223712e-01 2.99223712e-01 3.02046577e-01 3.02046577e-01\n",
      " 3.04869442e-01 3.04869442e-01 3.06280875e-01 3.06280875e-01\n",
      " 3.11220889e-01 3.11220889e-01 3.14043754e-01 3.14043754e-01\n",
      " 3.14749471e-01 3.14749471e-01 3.16866620e-01 3.16866620e-01\n",
      " 3.24629499e-01 3.24629499e-01 3.25335215e-01 3.25335215e-01\n",
      " 3.29569513e-01 3.29569513e-01 3.38743825e-01 3.38743825e-01\n",
      " 3.42978123e-01 3.42978123e-01 3.62032463e-01 3.62032463e-01\n",
      " 3.67678193e-01 3.67678193e-01 3.83203952e-01 3.83203952e-01\n",
      " 3.85321101e-01 3.85321101e-01 3.86026817e-01 3.86026817e-01\n",
      " 3.86732534e-01 3.86732534e-01 3.89555399e-01 3.89555399e-01\n",
      " 4.07904023e-01 4.07904023e-01 4.49541284e-01 4.49541284e-01\n",
      " 4.61538462e-01 4.61538462e-01 4.62244178e-01 4.62244178e-01\n",
      " 4.66478476e-01 4.66478476e-01 4.67889908e-01 4.67889908e-01\n",
      " 4.71418490e-01 4.71418490e-01 4.84827100e-01 4.84827100e-01\n",
      " 4.85532816e-01 4.85532816e-01 5.05292872e-01 5.05292872e-01\n",
      " 5.05998589e-01 5.05998589e-01 5.28581510e-01 5.28581510e-01\n",
      " 5.58221595e-01 5.58221595e-01 5.72335921e-01 5.72335921e-01\n",
      " 5.97035992e-01 5.97035992e-01 6.14678899e-01 6.14678899e-01\n",
      " 6.31616090e-01 6.31616090e-01 6.36556104e-01 6.36556104e-01\n",
      " 6.48553282e-01 6.48553282e-01 6.61961891e-01 6.61961891e-01\n",
      " 6.78899083e-01 6.78899083e-01 7.11362032e-01 7.11362032e-01\n",
      " 7.25476359e-01 7.25476359e-01 7.33239238e-01 7.33239238e-01\n",
      " 7.47353564e-01 7.47353564e-01 7.53705011e-01 7.53705011e-01\n",
      " 7.82639379e-01 7.82639379e-01 8.08750882e-01 8.08750882e-01\n",
      " 8.14396613e-01 8.14396613e-01 8.18630910e-01 8.18630910e-01\n",
      " 8.20042343e-01 8.20042343e-01 8.35568102e-01 8.35568102e-01\n",
      " 8.68736768e-01 8.68736768e-01 8.71559633e-01 8.71559633e-01\n",
      " 8.88496824e-01 8.88496824e-01 9.33662668e-01 9.33662668e-01\n",
      " 9.35779817e-01 9.35779817e-01 9.40014114e-01 9.40014114e-01\n",
      " 9.58362738e-01 9.58362738e-01 9.59774171e-01 9.59774171e-01\n",
      " 9.95059986e-01 9.95059986e-01 9.97177135e-01 9.97177135e-01\n",
      " 1.00000000e+00]\n"
     ]
    }
   ],
   "source": [
    "print(THR)\n",
    "print(TPR)\n",
    "print(FPR)"
   ]
  },
  {
   "cell_type": "code",
   "execution_count": 47,
   "metadata": {},
   "outputs": [
    {
     "data": {
      "image/png": "[encoded data removed]",
      "text/plain": [
       "<Figure size 432x288 with 1 Axes>"
      ]
     },
     "metadata": {
      "needs_background": "light"
     },
     "output_type": "display_data"
    }
   ],
   "source": [
    "%matplotlib inline\n",
    "import matplotlib.pyplot as plt\n",
    "plt.figure()\n",
    "# plot the FPR as X-axis and TPR as Y-axis\n",
    "plt.plot(FPR, TPR)\n",
    "# plot the minimum line \n",
    "plt.plot([0,1], [0,1], color='navy', linestyle = '--')\n",
    "# set X and Y limits\n",
    "plt.xlim([0.0, 1.05])\n",
    "plt.ylim([0.0, 1.05])\n",
    "# mention lables for X and Y\n",
    "plt.xlabel('False Positive Rate')\n",
    "plt.ylabel('True Positive Rate')\n",
    "plt.title('ROC')\n",
    "plt.show()"
   ]
  }
 ],
 "metadata": {
  "kernelspec": {
   "display_name": "Python 3",
   "language": "python",
   "name": "python3"
  },
  "language_info": {
   "codemirror_mode": {
    "name": "ipython",
    "version": 3
   },
   "file_extension": ".py",
   "mimetype": "text/x-python",
   "name": "python",
   "nbconvert_exporter": "python",
   "pygments_lexer": "ipython3",
   "version": "3.7.2"
  }
 },
 "nbformat": 4,
 "nbformat_minor": 2
}
