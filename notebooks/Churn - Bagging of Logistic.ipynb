{
 "cells": [
  {
   "cell_type": "code",
   "execution_count": 1,
   "metadata": {
    "collapsed": true
   },
   "outputs": [],
   "source": [
    "# The following code includes Bagging of logistic models\n",
    "# best parameters are identified using grid search with cross validation"
   ]
  },
  {
   "cell_type": "code",
   "execution_count": 1,
   "metadata": {},
   "outputs": [
    {
     "name": "stdout",
     "output_type": "stream",
     "text": [
      "C:\\Digital Nest\\Decision Trees\n"
     ]
    }
   ],
   "source": [
    "import os\n",
    "os.chdir(\"C:\\Digital Nest\\Decision Trees\")\n",
    "print (os.getcwd())"
   ]
  },
  {
   "cell_type": "code",
   "execution_count": 2,
   "metadata": {},
   "outputs": [
    {
     "data": {
      "text/html": [
       "<div>\n",
       "<style scoped>\n",
       "    .dataframe tbody tr th:only-of-type {\n",
       "        vertical-align: middle;\n",
       "    }\n",
       "\n",
       "    .dataframe tbody tr th {\n",
       "        vertical-align: top;\n",
       "    }\n",
       "\n",
       "    .dataframe thead th {\n",
       "        text-align: right;\n",
       "    }\n",
       "</style>\n",
       "<table border=\"1\" class=\"dataframe\">\n",
       "  <thead>\n",
       "    <tr style=\"text-align: right;\">\n",
       "      <th></th>\n",
       "      <th>AccountLength</th>\n",
       "      <th>VMailMessage</th>\n",
       "      <th>DayMins</th>\n",
       "      <th>EveMins</th>\n",
       "      <th>NightMins</th>\n",
       "      <th>IntlMins</th>\n",
       "      <th>CustServCalls</th>\n",
       "      <th>Churn</th>\n",
       "      <th>IntlPlan</th>\n",
       "      <th>VMailPlan</th>\n",
       "      <th>DayCalls</th>\n",
       "      <th>DayCharge</th>\n",
       "      <th>EveCalls</th>\n",
       "      <th>EveCharge</th>\n",
       "      <th>NightCalls</th>\n",
       "      <th>NightCharge</th>\n",
       "      <th>IntlCalls</th>\n",
       "      <th>IntlCharge</th>\n",
       "      <th>AreaCode</th>\n",
       "    </tr>\n",
       "  </thead>\n",
       "  <tbody>\n",
       "    <tr>\n",
       "      <th>count</th>\n",
       "      <td>3333.000000</td>\n",
       "      <td>3333.000000</td>\n",
       "      <td>3333.000000</td>\n",
       "      <td>3333.000000</td>\n",
       "      <td>3333.000000</td>\n",
       "      <td>3333.000000</td>\n",
       "      <td>3333.000000</td>\n",
       "      <td>3333.000000</td>\n",
       "      <td>3333.000000</td>\n",
       "      <td>3333.000000</td>\n",
       "      <td>3333.000000</td>\n",
       "      <td>3333.000000</td>\n",
       "      <td>3333.000000</td>\n",
       "      <td>3333.000000</td>\n",
       "      <td>3333.000000</td>\n",
       "      <td>3333.000000</td>\n",
       "      <td>3333.000000</td>\n",
       "      <td>3333.000000</td>\n",
       "      <td>3333.000000</td>\n",
       "    </tr>\n",
       "    <tr>\n",
       "      <th>mean</th>\n",
       "      <td>101.064806</td>\n",
       "      <td>8.099010</td>\n",
       "      <td>179.775098</td>\n",
       "      <td>200.980348</td>\n",
       "      <td>200.872037</td>\n",
       "      <td>10.237294</td>\n",
       "      <td>1.562856</td>\n",
       "      <td>0.144914</td>\n",
       "      <td>0.096910</td>\n",
       "      <td>0.276628</td>\n",
       "      <td>100.435644</td>\n",
       "      <td>30.562307</td>\n",
       "      <td>100.114311</td>\n",
       "      <td>17.083540</td>\n",
       "      <td>100.107711</td>\n",
       "      <td>9.039325</td>\n",
       "      <td>4.479448</td>\n",
       "      <td>2.764581</td>\n",
       "      <td>437.182418</td>\n",
       "    </tr>\n",
       "    <tr>\n",
       "      <th>std</th>\n",
       "      <td>39.822106</td>\n",
       "      <td>13.688365</td>\n",
       "      <td>54.467389</td>\n",
       "      <td>50.713844</td>\n",
       "      <td>50.573847</td>\n",
       "      <td>2.791840</td>\n",
       "      <td>1.315491</td>\n",
       "      <td>0.352067</td>\n",
       "      <td>0.295879</td>\n",
       "      <td>0.447398</td>\n",
       "      <td>20.069084</td>\n",
       "      <td>9.259435</td>\n",
       "      <td>19.922625</td>\n",
       "      <td>4.310668</td>\n",
       "      <td>19.568609</td>\n",
       "      <td>2.275873</td>\n",
       "      <td>2.461214</td>\n",
       "      <td>0.753773</td>\n",
       "      <td>42.371290</td>\n",
       "    </tr>\n",
       "    <tr>\n",
       "      <th>min</th>\n",
       "      <td>1.000000</td>\n",
       "      <td>0.000000</td>\n",
       "      <td>0.000000</td>\n",
       "      <td>0.000000</td>\n",
       "      <td>23.200000</td>\n",
       "      <td>0.000000</td>\n",
       "      <td>0.000000</td>\n",
       "      <td>0.000000</td>\n",
       "      <td>0.000000</td>\n",
       "      <td>0.000000</td>\n",
       "      <td>0.000000</td>\n",
       "      <td>0.000000</td>\n",
       "      <td>0.000000</td>\n",
       "      <td>0.000000</td>\n",
       "      <td>33.000000</td>\n",
       "      <td>1.040000</td>\n",
       "      <td>0.000000</td>\n",
       "      <td>0.000000</td>\n",
       "      <td>408.000000</td>\n",
       "    </tr>\n",
       "    <tr>\n",
       "      <th>25%</th>\n",
       "      <td>74.000000</td>\n",
       "      <td>0.000000</td>\n",
       "      <td>143.700000</td>\n",
       "      <td>166.600000</td>\n",
       "      <td>167.000000</td>\n",
       "      <td>8.500000</td>\n",
       "      <td>1.000000</td>\n",
       "      <td>0.000000</td>\n",
       "      <td>0.000000</td>\n",
       "      <td>0.000000</td>\n",
       "      <td>87.000000</td>\n",
       "      <td>24.430000</td>\n",
       "      <td>87.000000</td>\n",
       "      <td>14.160000</td>\n",
       "      <td>87.000000</td>\n",
       "      <td>7.520000</td>\n",
       "      <td>3.000000</td>\n",
       "      <td>2.300000</td>\n",
       "      <td>408.000000</td>\n",
       "    </tr>\n",
       "    <tr>\n",
       "      <th>50%</th>\n",
       "      <td>101.000000</td>\n",
       "      <td>0.000000</td>\n",
       "      <td>179.400000</td>\n",
       "      <td>201.400000</td>\n",
       "      <td>201.200000</td>\n",
       "      <td>10.300000</td>\n",
       "      <td>1.000000</td>\n",
       "      <td>0.000000</td>\n",
       "      <td>0.000000</td>\n",
       "      <td>0.000000</td>\n",
       "      <td>101.000000</td>\n",
       "      <td>30.500000</td>\n",
       "      <td>100.000000</td>\n",
       "      <td>17.120000</td>\n",
       "      <td>100.000000</td>\n",
       "      <td>9.050000</td>\n",
       "      <td>4.000000</td>\n",
       "      <td>2.780000</td>\n",
       "      <td>415.000000</td>\n",
       "    </tr>\n",
       "    <tr>\n",
       "      <th>75%</th>\n",
       "      <td>127.000000</td>\n",
       "      <td>20.000000</td>\n",
       "      <td>216.400000</td>\n",
       "      <td>235.300000</td>\n",
       "      <td>235.300000</td>\n",
       "      <td>12.100000</td>\n",
       "      <td>2.000000</td>\n",
       "      <td>0.000000</td>\n",
       "      <td>0.000000</td>\n",
       "      <td>1.000000</td>\n",
       "      <td>114.000000</td>\n",
       "      <td>36.790000</td>\n",
       "      <td>114.000000</td>\n",
       "      <td>20.000000</td>\n",
       "      <td>113.000000</td>\n",
       "      <td>10.590000</td>\n",
       "      <td>6.000000</td>\n",
       "      <td>3.270000</td>\n",
       "      <td>510.000000</td>\n",
       "    </tr>\n",
       "    <tr>\n",
       "      <th>max</th>\n",
       "      <td>243.000000</td>\n",
       "      <td>51.000000</td>\n",
       "      <td>350.800000</td>\n",
       "      <td>363.700000</td>\n",
       "      <td>395.000000</td>\n",
       "      <td>20.000000</td>\n",
       "      <td>9.000000</td>\n",
       "      <td>1.000000</td>\n",
       "      <td>1.000000</td>\n",
       "      <td>1.000000</td>\n",
       "      <td>165.000000</td>\n",
       "      <td>59.640000</td>\n",
       "      <td>170.000000</td>\n",
       "      <td>30.910000</td>\n",
       "      <td>175.000000</td>\n",
       "      <td>17.770000</td>\n",
       "      <td>20.000000</td>\n",
       "      <td>5.400000</td>\n",
       "      <td>510.000000</td>\n",
       "    </tr>\n",
       "  </tbody>\n",
       "</table>\n",
       "</div>"
      ],
      "text/plain": [
       "       AccountLength  VMailMessage      DayMins      EveMins    NightMins  \\\n",
       "count    3333.000000   3333.000000  3333.000000  3333.000000  3333.000000   \n",
       "mean      101.064806      8.099010   179.775098   200.980348   200.872037   \n",
       "std        39.822106     13.688365    54.467389    50.713844    50.573847   \n",
       "min         1.000000      0.000000     0.000000     0.000000    23.200000   \n",
       "25%        74.000000      0.000000   143.700000   166.600000   167.000000   \n",
       "50%       101.000000      0.000000   179.400000   201.400000   201.200000   \n",
       "75%       127.000000     20.000000   216.400000   235.300000   235.300000   \n",
       "max       243.000000     51.000000   350.800000   363.700000   395.000000   \n",
       "\n",
       "          IntlMins  CustServCalls        Churn     IntlPlan    VMailPlan  \\\n",
       "count  3333.000000    3333.000000  3333.000000  3333.000000  3333.000000   \n",
       "mean     10.237294       1.562856     0.144914     0.096910     0.276628   \n",
       "std       2.791840       1.315491     0.352067     0.295879     0.447398   \n",
       "min       0.000000       0.000000     0.000000     0.000000     0.000000   \n",
       "25%       8.500000       1.000000     0.000000     0.000000     0.000000   \n",
       "50%      10.300000       1.000000     0.000000     0.000000     0.000000   \n",
       "75%      12.100000       2.000000     0.000000     0.000000     1.000000   \n",
       "max      20.000000       9.000000     1.000000     1.000000     1.000000   \n",
       "\n",
       "          DayCalls    DayCharge     EveCalls    EveCharge   NightCalls  \\\n",
       "count  3333.000000  3333.000000  3333.000000  3333.000000  3333.000000   \n",
       "mean    100.435644    30.562307   100.114311    17.083540   100.107711   \n",
       "std      20.069084     9.259435    19.922625     4.310668    19.568609   \n",
       "min       0.000000     0.000000     0.000000     0.000000    33.000000   \n",
       "25%      87.000000    24.430000    87.000000    14.160000    87.000000   \n",
       "50%     101.000000    30.500000   100.000000    17.120000   100.000000   \n",
       "75%     114.000000    36.790000   114.000000    20.000000   113.000000   \n",
       "max     165.000000    59.640000   170.000000    30.910000   175.000000   \n",
       "\n",
       "       NightCharge    IntlCalls   IntlCharge     AreaCode  \n",
       "count  3333.000000  3333.000000  3333.000000  3333.000000  \n",
       "mean      9.039325     4.479448     2.764581   437.182418  \n",
       "std       2.275873     2.461214     0.753773    42.371290  \n",
       "min       1.040000     0.000000     0.000000   408.000000  \n",
       "25%       7.520000     3.000000     2.300000   408.000000  \n",
       "50%       9.050000     4.000000     2.780000   415.000000  \n",
       "75%      10.590000     6.000000     3.270000   510.000000  \n",
       "max      17.770000    20.000000     5.400000   510.000000  "
      ]
     },
     "execution_count": 2,
     "metadata": {},
     "output_type": "execute_result"
    }
   ],
   "source": [
    "import numpy as np\n",
    "import pandas as pd\n",
    "churn = pd.read_csv('Churn.csv')\n",
    "churn.describe()"
   ]
  },
  {
   "cell_type": "code",
   "execution_count": 11,
   "metadata": {},
   "outputs": [
    {
     "data": {
      "text/plain": [
       "(3333, 21)"
      ]
     },
     "execution_count": 11,
     "metadata": {},
     "output_type": "execute_result"
    }
   ],
   "source": [
    "churn.shape"
   ]
  },
  {
   "cell_type": "code",
   "execution_count": 3,
   "metadata": {},
   "outputs": [
    {
     "data": {
      "text/plain": [
       "(array([0, 1], dtype=int64), array([2850,  483], dtype=int64))"
      ]
     },
     "execution_count": 3,
     "metadata": {},
     "output_type": "execute_result"
    }
   ],
   "source": [
    "# target class ratio\n",
    "np.unique(churn.Churn,return_counts=True)"
   ]
  },
  {
   "cell_type": "code",
   "execution_count": 4,
   "metadata": {},
   "outputs": [
    {
     "data": {
      "text/plain": [
       "0.8550855085508551"
      ]
     },
     "execution_count": 4,
     "metadata": {},
     "output_type": "execute_result"
    }
   ],
   "source": [
    "2850/(2850+483)"
   ]
  },
  {
   "cell_type": "code",
   "execution_count": 5,
   "metadata": {},
   "outputs": [
    {
     "data": {
      "text/plain": [
       "array(['AccountLength', 'VMailMessage', 'DayMins', 'EveMins', 'NightMins',\n",
       "       'IntlMins', 'CustServCalls', 'Churn', 'IntlPlan', 'VMailPlan',\n",
       "       'DayCalls', 'DayCharge', 'EveCalls', 'EveCharge', 'NightCalls',\n",
       "       'NightCharge', 'IntlCalls', 'IntlCharge', 'State', 'AreaCode',\n",
       "       'Phone'], dtype=object)"
      ]
     },
     "execution_count": 5,
     "metadata": {},
     "output_type": "execute_result"
    }
   ],
   "source": [
    "churn.columns.values"
   ]
  },
  {
   "cell_type": "code",
   "execution_count": 4,
   "metadata": {},
   "outputs": [
    {
     "data": {
      "text/plain": [
       "False"
      ]
     },
     "execution_count": 4,
     "metadata": {},
     "output_type": "execute_result"
    }
   ],
   "source": [
    "# check if any NA values\n",
    "churn.isnull().values.any()"
   ]
  },
  {
   "cell_type": "code",
   "execution_count": 7,
   "metadata": {},
   "outputs": [
    {
     "data": {
      "text/plain": [
       "array([[1.        , 0.99999995],\n",
       "       [0.99999995, 1.        ]])"
      ]
     },
     "execution_count": 7,
     "metadata": {},
     "output_type": "execute_result"
    }
   ],
   "source": [
    "# find out corrleation between day charge and day minutes\n",
    "np.corrcoef(churn.DayMins,churn.DayCharge)"
   ]
  },
  {
   "cell_type": "code",
   "execution_count": 8,
   "metadata": {},
   "outputs": [
    {
     "data": {
      "text/plain": [
       "array([[1.        , 0.99999978],\n",
       "       [0.99999978, 1.        ]])"
      ]
     },
     "execution_count": 8,
     "metadata": {},
     "output_type": "execute_result"
    }
   ],
   "source": [
    "np.corrcoef(churn.EveMins,churn.EveCharge)"
   ]
  },
  {
   "cell_type": "code",
   "execution_count": 9,
   "metadata": {},
   "outputs": [
    {
     "data": {
      "text/plain": [
       "array([[1.        , 0.99999921],\n",
       "       [0.99999921, 1.        ]])"
      ]
     },
     "execution_count": 9,
     "metadata": {},
     "output_type": "execute_result"
    }
   ],
   "source": [
    "np.corrcoef(churn.NightMins,churn.NightCharge)"
   ]
  },
  {
   "cell_type": "code",
   "execution_count": 10,
   "metadata": {},
   "outputs": [
    {
     "data": {
      "text/plain": [
       "array([[1.        , 0.99999274],\n",
       "       [0.99999274, 1.        ]])"
      ]
     },
     "execution_count": 10,
     "metadata": {},
     "output_type": "execute_result"
    }
   ],
   "source": [
    "np.corrcoef(churn.IntlMins,churn.IntlCharge)"
   ]
  },
  {
   "cell_type": "code",
   "execution_count": 11,
   "metadata": {},
   "outputs": [
    {
     "data": {
      "text/plain": [
       "array([[1.        , 0.00675296],\n",
       "       [0.00675296, 1.        ]])"
      ]
     },
     "execution_count": 11,
     "metadata": {},
     "output_type": "execute_result"
    }
   ],
   "source": [
    "np.corrcoef(churn.DayCalls,churn.DayCharge)"
   ]
  },
  {
   "cell_type": "code",
   "execution_count": 4,
   "metadata": {},
   "outputs": [
    {
     "name": "stdout",
     "output_type": "stream",
     "text": [
      "             Churn\n",
      "count  3333.000000\n",
      "mean      0.144914\n",
      "std       0.352067\n",
      "min       0.000000\n",
      "25%       0.000000\n",
      "50%       0.000000\n",
      "75%       0.000000\n",
      "max       1.000000\n",
      "(3333, 19)\n"
     ]
    }
   ],
   "source": [
    "# split the file into Independent and dependent variables\n",
    "churnY = churn.iloc[::,7:8:1]\n",
    "print(churnY.describe())\n",
    "churnX = churn\n",
    "churnX.drop(columns=['Churn','Phone'],axis=1,inplace=True)\n",
    "print(churnX.shape)"
   ]
  },
  {
   "cell_type": "code",
   "execution_count": 5,
   "metadata": {},
   "outputs": [
    {
     "name": "stdout",
     "output_type": "stream",
     "text": [
      "<class 'pandas.core.frame.DataFrame'>\n",
      "<class 'pandas.core.frame.DataFrame'>\n",
      "<class 'pandas.core.frame.DataFrame'>\n",
      "<class 'pandas.core.frame.DataFrame'>\n"
     ]
    }
   ],
   "source": [
    "# splitting the data into Train and Test\n",
    "from sklearn.model_selection import train_test_split\n",
    "X_train, X_test, Y_train, Y_test = train_test_split(churnX, churnY, test_size = 0.30, \n",
    "                                                    random_state = 1)\n",
    "print(type(X_train))\n",
    "print(type(Y_train))\n",
    "print(type(X_test))\n",
    "print(type(Y_test))"
   ]
  },
  {
   "cell_type": "code",
   "execution_count": 18,
   "metadata": {},
   "outputs": [
    {
     "name": "stdout",
     "output_type": "stream",
     "text": [
      "(2333, 1)\n",
      "(1000, 19)\n",
      "(1000, 1)\n"
     ]
    }
   ],
   "source": [
    "#print(X_train[0:5])\n",
    "print(Y_train.shape)\n",
    "print(X_test.shape)\n",
    "print(Y_test.shape)"
   ]
  },
  {
   "cell_type": "code",
   "execution_count": 19,
   "metadata": {},
   "outputs": [
    {
     "data": {
      "text/plain": [
       "(array([408, 415, 510], dtype=int64), array([ 838, 1655,  840], dtype=int64))"
      ]
     },
     "execution_count": 19,
     "metadata": {},
     "output_type": "execute_result"
    }
   ],
   "source": [
    "np.unique(churn.AreaCode,return_counts=True)"
   ]
  },
  {
   "cell_type": "code",
   "execution_count": 20,
   "metadata": {},
   "outputs": [
    {
     "data": {
      "text/plain": [
       "(array(['AK', 'AL', 'AR', 'AZ', 'CA', 'CO', 'CT', 'DC', 'DE', 'FL', 'GA',\n",
       "        'HI', 'IA', 'ID', 'IL', 'IN', 'KS', 'KY', 'LA', 'MA', 'MD', 'ME',\n",
       "        'MI', 'MN', 'MO', 'MS', 'MT', 'NC', 'ND', 'NE', 'NH', 'NJ', 'NM',\n",
       "        'NV', 'NY', 'OH', 'OK', 'OR', 'PA', 'RI', 'SC', 'SD', 'TN', 'TX',\n",
       "        'UT', 'VA', 'VT', 'WA', 'WI', 'WV', 'WY'], dtype=object),\n",
       " array([ 52,  80,  55,  64,  34,  66,  74,  54,  61,  63,  54,  53,  44,\n",
       "         73,  58,  71,  70,  59,  51,  65,  70,  62,  73,  84,  63,  65,\n",
       "         68,  68,  62,  61,  56,  68,  62,  66,  83,  78,  61,  78,  45,\n",
       "         65,  60,  60,  53,  72,  72,  77,  73,  66,  78, 106,  77],\n",
       "       dtype=int64))"
      ]
     },
     "execution_count": 20,
     "metadata": {},
     "output_type": "execute_result"
    }
   ],
   "source": [
    "np.unique(churn.State,return_counts=True)"
   ]
  },
  {
   "cell_type": "code",
   "execution_count": 6,
   "metadata": {},
   "outputs": [
    {
     "name": "stdout",
     "output_type": "stream",
     "text": [
      "count    2333.000000\n",
      "mean       26.096871\n",
      "std        14.956112\n",
      "min         0.000000\n",
      "25%        14.000000\n",
      "50%        26.000000\n",
      "75%        39.000000\n",
      "max        50.000000\n",
      "Name: State, dtype: float64\n"
     ]
    },
    {
     "name": "stderr",
     "output_type": "stream",
     "text": [
      "C:\\Users\\Vishnu Murthy Chakka\\Anaconda3\\lib\\site-packages\\pandas\\core\\generic.py:5096: SettingWithCopyWarning: \n",
      "A value is trying to be set on a copy of a slice from a DataFrame.\n",
      "Try using .loc[row_indexer,col_indexer] = value instead\n",
      "\n",
      "See the caveats in the documentation: http://pandas.pydata.org/pandas-docs/stable/indexing.html#indexing-view-versus-copy\n",
      "  self[name] = value\n"
     ]
    }
   ],
   "source": [
    "# lable encoding for strings - state\n",
    "from sklearn.preprocessing import LabelEncoder\n",
    "le = LabelEncoder()\n",
    "X_train.State = le.fit_transform(X_train.State)\n",
    "X_test.State = le.transform(X_test.State)\n",
    "print(X_train.State.describe())"
   ]
  },
  {
   "cell_type": "code",
   "execution_count": 7,
   "metadata": {
    "collapsed": true
   },
   "outputs": [],
   "source": [
    "#dir(LabelEncoder)"
   ]
  },
  {
   "cell_type": "code",
   "execution_count": 22,
   "metadata": {},
   "outputs": [
    {
     "data": {
      "text/plain": [
       "(array([ 0,  1,  2,  3,  4,  5,  6,  7,  8,  9, 10, 11, 12, 13, 14, 15, 16,\n",
       "        17, 18, 19, 20, 21, 22, 23, 24, 25, 26, 27, 28, 29, 30, 31, 32, 33,\n",
       "        34, 35, 36, 37, 38, 39, 40, 41, 42, 43, 44, 45, 46, 47, 48, 49, 50]),\n",
       " array([39, 59, 42, 42, 23, 49, 51, 40, 40, 41, 43, 30, 30, 54, 41, 51, 45,\n",
       "        36, 33, 48, 50, 43, 52, 62, 46, 47, 50, 47, 47, 38, 36, 46, 36, 45,\n",
       "        58, 56, 38, 51, 34, 43, 39, 47, 37, 51, 52, 53, 53, 51, 49, 78, 61],\n",
       "       dtype=int64))"
      ]
     },
     "execution_count": 22,
     "metadata": {},
     "output_type": "execute_result"
    }
   ],
   "source": [
    "np.unique(X_train.State,return_counts=True)"
   ]
  },
  {
   "cell_type": "code",
   "execution_count": 23,
   "metadata": {},
   "outputs": [
    {
     "data": {
      "text/plain": [
       "array(['AccountLength', 'VMailMessage', 'DayMins', 'EveMins', 'NightMins',\n",
       "       'IntlMins', 'CustServCalls', 'IntlPlan', 'VMailPlan', 'DayCalls',\n",
       "       'DayCharge', 'EveCalls', 'EveCharge', 'NightCalls', 'NightCharge',\n",
       "       'IntlCalls', 'IntlCharge', 'State', 'AreaCode'], dtype=object)"
      ]
     },
     "execution_count": 23,
     "metadata": {},
     "output_type": "execute_result"
    }
   ],
   "source": [
    "X_train.columns.values"
   ]
  },
  {
   "cell_type": "code",
   "execution_count": 24,
   "metadata": {},
   "outputs": [
    {
     "data": {
      "text/plain": [
       "(2333, 19)"
      ]
     },
     "execution_count": 24,
     "metadata": {},
     "output_type": "execute_result"
    }
   ],
   "source": [
    "X_train.shape"
   ]
  },
  {
   "cell_type": "code",
   "execution_count": 7,
   "metadata": {},
   "outputs": [
    {
     "name": "stdout",
     "output_type": "stream",
     "text": [
      "(2333, 71)\n",
      "(1000, 71)\n"
     ]
    },
    {
     "name": "stderr",
     "output_type": "stream",
     "text": [
      "C:\\Users\\Vishnu Murthy Chakka\\Anaconda3\\lib\\site-packages\\sklearn\\preprocessing\\_encoders.py:371: FutureWarning: The handling of integer data will change in version 0.22. Currently, the categories are determined based on the range [0, max(values)], while in the future they will be determined based on the unique values.\n",
      "If you want the future behaviour and silence this warning, you can specify \"categories='auto'\".\n",
      "In case you used a LabelEncoder before this OneHotEncoder to convert the categories to integers, then you can now use the OneHotEncoder directly.\n",
      "  warnings.warn(msg, FutureWarning)\n",
      "C:\\Users\\Vishnu Murthy Chakka\\Anaconda3\\lib\\site-packages\\sklearn\\preprocessing\\_encoders.py:392: DeprecationWarning: The 'categorical_features' keyword is deprecated in version 0.20 and will be removed in 0.22. You can use the ColumnTransformer instead.\n",
      "  \"use the ColumnTransformer instead.\", DeprecationWarning)\n"
     ]
    }
   ],
   "source": [
    "# apply one hot encoding on state and area\n",
    "from sklearn.preprocessing import OneHotEncoder\n",
    "categories = np.array([17,18])                 # column 17 - state, 18 - area code\n",
    "OHE = OneHotEncoder(n_values = 'auto', categorical_features = categories, \n",
    "                    sparse = False, handle_unknown = 'error')\n",
    "X_train = OHE.fit_transform(X_train)\n",
    "print(X_train.shape)\n",
    "X_test = OHE.transform(X_test)\n",
    "print(X_test.shape)"
   ]
  },
  {
   "cell_type": "code",
   "execution_count": 28,
   "metadata": {},
   "outputs": [
    {
     "data": {
      "text/plain": [
       "numpy.ndarray"
      ]
     },
     "execution_count": 28,
     "metadata": {},
     "output_type": "execute_result"
    }
   ],
   "source": [
    "type(X_train)"
   ]
  },
  {
   "cell_type": "code",
   "execution_count": 7,
   "metadata": {},
   "outputs": [
    {
     "name": "stdout",
     "output_type": "stream",
     "text": [
      "Fitting 3 folds for each of 18 candidates, totalling 54 fits\n",
      "[CV] min_impurity_decrease=0.005, min_samples_leaf=2, min_samples_split=10 \n",
      "[CV]  min_impurity_decrease=0.005, min_samples_leaf=2, min_samples_split=10, score=0.8994810033934394, total=   0.0s\n",
      "[CV] min_impurity_decrease=0.005, min_samples_leaf=2, min_samples_split=10 \n",
      "[CV]  min_impurity_decrease=0.005, min_samples_leaf=2, min_samples_split=10, score=0.8725264488655267, total=   0.0s\n",
      "[CV] min_impurity_decrease=0.005, min_samples_leaf=2, min_samples_split=10 \n",
      "[CV]  min_impurity_decrease=0.005, min_samples_leaf=2, min_samples_split=10, score=0.8822435553168637, total=   0.0s\n",
      "[CV] min_impurity_decrease=0.005, min_samples_leaf=2, min_samples_split=8 \n",
      "[CV]  min_impurity_decrease=0.005, min_samples_leaf=2, min_samples_split=8, score=0.8994810033934394, total=   0.0s\n",
      "[CV] min_impurity_decrease=0.005, min_samples_leaf=2, min_samples_split=8 \n",
      "[CV]  min_impurity_decrease=0.005, min_samples_leaf=2, min_samples_split=8, score=0.8725264488655267, total=   0.0s\n",
      "[CV] min_impurity_decrease=0.005, min_samples_leaf=2, min_samples_split=8 \n",
      "[CV]  min_impurity_decrease=0.005, min_samples_leaf=2, min_samples_split=8, score=0.8822435553168637, total=   0.0s\n",
      "[CV] min_impurity_decrease=0.005, min_samples_leaf=2, min_samples_split=5 \n",
      "[CV]  min_impurity_decrease=0.005, min_samples_leaf=2, min_samples_split=5, score=0.8994810033934394, total=   0.0s\n",
      "[CV] min_impurity_decrease=0.005, min_samples_leaf=2, min_samples_split=5 \n",
      "[CV]  min_impurity_decrease=0.005, min_samples_leaf=2, min_samples_split=5, score=0.8725264488655267, total=   0.0s\n",
      "[CV] min_impurity_decrease=0.005, min_samples_leaf=2, min_samples_split=5 \n",
      "[CV]  min_impurity_decrease=0.005, min_samples_leaf=2, min_samples_split=5, score=0.8822435553168637, total=   0.0s\n",
      "[CV] min_impurity_decrease=0.005, min_samples_leaf=3, min_samples_split=10 \n",
      "[CV]  min_impurity_decrease=0.005, min_samples_leaf=3, min_samples_split=10, score=0.8994810033934394, total=   0.0s\n",
      "[CV] min_impurity_decrease=0.005, min_samples_leaf=3, min_samples_split=10 \n",
      "[CV]  min_impurity_decrease=0.005, min_samples_leaf=3, min_samples_split=10, score=0.8725264488655267, total=   0.0s\n",
      "[CV] min_impurity_decrease=0.005, min_samples_leaf=3, min_samples_split=10 \n",
      "[CV]  min_impurity_decrease=0.005, min_samples_leaf=3, min_samples_split=10, score=0.8822435553168637, total=   0.0s\n",
      "[CV] min_impurity_decrease=0.005, min_samples_leaf=3, min_samples_split=8 \n",
      "[CV]  min_impurity_decrease=0.005, min_samples_leaf=3, min_samples_split=8, score=0.8994810033934394, total=   0.0s\n",
      "[CV] min_impurity_decrease=0.005, min_samples_leaf=3, min_samples_split=8 \n",
      "[CV]  min_impurity_decrease=0.005, min_samples_leaf=3, min_samples_split=8, score=0.8725264488655267, total=   0.0s\n",
      "[CV] min_impurity_decrease=0.005, min_samples_leaf=3, min_samples_split=8 \n"
     ]
    },
    {
     "name": "stderr",
     "output_type": "stream",
     "text": [
      "[Parallel(n_jobs=1)]: Using backend SequentialBackend with 1 concurrent workers.\n",
      "[Parallel(n_jobs=1)]: Done   1 out of   1 | elapsed:    0.0s remaining:    0.0s\n",
      "[Parallel(n_jobs=1)]: Done   2 out of   2 | elapsed:    0.0s remaining:    0.0s\n",
      "[Parallel(n_jobs=1)]: Done   3 out of   3 | elapsed:    0.0s remaining:    0.0s\n",
      "[Parallel(n_jobs=1)]: Done   4 out of   4 | elapsed:    0.0s remaining:    0.0s\n",
      "[Parallel(n_jobs=1)]: Done   5 out of   5 | elapsed:    0.0s remaining:    0.0s\n",
      "[Parallel(n_jobs=1)]: Done   6 out of   6 | elapsed:    0.0s remaining:    0.0s\n",
      "[Parallel(n_jobs=1)]: Done   7 out of   7 | elapsed:    0.0s remaining:    0.0s\n",
      "[Parallel(n_jobs=1)]: Done   8 out of   8 | elapsed:    0.0s remaining:    0.0s\n",
      "[Parallel(n_jobs=1)]: Done   9 out of   9 | elapsed:    0.0s remaining:    0.0s\n"
     ]
    },
    {
     "name": "stdout",
     "output_type": "stream",
     "text": [
      "[CV]  min_impurity_decrease=0.005, min_samples_leaf=3, min_samples_split=8, score=0.8822435553168637, total=   0.0s\n",
      "[CV] min_impurity_decrease=0.005, min_samples_leaf=3, min_samples_split=5 \n",
      "[CV]  min_impurity_decrease=0.005, min_samples_leaf=3, min_samples_split=5, score=0.8994810033934394, total=   0.0s\n",
      "[CV] min_impurity_decrease=0.005, min_samples_leaf=3, min_samples_split=5 \n",
      "[CV]  min_impurity_decrease=0.005, min_samples_leaf=3, min_samples_split=5, score=0.8725264488655267, total=   0.0s\n",
      "[CV] min_impurity_decrease=0.005, min_samples_leaf=3, min_samples_split=5 \n",
      "[CV]  min_impurity_decrease=0.005, min_samples_leaf=3, min_samples_split=5, score=0.8822435553168637, total=   0.0s\n",
      "[CV] min_impurity_decrease=0.005, min_samples_leaf=5, min_samples_split=10 \n",
      "[CV]  min_impurity_decrease=0.005, min_samples_leaf=5, min_samples_split=10, score=0.8994810033934394, total=   0.0s\n",
      "[CV] min_impurity_decrease=0.005, min_samples_leaf=5, min_samples_split=10 \n",
      "[CV]  min_impurity_decrease=0.005, min_samples_leaf=5, min_samples_split=10, score=0.8725264488655267, total=   0.0s\n",
      "[CV] min_impurity_decrease=0.005, min_samples_leaf=5, min_samples_split=10 \n",
      "[CV]  min_impurity_decrease=0.005, min_samples_leaf=5, min_samples_split=10, score=0.8822435553168637, total=   0.0s\n",
      "[CV] min_impurity_decrease=0.005, min_samples_leaf=5, min_samples_split=8 \n",
      "[CV]  min_impurity_decrease=0.005, min_samples_leaf=5, min_samples_split=8, score=0.8994810033934394, total=   0.0s\n",
      "[CV] min_impurity_decrease=0.005, min_samples_leaf=5, min_samples_split=8 \n",
      "[CV]  min_impurity_decrease=0.005, min_samples_leaf=5, min_samples_split=8, score=0.8725264488655267, total=   0.0s\n",
      "[CV] min_impurity_decrease=0.005, min_samples_leaf=5, min_samples_split=8 \n",
      "[CV]  min_impurity_decrease=0.005, min_samples_leaf=5, min_samples_split=8, score=0.8822435553168637, total=   0.0s\n",
      "[CV] min_impurity_decrease=0.005, min_samples_leaf=5, min_samples_split=5 \n",
      "[CV]  min_impurity_decrease=0.005, min_samples_leaf=5, min_samples_split=5, score=0.8994810033934394, total=   0.0s\n",
      "[CV] min_impurity_decrease=0.005, min_samples_leaf=5, min_samples_split=5 \n",
      "[CV]  min_impurity_decrease=0.005, min_samples_leaf=5, min_samples_split=5, score=0.8725264488655267, total=   0.0s\n",
      "[CV] min_impurity_decrease=0.005, min_samples_leaf=5, min_samples_split=5 \n",
      "[CV]  min_impurity_decrease=0.005, min_samples_leaf=5, min_samples_split=5, score=0.8822435553168637, total=   0.0s\n",
      "[CV] min_impurity_decrease=0.01, min_samples_leaf=2, min_samples_split=10 \n",
      "[CV]  min_impurity_decrease=0.01, min_samples_leaf=2, min_samples_split=10, score=0.87039057821545, total=   0.0s\n",
      "[CV] min_impurity_decrease=0.01, min_samples_leaf=2, min_samples_split=10 \n",
      "[CV]  min_impurity_decrease=0.01, min_samples_leaf=2, min_samples_split=10, score=0.8285780823740767, total=   0.0s\n",
      "[CV] min_impurity_decrease=0.01, min_samples_leaf=2, min_samples_split=10 \n",
      "[CV]  min_impurity_decrease=0.01, min_samples_leaf=2, min_samples_split=10, score=0.9052027389903329, total=   0.0s\n",
      "[CV] min_impurity_decrease=0.01, min_samples_leaf=2, min_samples_split=8 \n",
      "[CV]  min_impurity_decrease=0.01, min_samples_leaf=2, min_samples_split=8, score=0.87039057821545, total=   0.0s\n",
      "[CV] min_impurity_decrease=0.01, min_samples_leaf=2, min_samples_split=8 \n",
      "[CV]  min_impurity_decrease=0.01, min_samples_leaf=2, min_samples_split=8, score=0.8285780823740767, total=   0.0s\n",
      "[CV] min_impurity_decrease=0.01, min_samples_leaf=2, min_samples_split=8 \n",
      "[CV]  min_impurity_decrease=0.01, min_samples_leaf=2, min_samples_split=8, score=0.9052027389903329, total=   0.0s\n",
      "[CV] min_impurity_decrease=0.01, min_samples_leaf=2, min_samples_split=5 \n",
      "[CV]  min_impurity_decrease=0.01, min_samples_leaf=2, min_samples_split=5, score=0.87039057821545, total=   0.0s\n",
      "[CV] min_impurity_decrease=0.01, min_samples_leaf=2, min_samples_split=5 \n",
      "[CV]  min_impurity_decrease=0.01, min_samples_leaf=2, min_samples_split=5, score=0.8285780823740767, total=   0.0s\n",
      "[CV] min_impurity_decrease=0.01, min_samples_leaf=2, min_samples_split=5 \n",
      "[CV]  min_impurity_decrease=0.01, min_samples_leaf=2, min_samples_split=5, score=0.9052027389903329, total=   0.0s\n",
      "[CV] min_impurity_decrease=0.01, min_samples_leaf=3, min_samples_split=10 \n",
      "[CV]  min_impurity_decrease=0.01, min_samples_leaf=3, min_samples_split=10, score=0.87039057821545, total=   0.0s\n",
      "[CV] min_impurity_decrease=0.01, min_samples_leaf=3, min_samples_split=10 \n",
      "[CV]  min_impurity_decrease=0.01, min_samples_leaf=3, min_samples_split=10, score=0.8285780823740767, total=   0.0s\n",
      "[CV] min_impurity_decrease=0.01, min_samples_leaf=3, min_samples_split=10 \n",
      "[CV]  min_impurity_decrease=0.01, min_samples_leaf=3, min_samples_split=10, score=0.9052027389903329, total=   0.0s\n",
      "[CV] min_impurity_decrease=0.01, min_samples_leaf=3, min_samples_split=8 \n",
      "[CV]  min_impurity_decrease=0.01, min_samples_leaf=3, min_samples_split=8, score=0.87039057821545, total=   0.0s\n",
      "[CV] min_impurity_decrease=0.01, min_samples_leaf=3, min_samples_split=8 \n",
      "[CV]  min_impurity_decrease=0.01, min_samples_leaf=3, min_samples_split=8, score=0.8285780823740767, total=   0.0s\n",
      "[CV] min_impurity_decrease=0.01, min_samples_leaf=3, min_samples_split=8 \n",
      "[CV]  min_impurity_decrease=0.01, min_samples_leaf=3, min_samples_split=8, score=0.9052027389903329, total=   0.0s\n",
      "[CV] min_impurity_decrease=0.01, min_samples_leaf=3, min_samples_split=5 \n",
      "[CV]  min_impurity_decrease=0.01, min_samples_leaf=3, min_samples_split=5, score=0.87039057821545, total=   0.0s\n",
      "[CV] min_impurity_decrease=0.01, min_samples_leaf=3, min_samples_split=5 \n",
      "[CV]  min_impurity_decrease=0.01, min_samples_leaf=3, min_samples_split=5, score=0.8285780823740767, total=   0.0s\n",
      "[CV] min_impurity_decrease=0.01, min_samples_leaf=3, min_samples_split=5 \n",
      "[CV]  min_impurity_decrease=0.01, min_samples_leaf=3, min_samples_split=5, score=0.9052027389903329, total=   0.0s\n",
      "[CV] min_impurity_decrease=0.01, min_samples_leaf=5, min_samples_split=10 \n",
      "[CV]  min_impurity_decrease=0.01, min_samples_leaf=5, min_samples_split=10, score=0.87039057821545, total=   0.0s\n",
      "[CV] min_impurity_decrease=0.01, min_samples_leaf=5, min_samples_split=10 \n",
      "[CV]  min_impurity_decrease=0.01, min_samples_leaf=5, min_samples_split=10, score=0.8285780823740767, total=   0.0s\n",
      "[CV] min_impurity_decrease=0.01, min_samples_leaf=5, min_samples_split=10 \n",
      "[CV]  min_impurity_decrease=0.01, min_samples_leaf=5, min_samples_split=10, score=0.9052027389903329, total=   0.0s\n",
      "[CV] min_impurity_decrease=0.01, min_samples_leaf=5, min_samples_split=8 \n",
      "[CV]  min_impurity_decrease=0.01, min_samples_leaf=5, min_samples_split=8, score=0.87039057821545, total=   0.0s\n",
      "[CV] min_impurity_decrease=0.01, min_samples_leaf=5, min_samples_split=8 \n",
      "[CV]  min_impurity_decrease=0.01, min_samples_leaf=5, min_samples_split=8, score=0.8285780823740767, total=   0.0s\n",
      "[CV] min_impurity_decrease=0.01, min_samples_leaf=5, min_samples_split=8 \n",
      "[CV]  min_impurity_decrease=0.01, min_samples_leaf=5, min_samples_split=8, score=0.9052027389903329, total=   0.0s\n",
      "[CV] min_impurity_decrease=0.01, min_samples_leaf=5, min_samples_split=5 \n",
      "[CV]  min_impurity_decrease=0.01, min_samples_leaf=5, min_samples_split=5, score=0.87039057821545, total=   0.0s\n",
      "[CV] min_impurity_decrease=0.01, min_samples_leaf=5, min_samples_split=5 \n",
      "[CV]  min_impurity_decrease=0.01, min_samples_leaf=5, min_samples_split=5, score=0.8285780823740767, total=   0.0s\n",
      "[CV] min_impurity_decrease=0.01, min_samples_leaf=5, min_samples_split=5 \n",
      "[CV]  min_impurity_decrease=0.01, min_samples_leaf=5, min_samples_split=5, score=0.9052027389903329, total=   0.0s\n"
     ]
    },
    {
     "name": "stderr",
     "output_type": "stream",
     "text": [
      "[Parallel(n_jobs=1)]: Done  54 out of  54 | elapsed:    0.7s finished\n"
     ]
    },
    {
     "data": {
      "text/plain": [
       "GridSearchCV(cv=3, error_score='raise-deprecating',\n",
       "       estimator=DecisionTreeClassifier(class_weight='balanced', criterion='gini',\n",
       "            max_depth=None, max_features=None, max_leaf_nodes=None,\n",
       "            min_impurity_decrease=0.0, min_impurity_split=None,\n",
       "            min_samples_leaf=1, min_samples_split=2,\n",
       "            min_weight_fraction_leaf=0.0, presort=False, random_state=None,\n",
       "            splitter='best'),\n",
       "       fit_params=None, iid='warn', n_jobs=1,\n",
       "       param_grid={'min_samples_split': [10, 8, 5], 'min_samples_leaf': [2, 3, 5], 'min_impurity_decrease': [0.005, 0.01]},\n",
       "       pre_dispatch='2*n_jobs', refit=True, return_train_score=True,\n",
       "       scoring='roc_auc', verbose=10)"
      ]
     },
     "execution_count": 7,
     "metadata": {},
     "output_type": "execute_result"
    }
   ],
   "source": [
    "%%time\n",
    "# Bagging Classifier on logistic\n",
    "# build the logistic object\n",
    "from sklearn.linear_model import LogisticRegression\n",
    "lgr = LogisticRegression(class_weight = 'balanced',solver='lbfgs',penalty='l2',C=0.5)\n",
    "# build grid search parameters\n",
    "parms = {'n_estimators' : [50,100],\n",
    "          'bootstrap':[True,False],\n",
    "          'max_samples':[0.8,0.7]} \n",
    "# perform grid search\n",
    "from sklearn.ensemble import BaggingClassifier\n",
    "Bagging = BaggingClassifier(base_estimator = lgr, max_features = 1.0,\n",
    "                           verbose = 10, oob_score = False)\n",
    "from sklearn.model_selection import GridSearchCV\n",
    "CV = GridSearchCV(estimator = Bagging,param_grid = parms, scoring = 'roc_auc',cv=3, refit=True,\n",
    "                           return_train_score = True, verbose=10,n_jobs=1)\n",
    "CV.fit(X_train,Y_train.Churn)"
   ]
  },
  {
   "cell_type": "code",
   "execution_count": 27,
   "metadata": {},
   "outputs": [
    {
     "name": "stdout",
     "output_type": "stream",
     "text": [
      "Wall time: 657 ms\n"
     ]
    }
   ],
   "source": [
    "%%time\n",
    "CVResults = pd.DataFrame(CV.cv_results_)\n",
    "CVResults.to_excel('CVResutls_Bagging_Logistic.xlsx')"
   ]
  },
  {
   "cell_type": "code",
   "execution_count": 28,
   "metadata": {},
   "outputs": [
    {
     "name": "stdout",
     "output_type": "stream",
     "text": [
      "DecisionTreeClassifier(class_weight='balanced', criterion='gini',\n",
      "            max_depth=None, max_features=None, max_leaf_nodes=None,\n",
      "            min_impurity_decrease=0.005, min_impurity_split=None,\n",
      "            min_samples_leaf=2, min_samples_split=10,\n",
      "            min_weight_fraction_leaf=0.0, presort=False, random_state=None,\n",
      "            splitter='best')\n"
     ]
    }
   ],
   "source": [
    "print(CV.best_estimator_)"
   ]
  },
  {
   "cell_type": "code",
   "execution_count": 31,
   "metadata": {},
   "outputs": [
    {
     "name": "stdout",
     "output_type": "stream",
     "text": [
      "0.884751410346626\n",
      "{'min_impurity_decrease': 0.005, 'min_samples_leaf': 2, 'min_samples_split': 10}\n"
     ]
    }
   ],
   "source": [
    "print(CV.best_score_)\n",
    "print(CV.best_params_)"
   ]
  },
  {
   "cell_type": "code",
   "execution_count": 9,
   "metadata": {},
   "outputs": [
    {
     "name": "stdout",
     "output_type": "stream",
     "text": [
      "[0 0 0 0 0 0 0 0 1 0]\n"
     ]
    }
   ],
   "source": [
    "# Preidct on Test data and check the confusion matrix\n",
    "predictTest = CV.predict(X_test)\n",
    "print(predictTest[0:10])"
   ]
  },
  {
   "cell_type": "code",
   "execution_count": 10,
   "metadata": {},
   "outputs": [
    {
     "name": "stdout",
     "output_type": "stream",
     "text": [
      "[[0.86817471 0.13182529]\n",
      " [0.86817471 0.13182529]\n",
      " [1.         0.        ]\n",
      " [0.86817471 0.13182529]\n",
      " [0.86817471 0.13182529]\n",
      " [0.89150533 0.10849467]\n",
      " [0.82382239 0.17617761]\n",
      " [0.86817471 0.13182529]\n",
      " [0.18647605 0.81352395]\n",
      " [0.86817471 0.13182529]]\n"
     ]
    }
   ],
   "source": [
    "predictProb = CV.predict_proba(X_test)\n",
    "print(predictProb[0:10])\n",
    "PProb = pd.DataFrame(predictProb)"
   ]
  },
  {
   "cell_type": "code",
   "execution_count": 11,
   "metadata": {},
   "outputs": [
    {
     "name": "stdout",
     "output_type": "stream",
     "text": [
      "[[804  51]\n",
      " [ 34 111]]\n",
      "              precision    recall  f1-score   support\n",
      "\n",
      "           0       0.96      0.94      0.95       855\n",
      "           1       0.69      0.77      0.72       145\n",
      "\n",
      "   micro avg       0.92      0.92      0.92      1000\n",
      "   macro avg       0.82      0.85      0.84      1000\n",
      "weighted avg       0.92      0.92      0.92      1000\n",
      "\n"
     ]
    }
   ],
   "source": [
    "# generate confusion matrix\n",
    "# import confusion matrix and classification report\n",
    "from sklearn.metrics import confusion_matrix, classification_report\n",
    "print (confusion_matrix(Y_test,predictTest))\n",
    "print (classification_report(Y_test,predictTest))"
   ]
  },
  {
   "cell_type": "code",
   "execution_count": 12,
   "metadata": {},
   "outputs": [
    {
     "name": "stdout",
     "output_type": "stream",
     "text": [
      "0.8772817100221818\n"
     ]
    }
   ],
   "source": [
    "# generate ROC curve\n",
    "from sklearn.metrics import roc_auc_score, roc_curve\n",
    "# AUC for class 1\n",
    "AUC = roc_auc_score(Y_test, PProb[1])\n",
    "print(AUC)\n",
    "# define variables for True Positive Rate and Falst Positive Rate & threshold value\n",
    "TPR = dict()\n",
    "FPR = dict()\n",
    "THR = dict()\n",
    "FPR, TPR, THR = roc_curve(Y_test, PProb[1])"
   ]
  },
  {
   "cell_type": "code",
   "execution_count": 35,
   "metadata": {},
   "outputs": [
    {
     "name": "stdout",
     "output_type": "stream",
     "text": [
      "[2.         1.         0.94340551 0.92756328 0.8705117  0.8615592\n",
      " 0.40167702 0.15259441 0.14081428 0.11132266 0.05397334]\n",
      "[0.         0.2173913  0.44202899 0.73913043 0.74637681 0.8115942\n",
      " 0.83333333 0.83333333 0.98550725 0.98550725 1.        ]\n",
      "[0.         0.00348028 0.02436195 0.05568445 0.06148492 0.07308585\n",
      " 0.13341067 0.14965197 0.89443155 0.95011601 1.        ]\n"
     ]
    }
   ],
   "source": [
    "print(THR)\n",
    "print(TPR)\n",
    "print(FPR)"
   ]
  },
  {
   "cell_type": "code",
   "execution_count": 14,
   "metadata": {},
   "outputs": [
    {
     "data": {
      "image/png": "[encoded data removed]",
      "text/plain": [
       "<Figure size 432x288 with 1 Axes>"
      ]
     },
     "metadata": {
      "needs_background": "light"
     },
     "output_type": "display_data"
    }
   ],
   "source": [
    "import matplotlib.pyplot as plt\n",
    "plt.figure()\n",
    "# plot the FPR as X-axis and TPR as Y-axis\n",
    "plt.plot(FPR, TPR)\n",
    "# plot the minimum line \n",
    "plt.plot([0,1], [0,1], color='navy', linestyle = '--')\n",
    "# set X and Y limits\n",
    "plt.xlim([0.0, 1.05])\n",
    "plt.ylim([0.0, 1.05])\n",
    "# mention lables for X and Y\n",
    "plt.xlabel('False Positive Rate')\n",
    "plt.ylabel('True Positive Rate')\n",
    "plt.title('ROC')\n",
    "plt.show()"
   ]
  },
  {
   "cell_type": "code",
   "execution_count": null,
   "metadata": {},
   "outputs": [],
   "source": []
  }
 ],
 "metadata": {
  "kernelspec": {
   "display_name": "Python 3",
   "language": "python",
   "name": "python3"
  },
  "language_info": {
   "codemirror_mode": {
    "name": "ipython",
    "version": 3
   },
   "file_extension": ".py",
   "mimetype": "text/x-python",
   "name": "python",
   "nbconvert_exporter": "python",
   "pygments_lexer": "ipython3",
   "version": "3.7.2"
  }
 },
 "nbformat": 4,
 "nbformat_minor": 2
}
