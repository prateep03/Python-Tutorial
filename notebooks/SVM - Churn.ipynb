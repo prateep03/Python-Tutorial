{
 "cells": [
  {
   "cell_type": "code",
   "execution_count": 1,
   "metadata": {},
   "outputs": [],
   "source": [
    "# The following code includes SVM classifier\n",
    "# best parameters are identified using grid search with cross validation"
   ]
  },
  {
   "cell_type": "code",
   "execution_count": 2,
   "metadata": {},
   "outputs": [
    {
     "name": "stdout",
     "output_type": "stream",
     "text": [
      "D:\\Teaching\\Python-Tutorial\\data\n"
     ]
    }
   ],
   "source": [
    "import os\n",
    "os.chdir(\"D:\\Teaching\\Python-Tutorial\\data\")\n",
    "print (os.getcwd())"
   ]
  },
  {
   "cell_type": "code",
   "execution_count": 3,
   "metadata": {},
   "outputs": [
    {
     "data": {
      "text/html": [
       "<div>\n",
       "<style scoped>\n",
       "    .dataframe tbody tr th:only-of-type {\n",
       "        vertical-align: middle;\n",
       "    }\n",
       "\n",
       "    .dataframe tbody tr th {\n",
       "        vertical-align: top;\n",
       "    }\n",
       "\n",
       "    .dataframe thead th {\n",
       "        text-align: right;\n",
       "    }\n",
       "</style>\n",
       "<table border=\"1\" class=\"dataframe\">\n",
       "  <thead>\n",
       "    <tr style=\"text-align: right;\">\n",
       "      <th></th>\n",
       "      <th>AccountLength</th>\n",
       "      <th>AreaCode</th>\n",
       "      <th>IntlPlan</th>\n",
       "      <th>VMailPlan</th>\n",
       "      <th>VMailMessage</th>\n",
       "      <th>DayMins</th>\n",
       "      <th>DayCalls</th>\n",
       "      <th>DayCharge</th>\n",
       "      <th>EveMins</th>\n",
       "      <th>EveCalls</th>\n",
       "      <th>EveCharge</th>\n",
       "      <th>NightMins</th>\n",
       "      <th>NightCalls</th>\n",
       "      <th>NightCharge</th>\n",
       "      <th>IntlMins</th>\n",
       "      <th>IntlCalls</th>\n",
       "      <th>IntlCharge</th>\n",
       "      <th>CusServCalls</th>\n",
       "      <th>Churn</th>\n",
       "    </tr>\n",
       "  </thead>\n",
       "  <tbody>\n",
       "    <tr>\n",
       "      <th>count</th>\n",
       "      <td>3333.000000</td>\n",
       "      <td>3333.000000</td>\n",
       "      <td>3333.000000</td>\n",
       "      <td>3333.000000</td>\n",
       "      <td>3333.000000</td>\n",
       "      <td>3333.000000</td>\n",
       "      <td>3333.000000</td>\n",
       "      <td>3333.000000</td>\n",
       "      <td>3333.000000</td>\n",
       "      <td>3333.000000</td>\n",
       "      <td>3333.000000</td>\n",
       "      <td>3333.000000</td>\n",
       "      <td>3333.000000</td>\n",
       "      <td>3333.000000</td>\n",
       "      <td>3333.000000</td>\n",
       "      <td>3333.000000</td>\n",
       "      <td>3333.000000</td>\n",
       "      <td>3333.000000</td>\n",
       "      <td>3333.000000</td>\n",
       "    </tr>\n",
       "    <tr>\n",
       "      <th>mean</th>\n",
       "      <td>101.064806</td>\n",
       "      <td>437.182418</td>\n",
       "      <td>0.096910</td>\n",
       "      <td>0.276628</td>\n",
       "      <td>8.099010</td>\n",
       "      <td>179.775098</td>\n",
       "      <td>100.435644</td>\n",
       "      <td>30.562307</td>\n",
       "      <td>200.980348</td>\n",
       "      <td>100.114311</td>\n",
       "      <td>17.083540</td>\n",
       "      <td>200.872037</td>\n",
       "      <td>100.107711</td>\n",
       "      <td>9.039325</td>\n",
       "      <td>10.237294</td>\n",
       "      <td>4.479448</td>\n",
       "      <td>2.764581</td>\n",
       "      <td>1.562856</td>\n",
       "      <td>0.144914</td>\n",
       "    </tr>\n",
       "    <tr>\n",
       "      <th>std</th>\n",
       "      <td>39.822106</td>\n",
       "      <td>42.371290</td>\n",
       "      <td>0.295879</td>\n",
       "      <td>0.447398</td>\n",
       "      <td>13.688365</td>\n",
       "      <td>54.467389</td>\n",
       "      <td>20.069084</td>\n",
       "      <td>9.259435</td>\n",
       "      <td>50.713844</td>\n",
       "      <td>19.922625</td>\n",
       "      <td>4.310668</td>\n",
       "      <td>50.573847</td>\n",
       "      <td>19.568609</td>\n",
       "      <td>2.275873</td>\n",
       "      <td>2.791840</td>\n",
       "      <td>2.461214</td>\n",
       "      <td>0.753773</td>\n",
       "      <td>1.315491</td>\n",
       "      <td>0.352067</td>\n",
       "    </tr>\n",
       "    <tr>\n",
       "      <th>min</th>\n",
       "      <td>1.000000</td>\n",
       "      <td>408.000000</td>\n",
       "      <td>0.000000</td>\n",
       "      <td>0.000000</td>\n",
       "      <td>0.000000</td>\n",
       "      <td>0.000000</td>\n",
       "      <td>0.000000</td>\n",
       "      <td>0.000000</td>\n",
       "      <td>0.000000</td>\n",
       "      <td>0.000000</td>\n",
       "      <td>0.000000</td>\n",
       "      <td>23.200000</td>\n",
       "      <td>33.000000</td>\n",
       "      <td>1.040000</td>\n",
       "      <td>0.000000</td>\n",
       "      <td>0.000000</td>\n",
       "      <td>0.000000</td>\n",
       "      <td>0.000000</td>\n",
       "      <td>0.000000</td>\n",
       "    </tr>\n",
       "    <tr>\n",
       "      <th>25%</th>\n",
       "      <td>74.000000</td>\n",
       "      <td>408.000000</td>\n",
       "      <td>0.000000</td>\n",
       "      <td>0.000000</td>\n",
       "      <td>0.000000</td>\n",
       "      <td>143.700000</td>\n",
       "      <td>87.000000</td>\n",
       "      <td>24.430000</td>\n",
       "      <td>166.600000</td>\n",
       "      <td>87.000000</td>\n",
       "      <td>14.160000</td>\n",
       "      <td>167.000000</td>\n",
       "      <td>87.000000</td>\n",
       "      <td>7.520000</td>\n",
       "      <td>8.500000</td>\n",
       "      <td>3.000000</td>\n",
       "      <td>2.300000</td>\n",
       "      <td>1.000000</td>\n",
       "      <td>0.000000</td>\n",
       "    </tr>\n",
       "    <tr>\n",
       "      <th>50%</th>\n",
       "      <td>101.000000</td>\n",
       "      <td>415.000000</td>\n",
       "      <td>0.000000</td>\n",
       "      <td>0.000000</td>\n",
       "      <td>0.000000</td>\n",
       "      <td>179.400000</td>\n",
       "      <td>101.000000</td>\n",
       "      <td>30.500000</td>\n",
       "      <td>201.400000</td>\n",
       "      <td>100.000000</td>\n",
       "      <td>17.120000</td>\n",
       "      <td>201.200000</td>\n",
       "      <td>100.000000</td>\n",
       "      <td>9.050000</td>\n",
       "      <td>10.300000</td>\n",
       "      <td>4.000000</td>\n",
       "      <td>2.780000</td>\n",
       "      <td>1.000000</td>\n",
       "      <td>0.000000</td>\n",
       "    </tr>\n",
       "    <tr>\n",
       "      <th>75%</th>\n",
       "      <td>127.000000</td>\n",
       "      <td>510.000000</td>\n",
       "      <td>0.000000</td>\n",
       "      <td>1.000000</td>\n",
       "      <td>20.000000</td>\n",
       "      <td>216.400000</td>\n",
       "      <td>114.000000</td>\n",
       "      <td>36.790000</td>\n",
       "      <td>235.300000</td>\n",
       "      <td>114.000000</td>\n",
       "      <td>20.000000</td>\n",
       "      <td>235.300000</td>\n",
       "      <td>113.000000</td>\n",
       "      <td>10.590000</td>\n",
       "      <td>12.100000</td>\n",
       "      <td>6.000000</td>\n",
       "      <td>3.270000</td>\n",
       "      <td>2.000000</td>\n",
       "      <td>0.000000</td>\n",
       "    </tr>\n",
       "    <tr>\n",
       "      <th>max</th>\n",
       "      <td>243.000000</td>\n",
       "      <td>510.000000</td>\n",
       "      <td>1.000000</td>\n",
       "      <td>1.000000</td>\n",
       "      <td>51.000000</td>\n",
       "      <td>350.800000</td>\n",
       "      <td>165.000000</td>\n",
       "      <td>59.640000</td>\n",
       "      <td>363.700000</td>\n",
       "      <td>170.000000</td>\n",
       "      <td>30.910000</td>\n",
       "      <td>395.000000</td>\n",
       "      <td>175.000000</td>\n",
       "      <td>17.770000</td>\n",
       "      <td>20.000000</td>\n",
       "      <td>20.000000</td>\n",
       "      <td>5.400000</td>\n",
       "      <td>9.000000</td>\n",
       "      <td>1.000000</td>\n",
       "    </tr>\n",
       "  </tbody>\n",
       "</table>\n",
       "</div>"
      ],
      "text/plain": [
       "       AccountLength     AreaCode     IntlPlan    VMailPlan  VMailMessage  \\\n",
       "count    3333.000000  3333.000000  3333.000000  3333.000000   3333.000000   \n",
       "mean      101.064806   437.182418     0.096910     0.276628      8.099010   \n",
       "std        39.822106    42.371290     0.295879     0.447398     13.688365   \n",
       "min         1.000000   408.000000     0.000000     0.000000      0.000000   \n",
       "25%        74.000000   408.000000     0.000000     0.000000      0.000000   \n",
       "50%       101.000000   415.000000     0.000000     0.000000      0.000000   \n",
       "75%       127.000000   510.000000     0.000000     1.000000     20.000000   \n",
       "max       243.000000   510.000000     1.000000     1.000000     51.000000   \n",
       "\n",
       "           DayMins     DayCalls    DayCharge      EveMins     EveCalls  \\\n",
       "count  3333.000000  3333.000000  3333.000000  3333.000000  3333.000000   \n",
       "mean    179.775098   100.435644    30.562307   200.980348   100.114311   \n",
       "std      54.467389    20.069084     9.259435    50.713844    19.922625   \n",
       "min       0.000000     0.000000     0.000000     0.000000     0.000000   \n",
       "25%     143.700000    87.000000    24.430000   166.600000    87.000000   \n",
       "50%     179.400000   101.000000    30.500000   201.400000   100.000000   \n",
       "75%     216.400000   114.000000    36.790000   235.300000   114.000000   \n",
       "max     350.800000   165.000000    59.640000   363.700000   170.000000   \n",
       "\n",
       "         EveCharge    NightMins   NightCalls  NightCharge     IntlMins  \\\n",
       "count  3333.000000  3333.000000  3333.000000  3333.000000  3333.000000   \n",
       "mean     17.083540   200.872037   100.107711     9.039325    10.237294   \n",
       "std       4.310668    50.573847    19.568609     2.275873     2.791840   \n",
       "min       0.000000    23.200000    33.000000     1.040000     0.000000   \n",
       "25%      14.160000   167.000000    87.000000     7.520000     8.500000   \n",
       "50%      17.120000   201.200000   100.000000     9.050000    10.300000   \n",
       "75%      20.000000   235.300000   113.000000    10.590000    12.100000   \n",
       "max      30.910000   395.000000   175.000000    17.770000    20.000000   \n",
       "\n",
       "         IntlCalls   IntlCharge  CusServCalls        Churn  \n",
       "count  3333.000000  3333.000000   3333.000000  3333.000000  \n",
       "mean      4.479448     2.764581      1.562856     0.144914  \n",
       "std       2.461214     0.753773      1.315491     0.352067  \n",
       "min       0.000000     0.000000      0.000000     0.000000  \n",
       "25%       3.000000     2.300000      1.000000     0.000000  \n",
       "50%       4.000000     2.780000      1.000000     0.000000  \n",
       "75%       6.000000     3.270000      2.000000     0.000000  \n",
       "max      20.000000     5.400000      9.000000     1.000000  "
      ]
     },
     "execution_count": 3,
     "metadata": {},
     "output_type": "execute_result"
    }
   ],
   "source": [
    "import numpy as np\n",
    "import pandas as pd\n",
    "churn = pd.read_csv('Churn.csv')\n",
    "churn.describe()"
   ]
  },
  {
   "cell_type": "code",
   "execution_count": 4,
   "metadata": {},
   "outputs": [
    {
     "data": {
      "text/plain": [
       "(array([0, 1], dtype=int64), array([2850,  483]))"
      ]
     },
     "execution_count": 4,
     "metadata": {},
     "output_type": "execute_result"
    }
   ],
   "source": [
    "# target class ratio\n",
    "np.unique(churn.Churn,return_counts=True)"
   ]
  },
  {
   "cell_type": "code",
   "execution_count": 5,
   "metadata": {},
   "outputs": [
    {
     "data": {
      "text/plain": [
       "0.8550855085508551"
      ]
     },
     "execution_count": 5,
     "metadata": {},
     "output_type": "execute_result"
    }
   ],
   "source": [
    "2850/(2850+483)"
   ]
  },
  {
   "cell_type": "code",
   "execution_count": 6,
   "metadata": {},
   "outputs": [
    {
     "data": {
      "text/plain": [
       "array(['State', 'AccountLength', 'AreaCode', 'Phone', 'IntlPlan',\n",
       "       'VMailPlan', 'VMailMessage', 'DayMins', 'DayCalls', 'DayCharge',\n",
       "       'EveMins', 'EveCalls', 'EveCharge', 'NightMins', 'NightCalls',\n",
       "       'NightCharge', 'IntlMins', 'IntlCalls', 'IntlCharge',\n",
       "       'CusServCalls', 'Churn'], dtype=object)"
      ]
     },
     "execution_count": 6,
     "metadata": {},
     "output_type": "execute_result"
    }
   ],
   "source": [
    "churn.columns.values"
   ]
  },
  {
   "cell_type": "code",
   "execution_count": 7,
   "metadata": {},
   "outputs": [
    {
     "data": {
      "text/plain": [
       "False"
      ]
     },
     "execution_count": 7,
     "metadata": {},
     "output_type": "execute_result"
    }
   ],
   "source": [
    "# check if any NA values\n",
    "churn.isnull().values.any()"
   ]
  },
  {
   "cell_type": "code",
   "execution_count": 8,
   "metadata": {},
   "outputs": [
    {
     "data": {
      "text/plain": [
       "array([[1.        , 0.99999995],\n",
       "       [0.99999995, 1.        ]])"
      ]
     },
     "execution_count": 8,
     "metadata": {},
     "output_type": "execute_result"
    }
   ],
   "source": [
    "# find out corrleation between day charge and day minutes\n",
    "np.corrcoef(churn.DayMins,churn.DayCharge)"
   ]
  },
  {
   "cell_type": "code",
   "execution_count": 9,
   "metadata": {},
   "outputs": [
    {
     "data": {
      "text/plain": [
       "array([[1.        , 0.99999978],\n",
       "       [0.99999978, 1.        ]])"
      ]
     },
     "execution_count": 9,
     "metadata": {},
     "output_type": "execute_result"
    }
   ],
   "source": [
    "np.corrcoef(churn.EveMins,churn.EveCharge)"
   ]
  },
  {
   "cell_type": "code",
   "execution_count": 10,
   "metadata": {},
   "outputs": [
    {
     "data": {
      "text/plain": [
       "array([[1.        , 0.99999921],\n",
       "       [0.99999921, 1.        ]])"
      ]
     },
     "execution_count": 10,
     "metadata": {},
     "output_type": "execute_result"
    }
   ],
   "source": [
    "np.corrcoef(churn.NightMins,churn.NightCharge)"
   ]
  },
  {
   "cell_type": "code",
   "execution_count": 11,
   "metadata": {},
   "outputs": [
    {
     "data": {
      "text/plain": [
       "array([[1.        , 0.99999274],\n",
       "       [0.99999274, 1.        ]])"
      ]
     },
     "execution_count": 11,
     "metadata": {},
     "output_type": "execute_result"
    }
   ],
   "source": [
    "np.corrcoef(churn.IntlMins,churn.IntlCharge)"
   ]
  },
  {
   "cell_type": "code",
   "execution_count": 12,
   "metadata": {},
   "outputs": [
    {
     "data": {
      "text/plain": [
       "array([[1.        , 0.00675296],\n",
       "       [0.00675296, 1.        ]])"
      ]
     },
     "execution_count": 12,
     "metadata": {},
     "output_type": "execute_result"
    }
   ],
   "source": [
    "np.corrcoef(churn.DayCalls,churn.DayCharge)"
   ]
  },
  {
   "cell_type": "code",
   "execution_count": 13,
   "metadata": {},
   "outputs": [
    {
     "name": "stdout",
     "output_type": "stream",
     "text": [
      "count    3333.000000\n",
      "mean        0.144914\n",
      "std         0.352067\n",
      "min         0.000000\n",
      "25%         0.000000\n",
      "50%         0.000000\n",
      "75%         0.000000\n",
      "max         1.000000\n",
      "Name: Churn, dtype: float64\n",
      "(3333, 19)\n"
     ]
    }
   ],
   "source": [
    "# split the file into Independent and dependent variables\n",
    "churnY = churn.iloc[::,20]\n",
    "print(churnY.describe())\n",
    "churnX = churn\n",
    "churnX.drop(columns=['Churn','Phone'],axis=1,inplace=True)\n",
    "print(churnX.shape)"
   ]
  },
  {
   "cell_type": "code",
   "execution_count": 14,
   "metadata": {},
   "outputs": [
    {
     "name": "stdout",
     "output_type": "stream",
     "text": [
      "<class 'pandas.core.frame.DataFrame'>\n",
      "<class 'pandas.core.series.Series'>\n",
      "<class 'pandas.core.frame.DataFrame'>\n",
      "<class 'pandas.core.series.Series'>\n"
     ]
    }
   ],
   "source": [
    "# splitting the data into Train and Test\n",
    "from sklearn.model_selection import train_test_split\n",
    "X_train, X_test, Y_train, Y_test = train_test_split(churnX, churnY, test_size = 0.50, \n",
    "                                                    random_state = 42)\n",
    "print(type(X_train))\n",
    "print(type(Y_train))\n",
    "print(type(X_test))\n",
    "print(type(Y_test))"
   ]
  },
  {
   "cell_type": "code",
   "execution_count": 15,
   "metadata": {},
   "outputs": [
    {
     "name": "stdout",
     "output_type": "stream",
     "text": [
      "(1666, 19)\n",
      "(1666,)\n",
      "(1667, 19)\n",
      "(1667,)\n"
     ]
    }
   ],
   "source": [
    "print(X_train.shape)\n",
    "print(Y_train.shape)\n",
    "print(X_test.shape)\n",
    "print(Y_test.shape)"
   ]
  },
  {
   "cell_type": "code",
   "execution_count": 16,
   "metadata": {},
   "outputs": [
    {
     "data": {
      "text/plain": [
       "(array([408, 415, 510], dtype=int64), array([ 838, 1655,  840]))"
      ]
     },
     "execution_count": 16,
     "metadata": {},
     "output_type": "execute_result"
    }
   ],
   "source": [
    "np.unique(churn.AreaCode,return_counts=True)"
   ]
  },
  {
   "cell_type": "code",
   "execution_count": 17,
   "metadata": {},
   "outputs": [
    {
     "data": {
      "text/plain": [
       "(array(['AK', 'AL', 'AR', 'AZ', 'CA', 'CO', 'CT', 'DC', 'DE', 'FL', 'GA',\n",
       "        'HI', 'IA', 'ID', 'IL', 'IN', 'KS', 'KY', 'LA', 'MA', 'MD', 'ME',\n",
       "        'MI', 'MN', 'MO', 'MS', 'MT', 'NC', 'ND', 'NE', 'NH', 'NJ', 'NM',\n",
       "        'NV', 'NY', 'OH', 'OK', 'OR', 'PA', 'RI', 'SC', 'SD', 'TN', 'TX',\n",
       "        'UT', 'VA', 'VT', 'WA', 'WI', 'WV', 'WY'], dtype=object),\n",
       " array([ 52,  80,  55,  64,  34,  66,  74,  54,  61,  63,  54,  53,  44,\n",
       "         73,  58,  71,  70,  59,  51,  65,  70,  62,  73,  84,  63,  65,\n",
       "         68,  68,  62,  61,  56,  68,  62,  66,  83,  78,  61,  78,  45,\n",
       "         65,  60,  60,  53,  72,  72,  77,  73,  66,  78, 106,  77]))"
      ]
     },
     "execution_count": 17,
     "metadata": {},
     "output_type": "execute_result"
    }
   ],
   "source": [
    "np.unique(churn.State,return_counts=True)"
   ]
  },
  {
   "cell_type": "code",
   "execution_count": 18,
   "metadata": {},
   "outputs": [
    {
     "data": {
      "text/plain": [
       "(array(['AK', 'AL', 'AR', 'AZ', 'CA', 'CO', 'CT', 'DC', 'DE', 'FL', 'GA',\n",
       "        'HI', 'IA', 'ID', 'IL', 'IN', 'KS', 'KY', 'LA', 'MA', 'MD', 'ME',\n",
       "        'MI', 'MN', 'MO', 'MS', 'MT', 'NC', 'ND', 'NE', 'NH', 'NJ', 'NM',\n",
       "        'NV', 'NY', 'OH', 'OK', 'OR', 'PA', 'RI', 'SC', 'SD', 'TN', 'TX',\n",
       "        'UT', 'VA', 'VT', 'WA', 'WI', 'WV', 'WY'], dtype=object),\n",
       " array([28, 37, 28, 31, 21, 30, 34, 29, 34, 31, 23, 26, 20, 40, 26, 35, 32,\n",
       "        33, 27, 35, 37, 27, 40, 49, 35, 34, 32, 32, 26, 22, 26, 36, 32, 36,\n",
       "        42, 38, 34, 35, 28, 37, 28, 31, 30, 36, 35, 37, 32, 36, 45, 49, 29]))"
      ]
     },
     "execution_count": 18,
     "metadata": {},
     "output_type": "execute_result"
    }
   ],
   "source": [
    "np.unique(X_train.State,return_counts=True)"
   ]
  },
  {
   "cell_type": "code",
   "execution_count": 19,
   "metadata": {},
   "outputs": [
    {
     "name": "stderr",
     "output_type": "stream",
     "text": [
      "E:\\Python\\Python3.7.2\\lib\\site-packages\\pandas\\core\\generic.py:4405: SettingWithCopyWarning: \n",
      "A value is trying to be set on a copy of a slice from a DataFrame.\n",
      "Try using .loc[row_indexer,col_indexer] = value instead\n",
      "\n",
      "See the caveats in the documentation: http://pandas.pydata.org/pandas-docs/stable/indexing.html#indexing-view-versus-copy\n",
      "  self[name] = value\n"
     ]
    }
   ],
   "source": [
    "# lable encoding for strings - state\n",
    "from sklearn.preprocessing import LabelEncoder\n",
    "le = LabelEncoder()\n",
    "X_train.State = le.fit_transform(X_train.State)\n",
    "X_test.State = le.transform(X_test.State)"
   ]
  },
  {
   "cell_type": "code",
   "execution_count": 20,
   "metadata": {},
   "outputs": [],
   "source": [
    "#dir(LabelEncoder)"
   ]
  },
  {
   "cell_type": "code",
   "execution_count": 21,
   "metadata": {},
   "outputs": [
    {
     "data": {
      "text/plain": [
       "(array([ 0,  1,  2,  3,  4,  5,  6,  7,  8,  9, 10, 11, 12, 13, 14, 15, 16,\n",
       "        17, 18, 19, 20, 21, 22, 23, 24, 25, 26, 27, 28, 29, 30, 31, 32, 33,\n",
       "        34, 35, 36, 37, 38, 39, 40, 41, 42, 43, 44, 45, 46, 47, 48, 49, 50],\n",
       "       dtype=int32),\n",
       " array([28, 37, 28, 31, 21, 30, 34, 29, 34, 31, 23, 26, 20, 40, 26, 35, 32,\n",
       "        33, 27, 35, 37, 27, 40, 49, 35, 34, 32, 32, 26, 22, 26, 36, 32, 36,\n",
       "        42, 38, 34, 35, 28, 37, 28, 31, 30, 36, 35, 37, 32, 36, 45, 49, 29]))"
      ]
     },
     "execution_count": 21,
     "metadata": {},
     "output_type": "execute_result"
    }
   ],
   "source": [
    "np.unique(X_train.State,return_counts=True)"
   ]
  },
  {
   "cell_type": "code",
   "execution_count": 22,
   "metadata": {},
   "outputs": [
    {
     "data": {
      "text/plain": [
       "array(['State', 'AccountLength', 'AreaCode', 'IntlPlan', 'VMailPlan',\n",
       "       'VMailMessage', 'DayMins', 'DayCalls', 'DayCharge', 'EveMins',\n",
       "       'EveCalls', 'EveCharge', 'NightMins', 'NightCalls', 'NightCharge',\n",
       "       'IntlMins', 'IntlCalls', 'IntlCharge', 'CusServCalls'],\n",
       "      dtype=object)"
      ]
     },
     "execution_count": 22,
     "metadata": {},
     "output_type": "execute_result"
    }
   ],
   "source": [
    "X_train.columns.values"
   ]
  },
  {
   "cell_type": "code",
   "execution_count": 23,
   "metadata": {},
   "outputs": [
    {
     "data": {
      "text/plain": [
       "(1666, 19)"
      ]
     },
     "execution_count": 23,
     "metadata": {},
     "output_type": "execute_result"
    }
   ],
   "source": [
    "X_train.shape"
   ]
  },
  {
   "cell_type": "code",
   "execution_count": 24,
   "metadata": {},
   "outputs": [
    {
     "name": "stdout",
     "output_type": "stream",
     "text": [
      "(1666, 31)\n",
      "(1667, 31)\n"
     ]
    }
   ],
   "source": [
    "# apply one hot encoding on state and area\n",
    "from sklearn.preprocessing import OneHotEncoder\n",
    "categories = np.array([17,18])                 # column 17 - state, 18 - area code\n",
    "OHE = OneHotEncoder(n_values='auto', categorical_features=categories, sparse = False, handle_unknown = 'ignore')\n",
    "X_train = OHE.fit_transform(X_train)\n",
    "X_test = OHE.transform(X_test)\n",
    "print(X_train.shape)\n",
    "print(X_test.shape)"
   ]
  },
  {
   "cell_type": "code",
   "execution_count": 25,
   "metadata": {},
   "outputs": [
    {
     "data": {
      "text/plain": [
       "pandas.core.series.Series"
      ]
     },
     "execution_count": 25,
     "metadata": {},
     "output_type": "execute_result"
    }
   ],
   "source": [
    "# type(X_train)\n",
    "type(Y_train)"
   ]
  },
  {
   "cell_type": "markdown",
   "metadata": {},
   "source": [
    "Linear SVM is based on the [*liblinear*](https://www.csie.ntu.edu.tw/~cjlin/liblinear/) library, which implements an optimized algorithm for linear SVMs. `rbf` and `poly` kernels are based on the `libsvm` library. The training time complexity is **dreadfully slow** when the number of training instances gets large. The algorithm is perfect for complex but small or medium training sets. However, it scales well with the number of features, especially with *sparse features* (i.e. when each instance has few non-zero features)."
   ]
  },
  {
   "cell_type": "code",
   "execution_count": 26,
   "metadata": {},
   "outputs": [
    {
     "name": "stdout",
     "output_type": "stream",
     "text": [
      "[LibSVM]Wall time: 2.13 s\n"
     ]
    }
   ],
   "source": [
    "%%time\n",
    "# SVM\n",
    "from sklearn.svm import SVC\n",
    "SVM = SVC(C=0.001, kernel=\"linear\", \n",
    "          class_weight='balanced',\n",
    "          probability=True, \n",
    "          verbose=True,\n",
    "          random_state = 42)\n",
    "\n",
    "SVM.fit(X_train,Y_train)"
   ]
  },
  {
   "cell_type": "markdown",
   "metadata": {},
   "source": [
    "You can also search for the best model parameters with *k-fold cross-validation* using `sklearn.model_selection.GridSearchCV`. Run the following code cell for a grid search of parameters `C`, `kernel` and `gamma`.\n",
    "\n",
    "**Note:** \n",
    "The following code cell is computationally demanding. Depending on your CPU resources, it may take upto 1 hour to complete model training. An alternative to training the model locally is to use Google's [colab notebooks](https://colab.research.google.com/notebooks/intro.ipynb). You can find a sample colab notebook embedded below."
   ]
  },
  {
   "cell_type": "code",
   "execution_count": 27,
   "metadata": {},
   "outputs": [
    {
     "data": {
      "text/html": [
       "\n",
       "        <iframe\n",
       "            width=\"600\"\n",
       "            height=\"600\"\n",
       "            src=\"SVM_Churn.html\"\n",
       "            frameborder=\"0\"\n",
       "            allowfullscreen\n",
       "        ></iframe>\n",
       "        "
      ],
      "text/plain": [
       "<IPython.lib.display.IFrame at 0x7b01a50>"
      ]
     },
     "execution_count": 27,
     "metadata": {},
     "output_type": "execute_result"
    }
   ],
   "source": [
    "from IPython.display import IFrame\n",
    "\n",
    "IFrame(src='SVM_Churn.html', width=600, height=600)"
   ]
  },
  {
   "cell_type": "code",
   "execution_count": 28,
   "metadata": {},
   "outputs": [],
   "source": [
    "# from sklearn.svm import SVC\n",
    "# SVM = SVC(class_weight='balanced',degree=3,probability=True)\n",
    "\n",
    "# # build grid search parameters\n",
    "# parms = {'C': [0.5,2],\n",
    "#          'gamma':[0.2,0.9],\n",
    "#          'kernel': [\"poly\",\"rbf\"]}\n",
    "# # perform grid search\n",
    "# from sklearn.model_selection import GridSearchCV\n",
    "# CV = GridSearchCV(estimator = SVM,param_grid = parms, scoring = 'roc_auc',cv=3,refit=True,\n",
    "#                            return_train_score = True,verbose=10,n_jobs=-1)\n",
    "# CV.fit(X_train,Y_train)"
   ]
  },
  {
   "cell_type": "code",
   "execution_count": 29,
   "metadata": {
    "scrolled": true
   },
   "outputs": [
    {
     "name": "stdout",
     "output_type": "stream",
     "text": [
      "[1 0 0 1 0 0 0 0 1 0]\n"
     ]
    }
   ],
   "source": [
    "# Preidct on Test data and check the confusion matrix\n",
    "predictTest = SVM.predict(X_test)\n",
    "print(predictTest[0:10])"
   ]
  },
  {
   "cell_type": "code",
   "execution_count": 31,
   "metadata": {},
   "outputs": [
    {
     "name": "stdout",
     "output_type": "stream",
     "text": [
      "[[0.66835505 0.33164495]\n",
      " [0.90763626 0.09236374]\n",
      " [0.95937601 0.04062399]\n",
      " [0.8029555  0.1970445 ]\n",
      " [0.91074652 0.08925348]\n",
      " [0.93322289 0.06677711]\n",
      " [0.89643997 0.10356003]\n",
      " [0.91506737 0.08493263]\n",
      " [0.81825221 0.18174779]\n",
      " [0.90266045 0.09733955]]\n"
     ]
    }
   ],
   "source": [
    "predictProb = SVM.predict_proba(X_test)\n",
    "print(predictProb[0:10])\n",
    "PProb = pd.DataFrame(predictProb)"
   ]
  },
  {
   "cell_type": "code",
   "execution_count": 32,
   "metadata": {},
   "outputs": [
    {
     "name": "stdout",
     "output_type": "stream",
     "text": [
      "[[988 429]\n",
      " [ 86 164]]\n",
      "             precision    recall  f1-score   support\n",
      "\n",
      "          0       0.92      0.70      0.79      1417\n",
      "          1       0.28      0.66      0.39       250\n",
      "\n",
      "avg / total       0.82      0.69      0.73      1667\n",
      "\n"
     ]
    }
   ],
   "source": [
    "# generate confusion matrix\n",
    "# import confusion matrix and classification report\n",
    "from sklearn.metrics import confusion_matrix, classification_report\n",
    "print (confusion_matrix(Y_test,predictTest))\n",
    "print (classification_report(Y_test,predictTest))"
   ]
  },
  {
   "cell_type": "code",
   "execution_count": 33,
   "metadata": {},
   "outputs": [
    {
     "name": "stdout",
     "output_type": "stream",
     "text": [
      "0.283712067748765\n",
      "0.283712067748765\n"
     ]
    }
   ],
   "source": [
    "# generate ROC curve\n",
    "from sklearn.metrics import roc_auc_score, roc_curve\n",
    "# AUC for class 1\n",
    "AUC = roc_auc_score(Y_test, PProb[0])\n",
    "print(AUC)\n",
    "# AUC for class 0\n",
    "AUC0 = roc_auc_score(Y_test, PProb[0])\n",
    "print(AUC0)\n",
    "# define variables for True Positive Rate and Falst Positive Rate & threshold value\n",
    "TPR = dict()\n",
    "FPR = dict()\n",
    "THR = dict()\n",
    "FPR, TPR, THR = roc_curve(Y_test, PProb[1])"
   ]
  },
  {
   "cell_type": "code",
   "execution_count": 34,
   "metadata": {},
   "outputs": [
    {
     "name": "stdout",
     "output_type": "stream",
     "text": [
      "[0.55366449 0.42092689 0.41649053 0.37951568 0.37665688 0.36433232\n",
      " 0.36161305 0.35796286 0.35445485 0.34001664 0.33722027 0.33652534\n",
      " 0.33506837 0.3322408  0.33164495 0.32965422 0.32360066 0.32094203\n",
      " 0.3205917  0.31837353 0.31785243 0.31758583 0.31693155 0.30996299\n",
      " 0.30751148 0.30665617 0.30625072 0.3059124  0.30328741 0.30090146\n",
      " 0.29914852 0.29846909 0.29825056 0.29738059 0.29606535 0.29250103\n",
      " 0.29073601 0.28827763 0.28719903 0.28638442 0.28089288 0.28080422\n",
      " 0.27915681 0.27908441 0.27661405 0.27618697 0.2761415  0.27481807\n",
      " 0.27445214 0.27429036 0.2738807  0.27379756 0.27242782 0.27239557\n",
      " 0.27209621 0.27094351 0.27076752 0.27076669 0.26899916 0.26762241\n",
      " 0.26655234 0.26629751 0.26612569 0.26491941 0.2626014  0.26252165\n",
      " 0.26032783 0.25982284 0.25531934 0.25526405 0.25478601 0.25476789\n",
      " 0.25398721 0.25373185 0.25239972 0.24975002 0.24580825 0.24462787\n",
      " 0.2435108  0.24242533 0.24188793 0.24180844 0.24137853 0.24124833\n",
      " 0.23971486 0.23932251 0.2375984  0.23752001 0.23698639 0.23655323\n",
      " 0.23444294 0.23326359 0.23142496 0.23134078 0.23132608 0.23124473\n",
      " 0.23045151 0.23036813 0.22860885 0.22856643 0.22725018 0.22718674\n",
      " 0.22685228 0.22674859 0.22297343 0.2229314  0.22108809 0.22086041\n",
      " 0.2203835  0.2202632  0.21957877 0.21920025 0.21748476 0.21734384\n",
      " 0.21577394 0.21571098 0.21366007 0.21321131 0.21306151 0.2126219\n",
      " 0.20555042 0.20527832 0.20406329 0.20371411 0.20096156 0.20039695\n",
      " 0.20039278 0.20033376 0.20032891 0.2002369  0.19898384 0.19836956\n",
      " 0.19785993 0.19770752 0.19510486 0.19510373 0.19098322 0.19057664\n",
      " 0.19044357 0.19011988 0.18943965 0.18914528 0.18907254 0.18888338\n",
      " 0.18869069 0.18842467 0.18768457 0.18737484 0.18692582 0.18671414\n",
      " 0.18649704 0.18646076 0.18437055 0.18416209 0.18247548 0.18245911\n",
      " 0.18213265 0.18207772 0.18174779 0.18155662 0.18134521 0.1812775\n",
      " 0.18060808 0.18006772 0.17851846 0.17850155 0.17762274 0.17738352\n",
      " 0.17732332 0.17724693 0.17510786 0.17488613 0.17401342 0.17398737\n",
      " 0.17319457 0.17314988 0.17097206 0.17093003 0.17084474 0.17050552\n",
      " 0.16847887 0.1684133  0.16582483 0.16575812 0.16546123 0.16536201\n",
      " 0.16460936 0.16419644 0.16235914 0.16225198 0.16184674 0.16184597\n",
      " 0.16079272 0.16079228 0.16029438 0.1602279  0.16012386 0.15944594\n",
      " 0.1570546  0.1565553  0.15641878 0.15641508 0.1558145  0.15552962\n",
      " 0.15483603 0.15473465 0.15417425 0.15375244 0.1535055  0.15348215\n",
      " 0.15325546 0.15324614 0.15284261 0.15283248 0.15262906 0.15258673\n",
      " 0.15171234 0.15166381 0.15098732 0.15090836 0.14933266 0.14922658\n",
      " 0.14834237 0.14818009 0.14621372 0.14620873 0.14614486 0.14594892\n",
      " 0.14593017 0.14554851 0.14551455 0.14535895 0.1453176  0.14527495\n",
      " 0.14476245 0.14471403 0.14397666 0.14391447 0.14297338 0.14234493\n",
      " 0.14129978 0.14126663 0.141219   0.14114326 0.13703562 0.13697736\n",
      " 0.13679852 0.13660248 0.1362347  0.13611711 0.13307433 0.13307188\n",
      " 0.13224754 0.1321752  0.12983594 0.12983025 0.12906585 0.1286337\n",
      " 0.12825555 0.12794586 0.12794533 0.12791777 0.12590501 0.12577257\n",
      " 0.12375385 0.12366635 0.11591955 0.11563784 0.10856084 0.10855525\n",
      " 0.10849261 0.108477   0.10785011 0.10772935 0.10445811 0.10444008\n",
      " 0.10439992 0.10432743 0.10095952 0.10089849 0.10022628 0.10002518\n",
      " 0.09848679 0.09844288 0.09438238 0.09422707 0.09410146 0.09389237\n",
      " 0.0887627  0.08831038 0.08748983 0.08726766 0.08493263 0.08471608\n",
      " 0.08409913 0.08399349 0.07836162 0.07817157 0.07752569 0.07751062\n",
      " 0.07609565 0.07585941 0.07514306 0.07511315 0.0746311  0.07458878\n",
      " 0.07437014 0.07424087 0.07164206 0.07152492 0.07107632 0.07107002\n",
      " 0.0708706  0.07084154 0.06998937 0.06981598 0.06882626 0.06882487\n",
      " 0.06876979 0.068607   0.06701113 0.06698294 0.06671662 0.06666009\n",
      " 0.06529825 0.06521078 0.06484198 0.06457189 0.06428829 0.0642876\n",
      " 0.06044076 0.06029367 0.06026065 0.06022045 0.06015523 0.06010833\n",
      " 0.05682845 0.05677541 0.05664398 0.05658775 0.05612883 0.05601109\n",
      " 0.05540028 0.05509774 0.05414046 0.05393936 0.05310937 0.0530552\n",
      " 0.04927745 0.04916274 0.04898143 0.04873538 0.04808257 0.04786474\n",
      " 0.04525004 0.04497589 0.04183066 0.04177155 0.04103707 0.04062399\n",
      " 0.04042197 0.04041885 0.03963132 0.03962121 0.03306117 0.03300576\n",
      " 0.03248785 0.0320201  0.01398118]\n",
      "[0.004 0.032 0.032 0.06  0.06  0.072 0.072 0.08  0.08  0.1   0.1   0.104\n",
      " 0.104 0.108 0.108 0.112 0.112 0.128 0.128 0.14  0.14  0.144 0.144 0.172\n",
      " 0.172 0.176 0.176 0.184 0.184 0.188 0.188 0.192 0.192 0.2   0.2   0.216\n",
      " 0.216 0.228 0.228 0.24  0.24  0.244 0.244 0.248 0.248 0.252 0.252 0.264\n",
      " 0.264 0.268 0.268 0.276 0.276 0.28  0.28  0.284 0.284 0.288 0.288 0.292\n",
      " 0.292 0.296 0.296 0.3   0.3   0.304 0.304 0.312 0.312 0.316 0.316 0.32\n",
      " 0.32  0.324 0.324 0.332 0.332 0.336 0.336 0.348 0.348 0.352 0.352 0.356\n",
      " 0.356 0.36  0.36  0.364 0.364 0.368 0.368 0.372 0.372 0.376 0.376 0.38\n",
      " 0.38  0.384 0.384 0.388 0.388 0.392 0.392 0.396 0.396 0.4   0.4   0.404\n",
      " 0.404 0.408 0.408 0.416 0.416 0.42  0.42  0.428 0.428 0.432 0.432 0.44\n",
      " 0.44  0.444 0.444 0.452 0.452 0.456 0.456 0.46  0.46  0.468 0.468 0.476\n",
      " 0.476 0.48  0.48  0.484 0.484 0.488 0.488 0.492 0.492 0.496 0.496 0.5\n",
      " 0.5   0.504 0.504 0.508 0.508 0.512 0.512 0.516 0.516 0.52  0.52  0.524\n",
      " 0.524 0.528 0.528 0.532 0.532 0.536 0.536 0.54  0.54  0.544 0.544 0.548\n",
      " 0.548 0.552 0.552 0.556 0.556 0.56  0.56  0.564 0.564 0.568 0.568 0.572\n",
      " 0.572 0.576 0.576 0.58  0.58  0.584 0.584 0.588 0.588 0.592 0.592 0.596\n",
      " 0.596 0.6   0.6   0.604 0.604 0.612 0.612 0.624 0.624 0.628 0.628 0.632\n",
      " 0.632 0.64  0.64  0.648 0.648 0.656 0.656 0.66  0.66  0.664 0.664 0.668\n",
      " 0.668 0.672 0.672 0.676 0.676 0.68  0.68  0.684 0.684 0.688 0.688 0.692\n",
      " 0.692 0.696 0.696 0.7   0.7   0.704 0.704 0.708 0.708 0.712 0.712 0.716\n",
      " 0.716 0.72  0.72  0.724 0.724 0.728 0.728 0.732 0.732 0.736 0.736 0.74\n",
      " 0.74  0.744 0.744 0.748 0.748 0.752 0.752 0.756 0.756 0.76  0.76  0.764\n",
      " 0.764 0.768 0.768 0.772 0.772 0.776 0.776 0.78  0.78  0.784 0.784 0.788\n",
      " 0.788 0.792 0.792 0.796 0.796 0.8   0.8   0.804 0.804 0.812 0.812 0.816\n",
      " 0.816 0.828 0.828 0.836 0.836 0.84  0.84  0.844 0.844 0.848 0.848 0.852\n",
      " 0.852 0.856 0.856 0.86  0.86  0.864 0.864 0.868 0.868 0.872 0.872 0.876\n",
      " 0.876 0.88  0.88  0.888 0.888 0.892 0.892 0.9   0.9   0.904 0.904 0.908\n",
      " 0.908 0.912 0.912 0.916 0.916 0.92  0.92  0.928 0.928 0.932 0.932 0.936\n",
      " 0.936 0.94  0.94  0.944 0.944 0.948 0.948 0.952 0.952 0.956 0.956 0.96\n",
      " 0.96  0.964 0.964 0.968 0.968 0.972 0.972 0.976 0.976 0.98  0.98  0.984\n",
      " 0.984 0.988 0.988 0.992 0.992 0.996 0.996 1.    1.   ]\n",
      "[0.00000000e+00 0.00000000e+00 7.05716302e-04 7.05716302e-04\n",
      " 1.41143260e-03 1.41143260e-03 2.82286521e-03 2.82286521e-03\n",
      " 4.23429781e-03 4.23429781e-03 4.94001411e-03 4.94001411e-03\n",
      " 5.64573042e-03 5.64573042e-03 6.35144672e-03 6.35144672e-03\n",
      " 7.76287932e-03 7.76287932e-03 8.46859562e-03 8.46859562e-03\n",
      " 9.17431193e-03 9.17431193e-03 1.05857445e-02 1.05857445e-02\n",
      " 1.19971771e-02 1.19971771e-02 1.27028934e-02 1.27028934e-02\n",
      " 1.34086097e-02 1.34086097e-02 1.55257586e-02 1.55257586e-02\n",
      " 1.69371912e-02 1.69371912e-02 1.76429076e-02 1.76429076e-02\n",
      " 1.90543402e-02 1.90543402e-02 1.97600565e-02 1.97600565e-02\n",
      " 2.11714891e-02 2.11714891e-02 2.25829217e-02 2.25829217e-02\n",
      " 2.68172195e-02 2.68172195e-02 2.75229358e-02 2.75229358e-02\n",
      " 2.89343684e-02 2.89343684e-02 2.96400847e-02 2.96400847e-02\n",
      " 3.10515173e-02 3.10515173e-02 3.17572336e-02 3.17572336e-02\n",
      " 3.31686662e-02 3.31686662e-02 3.59915314e-02 3.59915314e-02\n",
      " 3.66972477e-02 3.66972477e-02 3.74029640e-02 3.74029640e-02\n",
      " 4.02258292e-02 4.02258292e-02 4.09315455e-02 4.09315455e-02\n",
      " 4.44601270e-02 4.44601270e-02 4.51658433e-02 4.51658433e-02\n",
      " 4.58715596e-02 4.58715596e-02 4.79887085e-02 4.79887085e-02\n",
      " 5.43401553e-02 5.43401553e-02 5.64573042e-02 5.64573042e-02\n",
      " 5.71630205e-02 5.71630205e-02 5.78687368e-02 5.78687368e-02\n",
      " 5.99858857e-02 5.99858857e-02 6.13973183e-02 6.13973183e-02\n",
      " 6.35144672e-02 6.35144672e-02 6.63373324e-02 6.63373324e-02\n",
      " 7.12773465e-02 7.12773465e-02 7.19830628e-02 7.19830628e-02\n",
      " 7.33944954e-02 7.33944954e-02 7.69230769e-02 7.69230769e-02\n",
      " 7.90402258e-02 7.90402258e-02 8.04516584e-02 8.04516584e-02\n",
      " 8.89202541e-02 8.89202541e-02 9.38602682e-02 9.38602682e-02\n",
      " 9.59774171e-02 9.59774171e-02 9.66831334e-02 9.66831334e-02\n",
      " 1.00917431e-01 1.00917431e-01 1.05857445e-01 1.05857445e-01\n",
      " 1.10091743e-01 1.10091743e-01 1.10797459e-01 1.10797459e-01\n",
      " 1.22794637e-01 1.22794637e-01 1.29851800e-01 1.29851800e-01\n",
      " 1.36908963e-01 1.36908963e-01 1.37614679e-01 1.37614679e-01\n",
      " 1.38320395e-01 1.38320395e-01 1.43966126e-01 1.43966126e-01\n",
      " 1.44671842e-01 1.44671842e-01 1.51729005e-01 1.51729005e-01\n",
      " 1.60197601e-01 1.60197601e-01 1.60903317e-01 1.60903317e-01\n",
      " 1.63020466e-01 1.63020466e-01 1.64431898e-01 1.64431898e-01\n",
      " 1.65843331e-01 1.65843331e-01 1.68666196e-01 1.68666196e-01\n",
      " 1.70077629e-01 1.70077629e-01 1.70783345e-01 1.70783345e-01\n",
      " 1.75723359e-01 1.75723359e-01 1.83486239e-01 1.83486239e-01\n",
      " 1.85603387e-01 1.85603387e-01 1.87014820e-01 1.87014820e-01\n",
      " 1.89131969e-01 1.89131969e-01 1.91249118e-01 1.91249118e-01\n",
      " 1.95483416e-01 1.95483416e-01 1.99011997e-01 1.99011997e-01\n",
      " 2.00423430e-01 2.00423430e-01 2.06069160e-01 2.06069160e-01\n",
      " 2.10303458e-01 2.10303458e-01 2.12420607e-01 2.12420607e-01\n",
      " 2.20889203e-01 2.20889203e-01 2.21594919e-01 2.21594919e-01\n",
      " 2.27946366e-01 2.27946366e-01 2.39237826e-01 2.39237826e-01\n",
      " 2.42060692e-01 2.42060692e-01 2.48412138e-01 2.48412138e-01\n",
      " 2.58997883e-01 2.58997883e-01 2.61820748e-01 2.61820748e-01\n",
      " 2.68877911e-01 2.68877911e-01 2.71700776e-01 2.71700776e-01\n",
      " 2.72406493e-01 2.72406493e-01 2.82992237e-01 2.82992237e-01\n",
      " 2.84403670e-01 2.84403670e-01 2.90049400e-01 2.90049400e-01\n",
      " 2.96400847e-01 2.96400847e-01 2.99929428e-01 2.99929428e-01\n",
      " 3.02046577e-01 3.02046577e-01 3.03458010e-01 3.03458010e-01\n",
      " 3.06280875e-01 3.06280875e-01 3.06986591e-01 3.06986591e-01\n",
      " 3.09103740e-01 3.09103740e-01 3.11926606e-01 3.11926606e-01\n",
      " 3.18278052e-01 3.18278052e-01 3.21806634e-01 3.21806634e-01\n",
      " 3.33098095e-01 3.33098095e-01 3.33803811e-01 3.33803811e-01\n",
      " 3.34509527e-01 3.34509527e-01 3.35215243e-01 3.35215243e-01\n",
      " 3.35920960e-01 3.35920960e-01 3.40155258e-01 3.40155258e-01\n",
      " 3.44389555e-01 3.44389555e-01 3.48623853e-01 3.48623853e-01\n",
      " 3.55681016e-01 3.55681016e-01 3.57092449e-01 3.57092449e-01\n",
      " 3.90966831e-01 3.90966831e-01 3.92378264e-01 3.92378264e-01\n",
      " 3.93789697e-01 3.93789697e-01 4.07904023e-01 4.07904023e-01\n",
      " 4.12138320e-01 4.12138320e-01 4.26958363e-01 4.26958363e-01\n",
      " 4.33309809e-01 4.33309809e-01 4.34721242e-01 4.34721242e-01\n",
      " 4.35426958e-01 4.35426958e-01 4.48835568e-01 4.48835568e-01\n",
      " 4.61538462e-01 4.61538462e-01 5.08821454e-01 5.08821454e-01\n",
      " 5.56810162e-01 5.56810162e-01 5.58221595e-01 5.58221595e-01\n",
      " 5.61750176e-01 5.61750176e-01 5.85744531e-01 5.85744531e-01\n",
      " 5.87155963e-01 5.87155963e-01 6.10444601e-01 6.10444601e-01\n",
      " 6.12561750e-01 6.12561750e-01 6.20324629e-01 6.20324629e-01\n",
      " 6.46436133e-01 6.46436133e-01 6.47847565e-01 6.47847565e-01\n",
      " 6.87367678e-01 6.87367678e-01 6.90896260e-01 6.90896260e-01\n",
      " 7.09244884e-01 7.09244884e-01 7.16302047e-01 7.16302047e-01\n",
      " 7.57233592e-01 7.57233592e-01 7.61467890e-01 7.61467890e-01\n",
      " 7.69230769e-01 7.69230769e-01 7.76287932e-01 7.76287932e-01\n",
      " 7.81227946e-01 7.81227946e-01 7.84050812e-01 7.84050812e-01\n",
      " 7.97459421e-01 7.97459421e-01 8.03105152e-01 8.03105152e-01\n",
      " 8.04516584e-01 8.04516584e-01 8.11573747e-01 8.11573747e-01\n",
      " 8.21453776e-01 8.21453776e-01 8.22159492e-01 8.22159492e-01\n",
      " 8.31333804e-01 8.31333804e-01 8.34156669e-01 8.34156669e-01\n",
      " 8.41213832e-01 8.41213832e-01 8.44742414e-01 8.44742414e-01\n",
      " 8.48270995e-01 8.48270995e-01 8.74382498e-01 8.74382498e-01\n",
      " 8.75088215e-01 8.75088215e-01 8.75793931e-01 8.75793931e-01\n",
      " 8.94848271e-01 8.94848271e-01 8.95553987e-01 8.95553987e-01\n",
      " 8.99082569e-01 8.99082569e-01 9.05434016e-01 9.05434016e-01\n",
      " 9.11785462e-01 9.11785462e-01 9.16725476e-01 9.16725476e-01\n",
      " 9.36485533e-01 9.36485533e-01 9.37896965e-01 9.37896965e-01\n",
      " 9.44248412e-01 9.44248412e-01 9.50599859e-01 9.50599859e-01\n",
      " 9.60479887e-01 9.60479887e-01 9.63302752e-01 9.63302752e-01\n",
      " 9.66831334e-01 9.66831334e-01 9.67537050e-01 9.67537050e-01\n",
      " 9.80945660e-01 9.80945660e-01 9.82357092e-01 9.82357092e-01\n",
      " 1.00000000e+00]\n"
     ]
    }
   ],
   "source": [
    "print(THR)\n",
    "print(TPR)\n",
    "print(FPR)"
   ]
  },
  {
   "cell_type": "code",
   "execution_count": 35,
   "metadata": {},
   "outputs": [
    {
     "data": {
      "image/png": "[encoded data removed]",
      "text/plain": [
       "<Figure size 432x288 with 1 Axes>"
      ]
     },
     "metadata": {
      "needs_background": "light"
     },
     "output_type": "display_data"
    }
   ],
   "source": [
    "%matplotlib inline\n",
    "import matplotlib.pyplot as plt\n",
    "plt.figure()\n",
    "# plot the FPR as X-axis and TPR as Y-axis\n",
    "plt.plot(FPR, TPR)\n",
    "# plot the minimum line \n",
    "plt.plot([0,1], [0,1], color='navy', linestyle = '--')\n",
    "# set X and Y limits\n",
    "plt.xlim([0.0, 1.05])\n",
    "plt.ylim([0.0, 1.05])\n",
    "# mention lables for X and Y\n",
    "plt.xlabel('False Positive Rate')\n",
    "plt.ylabel('True Positive Rate')\n",
    "plt.title('ROC')\n",
    "plt.show()"
   ]
  },
  {
   "cell_type": "markdown",
   "metadata": {},
   "source": [
    "## Excercise:\n",
    "\n",
    "1. Train a SVM classifier for the Iris dataset, using all 4 features. This is a simple dataset, so you should be able to train a model pretty fast.\n",
    "2. Use GridSearchCV to search the best set of parameters to fit the data.\n",
    "3. Use other datasets from `sklearn.datasets` directory and train a SVM model for each of them. Analyze the model performances. How does the model performance vary with increasing number of features."
   ]
  }
 ],
 "metadata": {
  "kernelspec": {
   "display_name": "Python 3",
   "language": "python",
   "name": "python3"
  },
  "language_info": {
   "codemirror_mode": {
    "name": "ipython",
    "version": 3
   },
   "file_extension": ".py",
   "mimetype": "text/x-python",
   "name": "python",
   "nbconvert_exporter": "python",
   "pygments_lexer": "ipython3",
   "version": "3.7.2"
  }
 },
 "nbformat": 4,
 "nbformat_minor": 2
}
