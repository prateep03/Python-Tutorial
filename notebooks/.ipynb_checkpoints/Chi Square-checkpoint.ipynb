{
 "cells": [
  {
   "cell_type": "code",
   "execution_count": 1,
   "metadata": {},
   "outputs": [
    {
     "data": {
      "text/plain": [
       "'D:\\\\Teaching\\\\Python-Tutorial\\\\notebooks'"
      ]
     },
     "execution_count": 1,
     "metadata": {},
     "output_type": "execute_result"
    }
   ],
   "source": [
    "import numpy as np\n",
    "import pandas as pd\n",
    "import os\n",
    "\n",
    "os.getcwd()"
   ]
  },
  {
   "cell_type": "markdown",
   "metadata": {},
   "source": [
    "For this notebook, we will be using [Churn in Telecom's dataset](https://www.kaggle.com/becksddf/churn-in-telecoms-dataset). Download the data first, convert the categorical columns to numerical and rename the columns in short form. "
   ]
  },
  {
   "cell_type": "code",
   "execution_count": 2,
   "metadata": {},
   "outputs": [],
   "source": [
    "headers = ['State', 'AccountLength', 'AreaCode', 'Phone', 'IntlPlan', 'VMailPlan', 'VMailMessage', \n",
    "           'DayMins', 'DayCalls', 'DayCharge',\n",
    "           'EveMins', 'EveCalls', 'EveCharge',\n",
    "           'NightMins', 'NightCalls', 'NightCharge',\n",
    "           'IntlMins', 'IntlCalls', 'IntlCharge', 'CusServCalls','Churn'\n",
    "          ]\n",
    "\n",
    "churn = pd.read_csv('../data/bigml_59c28831336c6604c800002a.csv')\n",
    "churn.columns = headers"
   ]
  },
  {
   "cell_type": "code",
   "execution_count": 3,
   "metadata": {},
   "outputs": [
    {
     "data": {
      "text/plain": [
       "Index(['State', 'AccountLength', 'AreaCode', 'Phone', 'IntlPlan', 'VMailPlan',\n",
       "       'VMailMessage', 'DayMins', 'DayCalls', 'DayCharge', 'EveMins',\n",
       "       'EveCalls', 'EveCharge', 'NightMins', 'NightCalls', 'NightCharge',\n",
       "       'IntlMins', 'IntlCalls', 'IntlCharge', 'CusServCalls', 'Churn'],\n",
       "      dtype='object')"
      ]
     },
     "execution_count": 3,
     "metadata": {},
     "output_type": "execute_result"
    }
   ],
   "source": [
    "churn.columns"
   ]
  },
  {
   "cell_type": "code",
   "execution_count": 4,
   "metadata": {},
   "outputs": [],
   "source": [
    "churn['IntlPlan'] = churn['IntlPlan'].map({'no': 0, 'yes': 1}).astype(int)\n",
    "churn['VMailPlan'] = churn['VMailPlan'].map({'no': 0, 'yes': 1}).astype(int)\n",
    "churn['Churn'] = churn['Churn'].map({False: 0, True: 1}).astype(int)"
   ]
  },
  {
   "cell_type": "markdown",
   "metadata": {},
   "source": [
    "**We will be using this data for later notebooks as well. So save the .csv file with an appropriate name, like Churn.csv**."
   ]
  },
  {
   "cell_type": "code",
   "execution_count": 5,
   "metadata": {},
   "outputs": [],
   "source": [
    "churn.to_csv('../data/Churn.csv',index=False)"
   ]
  },
  {
   "cell_type": "code",
   "execution_count": 6,
   "metadata": {},
   "outputs": [
    {
     "name": "stdout",
     "output_type": "stream",
     "text": [
      "Churn        0    1\n",
      "IntlPlan           \n",
      "0         2664  346\n",
      "1          186  137\n"
     ]
    }
   ],
   "source": [
    "# create frequence table for Internation plan and churn\n",
    "table = pd.crosstab(churn.IntlPlan,churn.Churn)\n",
    "print(table)"
   ]
  },
  {
   "cell_type": "code",
   "execution_count": 7,
   "metadata": {},
   "outputs": [
    {
     "name": "stdout",
     "output_type": "stream",
     "text": [
      "dof:  1\n",
      "chisquare:  222.5657566499376\n",
      "p:  2.4931077033159556e-50\n"
     ]
    }
   ],
   "source": [
    "from scipy.stats import chi2_contingency\n",
    "from scipy.stats import chi2\n",
    "chisquare, p, dof, expected = chi2_contingency(table)\n",
    "print('dof: ', dof)\n",
    "print('chisquare: ', chisquare)\n",
    "print('p: ' , p)"
   ]
  },
  {
   "cell_type": "code",
   "execution_count": 8,
   "metadata": {},
   "outputs": [
    {
     "name": "stdout",
     "output_type": "stream",
     "text": [
      "3.841458820694124\n"
     ]
    }
   ],
   "source": [
    "# calculate critical value at 95%\n",
    "prob = 0.95\n",
    "critical = chi2.ppf(prob, dof)\n",
    "print(critical)"
   ]
  },
  {
   "cell_type": "markdown",
   "metadata": {},
   "source": [
    "# As calculated chi square is less than critical value, we accept null hypothesis i.e. both international plan and churn are independent "
   ]
  },
  {
   "cell_type": "code",
   "execution_count": 9,
   "metadata": {},
   "outputs": [
    {
     "name": "stdout",
     "output_type": "stream",
     "text": [
      "[[10, 20, 30], [6, 9, 17]]\n",
      "dof: 2\n",
      "x square: 0.27157465150403504\n",
      "p: 0.873028283380073\n",
      "[[10.43478261 18.91304348 30.65217391]\n",
      " [ 5.56521739 10.08695652 16.34782609]]\n",
      "probability=0.950, critical=5.991, stat=0.272\n",
      "Independent (fail to reject H0)\n",
      "significance=0.050, p=0.873\n",
      "Independent (fail to reject H0)\n"
     ]
    }
   ],
   "source": [
    "# another example\n",
    "from scipy.stats import chi2_contingency\n",
    "from scipy.stats import chi2\n",
    "# contingency table\n",
    "table = [[10, 20, 30],\n",
    "         [6,  9,  17]]\n",
    "print(table)\n",
    "stat, p, dof, expected = chi2_contingency(table)\n",
    "print('dof: {}'.format(dof))\n",
    "print('x square: {}'.format(stat))\n",
    "print('p: {}'.format(p))\n",
    "print(expected)\n",
    "# interpret test-statistic\n",
    "prob = 0.95\n",
    "critical = chi2.ppf(prob, dof)\n",
    "print('probability=%.3f, critical=%.3f, stat=%.3f' % (prob, critical, stat))\n",
    "if abs(stat) >= critical:\n",
    "    print('Dependent (reject H0)')\n",
    "else:\n",
    "    print('Independent (fail to reject H0)')\n",
    "# interpret p-value\n",
    "alpha = 1.0 - prob\n",
    "print('significance=%.3f, p=%.3f' % (alpha, p))\n",
    "if p <= alpha:\n",
    "    print('Dependent (reject H0)')\n",
    "else:\n",
    "    print('Independent (fail to reject H0)')"
   ]
  },
  {
   "cell_type": "code",
   "execution_count": null,
   "metadata": {},
   "outputs": [],
   "source": []
  }
 ],
 "metadata": {
  "kernelspec": {
   "display_name": "Python 3",
   "language": "python",
   "name": "python3"
  },
  "language_info": {
   "codemirror_mode": {
    "name": "ipython",
    "version": 3
   },
   "file_extension": ".py",
   "mimetype": "text/x-python",
   "name": "python",
   "nbconvert_exporter": "python",
   "pygments_lexer": "ipython3",
   "version": "3.7.2"
  }
 },
 "nbformat": 4,
 "nbformat_minor": 2
}
