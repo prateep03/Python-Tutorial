{
 "cells": [
  {
   "cell_type": "code",
   "execution_count": 1,
   "metadata": {},
   "outputs": [],
   "source": [
    "# The following code includes Bagging of logistic models\n",
    "# best parameters are identified using grid search with cross validation"
   ]
  },
  {
   "cell_type": "code",
   "execution_count": 2,
   "metadata": {},
   "outputs": [
    {
     "name": "stdout",
     "output_type": "stream",
     "text": [
      "D:\\Teaching\\Python-Tutorial\\data\n"
     ]
    }
   ],
   "source": [
    "import os\n",
    "os.chdir(\"D:\\Teaching\\Python-Tutorial\\data\")\n",
    "print (os.getcwd())"
   ]
  },
  {
   "cell_type": "code",
   "execution_count": 3,
   "metadata": {},
   "outputs": [
    {
     "data": {
      "text/html": [
       "<div>\n",
       "<style scoped>\n",
       "    .dataframe tbody tr th:only-of-type {\n",
       "        vertical-align: middle;\n",
       "    }\n",
       "\n",
       "    .dataframe tbody tr th {\n",
       "        vertical-align: top;\n",
       "    }\n",
       "\n",
       "    .dataframe thead th {\n",
       "        text-align: right;\n",
       "    }\n",
       "</style>\n",
       "<table border=\"1\" class=\"dataframe\">\n",
       "  <thead>\n",
       "    <tr style=\"text-align: right;\">\n",
       "      <th></th>\n",
       "      <th>AccountLength</th>\n",
       "      <th>AreaCode</th>\n",
       "      <th>IntlPlan</th>\n",
       "      <th>VMailPlan</th>\n",
       "      <th>VMailMessage</th>\n",
       "      <th>DayMins</th>\n",
       "      <th>DayCalls</th>\n",
       "      <th>DayCharge</th>\n",
       "      <th>EveMins</th>\n",
       "      <th>EveCalls</th>\n",
       "      <th>EveCharge</th>\n",
       "      <th>NightMins</th>\n",
       "      <th>NightCalls</th>\n",
       "      <th>NightCharge</th>\n",
       "      <th>IntlMins</th>\n",
       "      <th>IntlCalls</th>\n",
       "      <th>IntlCharge</th>\n",
       "      <th>CusServCalls</th>\n",
       "      <th>Churn</th>\n",
       "    </tr>\n",
       "  </thead>\n",
       "  <tbody>\n",
       "    <tr>\n",
       "      <th>count</th>\n",
       "      <td>3333.000000</td>\n",
       "      <td>3333.000000</td>\n",
       "      <td>3333.000000</td>\n",
       "      <td>3333.000000</td>\n",
       "      <td>3333.000000</td>\n",
       "      <td>3333.000000</td>\n",
       "      <td>3333.000000</td>\n",
       "      <td>3333.000000</td>\n",
       "      <td>3333.000000</td>\n",
       "      <td>3333.000000</td>\n",
       "      <td>3333.000000</td>\n",
       "      <td>3333.000000</td>\n",
       "      <td>3333.000000</td>\n",
       "      <td>3333.000000</td>\n",
       "      <td>3333.000000</td>\n",
       "      <td>3333.000000</td>\n",
       "      <td>3333.000000</td>\n",
       "      <td>3333.000000</td>\n",
       "      <td>3333.000000</td>\n",
       "    </tr>\n",
       "    <tr>\n",
       "      <th>mean</th>\n",
       "      <td>101.064806</td>\n",
       "      <td>437.182418</td>\n",
       "      <td>0.096910</td>\n",
       "      <td>0.276628</td>\n",
       "      <td>8.099010</td>\n",
       "      <td>179.775098</td>\n",
       "      <td>100.435644</td>\n",
       "      <td>30.562307</td>\n",
       "      <td>200.980348</td>\n",
       "      <td>100.114311</td>\n",
       "      <td>17.083540</td>\n",
       "      <td>200.872037</td>\n",
       "      <td>100.107711</td>\n",
       "      <td>9.039325</td>\n",
       "      <td>10.237294</td>\n",
       "      <td>4.479448</td>\n",
       "      <td>2.764581</td>\n",
       "      <td>1.562856</td>\n",
       "      <td>0.144914</td>\n",
       "    </tr>\n",
       "    <tr>\n",
       "      <th>std</th>\n",
       "      <td>39.822106</td>\n",
       "      <td>42.371290</td>\n",
       "      <td>0.295879</td>\n",
       "      <td>0.447398</td>\n",
       "      <td>13.688365</td>\n",
       "      <td>54.467389</td>\n",
       "      <td>20.069084</td>\n",
       "      <td>9.259435</td>\n",
       "      <td>50.713844</td>\n",
       "      <td>19.922625</td>\n",
       "      <td>4.310668</td>\n",
       "      <td>50.573847</td>\n",
       "      <td>19.568609</td>\n",
       "      <td>2.275873</td>\n",
       "      <td>2.791840</td>\n",
       "      <td>2.461214</td>\n",
       "      <td>0.753773</td>\n",
       "      <td>1.315491</td>\n",
       "      <td>0.352067</td>\n",
       "    </tr>\n",
       "    <tr>\n",
       "      <th>min</th>\n",
       "      <td>1.000000</td>\n",
       "      <td>408.000000</td>\n",
       "      <td>0.000000</td>\n",
       "      <td>0.000000</td>\n",
       "      <td>0.000000</td>\n",
       "      <td>0.000000</td>\n",
       "      <td>0.000000</td>\n",
       "      <td>0.000000</td>\n",
       "      <td>0.000000</td>\n",
       "      <td>0.000000</td>\n",
       "      <td>0.000000</td>\n",
       "      <td>23.200000</td>\n",
       "      <td>33.000000</td>\n",
       "      <td>1.040000</td>\n",
       "      <td>0.000000</td>\n",
       "      <td>0.000000</td>\n",
       "      <td>0.000000</td>\n",
       "      <td>0.000000</td>\n",
       "      <td>0.000000</td>\n",
       "    </tr>\n",
       "    <tr>\n",
       "      <th>25%</th>\n",
       "      <td>74.000000</td>\n",
       "      <td>408.000000</td>\n",
       "      <td>0.000000</td>\n",
       "      <td>0.000000</td>\n",
       "      <td>0.000000</td>\n",
       "      <td>143.700000</td>\n",
       "      <td>87.000000</td>\n",
       "      <td>24.430000</td>\n",
       "      <td>166.600000</td>\n",
       "      <td>87.000000</td>\n",
       "      <td>14.160000</td>\n",
       "      <td>167.000000</td>\n",
       "      <td>87.000000</td>\n",
       "      <td>7.520000</td>\n",
       "      <td>8.500000</td>\n",
       "      <td>3.000000</td>\n",
       "      <td>2.300000</td>\n",
       "      <td>1.000000</td>\n",
       "      <td>0.000000</td>\n",
       "    </tr>\n",
       "    <tr>\n",
       "      <th>50%</th>\n",
       "      <td>101.000000</td>\n",
       "      <td>415.000000</td>\n",
       "      <td>0.000000</td>\n",
       "      <td>0.000000</td>\n",
       "      <td>0.000000</td>\n",
       "      <td>179.400000</td>\n",
       "      <td>101.000000</td>\n",
       "      <td>30.500000</td>\n",
       "      <td>201.400000</td>\n",
       "      <td>100.000000</td>\n",
       "      <td>17.120000</td>\n",
       "      <td>201.200000</td>\n",
       "      <td>100.000000</td>\n",
       "      <td>9.050000</td>\n",
       "      <td>10.300000</td>\n",
       "      <td>4.000000</td>\n",
       "      <td>2.780000</td>\n",
       "      <td>1.000000</td>\n",
       "      <td>0.000000</td>\n",
       "    </tr>\n",
       "    <tr>\n",
       "      <th>75%</th>\n",
       "      <td>127.000000</td>\n",
       "      <td>510.000000</td>\n",
       "      <td>0.000000</td>\n",
       "      <td>1.000000</td>\n",
       "      <td>20.000000</td>\n",
       "      <td>216.400000</td>\n",
       "      <td>114.000000</td>\n",
       "      <td>36.790000</td>\n",
       "      <td>235.300000</td>\n",
       "      <td>114.000000</td>\n",
       "      <td>20.000000</td>\n",
       "      <td>235.300000</td>\n",
       "      <td>113.000000</td>\n",
       "      <td>10.590000</td>\n",
       "      <td>12.100000</td>\n",
       "      <td>6.000000</td>\n",
       "      <td>3.270000</td>\n",
       "      <td>2.000000</td>\n",
       "      <td>0.000000</td>\n",
       "    </tr>\n",
       "    <tr>\n",
       "      <th>max</th>\n",
       "      <td>243.000000</td>\n",
       "      <td>510.000000</td>\n",
       "      <td>1.000000</td>\n",
       "      <td>1.000000</td>\n",
       "      <td>51.000000</td>\n",
       "      <td>350.800000</td>\n",
       "      <td>165.000000</td>\n",
       "      <td>59.640000</td>\n",
       "      <td>363.700000</td>\n",
       "      <td>170.000000</td>\n",
       "      <td>30.910000</td>\n",
       "      <td>395.000000</td>\n",
       "      <td>175.000000</td>\n",
       "      <td>17.770000</td>\n",
       "      <td>20.000000</td>\n",
       "      <td>20.000000</td>\n",
       "      <td>5.400000</td>\n",
       "      <td>9.000000</td>\n",
       "      <td>1.000000</td>\n",
       "    </tr>\n",
       "  </tbody>\n",
       "</table>\n",
       "</div>"
      ],
      "text/plain": [
       "       AccountLength     AreaCode     IntlPlan    VMailPlan  VMailMessage  \\\n",
       "count    3333.000000  3333.000000  3333.000000  3333.000000   3333.000000   \n",
       "mean      101.064806   437.182418     0.096910     0.276628      8.099010   \n",
       "std        39.822106    42.371290     0.295879     0.447398     13.688365   \n",
       "min         1.000000   408.000000     0.000000     0.000000      0.000000   \n",
       "25%        74.000000   408.000000     0.000000     0.000000      0.000000   \n",
       "50%       101.000000   415.000000     0.000000     0.000000      0.000000   \n",
       "75%       127.000000   510.000000     0.000000     1.000000     20.000000   \n",
       "max       243.000000   510.000000     1.000000     1.000000     51.000000   \n",
       "\n",
       "           DayMins     DayCalls    DayCharge      EveMins     EveCalls  \\\n",
       "count  3333.000000  3333.000000  3333.000000  3333.000000  3333.000000   \n",
       "mean    179.775098   100.435644    30.562307   200.980348   100.114311   \n",
       "std      54.467389    20.069084     9.259435    50.713844    19.922625   \n",
       "min       0.000000     0.000000     0.000000     0.000000     0.000000   \n",
       "25%     143.700000    87.000000    24.430000   166.600000    87.000000   \n",
       "50%     179.400000   101.000000    30.500000   201.400000   100.000000   \n",
       "75%     216.400000   114.000000    36.790000   235.300000   114.000000   \n",
       "max     350.800000   165.000000    59.640000   363.700000   170.000000   \n",
       "\n",
       "         EveCharge    NightMins   NightCalls  NightCharge     IntlMins  \\\n",
       "count  3333.000000  3333.000000  3333.000000  3333.000000  3333.000000   \n",
       "mean     17.083540   200.872037   100.107711     9.039325    10.237294   \n",
       "std       4.310668    50.573847    19.568609     2.275873     2.791840   \n",
       "min       0.000000    23.200000    33.000000     1.040000     0.000000   \n",
       "25%      14.160000   167.000000    87.000000     7.520000     8.500000   \n",
       "50%      17.120000   201.200000   100.000000     9.050000    10.300000   \n",
       "75%      20.000000   235.300000   113.000000    10.590000    12.100000   \n",
       "max      30.910000   395.000000   175.000000    17.770000    20.000000   \n",
       "\n",
       "         IntlCalls   IntlCharge  CusServCalls        Churn  \n",
       "count  3333.000000  3333.000000   3333.000000  3333.000000  \n",
       "mean      4.479448     2.764581      1.562856     0.144914  \n",
       "std       2.461214     0.753773      1.315491     0.352067  \n",
       "min       0.000000     0.000000      0.000000     0.000000  \n",
       "25%       3.000000     2.300000      1.000000     0.000000  \n",
       "50%       4.000000     2.780000      1.000000     0.000000  \n",
       "75%       6.000000     3.270000      2.000000     0.000000  \n",
       "max      20.000000     5.400000      9.000000     1.000000  "
      ]
     },
     "execution_count": 3,
     "metadata": {},
     "output_type": "execute_result"
    }
   ],
   "source": [
    "import numpy as np\n",
    "import pandas as pd\n",
    "churn = pd.read_csv('Churn.csv')\n",
    "churn.describe()"
   ]
  },
  {
   "cell_type": "code",
   "execution_count": 4,
   "metadata": {},
   "outputs": [
    {
     "data": {
      "text/plain": [
       "(3333, 21)"
      ]
     },
     "execution_count": 4,
     "metadata": {},
     "output_type": "execute_result"
    }
   ],
   "source": [
    "churn.shape"
   ]
  },
  {
   "cell_type": "code",
   "execution_count": 5,
   "metadata": {},
   "outputs": [
    {
     "data": {
      "text/plain": [
       "(array([0, 1], dtype=int64), array([2850,  483]))"
      ]
     },
     "execution_count": 5,
     "metadata": {},
     "output_type": "execute_result"
    }
   ],
   "source": [
    "# target class ratio\n",
    "np.unique(churn.Churn,return_counts=True)"
   ]
  },
  {
   "cell_type": "code",
   "execution_count": 6,
   "metadata": {},
   "outputs": [
    {
     "data": {
      "text/plain": [
       "0.8550855085508551"
      ]
     },
     "execution_count": 6,
     "metadata": {},
     "output_type": "execute_result"
    }
   ],
   "source": [
    "2850/(2850+483)"
   ]
  },
  {
   "cell_type": "code",
   "execution_count": 7,
   "metadata": {},
   "outputs": [
    {
     "data": {
      "text/plain": [
       "array(['State', 'AccountLength', 'AreaCode', 'Phone', 'IntlPlan',\n",
       "       'VMailPlan', 'VMailMessage', 'DayMins', 'DayCalls', 'DayCharge',\n",
       "       'EveMins', 'EveCalls', 'EveCharge', 'NightMins', 'NightCalls',\n",
       "       'NightCharge', 'IntlMins', 'IntlCalls', 'IntlCharge',\n",
       "       'CusServCalls', 'Churn'], dtype=object)"
      ]
     },
     "execution_count": 7,
     "metadata": {},
     "output_type": "execute_result"
    }
   ],
   "source": [
    "churn.columns.values"
   ]
  },
  {
   "cell_type": "code",
   "execution_count": 8,
   "metadata": {},
   "outputs": [
    {
     "data": {
      "text/plain": [
       "False"
      ]
     },
     "execution_count": 8,
     "metadata": {},
     "output_type": "execute_result"
    }
   ],
   "source": [
    "# check if any NA values\n",
    "churn.isnull().values.any()"
   ]
  },
  {
   "cell_type": "code",
   "execution_count": 9,
   "metadata": {},
   "outputs": [
    {
     "data": {
      "text/plain": [
       "array([[1.        , 0.99999995],\n",
       "       [0.99999995, 1.        ]])"
      ]
     },
     "execution_count": 9,
     "metadata": {},
     "output_type": "execute_result"
    }
   ],
   "source": [
    "# find out corrleation between day charge and day minutes\n",
    "np.corrcoef(churn.DayMins,churn.DayCharge)"
   ]
  },
  {
   "cell_type": "code",
   "execution_count": 10,
   "metadata": {},
   "outputs": [
    {
     "data": {
      "text/plain": [
       "array([[1.        , 0.99999978],\n",
       "       [0.99999978, 1.        ]])"
      ]
     },
     "execution_count": 10,
     "metadata": {},
     "output_type": "execute_result"
    }
   ],
   "source": [
    "np.corrcoef(churn.EveMins,churn.EveCharge)"
   ]
  },
  {
   "cell_type": "code",
   "execution_count": 11,
   "metadata": {},
   "outputs": [
    {
     "data": {
      "text/plain": [
       "array([[1.        , 0.99999921],\n",
       "       [0.99999921, 1.        ]])"
      ]
     },
     "execution_count": 11,
     "metadata": {},
     "output_type": "execute_result"
    }
   ],
   "source": [
    "np.corrcoef(churn.NightMins,churn.NightCharge)"
   ]
  },
  {
   "cell_type": "code",
   "execution_count": 12,
   "metadata": {},
   "outputs": [
    {
     "data": {
      "text/plain": [
       "array([[1.        , 0.99999274],\n",
       "       [0.99999274, 1.        ]])"
      ]
     },
     "execution_count": 12,
     "metadata": {},
     "output_type": "execute_result"
    }
   ],
   "source": [
    "np.corrcoef(churn.IntlMins,churn.IntlCharge)"
   ]
  },
  {
   "cell_type": "code",
   "execution_count": 13,
   "metadata": {},
   "outputs": [
    {
     "data": {
      "text/plain": [
       "array([[1.        , 0.00675296],\n",
       "       [0.00675296, 1.        ]])"
      ]
     },
     "execution_count": 13,
     "metadata": {},
     "output_type": "execute_result"
    }
   ],
   "source": [
    "np.corrcoef(churn.DayCalls,churn.DayCharge)"
   ]
  },
  {
   "cell_type": "code",
   "execution_count": 14,
   "metadata": {},
   "outputs": [
    {
     "name": "stdout",
     "output_type": "stream",
     "text": [
      "count    3333.000000\n",
      "mean        0.144914\n",
      "std         0.352067\n",
      "min         0.000000\n",
      "25%         0.000000\n",
      "50%         0.000000\n",
      "75%         0.000000\n",
      "max         1.000000\n",
      "Name: Churn, dtype: float64\n",
      "(3333, 19)\n"
     ]
    }
   ],
   "source": [
    "# split the file into Independent and dependent variables\n",
    "churnY = churn.iloc[::,20]\n",
    "print(churnY.describe())\n",
    "churnX = churn\n",
    "churnX.drop(columns=['Churn','Phone'],axis=1,inplace=True)\n",
    "print(churnX.shape)"
   ]
  },
  {
   "cell_type": "code",
   "execution_count": 15,
   "metadata": {},
   "outputs": [
    {
     "name": "stdout",
     "output_type": "stream",
     "text": [
      "<class 'pandas.core.frame.DataFrame'>\n",
      "<class 'pandas.core.series.Series'>\n",
      "<class 'pandas.core.frame.DataFrame'>\n",
      "<class 'pandas.core.series.Series'>\n"
     ]
    }
   ],
   "source": [
    "# splitting the data into Train and Test\n",
    "from sklearn.model_selection import train_test_split\n",
    "X_train, X_test, Y_train, Y_test = train_test_split(churnX, churnY, test_size = 0.50, \n",
    "                                                    random_state = 42)\n",
    "print(type(X_train))\n",
    "print(type(Y_train))\n",
    "print(type(X_test))\n",
    "print(type(Y_test))"
   ]
  },
  {
   "cell_type": "code",
   "execution_count": 16,
   "metadata": {},
   "outputs": [
    {
     "name": "stdout",
     "output_type": "stream",
     "text": [
      "(1666,)\n",
      "(1667, 19)\n",
      "(1667,)\n"
     ]
    }
   ],
   "source": [
    "#print(X_train[0:5])\n",
    "print(Y_train.shape)\n",
    "print(X_test.shape)\n",
    "print(Y_test.shape)"
   ]
  },
  {
   "cell_type": "code",
   "execution_count": 17,
   "metadata": {},
   "outputs": [
    {
     "data": {
      "text/plain": [
       "(array([408, 415, 510], dtype=int64), array([ 838, 1655,  840]))"
      ]
     },
     "execution_count": 17,
     "metadata": {},
     "output_type": "execute_result"
    }
   ],
   "source": [
    "np.unique(churn.AreaCode,return_counts=True)"
   ]
  },
  {
   "cell_type": "code",
   "execution_count": 18,
   "metadata": {},
   "outputs": [
    {
     "data": {
      "text/plain": [
       "(array(['AK', 'AL', 'AR', 'AZ', 'CA', 'CO', 'CT', 'DC', 'DE', 'FL', 'GA',\n",
       "        'HI', 'IA', 'ID', 'IL', 'IN', 'KS', 'KY', 'LA', 'MA', 'MD', 'ME',\n",
       "        'MI', 'MN', 'MO', 'MS', 'MT', 'NC', 'ND', 'NE', 'NH', 'NJ', 'NM',\n",
       "        'NV', 'NY', 'OH', 'OK', 'OR', 'PA', 'RI', 'SC', 'SD', 'TN', 'TX',\n",
       "        'UT', 'VA', 'VT', 'WA', 'WI', 'WV', 'WY'], dtype=object),\n",
       " array([ 52,  80,  55,  64,  34,  66,  74,  54,  61,  63,  54,  53,  44,\n",
       "         73,  58,  71,  70,  59,  51,  65,  70,  62,  73,  84,  63,  65,\n",
       "         68,  68,  62,  61,  56,  68,  62,  66,  83,  78,  61,  78,  45,\n",
       "         65,  60,  60,  53,  72,  72,  77,  73,  66,  78, 106,  77]))"
      ]
     },
     "execution_count": 18,
     "metadata": {},
     "output_type": "execute_result"
    }
   ],
   "source": [
    "np.unique(churn.State,return_counts=True)"
   ]
  },
  {
   "cell_type": "code",
   "execution_count": 19,
   "metadata": {},
   "outputs": [
    {
     "name": "stdout",
     "output_type": "stream",
     "text": [
      "count    1666.000000\n",
      "mean       25.992797\n",
      "std        14.736319\n",
      "min         0.000000\n",
      "25%        14.000000\n",
      "50%        26.000000\n",
      "75%        39.000000\n",
      "max        50.000000\n",
      "Name: State, dtype: float64\n"
     ]
    },
    {
     "name": "stderr",
     "output_type": "stream",
     "text": [
      "E:\\Python\\Python3.7.2\\lib\\site-packages\\pandas\\core\\generic.py:4405: SettingWithCopyWarning: \n",
      "A value is trying to be set on a copy of a slice from a DataFrame.\n",
      "Try using .loc[row_indexer,col_indexer] = value instead\n",
      "\n",
      "See the caveats in the documentation: http://pandas.pydata.org/pandas-docs/stable/indexing.html#indexing-view-versus-copy\n",
      "  self[name] = value\n"
     ]
    }
   ],
   "source": [
    "# lable encoding for strings - state\n",
    "from sklearn.preprocessing import LabelEncoder\n",
    "le = LabelEncoder()\n",
    "X_train.State = le.fit_transform(X_train.State)\n",
    "X_test.State = le.transform(X_test.State)\n",
    "# Y_train = le.fit_transform(np.ravel(Y_train))  # NOTE: This is an important step here. Otherwise, the estimators later wont work.\n",
    "print(X_train.State.describe())"
   ]
  },
  {
   "cell_type": "code",
   "execution_count": 20,
   "metadata": {},
   "outputs": [],
   "source": [
    "#dir(LabelEncoder)"
   ]
  },
  {
   "cell_type": "code",
   "execution_count": 21,
   "metadata": {},
   "outputs": [
    {
     "data": {
      "text/plain": [
       "(array([ 0,  1,  2,  3,  4,  5,  6,  7,  8,  9, 10, 11, 12, 13, 14, 15, 16,\n",
       "        17, 18, 19, 20, 21, 22, 23, 24, 25, 26, 27, 28, 29, 30, 31, 32, 33,\n",
       "        34, 35, 36, 37, 38, 39, 40, 41, 42, 43, 44, 45, 46, 47, 48, 49, 50],\n",
       "       dtype=int32),\n",
       " array([28, 37, 28, 31, 21, 30, 34, 29, 34, 31, 23, 26, 20, 40, 26, 35, 32,\n",
       "        33, 27, 35, 37, 27, 40, 49, 35, 34, 32, 32, 26, 22, 26, 36, 32, 36,\n",
       "        42, 38, 34, 35, 28, 37, 28, 31, 30, 36, 35, 37, 32, 36, 45, 49, 29]))"
      ]
     },
     "execution_count": 21,
     "metadata": {},
     "output_type": "execute_result"
    }
   ],
   "source": [
    "np.unique(X_train.State,return_counts=True)"
   ]
  },
  {
   "cell_type": "code",
   "execution_count": 22,
   "metadata": {},
   "outputs": [
    {
     "data": {
      "text/plain": [
       "array(['State', 'AccountLength', 'AreaCode', 'IntlPlan', 'VMailPlan',\n",
       "       'VMailMessage', 'DayMins', 'DayCalls', 'DayCharge', 'EveMins',\n",
       "       'EveCalls', 'EveCharge', 'NightMins', 'NightCalls', 'NightCharge',\n",
       "       'IntlMins', 'IntlCalls', 'IntlCharge', 'CusServCalls'],\n",
       "      dtype=object)"
      ]
     },
     "execution_count": 22,
     "metadata": {},
     "output_type": "execute_result"
    }
   ],
   "source": [
    "X_train.columns.values"
   ]
  },
  {
   "cell_type": "code",
   "execution_count": 23,
   "metadata": {},
   "outputs": [
    {
     "data": {
      "text/plain": [
       "(1666, 19)"
      ]
     },
     "execution_count": 23,
     "metadata": {},
     "output_type": "execute_result"
    }
   ],
   "source": [
    "X_train.shape"
   ]
  },
  {
   "cell_type": "code",
   "execution_count": 24,
   "metadata": {},
   "outputs": [
    {
     "name": "stdout",
     "output_type": "stream",
     "text": [
      "(1666, 31)\n",
      "(1667, 31)\n"
     ]
    }
   ],
   "source": [
    "# apply one hot encoding on state and area\n",
    "from sklearn.preprocessing import OneHotEncoder\n",
    "categories = np.array([17,18])                 # column 17 - state, 18 - area code\n",
    "OHE = OneHotEncoder(n_values = 'auto', categorical_features = categories, \n",
    "                    sparse = False, handle_unknown = 'ignore')\n",
    "X_train = OHE.fit_transform(X_train)\n",
    "print(X_train.shape)\n",
    "X_test = OHE.transform(X_test)\n",
    "print(X_test.shape)"
   ]
  },
  {
   "cell_type": "code",
   "execution_count": 25,
   "metadata": {},
   "outputs": [
    {
     "data": {
      "text/plain": [
       "numpy.ndarray"
      ]
     },
     "execution_count": 25,
     "metadata": {},
     "output_type": "execute_result"
    }
   ],
   "source": [
    "type(X_train)"
   ]
  },
  {
   "cell_type": "code",
   "execution_count": 26,
   "metadata": {},
   "outputs": [
    {
     "name": "stderr",
     "output_type": "stream",
     "text": [
      "D:\\Teaching\\venv-p3.7.2\\lib\\site-packages\\sklearn\\ensemble\\weight_boosting.py:29: DeprecationWarning: numpy.core.umath_tests is an internal NumPy module and should not be imported. It will be removed in a future NumPy release.\n",
      "  from numpy.core.umath_tests import inner1d\n"
     ]
    }
   ],
   "source": [
    "# Bagging Classifier on logistic\n",
    "# build the logistic object\n",
    "from sklearn.linear_model import LogisticRegression\n",
    "lgr = LogisticRegression(class_weight = 'balanced',solver='lbfgs',penalty='l2',C=0.5)\n",
    "# build grid search parameters\n",
    "parms = {'n_estimators' : [50,100],\n",
    "          'bootstrap':[True,False],\n",
    "          'max_samples':[0.8,0.7]} \n",
    "# perform grid search\n",
    "from sklearn.ensemble import BaggingClassifier\n",
    "Bagging = BaggingClassifier(base_estimator = lgr, max_features = 1.0,\n",
    "                           verbose = 0, oob_score = False)"
   ]
  },
  {
   "cell_type": "code",
   "execution_count": 27,
   "metadata": {},
   "outputs": [
    {
     "name": "stdout",
     "output_type": "stream",
     "text": [
      "Wall time: 1min 35s\n"
     ]
    }
   ],
   "source": [
    "%%time\n",
    "from sklearn.model_selection import GridSearchCV\n",
    "CV = GridSearchCV(estimator = Bagging,param_grid = parms, scoring = 'roc_auc',cv=2, refit=True,\n",
    "                           return_train_score = True, verbose=0,n_jobs=1)\n",
    "CV.fit(X_train,Y_train)"
   ]
  },
  {
   "cell_type": "code",
   "execution_count": 28,
   "metadata": {},
   "outputs": [
    {
     "data": {
      "text/html": [
       "<div>\n",
       "<style scoped>\n",
       "    .dataframe tbody tr th:only-of-type {\n",
       "        vertical-align: middle;\n",
       "    }\n",
       "\n",
       "    .dataframe tbody tr th {\n",
       "        vertical-align: top;\n",
       "    }\n",
       "\n",
       "    .dataframe thead th {\n",
       "        text-align: right;\n",
       "    }\n",
       "</style>\n",
       "<table border=\"1\" class=\"dataframe\">\n",
       "  <thead>\n",
       "    <tr style=\"text-align: right;\">\n",
       "      <th></th>\n",
       "      <th>mean_fit_time</th>\n",
       "      <th>std_fit_time</th>\n",
       "      <th>mean_score_time</th>\n",
       "      <th>std_score_time</th>\n",
       "      <th>param_bootstrap</th>\n",
       "      <th>param_max_samples</th>\n",
       "      <th>param_n_estimators</th>\n",
       "      <th>params</th>\n",
       "      <th>split0_test_score</th>\n",
       "      <th>split1_test_score</th>\n",
       "      <th>mean_test_score</th>\n",
       "      <th>std_test_score</th>\n",
       "      <th>rank_test_score</th>\n",
       "      <th>split0_train_score</th>\n",
       "      <th>split1_train_score</th>\n",
       "      <th>mean_train_score</th>\n",
       "      <th>std_train_score</th>\n",
       "    </tr>\n",
       "  </thead>\n",
       "  <tbody>\n",
       "    <tr>\n",
       "      <th>0</th>\n",
       "      <td>4.073439</td>\n",
       "      <td>0.151552</td>\n",
       "      <td>0.0138</td>\n",
       "      <td>1.799703e-03</td>\n",
       "      <td>True</td>\n",
       "      <td>0.8</td>\n",
       "      <td>50</td>\n",
       "      <td>{'bootstrap': True, 'max_samples': 0.8, 'n_est...</td>\n",
       "      <td>0.720571</td>\n",
       "      <td>0.651007</td>\n",
       "      <td>0.685831</td>\n",
       "      <td>0.034782</td>\n",
       "      <td>2</td>\n",
       "      <td>0.771178</td>\n",
       "      <td>0.744543</td>\n",
       "      <td>0.757861</td>\n",
       "      <td>0.013318</td>\n",
       "    </tr>\n",
       "    <tr>\n",
       "      <th>1</th>\n",
       "      <td>7.510776</td>\n",
       "      <td>0.056221</td>\n",
       "      <td>0.0317</td>\n",
       "      <td>4.997253e-04</td>\n",
       "      <td>True</td>\n",
       "      <td>0.8</td>\n",
       "      <td>100</td>\n",
       "      <td>{'bootstrap': True, 'max_samples': 0.8, 'n_est...</td>\n",
       "      <td>0.719820</td>\n",
       "      <td>0.649887</td>\n",
       "      <td>0.684896</td>\n",
       "      <td>0.034967</td>\n",
       "      <td>3</td>\n",
       "      <td>0.761065</td>\n",
       "      <td>0.736712</td>\n",
       "      <td>0.748888</td>\n",
       "      <td>0.012177</td>\n",
       "    </tr>\n",
       "    <tr>\n",
       "      <th>2</th>\n",
       "      <td>3.659023</td>\n",
       "      <td>0.133417</td>\n",
       "      <td>0.0156</td>\n",
       "      <td>1.192093e-07</td>\n",
       "      <td>True</td>\n",
       "      <td>0.7</td>\n",
       "      <td>50</td>\n",
       "      <td>{'bootstrap': True, 'max_samples': 0.7, 'n_est...</td>\n",
       "      <td>0.723051</td>\n",
       "      <td>0.645673</td>\n",
       "      <td>0.684408</td>\n",
       "      <td>0.038689</td>\n",
       "      <td>4</td>\n",
       "      <td>0.769890</td>\n",
       "      <td>0.729285</td>\n",
       "      <td>0.749588</td>\n",
       "      <td>0.020303</td>\n",
       "    </tr>\n",
       "    <tr>\n",
       "      <th>3</th>\n",
       "      <td>6.887141</td>\n",
       "      <td>0.007529</td>\n",
       "      <td>0.0312</td>\n",
       "      <td>0.000000e+00</td>\n",
       "      <td>True</td>\n",
       "      <td>0.7</td>\n",
       "      <td>100</td>\n",
       "      <td>{'bootstrap': True, 'max_samples': 0.7, 'n_est...</td>\n",
       "      <td>0.723849</td>\n",
       "      <td>0.650380</td>\n",
       "      <td>0.687159</td>\n",
       "      <td>0.036734</td>\n",
       "      <td>1</td>\n",
       "      <td>0.768903</td>\n",
       "      <td>0.738798</td>\n",
       "      <td>0.753850</td>\n",
       "      <td>0.015053</td>\n",
       "    </tr>\n",
       "    <tr>\n",
       "      <th>4</th>\n",
       "      <td>3.439806</td>\n",
       "      <td>0.023400</td>\n",
       "      <td>0.0156</td>\n",
       "      <td>1.192093e-07</td>\n",
       "      <td>False</td>\n",
       "      <td>0.8</td>\n",
       "      <td>50</td>\n",
       "      <td>{'bootstrap': False, 'max_samples': 0.8, 'n_es...</td>\n",
       "      <td>0.726174</td>\n",
       "      <td>0.634596</td>\n",
       "      <td>0.680440</td>\n",
       "      <td>0.045789</td>\n",
       "      <td>5</td>\n",
       "      <td>0.776657</td>\n",
       "      <td>0.727843</td>\n",
       "      <td>0.752250</td>\n",
       "      <td>0.024407</td>\n",
       "    </tr>\n",
       "    <tr>\n",
       "      <th>5</th>\n",
       "      <td>6.901439</td>\n",
       "      <td>0.006227</td>\n",
       "      <td>0.0312</td>\n",
       "      <td>1.192093e-07</td>\n",
       "      <td>False</td>\n",
       "      <td>0.8</td>\n",
       "      <td>100</td>\n",
       "      <td>{'bootstrap': False, 'max_samples': 0.8, 'n_es...</td>\n",
       "      <td>0.721012</td>\n",
       "      <td>0.639701</td>\n",
       "      <td>0.680405</td>\n",
       "      <td>0.040656</td>\n",
       "      <td>6</td>\n",
       "      <td>0.766531</td>\n",
       "      <td>0.732659</td>\n",
       "      <td>0.749595</td>\n",
       "      <td>0.016936</td>\n",
       "    </tr>\n",
       "    <tr>\n",
       "      <th>6</th>\n",
       "      <td>3.416406</td>\n",
       "      <td>0.000000</td>\n",
       "      <td>0.0156</td>\n",
       "      <td>0.000000e+00</td>\n",
       "      <td>False</td>\n",
       "      <td>0.7</td>\n",
       "      <td>50</td>\n",
       "      <td>{'bootstrap': False, 'max_samples': 0.7, 'n_es...</td>\n",
       "      <td>0.720643</td>\n",
       "      <td>0.634199</td>\n",
       "      <td>0.677473</td>\n",
       "      <td>0.043222</td>\n",
       "      <td>7</td>\n",
       "      <td>0.753624</td>\n",
       "      <td>0.727497</td>\n",
       "      <td>0.740561</td>\n",
       "      <td>0.013064</td>\n",
       "    </tr>\n",
       "    <tr>\n",
       "      <th>7</th>\n",
       "      <td>6.816139</td>\n",
       "      <td>0.016673</td>\n",
       "      <td>0.0312</td>\n",
       "      <td>0.000000e+00</td>\n",
       "      <td>False</td>\n",
       "      <td>0.7</td>\n",
       "      <td>100</td>\n",
       "      <td>{'bootstrap': False, 'max_samples': 0.7, 'n_es...</td>\n",
       "      <td>0.712358</td>\n",
       "      <td>0.636257</td>\n",
       "      <td>0.674353</td>\n",
       "      <td>0.038050</td>\n",
       "      <td>8</td>\n",
       "      <td>0.756742</td>\n",
       "      <td>0.730263</td>\n",
       "      <td>0.743503</td>\n",
       "      <td>0.013240</td>\n",
       "    </tr>\n",
       "  </tbody>\n",
       "</table>\n",
       "</div>"
      ],
      "text/plain": [
       "   mean_fit_time  std_fit_time  mean_score_time  std_score_time  \\\n",
       "0       4.073439      0.151552           0.0138    1.799703e-03   \n",
       "1       7.510776      0.056221           0.0317    4.997253e-04   \n",
       "2       3.659023      0.133417           0.0156    1.192093e-07   \n",
       "3       6.887141      0.007529           0.0312    0.000000e+00   \n",
       "4       3.439806      0.023400           0.0156    1.192093e-07   \n",
       "5       6.901439      0.006227           0.0312    1.192093e-07   \n",
       "6       3.416406      0.000000           0.0156    0.000000e+00   \n",
       "7       6.816139      0.016673           0.0312    0.000000e+00   \n",
       "\n",
       "  param_bootstrap param_max_samples param_n_estimators  \\\n",
       "0            True               0.8                 50   \n",
       "1            True               0.8                100   \n",
       "2            True               0.7                 50   \n",
       "3            True               0.7                100   \n",
       "4           False               0.8                 50   \n",
       "5           False               0.8                100   \n",
       "6           False               0.7                 50   \n",
       "7           False               0.7                100   \n",
       "\n",
       "                                              params  split0_test_score  \\\n",
       "0  {'bootstrap': True, 'max_samples': 0.8, 'n_est...           0.720571   \n",
       "1  {'bootstrap': True, 'max_samples': 0.8, 'n_est...           0.719820   \n",
       "2  {'bootstrap': True, 'max_samples': 0.7, 'n_est...           0.723051   \n",
       "3  {'bootstrap': True, 'max_samples': 0.7, 'n_est...           0.723849   \n",
       "4  {'bootstrap': False, 'max_samples': 0.8, 'n_es...           0.726174   \n",
       "5  {'bootstrap': False, 'max_samples': 0.8, 'n_es...           0.721012   \n",
       "6  {'bootstrap': False, 'max_samples': 0.7, 'n_es...           0.720643   \n",
       "7  {'bootstrap': False, 'max_samples': 0.7, 'n_es...           0.712358   \n",
       "\n",
       "   split1_test_score  mean_test_score  std_test_score  rank_test_score  \\\n",
       "0           0.651007         0.685831        0.034782                2   \n",
       "1           0.649887         0.684896        0.034967                3   \n",
       "2           0.645673         0.684408        0.038689                4   \n",
       "3           0.650380         0.687159        0.036734                1   \n",
       "4           0.634596         0.680440        0.045789                5   \n",
       "5           0.639701         0.680405        0.040656                6   \n",
       "6           0.634199         0.677473        0.043222                7   \n",
       "7           0.636257         0.674353        0.038050                8   \n",
       "\n",
       "   split0_train_score  split1_train_score  mean_train_score  std_train_score  \n",
       "0            0.771178            0.744543          0.757861         0.013318  \n",
       "1            0.761065            0.736712          0.748888         0.012177  \n",
       "2            0.769890            0.729285          0.749588         0.020303  \n",
       "3            0.768903            0.738798          0.753850         0.015053  \n",
       "4            0.776657            0.727843          0.752250         0.024407  \n",
       "5            0.766531            0.732659          0.749595         0.016936  \n",
       "6            0.753624            0.727497          0.740561         0.013064  \n",
       "7            0.756742            0.730263          0.743503         0.013240  "
      ]
     },
     "execution_count": 28,
     "metadata": {},
     "output_type": "execute_result"
    }
   ],
   "source": [
    "CVResults = pd.DataFrame(CV.cv_results_)\n",
    "CVResults\n",
    "# CVResults.to_excel('CVResutls_Bagging_Logistic.xlsx')"
   ]
  },
  {
   "cell_type": "code",
   "execution_count": 29,
   "metadata": {},
   "outputs": [
    {
     "name": "stdout",
     "output_type": "stream",
     "text": [
      "BaggingClassifier(base_estimator=LogisticRegression(C=0.5, class_weight='balanced', dual=False,\n",
      "          fit_intercept=True, intercept_scaling=1, max_iter=100,\n",
      "          multi_class='ovr', n_jobs=1, penalty='l2', random_state=None,\n",
      "          solver='lbfgs', tol=0.0001, verbose=0, warm_start=False),\n",
      "         bootstrap=True, bootstrap_features=False, max_features=1.0,\n",
      "         max_samples=0.7, n_estimators=100, n_jobs=1, oob_score=False,\n",
      "         random_state=None, verbose=0, warm_start=False)\n"
     ]
    }
   ],
   "source": [
    "print(CV.best_estimator_)"
   ]
  },
  {
   "cell_type": "code",
   "execution_count": 30,
   "metadata": {},
   "outputs": [
    {
     "name": "stdout",
     "output_type": "stream",
     "text": [
      "0.6871590182715205\n",
      "{'bootstrap': True, 'max_samples': 0.7, 'n_estimators': 100}\n"
     ]
    }
   ],
   "source": [
    "print(CV.best_score_)\n",
    "print(CV.best_params_)"
   ]
  },
  {
   "cell_type": "code",
   "execution_count": 31,
   "metadata": {},
   "outputs": [
    {
     "name": "stdout",
     "output_type": "stream",
     "text": [
      "[1 0 0 1 0 0 0 0 0 0]\n"
     ]
    }
   ],
   "source": [
    "# Preidct on Test data and check the confusion matrix\n",
    "predictTest = CV.predict(X_test)\n",
    "print(predictTest[0:10])"
   ]
  },
  {
   "cell_type": "code",
   "execution_count": 32,
   "metadata": {},
   "outputs": [
    {
     "name": "stdout",
     "output_type": "stream",
     "text": [
      "[[0.42568668 0.57431332]\n",
      " [0.68764207 0.31235793]\n",
      " [0.52616778 0.47383222]\n",
      " [0.36456889 0.63543111]\n",
      " [0.66751463 0.33248537]\n",
      " [0.72939716 0.27060284]\n",
      " [0.71984291 0.28015709]\n",
      " [0.61849833 0.38150167]\n",
      " [0.50209368 0.49790632]\n",
      " [0.61139214 0.38860786]]\n"
     ]
    }
   ],
   "source": [
    "predictProb = CV.predict_proba(X_test)\n",
    "print(predictProb[0:10])\n",
    "PProb = pd.DataFrame(predictProb)"
   ]
  },
  {
   "cell_type": "code",
   "execution_count": 33,
   "metadata": {},
   "outputs": [
    {
     "name": "stdout",
     "output_type": "stream",
     "text": [
      "[[964 453]\n",
      " [ 79 171]]\n",
      "             precision    recall  f1-score   support\n",
      "\n",
      "          0       0.92      0.68      0.78      1417\n",
      "          1       0.27      0.68      0.39       250\n",
      "\n",
      "avg / total       0.83      0.68      0.72      1667\n",
      "\n"
     ]
    }
   ],
   "source": [
    "# generate confusion matrix\n",
    "# import confusion matrix and classification report\n",
    "from sklearn.metrics import confusion_matrix, classification_report\n",
    "print (confusion_matrix(Y_test,predictTest))\n",
    "print (classification_report(Y_test,predictTest))"
   ]
  },
  {
   "cell_type": "code",
   "execution_count": 34,
   "metadata": {},
   "outputs": [
    {
     "name": "stdout",
     "output_type": "stream",
     "text": [
      "0.7487282992237121\n"
     ]
    }
   ],
   "source": [
    "# generate ROC curve\n",
    "from sklearn.metrics import roc_auc_score, roc_curve\n",
    "# AUC for class 1\n",
    "AUC = roc_auc_score(Y_test, PProb[1])\n",
    "print(AUC)\n",
    "# define variables for True Positive Rate and Falst Positive Rate & threshold value\n",
    "TPR = dict()\n",
    "FPR = dict()\n",
    "THR = dict()\n",
    "FPR, TPR, THR = roc_curve(Y_test, PProb[1])"
   ]
  },
  {
   "cell_type": "code",
   "execution_count": 35,
   "metadata": {},
   "outputs": [
    {
     "name": "stdout",
     "output_type": "stream",
     "text": [
      "[0.8901446  0.76369723 0.76119571 0.75881697 0.75593275 0.74668609\n",
      " 0.73990967 0.73938441 0.73938104 0.73823737 0.73696995 0.73592162\n",
      " 0.73343094 0.73198512 0.73156175 0.72928374 0.72609606 0.72366108\n",
      " 0.72171789 0.7174615  0.71640073 0.71288868 0.7124734  0.71206727\n",
      " 0.71134557 0.70870792 0.70822786 0.70706791 0.7061859  0.70567199\n",
      " 0.70520813 0.70435265 0.70417414 0.70379722 0.70287791 0.70209828\n",
      " 0.70008503 0.69921959 0.69762606 0.69190342 0.68901076 0.6859196\n",
      " 0.6854126  0.68108167 0.67980738 0.67778798 0.67491508 0.67458541\n",
      " 0.67430952 0.67347546 0.67326546 0.67250576 0.67208875 0.6715714\n",
      " 0.66974152 0.66949529 0.66756499 0.66755688 0.66249093 0.66234894\n",
      " 0.66080936 0.66066904 0.66040655 0.66036927 0.65958857 0.65874491\n",
      " 0.65859657 0.65857867 0.65822564 0.65819408 0.65811134 0.65779775\n",
      " 0.65461118 0.65413937 0.65282974 0.65232008 0.65198556 0.65166767\n",
      " 0.64957383 0.64948842 0.64747658 0.64740882 0.64660019 0.64649068\n",
      " 0.63878158 0.63854897 0.63763357 0.63660447 0.63543111 0.63534531\n",
      " 0.63465291 0.63095504 0.63071085 0.6305791  0.62970803 0.62914602\n",
      " 0.6261139  0.62588258 0.62577143 0.6250031  0.62257578 0.62233144\n",
      " 0.62070925 0.62049307 0.62015362 0.61941298 0.61847606 0.61789557\n",
      " 0.61269984 0.6121575  0.61054038 0.61004634 0.6051733  0.60420598\n",
      " 0.60397162 0.603777   0.60316015 0.60244289 0.60145897 0.60131514\n",
      " 0.60066136 0.60010625 0.59887775 0.59886434 0.59846364 0.59833117\n",
      " 0.59710305 0.59709619 0.59614292 0.59599449 0.59516273 0.5946336\n",
      " 0.59404505 0.59368026 0.59144126 0.59013837 0.58765964 0.58702673\n",
      " 0.58514537 0.58507259 0.5816395  0.58118869 0.5806763  0.58040765\n",
      " 0.57767561 0.57717883 0.57566039 0.57510744 0.5748885  0.57457085\n",
      " 0.57422432 0.57419513 0.56476869 0.56404074 0.56380057 0.5637509\n",
      " 0.56231264 0.56217005 0.56103805 0.56013779 0.55899947 0.55849357\n",
      " 0.55791686 0.5576787  0.55644497 0.55586753 0.55402448 0.55371651\n",
      " 0.55338143 0.55312275 0.55097985 0.55081593 0.55069134 0.55060086\n",
      " 0.5477576  0.54761872 0.54722614 0.5468574  0.54517366 0.54475056\n",
      " 0.54320331 0.54309804 0.54237847 0.54204223 0.5407275  0.54053813\n",
      " 0.53899152 0.53875766 0.53846805 0.5379975  0.53559859 0.53517009\n",
      " 0.53476056 0.5343723  0.53416824 0.53412103 0.53378664 0.53344464\n",
      " 0.53194497 0.53190275 0.53113941 0.53073743 0.52870631 0.52856905\n",
      " 0.52832396 0.52752523 0.52683889 0.52670999 0.52641712 0.52597198\n",
      " 0.52514776 0.52483537 0.51880702 0.51862474 0.51097163 0.51039173\n",
      " 0.50679926 0.50662193 0.50376465 0.50318149 0.50281885 0.50251003\n",
      " 0.50246827 0.50233093 0.50112503 0.50052698 0.49741515 0.49737161\n",
      " 0.49595897 0.49594409 0.49365884 0.4935544  0.4911228  0.49098464\n",
      " 0.49000322 0.48984414 0.48839742 0.48810303 0.48805839 0.48801437\n",
      " 0.47941763 0.47934038 0.47737134 0.47705459 0.47575576 0.47563847\n",
      " 0.47481227 0.47445962 0.47440669 0.47437567 0.47388358 0.47383222\n",
      " 0.47141816 0.47113057 0.46964805 0.46962492 0.46758973 0.46741639\n",
      " 0.46699382 0.46591713 0.46473308 0.46472136 0.46277649 0.46257442\n",
      " 0.46064908 0.46023336 0.45772429 0.45748832 0.4567622  0.45652732\n",
      " 0.45326964 0.45321479 0.4487914  0.44868873 0.44578279 0.44573166\n",
      " 0.44528964 0.44525509 0.4443456  0.44405343 0.44325567 0.44314891\n",
      " 0.44160202 0.44148255 0.43938599 0.43935383 0.43885712 0.43850713\n",
      " 0.43733633 0.43721712 0.43670878 0.43633411 0.43573904 0.43561036\n",
      " 0.4347148  0.43429816 0.42491145 0.42484047 0.4236657  0.42339025\n",
      " 0.42048599 0.42047953 0.4041742  0.40372189 0.4019315  0.4018806\n",
      " 0.40148666 0.40146357 0.3962047  0.39565658 0.39304313 0.39291017\n",
      " 0.38585573 0.38570665 0.38270889 0.38264132 0.3758892  0.37535387\n",
      " 0.3744983  0.3744056  0.36785648 0.36766721 0.35735479 0.35678397\n",
      " 0.34702117 0.34676972 0.33809646 0.33781756 0.33642198 0.33627431\n",
      " 0.31931988 0.318924   0.31118634 0.31113255 0.30449577 0.30418782\n",
      " 0.2918098  0.29175223 0.27867406 0.27850399 0.26644636 0.26596459\n",
      " 0.2623808  0.26219611 0.26019356 0.26015384 0.2600774  0.25998092\n",
      " 0.25078076 0.25039441 0.25000592 0.24899562 0.24094785 0.23999024\n",
      " 0.2399698  0.23994913 0.23325117 0.23297432 0.22053738 0.22022203\n",
      " 0.19189844 0.18948857 0.17964135 0.1788259  0.17184033 0.1717414\n",
      " 0.10403085 0.10304213 0.08036996 0.07256872 0.06167364]\n",
      "[0.004 0.076 0.076 0.08  0.08  0.092 0.092 0.096 0.096 0.112 0.112 0.116\n",
      " 0.116 0.12  0.12  0.132 0.132 0.14  0.14  0.148 0.148 0.16  0.16  0.164\n",
      " 0.164 0.176 0.176 0.18  0.18  0.184 0.184 0.188 0.188 0.192 0.192 0.196\n",
      " 0.196 0.2   0.2   0.216 0.216 0.224 0.224 0.24  0.24  0.248 0.248 0.252\n",
      " 0.252 0.264 0.264 0.272 0.272 0.276 0.276 0.284 0.284 0.288 0.288 0.296\n",
      " 0.296 0.3   0.3   0.304 0.304 0.308 0.308 0.312 0.312 0.316 0.316 0.32\n",
      " 0.32  0.324 0.324 0.328 0.328 0.332 0.332 0.336 0.336 0.34  0.34  0.344\n",
      " 0.344 0.348 0.348 0.352 0.352 0.356 0.356 0.372 0.372 0.376 0.376 0.38\n",
      " 0.38  0.388 0.388 0.396 0.396 0.4   0.4   0.404 0.404 0.408 0.408 0.412\n",
      " 0.412 0.416 0.416 0.428 0.428 0.432 0.432 0.436 0.436 0.44  0.44  0.452\n",
      " 0.452 0.456 0.456 0.46  0.46  0.464 0.464 0.468 0.468 0.472 0.472 0.476\n",
      " 0.476 0.48  0.48  0.484 0.484 0.488 0.488 0.496 0.496 0.5   0.5   0.504\n",
      " 0.504 0.508 0.508 0.516 0.516 0.52  0.52  0.524 0.524 0.532 0.532 0.536\n",
      " 0.536 0.54  0.54  0.548 0.548 0.552 0.552 0.556 0.556 0.56  0.56  0.564\n",
      " 0.564 0.568 0.568 0.572 0.572 0.576 0.576 0.58  0.58  0.584 0.584 0.588\n",
      " 0.588 0.592 0.592 0.6   0.6   0.604 0.604 0.608 0.608 0.612 0.612 0.616\n",
      " 0.616 0.62  0.62  0.624 0.624 0.628 0.628 0.632 0.632 0.636 0.636 0.64\n",
      " 0.64  0.644 0.644 0.648 0.648 0.652 0.652 0.656 0.656 0.66  0.66  0.664\n",
      " 0.664 0.668 0.668 0.672 0.672 0.676 0.676 0.68  0.68  0.684 0.684 0.688\n",
      " 0.688 0.692 0.692 0.696 0.696 0.7   0.7   0.704 0.704 0.708 0.708 0.712\n",
      " 0.712 0.716 0.716 0.72  0.72  0.724 0.724 0.728 0.728 0.732 0.732 0.736\n",
      " 0.736 0.74  0.74  0.744 0.744 0.748 0.748 0.756 0.756 0.76  0.76  0.764\n",
      " 0.764 0.768 0.768 0.78  0.78  0.784 0.784 0.788 0.788 0.792 0.792 0.796\n",
      " 0.796 0.8   0.8   0.804 0.804 0.808 0.808 0.812 0.812 0.816 0.816 0.82\n",
      " 0.82  0.828 0.828 0.832 0.832 0.84  0.84  0.844 0.844 0.848 0.848 0.852\n",
      " 0.852 0.856 0.856 0.86  0.86  0.864 0.864 0.868 0.868 0.872 0.872 0.876\n",
      " 0.876 0.88  0.88  0.884 0.884 0.888 0.888 0.896 0.896 0.9   0.9   0.904\n",
      " 0.904 0.908 0.908 0.912 0.912 0.916 0.916 0.92  0.92  0.924 0.924 0.928\n",
      " 0.928 0.932 0.932 0.936 0.936 0.94  0.94  0.948 0.948 0.952 0.952 0.956\n",
      " 0.956 0.96  0.96  0.964 0.964 0.968 0.968 0.972 0.972 0.976 0.976 0.98\n",
      " 0.98  0.984 0.984 0.988 0.988 0.992 0.992 0.996 0.996 1.    1.   ]\n",
      "[0.00000000e+00 0.00000000e+00 7.05716302e-04 7.05716302e-04\n",
      " 2.11714891e-03 2.11714891e-03 4.23429781e-03 4.23429781e-03\n",
      " 4.94001411e-03 4.94001411e-03 5.64573042e-03 5.64573042e-03\n",
      " 7.05716302e-03 7.05716302e-03 8.46859562e-03 8.46859562e-03\n",
      " 9.88002823e-03 9.88002823e-03 1.12914608e-02 1.12914608e-02\n",
      " 1.27028934e-02 1.27028934e-02 1.34086097e-02 1.34086097e-02\n",
      " 1.41143260e-02 1.41143260e-02 1.62314749e-02 1.62314749e-02\n",
      " 1.76429076e-02 1.76429076e-02 1.83486239e-02 1.83486239e-02\n",
      " 1.90543402e-02 1.90543402e-02 1.97600565e-02 1.97600565e-02\n",
      " 2.11714891e-02 2.11714891e-02 2.32886380e-02 2.32886380e-02\n",
      " 2.54057869e-02 2.54057869e-02 2.68172195e-02 2.68172195e-02\n",
      " 3.03458010e-02 3.03458010e-02 3.38743825e-02 3.38743825e-02\n",
      " 3.45800988e-02 3.45800988e-02 3.52858151e-02 3.52858151e-02\n",
      " 3.66972477e-02 3.66972477e-02 3.88143966e-02 3.88143966e-02\n",
      " 4.09315455e-02 4.09315455e-02 4.23429781e-02 4.23429781e-02\n",
      " 4.37544107e-02 4.37544107e-02 4.58715596e-02 4.58715596e-02\n",
      " 4.65772759e-02 4.65772759e-02 4.72829922e-02 4.72829922e-02\n",
      " 4.86944248e-02 4.86944248e-02 4.94001411e-02 4.94001411e-02\n",
      " 5.29287227e-02 5.29287227e-02 5.57515879e-02 5.57515879e-02\n",
      " 5.71630205e-02 5.71630205e-02 6.21030346e-02 6.21030346e-02\n",
      " 6.49258998e-02 6.49258998e-02 6.63373324e-02 6.63373324e-02\n",
      " 7.48059280e-02 7.48059280e-02 7.76287932e-02 7.76287932e-02\n",
      " 8.18630910e-02 8.18630910e-02 8.25688073e-02 8.25688073e-02\n",
      " 8.39802399e-02 8.39802399e-02 8.60973888e-02 8.60973888e-02\n",
      " 8.96259704e-02 8.96259704e-02 9.03316867e-02 9.03316867e-02\n",
      " 9.17431193e-02 9.17431193e-02 9.24488356e-02 9.24488356e-02\n",
      " 9.31545519e-02 9.31545519e-02 9.59774171e-02 9.59774171e-02\n",
      " 1.03740296e-01 1.03740296e-01 1.05151729e-01 1.05151729e-01\n",
      " 1.11503176e-01 1.11503176e-01 1.12208892e-01 1.12208892e-01\n",
      " 1.13620325e-01 1.13620325e-01 1.15737474e-01 1.15737474e-01\n",
      " 1.17148906e-01 1.17148906e-01 1.22088920e-01 1.22088920e-01\n",
      " 1.23500353e-01 1.23500353e-01 1.27734651e-01 1.27734651e-01\n",
      " 1.32674665e-01 1.32674665e-01 1.34791814e-01 1.34791814e-01\n",
      " 1.36203246e-01 1.36203246e-01 1.41143260e-01 1.41143260e-01\n",
      " 1.44671842e-01 1.44671842e-01 1.48200423e-01 1.48200423e-01\n",
      " 1.53846154e-01 1.53846154e-01 1.54551870e-01 1.54551870e-01\n",
      " 1.58080452e-01 1.58080452e-01 1.63020466e-01 1.63020466e-01\n",
      " 1.63726182e-01 1.63726182e-01 1.65137615e-01 1.65137615e-01\n",
      " 1.83486239e-01 1.83486239e-01 1.84191955e-01 1.84191955e-01\n",
      " 1.86309104e-01 1.86309104e-01 1.87720536e-01 1.87720536e-01\n",
      " 1.91954834e-01 1.91954834e-01 1.92660550e-01 1.92660550e-01\n",
      " 1.94777699e-01 1.94777699e-01 1.97600565e-01 1.97600565e-01\n",
      " 2.00423430e-01 2.00423430e-01 2.03952011e-01 2.03952011e-01\n",
      " 2.05363444e-01 2.05363444e-01 2.11714891e-01 2.11714891e-01\n",
      " 2.13832040e-01 2.13832040e-01 2.20183486e-01 2.20183486e-01\n",
      " 2.26534933e-01 2.26534933e-01 2.30063514e-01 2.30063514e-01\n",
      " 2.32180663e-01 2.32180663e-01 2.36414961e-01 2.36414961e-01\n",
      " 2.37826394e-01 2.37826394e-01 2.47000706e-01 2.47000706e-01\n",
      " 2.48412138e-01 2.48412138e-01 2.49117855e-01 2.49117855e-01\n",
      " 2.49823571e-01 2.49823571e-01 2.54057869e-01 2.54057869e-01\n",
      " 2.56175018e-01 2.56175018e-01 2.57586450e-01 2.57586450e-01\n",
      " 2.59703599e-01 2.59703599e-01 2.62526464e-01 2.62526464e-01\n",
      " 2.63232181e-01 2.63232181e-01 2.65349330e-01 2.65349330e-01\n",
      " 2.80169372e-01 2.80169372e-01 2.97812279e-01 2.97812279e-01\n",
      " 3.06986591e-01 3.06986591e-01 3.15455187e-01 3.15455187e-01\n",
      " 3.16160903e-01 3.16160903e-01 3.16866620e-01 3.16866620e-01\n",
      " 3.18983769e-01 3.18983769e-01 3.26746648e-01 3.26746648e-01\n",
      " 3.30275229e-01 3.30275229e-01 3.37332392e-01 3.37332392e-01\n",
      " 3.45800988e-01 3.45800988e-01 3.49329570e-01 3.49329570e-01\n",
      " 3.50741002e-01 3.50741002e-01 3.51446718e-01 3.51446718e-01\n",
      " 3.72618207e-01 3.72618207e-01 3.76852505e-01 3.76852505e-01\n",
      " 3.79675371e-01 3.79675371e-01 3.81086803e-01 3.81086803e-01\n",
      " 3.81792519e-01 3.81792519e-01 3.83203952e-01 3.83203952e-01\n",
      " 3.88143966e-01 3.88143966e-01 3.95906845e-01 3.95906845e-01\n",
      " 4.00141143e-01 4.00141143e-01 4.00846860e-01 4.00846860e-01\n",
      " 4.03669725e-01 4.03669725e-01 4.09315455e-01 4.09315455e-01\n",
      " 4.13549753e-01 4.13549753e-01 4.21312632e-01 4.21312632e-01\n",
      " 4.22724065e-01 4.22724065e-01 4.31898377e-01 4.31898377e-01\n",
      " 4.46012703e-01 4.46012703e-01 4.55892731e-01 4.55892731e-01\n",
      " 4.56598447e-01 4.56598447e-01 4.60127029e-01 4.60127029e-01\n",
      " 4.62244178e-01 4.62244178e-01 4.64361327e-01 4.64361327e-01\n",
      " 4.70712773e-01 4.70712773e-01 4.72829922e-01 4.72829922e-01\n",
      " 4.78475653e-01 4.78475653e-01 4.79887085e-01 4.79887085e-01\n",
      " 4.84121383e-01 4.84121383e-01 4.85532816e-01 4.85532816e-01\n",
      " 5.11644319e-01 5.11644319e-01 5.16584333e-01 5.16584333e-01\n",
      " 5.27170078e-01 5.27170078e-01 5.60338744e-01 5.60338744e-01\n",
      " 5.68101623e-01 5.68101623e-01 5.70924488e-01 5.70924488e-01\n",
      " 5.86450247e-01 5.86450247e-01 5.95624559e-01 5.95624559e-01\n",
      " 6.13973183e-01 6.13973183e-01 6.23853211e-01 6.23853211e-01\n",
      " 6.42201835e-01 6.42201835e-01 6.45024700e-01 6.45024700e-01\n",
      " 6.59844742e-01 6.59844742e-01 6.90896260e-01 6.90896260e-01\n",
      " 7.10656316e-01 7.10656316e-01 7.26182075e-01 7.26182075e-01\n",
      " 7.31122089e-01 7.31122089e-01 7.69230769e-01 7.69230769e-01\n",
      " 7.88990826e-01 7.88990826e-01 8.03105152e-01 8.03105152e-01\n",
      " 8.24276641e-01 8.24276641e-01 8.39802399e-01 8.39802399e-01\n",
      " 8.59562456e-01 8.59562456e-01 8.70148200e-01 8.70148200e-01\n",
      " 8.72265349e-01 8.72265349e-01 8.72971066e-01 8.72971066e-01\n",
      " 8.94142555e-01 8.94142555e-01 8.95553987e-01 8.95553987e-01\n",
      " 9.13902611e-01 9.13902611e-01 9.14608327e-01 9.14608327e-01\n",
      " 9.23782639e-01 9.23782639e-01 9.37191249e-01 9.37191249e-01\n",
      " 9.53422724e-01 9.53422724e-01 9.61891320e-01 9.61891320e-01\n",
      " 9.65419901e-01 9.65419901e-01 9.94354270e-01 9.94354270e-01\n",
      " 9.98588567e-01 9.98588567e-01 1.00000000e+00]\n"
     ]
    }
   ],
   "source": [
    "print(THR)\n",
    "print(TPR)\n",
    "print(FPR)"
   ]
  },
  {
   "cell_type": "code",
   "execution_count": 36,
   "metadata": {},
   "outputs": [
    {
     "data": {
      "image/png": "[encoded data removed]",
      "text/plain": [
       "<Figure size 432x288 with 1 Axes>"
      ]
     },
     "metadata": {
      "needs_background": "light"
     },
     "output_type": "display_data"
    }
   ],
   "source": [
    "%matplotlib inline\n",
    "import matplotlib.pyplot as plt\n",
    "plt.figure()\n",
    "# plot the FPR as X-axis and TPR as Y-axis\n",
    "plt.plot(FPR, TPR)\n",
    "# plot the minimum line \n",
    "plt.plot([0,1], [0,1], color='navy', linestyle = '--')\n",
    "# set X and Y limits\n",
    "plt.xlim([0.0, 1.05])\n",
    "plt.ylim([0.0, 1.05])\n",
    "# mention lables for X and Y\n",
    "plt.xlabel('False Positive Rate')\n",
    "plt.ylabel('True Positive Rate')\n",
    "plt.title('ROC')\n",
    "plt.show()"
   ]
  },
  {
   "cell_type": "code",
   "execution_count": null,
   "metadata": {},
   "outputs": [],
   "source": []
  }
 ],
 "metadata": {
  "kernelspec": {
   "display_name": "Python 3",
   "language": "python",
   "name": "python3"
  },
  "language_info": {
   "codemirror_mode": {
    "name": "ipython",
    "version": 3
   },
   "file_extension": ".py",
   "mimetype": "text/x-python",
   "name": "python",
   "nbconvert_exporter": "python",
   "pygments_lexer": "ipython3",
   "version": "3.7.2"
  }
 },
 "nbformat": 4,
 "nbformat_minor": 2
}
