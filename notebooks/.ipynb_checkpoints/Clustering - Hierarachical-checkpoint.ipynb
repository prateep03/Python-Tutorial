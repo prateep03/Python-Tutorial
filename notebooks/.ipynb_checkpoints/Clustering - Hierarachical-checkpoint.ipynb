{
 "cells": [
  {
   "cell_type": "code",
   "execution_count": 1,
   "metadata": {},
   "outputs": [],
   "source": [
    "# Clustering\n",
    "import seaborn as sns\n",
    "\n",
    "import warnings\n",
    "warnings.filterwarnings('ignore')"
   ]
  },
  {
   "cell_type": "code",
   "execution_count": 2,
   "metadata": {},
   "outputs": [
    {
     "data": {
      "text/html": [
       "<div>\n",
       "<style scoped>\n",
       "    .dataframe tbody tr th:only-of-type {\n",
       "        vertical-align: middle;\n",
       "    }\n",
       "\n",
       "    .dataframe tbody tr th {\n",
       "        vertical-align: top;\n",
       "    }\n",
       "\n",
       "    .dataframe thead th {\n",
       "        text-align: right;\n",
       "    }\n",
       "</style>\n",
       "<table border=\"1\" class=\"dataframe\">\n",
       "  <thead>\n",
       "    <tr style=\"text-align: right;\">\n",
       "      <th></th>\n",
       "      <th>sepal_length</th>\n",
       "      <th>sepal_width</th>\n",
       "      <th>petal_length</th>\n",
       "      <th>petal_width</th>\n",
       "      <th>species</th>\n",
       "    </tr>\n",
       "  </thead>\n",
       "  <tbody>\n",
       "    <tr>\n",
       "      <th>0</th>\n",
       "      <td>5.1</td>\n",
       "      <td>3.5</td>\n",
       "      <td>1.4</td>\n",
       "      <td>0.2</td>\n",
       "      <td>setosa</td>\n",
       "    </tr>\n",
       "    <tr>\n",
       "      <th>1</th>\n",
       "      <td>4.9</td>\n",
       "      <td>3.0</td>\n",
       "      <td>1.4</td>\n",
       "      <td>0.2</td>\n",
       "      <td>setosa</td>\n",
       "    </tr>\n",
       "    <tr>\n",
       "      <th>2</th>\n",
       "      <td>4.7</td>\n",
       "      <td>3.2</td>\n",
       "      <td>1.3</td>\n",
       "      <td>0.2</td>\n",
       "      <td>setosa</td>\n",
       "    </tr>\n",
       "    <tr>\n",
       "      <th>3</th>\n",
       "      <td>4.6</td>\n",
       "      <td>3.1</td>\n",
       "      <td>1.5</td>\n",
       "      <td>0.2</td>\n",
       "      <td>setosa</td>\n",
       "    </tr>\n",
       "    <tr>\n",
       "      <th>4</th>\n",
       "      <td>5.0</td>\n",
       "      <td>3.6</td>\n",
       "      <td>1.4</td>\n",
       "      <td>0.2</td>\n",
       "      <td>setosa</td>\n",
       "    </tr>\n",
       "  </tbody>\n",
       "</table>\n",
       "</div>"
      ],
      "text/plain": [
       "   sepal_length  sepal_width  petal_length  petal_width species\n",
       "0           5.1          3.5           1.4          0.2  setosa\n",
       "1           4.9          3.0           1.4          0.2  setosa\n",
       "2           4.7          3.2           1.3          0.2  setosa\n",
       "3           4.6          3.1           1.5          0.2  setosa\n",
       "4           5.0          3.6           1.4          0.2  setosa"
      ]
     },
     "execution_count": 2,
     "metadata": {},
     "output_type": "execute_result"
    }
   ],
   "source": [
    "iris = sns.load_dataset('iris')\n",
    "iris.head()"
   ]
  },
  {
   "cell_type": "code",
   "execution_count": 3,
   "metadata": {},
   "outputs": [
    {
     "data": {
      "text/plain": [
       "(150, 5)"
      ]
     },
     "execution_count": 3,
     "metadata": {},
     "output_type": "execute_result"
    }
   ],
   "source": [
    "iris.shape"
   ]
  },
  {
   "cell_type": "code",
   "execution_count": 4,
   "metadata": {},
   "outputs": [
    {
     "name": "stdout",
     "output_type": "stream",
     "text": [
      "(150, 4)\n",
      "(150,)\n",
      "<class 'pandas.core.frame.DataFrame'>\n",
      "<class 'pandas.core.series.Series'>\n"
     ]
    }
   ],
   "source": [
    "# split the train data into independent variables (X) and dependent variable (Y)\n",
    "x_iris = iris.drop('species', axis = 1)\n",
    "print(x_iris.shape)\n",
    "y_iris = iris['species']\n",
    "print(y_iris.shape)\n",
    "print(type(x_iris))\n",
    "print(type(y_iris))"
   ]
  },
  {
   "cell_type": "code",
   "execution_count": 5,
   "metadata": {},
   "outputs": [
    {
     "name": "stdout",
     "output_type": "stream",
     "text": [
      "[0.53851648 0.50990195 0.64807407 ... 0.6164414  0.64031242 0.76811457]\n"
     ]
    }
   ],
   "source": [
    "# calculate distance\n",
    "from scipy.spatial.distance import pdist\n",
    "x_dist = pdist(x_iris)\n",
    "print(x_dist)"
   ]
  },
  {
   "cell_type": "code",
   "execution_count": 6,
   "metadata": {},
   "outputs": [
    {
     "data": {
      "text/plain": [
       "(11175,)"
      ]
     },
     "execution_count": 6,
     "metadata": {},
     "output_type": "execute_result"
    }
   ],
   "source": [
    "x_dist.shape"
   ]
  },
  {
   "cell_type": "code",
   "execution_count": 7,
   "metadata": {},
   "outputs": [
    {
     "data": {
      "image/png": "[encoded data removed]",
      "text/plain": [
       "<Figure size 432x288 with 1 Axes>"
      ]
     },
     "metadata": {
      "needs_background": "light"
     },
     "output_type": "display_data"
    }
   ],
   "source": [
    "from scipy.cluster import hierarchy\n",
    "import matplotlib.pyplot as plt\n",
    "x_dendo = hierarchy.linkage(x_dist, 'single')\n",
    "plt.figure()\n",
    "dn = hierarchy.dendrogram(x_dendo)\n",
    "hierarchy.set_link_color_palette(['m', 'c', 'y', 'k'])\n",
    "plt.show()"
   ]
  },
  {
   "cell_type": "code",
   "execution_count": 8,
   "metadata": {},
   "outputs": [
    {
     "data": {
      "text/plain": [
       "AgglomerativeClustering(affinity='euclidean', compute_full_tree='auto',\n",
       "            connectivity=None, linkage='ward', memory=None, n_clusters=3,\n",
       "            pooling_func=<function mean at 0x045D2540>)"
      ]
     },
     "execution_count": 8,
     "metadata": {},
     "output_type": "execute_result"
    }
   ],
   "source": [
    "# apply Gaussian Mixture model to group the data\n",
    "from sklearn.cluster import AgglomerativeClustering\n",
    "AHC = AgglomerativeClustering(n_clusters = 3,linkage='ward')\n",
    "AHC.fit(x_iris)"
   ]
  },
  {
   "cell_type": "code",
   "execution_count": 9,
   "metadata": {},
   "outputs": [
    {
     "name": "stdout",
     "output_type": "stream",
     "text": [
      "[1 1 1 1 1 1 1 1 1 1 1 1 1 1 1 1 1 1 1 1 1 1 1 1 1 1 1 1 1 1 1 1 1 1 1 1 1\n",
      " 1 1 1 1 1 1 1 1 1 1 1 1 1 0 0 0 0 0 0 0 0 0 0 0 0 0 0 0 0 0 0 0 0 0 0 0 0\n",
      " 0 0 0 2 0 0 0 0 0 0 0 0 0 0 0 0 0 0 0 0 0 0 0 0 0 0 2 0 2 2 2 2 0 2 2 2 2\n",
      " 2 2 0 0 2 2 2 2 0 2 0 2 0 2 2 0 0 2 2 2 2 2 0 0 2 2 2 0 2 2 2 0 2 2 2 0 2\n",
      " 2 0]\n",
      "150\n"
     ]
    }
   ],
   "source": [
    "print(AHC.labels_)\n",
    "print(AHC.n_leaves_)"
   ]
  },
  {
   "cell_type": "code",
   "execution_count": 10,
   "metadata": {},
   "outputs": [
    {
     "name": "stdout",
     "output_type": "stream",
     "text": [
      "1\n"
     ]
    }
   ],
   "source": [
    "print(AHC.n_components_)"
   ]
  },
  {
   "cell_type": "code",
   "execution_count": 11,
   "metadata": {},
   "outputs": [
    {
     "name": "stdout",
     "output_type": "stream",
     "text": [
      "[[101 142]\n",
      " [  7  39]\n",
      " [  0  17]\n",
      " [  9  34]\n",
      " [128 132]\n",
      " [ 10  48]\n",
      " [  4  37]\n",
      " [ 19  21]\n",
      " [ 29  30]\n",
      " [ 57  93]\n",
      " [ 80  81]\n",
      " [116 137]\n",
      " [  8  38]\n",
      " [  3  47]\n",
      " [ 27  28]\n",
      " [ 82  92]\n",
      " [ 95  96]\n",
      " [127 138]\n",
      " [  1  45]\n",
      " [ 63  91]\n",
      " [ 65  75]\n",
      " [ 40 152]\n",
      " [123 126]\n",
      " [ 49 151]\n",
      " [112 139]\n",
      " [ 94  99]\n",
      " [ 12 168]\n",
      " [ 88 166]\n",
      " [ 66  84]\n",
      " [ 23  26]\n",
      " [ 53  89]\n",
      " [ 74  97]\n",
      " [ 25 153]\n",
      " [ 46 157]\n",
      " [  2 163]\n",
      " [110 147]\n",
      " [120 143]\n",
      " [136 148]\n",
      " [ 78 169]\n",
      " [ 69 160]\n",
      " [ 54  58]\n",
      " [140 144]\n",
      " [141 145]\n",
      " [ 43 179]\n",
      " [ 68  87]\n",
      " [ 50  52]\n",
      " [ 51  56]\n",
      " [107 130]\n",
      " [105 122]\n",
      " [103 161]\n",
      " [164 171]\n",
      " [ 20  31]\n",
      " [ 11 158]\n",
      " [ 67 165]\n",
      " [ 70 167]\n",
      " [ 42 162]\n",
      " [113 150]\n",
      " [  6 184]\n",
      " [173 200]\n",
      " [ 55  90]\n",
      " [176 182]\n",
      " [ 86 195]\n",
      " [124 186]\n",
      " [ 83 133]\n",
      " [  5  18]\n",
      " [ 13 205]\n",
      " [175 177]\n",
      " [ 32  33]\n",
      " [125 129]\n",
      " [104 154]\n",
      " [ 73 188]\n",
      " [149 204]\n",
      " [146 172]\n",
      " [121 206]\n",
      " [ 36 155]\n",
      " [ 76 190]\n",
      " [115 187]\n",
      " [ 61  71]\n",
      " [156 208]\n",
      " [ 72 213]\n",
      " [117 131]\n",
      " [191 212]\n",
      " [ 24 202]\n",
      " [ 98 159]\n",
      " [ 16 224]\n",
      " [ 35 210]\n",
      " [ 64  79]\n",
      " [ 85 196]\n",
      " [ 77 185]\n",
      " [ 44 183]\n",
      " [111 199]\n",
      " [180 189]\n",
      " [102 218]\n",
      " [174 192]\n",
      " [181 227]\n",
      " [170 225]\n",
      " [118 198]\n",
      " [ 14  15]\n",
      " [178 209]\n",
      " [222 229]\n",
      " [201 234]\n",
      " [114 223]\n",
      " [ 60 233]\n",
      " [217 247]\n",
      " [ 59 241]\n",
      " [207 232]\n",
      " [197 242]\n",
      " [ 62 203]\n",
      " [214 250]\n",
      " [119 194]\n",
      " [100 226]\n",
      " [108 219]\n",
      " [216 248]\n",
      " [211 245]\n",
      " [240 261]\n",
      " [193 239]\n",
      " [109 135]\n",
      " [235 255]\n",
      " [238 243]\n",
      " [236 254]\n",
      " [ 22 215]\n",
      " [220 244]\n",
      " [228 265]\n",
      " [257 269]\n",
      " [134 249]\n",
      " [221 237]\n",
      " [231 260]\n",
      " [ 41 270]\n",
      " [230 266]\n",
      " [106 262]\n",
      " [253 258]\n",
      " [259 274]\n",
      " [267 277]\n",
      " [264 268]\n",
      " [271 275]\n",
      " [246 278]\n",
      " [251 281]\n",
      " [276 283]\n",
      " [256 285]\n",
      " [273 279]\n",
      " [272 280]\n",
      " [263 284]\n",
      " [252 289]\n",
      " [286 291]\n",
      " [282 290]\n",
      " [287 288]\n",
      " [292 293]\n",
      " [295 296]\n",
      " [294 297]]\n"
     ]
    }
   ],
   "source": [
    "# order of merging\n",
    "print(AHC.children_)"
   ]
  },
  {
   "cell_type": "code",
   "execution_count": 12,
   "metadata": {},
   "outputs": [
    {
     "name": "stdout",
     "output_type": "stream",
     "text": [
      "   sepal_length  sepal_width  petal_length  petal_width species  cluster\n",
      "0           5.1          3.5           1.4          0.2  setosa        1\n",
      "1           4.9          3.0           1.4          0.2  setosa        1\n",
      "2           4.7          3.2           1.3          0.2  setosa        1\n",
      "3           4.6          3.1           1.5          0.2  setosa        1\n",
      "4           5.0          3.6           1.4          0.2  setosa        1\n"
     ]
    }
   ],
   "source": [
    "# include new column 'cluster' to iris data\n",
    "iris [\"cluster\"] = AHC.labels_\n",
    "print(iris.head())"
   ]
  },
  {
   "cell_type": "code",
   "execution_count": 13,
   "metadata": {},
   "outputs": [
    {
     "name": "stdout",
     "output_type": "stream",
     "text": [
      "<class 'pandas.core.frame.DataFrame'>\n"
     ]
    }
   ],
   "source": [
    "print(type(iris))"
   ]
  },
  {
   "cell_type": "code",
   "execution_count": 14,
   "metadata": {},
   "outputs": [
    {
     "data": {
      "text/plain": [
       "array([1, 0, 2], dtype=int64)"
      ]
     },
     "execution_count": 14,
     "metadata": {},
     "output_type": "execute_result"
    }
   ],
   "source": [
    "import pandas as pd\n",
    "pd.unique(iris[\"cluster\"])"
   ]
  },
  {
   "cell_type": "code",
   "execution_count": 15,
   "metadata": {},
   "outputs": [
    {
     "data": {
      "text/plain": [
       "array(['setosa', 'versicolor', 'virginica'], dtype=object)"
      ]
     },
     "execution_count": 15,
     "metadata": {},
     "output_type": "execute_result"
    }
   ],
   "source": [
    "pd.unique(iris[\"species\"])"
   ]
  },
  {
   "cell_type": "code",
   "execution_count": 16,
   "metadata": {},
   "outputs": [
    {
     "data": {
      "text/html": [
       "<div>\n",
       "<style scoped>\n",
       "    .dataframe tbody tr th:only-of-type {\n",
       "        vertical-align: middle;\n",
       "    }\n",
       "\n",
       "    .dataframe tbody tr th {\n",
       "        vertical-align: top;\n",
       "    }\n",
       "\n",
       "    .dataframe thead th {\n",
       "        text-align: right;\n",
       "    }\n",
       "</style>\n",
       "<table border=\"1\" class=\"dataframe\">\n",
       "  <thead>\n",
       "    <tr style=\"text-align: right;\">\n",
       "      <th></th>\n",
       "      <th>sepal_length</th>\n",
       "      <th>sepal_width</th>\n",
       "      <th>petal_length</th>\n",
       "      <th>petal_width</th>\n",
       "      <th>species</th>\n",
       "      <th>cluster</th>\n",
       "    </tr>\n",
       "  </thead>\n",
       "  <tbody>\n",
       "    <tr>\n",
       "      <th>100</th>\n",
       "      <td>6.3</td>\n",
       "      <td>3.3</td>\n",
       "      <td>6.0</td>\n",
       "      <td>2.5</td>\n",
       "      <td>virginica</td>\n",
       "      <td>2</td>\n",
       "    </tr>\n",
       "    <tr>\n",
       "      <th>101</th>\n",
       "      <td>5.8</td>\n",
       "      <td>2.7</td>\n",
       "      <td>5.1</td>\n",
       "      <td>1.9</td>\n",
       "      <td>virginica</td>\n",
       "      <td>0</td>\n",
       "    </tr>\n",
       "    <tr>\n",
       "      <th>102</th>\n",
       "      <td>7.1</td>\n",
       "      <td>3.0</td>\n",
       "      <td>5.9</td>\n",
       "      <td>2.1</td>\n",
       "      <td>virginica</td>\n",
       "      <td>2</td>\n",
       "    </tr>\n",
       "    <tr>\n",
       "      <th>103</th>\n",
       "      <td>6.3</td>\n",
       "      <td>2.9</td>\n",
       "      <td>5.6</td>\n",
       "      <td>1.8</td>\n",
       "      <td>virginica</td>\n",
       "      <td>2</td>\n",
       "    </tr>\n",
       "    <tr>\n",
       "      <th>104</th>\n",
       "      <td>6.5</td>\n",
       "      <td>3.0</td>\n",
       "      <td>5.8</td>\n",
       "      <td>2.2</td>\n",
       "      <td>virginica</td>\n",
       "      <td>2</td>\n",
       "    </tr>\n",
       "    <tr>\n",
       "      <th>105</th>\n",
       "      <td>7.6</td>\n",
       "      <td>3.0</td>\n",
       "      <td>6.6</td>\n",
       "      <td>2.1</td>\n",
       "      <td>virginica</td>\n",
       "      <td>2</td>\n",
       "    </tr>\n",
       "    <tr>\n",
       "      <th>106</th>\n",
       "      <td>4.9</td>\n",
       "      <td>2.5</td>\n",
       "      <td>4.5</td>\n",
       "      <td>1.7</td>\n",
       "      <td>virginica</td>\n",
       "      <td>0</td>\n",
       "    </tr>\n",
       "    <tr>\n",
       "      <th>107</th>\n",
       "      <td>7.3</td>\n",
       "      <td>2.9</td>\n",
       "      <td>6.3</td>\n",
       "      <td>1.8</td>\n",
       "      <td>virginica</td>\n",
       "      <td>2</td>\n",
       "    </tr>\n",
       "    <tr>\n",
       "      <th>108</th>\n",
       "      <td>6.7</td>\n",
       "      <td>2.5</td>\n",
       "      <td>5.8</td>\n",
       "      <td>1.8</td>\n",
       "      <td>virginica</td>\n",
       "      <td>2</td>\n",
       "    </tr>\n",
       "    <tr>\n",
       "      <th>109</th>\n",
       "      <td>7.2</td>\n",
       "      <td>3.6</td>\n",
       "      <td>6.1</td>\n",
       "      <td>2.5</td>\n",
       "      <td>virginica</td>\n",
       "      <td>2</td>\n",
       "    </tr>\n",
       "    <tr>\n",
       "      <th>110</th>\n",
       "      <td>6.5</td>\n",
       "      <td>3.2</td>\n",
       "      <td>5.1</td>\n",
       "      <td>2.0</td>\n",
       "      <td>virginica</td>\n",
       "      <td>2</td>\n",
       "    </tr>\n",
       "    <tr>\n",
       "      <th>111</th>\n",
       "      <td>6.4</td>\n",
       "      <td>2.7</td>\n",
       "      <td>5.3</td>\n",
       "      <td>1.9</td>\n",
       "      <td>virginica</td>\n",
       "      <td>2</td>\n",
       "    </tr>\n",
       "    <tr>\n",
       "      <th>112</th>\n",
       "      <td>6.8</td>\n",
       "      <td>3.0</td>\n",
       "      <td>5.5</td>\n",
       "      <td>2.1</td>\n",
       "      <td>virginica</td>\n",
       "      <td>2</td>\n",
       "    </tr>\n",
       "    <tr>\n",
       "      <th>113</th>\n",
       "      <td>5.7</td>\n",
       "      <td>2.5</td>\n",
       "      <td>5.0</td>\n",
       "      <td>2.0</td>\n",
       "      <td>virginica</td>\n",
       "      <td>0</td>\n",
       "    </tr>\n",
       "    <tr>\n",
       "      <th>114</th>\n",
       "      <td>5.8</td>\n",
       "      <td>2.8</td>\n",
       "      <td>5.1</td>\n",
       "      <td>2.4</td>\n",
       "      <td>virginica</td>\n",
       "      <td>0</td>\n",
       "    </tr>\n",
       "    <tr>\n",
       "      <th>115</th>\n",
       "      <td>6.4</td>\n",
       "      <td>3.2</td>\n",
       "      <td>5.3</td>\n",
       "      <td>2.3</td>\n",
       "      <td>virginica</td>\n",
       "      <td>2</td>\n",
       "    </tr>\n",
       "    <tr>\n",
       "      <th>116</th>\n",
       "      <td>6.5</td>\n",
       "      <td>3.0</td>\n",
       "      <td>5.5</td>\n",
       "      <td>1.8</td>\n",
       "      <td>virginica</td>\n",
       "      <td>2</td>\n",
       "    </tr>\n",
       "    <tr>\n",
       "      <th>117</th>\n",
       "      <td>7.7</td>\n",
       "      <td>3.8</td>\n",
       "      <td>6.7</td>\n",
       "      <td>2.2</td>\n",
       "      <td>virginica</td>\n",
       "      <td>2</td>\n",
       "    </tr>\n",
       "    <tr>\n",
       "      <th>118</th>\n",
       "      <td>7.7</td>\n",
       "      <td>2.6</td>\n",
       "      <td>6.9</td>\n",
       "      <td>2.3</td>\n",
       "      <td>virginica</td>\n",
       "      <td>2</td>\n",
       "    </tr>\n",
       "    <tr>\n",
       "      <th>119</th>\n",
       "      <td>6.0</td>\n",
       "      <td>2.2</td>\n",
       "      <td>5.0</td>\n",
       "      <td>1.5</td>\n",
       "      <td>virginica</td>\n",
       "      <td>0</td>\n",
       "    </tr>\n",
       "    <tr>\n",
       "      <th>120</th>\n",
       "      <td>6.9</td>\n",
       "      <td>3.2</td>\n",
       "      <td>5.7</td>\n",
       "      <td>2.3</td>\n",
       "      <td>virginica</td>\n",
       "      <td>2</td>\n",
       "    </tr>\n",
       "    <tr>\n",
       "      <th>121</th>\n",
       "      <td>5.6</td>\n",
       "      <td>2.8</td>\n",
       "      <td>4.9</td>\n",
       "      <td>2.0</td>\n",
       "      <td>virginica</td>\n",
       "      <td>0</td>\n",
       "    </tr>\n",
       "    <tr>\n",
       "      <th>122</th>\n",
       "      <td>7.7</td>\n",
       "      <td>2.8</td>\n",
       "      <td>6.7</td>\n",
       "      <td>2.0</td>\n",
       "      <td>virginica</td>\n",
       "      <td>2</td>\n",
       "    </tr>\n",
       "    <tr>\n",
       "      <th>123</th>\n",
       "      <td>6.3</td>\n",
       "      <td>2.7</td>\n",
       "      <td>4.9</td>\n",
       "      <td>1.8</td>\n",
       "      <td>virginica</td>\n",
       "      <td>0</td>\n",
       "    </tr>\n",
       "    <tr>\n",
       "      <th>124</th>\n",
       "      <td>6.7</td>\n",
       "      <td>3.3</td>\n",
       "      <td>5.7</td>\n",
       "      <td>2.1</td>\n",
       "      <td>virginica</td>\n",
       "      <td>2</td>\n",
       "    </tr>\n",
       "    <tr>\n",
       "      <th>125</th>\n",
       "      <td>7.2</td>\n",
       "      <td>3.2</td>\n",
       "      <td>6.0</td>\n",
       "      <td>1.8</td>\n",
       "      <td>virginica</td>\n",
       "      <td>2</td>\n",
       "    </tr>\n",
       "    <tr>\n",
       "      <th>126</th>\n",
       "      <td>6.2</td>\n",
       "      <td>2.8</td>\n",
       "      <td>4.8</td>\n",
       "      <td>1.8</td>\n",
       "      <td>virginica</td>\n",
       "      <td>0</td>\n",
       "    </tr>\n",
       "    <tr>\n",
       "      <th>127</th>\n",
       "      <td>6.1</td>\n",
       "      <td>3.0</td>\n",
       "      <td>4.9</td>\n",
       "      <td>1.8</td>\n",
       "      <td>virginica</td>\n",
       "      <td>0</td>\n",
       "    </tr>\n",
       "    <tr>\n",
       "      <th>128</th>\n",
       "      <td>6.4</td>\n",
       "      <td>2.8</td>\n",
       "      <td>5.6</td>\n",
       "      <td>2.1</td>\n",
       "      <td>virginica</td>\n",
       "      <td>2</td>\n",
       "    </tr>\n",
       "    <tr>\n",
       "      <th>129</th>\n",
       "      <td>7.2</td>\n",
       "      <td>3.0</td>\n",
       "      <td>5.8</td>\n",
       "      <td>1.6</td>\n",
       "      <td>virginica</td>\n",
       "      <td>2</td>\n",
       "    </tr>\n",
       "    <tr>\n",
       "      <th>130</th>\n",
       "      <td>7.4</td>\n",
       "      <td>2.8</td>\n",
       "      <td>6.1</td>\n",
       "      <td>1.9</td>\n",
       "      <td>virginica</td>\n",
       "      <td>2</td>\n",
       "    </tr>\n",
       "    <tr>\n",
       "      <th>131</th>\n",
       "      <td>7.9</td>\n",
       "      <td>3.8</td>\n",
       "      <td>6.4</td>\n",
       "      <td>2.0</td>\n",
       "      <td>virginica</td>\n",
       "      <td>2</td>\n",
       "    </tr>\n",
       "    <tr>\n",
       "      <th>132</th>\n",
       "      <td>6.4</td>\n",
       "      <td>2.8</td>\n",
       "      <td>5.6</td>\n",
       "      <td>2.2</td>\n",
       "      <td>virginica</td>\n",
       "      <td>2</td>\n",
       "    </tr>\n",
       "    <tr>\n",
       "      <th>133</th>\n",
       "      <td>6.3</td>\n",
       "      <td>2.8</td>\n",
       "      <td>5.1</td>\n",
       "      <td>1.5</td>\n",
       "      <td>virginica</td>\n",
       "      <td>0</td>\n",
       "    </tr>\n",
       "    <tr>\n",
       "      <th>134</th>\n",
       "      <td>6.1</td>\n",
       "      <td>2.6</td>\n",
       "      <td>5.6</td>\n",
       "      <td>1.4</td>\n",
       "      <td>virginica</td>\n",
       "      <td>0</td>\n",
       "    </tr>\n",
       "    <tr>\n",
       "      <th>135</th>\n",
       "      <td>7.7</td>\n",
       "      <td>3.0</td>\n",
       "      <td>6.1</td>\n",
       "      <td>2.3</td>\n",
       "      <td>virginica</td>\n",
       "      <td>2</td>\n",
       "    </tr>\n",
       "    <tr>\n",
       "      <th>136</th>\n",
       "      <td>6.3</td>\n",
       "      <td>3.4</td>\n",
       "      <td>5.6</td>\n",
       "      <td>2.4</td>\n",
       "      <td>virginica</td>\n",
       "      <td>2</td>\n",
       "    </tr>\n",
       "    <tr>\n",
       "      <th>137</th>\n",
       "      <td>6.4</td>\n",
       "      <td>3.1</td>\n",
       "      <td>5.5</td>\n",
       "      <td>1.8</td>\n",
       "      <td>virginica</td>\n",
       "      <td>2</td>\n",
       "    </tr>\n",
       "    <tr>\n",
       "      <th>138</th>\n",
       "      <td>6.0</td>\n",
       "      <td>3.0</td>\n",
       "      <td>4.8</td>\n",
       "      <td>1.8</td>\n",
       "      <td>virginica</td>\n",
       "      <td>0</td>\n",
       "    </tr>\n",
       "    <tr>\n",
       "      <th>139</th>\n",
       "      <td>6.9</td>\n",
       "      <td>3.1</td>\n",
       "      <td>5.4</td>\n",
       "      <td>2.1</td>\n",
       "      <td>virginica</td>\n",
       "      <td>2</td>\n",
       "    </tr>\n",
       "    <tr>\n",
       "      <th>140</th>\n",
       "      <td>6.7</td>\n",
       "      <td>3.1</td>\n",
       "      <td>5.6</td>\n",
       "      <td>2.4</td>\n",
       "      <td>virginica</td>\n",
       "      <td>2</td>\n",
       "    </tr>\n",
       "    <tr>\n",
       "      <th>141</th>\n",
       "      <td>6.9</td>\n",
       "      <td>3.1</td>\n",
       "      <td>5.1</td>\n",
       "      <td>2.3</td>\n",
       "      <td>virginica</td>\n",
       "      <td>2</td>\n",
       "    </tr>\n",
       "    <tr>\n",
       "      <th>142</th>\n",
       "      <td>5.8</td>\n",
       "      <td>2.7</td>\n",
       "      <td>5.1</td>\n",
       "      <td>1.9</td>\n",
       "      <td>virginica</td>\n",
       "      <td>0</td>\n",
       "    </tr>\n",
       "    <tr>\n",
       "      <th>143</th>\n",
       "      <td>6.8</td>\n",
       "      <td>3.2</td>\n",
       "      <td>5.9</td>\n",
       "      <td>2.3</td>\n",
       "      <td>virginica</td>\n",
       "      <td>2</td>\n",
       "    </tr>\n",
       "    <tr>\n",
       "      <th>144</th>\n",
       "      <td>6.7</td>\n",
       "      <td>3.3</td>\n",
       "      <td>5.7</td>\n",
       "      <td>2.5</td>\n",
       "      <td>virginica</td>\n",
       "      <td>2</td>\n",
       "    </tr>\n",
       "    <tr>\n",
       "      <th>145</th>\n",
       "      <td>6.7</td>\n",
       "      <td>3.0</td>\n",
       "      <td>5.2</td>\n",
       "      <td>2.3</td>\n",
       "      <td>virginica</td>\n",
       "      <td>2</td>\n",
       "    </tr>\n",
       "    <tr>\n",
       "      <th>146</th>\n",
       "      <td>6.3</td>\n",
       "      <td>2.5</td>\n",
       "      <td>5.0</td>\n",
       "      <td>1.9</td>\n",
       "      <td>virginica</td>\n",
       "      <td>0</td>\n",
       "    </tr>\n",
       "    <tr>\n",
       "      <th>147</th>\n",
       "      <td>6.5</td>\n",
       "      <td>3.0</td>\n",
       "      <td>5.2</td>\n",
       "      <td>2.0</td>\n",
       "      <td>virginica</td>\n",
       "      <td>2</td>\n",
       "    </tr>\n",
       "    <tr>\n",
       "      <th>148</th>\n",
       "      <td>6.2</td>\n",
       "      <td>3.4</td>\n",
       "      <td>5.4</td>\n",
       "      <td>2.3</td>\n",
       "      <td>virginica</td>\n",
       "      <td>2</td>\n",
       "    </tr>\n",
       "    <tr>\n",
       "      <th>149</th>\n",
       "      <td>5.9</td>\n",
       "      <td>3.0</td>\n",
       "      <td>5.1</td>\n",
       "      <td>1.8</td>\n",
       "      <td>virginica</td>\n",
       "      <td>0</td>\n",
       "    </tr>\n",
       "  </tbody>\n",
       "</table>\n",
       "</div>"
      ],
      "text/plain": [
       "     sepal_length  sepal_width  petal_length  petal_width    species  cluster\n",
       "100           6.3          3.3           6.0          2.5  virginica        2\n",
       "101           5.8          2.7           5.1          1.9  virginica        0\n",
       "102           7.1          3.0           5.9          2.1  virginica        2\n",
       "103           6.3          2.9           5.6          1.8  virginica        2\n",
       "104           6.5          3.0           5.8          2.2  virginica        2\n",
       "105           7.6          3.0           6.6          2.1  virginica        2\n",
       "106           4.9          2.5           4.5          1.7  virginica        0\n",
       "107           7.3          2.9           6.3          1.8  virginica        2\n",
       "108           6.7          2.5           5.8          1.8  virginica        2\n",
       "109           7.2          3.6           6.1          2.5  virginica        2\n",
       "110           6.5          3.2           5.1          2.0  virginica        2\n",
       "111           6.4          2.7           5.3          1.9  virginica        2\n",
       "112           6.8          3.0           5.5          2.1  virginica        2\n",
       "113           5.7          2.5           5.0          2.0  virginica        0\n",
       "114           5.8          2.8           5.1          2.4  virginica        0\n",
       "115           6.4          3.2           5.3          2.3  virginica        2\n",
       "116           6.5          3.0           5.5          1.8  virginica        2\n",
       "117           7.7          3.8           6.7          2.2  virginica        2\n",
       "118           7.7          2.6           6.9          2.3  virginica        2\n",
       "119           6.0          2.2           5.0          1.5  virginica        0\n",
       "120           6.9          3.2           5.7          2.3  virginica        2\n",
       "121           5.6          2.8           4.9          2.0  virginica        0\n",
       "122           7.7          2.8           6.7          2.0  virginica        2\n",
       "123           6.3          2.7           4.9          1.8  virginica        0\n",
       "124           6.7          3.3           5.7          2.1  virginica        2\n",
       "125           7.2          3.2           6.0          1.8  virginica        2\n",
       "126           6.2          2.8           4.8          1.8  virginica        0\n",
       "127           6.1          3.0           4.9          1.8  virginica        0\n",
       "128           6.4          2.8           5.6          2.1  virginica        2\n",
       "129           7.2          3.0           5.8          1.6  virginica        2\n",
       "130           7.4          2.8           6.1          1.9  virginica        2\n",
       "131           7.9          3.8           6.4          2.0  virginica        2\n",
       "132           6.4          2.8           5.6          2.2  virginica        2\n",
       "133           6.3          2.8           5.1          1.5  virginica        0\n",
       "134           6.1          2.6           5.6          1.4  virginica        0\n",
       "135           7.7          3.0           6.1          2.3  virginica        2\n",
       "136           6.3          3.4           5.6          2.4  virginica        2\n",
       "137           6.4          3.1           5.5          1.8  virginica        2\n",
       "138           6.0          3.0           4.8          1.8  virginica        0\n",
       "139           6.9          3.1           5.4          2.1  virginica        2\n",
       "140           6.7          3.1           5.6          2.4  virginica        2\n",
       "141           6.9          3.1           5.1          2.3  virginica        2\n",
       "142           5.8          2.7           5.1          1.9  virginica        0\n",
       "143           6.8          3.2           5.9          2.3  virginica        2\n",
       "144           6.7          3.3           5.7          2.5  virginica        2\n",
       "145           6.7          3.0           5.2          2.3  virginica        2\n",
       "146           6.3          2.5           5.0          1.9  virginica        0\n",
       "147           6.5          3.0           5.2          2.0  virginica        2\n",
       "148           6.2          3.4           5.4          2.3  virginica        2\n",
       "149           5.9          3.0           5.1          1.8  virginica        0"
      ]
     },
     "execution_count": 16,
     "metadata": {},
     "output_type": "execute_result"
    }
   ],
   "source": [
    "iris[(iris.species == \"virginica\")]"
   ]
  },
  {
   "cell_type": "code",
   "execution_count": 17,
   "metadata": {},
   "outputs": [],
   "source": [
    "from scipy.cluster import hierarchy\n",
    "import matplotlib.pyplot as plt\n",
    "import numpy as np"
   ]
  },
  {
   "cell_type": "code",
   "execution_count": 18,
   "metadata": {},
   "outputs": [
    {
     "data": {
      "image/png": "[encoded data removed]",
      "text/plain": [
       "<Figure size 432x288 with 1 Axes>"
      ]
     },
     "metadata": {
      "needs_background": "light"
     },
     "output_type": "display_data"
    }
   ],
   "source": [
    "# example 2\n",
    "ytdist = np.array([662., 877., 255., 412., 996., 295., 468., 268.,\n",
    "                   400., 754., 564., 138., 219., 869., 669.])\n",
    "Z = hierarchy.linkage(ytdist, 'single')\n",
    "plt.figure()\n",
    "dn = hierarchy.dendrogram(Z)\n",
    "hierarchy.set_link_color_palette(['m', 'c', 'y', 'k'])\n",
    "#fig, axes = plt.subplots(1, 2, figsize=(8, 3))\n",
    "#dn1 = hierarchy.dendrogram(Z, ax=axes[0], above_threshold_color='y',orientation='top')\n",
    "#dn2 = hierarchy.dendrogram(Z, ax=axes[1],above_threshold_color='#bcbddc',orientation='right')\n",
    "#hierarchy.set_link_color_palette(None)\n",
    "plt.show()"
   ]
  },
  {
   "cell_type": "code",
   "execution_count": 19,
   "metadata": {},
   "outputs": [
    {
     "data": {
      "text/plain": [
       "array([[  2.,   5., 138.,   2.],\n",
       "       [  3.,   4., 219.,   2.],\n",
       "       [  0.,   7., 255.,   3.],\n",
       "       [  1.,   8., 268.,   4.],\n",
       "       [  6.,   9., 295.,   6.]])"
      ]
     },
     "execution_count": 19,
     "metadata": {},
     "output_type": "execute_result"
    }
   ],
   "source": [
    "Z"
   ]
  },
  {
   "cell_type": "code",
   "execution_count": 20,
   "metadata": {},
   "outputs": [
    {
     "data": {
      "text/plain": [
       "(15,)"
      ]
     },
     "execution_count": 20,
     "metadata": {},
     "output_type": "execute_result"
    }
   ],
   "source": [
    "ytdist.shape"
   ]
  },
  {
   "cell_type": "code",
   "execution_count": 21,
   "metadata": {},
   "outputs": [
    {
     "name": "stdout",
     "output_type": "stream",
     "text": [
      "[[1.  1. ]\n",
      " [3.  1. ]\n",
      " [2.5 2. ]]\n",
      "(3, 2)\n"
     ]
    }
   ],
   "source": [
    "x = np.array([1,1,3,1,2.5,2])\n",
    "x.resize(3,2)\n",
    "print(x)\n",
    "print(x.shape)"
   ]
  },
  {
   "cell_type": "code",
   "execution_count": 22,
   "metadata": {},
   "outputs": [
    {
     "name": "stdout",
     "output_type": "stream",
     "text": [
      "[[1.         2.         1.11803399 2.        ]\n",
      " [0.         3.         1.80277564 3.        ]]\n"
     ]
    }
   ],
   "source": [
    "y = hierarchy.linkage(x, 'single')\n",
    "print(y)"
   ]
  },
  {
   "cell_type": "code",
   "execution_count": 23,
   "metadata": {},
   "outputs": [
    {
     "name": "stdout",
     "output_type": "stream",
     "text": [
      "[2.         1.80277564 1.11803399]\n"
     ]
    }
   ],
   "source": [
    "from scipy.spatial.distance import pdist\n",
    "y = pdist(x)\n",
    "print(y)"
   ]
  },
  {
   "cell_type": "code",
   "execution_count": 24,
   "metadata": {},
   "outputs": [
    {
     "name": "stdout",
     "output_type": "stream",
     "text": [
      "[[1.         2.         1.11803399 2.        ]\n",
      " [0.         3.         1.80277564 3.        ]]\n"
     ]
    }
   ],
   "source": [
    "z = hierarchy.linkage(y, 'single')\n",
    "print(z)"
   ]
  },
  {
   "cell_type": "code",
   "execution_count": 25,
   "metadata": {},
   "outputs": [
    {
     "data": {
      "image/png": "[encoded data removed]",
      "text/plain": [
       "<Figure size 432x288 with 1 Axes>"
      ]
     },
     "metadata": {
      "needs_background": "light"
     },
     "output_type": "display_data"
    }
   ],
   "source": [
    "dn = hierarchy.dendrogram(z)\n",
    "hierarchy.set_link_color_palette(['m', 'c', 'y', 'k'])\n",
    "plt.show()"
   ]
  },
  {
   "cell_type": "code",
   "execution_count": 26,
   "metadata": {},
   "outputs": [
    {
     "data": {
      "image/png": "[encoded data removed]",
      "text/plain": [
       "<Figure size 432x288 with 1 Axes>"
      ]
     },
     "metadata": {
      "needs_background": "light"
     },
     "output_type": "display_data"
    }
   ],
   "source": [
    "#Examnple - 3\n",
    "import numpy as np\n",
    "ytdist = np.array([206, 429, 233, 1504, 1308, 1075, 963, 802, 671, \n",
    "                   1329, 2976, 2815, 2684, 3273, 2013, 3095, 2934, 2799,\n",
    "                   3053, 2142, 808, 2979, 2786, 2631, 2687, 2054, 1131,\n",
    "                   379, 1949, 1771, 1616, 2037, 996, 1307, 1235, 1059])\n",
    "from scipy.cluster import hierarchy\n",
    "Z = hierarchy.linkage(ytdist, 'single')\n",
    "plt.figure()\n",
    "dn = hierarchy.dendrogram(Z)\n",
    "hierarchy.set_link_color_palette(['m', 'c', 'y', 'k'])\n",
    "plt.show()"
   ]
  },
  {
   "cell_type": "code",
   "execution_count": 27,
   "metadata": {},
   "outputs": [
    {
     "data": {
      "text/plain": [
       "array([[0.000e+00, 1.000e+00, 2.060e+02, 2.000e+00],\n",
       "       [3.000e+00, 9.000e+00, 2.330e+02, 3.000e+00],\n",
       "       [4.000e+00, 6.000e+00, 3.790e+02, 2.000e+00],\n",
       "       [2.000e+00, 1.000e+01, 4.290e+02, 4.000e+00],\n",
       "       [8.000e+00, 1.200e+01, 8.020e+02, 5.000e+00],\n",
       "       [7.000e+00, 1.300e+01, 9.630e+02, 6.000e+00],\n",
       "       [5.000e+00, 1.400e+01, 9.960e+02, 7.000e+00],\n",
       "       [1.100e+01, 1.500e+01, 1.075e+03, 9.000e+00]])"
      ]
     },
     "execution_count": 27,
     "metadata": {},
     "output_type": "execute_result"
    }
   ],
   "source": [
    "Z"
   ]
  },
  {
   "cell_type": "code",
   "execution_count": null,
   "metadata": {},
   "outputs": [],
   "source": []
  }
 ],
 "metadata": {
  "kernelspec": {
   "display_name": "Python 3",
   "language": "python",
   "name": "python3"
  },
  "language_info": {
   "codemirror_mode": {
    "name": "ipython",
    "version": 3
   },
   "file_extension": ".py",
   "mimetype": "text/x-python",
   "name": "python",
   "nbconvert_exporter": "python",
   "pygments_lexer": "ipython3",
   "version": "3.7.2"
  }
 },
 "nbformat": 4,
 "nbformat_minor": 2
}
