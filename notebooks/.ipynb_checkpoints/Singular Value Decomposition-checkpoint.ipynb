{
 "cells": [
  {
   "cell_type": "markdown",
   "metadata": {},
   "source": [
    "# Singular Value Decomposition\n",
    "\n",
    "In this lesson, we will see a matrix decomposition method that is useful in many applications: **singular value decomposition, SVD**.  In data science, for example, SVD is useful to remove redundant features in the data, while keeping the essential ones. SVD leads to methods for obtaining a least squares solution to an overdetermined linear system of equations. It can be used for the compression of images (as we illustrate below), and also for noise reduction.\n",
    "\n",
    "SVD works for any non-square matrix $\\mathbf{A}$, as long as it is *diagonalizable*."
   ]
  },
  {
   "cell_type": "markdown",
   "metadata": {},
   "source": [
    "**SVD** states that **any** matrix $\\mathbf{A} \\in \\Re^{mxn}$ can be factorized as:\n",
    "\n",
    "$$\n",
    "\\mathbf{A} = \\mathbf{U} \\; \\mathbf{D} \\; \\mathbf{V^T}\n",
    "$$\n",
    "\n",
    "where $\\mathbf{U} = \\begin{pmatrix} \\rule[-1ex]{0.5pt}{2.5ex} & \\rule[-1ex]{0.5pt}{2.5ex} &  & \\rule[-1ex]{0.5pt}{2.5ex} \\\\ u_1 & u_2 & \\cdots & u_n \\\\ \\rule[-1ex]{0.5pt}{2.5ex} & \\rule[-1ex]{0.5pt}{2.5ex} &  & \\rule[-1ex]{0.5pt}{2.5ex} \\end{pmatrix}$ and $\\mathbf{V} = \\begin{pmatrix} \\rule[-1ex]{0.5pt}{2.5ex} & \\rule[-1ex]{0.5pt}{2.5ex} &  & \\rule[-1ex]{0.5pt}{2.5ex} \\\\ v_1 & v_2 & \\cdots & v_n \\\\ \\rule[-1ex]{0.5pt}{2.5ex} & \\rule[-1ex]{0.5pt}{2.5ex} &  & \\rule[-1ex]{0.5pt}{2.5ex} \\end{pmatrix}$ are the orthogonal matrices with orthonormal eigen vectors for $\\mathbf{A} \\mathbf{A}^T$ and $\\mathbf{A}^T \\mathbf{A}$ matrices respectively. $\\mathbf{D}$ is the diagonal matrix with elements equal to root of the eigen values, i.e. $\\sigma = \\sqrt{\\lambda}$. \n",
    "\n",
    "Since $\\mathbf{u}$ and $\\mathbf{v}$ are *orthonormal* vectors, therefore, the following equations hold:\n",
    "\n",
    "$$\n",
    "\\mathbf{U}^T \\mathbf{U} = \\mathbf{V}^T \\mathbf{V} = \\mathbf{I}\n",
    "$$"
   ]
  },
  {
   "cell_type": "markdown",
   "metadata": {},
   "source": [
    "### Proof (optional)\n",
    "\n",
    "Let's see how we solve for the singular values and vectors, given the above equations.\n",
    "\n",
    "We have 3 unknowns, $\\mathbf{U}$, $\\mathbf{D}$ and $\\mathbf{V}$, and 3 equations. We can write $\\mathbf{A}^T$ as:\n",
    "\n",
    "$$\n",
    "\\begin{align}\n",
    "\\mathbf{A}^T &= \\left ( \\mathbf{U} \\; \\mathbf{D} \\; \\mathbf{V}^T \\right )^T \\\\\n",
    "&= \\mathbf{V} \\; \\mathbf{D}^T \\; \\mathbf{U^T}, \\: \\: \\: \\textrm{from } \\left ( \\mathbf{A} \\mathbf{B} \\right )^T = \\mathbf{B}^T \\mathbf{A}^T \\\\\n",
    "&= \\mathbf{V} \\; \\mathbf{D} \\; \\mathbf{U^T}, \\: \\: \\: \\textrm{since D is a diagonal matrix}\n",
    "\\end{align}\n",
    "$$\n",
    "\n",
    "Let us compute the eigen vectors of $\\mathbf{A}^T \\mathbf{A}$.\n",
    "\n",
    "$$\n",
    "\\begin{align}\n",
    "\\mathbf{A}^T \\; \\mathbf{A} &= \\left (\\mathbf{V} \\; \\mathbf{D} \\; \\mathbf{U^T} \\right ) \\; \\mathbf{U} \\; \\mathbf{D} \\; \\mathbf{V}^T \\\\\n",
    "&= \\mathbf{V} \\; \\mathbf{D}^2 \\mathbf{V}^T\n",
    "\\end{align}\n",
    "$$\n",
    "\n",
    "The last equation is equivalent to *eigen-value decomposition*, $\\mathbf{A}^T \\mathbf{A} \\mathbf{V} = \\lambda^2 \\mathbf{V}$. Note, here the singular values($\\lambda^2$) are the eigen values of the matrix $\\mathbf{A}^T \\mathbf{A}$. We can essentially compute the eigen values and vectors for $\\mathbf{A}^T \\mathbf{A}$ to solve the unknowns above."
   ]
  },
  {
   "cell_type": "code",
   "execution_count": 1,
   "metadata": {},
   "outputs": [],
   "source": [
    "import numpy as np\n",
    "%matplotlib inline\n",
    "from matplotlib import pyplot as plt\n",
    "plt.rc('font', family='serif', size=5)"
   ]
  },
  {
   "cell_type": "markdown",
   "metadata": {},
   "source": [
    "### Build the decomposition\n",
    "\n",
    "If we use $\\mathbf{u}_1, \\mathbf{u}_2$ to denote the *normalized* `major` and `minor` vectors, use $\\,\\mathbf{s}_1, \\mathbf{s}_2$ to denote the lengths of `major` and `minor`, and use $\\mathbf{v}_1, \\mathbf{v}_2$ to denote the vectors `major_before` and `minor_before` (they are normalized already since they are on the unit circle), we can formulate the above observation as:\n",
    "\n",
    "$$\n",
    "\\begin{align*}\n",
    "  A \\mathbf{v}_1 = s_1 \\mathbf{u}_1 \\\\\n",
    "  A \\mathbf{v}_2 = s_2 \\mathbf{u}_2\n",
    "\\end{align*}\n",
    "$$\n",
    "\n",
    "Stacking the two equations together:\n",
    "\n",
    "$$\n",
    "  A \\begin{bmatrix}\n",
    "    \\mathbf{v}_1 & \\mathbf{v}_2\n",
    "    \\end{bmatrix}\n",
    "    =\n",
    "    \\begin{bmatrix}\n",
    "    \\mathbf{u}_1 & \\mathbf{u}_2\n",
    "    \\end{bmatrix}\n",
    "    \\begin{bmatrix}\n",
    "    s_1 & 0 \\\\\n",
    "    0 & s_2\n",
    "    \\end{bmatrix}  \n",
    "$$\n",
    "\n",
    "Using $V$ to denote $\\begin{bmatrix} \\mathbf{v}_1 & \\mathbf{v}_2 \\end{bmatrix}$, $U$ to denote $\\begin{bmatrix} \\mathbf{u}_1 & \\mathbf{u}_2 \\end{bmatrix}$ and $S$ to denote the diagonal scaling matrix, it becomes:\n",
    "\n",
    "$$\n",
    "  A\\, V = U\\, S\n",
    "$$\n",
    "\n",
    "Then right-multiply by $V^{-1}$ on both sides:\n",
    "\n",
    "$$\n",
    "  A = U\\, S\\, V^{-1}\n",
    "$$\n",
    "\n",
    "Since $\\mathbf{v}_1, \\mathbf{v}_2$ are orthogonal unit vectors, the matrix $V$ is an orthogonal matrix: $V^T = V^{-1}$ (as we saw in the previous lesson). The equation can also be re-written as:\n",
    "\n",
    "$$\n",
    "  A = U\\, S\\, V^{T}\n",
    "$$\n",
    "\n",
    "The columns of $U$ are called left singular vectors, the columns of $V$ are called right singular vectors, and the diagonal elements of $S$ are called singular values. Singular values are essentially **square root** of the eigen values."
   ]
  },
  {
   "cell_type": "markdown",
   "metadata": {},
   "source": [
    "## Compute SVD in Python\n",
    "\n",
    "You can compute the SVD of a matrix using [`numpy.linalg.svd()`](https://docs.scipy.org/doc/numpy/reference/generated/numpy.linalg.svd.html). It returns a tuple: the first element is a 2D array where each column is a left singular vector, the second element is a 1D array of the singular values, and the third element is a 2D array where each row is a right singular vector."
   ]
  },
  {
   "cell_type": "code",
   "execution_count": 2,
   "metadata": {},
   "outputs": [],
   "source": [
    "A = np.array([[1,0],[1,3]])\n",
    "U, S, VT = np.linalg.svd(A)"
   ]
  },
  {
   "cell_type": "code",
   "execution_count": 3,
   "metadata": {},
   "outputs": [
    {
     "name": "stdout",
     "output_type": "stream",
     "text": [
      "3.179586801558725 [0.10911677 0.99402894] [0.34694625 0.93788501]\n",
      "0.9435188240589356 [ 0.99402894 -0.10911677] [ 0.93788501 -0.34694625]\n"
     ]
    }
   ],
   "source": [
    "for u,s,v in zip(U, S, VT):\n",
    "    print(s, u, v)"
   ]
  },
  {
   "cell_type": "markdown",
   "metadata": {},
   "source": [
    "We can use the `np.allclose()` function to confirm that the decomposition is approximation of the matrix $\\mathbf{A}$."
   ]
  },
  {
   "cell_type": "code",
   "execution_count": 4,
   "metadata": {},
   "outputs": [
    {
     "name": "stdout",
     "output_type": "stream",
     "text": [
      "[[ 1.0000000e+00 -8.8817842e-16]\n",
      " [ 1.0000000e+00  3.0000000e+00]]\n",
      "True\n"
     ]
    }
   ],
   "source": [
    "A_svd = U @ np.diag(S) @ VT\n",
    "print(A_svd)\n",
    "print(np.allclose(A, A_svd))"
   ]
  },
  {
   "cell_type": "markdown",
   "metadata": {},
   "source": [
    "## Application to Image Compression\n",
    "\n",
    "Let's look at how we would go about applying **singular value decomposition** in python for image compression. In the below section, we'll attempt to classify handwritten digits."
   ]
  },
  {
   "cell_type": "code",
   "execution_count": 5,
   "metadata": {},
   "outputs": [],
   "source": [
    "# Load required libraries\n",
    "from sklearn.datasets import load_digits"
   ]
  },
  {
   "cell_type": "code",
   "execution_count": 6,
   "metadata": {},
   "outputs": [],
   "source": [
    "X, y = load_digits(return_X_y=True)"
   ]
  },
  {
   "cell_type": "code",
   "execution_count": 7,
   "metadata": {},
   "outputs": [
    {
     "data": {
      "text/plain": [
       "64"
      ]
     },
     "execution_count": 7,
     "metadata": {},
     "output_type": "execute_result"
    }
   ],
   "source": [
    "X[0].size"
   ]
  },
  {
   "cell_type": "code",
   "execution_count": 8,
   "metadata": {
    "scrolled": true
   },
   "outputs": [
    {
     "data": {
      "image/png": "[encoded data removed]",
      "text/plain": [
       "<Figure size 432x288 with 1 Axes>"
      ]
     },
     "metadata": {
      "needs_background": "light"
     },
     "output_type": "display_data"
    }
   ],
   "source": [
    "idx = np.random.randint(len(y))\n",
    "plt.imshow(X[idx].reshape((8,8)), cmap=plt.cm.gray)\n",
    "plt.title(\"digit: {}\".format(y[idx]))\n",
    "plt.show()"
   ]
  },
  {
   "cell_type": "markdown",
   "metadata": {},
   "source": [
    "Without compression, the square image requires space $8^2$ integers. With a rank-*k* approximation, we would only store the truncated **SVD** components: $8k$ integers for $U$, $k$ integers for $S$ and another $8k$ integers for $V^T$. The compression ratio is therefore:\n",
    "\n",
    "$$\n",
    "\\text{compression ratio}= \\frac{8^2}{8k + k + 8k}\n",
    "$$\n",
    "\n",
    "This ratio should be greater than 1, namely $k$ should be less than 4. Otherwise, we deviate from the goal of compression."
   ]
  },
  {
   "cell_type": "markdown",
   "metadata": {},
   "source": [
    "Let us see using **singular value decomposition** whether we are able to reconstruct the image using only $k=2$ features for each row."
   ]
  },
  {
   "cell_type": "code",
   "execution_count": 9,
   "metadata": {},
   "outputs": [
    {
     "data": {
      "text/plain": [
       "array([[58.76641561,  0.        ,  0.        ,  0.        ,  0.        ,\n",
       "         0.        ,  0.        ,  0.        ],\n",
       "       [ 0.        , 24.1877573 ,  0.        ,  0.        ,  0.        ,\n",
       "         0.        ,  0.        ,  0.        ],\n",
       "       [ 0.        ,  0.        , 15.89338771,  0.        ,  0.        ,\n",
       "         0.        ,  0.        ,  0.        ],\n",
       "       [ 0.        ,  0.        ,  0.        ,  7.62699903,  0.        ,\n",
       "         0.        ,  0.        ,  0.        ],\n",
       "       [ 0.        ,  0.        ,  0.        ,  0.        ,  5.23109513,\n",
       "         0.        ,  0.        ,  0.        ],\n",
       "       [ 0.        ,  0.        ,  0.        ,  0.        ,  0.        ,\n",
       "         2.07979552,  0.        ,  0.        ],\n",
       "       [ 0.        ,  0.        ,  0.        ,  0.        ,  0.        ,\n",
       "         0.        ,  0.        ,  0.        ],\n",
       "       [ 0.        ,  0.        ,  0.        ,  0.        ,  0.        ,\n",
       "         0.        ,  0.        ,  0.        ]])"
      ]
     },
     "execution_count": 9,
     "metadata": {},
     "output_type": "execute_result"
    }
   ],
   "source": [
    "image = X[idx].reshape((8,8))\n",
    "U, S, VT = np.linalg.svd(image)\n",
    "Sdiag = np.diag(S)\n",
    "Sdiag"
   ]
  },
  {
   "cell_type": "code",
   "execution_count": 21,
   "metadata": {},
   "outputs": [
    {
     "name": "stdout",
     "output_type": "stream",
     "text": [
      "[[ 0.  0. 12. 16. 16. 16.  7.  0.]\n",
      " [ 0.  1. 14. 15.  6.  4.  1.  0.]\n",
      " [ 0.  8. 16.  2.  0. -0.  0.  0.]\n",
      " [ 0.  9. 16. 12. 12.  9.  1.  0.]\n",
      " [ 0.  1.  8.  8.  8. 15. 10.  0.]\n",
      " [ 0. -0. -0. -0.  0. 13. 12.  0.]\n",
      " [ 0.  0.  8.  2.  6. 16.  5.  0.]\n",
      " [ 0.  1. 11. 16. 16.  8.  0.  0.]]\n"
     ]
    },
    {
     "data": {
      "image/png": "[encoded data removed]",
      "text/plain": [
       "<Figure size 288x144 with 2 Axes>"
      ]
     },
     "metadata": {
      "needs_background": "light"
     },
     "output_type": "display_data"
    }
   ],
   "source": [
    "# Take k=2 components only.\n",
    "k = 10\n",
    "U_k = U[:,:k]\n",
    "S_k = Sdiag[:k, :k]\n",
    "VT_k = VT[:k, :]\n",
    "\n",
    "imageC = np.round(U_k @ S_k @ VT_k)\n",
    "print(imageC)\n",
    "\n",
    "fig = plt.figure(figsize=(4,2))\n",
    "ax1 = plt.subplot(121)\n",
    "ax1.imshow(imageC,cmap='gray')\n",
    "ax1.set_title(\"compressed image {}\".format(y[idx]))\n",
    "ax2 = plt.subplot(122)\n",
    "ax2.imshow(image, cmap='gray')\n",
    "ax2.set_title(\"original image {}\".format(y[idx]))\n",
    "plt.show()"
   ]
  },
  {
   "cell_type": "code",
   "execution_count": 11,
   "metadata": {},
   "outputs": [
    {
     "name": "stdout",
     "output_type": "stream",
     "text": [
      "Compression ratio: 1.88\n"
     ]
    }
   ],
   "source": [
    "#Compression ratio\n",
    "ratio = image.size / (U_k.size + S_k.shape[0] + VT_k.size)\n",
    "print(\"Compression ratio: {:.2f}\".format(ratio))"
   ]
  },
  {
   "cell_type": "markdown",
   "metadata": {},
   "source": [
    "Using [`sklearn.decomposition.TruncatedSVD`](https://scikit-learn.org/stable/modules/generated/sklearn.decomposition.TruncatedSVD.html) you can use singular value decomposition on practical datasets.\n",
    "\n",
    "### Note:\n",
    "Truncated SVD works on term count/tf-idf matrices. In this context, it is also known as **latent semantic analysis (LSA)**."
   ]
  },
  {
   "cell_type": "code",
   "execution_count": 12,
   "metadata": {},
   "outputs": [],
   "source": [
    "from sklearn.decomposition import TruncatedSVD"
   ]
  },
  {
   "cell_type": "code",
   "execution_count": 13,
   "metadata": {},
   "outputs": [
    {
     "data": {
      "text/plain": [
       "(1797, 64)"
      ]
     },
     "execution_count": 13,
     "metadata": {},
     "output_type": "execute_result"
    }
   ],
   "source": [
    "svd = TruncatedSVD(n_components=20, random_state=42)\n",
    "\n",
    "X_svd = svd.fit_transform(X)\n",
    "X.shape"
   ]
  },
  {
   "cell_type": "code",
   "execution_count": 14,
   "metadata": {},
   "outputs": [],
   "source": [
    "X_svd = X_svd[:,np.newaxis]"
   ]
  },
  {
   "cell_type": "markdown",
   "metadata": {},
   "source": [
    "Notice, each image is reduced to 2 features."
   ]
  },
  {
   "cell_type": "code",
   "execution_count": 15,
   "metadata": {},
   "outputs": [
    {
     "data": {
      "text/plain": [
       "array([2193.11933683,  566.99677184,  542.00493276,  504.1516975 ,\n",
       "        425.59296526,  353.21824689,  320.3758358 ,  302.07440988,\n",
       "        279.55696499,  268.51944652,  228.65577044,  224.16478954,\n",
       "        207.59614516,  197.0120332 ,  185.78753275,  174.75246298,\n",
       "        170.84804177,  165.44981796,  148.26817998,  144.93403007])"
      ]
     },
     "execution_count": 15,
     "metadata": {},
     "output_type": "execute_result"
    }
   ],
   "source": [
    "svd.singular_values_"
   ]
  },
  {
   "cell_type": "markdown",
   "metadata": {},
   "source": [
    "Plot the singular values."
   ]
  },
  {
   "cell_type": "code",
   "execution_count": 16,
   "metadata": {},
   "outputs": [
    {
     "data": {
      "image/png": "[encoded data removed]",
      "text/plain": [
       "<Figure size 216x216 with 1 Axes>"
      ]
     },
     "metadata": {
      "needs_background": "light"
     },
     "output_type": "display_data"
    }
   ],
   "source": [
    "S = svd.singular_values_\n",
    "\n",
    "fig = plt.figure(figsize=(3,3))\n",
    "plt.scatter(list(range(len(S))), S, lw=2)\n",
    "plt.xticks(np.linspace(0,20,3))\n",
    "plt.yscale('log')\n",
    "plt.ylabel('singular values')\n",
    "plt.show()"
   ]
  },
  {
   "cell_type": "code",
   "execution_count": 17,
   "metadata": {},
   "outputs": [
    {
     "data": {
      "text/plain": [
       "(20, 64)"
      ]
     },
     "execution_count": 17,
     "metadata": {},
     "output_type": "execute_result"
    }
   ],
   "source": [
    "svd.components_.shape"
   ]
  },
  {
   "cell_type": "code",
   "execution_count": 18,
   "metadata": {},
   "outputs": [
    {
     "data": {
      "image/png": "[encoded data removed]",
      "text/plain": [
       "<Figure size 288x144 with 2 Axes>"
      ]
     },
     "metadata": {
      "needs_background": "light"
     },
     "output_type": "display_data"
    }
   ],
   "source": [
    "imageC = svd.inverse_transform(X_svd[idx]).reshape((8,8))\n",
    "\n",
    "fig = plt.figure(figsize=(4,2))\n",
    "ax1 = plt.subplot(121)\n",
    "ax1.imshow(imageC, cmap='gray')\n",
    "ax1.set_title('compressed image')\n",
    "ax2 = plt.subplot(122)\n",
    "ax2.imshow(X[idx].reshape((8,8)), cmap='gray')\n",
    "ax2.set_title('original image: {}'.format(y[idx]))\n",
    "plt.show()"
   ]
  },
  {
   "cell_type": "markdown",
   "metadata": {},
   "source": [
    "`svd.explained_variance_ratio_` property gives the percentage of variance transformed by a projection to each component."
   ]
  },
  {
   "cell_type": "code",
   "execution_count": 19,
   "metadata": {},
   "outputs": [
    {
     "data": {
      "text/plain": [
       "array([0.02870851, 0.1489005 , 0.13605748, 0.11771282, 0.0838876 ,\n",
       "       0.0577855 , 0.04752737, 0.04225609, 0.03619554, 0.03339511,\n",
       "       0.02421063, 0.02327175, 0.01994783, 0.01797684, 0.01598108,\n",
       "       0.01414419, 0.01351817, 0.01267798, 0.0101819 , 0.00972512])"
      ]
     },
     "execution_count": 19,
     "metadata": {},
     "output_type": "execute_result"
    }
   ],
   "source": [
    "svd.explained_variance_ratio_"
   ]
  },
  {
   "cell_type": "code",
   "execution_count": 20,
   "metadata": {},
   "outputs": [
    {
     "data": {
      "text/plain": [
       "0.8940620147589284"
      ]
     },
     "execution_count": 20,
     "metadata": {},
     "output_type": "execute_result"
    }
   ],
   "source": [
    "svd.explained_variance_ratio_.sum()"
   ]
  },
  {
   "cell_type": "markdown",
   "metadata": {},
   "source": [
    "<div class=\"alert alert-block alert-success\">\n",
    "    <b> EXCERCISE: </b>\n",
    "    \n",
    "   <ul>\n",
    "    <li> Find the best poly-line that fits the singular values. Plot the \"best-fit\" poly-line over the singular values plot. </li>\n",
    "    <li> Obiviously, the reconstructed image quality degrades as we reduce the number of components. Can you quantify how much it will degrade based on the number of components. </li>\n",
    "    </ul>\n",
    "</div>"
   ]
  },
  {
   "cell_type": "markdown",
   "metadata": {},
   "source": [
    "### Additional Excercise\n",
    "\n",
    "To visualize the singular values and vectors, you can use the `sklearn.fetch_olivetti_faces` dataset. Load the original faces dataset, select a desired number of components and generate the reconstructed image. What are the best reconstructions you can generate ? What is the compression ratio for the same ? \n",
    "\n",
    "**Hint**: You can load the faces dataset using the following code cells. Each face image is 64-by-64 pixels."
   ]
  },
  {
   "cell_type": "code",
   "execution_count": 22,
   "metadata": {},
   "outputs": [
    {
     "name": "stdout",
     "output_type": "stream",
     "text": [
      "downloading Olivetti faces from https://ndownloader.figshare.com/files/5976027 to C:\\Users\\Abc\\scikit_learn_data\n",
      "(400, 4096)\n",
      "(400,)\n"
     ]
    }
   ],
   "source": [
    "from sklearn.datasets import fetch_olivetti_faces\n",
    "\n",
    "X, y = fetch_olivetti_faces(return_X_y=True, random_state=42)\n",
    "print(X.shape)\n",
    "print(y.shape)"
   ]
  },
  {
   "cell_type": "code",
   "execution_count": 25,
   "metadata": {},
   "outputs": [
    {
     "data": {
      "image/png": "[encoded data removed]",
      "text/plain": [
       "<Figure size 360x360 with 1 Axes>"
      ]
     },
     "metadata": {},
     "output_type": "display_data"
    }
   ],
   "source": [
    "sample_image = X[0].reshape(64,64) \n",
    "fig = plt.figure(figsize=(5,5))\n",
    "plt.imshow(sample_image, cmap=plt.cm.gray)\n",
    "plt.xticks([])\n",
    "plt.yticks([])\n",
    "plt.show()"
   ]
  }
 ],
 "metadata": {
  "kernelspec": {
   "display_name": "Python 3",
   "language": "python",
   "name": "python3"
  },
  "language_info": {
   "codemirror_mode": {
    "name": "ipython",
    "version": 3
   },
   "file_extension": ".py",
   "mimetype": "text/x-python",
   "name": "python",
   "nbconvert_exporter": "python",
   "pygments_lexer": "ipython3",
   "version": "3.7.2"
  }
 },
 "nbformat": 4,
 "nbformat_minor": 2
}
