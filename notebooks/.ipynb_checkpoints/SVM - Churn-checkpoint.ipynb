{
 "cells": [
  {
   "cell_type": "code",
   "execution_count": 1,
   "metadata": {},
   "outputs": [],
   "source": [
    "# The following code includes SVM classifier\n",
    "# best parameters are identified using grid search with cross validation"
   ]
  },
  {
   "cell_type": "code",
   "execution_count": 2,
   "metadata": {},
   "outputs": [
    {
     "name": "stdout",
     "output_type": "stream",
     "text": [
      "D:\\Teaching\\Python-Tutorial\\notebooks\n"
     ]
    }
   ],
   "source": [
    "import os\n",
    "print (os.getcwd())\n",
    "# os.chdir(\"C:\\Digital Nest\\Decision Trees\")\n",
    "# print (os.getcwd())"
   ]
  },
  {
   "cell_type": "code",
   "execution_count": 3,
   "metadata": {},
   "outputs": [
    {
     "data": {
      "text/html": [
       "<div>\n",
       "<style scoped>\n",
       "    .dataframe tbody tr th:only-of-type {\n",
       "        vertical-align: middle;\n",
       "    }\n",
       "\n",
       "    .dataframe tbody tr th {\n",
       "        vertical-align: top;\n",
       "    }\n",
       "\n",
       "    .dataframe thead th {\n",
       "        text-align: right;\n",
       "    }\n",
       "</style>\n",
       "<table border=\"1\" class=\"dataframe\">\n",
       "  <thead>\n",
       "    <tr style=\"text-align: right;\">\n",
       "      <th></th>\n",
       "      <th>AccountLength</th>\n",
       "      <th>AreaCode</th>\n",
       "      <th>IntlPlan</th>\n",
       "      <th>VMailPlan</th>\n",
       "      <th>VMailMessage</th>\n",
       "      <th>DayMins</th>\n",
       "      <th>DayCalls</th>\n",
       "      <th>DayCharge</th>\n",
       "      <th>EveMins</th>\n",
       "      <th>EveCalls</th>\n",
       "      <th>EveCharge</th>\n",
       "      <th>NightMins</th>\n",
       "      <th>NightCalls</th>\n",
       "      <th>NightCharge</th>\n",
       "      <th>IntlMins</th>\n",
       "      <th>IntlCalls</th>\n",
       "      <th>IntlCharge</th>\n",
       "      <th>CusServCalls</th>\n",
       "      <th>Churn</th>\n",
       "    </tr>\n",
       "  </thead>\n",
       "  <tbody>\n",
       "    <tr>\n",
       "      <th>count</th>\n",
       "      <td>3333.000000</td>\n",
       "      <td>3333.000000</td>\n",
       "      <td>3333.000000</td>\n",
       "      <td>3333.000000</td>\n",
       "      <td>3333.000000</td>\n",
       "      <td>3333.000000</td>\n",
       "      <td>3333.000000</td>\n",
       "      <td>3333.000000</td>\n",
       "      <td>3333.000000</td>\n",
       "      <td>3333.000000</td>\n",
       "      <td>3333.000000</td>\n",
       "      <td>3333.000000</td>\n",
       "      <td>3333.000000</td>\n",
       "      <td>3333.000000</td>\n",
       "      <td>3333.000000</td>\n",
       "      <td>3333.000000</td>\n",
       "      <td>3333.000000</td>\n",
       "      <td>3333.000000</td>\n",
       "      <td>3333.000000</td>\n",
       "    </tr>\n",
       "    <tr>\n",
       "      <th>mean</th>\n",
       "      <td>101.064806</td>\n",
       "      <td>437.182418</td>\n",
       "      <td>0.096910</td>\n",
       "      <td>0.276628</td>\n",
       "      <td>8.099010</td>\n",
       "      <td>179.775098</td>\n",
       "      <td>100.435644</td>\n",
       "      <td>30.562307</td>\n",
       "      <td>200.980348</td>\n",
       "      <td>100.114311</td>\n",
       "      <td>17.083540</td>\n",
       "      <td>200.872037</td>\n",
       "      <td>100.107711</td>\n",
       "      <td>9.039325</td>\n",
       "      <td>10.237294</td>\n",
       "      <td>4.479448</td>\n",
       "      <td>2.764581</td>\n",
       "      <td>1.562856</td>\n",
       "      <td>0.144914</td>\n",
       "    </tr>\n",
       "    <tr>\n",
       "      <th>std</th>\n",
       "      <td>39.822106</td>\n",
       "      <td>42.371290</td>\n",
       "      <td>0.295879</td>\n",
       "      <td>0.447398</td>\n",
       "      <td>13.688365</td>\n",
       "      <td>54.467389</td>\n",
       "      <td>20.069084</td>\n",
       "      <td>9.259435</td>\n",
       "      <td>50.713844</td>\n",
       "      <td>19.922625</td>\n",
       "      <td>4.310668</td>\n",
       "      <td>50.573847</td>\n",
       "      <td>19.568609</td>\n",
       "      <td>2.275873</td>\n",
       "      <td>2.791840</td>\n",
       "      <td>2.461214</td>\n",
       "      <td>0.753773</td>\n",
       "      <td>1.315491</td>\n",
       "      <td>0.352067</td>\n",
       "    </tr>\n",
       "    <tr>\n",
       "      <th>min</th>\n",
       "      <td>1.000000</td>\n",
       "      <td>408.000000</td>\n",
       "      <td>0.000000</td>\n",
       "      <td>0.000000</td>\n",
       "      <td>0.000000</td>\n",
       "      <td>0.000000</td>\n",
       "      <td>0.000000</td>\n",
       "      <td>0.000000</td>\n",
       "      <td>0.000000</td>\n",
       "      <td>0.000000</td>\n",
       "      <td>0.000000</td>\n",
       "      <td>23.200000</td>\n",
       "      <td>33.000000</td>\n",
       "      <td>1.040000</td>\n",
       "      <td>0.000000</td>\n",
       "      <td>0.000000</td>\n",
       "      <td>0.000000</td>\n",
       "      <td>0.000000</td>\n",
       "      <td>0.000000</td>\n",
       "    </tr>\n",
       "    <tr>\n",
       "      <th>25%</th>\n",
       "      <td>74.000000</td>\n",
       "      <td>408.000000</td>\n",
       "      <td>0.000000</td>\n",
       "      <td>0.000000</td>\n",
       "      <td>0.000000</td>\n",
       "      <td>143.700000</td>\n",
       "      <td>87.000000</td>\n",
       "      <td>24.430000</td>\n",
       "      <td>166.600000</td>\n",
       "      <td>87.000000</td>\n",
       "      <td>14.160000</td>\n",
       "      <td>167.000000</td>\n",
       "      <td>87.000000</td>\n",
       "      <td>7.520000</td>\n",
       "      <td>8.500000</td>\n",
       "      <td>3.000000</td>\n",
       "      <td>2.300000</td>\n",
       "      <td>1.000000</td>\n",
       "      <td>0.000000</td>\n",
       "    </tr>\n",
       "    <tr>\n",
       "      <th>50%</th>\n",
       "      <td>101.000000</td>\n",
       "      <td>415.000000</td>\n",
       "      <td>0.000000</td>\n",
       "      <td>0.000000</td>\n",
       "      <td>0.000000</td>\n",
       "      <td>179.400000</td>\n",
       "      <td>101.000000</td>\n",
       "      <td>30.500000</td>\n",
       "      <td>201.400000</td>\n",
       "      <td>100.000000</td>\n",
       "      <td>17.120000</td>\n",
       "      <td>201.200000</td>\n",
       "      <td>100.000000</td>\n",
       "      <td>9.050000</td>\n",
       "      <td>10.300000</td>\n",
       "      <td>4.000000</td>\n",
       "      <td>2.780000</td>\n",
       "      <td>1.000000</td>\n",
       "      <td>0.000000</td>\n",
       "    </tr>\n",
       "    <tr>\n",
       "      <th>75%</th>\n",
       "      <td>127.000000</td>\n",
       "      <td>510.000000</td>\n",
       "      <td>0.000000</td>\n",
       "      <td>1.000000</td>\n",
       "      <td>20.000000</td>\n",
       "      <td>216.400000</td>\n",
       "      <td>114.000000</td>\n",
       "      <td>36.790000</td>\n",
       "      <td>235.300000</td>\n",
       "      <td>114.000000</td>\n",
       "      <td>20.000000</td>\n",
       "      <td>235.300000</td>\n",
       "      <td>113.000000</td>\n",
       "      <td>10.590000</td>\n",
       "      <td>12.100000</td>\n",
       "      <td>6.000000</td>\n",
       "      <td>3.270000</td>\n",
       "      <td>2.000000</td>\n",
       "      <td>0.000000</td>\n",
       "    </tr>\n",
       "    <tr>\n",
       "      <th>max</th>\n",
       "      <td>243.000000</td>\n",
       "      <td>510.000000</td>\n",
       "      <td>1.000000</td>\n",
       "      <td>1.000000</td>\n",
       "      <td>51.000000</td>\n",
       "      <td>350.800000</td>\n",
       "      <td>165.000000</td>\n",
       "      <td>59.640000</td>\n",
       "      <td>363.700000</td>\n",
       "      <td>170.000000</td>\n",
       "      <td>30.910000</td>\n",
       "      <td>395.000000</td>\n",
       "      <td>175.000000</td>\n",
       "      <td>17.770000</td>\n",
       "      <td>20.000000</td>\n",
       "      <td>20.000000</td>\n",
       "      <td>5.400000</td>\n",
       "      <td>9.000000</td>\n",
       "      <td>1.000000</td>\n",
       "    </tr>\n",
       "  </tbody>\n",
       "</table>\n",
       "</div>"
      ],
      "text/plain": [
       "       AccountLength     AreaCode     IntlPlan    VMailPlan  VMailMessage  \\\n",
       "count    3333.000000  3333.000000  3333.000000  3333.000000   3333.000000   \n",
       "mean      101.064806   437.182418     0.096910     0.276628      8.099010   \n",
       "std        39.822106    42.371290     0.295879     0.447398     13.688365   \n",
       "min         1.000000   408.000000     0.000000     0.000000      0.000000   \n",
       "25%        74.000000   408.000000     0.000000     0.000000      0.000000   \n",
       "50%       101.000000   415.000000     0.000000     0.000000      0.000000   \n",
       "75%       127.000000   510.000000     0.000000     1.000000     20.000000   \n",
       "max       243.000000   510.000000     1.000000     1.000000     51.000000   \n",
       "\n",
       "           DayMins     DayCalls    DayCharge      EveMins     EveCalls  \\\n",
       "count  3333.000000  3333.000000  3333.000000  3333.000000  3333.000000   \n",
       "mean    179.775098   100.435644    30.562307   200.980348   100.114311   \n",
       "std      54.467389    20.069084     9.259435    50.713844    19.922625   \n",
       "min       0.000000     0.000000     0.000000     0.000000     0.000000   \n",
       "25%     143.700000    87.000000    24.430000   166.600000    87.000000   \n",
       "50%     179.400000   101.000000    30.500000   201.400000   100.000000   \n",
       "75%     216.400000   114.000000    36.790000   235.300000   114.000000   \n",
       "max     350.800000   165.000000    59.640000   363.700000   170.000000   \n",
       "\n",
       "         EveCharge    NightMins   NightCalls  NightCharge     IntlMins  \\\n",
       "count  3333.000000  3333.000000  3333.000000  3333.000000  3333.000000   \n",
       "mean     17.083540   200.872037   100.107711     9.039325    10.237294   \n",
       "std       4.310668    50.573847    19.568609     2.275873     2.791840   \n",
       "min       0.000000    23.200000    33.000000     1.040000     0.000000   \n",
       "25%      14.160000   167.000000    87.000000     7.520000     8.500000   \n",
       "50%      17.120000   201.200000   100.000000     9.050000    10.300000   \n",
       "75%      20.000000   235.300000   113.000000    10.590000    12.100000   \n",
       "max      30.910000   395.000000   175.000000    17.770000    20.000000   \n",
       "\n",
       "         IntlCalls   IntlCharge  CusServCalls        Churn  \n",
       "count  3333.000000  3333.000000   3333.000000  3333.000000  \n",
       "mean      4.479448     2.764581      1.562856     0.144914  \n",
       "std       2.461214     0.753773      1.315491     0.352067  \n",
       "min       0.000000     0.000000      0.000000     0.000000  \n",
       "25%       3.000000     2.300000      1.000000     0.000000  \n",
       "50%       4.000000     2.780000      1.000000     0.000000  \n",
       "75%       6.000000     3.270000      2.000000     0.000000  \n",
       "max      20.000000     5.400000      9.000000     1.000000  "
      ]
     },
     "execution_count": 3,
     "metadata": {},
     "output_type": "execute_result"
    }
   ],
   "source": [
    "import numpy as np\n",
    "import pandas as pd\n",
    "churn = pd.read_csv('../data/Churn.csv')\n",
    "churn.describe()"
   ]
  },
  {
   "cell_type": "code",
   "execution_count": 4,
   "metadata": {},
   "outputs": [
    {
     "data": {
      "text/plain": [
       "(array([0, 1], dtype=int64), array([2850,  483]))"
      ]
     },
     "execution_count": 4,
     "metadata": {},
     "output_type": "execute_result"
    }
   ],
   "source": [
    "# target class ratio\n",
    "np.unique(churn.Churn,return_counts=True)"
   ]
  },
  {
   "cell_type": "code",
   "execution_count": 5,
   "metadata": {},
   "outputs": [
    {
     "data": {
      "text/plain": [
       "0.8550855085508551"
      ]
     },
     "execution_count": 5,
     "metadata": {},
     "output_type": "execute_result"
    }
   ],
   "source": [
    "2850/(2850+483)"
   ]
  },
  {
   "cell_type": "code",
   "execution_count": 6,
   "metadata": {},
   "outputs": [
    {
     "data": {
      "text/plain": [
       "array(['State', 'AccountLength', 'AreaCode', 'Phone', 'IntlPlan',\n",
       "       'VMailPlan', 'VMailMessage', 'DayMins', 'DayCalls', 'DayCharge',\n",
       "       'EveMins', 'EveCalls', 'EveCharge', 'NightMins', 'NightCalls',\n",
       "       'NightCharge', 'IntlMins', 'IntlCalls', 'IntlCharge',\n",
       "       'CusServCalls', 'Churn'], dtype=object)"
      ]
     },
     "execution_count": 6,
     "metadata": {},
     "output_type": "execute_result"
    }
   ],
   "source": [
    "churn.columns.values"
   ]
  },
  {
   "cell_type": "code",
   "execution_count": 7,
   "metadata": {},
   "outputs": [
    {
     "data": {
      "text/plain": [
       "False"
      ]
     },
     "execution_count": 7,
     "metadata": {},
     "output_type": "execute_result"
    }
   ],
   "source": [
    "# check if any NA values\n",
    "churn.isnull().values.any()"
   ]
  },
  {
   "cell_type": "code",
   "execution_count": 8,
   "metadata": {},
   "outputs": [
    {
     "data": {
      "text/plain": [
       "array([[1.        , 0.99999995],\n",
       "       [0.99999995, 1.        ]])"
      ]
     },
     "execution_count": 8,
     "metadata": {},
     "output_type": "execute_result"
    }
   ],
   "source": [
    "# find out corrleation between day charge and day minutes\n",
    "np.corrcoef(churn.DayMins,churn.DayCharge)"
   ]
  },
  {
   "cell_type": "code",
   "execution_count": 9,
   "metadata": {},
   "outputs": [
    {
     "data": {
      "text/plain": [
       "array([[1.        , 0.99999978],\n",
       "       [0.99999978, 1.        ]])"
      ]
     },
     "execution_count": 9,
     "metadata": {},
     "output_type": "execute_result"
    }
   ],
   "source": [
    "np.corrcoef(churn.EveMins,churn.EveCharge)"
   ]
  },
  {
   "cell_type": "code",
   "execution_count": 10,
   "metadata": {},
   "outputs": [
    {
     "data": {
      "text/plain": [
       "array([[1.        , 0.99999921],\n",
       "       [0.99999921, 1.        ]])"
      ]
     },
     "execution_count": 10,
     "metadata": {},
     "output_type": "execute_result"
    }
   ],
   "source": [
    "np.corrcoef(churn.NightMins,churn.NightCharge)"
   ]
  },
  {
   "cell_type": "code",
   "execution_count": 11,
   "metadata": {},
   "outputs": [
    {
     "data": {
      "text/plain": [
       "array([[1.        , 0.99999274],\n",
       "       [0.99999274, 1.        ]])"
      ]
     },
     "execution_count": 11,
     "metadata": {},
     "output_type": "execute_result"
    }
   ],
   "source": [
    "np.corrcoef(churn.IntlMins,churn.IntlCharge)"
   ]
  },
  {
   "cell_type": "code",
   "execution_count": 12,
   "metadata": {},
   "outputs": [
    {
     "data": {
      "text/plain": [
       "array([[1.        , 0.00675296],\n",
       "       [0.00675296, 1.        ]])"
      ]
     },
     "execution_count": 12,
     "metadata": {},
     "output_type": "execute_result"
    }
   ],
   "source": [
    "np.corrcoef(churn.DayCalls,churn.DayCharge)"
   ]
  },
  {
   "cell_type": "code",
   "execution_count": 13,
   "metadata": {},
   "outputs": [
    {
     "name": "stdout",
     "output_type": "stream",
     "text": [
      "count    3333.000000\n",
      "mean        0.144914\n",
      "std         0.352067\n",
      "min         0.000000\n",
      "25%         0.000000\n",
      "50%         0.000000\n",
      "75%         0.000000\n",
      "max         1.000000\n",
      "Name: Churn, dtype: float64\n",
      "(3333, 19)\n"
     ]
    }
   ],
   "source": [
    "# split the file into Independent and dependent variables\n",
    "churnY = churn.iloc[::,20]\n",
    "print(churnY.describe())\n",
    "churnX = churn\n",
    "churnX.drop(columns=['Churn','Phone'],axis=1,inplace=True)\n",
    "print(churnX.shape)"
   ]
  },
  {
   "cell_type": "code",
   "execution_count": 14,
   "metadata": {},
   "outputs": [
    {
     "name": "stdout",
     "output_type": "stream",
     "text": [
      "<class 'pandas.core.frame.DataFrame'>\n",
      "<class 'pandas.core.series.Series'>\n",
      "<class 'pandas.core.frame.DataFrame'>\n",
      "<class 'pandas.core.series.Series'>\n"
     ]
    }
   ],
   "source": [
    "# splitting the data into Train and Test\n",
    "from sklearn.model_selection import train_test_split\n",
    "X_train, X_test, Y_train, Y_test = train_test_split(churnX, churnY, test_size = 0.30, \n",
    "                                                    random_state = 0)\n",
    "print(type(X_train))\n",
    "print(type(Y_train))\n",
    "print(type(X_test))\n",
    "print(type(Y_test))"
   ]
  },
  {
   "cell_type": "code",
   "execution_count": 15,
   "metadata": {},
   "outputs": [
    {
     "name": "stdout",
     "output_type": "stream",
     "text": [
      "(2333, 19)\n",
      "(2333,)\n",
      "(1000, 19)\n",
      "(1000,)\n"
     ]
    }
   ],
   "source": [
    "print(X_train.shape)\n",
    "print(Y_train.shape)\n",
    "print(X_test.shape)\n",
    "print(Y_test.shape)"
   ]
  },
  {
   "cell_type": "code",
   "execution_count": 16,
   "metadata": {},
   "outputs": [
    {
     "data": {
      "text/plain": [
       "(array([408, 415, 510], dtype=int64), array([ 838, 1655,  840]))"
      ]
     },
     "execution_count": 16,
     "metadata": {},
     "output_type": "execute_result"
    }
   ],
   "source": [
    "np.unique(churn.AreaCode,return_counts=True)"
   ]
  },
  {
   "cell_type": "code",
   "execution_count": 17,
   "metadata": {},
   "outputs": [
    {
     "data": {
      "text/plain": [
       "(array(['AK', 'AL', 'AR', 'AZ', 'CA', 'CO', 'CT', 'DC', 'DE', 'FL', 'GA',\n",
       "        'HI', 'IA', 'ID', 'IL', 'IN', 'KS', 'KY', 'LA', 'MA', 'MD', 'ME',\n",
       "        'MI', 'MN', 'MO', 'MS', 'MT', 'NC', 'ND', 'NE', 'NH', 'NJ', 'NM',\n",
       "        'NV', 'NY', 'OH', 'OK', 'OR', 'PA', 'RI', 'SC', 'SD', 'TN', 'TX',\n",
       "        'UT', 'VA', 'VT', 'WA', 'WI', 'WV', 'WY'], dtype=object),\n",
       " array([ 52,  80,  55,  64,  34,  66,  74,  54,  61,  63,  54,  53,  44,\n",
       "         73,  58,  71,  70,  59,  51,  65,  70,  62,  73,  84,  63,  65,\n",
       "         68,  68,  62,  61,  56,  68,  62,  66,  83,  78,  61,  78,  45,\n",
       "         65,  60,  60,  53,  72,  72,  77,  73,  66,  78, 106,  77]))"
      ]
     },
     "execution_count": 17,
     "metadata": {},
     "output_type": "execute_result"
    }
   ],
   "source": [
    "np.unique(churn.State,return_counts=True)"
   ]
  },
  {
   "cell_type": "code",
   "execution_count": 18,
   "metadata": {},
   "outputs": [
    {
     "data": {
      "text/plain": [
       "(array(['AK', 'AL', 'AR', 'AZ', 'CA', 'CO', 'CT', 'DC', 'DE', 'FL', 'GA',\n",
       "        'HI', 'IA', 'ID', 'IL', 'IN', 'KS', 'KY', 'LA', 'MA', 'MD', 'ME',\n",
       "        'MI', 'MN', 'MO', 'MS', 'MT', 'NC', 'ND', 'NE', 'NH', 'NJ', 'NM',\n",
       "        'NV', 'NY', 'OH', 'OK', 'OR', 'PA', 'RI', 'SC', 'SD', 'TN', 'TX',\n",
       "        'UT', 'VA', 'VT', 'WA', 'WI', 'WV', 'WY'], dtype=object),\n",
       " array([43, 53, 44, 41, 20, 45, 53, 38, 47, 44, 42, 38, 33, 51, 35, 47, 54,\n",
       "        39, 32, 46, 43, 46, 51, 61, 44, 45, 53, 41, 42, 47, 41, 42, 48, 44,\n",
       "        58, 55, 48, 57, 29, 46, 46, 43, 36, 45, 46, 57, 43, 48, 57, 68, 58]))"
      ]
     },
     "execution_count": 18,
     "metadata": {},
     "output_type": "execute_result"
    }
   ],
   "source": [
    "np.unique(X_train.State,return_counts=True)"
   ]
  },
  {
   "cell_type": "code",
   "execution_count": 19,
   "metadata": {},
   "outputs": [
    {
     "name": "stdout",
     "output_type": "stream",
     "text": [
      "count    2333.000000\n",
      "mean       25.949850\n",
      "std        14.840968\n",
      "min         0.000000\n",
      "25%        13.000000\n",
      "50%        26.000000\n",
      "75%        39.000000\n",
      "max        50.000000\n",
      "Name: State, dtype: float64\n"
     ]
    },
    {
     "name": "stderr",
     "output_type": "stream",
     "text": [
      "E:\\Python\\Python3.7.2\\lib\\site-packages\\pandas\\core\\generic.py:4405: SettingWithCopyWarning: \n",
      "A value is trying to be set on a copy of a slice from a DataFrame.\n",
      "Try using .loc[row_indexer,col_indexer] = value instead\n",
      "\n",
      "See the caveats in the documentation: http://pandas.pydata.org/pandas-docs/stable/indexing.html#indexing-view-versus-copy\n",
      "  self[name] = value\n"
     ]
    }
   ],
   "source": [
    "# lable encoding for strings - state\n",
    "from sklearn.preprocessing import LabelEncoder\n",
    "le = LabelEncoder()\n",
    "X_train.State = le.fit_transform(X_train.State)\n",
    "X_test.State = le.transform(X_test.State)\n",
    "print(X_train.State.describe())"
   ]
  },
  {
   "cell_type": "code",
   "execution_count": 20,
   "metadata": {},
   "outputs": [],
   "source": [
    "#dir(LabelEncoder)"
   ]
  },
  {
   "cell_type": "code",
   "execution_count": 21,
   "metadata": {},
   "outputs": [
    {
     "data": {
      "text/plain": [
       "(array([ 0,  1,  2,  3,  4,  5,  6,  7,  8,  9, 10, 11, 12, 13, 14, 15, 16,\n",
       "        17, 18, 19, 20, 21, 22, 23, 24, 25, 26, 27, 28, 29, 30, 31, 32, 33,\n",
       "        34, 35, 36, 37, 38, 39, 40, 41, 42, 43, 44, 45, 46, 47, 48, 49, 50]),\n",
       " array([43, 53, 44, 41, 20, 45, 53, 38, 47, 44, 42, 38, 33, 51, 35, 47, 54,\n",
       "        39, 32, 46, 43, 46, 51, 61, 44, 45, 53, 41, 42, 47, 41, 42, 48, 44,\n",
       "        58, 55, 48, 57, 29, 46, 46, 43, 36, 45, 46, 57, 43, 48, 57, 68, 58]))"
      ]
     },
     "execution_count": 21,
     "metadata": {},
     "output_type": "execute_result"
    }
   ],
   "source": [
    "np.unique(X_train.State,return_counts=True)"
   ]
  },
  {
   "cell_type": "code",
   "execution_count": 22,
   "metadata": {},
   "outputs": [
    {
     "data": {
      "text/plain": [
       "array(['State', 'AccountLength', 'AreaCode', 'IntlPlan', 'VMailPlan',\n",
       "       'VMailMessage', 'DayMins', 'DayCalls', 'DayCharge', 'EveMins',\n",
       "       'EveCalls', 'EveCharge', 'NightMins', 'NightCalls', 'NightCharge',\n",
       "       'IntlMins', 'IntlCalls', 'IntlCharge', 'CusServCalls'],\n",
       "      dtype=object)"
      ]
     },
     "execution_count": 22,
     "metadata": {},
     "output_type": "execute_result"
    }
   ],
   "source": [
    "X_train.columns.values"
   ]
  },
  {
   "cell_type": "code",
   "execution_count": 23,
   "metadata": {},
   "outputs": [
    {
     "data": {
      "text/plain": [
       "(2333, 19)"
      ]
     },
     "execution_count": 23,
     "metadata": {},
     "output_type": "execute_result"
    }
   ],
   "source": [
    "X_train.shape"
   ]
  },
  {
   "cell_type": "code",
   "execution_count": 24,
   "metadata": {},
   "outputs": [
    {
     "name": "stdout",
     "output_type": "stream",
     "text": [
      "(2333, 8584)\n",
      "(1000, 8584)\n"
     ]
    }
   ],
   "source": [
    "# apply one hot encoding on state and area\n",
    "from sklearn.preprocessing import OneHotEncoder\n",
    "categories = np.array([17,18])                 # column 17 - state, 18 - area code\n",
    "OHE = OneHotEncoder(sparse = False, handle_unknown = 'ignore')\n",
    "X_train = OHE.fit_transform(X_train)\n",
    "X_test = OHE.transform(X_test)\n",
    "print(X_train.shape)\n",
    "print(X_test.shape)"
   ]
  },
  {
   "cell_type": "code",
   "execution_count": 25,
   "metadata": {},
   "outputs": [
    {
     "data": {
      "text/plain": [
       "pandas.core.series.Series"
      ]
     },
     "execution_count": 25,
     "metadata": {},
     "output_type": "execute_result"
    }
   ],
   "source": [
    "# type(X_train)\n",
    "type(Y_train)"
   ]
  },
  {
   "cell_type": "code",
   "execution_count": 26,
   "metadata": {},
   "outputs": [
    {
     "name": "stdout",
     "output_type": "stream",
     "text": [
      "Fitting 2 folds for each of 8 candidates, totalling 16 fits\n",
      "[CV] C=0.5, gamma=0.2, kernel=poly ...................................\n"
     ]
    },
    {
     "name": "stderr",
     "output_type": "stream",
     "text": [
      "[Parallel(n_jobs=1)]: Using backend SequentialBackend with 1 concurrent workers.\n"
     ]
    },
    {
     "name": "stdout",
     "output_type": "stream",
     "text": [
      "[CV]  C=0.5, gamma=0.2, kernel=poly, score=(train=1.000, test=0.749), total= 3.0min\n",
      "[CV] C=0.5, gamma=0.2, kernel=poly ...................................\n"
     ]
    },
    {
     "name": "stderr",
     "output_type": "stream",
     "text": [
      "[Parallel(n_jobs=1)]: Done   1 out of   1 | elapsed:  3.4min remaining:    0.0s\n"
     ]
    },
    {
     "name": "stdout",
     "output_type": "stream",
     "text": [
      "[CV]  C=0.5, gamma=0.2, kernel=poly, score=(train=1.000, test=0.732), total= 2.8min\n",
      "[CV] C=0.5, gamma=0.2, kernel=rbf ....................................\n"
     ]
    },
    {
     "name": "stderr",
     "output_type": "stream",
     "text": [
      "[Parallel(n_jobs=1)]: Done   2 out of   2 | elapsed:  6.7min remaining:    0.0s\n"
     ]
    },
    {
     "name": "stdout",
     "output_type": "stream",
     "text": [
      "[CV]  C=0.5, gamma=0.2, kernel=rbf, score=(train=1.000, test=0.716), total= 2.8min\n",
      "[CV] C=0.5, gamma=0.2, kernel=rbf ....................................\n"
     ]
    },
    {
     "name": "stderr",
     "output_type": "stream",
     "text": [
      "[Parallel(n_jobs=1)]: Done   3 out of   3 | elapsed: 10.0min remaining:    0.0s\n"
     ]
    },
    {
     "name": "stdout",
     "output_type": "stream",
     "text": [
      "[CV]  C=0.5, gamma=0.2, kernel=rbf, score=(train=1.000, test=0.743), total= 2.9min\n",
      "[CV] C=0.5, gamma=0.9, kernel=poly ...................................\n"
     ]
    },
    {
     "name": "stderr",
     "output_type": "stream",
     "text": [
      "[Parallel(n_jobs=1)]: Done   4 out of   4 | elapsed: 13.3min remaining:    0.0s\n"
     ]
    },
    {
     "name": "stdout",
     "output_type": "stream",
     "text": [
      "[CV]  C=0.5, gamma=0.9, kernel=poly, score=(train=1.000, test=0.749), total= 2.8min\n",
      "[CV] C=0.5, gamma=0.9, kernel=poly ...................................\n"
     ]
    },
    {
     "name": "stderr",
     "output_type": "stream",
     "text": [
      "[Parallel(n_jobs=1)]: Done   5 out of   5 | elapsed: 16.5min remaining:    0.0s\n"
     ]
    },
    {
     "name": "stdout",
     "output_type": "stream",
     "text": [
      "[CV]  C=0.5, gamma=0.9, kernel=poly, score=(train=1.000, test=0.732), total= 2.8min\n",
      "[CV] C=0.5, gamma=0.9, kernel=rbf ....................................\n"
     ]
    },
    {
     "name": "stderr",
     "output_type": "stream",
     "text": [
      "[Parallel(n_jobs=1)]: Done   6 out of   6 | elapsed: 19.7min remaining:    0.0s\n"
     ]
    },
    {
     "name": "stdout",
     "output_type": "stream",
     "text": [
      "[CV]  C=0.5, gamma=0.9, kernel=rbf, score=(train=1.000, test=0.632), total= 3.0min\n",
      "[CV] C=0.5, gamma=0.9, kernel=rbf ....................................\n"
     ]
    },
    {
     "name": "stderr",
     "output_type": "stream",
     "text": [
      "[Parallel(n_jobs=1)]: Done   7 out of   7 | elapsed: 23.3min remaining:    0.0s\n"
     ]
    },
    {
     "name": "stdout",
     "output_type": "stream",
     "text": [
      "[CV]  C=0.5, gamma=0.9, kernel=rbf, score=(train=1.000, test=0.635), total= 3.2min\n",
      "[CV] C=2, gamma=0.2, kernel=poly .....................................\n"
     ]
    },
    {
     "name": "stderr",
     "output_type": "stream",
     "text": [
      "[Parallel(n_jobs=1)]: Done   8 out of   8 | elapsed: 26.9min remaining:    0.0s\n"
     ]
    },
    {
     "name": "stdout",
     "output_type": "stream",
     "text": [
      "[CV]  C=2, gamma=0.2, kernel=poly, score=(train=1.000, test=0.749), total= 2.5min\n",
      "[CV] C=2, gamma=0.2, kernel=poly .....................................\n"
     ]
    },
    {
     "name": "stderr",
     "output_type": "stream",
     "text": [
      "[Parallel(n_jobs=1)]: Done   9 out of   9 | elapsed: 29.8min remaining:    0.0s\n"
     ]
    },
    {
     "name": "stdout",
     "output_type": "stream",
     "text": [
      "[CV]  C=2, gamma=0.2, kernel=poly, score=(train=1.000, test=0.732), total= 2.5min\n",
      "[CV] C=2, gamma=0.2, kernel=rbf ......................................\n",
      "[CV]  C=2, gamma=0.2, kernel=rbf, score=(train=1.000, test=0.723), total= 2.6min\n",
      "[CV] C=2, gamma=0.2, kernel=rbf ......................................\n",
      "[CV]  C=2, gamma=0.2, kernel=rbf, score=(train=1.000, test=0.745), total= 2.6min\n",
      "[CV] C=2, gamma=0.9, kernel=poly .....................................\n",
      "[CV]  C=2, gamma=0.9, kernel=poly, score=(train=1.000, test=0.749), total= 2.7min\n",
      "[CV] C=2, gamma=0.9, kernel=poly .....................................\n",
      "[CV]  C=2, gamma=0.9, kernel=poly, score=(train=1.000, test=0.732), total= 2.5min\n",
      "[CV] C=2, gamma=0.9, kernel=rbf ......................................\n",
      "[CV]  C=2, gamma=0.9, kernel=rbf, score=(train=1.000, test=0.632), total= 2.7min\n",
      "[CV] C=2, gamma=0.9, kernel=rbf ......................................\n",
      "[CV]  C=2, gamma=0.9, kernel=rbf, score=(train=1.000, test=0.635), total= 2.6min\n"
     ]
    },
    {
     "name": "stderr",
     "output_type": "stream",
     "text": [
      "[Parallel(n_jobs=1)]: Done  16 out of  16 | elapsed: 51.1min finished\n"
     ]
    },
    {
     "data": {
      "text/plain": [
       "GridSearchCV(cv=2,\n",
       "             estimator=SVC(class_weight='balanced', degree=2, probability=True),\n",
       "             param_grid={'C': [0.5, 2], 'gamma': [0.2, 0.9],\n",
       "                         'kernel': ['poly', 'rbf']},\n",
       "             return_train_score=True, scoring='roc_auc', verbose=10)"
      ]
     },
     "execution_count": 26,
     "metadata": {},
     "output_type": "execute_result"
    }
   ],
   "source": [
    "# SVM\n",
    "from sklearn.svm import SVC\n",
    "SVM = SVC(class_weight='balanced',degree=2,probability=True)\n",
    "\n",
    "# build grid search parameters\n",
    "parms = {'C': [0.5,2],\n",
    "         'gamma':[0.2,0.9],\n",
    "         'kernel': [\"poly\",\"rbf\"]}\n",
    "# perform grid search\n",
    "from sklearn.model_selection import GridSearchCV\n",
    "CV = GridSearchCV(estimator = SVM,param_grid = parms, scoring = 'roc_auc',cv=2,refit=True,\n",
    "                           return_train_score = True,verbose=10,n_jobs=None)\n",
    "CV.fit(X_train,Y_train)"
   ]
  },
  {
   "cell_type": "code",
   "execution_count": 27,
   "metadata": {},
   "outputs": [
    {
     "name": "stdout",
     "output_type": "stream",
     "text": [
      "   mean_fit_time  std_fit_time  mean_score_time  std_score_time param_C  \\\n",
      "0     146.915209      6.837571        27.790348        0.115103     0.5   \n",
      "1     141.916768      0.926039        28.580143        1.262904     0.5   \n",
      "2     139.994812      0.085014        27.201938        1.121102     0.5   \n",
      "3     152.586527      3.911913        33.066350        1.870901     0.5   \n",
      "4     127.530300      0.197724        23.709342        0.347901       2   \n",
      "5     131.461780      0.436317        25.856748        0.056100       2   \n",
      "6     133.047027      5.734975        23.708444        0.324801       2   \n",
      "7     131.861202      0.337827        28.051706        2.264860       2   \n",
      "\n",
      "  param_gamma param_kernel                                      params  \\\n",
      "0         0.2         poly  {'C': 0.5, 'gamma': 0.2, 'kernel': 'poly'}   \n",
      "1         0.2          rbf   {'C': 0.5, 'gamma': 0.2, 'kernel': 'rbf'}   \n",
      "2         0.9         poly  {'C': 0.5, 'gamma': 0.9, 'kernel': 'poly'}   \n",
      "3         0.9          rbf   {'C': 0.5, 'gamma': 0.9, 'kernel': 'rbf'}   \n",
      "4         0.2         poly    {'C': 2, 'gamma': 0.2, 'kernel': 'poly'}   \n",
      "5         0.2          rbf     {'C': 2, 'gamma': 0.2, 'kernel': 'rbf'}   \n",
      "6         0.9         poly    {'C': 2, 'gamma': 0.9, 'kernel': 'poly'}   \n",
      "7         0.9          rbf     {'C': 2, 'gamma': 0.9, 'kernel': 'rbf'}   \n",
      "\n",
      "   split0_test_score  split1_test_score  mean_test_score  std_test_score  \\\n",
      "0           0.748700           0.731880         0.740290        0.008410   \n",
      "1           0.715867           0.742706         0.729287        0.013419   \n",
      "2           0.748700           0.731880         0.740290        0.008410   \n",
      "3           0.631820           0.635171         0.633496        0.001676   \n",
      "4           0.748700           0.731880         0.740290        0.008410   \n",
      "5           0.722950           0.744549         0.733750        0.010799   \n",
      "6           0.748700           0.731880         0.740290        0.008410   \n",
      "7           0.631826           0.635136         0.633481        0.001655   \n",
      "\n",
      "   rank_test_score  split0_train_score  split1_train_score  mean_train_score  \\\n",
      "0                1                 1.0                 1.0               1.0   \n",
      "1                6                 1.0                 1.0               1.0   \n",
      "2                1                 1.0                 1.0               1.0   \n",
      "3                7                 1.0                 1.0               1.0   \n",
      "4                1                 1.0                 1.0               1.0   \n",
      "5                5                 1.0                 1.0               1.0   \n",
      "6                1                 1.0                 1.0               1.0   \n",
      "7                8                 1.0                 1.0               1.0   \n",
      "\n",
      "   std_train_score  \n",
      "0              0.0  \n",
      "1              0.0  \n",
      "2              0.0  \n",
      "3              0.0  \n",
      "4              0.0  \n",
      "5              0.0  \n",
      "6              0.0  \n",
      "7              0.0  \n",
      "Wall time: 33.6 ms\n"
     ]
    }
   ],
   "source": [
    "%%time\n",
    "CVResults = pd.DataFrame(CV.cv_results_)\n",
    "print(CVResults)\n",
    "# CVResults.to_excel('../data/CVResutls_SVM.xlsx')"
   ]
  },
  {
   "cell_type": "code",
   "execution_count": 28,
   "metadata": {},
   "outputs": [
    {
     "name": "stdout",
     "output_type": "stream",
     "text": [
      "SVC(C=0.5, class_weight='balanced', degree=2, gamma=0.2, kernel='poly',\n",
      "    probability=True)\n"
     ]
    }
   ],
   "source": [
    "print(CV.best_estimator_)"
   ]
  },
  {
   "cell_type": "code",
   "execution_count": 29,
   "metadata": {},
   "outputs": [
    {
     "name": "stdout",
     "output_type": "stream",
     "text": [
      "0.7402899721220183\n",
      "{'C': 0.5, 'gamma': 0.2, 'kernel': 'poly'}\n"
     ]
    }
   ],
   "source": [
    "print(CV.best_score_)\n",
    "print(CV.best_params_)"
   ]
  },
  {
   "cell_type": "code",
   "execution_count": 30,
   "metadata": {},
   "outputs": [
    {
     "name": "stdout",
     "output_type": "stream",
     "text": [
      "[0 0 0 0 0 0 0 0 0 0]\n"
     ]
    }
   ],
   "source": [
    "# Preidct on Test data and check the confusion matrix\n",
    "predictTest = CV.predict(X_test)\n",
    "print(predictTest[0:10])"
   ]
  },
  {
   "cell_type": "code",
   "execution_count": 31,
   "metadata": {},
   "outputs": [
    {
     "name": "stdout",
     "output_type": "stream",
     "text": [
      "[[0.80330746 0.19669254]\n",
      " [0.90892036 0.09107964]\n",
      " [0.93456424 0.06543576]\n",
      " [0.94326956 0.05673044]\n",
      " [0.67076407 0.32923593]\n",
      " [0.70167596 0.29832404]\n",
      " [0.58971983 0.41028017]\n",
      " [0.93980771 0.06019229]\n",
      " [0.82582448 0.17417552]\n",
      " [0.83684972 0.16315028]]\n"
     ]
    }
   ],
   "source": [
    "predictProb = CV.predict_proba(X_test)\n",
    "print(predictProb[0:10])\n",
    "PProb = pd.DataFrame(predictProb)"
   ]
  },
  {
   "cell_type": "code",
   "execution_count": 32,
   "metadata": {},
   "outputs": [
    {
     "name": "stdout",
     "output_type": "stream",
     "text": [
      "[[850  12]\n",
      " [118  20]]\n",
      "              precision    recall  f1-score   support\n",
      "\n",
      "           0       0.88      0.99      0.93       862\n",
      "           1       0.62      0.14      0.24       138\n",
      "\n",
      "    accuracy                           0.87      1000\n",
      "   macro avg       0.75      0.57      0.58      1000\n",
      "weighted avg       0.84      0.87      0.83      1000\n",
      "\n"
     ]
    }
   ],
   "source": [
    "# generate confusion matrix\n",
    "# import confusion matrix and classification report\n",
    "from sklearn.metrics import confusion_matrix, classification_report\n",
    "print (confusion_matrix(Y_test,predictTest))\n",
    "print (classification_report(Y_test,predictTest))"
   ]
  },
  {
   "cell_type": "code",
   "execution_count": 33,
   "metadata": {},
   "outputs": [
    {
     "name": "stdout",
     "output_type": "stream",
     "text": [
      "0.26585460170146946\n",
      "0.26585460170146946\n"
     ]
    }
   ],
   "source": [
    "# generate ROC curve\n",
    "from sklearn.metrics import roc_auc_score, roc_curve\n",
    "# AUC for class 1\n",
    "AUC = roc_auc_score(Y_test, PProb[0])\n",
    "print(AUC)\n",
    "# AUC for class 0\n",
    "AUC0 = roc_auc_score(Y_test, PProb[0])\n",
    "print(AUC0)\n",
    "# define variables for True Positive Rate and Falst Positive Rate & threshold value\n",
    "TPR = dict()\n",
    "FPR = dict()\n",
    "THR = dict()\n",
    "FPR, TPR, THR = roc_curve(Y_test, PProb[1])"
   ]
  },
  {
   "cell_type": "code",
   "execution_count": 34,
   "metadata": {},
   "outputs": [
    {
     "name": "stdout",
     "output_type": "stream",
     "text": [
      "[1.9144676  0.9144676  0.86929807 0.7828656  0.78169013 0.70232211\n",
      " 0.69205202 0.69204685 0.6914197  0.65910124 0.65320736 0.64648164\n",
      " 0.62870163 0.60459678 0.59925029 0.59050548 0.57461366 0.56935246\n",
      " 0.56869246 0.56856692 0.56603568 0.54238597 0.54071015 0.51937201\n",
      " 0.51649877 0.51083164 0.50931031 0.50776863 0.50578051 0.5\n",
      " 0.48614269 0.47693372 0.472988   0.46844256 0.46278227 0.462018\n",
      " 0.46058813 0.45288001 0.44324095 0.44147405 0.43941334 0.42947974\n",
      " 0.42680224 0.42514355 0.41325211 0.41028017 0.39408512 0.38694595\n",
      " 0.37829935 0.37290551 0.36911626 0.3688372  0.36712968 0.36601075\n",
      " 0.35887724 0.35232795 0.34670869 0.34634027 0.34516036 0.33960416\n",
      " 0.33401114 0.33340172 0.33024044 0.32875091 0.31409982 0.31131958\n",
      " 0.29864226 0.29832404 0.29069839 0.28823097 0.28682927 0.28671037\n",
      " 0.28253682 0.28052047 0.26424455 0.26424204 0.26013148 0.25817443\n",
      " 0.24470921 0.24324505 0.23884787 0.23851187 0.23530751 0.23368525\n",
      " 0.22577942 0.22543722 0.21841989 0.21756816 0.21659797 0.21610524\n",
      " 0.21525383 0.21511088 0.21435414 0.21383086 0.20791489 0.2076062\n",
      " 0.1979033  0.19719244 0.19494531 0.19436723 0.18935642 0.18858934\n",
      " 0.18705932 0.18639902 0.18333736 0.18285173 0.1634816  0.16337838\n",
      " 0.16185011 0.16116701 0.15689455 0.15687207 0.15343017 0.15315893\n",
      " 0.14737835 0.14730478 0.14730393 0.14664337 0.1447012  0.14435943\n",
      " 0.1375531  0.13719266 0.12992662 0.1298483  0.12349987 0.1229669\n",
      " 0.11890414 0.11862013 0.1160154  0.11588573 0.11219189 0.1121257\n",
      " 0.11120764 0.11100208 0.10560659 0.10468469 0.10403846 0.10395504\n",
      " 0.10278511 0.10252389 0.10012628 0.09946051 0.0991338  0.09896628\n",
      " 0.09813474 0.09795443 0.09681452 0.09678671 0.09257068 0.09207571\n",
      " 0.08561312 0.08555303 0.08435616 0.08416056 0.08141173 0.08124524\n",
      " 0.07615208 0.07607771 0.07578007 0.07576735 0.07558436 0.0753678\n",
      " 0.07390222 0.07382584 0.06765534 0.06753389 0.06624541 0.06588177\n",
      " 0.06481859 0.06463685 0.06189523 0.06178288 0.06153536 0.06150003\n",
      " 0.0605792  0.06056141 0.05960663 0.05960381 0.05953761 0.05947792\n",
      " 0.05936563 0.05899036 0.05871245 0.0586967  0.05710316 0.05690759\n",
      " 0.052795   0.05272746 0.05147809 0.05130531 0.05128592 0.05122746\n",
      " 0.04268874 0.04249313 0.03604259 0.03580557 0.03528188 0.03488127\n",
      " 0.03397803 0.03387034 0.03286284 0.03262354 0.02957434 0.02893033\n",
      " 0.02881924 0.02870118 0.0167664 ]\n",
      "[0.         0.00724638 0.00724638 0.01449275 0.01449275 0.06521739\n",
      " 0.06521739 0.07246377 0.07246377 0.08695652 0.08695652 0.10144928\n",
      " 0.10144928 0.13768116 0.13768116 0.14492754 0.14492754 0.15217391\n",
      " 0.15217391 0.15942029 0.15942029 0.17391304 0.17391304 0.21014493\n",
      " 0.21014493 0.22463768 0.22463768 0.23188406 0.23188406 0.24637681\n",
      " 0.24637681 0.25362319 0.25362319 0.26086957 0.26086957 0.26811594\n",
      " 0.26811594 0.2826087  0.2826087  0.28985507 0.28985507 0.29710145\n",
      " 0.29710145 0.30434783 0.30434783 0.3115942  0.3115942  0.34057971\n",
      " 0.34057971 0.35507246 0.35507246 0.36231884 0.36231884 0.36956522\n",
      " 0.36956522 0.39130435 0.39130435 0.39855072 0.39855072 0.42753623\n",
      " 0.42753623 0.44202899 0.44202899 0.45652174 0.45652174 0.46376812\n",
      " 0.46376812 0.47101449 0.47101449 0.47826087 0.47826087 0.48550725\n",
      " 0.48550725 0.5        0.5        0.50724638 0.50724638 0.51449275\n",
      " 0.51449275 0.52898551 0.52898551 0.53623188 0.53623188 0.55072464\n",
      " 0.55072464 0.55797101 0.55797101 0.56521739 0.56521739 0.57246377\n",
      " 0.57246377 0.57971014 0.57971014 0.58695652 0.58695652 0.5942029\n",
      " 0.5942029  0.60144928 0.60144928 0.60869565 0.60869565 0.61594203\n",
      " 0.61594203 0.62318841 0.62318841 0.63043478 0.63043478 0.63768116\n",
      " 0.63768116 0.64492754 0.64492754 0.65217391 0.65217391 0.65942029\n",
      " 0.65942029 0.66666667 0.66666667 0.67391304 0.67391304 0.68115942\n",
      " 0.68115942 0.6884058  0.6884058  0.69565217 0.69565217 0.70289855\n",
      " 0.70289855 0.71014493 0.71014493 0.7173913  0.7173913  0.72463768\n",
      " 0.72463768 0.73188406 0.73188406 0.73913043 0.73913043 0.74637681\n",
      " 0.74637681 0.75362319 0.75362319 0.76086957 0.76086957 0.76811594\n",
      " 0.76811594 0.77536232 0.77536232 0.7826087  0.7826087  0.78985507\n",
      " 0.78985507 0.79710145 0.79710145 0.80434783 0.80434783 0.8115942\n",
      " 0.8115942  0.81884058 0.81884058 0.82608696 0.82608696 0.83333333\n",
      " 0.83333333 0.84057971 0.84057971 0.84782609 0.84782609 0.85507246\n",
      " 0.85507246 0.86231884 0.86231884 0.86956522 0.86956522 0.87681159\n",
      " 0.87681159 0.88405797 0.88405797 0.89130435 0.89130435 0.89855072\n",
      " 0.89855072 0.9057971  0.9057971  0.91304348 0.91304348 0.92028986\n",
      " 0.92028986 0.92753623 0.92753623 0.93478261 0.93478261 0.94202899\n",
      " 0.94202899 0.94927536 0.94927536 0.96376812 0.96376812 0.97101449\n",
      " 0.97101449 0.97826087 0.97826087 0.98550725 0.98550725 0.99275362\n",
      " 0.99275362 1.         1.        ]\n",
      "[0.         0.         0.00116009 0.00116009 0.00232019 0.00232019\n",
      " 0.00464037 0.00464037 0.00580046 0.00580046 0.00696056 0.00696056\n",
      " 0.01276102 0.01276102 0.01392111 0.01392111 0.01508121 0.01508121\n",
      " 0.0162413  0.0162413  0.01740139 0.01740139 0.01856148 0.01856148\n",
      " 0.01972158 0.01972158 0.02204176 0.02204176 0.02320186 0.02436195\n",
      " 0.02552204 0.02552204 0.02668213 0.02668213 0.03016241 0.03016241\n",
      " 0.03132251 0.03132251 0.03596288 0.03596288 0.03828306 0.03828306\n",
      " 0.04176334 0.04176334 0.05104408 0.05104408 0.05684455 0.05684455\n",
      " 0.06032483 0.06032483 0.0638051  0.0638051  0.0649652  0.0649652\n",
      " 0.06960557 0.06960557 0.07192575 0.07192575 0.07424594 0.07424594\n",
      " 0.07888631 0.07888631 0.0800464  0.0800464  0.08352668 0.08352668\n",
      " 0.09048724 0.09048724 0.0962877  0.0962877  0.0974478  0.0974478\n",
      " 0.10092807 0.10092807 0.11484919 0.11484919 0.12064965 0.12064965\n",
      " 0.12645012 0.12645012 0.13457077 0.13457077 0.13921114 0.13921114\n",
      " 0.14617169 0.14617169 0.15661253 0.15661253 0.15893271 0.15893271\n",
      " 0.16009281 0.16009281 0.1612529  0.1612529  0.16821346 0.16821346\n",
      " 0.17865429 0.17865429 0.18561485 0.18561485 0.19721578 0.19721578\n",
      " 0.19953596 0.19953596 0.20765661 0.20765661 0.23665893 0.23665893\n",
      " 0.23897912 0.23897912 0.24709977 0.24709977 0.25638051 0.25638051\n",
      " 0.27146172 0.27146172 0.27262181 0.27262181 0.28074246 0.28074246\n",
      " 0.30162413 0.30162413 0.32946636 0.32946636 0.36194896 0.36194896\n",
      " 0.37238979 0.37238979 0.38979118 0.38979118 0.41067285 0.41067285\n",
      " 0.42111369 0.42111369 0.44663573 0.44663573 0.44895592 0.44895592\n",
      " 0.46635731 0.46635731 0.48027842 0.48027842 0.4837587  0.4837587\n",
      " 0.48839907 0.48839907 0.49883991 0.49883991 0.52320186 0.52320186\n",
      " 0.56960557 0.56960557 0.57308585 0.57308585 0.59280742 0.59280742\n",
      " 0.62993039 0.62993039 0.63457077 0.63457077 0.63573086 0.63573086\n",
      " 0.64733179 0.64733179 0.70069606 0.70069606 0.7099768  0.7099768\n",
      " 0.725058   0.725058   0.75290023 0.75290023 0.7575406  0.7575406\n",
      " 0.77726218 0.77726218 0.7900232  0.7900232  0.79234339 0.79234339\n",
      " 0.79350348 0.79350348 0.79698376 0.79698376 0.80974478 0.80974478\n",
      " 0.85266821 0.85266821 0.85846868 0.85846868 0.85962877 0.85962877\n",
      " 0.93155452 0.93155452 0.96287703 0.96287703 0.96403712 0.96403712\n",
      " 0.96635731 0.96635731 0.97447796 0.97447796 0.9837587  0.9837587\n",
      " 0.98607889 0.98607889 1.        ]\n"
     ]
    }
   ],
   "source": [
    "print(THR)\n",
    "print(TPR)\n",
    "print(FPR)"
   ]
  },
  {
   "cell_type": "code",
   "execution_count": 36,
   "metadata": {},
   "outputs": [
    {
     "data": {
      "image/png": "[encoded data removed]",
      "text/plain": [
       "<Figure size 432x288 with 1 Axes>"
      ]
     },
     "metadata": {
      "needs_background": "light"
     },
     "output_type": "display_data"
    }
   ],
   "source": [
    "import matplotlib.pyplot as plt\n",
    "plt.figure()\n",
    "# plot the FPR as X-axis and TPR as Y-axis\n",
    "plt.plot(FPR, TPR)\n",
    "# plot the minimum line \n",
    "plt.plot([0,1], [0,1], color='navy', linestyle = '--')\n",
    "# set X and Y limits\n",
    "plt.xlim([0.0, 1.05])\n",
    "plt.ylim([0.0, 1.05])\n",
    "# mention lables for X and Y\n",
    "plt.xlabel('False Positive Rate')\n",
    "plt.ylabel('True Positive Rate')\n",
    "plt.title('ROC')\n",
    "plt.show()"
   ]
  },
  {
   "cell_type": "code",
   "execution_count": null,
   "metadata": {},
   "outputs": [],
   "source": []
  }
 ],
 "metadata": {
  "kernelspec": {
   "display_name": "Python 3",
   "language": "python",
   "name": "python3"
  },
  "language_info": {
   "codemirror_mode": {
    "name": "ipython",
    "version": 3
   },
   "file_extension": ".py",
   "mimetype": "text/x-python",
   "name": "python",
   "nbconvert_exporter": "python",
   "pygments_lexer": "ipython3",
   "version": "3.7.2"
  }
 },
 "nbformat": 4,
 "nbformat_minor": 2
}
