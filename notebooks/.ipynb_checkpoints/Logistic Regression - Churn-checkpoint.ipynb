{
 "cells": [
  {
   "cell_type": "code",
   "execution_count": 1,
   "metadata": {},
   "outputs": [
    {
     "data": {
      "text/html": [
       "<div>\n",
       "<style scoped>\n",
       "    .dataframe tbody tr th:only-of-type {\n",
       "        vertical-align: middle;\n",
       "    }\n",
       "\n",
       "    .dataframe tbody tr th {\n",
       "        vertical-align: top;\n",
       "    }\n",
       "\n",
       "    .dataframe thead th {\n",
       "        text-align: right;\n",
       "    }\n",
       "</style>\n",
       "<table border=\"1\" class=\"dataframe\">\n",
       "  <thead>\n",
       "    <tr style=\"text-align: right;\">\n",
       "      <th></th>\n",
       "      <th>AccountLength</th>\n",
       "      <th>VMailMessage</th>\n",
       "      <th>DayMins</th>\n",
       "      <th>EveMins</th>\n",
       "      <th>NightMins</th>\n",
       "      <th>IntlMins</th>\n",
       "      <th>CustServCalls</th>\n",
       "      <th>Churn</th>\n",
       "      <th>IntlPlan</th>\n",
       "      <th>VMailPlan</th>\n",
       "      <th>DayCalls</th>\n",
       "      <th>DayCharge</th>\n",
       "      <th>EveCalls</th>\n",
       "      <th>EveCharge</th>\n",
       "      <th>NightCalls</th>\n",
       "      <th>NightCharge</th>\n",
       "      <th>IntlCalls</th>\n",
       "      <th>IntlCharge</th>\n",
       "      <th>AreaCode</th>\n",
       "    </tr>\n",
       "  </thead>\n",
       "  <tbody>\n",
       "    <tr>\n",
       "      <th>count</th>\n",
       "      <td>3333.000000</td>\n",
       "      <td>3333.000000</td>\n",
       "      <td>3333.000000</td>\n",
       "      <td>3333.000000</td>\n",
       "      <td>3333.000000</td>\n",
       "      <td>3333.000000</td>\n",
       "      <td>3333.000000</td>\n",
       "      <td>3333.000000</td>\n",
       "      <td>3333.000000</td>\n",
       "      <td>3333.000000</td>\n",
       "      <td>3333.000000</td>\n",
       "      <td>3333.000000</td>\n",
       "      <td>3333.000000</td>\n",
       "      <td>3333.000000</td>\n",
       "      <td>3333.000000</td>\n",
       "      <td>3333.000000</td>\n",
       "      <td>3333.000000</td>\n",
       "      <td>3333.000000</td>\n",
       "      <td>3333.000000</td>\n",
       "    </tr>\n",
       "    <tr>\n",
       "      <th>mean</th>\n",
       "      <td>101.064806</td>\n",
       "      <td>8.099010</td>\n",
       "      <td>179.775098</td>\n",
       "      <td>200.980348</td>\n",
       "      <td>200.872037</td>\n",
       "      <td>10.237294</td>\n",
       "      <td>1.562856</td>\n",
       "      <td>0.144914</td>\n",
       "      <td>0.096910</td>\n",
       "      <td>0.276628</td>\n",
       "      <td>100.435644</td>\n",
       "      <td>30.562307</td>\n",
       "      <td>100.114311</td>\n",
       "      <td>17.083540</td>\n",
       "      <td>100.107711</td>\n",
       "      <td>9.039325</td>\n",
       "      <td>4.479448</td>\n",
       "      <td>2.764581</td>\n",
       "      <td>437.182418</td>\n",
       "    </tr>\n",
       "    <tr>\n",
       "      <th>std</th>\n",
       "      <td>39.822106</td>\n",
       "      <td>13.688365</td>\n",
       "      <td>54.467389</td>\n",
       "      <td>50.713844</td>\n",
       "      <td>50.573847</td>\n",
       "      <td>2.791840</td>\n",
       "      <td>1.315491</td>\n",
       "      <td>0.352067</td>\n",
       "      <td>0.295879</td>\n",
       "      <td>0.447398</td>\n",
       "      <td>20.069084</td>\n",
       "      <td>9.259435</td>\n",
       "      <td>19.922625</td>\n",
       "      <td>4.310668</td>\n",
       "      <td>19.568609</td>\n",
       "      <td>2.275873</td>\n",
       "      <td>2.461214</td>\n",
       "      <td>0.753773</td>\n",
       "      <td>42.371290</td>\n",
       "    </tr>\n",
       "    <tr>\n",
       "      <th>min</th>\n",
       "      <td>1.000000</td>\n",
       "      <td>0.000000</td>\n",
       "      <td>0.000000</td>\n",
       "      <td>0.000000</td>\n",
       "      <td>23.200000</td>\n",
       "      <td>0.000000</td>\n",
       "      <td>0.000000</td>\n",
       "      <td>0.000000</td>\n",
       "      <td>0.000000</td>\n",
       "      <td>0.000000</td>\n",
       "      <td>0.000000</td>\n",
       "      <td>0.000000</td>\n",
       "      <td>0.000000</td>\n",
       "      <td>0.000000</td>\n",
       "      <td>33.000000</td>\n",
       "      <td>1.040000</td>\n",
       "      <td>0.000000</td>\n",
       "      <td>0.000000</td>\n",
       "      <td>408.000000</td>\n",
       "    </tr>\n",
       "    <tr>\n",
       "      <th>25%</th>\n",
       "      <td>74.000000</td>\n",
       "      <td>0.000000</td>\n",
       "      <td>143.700000</td>\n",
       "      <td>166.600000</td>\n",
       "      <td>167.000000</td>\n",
       "      <td>8.500000</td>\n",
       "      <td>1.000000</td>\n",
       "      <td>0.000000</td>\n",
       "      <td>0.000000</td>\n",
       "      <td>0.000000</td>\n",
       "      <td>87.000000</td>\n",
       "      <td>24.430000</td>\n",
       "      <td>87.000000</td>\n",
       "      <td>14.160000</td>\n",
       "      <td>87.000000</td>\n",
       "      <td>7.520000</td>\n",
       "      <td>3.000000</td>\n",
       "      <td>2.300000</td>\n",
       "      <td>408.000000</td>\n",
       "    </tr>\n",
       "    <tr>\n",
       "      <th>50%</th>\n",
       "      <td>101.000000</td>\n",
       "      <td>0.000000</td>\n",
       "      <td>179.400000</td>\n",
       "      <td>201.400000</td>\n",
       "      <td>201.200000</td>\n",
       "      <td>10.300000</td>\n",
       "      <td>1.000000</td>\n",
       "      <td>0.000000</td>\n",
       "      <td>0.000000</td>\n",
       "      <td>0.000000</td>\n",
       "      <td>101.000000</td>\n",
       "      <td>30.500000</td>\n",
       "      <td>100.000000</td>\n",
       "      <td>17.120000</td>\n",
       "      <td>100.000000</td>\n",
       "      <td>9.050000</td>\n",
       "      <td>4.000000</td>\n",
       "      <td>2.780000</td>\n",
       "      <td>415.000000</td>\n",
       "    </tr>\n",
       "    <tr>\n",
       "      <th>75%</th>\n",
       "      <td>127.000000</td>\n",
       "      <td>20.000000</td>\n",
       "      <td>216.400000</td>\n",
       "      <td>235.300000</td>\n",
       "      <td>235.300000</td>\n",
       "      <td>12.100000</td>\n",
       "      <td>2.000000</td>\n",
       "      <td>0.000000</td>\n",
       "      <td>0.000000</td>\n",
       "      <td>1.000000</td>\n",
       "      <td>114.000000</td>\n",
       "      <td>36.790000</td>\n",
       "      <td>114.000000</td>\n",
       "      <td>20.000000</td>\n",
       "      <td>113.000000</td>\n",
       "      <td>10.590000</td>\n",
       "      <td>6.000000</td>\n",
       "      <td>3.270000</td>\n",
       "      <td>510.000000</td>\n",
       "    </tr>\n",
       "    <tr>\n",
       "      <th>max</th>\n",
       "      <td>243.000000</td>\n",
       "      <td>51.000000</td>\n",
       "      <td>350.800000</td>\n",
       "      <td>363.700000</td>\n",
       "      <td>395.000000</td>\n",
       "      <td>20.000000</td>\n",
       "      <td>9.000000</td>\n",
       "      <td>1.000000</td>\n",
       "      <td>1.000000</td>\n",
       "      <td>1.000000</td>\n",
       "      <td>165.000000</td>\n",
       "      <td>59.640000</td>\n",
       "      <td>170.000000</td>\n",
       "      <td>30.910000</td>\n",
       "      <td>175.000000</td>\n",
       "      <td>17.770000</td>\n",
       "      <td>20.000000</td>\n",
       "      <td>5.400000</td>\n",
       "      <td>510.000000</td>\n",
       "    </tr>\n",
       "  </tbody>\n",
       "</table>\n",
       "</div>"
      ],
      "text/plain": [
       "       AccountLength  VMailMessage      DayMins      EveMins    NightMins  \\\n",
       "count    3333.000000   3333.000000  3333.000000  3333.000000  3333.000000   \n",
       "mean      101.064806      8.099010   179.775098   200.980348   200.872037   \n",
       "std        39.822106     13.688365    54.467389    50.713844    50.573847   \n",
       "min         1.000000      0.000000     0.000000     0.000000    23.200000   \n",
       "25%        74.000000      0.000000   143.700000   166.600000   167.000000   \n",
       "50%       101.000000      0.000000   179.400000   201.400000   201.200000   \n",
       "75%       127.000000     20.000000   216.400000   235.300000   235.300000   \n",
       "max       243.000000     51.000000   350.800000   363.700000   395.000000   \n",
       "\n",
       "          IntlMins  CustServCalls        Churn     IntlPlan    VMailPlan  \\\n",
       "count  3333.000000    3333.000000  3333.000000  3333.000000  3333.000000   \n",
       "mean     10.237294       1.562856     0.144914     0.096910     0.276628   \n",
       "std       2.791840       1.315491     0.352067     0.295879     0.447398   \n",
       "min       0.000000       0.000000     0.000000     0.000000     0.000000   \n",
       "25%       8.500000       1.000000     0.000000     0.000000     0.000000   \n",
       "50%      10.300000       1.000000     0.000000     0.000000     0.000000   \n",
       "75%      12.100000       2.000000     0.000000     0.000000     1.000000   \n",
       "max      20.000000       9.000000     1.000000     1.000000     1.000000   \n",
       "\n",
       "          DayCalls    DayCharge     EveCalls    EveCharge   NightCalls  \\\n",
       "count  3333.000000  3333.000000  3333.000000  3333.000000  3333.000000   \n",
       "mean    100.435644    30.562307   100.114311    17.083540   100.107711   \n",
       "std      20.069084     9.259435    19.922625     4.310668    19.568609   \n",
       "min       0.000000     0.000000     0.000000     0.000000    33.000000   \n",
       "25%      87.000000    24.430000    87.000000    14.160000    87.000000   \n",
       "50%     101.000000    30.500000   100.000000    17.120000   100.000000   \n",
       "75%     114.000000    36.790000   114.000000    20.000000   113.000000   \n",
       "max     165.000000    59.640000   170.000000    30.910000   175.000000   \n",
       "\n",
       "       NightCharge    IntlCalls   IntlCharge     AreaCode  \n",
       "count  3333.000000  3333.000000  3333.000000  3333.000000  \n",
       "mean      9.039325     4.479448     2.764581   437.182418  \n",
       "std       2.275873     2.461214     0.753773    42.371290  \n",
       "min       1.040000     0.000000     0.000000   408.000000  \n",
       "25%       7.520000     3.000000     2.300000   408.000000  \n",
       "50%       9.050000     4.000000     2.780000   415.000000  \n",
       "75%      10.590000     6.000000     3.270000   510.000000  \n",
       "max      17.770000    20.000000     5.400000   510.000000  "
      ]
     },
     "execution_count": 1,
     "metadata": {},
     "output_type": "execute_result"
    }
   ],
   "source": [
    "import numpy as np\n",
    "import pandas as pd\n",
    "churn = pd.read_csv('../data/Churn.csv')\n",
    "churn.describe()"
   ]
  },
  {
   "cell_type": "code",
   "execution_count": 2,
   "metadata": {},
   "outputs": [
    {
     "name": "stdout",
     "output_type": "stream",
     "text": [
      "(3333, 21)\n",
      "['AccountLength' 'VMailMessage' 'DayMins' 'EveMins' 'NightMins' 'IntlMins'\n",
      " 'CustServCalls' 'Churn' 'IntlPlan' 'VMailPlan' 'DayCalls' 'DayCharge'\n",
      " 'EveCalls' 'EveCharge' 'NightCalls' 'NightCharge' 'IntlCalls'\n",
      " 'IntlCharge' 'State' 'AreaCode' 'Phone']\n"
     ]
    }
   ],
   "source": [
    "print(churn.shape)\n",
    "print(churn.columns.values)"
   ]
  },
  {
   "cell_type": "code",
   "execution_count": 3,
   "metadata": {},
   "outputs": [
    {
     "name": "stdout",
     "output_type": "stream",
     "text": [
      "count    3333.000000\n",
      "mean      101.064806\n",
      "std        39.822106\n",
      "min         1.000000\n",
      "25%        74.000000\n",
      "50%       101.000000\n",
      "75%       127.000000\n",
      "max       243.000000\n",
      "Name: AccountLength, dtype: float64\n"
     ]
    }
   ],
   "source": [
    "print(churn.AccountLength.describe())"
   ]
  },
  {
   "cell_type": "code",
   "execution_count": 4,
   "metadata": {},
   "outputs": [
    {
     "name": "stdout",
     "output_type": "stream",
     "text": [
      "count    3333.000000\n",
      "mean        8.099010\n",
      "std        13.688365\n",
      "min         0.000000\n",
      "25%         0.000000\n",
      "50%         0.000000\n",
      "75%        20.000000\n",
      "max        51.000000\n",
      "Name: VMailMessage, dtype: float64\n"
     ]
    }
   ],
   "source": [
    "print(churn.VMailMessage.describe())"
   ]
  },
  {
   "cell_type": "code",
   "execution_count": 5,
   "metadata": {},
   "outputs": [
    {
     "name": "stdout",
     "output_type": "stream",
     "text": [
      "(array([408, 415, 510], dtype=int64), array([ 838, 1655,  840]))\n"
     ]
    }
   ],
   "source": [
    "print(np.unique(churn.AreaCode,return_counts=True))"
   ]
  },
  {
   "cell_type": "code",
   "execution_count": 6,
   "metadata": {},
   "outputs": [
    {
     "name": "stdout",
     "output_type": "stream",
     "text": [
      "(array([0, 1], dtype=int64), array([2850,  483]))\n"
     ]
    }
   ],
   "source": [
    "print(np.unique(churn.Churn,return_counts=True))"
   ]
  },
  {
   "cell_type": "code",
   "execution_count": 7,
   "metadata": {},
   "outputs": [
    {
     "data": {
      "text/plain": [
       "0.8550855085508551"
      ]
     },
     "execution_count": 7,
     "metadata": {},
     "output_type": "execute_result"
    }
   ],
   "source": [
    "2850/3333"
   ]
  },
  {
   "cell_type": "code",
   "execution_count": 8,
   "metadata": {},
   "outputs": [
    {
     "name": "stdout",
     "output_type": "stream",
     "text": [
      "(array([0, 1], dtype=int64), array([3010,  323]))\n"
     ]
    }
   ],
   "source": [
    "print(np.unique(churn.IntlPlan,return_counts=True))"
   ]
  },
  {
   "cell_type": "code",
   "execution_count": 9,
   "metadata": {},
   "outputs": [
    {
     "name": "stdout",
     "output_type": "stream",
     "text": [
      "51\n"
     ]
    }
   ],
   "source": [
    "print(len(np.unique(churn.State)))"
   ]
  },
  {
   "cell_type": "code",
   "execution_count": 10,
   "metadata": {},
   "outputs": [
    {
     "name": "stdout",
     "output_type": "stream",
     "text": [
      "(array(['AK', 'AL', 'AR', 'AZ', 'CA', 'CO', 'CT', 'DC', 'DE', 'FL', 'GA',\n",
      "       'HI', 'IA', 'ID', 'IL', 'IN', 'KS', 'KY', 'LA', 'MA', 'MD', 'ME',\n",
      "       'MI', 'MN', 'MO', 'MS', 'MT', 'NC', 'ND', 'NE', 'NH', 'NJ', 'NM',\n",
      "       'NV', 'NY', 'OH', 'OK', 'OR', 'PA', 'RI', 'SC', 'SD', 'TN', 'TX',\n",
      "       'UT', 'VA', 'VT', 'WA', 'WI', 'WV', 'WY'], dtype=object), array([ 52,  80,  55,  64,  34,  66,  74,  54,  61,  63,  54,  53,  44,\n",
      "        73,  58,  71,  70,  59,  51,  65,  70,  62,  73,  84,  63,  65,\n",
      "        68,  68,  62,  61,  56,  68,  62,  66,  83,  78,  61,  78,  45,\n",
      "        65,  60,  60,  53,  72,  72,  77,  73,  66,  78, 106,  77]))\n"
     ]
    }
   ],
   "source": [
    "print(np.unique(churn.State,return_counts=True))"
   ]
  },
  {
   "cell_type": "code",
   "execution_count": 11,
   "metadata": {},
   "outputs": [
    {
     "data": {
      "text/html": [
       "<div>\n",
       "<style scoped>\n",
       "    .dataframe tbody tr th:only-of-type {\n",
       "        vertical-align: middle;\n",
       "    }\n",
       "\n",
       "    .dataframe tbody tr th {\n",
       "        vertical-align: top;\n",
       "    }\n",
       "\n",
       "    .dataframe thead th {\n",
       "        text-align: right;\n",
       "    }\n",
       "</style>\n",
       "<table border=\"1\" class=\"dataframe\">\n",
       "  <thead>\n",
       "    <tr style=\"text-align: right;\">\n",
       "      <th></th>\n",
       "      <th>AccountLength</th>\n",
       "      <th>VMailMessage</th>\n",
       "      <th>DayMins</th>\n",
       "      <th>EveMins</th>\n",
       "      <th>NightMins</th>\n",
       "      <th>IntlMins</th>\n",
       "      <th>CustServCalls</th>\n",
       "      <th>Churn</th>\n",
       "      <th>IntlPlan</th>\n",
       "      <th>VMailPlan</th>\n",
       "      <th>...</th>\n",
       "      <th>DayCharge</th>\n",
       "      <th>EveCalls</th>\n",
       "      <th>EveCharge</th>\n",
       "      <th>NightCalls</th>\n",
       "      <th>NightCharge</th>\n",
       "      <th>IntlCalls</th>\n",
       "      <th>IntlCharge</th>\n",
       "      <th>State</th>\n",
       "      <th>AreaCode</th>\n",
       "      <th>Phone</th>\n",
       "    </tr>\n",
       "  </thead>\n",
       "  <tbody>\n",
       "    <tr>\n",
       "      <th>0</th>\n",
       "      <td>128</td>\n",
       "      <td>25</td>\n",
       "      <td>265.1</td>\n",
       "      <td>197.4</td>\n",
       "      <td>244.7</td>\n",
       "      <td>10.0</td>\n",
       "      <td>1</td>\n",
       "      <td>0</td>\n",
       "      <td>0</td>\n",
       "      <td>1</td>\n",
       "      <td>...</td>\n",
       "      <td>45.07</td>\n",
       "      <td>99</td>\n",
       "      <td>16.78</td>\n",
       "      <td>91</td>\n",
       "      <td>11.01</td>\n",
       "      <td>3</td>\n",
       "      <td>2.70</td>\n",
       "      <td>KS</td>\n",
       "      <td>415</td>\n",
       "      <td>382-4657</td>\n",
       "    </tr>\n",
       "    <tr>\n",
       "      <th>1</th>\n",
       "      <td>107</td>\n",
       "      <td>26</td>\n",
       "      <td>161.6</td>\n",
       "      <td>195.5</td>\n",
       "      <td>254.4</td>\n",
       "      <td>13.7</td>\n",
       "      <td>1</td>\n",
       "      <td>0</td>\n",
       "      <td>0</td>\n",
       "      <td>1</td>\n",
       "      <td>...</td>\n",
       "      <td>27.47</td>\n",
       "      <td>103</td>\n",
       "      <td>16.62</td>\n",
       "      <td>103</td>\n",
       "      <td>11.45</td>\n",
       "      <td>3</td>\n",
       "      <td>3.70</td>\n",
       "      <td>OH</td>\n",
       "      <td>415</td>\n",
       "      <td>371-7191</td>\n",
       "    </tr>\n",
       "    <tr>\n",
       "      <th>2</th>\n",
       "      <td>137</td>\n",
       "      <td>0</td>\n",
       "      <td>243.4</td>\n",
       "      <td>121.2</td>\n",
       "      <td>162.6</td>\n",
       "      <td>12.2</td>\n",
       "      <td>0</td>\n",
       "      <td>0</td>\n",
       "      <td>0</td>\n",
       "      <td>0</td>\n",
       "      <td>...</td>\n",
       "      <td>41.38</td>\n",
       "      <td>110</td>\n",
       "      <td>10.30</td>\n",
       "      <td>104</td>\n",
       "      <td>7.32</td>\n",
       "      <td>5</td>\n",
       "      <td>3.29</td>\n",
       "      <td>NJ</td>\n",
       "      <td>415</td>\n",
       "      <td>358-1921</td>\n",
       "    </tr>\n",
       "    <tr>\n",
       "      <th>3</th>\n",
       "      <td>84</td>\n",
       "      <td>0</td>\n",
       "      <td>299.4</td>\n",
       "      <td>61.9</td>\n",
       "      <td>196.9</td>\n",
       "      <td>6.6</td>\n",
       "      <td>2</td>\n",
       "      <td>0</td>\n",
       "      <td>1</td>\n",
       "      <td>0</td>\n",
       "      <td>...</td>\n",
       "      <td>50.90</td>\n",
       "      <td>88</td>\n",
       "      <td>5.26</td>\n",
       "      <td>89</td>\n",
       "      <td>8.86</td>\n",
       "      <td>7</td>\n",
       "      <td>1.78</td>\n",
       "      <td>OH</td>\n",
       "      <td>408</td>\n",
       "      <td>375-9999</td>\n",
       "    </tr>\n",
       "    <tr>\n",
       "      <th>4</th>\n",
       "      <td>75</td>\n",
       "      <td>0</td>\n",
       "      <td>166.7</td>\n",
       "      <td>148.3</td>\n",
       "      <td>186.9</td>\n",
       "      <td>10.1</td>\n",
       "      <td>3</td>\n",
       "      <td>0</td>\n",
       "      <td>1</td>\n",
       "      <td>0</td>\n",
       "      <td>...</td>\n",
       "      <td>28.34</td>\n",
       "      <td>122</td>\n",
       "      <td>12.61</td>\n",
       "      <td>121</td>\n",
       "      <td>8.41</td>\n",
       "      <td>3</td>\n",
       "      <td>2.73</td>\n",
       "      <td>OK</td>\n",
       "      <td>415</td>\n",
       "      <td>330-6626</td>\n",
       "    </tr>\n",
       "  </tbody>\n",
       "</table>\n",
       "<p>5 rows × 21 columns</p>\n",
       "</div>"
      ],
      "text/plain": [
       "   AccountLength  VMailMessage  DayMins  EveMins  NightMins  IntlMins  \\\n",
       "0            128            25    265.1    197.4      244.7      10.0   \n",
       "1            107            26    161.6    195.5      254.4      13.7   \n",
       "2            137             0    243.4    121.2      162.6      12.2   \n",
       "3             84             0    299.4     61.9      196.9       6.6   \n",
       "4             75             0    166.7    148.3      186.9      10.1   \n",
       "\n",
       "   CustServCalls  Churn  IntlPlan  VMailPlan    ...     DayCharge  EveCalls  \\\n",
       "0              1      0         0          1    ...         45.07        99   \n",
       "1              1      0         0          1    ...         27.47       103   \n",
       "2              0      0         0          0    ...         41.38       110   \n",
       "3              2      0         1          0    ...         50.90        88   \n",
       "4              3      0         1          0    ...         28.34       122   \n",
       "\n",
       "   EveCharge  NightCalls  NightCharge  IntlCalls  IntlCharge  State AreaCode  \\\n",
       "0      16.78          91        11.01          3        2.70     KS      415   \n",
       "1      16.62         103        11.45          3        3.70     OH      415   \n",
       "2      10.30         104         7.32          5        3.29     NJ      415   \n",
       "3       5.26          89         8.86          7        1.78     OH      408   \n",
       "4      12.61         121         8.41          3        2.73     OK      415   \n",
       "\n",
       "      Phone  \n",
       "0  382-4657  \n",
       "1  371-7191  \n",
       "2  358-1921  \n",
       "3  375-9999  \n",
       "4  330-6626  \n",
       "\n",
       "[5 rows x 21 columns]"
      ]
     },
     "execution_count": 11,
     "metadata": {},
     "output_type": "execute_result"
    }
   ],
   "source": [
    "churn.head()"
   ]
  },
  {
   "cell_type": "code",
   "execution_count": 12,
   "metadata": {},
   "outputs": [
    {
     "name": "stdout",
     "output_type": "stream",
     "text": [
      "Churn        0    1\n",
      "AreaCode           \n",
      "408        716  122\n",
      "415       1419  236\n",
      "510        715  125\n",
      "dof:  2\n",
      "chisquare:  0.17754069117425395\n",
      "p:  0.9150556960243712\n"
     ]
    }
   ],
   "source": [
    "# apply chi square between area code and churn\n",
    "table = pd.crosstab(churn.AreaCode,churn.Churn)\n",
    "print(table)\n",
    "from scipy.stats import chi2_contingency\n",
    "from scipy.stats import chi2\n",
    "chisquare, p, dof, expected = chi2_contingency(table)\n",
    "print('dof: ', dof)\n",
    "print('chisquare: ', chisquare)\n",
    "print('p: ' , p)"
   ]
  },
  {
   "cell_type": "code",
   "execution_count": 13,
   "metadata": {},
   "outputs": [
    {
     "name": "stdout",
     "output_type": "stream",
     "text": [
      "Churn   0   1\n",
      "State        \n",
      "AK     49   3\n",
      "AL     72   8\n",
      "AR     44  11\n",
      "AZ     60   4\n",
      "CA     25   9\n",
      "CO     57   9\n",
      "CT     62  12\n",
      "DC     49   5\n",
      "DE     52   9\n",
      "FL     55   8\n",
      "GA     46   8\n",
      "HI     50   3\n",
      "IA     41   3\n",
      "ID     64   9\n",
      "IL     53   5\n",
      "IN     62   9\n",
      "KS     57  13\n",
      "KY     51   8\n",
      "LA     47   4\n",
      "MA     54  11\n",
      "MD     53  17\n",
      "ME     49  13\n",
      "MI     57  16\n",
      "MN     69  15\n",
      "MO     56   7\n",
      "MS     51  14\n",
      "MT     54  14\n",
      "NC     57  11\n",
      "ND     56   6\n",
      "NE     56   5\n",
      "NH     47   9\n",
      "NJ     50  18\n",
      "NM     56   6\n",
      "NV     52  14\n",
      "NY     68  15\n",
      "OH     68  10\n",
      "OK     52   9\n",
      "OR     67  11\n",
      "PA     37   8\n",
      "RI     59   6\n",
      "SC     46  14\n",
      "SD     52   8\n",
      "TN     48   5\n",
      "TX     54  18\n",
      "UT     62  10\n",
      "VA     72   5\n",
      "VT     65   8\n",
      "WA     52  14\n",
      "WI     71   7\n",
      "WV     96  10\n",
      "WY     68   9\n",
      "dof:  50\n",
      "chisquare:  83.04379191019663\n",
      "p:  0.002296221552011188\n"
     ]
    }
   ],
   "source": [
    "# apply chi square between state and churn\n",
    "table = pd.crosstab(churn.State,churn.Churn)\n",
    "print(table)\n",
    "from scipy.stats import chi2_contingency\n",
    "from scipy.stats import chi2\n",
    "chisquare, p, dof, expected = chi2_contingency(table)\n",
    "print('dof: ', dof)\n",
    "print('chisquare: ', chisquare)\n",
    "print('p: ' , p)"
   ]
  },
  {
   "cell_type": "code",
   "execution_count": 14,
   "metadata": {},
   "outputs": [
    {
     "name": "stdout",
     "output_type": "stream",
     "text": [
      "Churn        0    1\n",
      "IntlPlan           \n",
      "0         2664  346\n",
      "1          186  137\n",
      "dof:  1\n",
      "chisquare:  222.5657566499376\n",
      "p:  2.4931077033159556e-50\n"
     ]
    }
   ],
   "source": [
    "# apply chi square between international plan and churn\n",
    "table = pd.crosstab(churn.IntlPlan,churn.Churn)\n",
    "print(table)\n",
    "from scipy.stats import chi2_contingency\n",
    "from scipy.stats import chi2\n",
    "chisquare, p, dof, expected = chi2_contingency(table)\n",
    "print('dof: ', dof)\n",
    "print('chisquare: ', chisquare)\n",
    "print('p: ' , p)"
   ]
  },
  {
   "cell_type": "code",
   "execution_count": 15,
   "metadata": {},
   "outputs": [
    {
     "name": "stdout",
     "output_type": "stream",
     "text": [
      "Churn         0    1\n",
      "VMailPlan           \n",
      "0          2008  403\n",
      "1           842   80\n",
      "dof:  1\n",
      "chisquare:  34.13166001075673\n",
      "p:  5.15063965903898e-09\n"
     ]
    }
   ],
   "source": [
    "# apply chi square between vmail plan and churn\n",
    "table = pd.crosstab(churn.VMailPlan,churn.Churn)\n",
    "print(table)\n",
    "from scipy.stats import chi2_contingency\n",
    "from scipy.stats import chi2\n",
    "chisquare, p, dof, expected = chi2_contingency(table)\n",
    "print('dof: ', dof)\n",
    "print('chisquare: ', chisquare)\n",
    "print('p: ' , p)"
   ]
  },
  {
   "cell_type": "code",
   "execution_count": 16,
   "metadata": {},
   "outputs": [
    {
     "name": "stdout",
     "output_type": "stream",
     "text": [
      "              df        sum_sq        mean_sq           F        PR(>F)\n",
      "Churn        1.0  4.160300e+05  416030.014200  146.350785  5.300278e-33\n",
      "Residual  3331.0  9.469003e+06    2842.690687         NaN           NaN\n"
     ]
    }
   ],
   "source": [
    "# apply anova f-test on Day mins and churn\n",
    "import statsmodels.api as sm\n",
    "from statsmodels.formula.api import ols\n",
    "ftest = ols(\"DayMins ~ Churn\", data=churn).fit()\n",
    "anova = sm.stats.anova_lm(ftest)\n",
    "print(anova)"
   ]
  },
  {
   "cell_type": "code",
   "execution_count": 17,
   "metadata": {},
   "outputs": [
    {
     "data": {
      "text/plain": [
       "<Figure size 640x480 with 1 Axes>"
      ]
     },
     "metadata": {},
     "output_type": "display_data"
    }
   ],
   "source": [
    "# SepalWidth vs species\n",
    "import matplotlib.pyplot as plt\n",
    "plt.scatter(churn.DayMins,\n",
    "            churn.Churn)\n",
    "plt.show()"
   ]
  },
  {
   "cell_type": "code",
   "execution_count": 18,
   "metadata": {},
   "outputs": [
    {
     "name": "stdout",
     "output_type": "stream",
     "text": [
      "              df        sum_sq       mean_sq          F        PR(>F)\n",
      "Churn        1.0  7.379291e+04  73792.905510  28.932577  8.011339e-08\n",
      "Residual  3331.0  8.495758e+06   2550.512746        NaN           NaN\n"
     ]
    }
   ],
   "source": [
    "# apply anova f-test on evening mins and churn\n",
    "import statsmodels.api as sm\n",
    "from statsmodels.formula.api import ols\n",
    "ftest = ols(\"EveMins ~ Churn\", data=churn).fit()\n",
    "anova = sm.stats.anova_lm(ftest)\n",
    "print(anova)"
   ]
  },
  {
   "cell_type": "code",
   "execution_count": 19,
   "metadata": {},
   "outputs": [
    {
     "name": "stdout",
     "output_type": "stream",
     "text": [
      "              df         sum_sq      mean_sq          F        PR(>F)\n",
      "Churn        1.0    5026.478785  5026.478785  27.035912  2.117522e-07\n",
      "Residual  3331.0  619294.847948   185.918597        NaN           NaN\n"
     ]
    }
   ],
   "source": [
    "# apply anova f-test on VMailMessage and churn\n",
    "ftest = ols(\"VMailMessage ~ Churn\", data=churn).fit()\n",
    "anova = sm.stats.anova_lm(ftest)\n",
    "print(anova)"
   ]
  },
  {
   "cell_type": "code",
   "execution_count": 20,
   "metadata": {},
   "outputs": [
    {
     "data": {
      "text/plain": [
       "AccountLength    0\n",
       "VMailMessage     0\n",
       "DayMins          0\n",
       "EveMins          0\n",
       "NightMins        0\n",
       "IntlMins         0\n",
       "CustServCalls    0\n",
       "Churn            0\n",
       "IntlPlan         0\n",
       "VMailPlan        0\n",
       "DayCalls         0\n",
       "DayCharge        0\n",
       "EveCalls         0\n",
       "EveCharge        0\n",
       "NightCalls       0\n",
       "NightCharge      0\n",
       "IntlCalls        0\n",
       "IntlCharge       0\n",
       "State            0\n",
       "AreaCode         0\n",
       "Phone            0\n",
       "dtype: int64"
      ]
     },
     "execution_count": 20,
     "metadata": {},
     "output_type": "execute_result"
    }
   ],
   "source": [
    "# missing values\n",
    "churn.isnull().sum()"
   ]
  },
  {
   "cell_type": "code",
   "execution_count": 21,
   "metadata": {},
   "outputs": [
    {
     "data": {
      "text/plain": [
       "array([[1.        , 0.99999995],\n",
       "       [0.99999995, 1.        ]])"
      ]
     },
     "execution_count": 21,
     "metadata": {},
     "output_type": "execute_result"
    }
   ],
   "source": [
    "# find out corrleation between day charge and day minutes\n",
    "np.corrcoef(churn.DayMins,churn.DayCharge)"
   ]
  },
  {
   "cell_type": "code",
   "execution_count": 22,
   "metadata": {},
   "outputs": [
    {
     "data": {
      "text/plain": [
       "array([[1.        , 0.99999978],\n",
       "       [0.99999978, 1.        ]])"
      ]
     },
     "execution_count": 22,
     "metadata": {},
     "output_type": "execute_result"
    }
   ],
   "source": [
    "np.corrcoef(churn.EveMins,churn.EveCharge)"
   ]
  },
  {
   "cell_type": "code",
   "execution_count": 23,
   "metadata": {},
   "outputs": [
    {
     "data": {
      "text/plain": [
       "array([[1.        , 0.99999921],\n",
       "       [0.99999921, 1.        ]])"
      ]
     },
     "execution_count": 23,
     "metadata": {},
     "output_type": "execute_result"
    }
   ],
   "source": [
    "np.corrcoef(churn.NightMins,churn.NightCharge)"
   ]
  },
  {
   "cell_type": "code",
   "execution_count": 24,
   "metadata": {},
   "outputs": [
    {
     "data": {
      "text/plain": [
       "array([[1.        , 0.99999274],\n",
       "       [0.99999274, 1.        ]])"
      ]
     },
     "execution_count": 24,
     "metadata": {},
     "output_type": "execute_result"
    }
   ],
   "source": [
    "np.corrcoef(churn.IntlMins,churn.IntlCharge)"
   ]
  },
  {
   "cell_type": "code",
   "execution_count": 25,
   "metadata": {},
   "outputs": [
    {
     "data": {
      "text/plain": [
       "array([[1.        , 0.00675296],\n",
       "       [0.00675296, 1.        ]])"
      ]
     },
     "execution_count": 25,
     "metadata": {},
     "output_type": "execute_result"
    }
   ],
   "source": [
    "np.corrcoef(churn.DayCalls,churn.DayCharge)"
   ]
  },
  {
   "cell_type": "code",
   "execution_count": 26,
   "metadata": {},
   "outputs": [
    {
     "data": {
      "text/plain": [
       "(3333, 21)"
      ]
     },
     "execution_count": 26,
     "metadata": {},
     "output_type": "execute_result"
    }
   ],
   "source": [
    "churn.shape"
   ]
  },
  {
   "cell_type": "code",
   "execution_count": 27,
   "metadata": {},
   "outputs": [
    {
     "data": {
      "text/plain": [
       "(array([0, 1], dtype=int64), array([2850,  483]))"
      ]
     },
     "execution_count": 27,
     "metadata": {},
     "output_type": "execute_result"
    }
   ],
   "source": [
    "np.unique(churn.Churn,return_counts=True)"
   ]
  },
  {
   "cell_type": "code",
   "execution_count": 28,
   "metadata": {},
   "outputs": [
    {
     "data": {
      "text/plain": [
       "0.8550855085508551"
      ]
     },
     "execution_count": 28,
     "metadata": {},
     "output_type": "execute_result"
    }
   ],
   "source": [
    "2850/3333"
   ]
  },
  {
   "cell_type": "code",
   "execution_count": 29,
   "metadata": {},
   "outputs": [
    {
     "data": {
      "text/plain": [
       "Index(['AccountLength', 'VMailMessage', 'DayMins', 'EveMins', 'NightMins',\n",
       "       'IntlMins', 'CustServCalls', 'Churn', 'IntlPlan', 'VMailPlan',\n",
       "       'DayCalls', 'DayCharge', 'EveCalls', 'EveCharge', 'NightCalls',\n",
       "       'NightCharge', 'IntlCalls', 'IntlCharge', 'State', 'AreaCode', 'Phone'],\n",
       "      dtype='object')"
      ]
     },
     "execution_count": 29,
     "metadata": {},
     "output_type": "execute_result"
    }
   ],
   "source": [
    "churn.columns"
   ]
  },
  {
   "cell_type": "code",
   "execution_count": 30,
   "metadata": {},
   "outputs": [
    {
     "name": "stdout",
     "output_type": "stream",
     "text": [
      "             Churn\n",
      "count  3333.000000\n",
      "mean      0.144914\n",
      "std       0.352067\n",
      "min       0.000000\n",
      "25%       0.000000\n",
      "50%       0.000000\n",
      "75%       0.000000\n",
      "max       1.000000\n",
      "       AccountLength  VMailMessage  CustServCalls     IntlPlan    VMailPlan  \\\n",
      "count    3333.000000   3333.000000    3333.000000  3333.000000  3333.000000   \n",
      "mean      101.064806      8.099010       1.562856     0.096910     0.276628   \n",
      "std        39.822106     13.688365       1.315491     0.295879     0.447398   \n",
      "min         1.000000      0.000000       0.000000     0.000000     0.000000   \n",
      "25%        74.000000      0.000000       1.000000     0.000000     0.000000   \n",
      "50%       101.000000      0.000000       1.000000     0.000000     0.000000   \n",
      "75%       127.000000     20.000000       2.000000     0.000000     1.000000   \n",
      "max       243.000000     51.000000       9.000000     1.000000     1.000000   \n",
      "\n",
      "          DayCalls    DayCharge     EveCalls    EveCharge   NightCalls  \\\n",
      "count  3333.000000  3333.000000  3333.000000  3333.000000  3333.000000   \n",
      "mean    100.435644    30.562307   100.114311    17.083540   100.107711   \n",
      "std      20.069084     9.259435    19.922625     4.310668    19.568609   \n",
      "min       0.000000     0.000000     0.000000     0.000000    33.000000   \n",
      "25%      87.000000    24.430000    87.000000    14.160000    87.000000   \n",
      "50%     101.000000    30.500000   100.000000    17.120000   100.000000   \n",
      "75%     114.000000    36.790000   114.000000    20.000000   113.000000   \n",
      "max     165.000000    59.640000   170.000000    30.910000   175.000000   \n",
      "\n",
      "       NightCharge    IntlCalls   IntlCharge     AreaCode  \n",
      "count  3333.000000  3333.000000  3333.000000  3333.000000  \n",
      "mean      9.039325     4.479448     2.764581   437.182418  \n",
      "std       2.275873     2.461214     0.753773    42.371290  \n",
      "min       1.040000     0.000000     0.000000   408.000000  \n",
      "25%       7.520000     3.000000     2.300000   408.000000  \n",
      "50%       9.050000     4.000000     2.780000   415.000000  \n",
      "75%      10.590000     6.000000     3.270000   510.000000  \n",
      "max      17.770000    20.000000     5.400000   510.000000  \n"
     ]
    }
   ],
   "source": [
    "# split the file into Independent and dependent variables\n",
    "churnY = churn.iloc[::,7:8:1]\n",
    "print(churnY.describe())\n",
    "# ignoring day min, eve mings, night mins, int mins\n",
    "columnsX = [0,1,6,8,9,10,11,12,13,14,15,16,17,18,19]\n",
    "churnX = churn.iloc[::,columnsX]\n",
    "print(churnX.describe())"
   ]
  },
  {
   "cell_type": "code",
   "execution_count": 31,
   "metadata": {},
   "outputs": [
    {
     "name": "stdout",
     "output_type": "stream",
     "text": [
      "(3333, 15)\n",
      "(3333, 1)\n"
     ]
    }
   ],
   "source": [
    "print(churnX.shape)\n",
    "print(churnY.shape)"
   ]
  },
  {
   "cell_type": "code",
   "execution_count": 32,
   "metadata": {},
   "outputs": [
    {
     "name": "stdout",
     "output_type": "stream",
     "text": [
      "(2333, 15)\n",
      "(2333, 1)\n",
      "(1000, 15)\n",
      "(1000, 1)\n",
      "      Churn\n",
      "2918      0\n",
      "1884      0\n",
      "2823      0\n",
      "2319      0\n",
      "2980      1\n",
      "723       0\n",
      "2308      0\n",
      "2587      0\n",
      "1355      0\n",
      "746       0\n"
     ]
    }
   ],
   "source": [
    "# splitting the data into Train and Test\n",
    "from sklearn.model_selection import train_test_split\n",
    "X_train, X_test, Y_train, Y_test = train_test_split(churnX, churnY,\n",
    "                                                    test_size = 0.30,\n",
    "                                                    random_state = 0)\n",
    "print(X_train.shape)\n",
    "print(Y_train.shape)\n",
    "print(X_test.shape)\n",
    "print(Y_test.shape)\n",
    "print(Y_train[0:10])"
   ]
  },
  {
   "cell_type": "code",
   "execution_count": 33,
   "metadata": {},
   "outputs": [
    {
     "data": {
      "text/plain": [
       "(array([0, 1], dtype=int64), array([1988,  345]))"
      ]
     },
     "execution_count": 33,
     "metadata": {},
     "output_type": "execute_result"
    }
   ],
   "source": [
    "np.unique(Y_train,return_counts=True)"
   ]
  },
  {
   "cell_type": "code",
   "execution_count": 34,
   "metadata": {},
   "outputs": [
    {
     "data": {
      "text/plain": [
       "0.8521217316759537"
      ]
     },
     "execution_count": 34,
     "metadata": {},
     "output_type": "execute_result"
    }
   ],
   "source": [
    "1988/2333"
   ]
  },
  {
   "cell_type": "code",
   "execution_count": 35,
   "metadata": {},
   "outputs": [
    {
     "data": {
      "text/plain": [
       "(array(['AK', 'AL', 'AR', 'AZ', 'CA', 'CO', 'CT', 'DC', 'DE', 'FL', 'GA',\n",
       "        'HI', 'IA', 'ID', 'IL', 'IN', 'KS', 'KY', 'LA', 'MA', 'MD', 'ME',\n",
       "        'MI', 'MN', 'MO', 'MS', 'MT', 'NC', 'ND', 'NE', 'NH', 'NJ', 'NM',\n",
       "        'NV', 'NY', 'OH', 'OK', 'OR', 'PA', 'RI', 'SC', 'SD', 'TN', 'TX',\n",
       "        'UT', 'VA', 'VT', 'WA', 'WI', 'WV', 'WY'], dtype=object),\n",
       " array([43, 53, 44, 41, 20, 45, 53, 38, 47, 44, 42, 38, 33, 51, 35, 47, 54,\n",
       "        39, 32, 46, 43, 46, 51, 61, 44, 45, 53, 41, 42, 47, 41, 42, 48, 44,\n",
       "        58, 55, 48, 57, 29, 46, 46, 43, 36, 45, 46, 57, 43, 48, 57, 68, 58]))"
      ]
     },
     "execution_count": 35,
     "metadata": {},
     "output_type": "execute_result"
    }
   ],
   "source": [
    "np.unique(X_train.State,return_counts=True)"
   ]
  },
  {
   "cell_type": "code",
   "execution_count": 36,
   "metadata": {},
   "outputs": [
    {
     "name": "stdout",
     "output_type": "stream",
     "text": [
      "[ 0  1  2  3  4  5  6  7  8  9 10 11 12 13 14 15 16 17 18 19 20 21 22 23\n",
      " 24 25 26 27 28 29 30 31 32 33 34 35 36 37 38 39 40 41 42 43 44 45 46 47\n",
      " 48 49 50]\n"
     ]
    },
    {
     "name": "stderr",
     "output_type": "stream",
     "text": [
      "E:\\Python\\Python3.7.2\\lib\\site-packages\\pandas\\core\\generic.py:4405: SettingWithCopyWarning: \n",
      "A value is trying to be set on a copy of a slice from a DataFrame.\n",
      "Try using .loc[row_indexer,col_indexer] = value instead\n",
      "\n",
      "See the caveats in the documentation: http://pandas.pydata.org/pandas-docs/stable/indexing.html#indexing-view-versus-copy\n",
      "  self[name] = value\n"
     ]
    }
   ],
   "source": [
    "# lable encoding for strings\n",
    "from sklearn.preprocessing import LabelEncoder\n",
    "le = LabelEncoder()\n",
    "X_train.State = le.fit_transform(X_train.State)\n",
    "X_test.State = le.transform(X_test.State)\n",
    "print(np.unique(X_train.State,return_counts=False))"
   ]
  },
  {
   "cell_type": "code",
   "execution_count": 37,
   "metadata": {},
   "outputs": [
    {
     "data": {
      "text/plain": [
       "2918    19\n",
       "1884     0\n",
       "2823    22\n",
       "2319    24\n",
       "2980    16\n",
       "Name: State, dtype: int32"
      ]
     },
     "execution_count": 37,
     "metadata": {},
     "output_type": "execute_result"
    }
   ],
   "source": [
    "X_train.State.head()"
   ]
  },
  {
   "cell_type": "code",
   "execution_count": 38,
   "metadata": {},
   "outputs": [
    {
     "data": {
      "text/plain": [
       "(2333, 15)"
      ]
     },
     "execution_count": 38,
     "metadata": {},
     "output_type": "execute_result"
    }
   ],
   "source": [
    "X_train.shape"
   ]
  },
  {
   "cell_type": "code",
   "execution_count": 39,
   "metadata": {},
   "outputs": [
    {
     "data": {
      "text/plain": [
       "Index(['AccountLength', 'VMailMessage', 'CustServCalls', 'IntlPlan',\n",
       "       'VMailPlan', 'DayCalls', 'DayCharge', 'EveCalls', 'EveCharge',\n",
       "       'NightCalls', 'NightCharge', 'IntlCalls', 'IntlCharge', 'State',\n",
       "       'AreaCode'],\n",
       "      dtype='object')"
      ]
     },
     "execution_count": 39,
     "metadata": {},
     "output_type": "execute_result"
    }
   ],
   "source": [
    "X_train.columns"
   ]
  },
  {
   "cell_type": "code",
   "execution_count": 40,
   "metadata": {},
   "outputs": [
    {
     "data": {
      "text/plain": [
       "array([ 0,  1,  2,  3,  4,  5,  6,  7,  8,  9, 10, 11, 12, 13, 14, 15, 16,\n",
       "       17, 18, 19, 20, 21, 22, 23, 24, 25, 26, 27, 28, 29, 30, 31, 32, 33,\n",
       "       34, 35, 36, 37, 38, 39, 40, 41, 42, 43, 44, 45, 46, 47, 48, 49, 50])"
      ]
     },
     "execution_count": 40,
     "metadata": {},
     "output_type": "execute_result"
    }
   ],
   "source": [
    "np.unique(X_train.State)"
   ]
  },
  {
   "cell_type": "code",
   "execution_count": 41,
   "metadata": {},
   "outputs": [
    {
     "data": {
      "text/plain": [
       "array([408, 415, 510], dtype=int64)"
      ]
     },
     "execution_count": 41,
     "metadata": {},
     "output_type": "execute_result"
    }
   ],
   "source": [
    "np.unique(X_train.AreaCode)"
   ]
  },
  {
   "cell_type": "code",
   "execution_count": 42,
   "metadata": {},
   "outputs": [
    {
     "data": {
      "text/plain": [
       "Index(['AccountLength', 'VMailMessage', 'CustServCalls', 'IntlPlan',\n",
       "       'VMailPlan', 'DayCalls', 'DayCharge', 'EveCalls', 'EveCharge',\n",
       "       'NightCalls', 'NightCharge', 'IntlCalls', 'IntlCharge', 'State',\n",
       "       'AreaCode'],\n",
       "      dtype='object')"
      ]
     },
     "execution_count": 42,
     "metadata": {},
     "output_type": "execute_result"
    }
   ],
   "source": [
    "X_train.columns"
   ]
  },
  {
   "cell_type": "code",
   "execution_count": 43,
   "metadata": {},
   "outputs": [],
   "source": [
    "# extract only continuous columns\n",
    "ContColumns = list(['CustServCalls', 'DayCharge','EveCharge'])\n",
    "X_train_cont = pd.DataFrame(X_train,columns=ContColumns)\n",
    "X_test_cont = pd.DataFrame(X_test,columns=ContColumns)"
   ]
  },
  {
   "cell_type": "code",
   "execution_count": 44,
   "metadata": {},
   "outputs": [],
   "source": [
    "# apply sclaing on continuous variables\n",
    "from sklearn.preprocessing import MinMaxScaler\n",
    "SS = MinMaxScaler()\n",
    "X_train_cont2 = SS.fit_transform(X_train_cont)\n",
    "X_test_cont2 = SS.transform(X_test_cont)"
   ]
  },
  {
   "cell_type": "code",
   "execution_count": 45,
   "metadata": {},
   "outputs": [],
   "source": [
    "# convert X_train3 as dataframe\n",
    "X_train_cont3 = pd.DataFrame(X_train_cont2)\n",
    "X_test_cont3 = pd.DataFrame(X_test_cont2)"
   ]
  },
  {
   "cell_type": "code",
   "execution_count": 46,
   "metadata": {},
   "outputs": [
    {
     "name": "stdout",
     "output_type": "stream",
     "text": [
      "(2333, 3)\n",
      "(1000, 3)\n"
     ]
    }
   ],
   "source": [
    "print(X_train_cont3.shape)\n",
    "print(X_test_cont3.shape)"
   ]
  },
  {
   "cell_type": "code",
   "execution_count": 47,
   "metadata": {},
   "outputs": [
    {
     "name": "stdout",
     "output_type": "stream",
     "text": [
      "RangeIndex(start=0, stop=2333, step=1)\n"
     ]
    }
   ],
   "source": [
    "print(X_train_cont3.index)"
   ]
  },
  {
   "cell_type": "code",
   "execution_count": 48,
   "metadata": {},
   "outputs": [
    {
     "name": "stdout",
     "output_type": "stream",
     "text": [
      "(2333, 2)\n",
      "(1000, 2)\n"
     ]
    }
   ],
   "source": [
    "# extract only categorical columns\n",
    "CatColumns = list(['IntlPlan','VMailPlan'])\n",
    "X_train_cat = pd.DataFrame(X_train,columns=CatColumns)\n",
    "print(X_train_cat.shape)\n",
    "X_test_cat = pd.DataFrame(X_test,columns=CatColumns)\n",
    "print(X_test_cat.shape)"
   ]
  },
  {
   "cell_type": "code",
   "execution_count": 49,
   "metadata": {},
   "outputs": [
    {
     "name": "stdout",
     "output_type": "stream",
     "text": [
      "(2333, 4)\n",
      "(1000, 4)\n"
     ]
    }
   ],
   "source": [
    "# classes -> (1, 2, 3)\n",
    "\n",
    "# OHE:\n",
    "# 1 -> (0, 0, 1)\n",
    "# 2 -> (0, 1, 0)\n",
    "# 3 -> (1, 0, 0)\n",
    "\n",
    "\n",
    "# apply one hot encoding on state and area\n",
    "from sklearn.preprocessing import OneHotEncoder\n",
    "# columns 2,3represent state and area code\n",
    "categories = np.array([2])     \n",
    "OHE = OneHotEncoder(categories='auto', sparse=False, handle_unknown='error')\n",
    "# OHE = OneHotEncoder(n_values = 'auto', categorical_features = categories, \n",
    "#                     sparse = False, handle_unknown = 'error')\n",
    "X_train_cat2 = OHE.fit_transform(X_train_cat)\n",
    "print(X_train_cat2.shape)\n",
    "X_test_cat2 = OHE.transform(X_test_cat)\n",
    "print(X_test_cat2.shape)"
   ]
  },
  {
   "cell_type": "code",
   "execution_count": 50,
   "metadata": {},
   "outputs": [
    {
     "name": "stdout",
     "output_type": "stream",
     "text": [
      "(2333, 2)\n",
      "(1000, 2)\n"
     ]
    }
   ],
   "source": [
    "# convert test as dataframe\n",
    "X_train_cat3 = pd.DataFrame(X_train_cat)\n",
    "X_train_cat3.reset_index(inplace = True,drop=True)\n",
    "print(X_train_cat3.shape)\n",
    "X_test_cat3 = pd.DataFrame(X_test_cat)\n",
    "X_test_cat3.reset_index(inplace = True,drop=True)\n",
    "print(X_test_cat3.shape)"
   ]
  },
  {
   "cell_type": "code",
   "execution_count": 51,
   "metadata": {},
   "outputs": [
    {
     "data": {
      "text/plain": [
       "RangeIndex(start=0, stop=2333, step=1)"
      ]
     },
     "execution_count": 51,
     "metadata": {},
     "output_type": "execute_result"
    }
   ],
   "source": [
    "X_train_cat.index"
   ]
  },
  {
   "cell_type": "code",
   "execution_count": 52,
   "metadata": {},
   "outputs": [],
   "source": [
    "X_train_cat.reset_index(inplace = True,drop=True)"
   ]
  },
  {
   "cell_type": "code",
   "execution_count": 53,
   "metadata": {},
   "outputs": [],
   "source": [
    "X_test_cat.reset_index(inplace = True,drop=True)"
   ]
  },
  {
   "cell_type": "code",
   "execution_count": 54,
   "metadata": {},
   "outputs": [
    {
     "data": {
      "text/plain": [
       "Index(['IntlPlan', 'VMailPlan'], dtype='object')"
      ]
     },
     "execution_count": 54,
     "metadata": {},
     "output_type": "execute_result"
    }
   ],
   "source": [
    "X_test_cat.columns"
   ]
  },
  {
   "cell_type": "code",
   "execution_count": 55,
   "metadata": {},
   "outputs": [
    {
     "name": "stdout",
     "output_type": "stream",
     "text": [
      "(2333, 5)\n",
      "(1000, 5)\n"
     ]
    }
   ],
   "source": [
    "# merge scaled continuous and onehotencoded categorical data\n",
    "X_train_final = pd.concat([X_train_cont3,X_train_cat],axis=1,join='outer')\n",
    "X_test_final = pd.concat([X_test_cont3,X_test_cat],axis=1,join='outer')\n",
    "print(X_train_final.shape)\n",
    "print(X_test_final.shape)"
   ]
  },
  {
   "cell_type": "code",
   "execution_count": 56,
   "metadata": {},
   "outputs": [
    {
     "name": "stdout",
     "output_type": "stream",
     "text": [
      "Fitting 5 folds for each of 5 candidates, totalling 25 fits\n",
      "[CV] C=0.05 ..........................................................\n",
      "[CV] .......... C=0.05, score=(train=0.812, test=0.803), total=   0.0s\n",
      "[CV] C=0.05 ..........................................................\n",
      "[CV] .......... C=0.05, score=(train=0.816, test=0.796), total=   0.0s\n",
      "[CV] C=0.05 ..........................................................\n",
      "[CV] .......... C=0.05, score=(train=0.795, test=0.880), total=   0.0s\n",
      "[CV] C=0.05 ..........................................................\n",
      "[CV] .......... C=0.05, score=(train=0.818, test=0.777), total=   0.0s\n",
      "[CV] C=0.05 ..........................................................\n"
     ]
    },
    {
     "name": "stderr",
     "output_type": "stream",
     "text": [
      "[Parallel(n_jobs=1)]: Using backend SequentialBackend with 1 concurrent workers.\n",
      "[Parallel(n_jobs=1)]: Done   1 out of   1 | elapsed:    0.0s remaining:    0.0s\n",
      "[Parallel(n_jobs=1)]: Done   2 out of   2 | elapsed:    0.0s remaining:    0.0s\n",
      "[Parallel(n_jobs=1)]: Done   3 out of   3 | elapsed:    0.0s remaining:    0.0s\n",
      "[Parallel(n_jobs=1)]: Done   4 out of   4 | elapsed:    0.1s remaining:    0.0s\n"
     ]
    },
    {
     "name": "stdout",
     "output_type": "stream",
     "text": [
      "[CV] .......... C=0.05, score=(train=0.818, test=0.792), total=   0.0s\n",
      "[CV] C=0.2 ...........................................................\n",
      "[CV] ........... C=0.2, score=(train=0.819, test=0.821), total=   0.0s\n",
      "[CV] C=0.2 ...........................................................\n",
      "[CV] ........... C=0.2, score=(train=0.825, test=0.802), total=   0.0s\n",
      "[CV] C=0.2 ...........................................................\n",
      "[CV] ........... C=0.2, score=(train=0.805, test=0.882), total=   0.0s\n",
      "[CV] C=0.2 ...........................................................\n",
      "[CV] ........... C=0.2, score=(train=0.828, test=0.790), total=   0.0s\n",
      "[CV] C=0.2 ...........................................................\n",
      "[CV] ........... C=0.2, score=(train=0.827, test=0.797), total=   0.0s\n",
      "[CV] C=0.5 ...........................................................\n"
     ]
    },
    {
     "name": "stderr",
     "output_type": "stream",
     "text": [
      "[Parallel(n_jobs=1)]: Done   5 out of   5 | elapsed:    0.1s remaining:    0.0s\n",
      "[Parallel(n_jobs=1)]: Done   6 out of   6 | elapsed:    0.1s remaining:    0.0s\n",
      "[Parallel(n_jobs=1)]: Done   7 out of   7 | elapsed:    0.2s remaining:    0.0s\n",
      "[Parallel(n_jobs=1)]: Done   8 out of   8 | elapsed:    0.2s remaining:    0.0s\n",
      "[Parallel(n_jobs=1)]: Done   9 out of   9 | elapsed:    0.2s remaining:    0.0s\n"
     ]
    },
    {
     "name": "stdout",
     "output_type": "stream",
     "text": [
      "[CV] ........... C=0.5, score=(train=0.819, test=0.826), total=   0.0s\n",
      "[CV] C=0.5 ...........................................................\n",
      "[CV] ........... C=0.5, score=(train=0.826, test=0.802), total=   0.0s\n",
      "[CV] C=0.5 ...........................................................\n",
      "[CV] ........... C=0.5, score=(train=0.806, test=0.880), total=   0.0s\n",
      "[CV] C=0.5 ...........................................................\n",
      "[CV] ........... C=0.5, score=(train=0.829, test=0.793), total=   0.0s\n",
      "[CV] C=0.5 ...........................................................\n",
      "[CV] ........... C=0.5, score=(train=0.828, test=0.798), total=   0.0s\n",
      "[CV] C=1 .............................................................\n",
      "[CV] ............. C=1, score=(train=0.819, test=0.828), total=   0.0s\n",
      "[CV] C=1 .............................................................\n",
      "[CV] ............. C=1, score=(train=0.826, test=0.802), total=   0.0s\n",
      "[CV] C=1 .............................................................\n",
      "[CV] ............. C=1, score=(train=0.806, test=0.879), total=   0.0s\n",
      "[CV] C=1 .............................................................\n",
      "[CV] ............. C=1, score=(train=0.829, test=0.793), total=   0.0s\n",
      "[CV] C=1 .............................................................\n",
      "[CV] ............. C=1, score=(train=0.828, test=0.797), total=   0.0s\n",
      "[CV] C=2 .............................................................\n",
      "[CV] ............. C=2, score=(train=0.819, test=0.829), total=   0.0s\n",
      "[CV] C=2 .............................................................\n",
      "[CV] ............. C=2, score=(train=0.826, test=0.802), total=   0.0s\n",
      "[CV] C=2 .............................................................\n",
      "[CV] ............. C=2, score=(train=0.806, test=0.877), total=   0.0s\n",
      "[CV] C=2 .............................................................\n",
      "[CV] ............. C=2, score=(train=0.829, test=0.794), total=   0.0s\n",
      "[CV] C=2 .............................................................\n",
      "[CV] ............. C=2, score=(train=0.828, test=0.797), total=   0.0s\n"
     ]
    },
    {
     "name": "stderr",
     "output_type": "stream",
     "text": [
      "[Parallel(n_jobs=1)]: Done  25 out of  25 | elapsed:    0.9s finished\n"
     ]
    },
    {
     "data": {
      "text/plain": [
       "GridSearchCV(cv=5,\n",
       "             estimator=LogisticRegression(class_weight='balanced',\n",
       "                                          max_iter=500),\n",
       "             n_jobs=1, param_grid={'C': [0.05, 0.2, 0.5, 1, 2]},\n",
       "             return_train_score=True, scoring='roc_auc', verbose=10)"
      ]
     },
     "execution_count": 56,
     "metadata": {},
     "output_type": "execute_result"
    }
   ],
   "source": [
    "# logistic model\n",
    "from sklearn.linear_model import LogisticRegression\n",
    "lgr = LogisticRegression(class_weight = 'balanced',solver='lbfgs',max_iter=500,\n",
    "                         penalty = 'l2')\n",
    "parms = {'C': [0.05,0.2,0.5,1,2]} \n",
    "# perform grid search with cross validation\n",
    "from sklearn.model_selection import GridSearchCV\n",
    "CV = GridSearchCV(estimator = lgr,param_grid = parms, scoring = 'roc_auc',\n",
    "                  cv=5,refit=True,return_train_score = True,verbose=10,\n",
    "                  n_jobs=1)\n",
    "CV.fit(X_train_final,Y_train.Churn)\n",
    "#CV.fit(X_train_cont3,Y_train.Churn)"
   ]
  },
  {
   "cell_type": "code",
   "execution_count": 57,
   "metadata": {},
   "outputs": [
    {
     "data": {
      "text/html": [
       "<div>\n",
       "<style scoped>\n",
       "    .dataframe tbody tr th:only-of-type {\n",
       "        vertical-align: middle;\n",
       "    }\n",
       "\n",
       "    .dataframe tbody tr th {\n",
       "        vertical-align: top;\n",
       "    }\n",
       "\n",
       "    .dataframe thead th {\n",
       "        text-align: right;\n",
       "    }\n",
       "</style>\n",
       "<table border=\"1\" class=\"dataframe\">\n",
       "  <thead>\n",
       "    <tr style=\"text-align: right;\">\n",
       "      <th></th>\n",
       "      <th>mean_fit_time</th>\n",
       "      <th>std_fit_time</th>\n",
       "      <th>mean_score_time</th>\n",
       "      <th>std_score_time</th>\n",
       "      <th>param_C</th>\n",
       "      <th>params</th>\n",
       "      <th>split0_test_score</th>\n",
       "      <th>split1_test_score</th>\n",
       "      <th>split2_test_score</th>\n",
       "      <th>split3_test_score</th>\n",
       "      <th>...</th>\n",
       "      <th>mean_test_score</th>\n",
       "      <th>std_test_score</th>\n",
       "      <th>rank_test_score</th>\n",
       "      <th>split0_train_score</th>\n",
       "      <th>split1_train_score</th>\n",
       "      <th>split2_train_score</th>\n",
       "      <th>split3_train_score</th>\n",
       "      <th>split4_train_score</th>\n",
       "      <th>mean_train_score</th>\n",
       "      <th>std_train_score</th>\n",
       "    </tr>\n",
       "  </thead>\n",
       "  <tbody>\n",
       "    <tr>\n",
       "      <th>0</th>\n",
       "      <td>0.026</td>\n",
       "      <td>0.004899</td>\n",
       "      <td>0.005</td>\n",
       "      <td>1.168008e-07</td>\n",
       "      <td>0.05</td>\n",
       "      <td>{'C': 0.05}</td>\n",
       "      <td>0.802891</td>\n",
       "      <td>0.795608</td>\n",
       "      <td>0.879980</td>\n",
       "      <td>0.776877</td>\n",
       "      <td>...</td>\n",
       "      <td>0.809564</td>\n",
       "      <td>0.036217</td>\n",
       "      <td>5</td>\n",
       "      <td>0.811535</td>\n",
       "      <td>0.815865</td>\n",
       "      <td>0.795340</td>\n",
       "      <td>0.818456</td>\n",
       "      <td>0.817602</td>\n",
       "      <td>0.811759</td>\n",
       "      <td>0.008550</td>\n",
       "    </tr>\n",
       "    <tr>\n",
       "      <th>1</th>\n",
       "      <td>0.023</td>\n",
       "      <td>0.002450</td>\n",
       "      <td>0.006</td>\n",
       "      <td>1.999950e-03</td>\n",
       "      <td>0.2</td>\n",
       "      <td>{'C': 0.2}</td>\n",
       "      <td>0.821390</td>\n",
       "      <td>0.801762</td>\n",
       "      <td>0.882055</td>\n",
       "      <td>0.789618</td>\n",
       "      <td>...</td>\n",
       "      <td>0.818458</td>\n",
       "      <td>0.033479</td>\n",
       "      <td>4</td>\n",
       "      <td>0.818996</td>\n",
       "      <td>0.825064</td>\n",
       "      <td>0.804810</td>\n",
       "      <td>0.827913</td>\n",
       "      <td>0.827221</td>\n",
       "      <td>0.820801</td>\n",
       "      <td>0.008590</td>\n",
       "    </tr>\n",
       "    <tr>\n",
       "      <th>2</th>\n",
       "      <td>0.027</td>\n",
       "      <td>0.006782</td>\n",
       "      <td>0.005</td>\n",
       "      <td>1.507891e-07</td>\n",
       "      <td>0.5</td>\n",
       "      <td>{'C': 0.5}</td>\n",
       "      <td>0.825905</td>\n",
       "      <td>0.802163</td>\n",
       "      <td>0.879652</td>\n",
       "      <td>0.793049</td>\n",
       "      <td>...</td>\n",
       "      <td>0.819749</td>\n",
       "      <td>0.032007</td>\n",
       "      <td>2</td>\n",
       "      <td>0.819444</td>\n",
       "      <td>0.826208</td>\n",
       "      <td>0.806226</td>\n",
       "      <td>0.828929</td>\n",
       "      <td>0.828077</td>\n",
       "      <td>0.821777</td>\n",
       "      <td>0.008459</td>\n",
       "    </tr>\n",
       "    <tr>\n",
       "      <th>3</th>\n",
       "      <td>0.025</td>\n",
       "      <td>0.003162</td>\n",
       "      <td>0.005</td>\n",
       "      <td>1.168008e-07</td>\n",
       "      <td>1</td>\n",
       "      <td>{'C': 1}</td>\n",
       "      <td>0.827835</td>\n",
       "      <td>0.802381</td>\n",
       "      <td>0.878742</td>\n",
       "      <td>0.793195</td>\n",
       "      <td>...</td>\n",
       "      <td>0.819836</td>\n",
       "      <td>0.031838</td>\n",
       "      <td>1</td>\n",
       "      <td>0.819422</td>\n",
       "      <td>0.826078</td>\n",
       "      <td>0.806121</td>\n",
       "      <td>0.828929</td>\n",
       "      <td>0.828057</td>\n",
       "      <td>0.821721</td>\n",
       "      <td>0.008482</td>\n",
       "    </tr>\n",
       "    <tr>\n",
       "      <th>4</th>\n",
       "      <td>0.027</td>\n",
       "      <td>0.005099</td>\n",
       "      <td>0.005</td>\n",
       "      <td>1.168008e-07</td>\n",
       "      <td>2</td>\n",
       "      <td>{'C': 2}</td>\n",
       "      <td>0.828527</td>\n",
       "      <td>0.801580</td>\n",
       "      <td>0.877030</td>\n",
       "      <td>0.794327</td>\n",
       "      <td>...</td>\n",
       "      <td>0.819640</td>\n",
       "      <td>0.031190</td>\n",
       "      <td>3</td>\n",
       "      <td>0.819194</td>\n",
       "      <td>0.826144</td>\n",
       "      <td>0.806230</td>\n",
       "      <td>0.828669</td>\n",
       "      <td>0.827986</td>\n",
       "      <td>0.821645</td>\n",
       "      <td>0.008407</td>\n",
       "    </tr>\n",
       "  </tbody>\n",
       "</table>\n",
       "<p>5 rows × 21 columns</p>\n",
       "</div>"
      ],
      "text/plain": [
       "   mean_fit_time  std_fit_time  mean_score_time  std_score_time param_C  \\\n",
       "0          0.026      0.004899            0.005    1.168008e-07    0.05   \n",
       "1          0.023      0.002450            0.006    1.999950e-03     0.2   \n",
       "2          0.027      0.006782            0.005    1.507891e-07     0.5   \n",
       "3          0.025      0.003162            0.005    1.168008e-07       1   \n",
       "4          0.027      0.005099            0.005    1.168008e-07       2   \n",
       "\n",
       "        params  split0_test_score  split1_test_score  split2_test_score  \\\n",
       "0  {'C': 0.05}           0.802891           0.795608           0.879980   \n",
       "1   {'C': 0.2}           0.821390           0.801762           0.882055   \n",
       "2   {'C': 0.5}           0.825905           0.802163           0.879652   \n",
       "3     {'C': 1}           0.827835           0.802381           0.878742   \n",
       "4     {'C': 2}           0.828527           0.801580           0.877030   \n",
       "\n",
       "   split3_test_score       ...         mean_test_score  std_test_score  \\\n",
       "0           0.776877       ...                0.809564        0.036217   \n",
       "1           0.789618       ...                0.818458        0.033479   \n",
       "2           0.793049       ...                0.819749        0.032007   \n",
       "3           0.793195       ...                0.819836        0.031838   \n",
       "4           0.794327       ...                0.819640        0.031190   \n",
       "\n",
       "   rank_test_score  split0_train_score  split1_train_score  \\\n",
       "0                5            0.811535            0.815865   \n",
       "1                4            0.818996            0.825064   \n",
       "2                2            0.819444            0.826208   \n",
       "3                1            0.819422            0.826078   \n",
       "4                3            0.819194            0.826144   \n",
       "\n",
       "   split2_train_score  split3_train_score  split4_train_score  \\\n",
       "0            0.795340            0.818456            0.817602   \n",
       "1            0.804810            0.827913            0.827221   \n",
       "2            0.806226            0.828929            0.828077   \n",
       "3            0.806121            0.828929            0.828057   \n",
       "4            0.806230            0.828669            0.827986   \n",
       "\n",
       "   mean_train_score  std_train_score  \n",
       "0          0.811759         0.008550  \n",
       "1          0.820801         0.008590  \n",
       "2          0.821777         0.008459  \n",
       "3          0.821721         0.008482  \n",
       "4          0.821645         0.008407  \n",
       "\n",
       "[5 rows x 21 columns]"
      ]
     },
     "execution_count": 57,
     "metadata": {},
     "output_type": "execute_result"
    }
   ],
   "source": [
    "CVResults = pd.DataFrame(CV.cv_results_)\n",
    "CVResults"
   ]
  },
  {
   "cell_type": "code",
   "execution_count": 58,
   "metadata": {},
   "outputs": [
    {
     "name": "stdout",
     "output_type": "stream",
     "text": [
      "LogisticRegression(C=1, class_weight='balanced', max_iter=500)\n"
     ]
    }
   ],
   "source": [
    "print(CV.best_estimator_)"
   ]
  },
  {
   "cell_type": "code",
   "execution_count": 59,
   "metadata": {},
   "outputs": [
    {
     "data": {
      "text/plain": [
       "Index(['CustServCalls', 'DayCharge', 'EveCharge'], dtype='object')"
      ]
     },
     "execution_count": 59,
     "metadata": {},
     "output_type": "execute_result"
    }
   ],
   "source": [
    "X_train_cont.columns"
   ]
  },
  {
   "cell_type": "code",
   "execution_count": 60,
   "metadata": {},
   "outputs": [
    {
     "data": {
      "text/plain": [
       "Index(['IntlPlan', 'VMailPlan'], dtype='object')"
      ]
     },
     "execution_count": 60,
     "metadata": {},
     "output_type": "execute_result"
    }
   ],
   "source": [
    "X_train_cat.columns"
   ]
  },
  {
   "cell_type": "code",
   "execution_count": 61,
   "metadata": {},
   "outputs": [
    {
     "name": "stdout",
     "output_type": "stream",
     "text": [
      "[[ 4.78295565  3.93439392  1.58393098  2.18939001 -0.77282549]]\n",
      "[-4.18521624]\n"
     ]
    }
   ],
   "source": [
    "print(CV.best_estimator_.coef_)\n",
    "print(CV.best_estimator_.intercept_)"
   ]
  },
  {
   "cell_type": "code",
   "execution_count": 62,
   "metadata": {},
   "outputs": [
    {
     "name": "stdout",
     "output_type": "stream",
     "text": [
      "0.8198363224878454\n",
      "{'C': 1}\n"
     ]
    }
   ],
   "source": [
    "print(CV.best_score_)\n",
    "print(CV.best_params_)"
   ]
  },
  {
   "cell_type": "code",
   "execution_count": 63,
   "metadata": {},
   "outputs": [
    {
     "name": "stdout",
     "output_type": "stream",
     "text": [
      "[1 0 1 0 1 1 1 0 1 1]\n"
     ]
    },
    {
     "data": {
      "text/html": [
       "<div>\n",
       "<style scoped>\n",
       "    .dataframe tbody tr th:only-of-type {\n",
       "        vertical-align: middle;\n",
       "    }\n",
       "\n",
       "    .dataframe tbody tr th {\n",
       "        vertical-align: top;\n",
       "    }\n",
       "\n",
       "    .dataframe thead th {\n",
       "        text-align: right;\n",
       "    }\n",
       "</style>\n",
       "<table border=\"1\" class=\"dataframe\">\n",
       "  <thead>\n",
       "    <tr style=\"text-align: right;\">\n",
       "      <th></th>\n",
       "      <th>0</th>\n",
       "    </tr>\n",
       "  </thead>\n",
       "  <tbody>\n",
       "    <tr>\n",
       "      <th>0</th>\n",
       "      <td>1</td>\n",
       "    </tr>\n",
       "    <tr>\n",
       "      <th>1</th>\n",
       "      <td>0</td>\n",
       "    </tr>\n",
       "    <tr>\n",
       "      <th>2</th>\n",
       "      <td>1</td>\n",
       "    </tr>\n",
       "    <tr>\n",
       "      <th>3</th>\n",
       "      <td>0</td>\n",
       "    </tr>\n",
       "    <tr>\n",
       "      <th>4</th>\n",
       "      <td>1</td>\n",
       "    </tr>\n",
       "    <tr>\n",
       "      <th>5</th>\n",
       "      <td>1</td>\n",
       "    </tr>\n",
       "    <tr>\n",
       "      <th>6</th>\n",
       "      <td>1</td>\n",
       "    </tr>\n",
       "    <tr>\n",
       "      <th>7</th>\n",
       "      <td>0</td>\n",
       "    </tr>\n",
       "    <tr>\n",
       "      <th>8</th>\n",
       "      <td>1</td>\n",
       "    </tr>\n",
       "    <tr>\n",
       "      <th>9</th>\n",
       "      <td>1</td>\n",
       "    </tr>\n",
       "    <tr>\n",
       "      <th>10</th>\n",
       "      <td>0</td>\n",
       "    </tr>\n",
       "    <tr>\n",
       "      <th>11</th>\n",
       "      <td>0</td>\n",
       "    </tr>\n",
       "    <tr>\n",
       "      <th>12</th>\n",
       "      <td>0</td>\n",
       "    </tr>\n",
       "    <tr>\n",
       "      <th>13</th>\n",
       "      <td>0</td>\n",
       "    </tr>\n",
       "    <tr>\n",
       "      <th>14</th>\n",
       "      <td>1</td>\n",
       "    </tr>\n",
       "    <tr>\n",
       "      <th>15</th>\n",
       "      <td>0</td>\n",
       "    </tr>\n",
       "    <tr>\n",
       "      <th>16</th>\n",
       "      <td>0</td>\n",
       "    </tr>\n",
       "    <tr>\n",
       "      <th>17</th>\n",
       "      <td>0</td>\n",
       "    </tr>\n",
       "    <tr>\n",
       "      <th>18</th>\n",
       "      <td>0</td>\n",
       "    </tr>\n",
       "    <tr>\n",
       "      <th>19</th>\n",
       "      <td>0</td>\n",
       "    </tr>\n",
       "    <tr>\n",
       "      <th>20</th>\n",
       "      <td>0</td>\n",
       "    </tr>\n",
       "    <tr>\n",
       "      <th>21</th>\n",
       "      <td>0</td>\n",
       "    </tr>\n",
       "    <tr>\n",
       "      <th>22</th>\n",
       "      <td>0</td>\n",
       "    </tr>\n",
       "    <tr>\n",
       "      <th>23</th>\n",
       "      <td>0</td>\n",
       "    </tr>\n",
       "    <tr>\n",
       "      <th>24</th>\n",
       "      <td>1</td>\n",
       "    </tr>\n",
       "    <tr>\n",
       "      <th>25</th>\n",
       "      <td>0</td>\n",
       "    </tr>\n",
       "    <tr>\n",
       "      <th>26</th>\n",
       "      <td>0</td>\n",
       "    </tr>\n",
       "    <tr>\n",
       "      <th>27</th>\n",
       "      <td>0</td>\n",
       "    </tr>\n",
       "    <tr>\n",
       "      <th>28</th>\n",
       "      <td>1</td>\n",
       "    </tr>\n",
       "    <tr>\n",
       "      <th>29</th>\n",
       "      <td>1</td>\n",
       "    </tr>\n",
       "    <tr>\n",
       "      <th>...</th>\n",
       "      <td>...</td>\n",
       "    </tr>\n",
       "    <tr>\n",
       "      <th>970</th>\n",
       "      <td>0</td>\n",
       "    </tr>\n",
       "    <tr>\n",
       "      <th>971</th>\n",
       "      <td>1</td>\n",
       "    </tr>\n",
       "    <tr>\n",
       "      <th>972</th>\n",
       "      <td>0</td>\n",
       "    </tr>\n",
       "    <tr>\n",
       "      <th>973</th>\n",
       "      <td>0</td>\n",
       "    </tr>\n",
       "    <tr>\n",
       "      <th>974</th>\n",
       "      <td>0</td>\n",
       "    </tr>\n",
       "    <tr>\n",
       "      <th>975</th>\n",
       "      <td>1</td>\n",
       "    </tr>\n",
       "    <tr>\n",
       "      <th>976</th>\n",
       "      <td>1</td>\n",
       "    </tr>\n",
       "    <tr>\n",
       "      <th>977</th>\n",
       "      <td>1</td>\n",
       "    </tr>\n",
       "    <tr>\n",
       "      <th>978</th>\n",
       "      <td>1</td>\n",
       "    </tr>\n",
       "    <tr>\n",
       "      <th>979</th>\n",
       "      <td>0</td>\n",
       "    </tr>\n",
       "    <tr>\n",
       "      <th>980</th>\n",
       "      <td>0</td>\n",
       "    </tr>\n",
       "    <tr>\n",
       "      <th>981</th>\n",
       "      <td>0</td>\n",
       "    </tr>\n",
       "    <tr>\n",
       "      <th>982</th>\n",
       "      <td>0</td>\n",
       "    </tr>\n",
       "    <tr>\n",
       "      <th>983</th>\n",
       "      <td>0</td>\n",
       "    </tr>\n",
       "    <tr>\n",
       "      <th>984</th>\n",
       "      <td>0</td>\n",
       "    </tr>\n",
       "    <tr>\n",
       "      <th>985</th>\n",
       "      <td>1</td>\n",
       "    </tr>\n",
       "    <tr>\n",
       "      <th>986</th>\n",
       "      <td>0</td>\n",
       "    </tr>\n",
       "    <tr>\n",
       "      <th>987</th>\n",
       "      <td>0</td>\n",
       "    </tr>\n",
       "    <tr>\n",
       "      <th>988</th>\n",
       "      <td>1</td>\n",
       "    </tr>\n",
       "    <tr>\n",
       "      <th>989</th>\n",
       "      <td>0</td>\n",
       "    </tr>\n",
       "    <tr>\n",
       "      <th>990</th>\n",
       "      <td>0</td>\n",
       "    </tr>\n",
       "    <tr>\n",
       "      <th>991</th>\n",
       "      <td>0</td>\n",
       "    </tr>\n",
       "    <tr>\n",
       "      <th>992</th>\n",
       "      <td>0</td>\n",
       "    </tr>\n",
       "    <tr>\n",
       "      <th>993</th>\n",
       "      <td>1</td>\n",
       "    </tr>\n",
       "    <tr>\n",
       "      <th>994</th>\n",
       "      <td>0</td>\n",
       "    </tr>\n",
       "    <tr>\n",
       "      <th>995</th>\n",
       "      <td>0</td>\n",
       "    </tr>\n",
       "    <tr>\n",
       "      <th>996</th>\n",
       "      <td>0</td>\n",
       "    </tr>\n",
       "    <tr>\n",
       "      <th>997</th>\n",
       "      <td>0</td>\n",
       "    </tr>\n",
       "    <tr>\n",
       "      <th>998</th>\n",
       "      <td>0</td>\n",
       "    </tr>\n",
       "    <tr>\n",
       "      <th>999</th>\n",
       "      <td>0</td>\n",
       "    </tr>\n",
       "  </tbody>\n",
       "</table>\n",
       "<p>1000 rows × 1 columns</p>\n",
       "</div>"
      ],
      "text/plain": [
       "     0\n",
       "0    1\n",
       "1    0\n",
       "2    1\n",
       "3    0\n",
       "4    1\n",
       "5    1\n",
       "6    1\n",
       "7    0\n",
       "8    1\n",
       "9    1\n",
       "10   0\n",
       "11   0\n",
       "12   0\n",
       "13   0\n",
       "14   1\n",
       "15   0\n",
       "16   0\n",
       "17   0\n",
       "18   0\n",
       "19   0\n",
       "20   0\n",
       "21   0\n",
       "22   0\n",
       "23   0\n",
       "24   1\n",
       "25   0\n",
       "26   0\n",
       "27   0\n",
       "28   1\n",
       "29   1\n",
       "..  ..\n",
       "970  0\n",
       "971  1\n",
       "972  0\n",
       "973  0\n",
       "974  0\n",
       "975  1\n",
       "976  1\n",
       "977  1\n",
       "978  1\n",
       "979  0\n",
       "980  0\n",
       "981  0\n",
       "982  0\n",
       "983  0\n",
       "984  0\n",
       "985  1\n",
       "986  0\n",
       "987  0\n",
       "988  1\n",
       "989  0\n",
       "990  0\n",
       "991  0\n",
       "992  0\n",
       "993  1\n",
       "994  0\n",
       "995  0\n",
       "996  0\n",
       "997  0\n",
       "998  0\n",
       "999  0\n",
       "\n",
       "[1000 rows x 1 columns]"
      ]
     },
     "execution_count": 63,
     "metadata": {},
     "output_type": "execute_result"
    }
   ],
   "source": [
    "# Preidct on Test data and check the confusion matrix\n",
    "predictTest = CV.predict(X_test_final)\n",
    "print(predictTest[0:10])\n",
    "Pclass = pd.DataFrame(predictTest)\n",
    "Pclass"
   ]
  },
  {
   "cell_type": "code",
   "execution_count": 64,
   "metadata": {},
   "outputs": [
    {
     "name": "stdout",
     "output_type": "stream",
     "text": [
      "[[0.15853465 0.84146535]\n",
      " [0.87367307 0.12632693]\n",
      " [0.36744894 0.63255106]\n",
      " [0.65133097 0.34866903]\n",
      " [0.03577783 0.96422217]\n",
      " [0.06634351 0.93365649]\n",
      " [0.20833123 0.79166877]\n",
      " [0.72216766 0.27783234]\n",
      " [0.3545972  0.6454028 ]\n",
      " [0.25566298 0.74433702]]\n"
     ]
    },
    {
     "data": {
      "text/html": [
       "<div>\n",
       "<style scoped>\n",
       "    .dataframe tbody tr th:only-of-type {\n",
       "        vertical-align: middle;\n",
       "    }\n",
       "\n",
       "    .dataframe tbody tr th {\n",
       "        vertical-align: top;\n",
       "    }\n",
       "\n",
       "    .dataframe thead th {\n",
       "        text-align: right;\n",
       "    }\n",
       "</style>\n",
       "<table border=\"1\" class=\"dataframe\">\n",
       "  <thead>\n",
       "    <tr style=\"text-align: right;\">\n",
       "      <th></th>\n",
       "      <th>0</th>\n",
       "      <th>1</th>\n",
       "    </tr>\n",
       "  </thead>\n",
       "  <tbody>\n",
       "    <tr>\n",
       "      <th>0</th>\n",
       "      <td>0.158535</td>\n",
       "      <td>0.841465</td>\n",
       "    </tr>\n",
       "    <tr>\n",
       "      <th>1</th>\n",
       "      <td>0.873673</td>\n",
       "      <td>0.126327</td>\n",
       "    </tr>\n",
       "    <tr>\n",
       "      <th>2</th>\n",
       "      <td>0.367449</td>\n",
       "      <td>0.632551</td>\n",
       "    </tr>\n",
       "    <tr>\n",
       "      <th>3</th>\n",
       "      <td>0.651331</td>\n",
       "      <td>0.348669</td>\n",
       "    </tr>\n",
       "    <tr>\n",
       "      <th>4</th>\n",
       "      <td>0.035778</td>\n",
       "      <td>0.964222</td>\n",
       "    </tr>\n",
       "    <tr>\n",
       "      <th>5</th>\n",
       "      <td>0.066344</td>\n",
       "      <td>0.933656</td>\n",
       "    </tr>\n",
       "    <tr>\n",
       "      <th>6</th>\n",
       "      <td>0.208331</td>\n",
       "      <td>0.791669</td>\n",
       "    </tr>\n",
       "    <tr>\n",
       "      <th>7</th>\n",
       "      <td>0.722168</td>\n",
       "      <td>0.277832</td>\n",
       "    </tr>\n",
       "    <tr>\n",
       "      <th>8</th>\n",
       "      <td>0.354597</td>\n",
       "      <td>0.645403</td>\n",
       "    </tr>\n",
       "    <tr>\n",
       "      <th>9</th>\n",
       "      <td>0.255663</td>\n",
       "      <td>0.744337</td>\n",
       "    </tr>\n",
       "    <tr>\n",
       "      <th>10</th>\n",
       "      <td>0.776396</td>\n",
       "      <td>0.223604</td>\n",
       "    </tr>\n",
       "    <tr>\n",
       "      <th>11</th>\n",
       "      <td>0.681388</td>\n",
       "      <td>0.318612</td>\n",
       "    </tr>\n",
       "    <tr>\n",
       "      <th>12</th>\n",
       "      <td>0.587566</td>\n",
       "      <td>0.412434</td>\n",
       "    </tr>\n",
       "    <tr>\n",
       "      <th>13</th>\n",
       "      <td>0.859990</td>\n",
       "      <td>0.140010</td>\n",
       "    </tr>\n",
       "    <tr>\n",
       "      <th>14</th>\n",
       "      <td>0.384036</td>\n",
       "      <td>0.615964</td>\n",
       "    </tr>\n",
       "    <tr>\n",
       "      <th>15</th>\n",
       "      <td>0.519660</td>\n",
       "      <td>0.480340</td>\n",
       "    </tr>\n",
       "    <tr>\n",
       "      <th>16</th>\n",
       "      <td>0.589600</td>\n",
       "      <td>0.410400</td>\n",
       "    </tr>\n",
       "    <tr>\n",
       "      <th>17</th>\n",
       "      <td>0.551649</td>\n",
       "      <td>0.448351</td>\n",
       "    </tr>\n",
       "    <tr>\n",
       "      <th>18</th>\n",
       "      <td>0.621476</td>\n",
       "      <td>0.378524</td>\n",
       "    </tr>\n",
       "    <tr>\n",
       "      <th>19</th>\n",
       "      <td>0.728233</td>\n",
       "      <td>0.271767</td>\n",
       "    </tr>\n",
       "    <tr>\n",
       "      <th>20</th>\n",
       "      <td>0.737239</td>\n",
       "      <td>0.262761</td>\n",
       "    </tr>\n",
       "    <tr>\n",
       "      <th>21</th>\n",
       "      <td>0.796539</td>\n",
       "      <td>0.203461</td>\n",
       "    </tr>\n",
       "    <tr>\n",
       "      <th>22</th>\n",
       "      <td>0.818912</td>\n",
       "      <td>0.181088</td>\n",
       "    </tr>\n",
       "    <tr>\n",
       "      <th>23</th>\n",
       "      <td>0.811524</td>\n",
       "      <td>0.188476</td>\n",
       "    </tr>\n",
       "    <tr>\n",
       "      <th>24</th>\n",
       "      <td>0.484456</td>\n",
       "      <td>0.515544</td>\n",
       "    </tr>\n",
       "    <tr>\n",
       "      <th>25</th>\n",
       "      <td>0.576461</td>\n",
       "      <td>0.423539</td>\n",
       "    </tr>\n",
       "    <tr>\n",
       "      <th>26</th>\n",
       "      <td>0.594453</td>\n",
       "      <td>0.405547</td>\n",
       "    </tr>\n",
       "    <tr>\n",
       "      <th>27</th>\n",
       "      <td>0.751711</td>\n",
       "      <td>0.248289</td>\n",
       "    </tr>\n",
       "    <tr>\n",
       "      <th>28</th>\n",
       "      <td>0.237811</td>\n",
       "      <td>0.762189</td>\n",
       "    </tr>\n",
       "    <tr>\n",
       "      <th>29</th>\n",
       "      <td>0.379512</td>\n",
       "      <td>0.620488</td>\n",
       "    </tr>\n",
       "    <tr>\n",
       "      <th>...</th>\n",
       "      <td>...</td>\n",
       "      <td>...</td>\n",
       "    </tr>\n",
       "    <tr>\n",
       "      <th>970</th>\n",
       "      <td>0.882313</td>\n",
       "      <td>0.117687</td>\n",
       "    </tr>\n",
       "    <tr>\n",
       "      <th>971</th>\n",
       "      <td>0.091718</td>\n",
       "      <td>0.908282</td>\n",
       "    </tr>\n",
       "    <tr>\n",
       "      <th>972</th>\n",
       "      <td>0.821930</td>\n",
       "      <td>0.178070</td>\n",
       "    </tr>\n",
       "    <tr>\n",
       "      <th>973</th>\n",
       "      <td>0.965283</td>\n",
       "      <td>0.034717</td>\n",
       "    </tr>\n",
       "    <tr>\n",
       "      <th>974</th>\n",
       "      <td>0.926956</td>\n",
       "      <td>0.073044</td>\n",
       "    </tr>\n",
       "    <tr>\n",
       "      <th>975</th>\n",
       "      <td>0.303979</td>\n",
       "      <td>0.696021</td>\n",
       "    </tr>\n",
       "    <tr>\n",
       "      <th>976</th>\n",
       "      <td>0.052660</td>\n",
       "      <td>0.947340</td>\n",
       "    </tr>\n",
       "    <tr>\n",
       "      <th>977</th>\n",
       "      <td>0.310779</td>\n",
       "      <td>0.689221</td>\n",
       "    </tr>\n",
       "    <tr>\n",
       "      <th>978</th>\n",
       "      <td>0.107714</td>\n",
       "      <td>0.892286</td>\n",
       "    </tr>\n",
       "    <tr>\n",
       "      <th>979</th>\n",
       "      <td>0.888507</td>\n",
       "      <td>0.111493</td>\n",
       "    </tr>\n",
       "    <tr>\n",
       "      <th>980</th>\n",
       "      <td>0.581618</td>\n",
       "      <td>0.418382</td>\n",
       "    </tr>\n",
       "    <tr>\n",
       "      <th>981</th>\n",
       "      <td>0.807798</td>\n",
       "      <td>0.192202</td>\n",
       "    </tr>\n",
       "    <tr>\n",
       "      <th>982</th>\n",
       "      <td>0.800853</td>\n",
       "      <td>0.199147</td>\n",
       "    </tr>\n",
       "    <tr>\n",
       "      <th>983</th>\n",
       "      <td>0.939522</td>\n",
       "      <td>0.060478</td>\n",
       "    </tr>\n",
       "    <tr>\n",
       "      <th>984</th>\n",
       "      <td>0.640119</td>\n",
       "      <td>0.359881</td>\n",
       "    </tr>\n",
       "    <tr>\n",
       "      <th>985</th>\n",
       "      <td>0.295164</td>\n",
       "      <td>0.704836</td>\n",
       "    </tr>\n",
       "    <tr>\n",
       "      <th>986</th>\n",
       "      <td>0.514953</td>\n",
       "      <td>0.485047</td>\n",
       "    </tr>\n",
       "    <tr>\n",
       "      <th>987</th>\n",
       "      <td>0.664982</td>\n",
       "      <td>0.335018</td>\n",
       "    </tr>\n",
       "    <tr>\n",
       "      <th>988</th>\n",
       "      <td>0.395898</td>\n",
       "      <td>0.604102</td>\n",
       "    </tr>\n",
       "    <tr>\n",
       "      <th>989</th>\n",
       "      <td>0.830988</td>\n",
       "      <td>0.169012</td>\n",
       "    </tr>\n",
       "    <tr>\n",
       "      <th>990</th>\n",
       "      <td>0.966946</td>\n",
       "      <td>0.033054</td>\n",
       "    </tr>\n",
       "    <tr>\n",
       "      <th>991</th>\n",
       "      <td>0.873192</td>\n",
       "      <td>0.126808</td>\n",
       "    </tr>\n",
       "    <tr>\n",
       "      <th>992</th>\n",
       "      <td>0.810262</td>\n",
       "      <td>0.189738</td>\n",
       "    </tr>\n",
       "    <tr>\n",
       "      <th>993</th>\n",
       "      <td>0.452247</td>\n",
       "      <td>0.547753</td>\n",
       "    </tr>\n",
       "    <tr>\n",
       "      <th>994</th>\n",
       "      <td>0.713046</td>\n",
       "      <td>0.286954</td>\n",
       "    </tr>\n",
       "    <tr>\n",
       "      <th>995</th>\n",
       "      <td>0.758061</td>\n",
       "      <td>0.241939</td>\n",
       "    </tr>\n",
       "    <tr>\n",
       "      <th>996</th>\n",
       "      <td>0.765888</td>\n",
       "      <td>0.234112</td>\n",
       "    </tr>\n",
       "    <tr>\n",
       "      <th>997</th>\n",
       "      <td>0.732951</td>\n",
       "      <td>0.267049</td>\n",
       "    </tr>\n",
       "    <tr>\n",
       "      <th>998</th>\n",
       "      <td>0.681620</td>\n",
       "      <td>0.318380</td>\n",
       "    </tr>\n",
       "    <tr>\n",
       "      <th>999</th>\n",
       "      <td>0.550123</td>\n",
       "      <td>0.449877</td>\n",
       "    </tr>\n",
       "  </tbody>\n",
       "</table>\n",
       "<p>1000 rows × 2 columns</p>\n",
       "</div>"
      ],
      "text/plain": [
       "            0         1\n",
       "0    0.158535  0.841465\n",
       "1    0.873673  0.126327\n",
       "2    0.367449  0.632551\n",
       "3    0.651331  0.348669\n",
       "4    0.035778  0.964222\n",
       "5    0.066344  0.933656\n",
       "6    0.208331  0.791669\n",
       "7    0.722168  0.277832\n",
       "8    0.354597  0.645403\n",
       "9    0.255663  0.744337\n",
       "10   0.776396  0.223604\n",
       "11   0.681388  0.318612\n",
       "12   0.587566  0.412434\n",
       "13   0.859990  0.140010\n",
       "14   0.384036  0.615964\n",
       "15   0.519660  0.480340\n",
       "16   0.589600  0.410400\n",
       "17   0.551649  0.448351\n",
       "18   0.621476  0.378524\n",
       "19   0.728233  0.271767\n",
       "20   0.737239  0.262761\n",
       "21   0.796539  0.203461\n",
       "22   0.818912  0.181088\n",
       "23   0.811524  0.188476\n",
       "24   0.484456  0.515544\n",
       "25   0.576461  0.423539\n",
       "26   0.594453  0.405547\n",
       "27   0.751711  0.248289\n",
       "28   0.237811  0.762189\n",
       "29   0.379512  0.620488\n",
       "..        ...       ...\n",
       "970  0.882313  0.117687\n",
       "971  0.091718  0.908282\n",
       "972  0.821930  0.178070\n",
       "973  0.965283  0.034717\n",
       "974  0.926956  0.073044\n",
       "975  0.303979  0.696021\n",
       "976  0.052660  0.947340\n",
       "977  0.310779  0.689221\n",
       "978  0.107714  0.892286\n",
       "979  0.888507  0.111493\n",
       "980  0.581618  0.418382\n",
       "981  0.807798  0.192202\n",
       "982  0.800853  0.199147\n",
       "983  0.939522  0.060478\n",
       "984  0.640119  0.359881\n",
       "985  0.295164  0.704836\n",
       "986  0.514953  0.485047\n",
       "987  0.664982  0.335018\n",
       "988  0.395898  0.604102\n",
       "989  0.830988  0.169012\n",
       "990  0.966946  0.033054\n",
       "991  0.873192  0.126808\n",
       "992  0.810262  0.189738\n",
       "993  0.452247  0.547753\n",
       "994  0.713046  0.286954\n",
       "995  0.758061  0.241939\n",
       "996  0.765888  0.234112\n",
       "997  0.732951  0.267049\n",
       "998  0.681620  0.318380\n",
       "999  0.550123  0.449877\n",
       "\n",
       "[1000 rows x 2 columns]"
      ]
     },
     "execution_count": 64,
     "metadata": {},
     "output_type": "execute_result"
    }
   ],
   "source": [
    "PredictProb = CV.predict_proba(X_test_final)\n",
    "print(PredictProb[0:10])\n",
    "PProb = pd.DataFrame(PredictProb)\n",
    "PProb"
   ]
  },
  {
   "cell_type": "code",
   "execution_count": 65,
   "metadata": {},
   "outputs": [
    {
     "data": {
      "text/plain": [
       "array([0, 1], dtype=int64)"
      ]
     },
     "execution_count": 65,
     "metadata": {},
     "output_type": "execute_result"
    }
   ],
   "source": [
    "PProb.columns.values"
   ]
  },
  {
   "cell_type": "code",
   "execution_count": 66,
   "metadata": {},
   "outputs": [
    {
     "data": {
      "text/plain": [
       "0    0.841465\n",
       "1    0.126327\n",
       "2    0.632551\n",
       "3    0.348669\n",
       "4    0.964222\n",
       "Name: 1, dtype: float64"
      ]
     },
     "execution_count": 66,
     "metadata": {},
     "output_type": "execute_result"
    }
   ],
   "source": [
    "PProb[1][0:5]"
   ]
  },
  {
   "cell_type": "code",
   "execution_count": 67,
   "metadata": {},
   "outputs": [
    {
     "name": "stdout",
     "output_type": "stream",
     "text": [
      "[[650 212]\n",
      " [ 31 107]]\n",
      "              precision    recall  f1-score   support\n",
      "\n",
      "           0       0.95      0.75      0.84       862\n",
      "           1       0.34      0.78      0.47       138\n",
      "\n",
      "    accuracy                           0.76      1000\n",
      "   macro avg       0.64      0.76      0.66      1000\n",
      "weighted avg       0.87      0.76      0.79      1000\n",
      "\n"
     ]
    }
   ],
   "source": [
    "# generate confusion matrix\n",
    "# import confusion matrix and classification report\n",
    "from sklearn.metrics import confusion_matrix, classification_report\n",
    "print (confusion_matrix(Y_test,predictTest))\n",
    "print (classification_report(Y_test,predictTest))"
   ]
  },
  {
   "cell_type": "code",
   "execution_count": 68,
   "metadata": {},
   "outputs": [
    {
     "name": "stdout",
     "output_type": "stream",
     "text": [
      "0.8149063519284442\n"
     ]
    }
   ],
   "source": [
    "# generate ROC curve\n",
    "from sklearn.metrics import roc_auc_score, roc_curve\n",
    "AUC = roc_auc_score(Y_test, PProb[1])\n",
    "print(AUC)\n",
    "# define variables for True Positive Rate and Falst Positive Rate & threshold value\n",
    "TPR = dict()\n",
    "FPR = dict()\n",
    "THR = dict()\n",
    "FPR, TPR, THR = roc_curve(Y_test, PProb[1])"
   ]
  },
  {
   "cell_type": "code",
   "execution_count": 69,
   "metadata": {},
   "outputs": [
    {
     "data": {
      "text/plain": [
       "(1000, 1)"
      ]
     },
     "execution_count": 69,
     "metadata": {},
     "output_type": "execute_result"
    }
   ],
   "source": [
    "Y_test.shape"
   ]
  },
  {
   "cell_type": "code",
   "execution_count": 70,
   "metadata": {},
   "outputs": [
    {
     "data": {
      "text/plain": [
       "(189,)"
      ]
     },
     "execution_count": 70,
     "metadata": {},
     "output_type": "execute_result"
    }
   ],
   "source": [
    "THR.shape"
   ]
  },
  {
   "cell_type": "code",
   "execution_count": 71,
   "metadata": {},
   "outputs": [
    {
     "name": "stdout",
     "output_type": "stream",
     "text": [
      "[0.1238315  0.11803567 0.11773765 0.01948453]\n",
      "[0.99275362 0.99275362 1.         1.        ]\n",
      "[0.90603248 0.91531323 0.91531323 1.        ]\n"
     ]
    }
   ],
   "source": [
    "print(THR[185:190])\n",
    "print(TPR[185:190])\n",
    "print(FPR[185:190])"
   ]
  },
  {
   "cell_type": "code",
   "execution_count": 72,
   "metadata": {},
   "outputs": [
    {
     "data": {
      "text/plain": [
       "189"
      ]
     },
     "execution_count": 72,
     "metadata": {},
     "output_type": "execute_result"
    }
   ],
   "source": [
    "len(THR)"
   ]
  },
  {
   "cell_type": "code",
   "execution_count": 73,
   "metadata": {},
   "outputs": [
    {
     "data": {
      "image/png": "[encoded data removed]",
      "text/plain": [
       "<Figure size 432x288 with 1 Axes>"
      ]
     },
     "metadata": {
      "needs_background": "light"
     },
     "output_type": "display_data"
    }
   ],
   "source": [
    "import matplotlib.pyplot as plt\n",
    "plt.figure()\n",
    "# plot the FPR as X-axis and TPR as Y-axis\n",
    "plt.plot(FPR, TPR)\n",
    "# plot the minimum line \n",
    "plt.plot([0,1], [0,1], color='navy', linestyle = '--')\n",
    "# set X and Y limits\n",
    "plt.xlim([0.0, 1.05])\n",
    "plt.ylim([0.0, 1.05])\n",
    "# mention lables for X and Y\n",
    "plt.xlabel('False Positive Rate')\n",
    "plt.ylabel('True Positive Rate')\n",
    "plt.title('ROC')\n",
    "plt.show()"
   ]
  },
  {
   "cell_type": "code",
   "execution_count": 74,
   "metadata": {},
   "outputs": [
    {
     "data": {
      "image/png": "[encoded data removed]",
      "text/plain": [
       "<Figure size 432x288 with 1 Axes>"
      ]
     },
     "metadata": {
      "needs_background": "light"
     },
     "output_type": "display_data"
    }
   ],
   "source": [
    "# plot - CustServCalls, DayCharge & churn\n",
    "import matplotlib.pyplot as plt\n",
    "plt.scatter(churn.CustServCalls,\n",
    "            churn.DayCharge,\n",
    "            alpha = 0.2,                             # transeperency level\n",
    "            c = churn.Churn,                             # colour based on target/species\n",
    "            cmap = 'viridis')                        # various colour maps present\n",
    "plt.xlabel(churn.columns.values[6])\n",
    "plt.ylabel(churn.columns.values[11])\n",
    "plt.show()"
   ]
  },
  {
   "cell_type": "code",
   "execution_count": 75,
   "metadata": {},
   "outputs": [
    {
     "data": {
      "image/png": "[encoded data removed]",
      "text/plain": [
       "<Figure size 432x288 with 1 Axes>"
      ]
     },
     "metadata": {
      "needs_background": "light"
     },
     "output_type": "display_data"
    }
   ],
   "source": [
    "# plot - DayCharge, EveCharge & churn\n",
    "import matplotlib.pyplot as plt\n",
    "plt.scatter(churn.EveCharge,\n",
    "            churn.DayCharge,\n",
    "            alpha = 0.2,                             # transeperency level\n",
    "            c = churn.Churn,                             # colour based on target/species\n",
    "            cmap = 'viridis')                        # various colour maps present\n",
    "plt.xlabel(churn.columns.values[13])\n",
    "plt.ylabel(churn.columns.values[11])\n",
    "plt.show()"
   ]
  }
 ],
 "metadata": {
  "kernelspec": {
   "display_name": "Python 3",
   "language": "python",
   "name": "python3"
  },
  "language_info": {
   "codemirror_mode": {
    "name": "ipython",
    "version": 3
   },
   "file_extension": ".py",
   "mimetype": "text/x-python",
   "name": "python",
   "nbconvert_exporter": "python",
   "pygments_lexer": "ipython3",
   "version": "3.7.2"
  }
 },
 "nbformat": 4,
 "nbformat_minor": 2
}
