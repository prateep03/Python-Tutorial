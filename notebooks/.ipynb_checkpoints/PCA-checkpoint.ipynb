{
 "cells": [
  {
   "cell_type": "code",
   "execution_count": 1,
   "metadata": {},
   "outputs": [],
   "source": [
    "import numpy as np\n",
    "import pandas as pd\n",
    "import os\n",
    "\n",
    "os.chdir('D:\\\\Teaching\\\\Python-Tutorial\\\\notebooks')"
   ]
  },
  {
   "cell_type": "code",
   "execution_count": 3,
   "metadata": {},
   "outputs": [
    {
     "name": "stdout",
     "output_type": "stream",
     "text": [
      "Index(['x1', 'x2'], dtype='object')\n",
      "10\n"
     ]
    }
   ],
   "source": [
    "# read the file with high correlation\n",
    "pca1 = pd.read_csv(\"../data/PCA1.csv\")\n",
    "print(pca1.columns)\n",
    "print(len(pca1.x1))"
   ]
  },
  {
   "cell_type": "code",
   "execution_count": 13,
   "metadata": {},
   "outputs": [
    {
     "data": {
      "text/plain": [
       "array([[1.        , 0.99771306],\n",
       "       [0.99771306, 1.        ]])"
      ]
     },
     "execution_count": 13,
     "metadata": {},
     "output_type": "execute_result"
    }
   ],
   "source": [
    "np.corrcoef(pca1.x1,pca1.x2)"
   ]
  },
  {
   "cell_type": "code",
   "execution_count": 14,
   "metadata": {},
   "outputs": [
    {
     "name": "stdout",
     "output_type": "stream",
     "text": [
      "229.16666666666666\n",
      "235.83333333333334\n",
      "465.0\n"
     ]
    }
   ],
   "source": [
    "var1 = np.var(pca1.x1,ddof=1)\n",
    "print(var1)\n",
    "var2 = np.var(pca1.x2,ddof=1)\n",
    "print(var2)\n",
    "totalvar = var1 + var2\n",
    "print(totalvar)"
   ]
  },
  {
   "cell_type": "code",
   "execution_count": 16,
   "metadata": {},
   "outputs": [
    {
     "name": "stdout",
     "output_type": "stream",
     "text": [
      "<class 'numpy.ndarray'>\n"
     ]
    }
   ],
   "source": [
    "from sklearn.decomposition import PCA\n",
    "# create PCA object\n",
    "modelPCA = PCA(n_components = 2)\n",
    "# apply PCA model on iris\n",
    "x_pca1 = modelPCA.fit_transform(pca1)\n",
    "print(type(x_pca1))"
   ]
  },
  {
   "cell_type": "code",
   "execution_count": 17,
   "metadata": {},
   "outputs": [
    {
     "name": "stdout",
     "output_type": "stream",
     "text": [
      "[464.4683953   0.5316047]\n",
      "[0.99885676 0.00114324]\n"
     ]
    }
   ],
   "source": [
    "print(modelPCA.explained_variance_)\n",
    "print(modelPCA.explained_variance_ratio_)"
   ]
  },
  {
   "cell_type": "code",
   "execution_count": 18,
   "metadata": {},
   "outputs": [
    {
     "data": {
      "text/plain": [
       "array([[-0.70200792, -0.71216914],\n",
       "       [ 0.71216914, -0.70200792]])"
      ]
     },
     "execution_count": 18,
     "metadata": {},
     "output_type": "execute_result"
    }
   ],
   "source": [
    "# weights to convert original data into principal components\n",
    "modelPCA.components_"
   ]
  },
  {
   "cell_type": "code",
   "execution_count": 19,
   "metadata": {},
   "outputs": [
    {
     "data": {
      "text/plain": [
       "array([64.65458652,  2.1873368 ])"
      ]
     },
     "execution_count": 19,
     "metadata": {},
     "output_type": "execute_result"
    }
   ],
   "source": [
    "modelPCA.singular_values_"
   ]
  },
  {
   "cell_type": "code",
   "execution_count": 20,
   "metadata": {},
   "outputs": [
    {
     "name": "stdout",
     "output_type": "stream",
     "text": [
      "        PCA1      PCA2\n",
      "0  32.531153  0.473380\n",
      "1  24.035929 -0.879829\n",
      "2  18.389382  0.574993\n",
      "3   9.894159 -0.778217\n",
      "4   4.247612  0.676605\n",
      "5  -4.247612 -0.676605\n",
      "6  -9.894159  0.778217\n",
      "7 -18.389382 -0.574993\n",
      "8 -24.035929  0.879829\n",
      "9 -32.531153 -0.473380\n"
     ]
    }
   ],
   "source": [
    "# transformed data\n",
    "x_pca1_df = pd.DataFrame(x_pca1)\n",
    "x_pca1_df.columns = [\"PCA1\",\"PCA2\"]\n",
    "print(x_pca1_df)"
   ]
  },
  {
   "cell_type": "code",
   "execution_count": 21,
   "metadata": {},
   "outputs": [
    {
     "data": {
      "text/plain": [
       "array([[ 1.00000000e+00, -1.25607397e-17],\n",
       "       [-1.25607397e-17,  1.00000000e+00]])"
      ]
     },
     "execution_count": 21,
     "metadata": {},
     "output_type": "execute_result"
    }
   ],
   "source": [
    "# check the correlation among PCAs\n",
    "np.corrcoef(x_pca1_df.PCA1,x_pca1_df.PCA2)"
   ]
  },
  {
   "cell_type": "code",
   "execution_count": 23,
   "metadata": {},
   "outputs": [
    {
     "name": "stdout",
     "output_type": "stream",
     "text": [
      "Index(['x2', 'x1'], dtype='object')\n"
     ]
    }
   ],
   "source": [
    "# read the file with less correlation\n",
    "pca2 = pd.read_csv(\"../data/PCA2.csv\")\n",
    "print(pca2.columns)"
   ]
  },
  {
   "cell_type": "code",
   "execution_count": 24,
   "metadata": {},
   "outputs": [
    {
     "data": {
      "text/plain": [
       "array([[1.        , 0.25663801],\n",
       "       [0.25663801, 1.        ]])"
      ]
     },
     "execution_count": 24,
     "metadata": {},
     "output_type": "execute_result"
    }
   ],
   "source": [
    "# check the correlation\n",
    "np.corrcoef(pca2.x1,pca2.x2)"
   ]
  },
  {
   "cell_type": "code",
   "execution_count": 25,
   "metadata": {},
   "outputs": [
    {
     "name": "stdout",
     "output_type": "stream",
     "text": [
      "48.1\n",
      "9.166666666666666\n",
      "57.266666666666666\n"
     ]
    }
   ],
   "source": [
    "var1 = np.var(pca2.x1,ddof=1)\n",
    "print(var1)\n",
    "var2 = np.var(pca2.x2,ddof=1)\n",
    "print(var2)\n",
    "totalvar = var1 + var2\n",
    "print(totalvar)"
   ]
  },
  {
   "cell_type": "code",
   "execution_count": 26,
   "metadata": {},
   "outputs": [],
   "source": [
    "# create PCA object\n",
    "modelPCA = PCA(n_components = 2)\n",
    "# apply PCA model on iris\n",
    "x_pca2 = modelPCA.fit_transform(pca2)"
   ]
  },
  {
   "cell_type": "code",
   "execution_count": 27,
   "metadata": {},
   "outputs": [
    {
     "name": "stdout",
     "output_type": "stream",
     "text": [
      "[48.83212623  8.43454043]\n",
      "[0.85271466 0.14728534]\n"
     ]
    }
   ],
   "source": [
    "print(modelPCA.explained_variance_)\n",
    "print(modelPCA.explained_variance_ratio_)"
   ]
  },
  {
   "cell_type": "code",
   "execution_count": 4,
   "metadata": {},
   "outputs": [
    {
     "ename": "AttributeError",
     "evalue": "'DataFrame' object has no attribute 'target'",
     "output_type": "error",
     "traceback": [
      "\u001b[0;31m---------------------------------------------------------------------------\u001b[0m",
      "\u001b[0;31mAttributeError\u001b[0m                            Traceback (most recent call last)",
      "\u001b[0;32m<ipython-input-4-81099ebdebfd>\u001b[0m in \u001b[0;36m<module>\u001b[0;34m()\u001b[0m\n\u001b[1;32m      2\u001b[0m \u001b[0;32mimport\u001b[0m \u001b[0mseaborn\u001b[0m \u001b[0;32mas\u001b[0m \u001b[0msns\u001b[0m\u001b[0;34m\u001b[0m\u001b[0;34m\u001b[0m\u001b[0m\n\u001b[1;32m      3\u001b[0m \u001b[0miris\u001b[0m \u001b[0;34m=\u001b[0m \u001b[0msns\u001b[0m\u001b[0;34m.\u001b[0m\u001b[0mload_dataset\u001b[0m\u001b[0;34m(\u001b[0m\u001b[0;34m'iris'\u001b[0m\u001b[0;34m)\u001b[0m\u001b[0;34m\u001b[0m\u001b[0;34m\u001b[0m\u001b[0m\n\u001b[0;32m----> 4\u001b[0;31m \u001b[0mprint\u001b[0m\u001b[0;34m(\u001b[0m\u001b[0miris\u001b[0m\u001b[0;34m.\u001b[0m\u001b[0mtarget\u001b[0m\u001b[0;34m)\u001b[0m\u001b[0;34m\u001b[0m\u001b[0;34m\u001b[0m\u001b[0m\n\u001b[0m\u001b[1;32m      5\u001b[0m \u001b[0miris\u001b[0m\u001b[0;34m.\u001b[0m\u001b[0mhead\u001b[0m\u001b[0;34m(\u001b[0m\u001b[0;34m)\u001b[0m\u001b[0;34m\u001b[0m\u001b[0;34m\u001b[0m\u001b[0m\n",
      "\u001b[0;32mE:\\Python\\Python3.7.2\\lib\\site-packages\\pandas\\core\\generic.py\u001b[0m in \u001b[0;36m__getattr__\u001b[0;34m(self, name)\u001b[0m\n\u001b[1;32m   4374\u001b[0m             \u001b[0;32mif\u001b[0m \u001b[0mself\u001b[0m\u001b[0;34m.\u001b[0m\u001b[0m_info_axis\u001b[0m\u001b[0;34m.\u001b[0m\u001b[0m_can_hold_identifiers_and_holds_name\u001b[0m\u001b[0;34m(\u001b[0m\u001b[0mname\u001b[0m\u001b[0;34m)\u001b[0m\u001b[0;34m:\u001b[0m\u001b[0;34m\u001b[0m\u001b[0;34m\u001b[0m\u001b[0m\n\u001b[1;32m   4375\u001b[0m                 \u001b[0;32mreturn\u001b[0m \u001b[0mself\u001b[0m\u001b[0;34m[\u001b[0m\u001b[0mname\u001b[0m\u001b[0;34m]\u001b[0m\u001b[0;34m\u001b[0m\u001b[0;34m\u001b[0m\u001b[0m\n\u001b[0;32m-> 4376\u001b[0;31m             \u001b[0;32mreturn\u001b[0m \u001b[0mobject\u001b[0m\u001b[0;34m.\u001b[0m\u001b[0m__getattribute__\u001b[0m\u001b[0;34m(\u001b[0m\u001b[0mself\u001b[0m\u001b[0;34m,\u001b[0m \u001b[0mname\u001b[0m\u001b[0;34m)\u001b[0m\u001b[0;34m\u001b[0m\u001b[0;34m\u001b[0m\u001b[0m\n\u001b[0m\u001b[1;32m   4377\u001b[0m \u001b[0;34m\u001b[0m\u001b[0m\n\u001b[1;32m   4378\u001b[0m     \u001b[0;32mdef\u001b[0m \u001b[0m__setattr__\u001b[0m\u001b[0;34m(\u001b[0m\u001b[0mself\u001b[0m\u001b[0;34m,\u001b[0m \u001b[0mname\u001b[0m\u001b[0;34m,\u001b[0m \u001b[0mvalue\u001b[0m\u001b[0;34m)\u001b[0m\u001b[0;34m:\u001b[0m\u001b[0;34m\u001b[0m\u001b[0;34m\u001b[0m\u001b[0m\n",
      "\u001b[0;31mAttributeError\u001b[0m: 'DataFrame' object has no attribute 'target'"
     ]
    }
   ],
   "source": [
    "# Apply it on IRIS\n",
    "import seaborn as sns\n",
    "iris = sns.load_dataset('iris')\n",
    "iris.head()"
   ]
  },
  {
   "cell_type": "code",
   "execution_count": 29,
   "metadata": {},
   "outputs": [
    {
     "name": "stdout",
     "output_type": "stream",
     "text": [
      "0.6811222222222223 0.1887128888888889 3.0955026666666665 0.5771328888888888 4.5424706666666665\n"
     ]
    }
   ],
   "source": [
    "import numpy as np\n",
    "import pandas as pd\n",
    "var1 = np.var(iris.sepal_length)\n",
    "var2 = np.var(iris.sepal_width)\n",
    "var3 = np.var(iris.petal_length)\n",
    "var4 = np.var(iris.petal_width)\n",
    "totvar = var1 + var2 + var3 + var4\n",
    "print(var1,var2,var3,var4,totvar)"
   ]
  },
  {
   "cell_type": "code",
   "execution_count": 30,
   "metadata": {},
   "outputs": [
    {
     "name": "stdout",
     "output_type": "stream",
     "text": [
      "[[ 1.         -0.11756978]\n",
      " [-0.11756978  1.        ]]\n",
      "[[1.         0.87175378]\n",
      " [0.87175378 1.        ]]\n",
      "[[1.         0.81794113]\n",
      " [0.81794113 1.        ]]\n",
      "[[1.         0.96286543]\n",
      " [0.96286543 1.        ]]\n"
     ]
    }
   ],
   "source": [
    "# check the correlation\n",
    "print(np.corrcoef(iris.sepal_length,iris.sepal_width))\n",
    "print(np.corrcoef(iris.sepal_length,iris.petal_length))\n",
    "print(np.corrcoef(iris.sepal_length,iris.petal_width))\n",
    "print(np.corrcoef(iris.petal_length,iris.petal_width))"
   ]
  },
  {
   "cell_type": "code",
   "execution_count": 31,
   "metadata": {},
   "outputs": [
    {
     "data": {
      "text/plain": [
       "<seaborn.axisgrid.PairGrid at 0xb0f7150>"
      ]
     },
     "execution_count": 31,
     "metadata": {},
     "output_type": "execute_result"
    },
    {
     "data": {
      "image/png": "[encoded data removed]",
      "text/plain": [
       "<Figure size 518.85x432 with 20 Axes>"
      ]
     },
     "metadata": {},
     "output_type": "display_data"
    }
   ],
   "source": [
    "%matplotlib inline\n",
    "sns.set()\n",
    "sns.pairplot(iris, hue = 'species', height = 1.5)"
   ]
  },
  {
   "cell_type": "code",
   "execution_count": 32,
   "metadata": {},
   "outputs": [
    {
     "name": "stdout",
     "output_type": "stream",
     "text": [
      "(150, 4)\n",
      "(150,)\n",
      "<class 'pandas.core.frame.DataFrame'>\n",
      "<class 'pandas.core.series.Series'>\n"
     ]
    }
   ],
   "source": [
    "# split the train data into independent variables (X) and dependent variable (Y)\n",
    "x_iris = iris.drop('species', axis = 1)\n",
    "print(x_iris.shape)\n",
    "y_iris = iris['species']\n",
    "print(y_iris.shape)\n",
    "print(type(x_iris))\n",
    "print(type(y_iris))"
   ]
  },
  {
   "cell_type": "code",
   "execution_count": 33,
   "metadata": {},
   "outputs": [
    {
     "name": "stdout",
     "output_type": "stream",
     "text": [
      "<class 'numpy.ndarray'>\n",
      "(150, 2)\n"
     ]
    }
   ],
   "source": [
    "# apply PCA\n",
    "from sklearn.decomposition import PCA\n",
    "# create PCA object\n",
    "modelPCA = PCA(n_components = 2)\n",
    "# apply PCA model on iris\n",
    "X_PCA = modelPCA.fit_transform(x_iris)\n",
    "print(type(X_PCA))\n",
    "print(X_PCA.shape)"
   ]
  },
  {
   "cell_type": "code",
   "execution_count": 34,
   "metadata": {},
   "outputs": [
    {
     "name": "stdout",
     "output_type": "stream",
     "text": [
      "[[ 0.36138659 -0.08452251  0.85667061  0.3582892 ]\n",
      " [ 0.65658877  0.73016143 -0.17337266 -0.07548102]]\n",
      "[4.22824171 0.24267075]\n",
      "[0.92461872 0.05306648]\n",
      "0.051022296508184385\n",
      "[25.09996044  6.01314738]\n"
     ]
    }
   ],
   "source": [
    "# print PCA weights\n",
    "print(modelPCA.components_)                      # weights\n",
    "print(modelPCA.explained_variance_)              # \n",
    "print(modelPCA.explained_variance_ratio_)\n",
    "print(modelPCA.noise_variance_)\n",
    "print(modelPCA.singular_values_)"
   ]
  },
  {
   "cell_type": "code",
   "execution_count": 35,
   "metadata": {},
   "outputs": [
    {
     "name": "stdout",
     "output_type": "stream",
     "text": [
      "[[-2.68412563  0.31939725]\n",
      " [-2.71414169 -0.17700123]\n",
      " [-2.88899057 -0.14494943]\n",
      " [-2.74534286 -0.31829898]\n",
      " [-2.72871654  0.32675451]\n",
      " [-2.28085963  0.74133045]\n",
      " [-2.82053775 -0.08946138]\n",
      " [-2.62614497  0.16338496]\n",
      " [-2.88638273 -0.57831175]\n",
      " [-2.6727558  -0.11377425]]\n"
     ]
    }
   ],
   "source": [
    "print(X_PCA[0:10])"
   ]
  },
  {
   "cell_type": "code",
   "execution_count": 36,
   "metadata": {},
   "outputs": [
    {
     "name": "stdout",
     "output_type": "stream",
     "text": [
      "[[ 1.0000000e+00 -5.8847136e-17]\n",
      " [-5.8847136e-17  1.0000000e+00]]\n"
     ]
    }
   ],
   "source": [
    "# check the correlation between PCAs\n",
    "print(np.corrcoef(X_PCA[:,0],X_PCA[:,1]))\n",
    "# print(np.corrcoef(X_PCA[:,1],X_PCA[:,2]))\n",
    "# print(np.corrcoef(X_PCA[:,2],X_PCA[:,3]))"
   ]
  },
  {
   "cell_type": "code",
   "execution_count": 37,
   "metadata": {},
   "outputs": [
    {
     "data": {
      "text/plain": [
       "<seaborn.axisgrid.FacetGrid at 0xbb2aeb0>"
      ]
     },
     "execution_count": 37,
     "metadata": {},
     "output_type": "execute_result"
    },
    {
     "data": {
      "image/png": "[encoded data removed]",
      "text/plain": [
       "<Figure size 446.85x360 with 1 Axes>"
      ]
     },
     "metadata": {},
     "output_type": "display_data"
    }
   ],
   "source": [
    "# inser the transformed data into original dataset and plot the graph\n",
    "iris[\"PCA1\"] = X_PCA[:,0]\n",
    "iris[\"PCA2\"] = X_PCA[:,1]\n",
    "sns.lmplot(\"PCA1\", \"PCA2\", hue = 'species', data=iris, fit_reg = False)"
   ]
  },
  {
   "cell_type": "code",
   "execution_count": 38,
   "metadata": {},
   "outputs": [
    {
     "name": "stdout",
     "output_type": "stream",
     "text": [
      "<class 'numpy.ndarray'>\n",
      "(150, 3)\n"
     ]
    }
   ],
   "source": [
    "# apply PCA to reduce the number of features such that 90% variance is captures\n",
    "from sklearn.decomposition import PCA\n",
    "# create PCA object\n",
    "modelPCA = PCA(n_components = 0.98)\n",
    "# apply PCA model on iris\n",
    "X_2D = modelPCA.fit_transform(x_iris)\n",
    "print(type(X_2D))\n",
    "print(X_2D.shape)"
   ]
  },
  {
   "cell_type": "code",
   "execution_count": 39,
   "metadata": {},
   "outputs": [
    {
     "name": "stdout",
     "output_type": "stream",
     "text": [
      "[[ 0.36138659 -0.08452251  0.85667061  0.3582892 ]\n",
      " [ 0.65658877  0.73016143 -0.17337266 -0.07548102]\n",
      " [-0.58202985  0.59791083  0.07623608  0.54583143]]\n",
      "[4.22824171 0.24267075 0.0782095 ]\n",
      "[0.92461872 0.05306648 0.01710261]\n",
      "0.023835092973449417\n",
      "[25.09996044  6.01314738  3.41368064]\n"
     ]
    }
   ],
   "source": [
    "# print PCA weights\n",
    "print(modelPCA.components_)\n",
    "print(modelPCA.explained_variance_)\n",
    "print(modelPCA.explained_variance_ratio_)\n",
    "print(modelPCA.noise_variance_)\n",
    "print(modelPCA.singular_values_)"
   ]
  },
  {
   "cell_type": "code",
   "execution_count": 40,
   "metadata": {},
   "outputs": [
    {
     "name": "stdout",
     "output_type": "stream",
     "text": [
      "[[-2.68412563  0.31939725 -0.02791483]\n",
      " [-2.71414169 -0.17700123 -0.21046427]\n",
      " [-2.88899057 -0.14494943  0.01790026]\n",
      " [-2.74534286 -0.31829898  0.03155937]\n",
      " [-2.72871654  0.32675451  0.09007924]\n",
      " [-2.28085963  0.74133045  0.16867766]\n",
      " [-2.82053775 -0.08946138  0.25789216]\n",
      " [-2.62614497  0.16338496 -0.02187932]\n",
      " [-2.88638273 -0.57831175  0.02075957]\n",
      " [-2.6727558  -0.11377425 -0.19763272]\n",
      " [-2.50694709  0.6450689  -0.07531801]\n",
      " [-2.61275523  0.01472994  0.10215026]\n",
      " [-2.78610927 -0.235112   -0.20684443]\n",
      " [-3.22380374 -0.51139459  0.06129967]\n",
      " [-2.64475039  1.17876464 -0.15162752]\n",
      " [-2.38603903  1.33806233  0.2777769 ]\n",
      " [-2.62352788  0.81067951  0.13818323]\n",
      " [-2.64829671  0.31184914  0.02666832]\n",
      " [-2.19982032  0.87283904 -0.12030552]\n",
      " [-2.5879864   0.51356031  0.21366517]\n",
      " [-2.31025622  0.39134594 -0.23944404]\n",
      " [-2.54370523  0.43299606  0.20845723]\n",
      " [-3.21593942  0.13346807  0.29239675]\n",
      " [-2.30273318  0.09870885  0.03912326]\n",
      " [-2.35575405 -0.03728186  0.12502108]\n",
      " [-2.50666891 -0.14601688 -0.25342004]\n",
      " [-2.46882007  0.13095149  0.09491058]\n",
      " [-2.56231991  0.36771886 -0.07849421]\n",
      " [-2.63953472  0.31203998 -0.1459089 ]\n",
      " [-2.63198939 -0.19696122  0.04077108]\n",
      " [-2.58739848 -0.20431849 -0.07722299]\n",
      " [-2.4099325   0.41092426 -0.14552497]\n",
      " [-2.64886233  0.81336382  0.22566915]\n",
      " [-2.59873675  1.09314576  0.15781081]\n",
      " [-2.63692688 -0.12132235 -0.14304958]\n",
      " [-2.86624165  0.06936447 -0.16433231]\n",
      " [-2.62523805  0.59937002 -0.26835038]\n",
      " [-2.80068412  0.26864374  0.09369908]\n",
      " [-2.98050204 -0.48795834  0.07292705]\n",
      " [-2.59000631  0.22904384 -0.0800823 ]\n",
      " [-2.77010243  0.26352753  0.07724769]\n",
      " [-2.84936871 -0.94096057 -0.34923038]\n",
      " [-2.99740655 -0.34192606  0.19250921]\n",
      " [-2.40561449  0.18887143  0.26386795]\n",
      " [-2.20948924  0.43666314  0.29874275]\n",
      " [-2.71445143 -0.2502082  -0.09767814]\n",
      " [-2.53814826  0.50377114  0.16670564]\n",
      " [-2.83946217 -0.22794557  0.08372685]\n",
      " [-2.54308575  0.57941002 -0.01711502]\n",
      " [-2.70335978  0.10770608 -0.08929401]\n",
      " [ 1.28482569  0.68516047 -0.40656803]\n",
      " [ 0.93248853  0.31833364 -0.01801419]\n",
      " [ 1.46430232  0.50426282 -0.33832576]\n",
      " [ 0.18331772 -0.82795901 -0.17959139]\n",
      " [ 1.08810326  0.07459068 -0.3077579 ]\n",
      " [ 0.64166908 -0.41824687  0.04107609]\n",
      " [ 1.09506066  0.28346827  0.16981024]\n",
      " [-0.74912267 -1.00489096  0.01230292]\n",
      " [ 1.04413183  0.2283619  -0.41533608]\n",
      " [-0.0087454  -0.72308191  0.28114143]\n",
      " [-0.50784088 -1.26597119 -0.26981718]\n",
      " [ 0.51169856 -0.10398124  0.13054775]\n",
      " [ 0.26497651 -0.55003646 -0.69414683]\n",
      " [ 0.98493451 -0.12481785 -0.06211441]\n",
      " [-0.17392537 -0.25485421  0.09045769]\n",
      " [ 0.92786078  0.46717949 -0.31462098]\n",
      " [ 0.66028376 -0.35296967  0.32802753]\n",
      " [ 0.23610499 -0.33361077 -0.27116184]\n",
      " [ 0.94473373 -0.54314555 -0.49951905]\n",
      " [ 0.04522698 -0.58383438 -0.2350021 ]\n",
      " [ 1.11628318 -0.08461685  0.45962099]\n",
      " [ 0.35788842 -0.06892503 -0.22985389]\n",
      " [ 1.29818388 -0.32778731 -0.34785435]\n",
      " [ 0.92172892 -0.18273779 -0.23107178]\n",
      " [ 0.71485333  0.14905594 -0.32180094]\n",
      " [ 0.90017437  0.32850447 -0.31620907]\n",
      " [ 1.33202444  0.24444088 -0.52170278]\n",
      " [ 1.55780216  0.26749545 -0.16492098]\n",
      " [ 0.81329065 -0.1633503   0.0354245 ]\n",
      " [-0.30558378 -0.36826219 -0.31849158]\n",
      " [-0.06812649 -0.70517213 -0.24421381]\n",
      " [-0.18962247 -0.68028676 -0.30642056]\n",
      " [ 0.13642871 -0.31403244 -0.17724277]\n",
      " [ 1.38002644 -0.42095429  0.01616713]\n",
      " [ 0.58800644 -0.48428742  0.4444335 ]\n",
      " [ 0.80685831  0.19418231  0.38896306]\n",
      " [ 1.22069088  0.40761959 -0.23716701]\n",
      " [ 0.81509524 -0.37203706 -0.61472084]\n",
      " [ 0.24595768 -0.2685244   0.18836681]\n",
      " [ 0.16641322 -0.68192672 -0.06000923]\n",
      " [ 0.46480029 -0.67071154 -0.02430686]\n",
      " [ 0.8908152  -0.03446444 -0.00994693]\n",
      " [ 0.23054802 -0.40438585 -0.22941024]\n",
      " [-0.70453176 -1.01224823 -0.10569115]\n",
      " [ 0.35698149 -0.50491009  0.01661717]\n",
      " [ 0.33193448 -0.21265468  0.08320429]\n",
      " [ 0.37621565 -0.29321893  0.07799635]\n",
      " [ 0.64257601  0.01773819 -0.20539497]\n",
      " [-0.90646986 -0.75609337 -0.01259965]\n",
      " [ 0.29900084 -0.34889781  0.01058166]\n",
      " [ 2.53119273 -0.00984911  0.76016543]\n",
      " [ 1.41523588 -0.57491635  0.29632253]\n",
      " [ 2.61667602  0.34390315 -0.11078788]\n",
      " [ 1.97153105 -0.1797279   0.10842466]\n",
      " [ 2.35000592 -0.04026095  0.28538956]\n",
      " [ 3.39703874  0.55083667 -0.34843756]\n",
      " [ 0.52123224 -1.19275873  0.5456593 ]\n",
      " [ 2.93258707  0.3555     -0.42023994]\n",
      " [ 2.32122882 -0.2438315  -0.34830439]\n",
      " [ 2.91675097  0.78279195  0.42333542]\n",
      " [ 1.66177415  0.24222841  0.24244019]\n",
      " [ 1.80340195 -0.21563762 -0.03764817]\n",
      " [ 2.1655918   0.21627559  0.03332664]\n",
      " [ 1.34616358 -0.77681835  0.28190288]\n",
      " [ 1.58592822 -0.53964071  0.62902933]\n",
      " [ 1.90445637  0.11925069  0.47963982]\n",
      " [ 1.94968906  0.04194326  0.04418617]\n",
      " [ 3.48705536  1.17573933  0.13389487]\n",
      " [ 3.79564542  0.25732297 -0.51376776]\n",
      " [ 1.30079171 -0.76114964 -0.34499504]\n",
      " [ 2.42781791  0.37819601  0.21911932]\n",
      " [ 1.19900111 -0.60609153  0.51185551]\n",
      " [ 3.49992004  0.4606741  -0.57318224]\n",
      " [ 1.38876613 -0.20439933 -0.06452276]\n",
      " [ 2.2754305   0.33499061  0.28615009]\n",
      " [ 2.61409047  0.56090136 -0.20553452]\n",
      " [ 1.25850816 -0.17970479  0.0458477 ]\n",
      " [ 1.29113206 -0.11666865  0.23125646]\n",
      " [ 2.12360872 -0.20972948  0.15418002]\n",
      " [ 2.38800302  0.4646398  -0.44953019]\n",
      " [ 2.84167278  0.37526917 -0.49889808]\n",
      " [ 3.23067366  1.37416509 -0.11454821]\n",
      " [ 2.15943764 -0.21727758  0.20876317]\n",
      " [ 1.44416124 -0.14341341 -0.15323389]\n",
      " [ 1.78129481 -0.49990168 -0.17287519]\n",
      " [ 3.07649993  0.68808568 -0.33559229]\n",
      " [ 2.14424331  0.1400642   0.73487894]\n",
      " [ 1.90509815  0.04930053  0.16218024]\n",
      " [ 1.16932634 -0.16499026  0.28183584]\n",
      " [ 2.10761114  0.37228787  0.02729113]\n",
      " [ 2.31415471  0.18365128  0.32269375]\n",
      " [ 1.9222678   0.40920347  0.1135866 ]\n",
      " [ 1.41523588 -0.57491635  0.29632253]\n",
      " [ 2.56301338  0.2778626   0.29256952]\n",
      " [ 2.41874618  0.3047982   0.50448266]\n",
      " [ 1.94410979  0.1875323   0.17782509]\n",
      " [ 1.52716661 -0.37531698 -0.12189817]\n",
      " [ 1.76434572  0.07885885  0.13048163]\n",
      " [ 1.90094161  0.11662796  0.72325156]\n",
      " [ 1.39018886 -0.28266094  0.36290965]]\n"
     ]
    }
   ],
   "source": [
    "print(X_2D)"
   ]
  }
 ],
 "metadata": {
  "kernelspec": {
   "display_name": "Python 3",
   "language": "python",
   "name": "python3"
  },
  "language_info": {
   "codemirror_mode": {
    "name": "ipython",
    "version": 3
   },
   "file_extension": ".py",
   "mimetype": "text/x-python",
   "name": "python",
   "nbconvert_exporter": "python",
   "pygments_lexer": "ipython3",
   "version": "3.7.2"
  }
 },
 "nbformat": 4,
 "nbformat_minor": 2
}
