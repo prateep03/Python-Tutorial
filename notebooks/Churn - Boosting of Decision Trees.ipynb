{
 "cells": [
  {
   "cell_type": "markdown",
   "metadata": {},
   "source": [
    "# Boosting\n",
    "\n",
    "*Boosting* refers to any Ensemble method that can combine several weak learners into a strong learner. The general idea of most boosting methods is to train predictors sequentially, each trying to correct its predecessor. There are many boosting methods available, but by far the most popular are [*Adaboost*](https://en.wikipedia.org/wiki/AdaBoost)(short for *Adaptive Boosting*) and [*Gradient Boosting*](https://en.wikipedia.org/wiki/Gradient_boosting)."
   ]
  },
  {
   "cell_type": "code",
   "execution_count": 1,
   "metadata": {},
   "outputs": [],
   "source": [
    "import numpy as np\n",
    "import pandas as pd\n",
    "from matplotlib import pyplot as plt\n",
    "%matplotlib inline\n",
    "\n",
    "import seaborn as sns\n",
    "sns.set(style='darkgrid', palette='icefire')\n",
    "\n",
    "# Seaborn generates a lot of warnings. Disable them.\n",
    "import warnings\n",
    "warnings.filterwarnings(\"ignore\")\n",
    "\n",
    "from sklearn.datasets import load_iris\n",
    "from sklearn.model_selection import train_test_split"
   ]
  },
  {
   "cell_type": "code",
   "execution_count": 2,
   "metadata": {},
   "outputs": [],
   "source": [
    "# Plot properties.\n",
    "plt.rcParams['figure.dpi'] = 100\n",
    "plt.rcParams['lines.linewidth'] = 2\n",
    "plt.rcParams['axes.axisbelow'] = True\n",
    "plt.rcParams['axes.titlesize'] = 20"
   ]
  },
  {
   "cell_type": "markdown",
   "metadata": {},
   "source": [
    "## Adaboost\n",
    "\n",
    "One way for a new predictor to correct its predecessor is to pay a bit more attention to the training instances that the predecessor underfitted. This results in new predictors focusing more and more on the harder cases. This is the technique used by *Adaboost*."
   ]
  },
  {
   "cell_type": "markdown",
   "metadata": {},
   "source": [
    "For example, to build an *Adaboost classifier*, a first base classifier (such as *DecisionTreeClassifier*) is trained and used to make predictions on the training set. The relative weight of misclassified training instances is then increased. A second classifier is trained using the updated weights and again it makes predictions on the training set, weights are updated, and so on.\n",
    "\n",
    "<img src='../data/adaboost.png'> </img>"
   ]
  },
  {
   "cell_type": "markdown",
   "metadata": {},
   "source": [
    "**Note:** There is one important drawback to this sequential learning technique: *it cannot be parallelized*, since each predictor can only be trained after the previous predictors has been trained and evaluated. As a result, *Adaboost* does not scale as well as bagging."
   ]
  },
  {
   "cell_type": "markdown",
   "metadata": {},
   "source": [
    "## Intuition\n",
    "\n",
    "Let's take a closer look at the *Adaboost* algorithm. Each instance weight $w_i$ is initially set to $\\frac{1}{n}$, where $n$ is the number of data samples. A first predictor is trained and its weighted error rate $\\epsilon_i$, is computed on the trained set.\n",
    "\n",
    "<font size=\"5\">\n",
    "$$\n",
    "\\epsilon_j = \\frac{\\underset{i, \\hat{y}_{ij} \\neq y_j}\\sum w_i}{\\underset{i}\\sum w_i}\n",
    "$$\n",
    "</font>\n",
    "\n",
    "where $\\hat{y}_{ij}$ is the $j^{th}$ predictor's response to $x_i$ and $y_i$ is the ground truth label for $x_i$."
   ]
  },
  {
   "cell_type": "markdown",
   "metadata": {},
   "source": [
    "The predictor's weight $\\alpha_j$ is then computed as \n",
    "\n",
    "$$\\alpha_j = \\eta \\; log \\left( \\frac{1-\\epsilon_j}{\\epsilon_j} \\right)$$\n",
    "\n",
    "where $\\eta$ is the learning rate parameter. The more accuraet the predictor is, the higher its weight will be (see plot below). However, if its most often wrong (or less accurate than random guessing), then its weight will be negative."
   ]
  },
  {
   "cell_type": "code",
   "execution_count": 3,
   "metadata": {},
   "outputs": [
    {
     "data": {
      "text/plain": [
       "Text(0, 0.5, 'Alpha')"
      ]
     },
     "execution_count": 3,
     "metadata": {},
     "output_type": "execute_result"
    },
    {
     "data": {
      "image/png": "[encoded data removed]",
      "text/plain": [
       "<Figure size 600x400 with 1 Axes>"
      ]
     },
     "metadata": {},
     "output_type": "display_data"
    }
   ],
   "source": [
    "# learning rate \n",
    "eta = 0.5\n",
    "\n",
    "x = np.linspace(0.01,0.99,100).astype(float)\n",
    "y = eta * np.log((1.-x) / x)\n",
    "plt.plot(x,y,'b-')\n",
    "plt.xlabel('Error Rate')\n",
    "plt.ylabel('Alpha')"
   ]
  },
  {
   "cell_type": "markdown",
   "metadata": {},
   "source": [
    "Next, the instance weights are updated as follows:\n",
    "\n",
    "$$\n",
    "w_i = \\begin{cases}\n",
    "w_i, & \\text{if } \\; \\; \\hat{y}_{ij} = y_i \\\\\n",
    "w_i e^{\\alpha_j}, & \\text{if } \\; \\; \\hat{y}_{ij} \\neq y_i\n",
    "\\end{cases}\n",
    "$$"
   ]
  },
  {
   "cell_type": "markdown",
   "metadata": {},
   "source": [
    "Then all the instance weights are normalized, (divided by $\\underset{i} \\sum w_i$)."
   ]
  },
  {
   "cell_type": "markdown",
   "metadata": {},
   "source": [
    "Finally, a new predictor is trained using the updated weights, and the whole process is repeated. The algorithm stops when the desired number of predictors is reached, or when a perfect predictor is found ($\\epsilon_j = 0$)."
   ]
  },
  {
   "cell_type": "markdown",
   "metadata": {},
   "source": [
    "To make predictions, *Adaboost* simply computes the predictions of all the predictors and weighs them using the predictor weights $\\alpha_j$. The predicted class is the one that receives the majority of weighted votes.\n",
    "\n",
    "$$\n",
    "\\hat{y}(x) = \\textrm{argmax }_k \\underset{\\hat{y}_j(x) = k}\\sum \\alpha_j\n",
    "$$"
   ]
  },
  {
   "cell_type": "markdown",
   "metadata": {},
   "source": [
    "## `AdaBoostClassifier` with Iris"
   ]
  },
  {
   "cell_type": "code",
   "execution_count": 4,
   "metadata": {},
   "outputs": [],
   "source": [
    "# Load data\n",
    "iris = load_iris()"
   ]
  },
  {
   "cell_type": "code",
   "execution_count": 5,
   "metadata": {},
   "outputs": [
    {
     "data": {
      "text/html": [
       "<div>\n",
       "<style scoped>\n",
       "    .dataframe tbody tr th:only-of-type {\n",
       "        vertical-align: middle;\n",
       "    }\n",
       "\n",
       "    .dataframe tbody tr th {\n",
       "        vertical-align: top;\n",
       "    }\n",
       "\n",
       "    .dataframe thead th {\n",
       "        text-align: right;\n",
       "    }\n",
       "</style>\n",
       "<table border=\"1\" class=\"dataframe\">\n",
       "  <thead>\n",
       "    <tr style=\"text-align: right;\">\n",
       "      <th></th>\n",
       "      <th>sepal length (cm)</th>\n",
       "      <th>sepal width (cm)</th>\n",
       "      <th>petal length (cm)</th>\n",
       "      <th>petal width (cm)</th>\n",
       "    </tr>\n",
       "  </thead>\n",
       "  <tbody>\n",
       "    <tr>\n",
       "      <th>0</th>\n",
       "      <td>5.1</td>\n",
       "      <td>3.5</td>\n",
       "      <td>1.4</td>\n",
       "      <td>0.2</td>\n",
       "    </tr>\n",
       "    <tr>\n",
       "      <th>1</th>\n",
       "      <td>4.9</td>\n",
       "      <td>3.0</td>\n",
       "      <td>1.4</td>\n",
       "      <td>0.2</td>\n",
       "    </tr>\n",
       "    <tr>\n",
       "      <th>2</th>\n",
       "      <td>4.7</td>\n",
       "      <td>3.2</td>\n",
       "      <td>1.3</td>\n",
       "      <td>0.2</td>\n",
       "    </tr>\n",
       "    <tr>\n",
       "      <th>3</th>\n",
       "      <td>4.6</td>\n",
       "      <td>3.1</td>\n",
       "      <td>1.5</td>\n",
       "      <td>0.2</td>\n",
       "    </tr>\n",
       "    <tr>\n",
       "      <th>4</th>\n",
       "      <td>5.0</td>\n",
       "      <td>3.6</td>\n",
       "      <td>1.4</td>\n",
       "      <td>0.2</td>\n",
       "    </tr>\n",
       "  </tbody>\n",
       "</table>\n",
       "</div>"
      ],
      "text/plain": [
       "   sepal length (cm)  sepal width (cm)  petal length (cm)  petal width (cm)\n",
       "0                5.1               3.5                1.4               0.2\n",
       "1                4.9               3.0                1.4               0.2\n",
       "2                4.7               3.2                1.3               0.2\n",
       "3                4.6               3.1                1.5               0.2\n",
       "4                5.0               3.6                1.4               0.2"
      ]
     },
     "execution_count": 5,
     "metadata": {},
     "output_type": "execute_result"
    }
   ],
   "source": [
    "# Lets look at the dataframe.\n",
    "df = pd.DataFrame(iris.data, columns=iris.feature_names)\n",
    "df.head()"
   ]
  },
  {
   "cell_type": "code",
   "execution_count": 6,
   "metadata": {},
   "outputs": [],
   "source": [
    "# Use features petal length and width ONLY.\n",
    "X = iris.data[:, 2:]\n",
    "y = iris.target"
   ]
  },
  {
   "cell_type": "code",
   "execution_count": 7,
   "metadata": {
    "scrolled": true
   },
   "outputs": [
    {
     "data": {
      "text/plain": [
       "array(['setosa', 'versicolor', 'virginica'], dtype='<U10')"
      ]
     },
     "execution_count": 7,
     "metadata": {},
     "output_type": "execute_result"
    }
   ],
   "source": [
    "iris.target_names"
   ]
  },
  {
   "cell_type": "code",
   "execution_count": 8,
   "metadata": {},
   "outputs": [
    {
     "name": "stdout",
     "output_type": "stream",
     "text": [
      "No. of train samples: 105\n",
      "No. of test samples: 45\n"
     ]
    }
   ],
   "source": [
    "X_train, X_test, y_train, y_test = train_test_split(X, y, test_size=0.3, random_state=42, shuffle=True)\n",
    "\n",
    "print('No. of train samples: {}'.format(len(X_train)))\n",
    "print('No. of test samples: {}'.format(len(X_test)))"
   ]
  },
  {
   "cell_type": "code",
   "execution_count": 9,
   "metadata": {},
   "outputs": [
    {
     "name": "stderr",
     "output_type": "stream",
     "text": [
      "/Users/prateepmukherjee/Documents/Projects/turi/mjolnir-cli/venv/lib/python3.6/site-packages/sklearn/ensemble/weight_boosting.py:29: DeprecationWarning: numpy.core.umath_tests is an internal NumPy module and should not be imported. It will be removed in a future NumPy release.\n",
      "  from numpy.core.umath_tests import inner1d\n"
     ]
    },
    {
     "data": {
      "text/plain": [
       "AdaBoostClassifier(algorithm='SAMME.R',\n",
       "          base_estimator=DecisionTreeClassifier(class_weight=None, criterion='gini', max_depth=1,\n",
       "            max_features=None, max_leaf_nodes=None,\n",
       "            min_impurity_decrease=0.0, min_impurity_split=None,\n",
       "            min_samples_leaf=1, min_samples_split=2,\n",
       "            min_weight_fraction_leaf=0.0, presort=False, random_state=42,\n",
       "            splitter='best'),\n",
       "          learning_rate=0.01, n_estimators=10, random_state=42)"
      ]
     },
     "execution_count": 9,
     "metadata": {},
     "output_type": "execute_result"
    }
   ],
   "source": [
    "from sklearn.tree import DecisionTreeClassifier\n",
    "from sklearn.ensemble import AdaBoostClassifier\n",
    "\n",
    "tree_clf = DecisionTreeClassifier(max_depth=1, random_state=42)\n",
    "\n",
    "ada_clf = AdaBoostClassifier(base_estimator=tree_clf,\n",
    "                             n_estimators=10,\n",
    "                             learning_rate=0.01,\n",
    "                             random_state = 42)\n",
    "\n",
    "ada_clf.fit(X_train,y_train)"
   ]
  },
  {
   "cell_type": "code",
   "execution_count": 10,
   "metadata": {},
   "outputs": [],
   "source": [
    "y_pred = ada_clf.predict(X_test)"
   ]
  },
  {
   "cell_type": "code",
   "execution_count": 11,
   "metadata": {},
   "outputs": [
    {
     "name": "stdout",
     "output_type": "stream",
     "text": [
      "Test accuracy: 1.0\n"
     ]
    }
   ],
   "source": [
    "from sklearn.metrics import accuracy_score\n",
    "\n",
    "print(f'Test accuracy: {accuracy_score(y_test, y_pred)}')"
   ]
  },
  {
   "cell_type": "markdown",
   "metadata": {},
   "source": [
    "**If the *Adaboost* ensemble is over-fitting the training set, you can try reducing the number of estimators or more strongly regularize the base estimator.**"
   ]
  },
  {
   "cell_type": "markdown",
   "metadata": {},
   "source": [
    "## `AdaBoostClassifier` on Churn Dataset"
   ]
  },
  {
   "cell_type": "code",
   "execution_count": 12,
   "metadata": {},
   "outputs": [
    {
     "data": {
      "text/html": [
       "<div>\n",
       "<style scoped>\n",
       "    .dataframe tbody tr th:only-of-type {\n",
       "        vertical-align: middle;\n",
       "    }\n",
       "\n",
       "    .dataframe tbody tr th {\n",
       "        vertical-align: top;\n",
       "    }\n",
       "\n",
       "    .dataframe thead th {\n",
       "        text-align: right;\n",
       "    }\n",
       "</style>\n",
       "<table border=\"1\" class=\"dataframe\">\n",
       "  <thead>\n",
       "    <tr style=\"text-align: right;\">\n",
       "      <th></th>\n",
       "      <th>AccountLength</th>\n",
       "      <th>AreaCode</th>\n",
       "      <th>IntlPlan</th>\n",
       "      <th>VMailPlan</th>\n",
       "      <th>VMailMessage</th>\n",
       "      <th>DayMins</th>\n",
       "      <th>DayCalls</th>\n",
       "      <th>DayCharge</th>\n",
       "      <th>EveMins</th>\n",
       "      <th>EveCalls</th>\n",
       "      <th>EveCharge</th>\n",
       "      <th>NightMins</th>\n",
       "      <th>NightCalls</th>\n",
       "      <th>NightCharge</th>\n",
       "      <th>IntlMins</th>\n",
       "      <th>IntlCalls</th>\n",
       "      <th>IntlCharge</th>\n",
       "      <th>CusServCalls</th>\n",
       "      <th>Churn</th>\n",
       "    </tr>\n",
       "  </thead>\n",
       "  <tbody>\n",
       "    <tr>\n",
       "      <th>count</th>\n",
       "      <td>3333.000000</td>\n",
       "      <td>3333.000000</td>\n",
       "      <td>3333.000000</td>\n",
       "      <td>3333.000000</td>\n",
       "      <td>3333.000000</td>\n",
       "      <td>3333.000000</td>\n",
       "      <td>3333.000000</td>\n",
       "      <td>3333.000000</td>\n",
       "      <td>3333.000000</td>\n",
       "      <td>3333.000000</td>\n",
       "      <td>3333.000000</td>\n",
       "      <td>3333.000000</td>\n",
       "      <td>3333.000000</td>\n",
       "      <td>3333.000000</td>\n",
       "      <td>3333.000000</td>\n",
       "      <td>3333.000000</td>\n",
       "      <td>3333.000000</td>\n",
       "      <td>3333.000000</td>\n",
       "      <td>3333.000000</td>\n",
       "    </tr>\n",
       "    <tr>\n",
       "      <th>mean</th>\n",
       "      <td>101.064806</td>\n",
       "      <td>437.182418</td>\n",
       "      <td>0.096910</td>\n",
       "      <td>0.276628</td>\n",
       "      <td>8.099010</td>\n",
       "      <td>179.775098</td>\n",
       "      <td>100.435644</td>\n",
       "      <td>30.562307</td>\n",
       "      <td>200.980348</td>\n",
       "      <td>100.114311</td>\n",
       "      <td>17.083540</td>\n",
       "      <td>200.872037</td>\n",
       "      <td>100.107711</td>\n",
       "      <td>9.039325</td>\n",
       "      <td>10.237294</td>\n",
       "      <td>4.479448</td>\n",
       "      <td>2.764581</td>\n",
       "      <td>1.562856</td>\n",
       "      <td>0.144914</td>\n",
       "    </tr>\n",
       "    <tr>\n",
       "      <th>std</th>\n",
       "      <td>39.822106</td>\n",
       "      <td>42.371290</td>\n",
       "      <td>0.295879</td>\n",
       "      <td>0.447398</td>\n",
       "      <td>13.688365</td>\n",
       "      <td>54.467389</td>\n",
       "      <td>20.069084</td>\n",
       "      <td>9.259435</td>\n",
       "      <td>50.713844</td>\n",
       "      <td>19.922625</td>\n",
       "      <td>4.310668</td>\n",
       "      <td>50.573847</td>\n",
       "      <td>19.568609</td>\n",
       "      <td>2.275873</td>\n",
       "      <td>2.791840</td>\n",
       "      <td>2.461214</td>\n",
       "      <td>0.753773</td>\n",
       "      <td>1.315491</td>\n",
       "      <td>0.352067</td>\n",
       "    </tr>\n",
       "    <tr>\n",
       "      <th>min</th>\n",
       "      <td>1.000000</td>\n",
       "      <td>408.000000</td>\n",
       "      <td>0.000000</td>\n",
       "      <td>0.000000</td>\n",
       "      <td>0.000000</td>\n",
       "      <td>0.000000</td>\n",
       "      <td>0.000000</td>\n",
       "      <td>0.000000</td>\n",
       "      <td>0.000000</td>\n",
       "      <td>0.000000</td>\n",
       "      <td>0.000000</td>\n",
       "      <td>23.200000</td>\n",
       "      <td>33.000000</td>\n",
       "      <td>1.040000</td>\n",
       "      <td>0.000000</td>\n",
       "      <td>0.000000</td>\n",
       "      <td>0.000000</td>\n",
       "      <td>0.000000</td>\n",
       "      <td>0.000000</td>\n",
       "    </tr>\n",
       "    <tr>\n",
       "      <th>25%</th>\n",
       "      <td>74.000000</td>\n",
       "      <td>408.000000</td>\n",
       "      <td>0.000000</td>\n",
       "      <td>0.000000</td>\n",
       "      <td>0.000000</td>\n",
       "      <td>143.700000</td>\n",
       "      <td>87.000000</td>\n",
       "      <td>24.430000</td>\n",
       "      <td>166.600000</td>\n",
       "      <td>87.000000</td>\n",
       "      <td>14.160000</td>\n",
       "      <td>167.000000</td>\n",
       "      <td>87.000000</td>\n",
       "      <td>7.520000</td>\n",
       "      <td>8.500000</td>\n",
       "      <td>3.000000</td>\n",
       "      <td>2.300000</td>\n",
       "      <td>1.000000</td>\n",
       "      <td>0.000000</td>\n",
       "    </tr>\n",
       "    <tr>\n",
       "      <th>50%</th>\n",
       "      <td>101.000000</td>\n",
       "      <td>415.000000</td>\n",
       "      <td>0.000000</td>\n",
       "      <td>0.000000</td>\n",
       "      <td>0.000000</td>\n",
       "      <td>179.400000</td>\n",
       "      <td>101.000000</td>\n",
       "      <td>30.500000</td>\n",
       "      <td>201.400000</td>\n",
       "      <td>100.000000</td>\n",
       "      <td>17.120000</td>\n",
       "      <td>201.200000</td>\n",
       "      <td>100.000000</td>\n",
       "      <td>9.050000</td>\n",
       "      <td>10.300000</td>\n",
       "      <td>4.000000</td>\n",
       "      <td>2.780000</td>\n",
       "      <td>1.000000</td>\n",
       "      <td>0.000000</td>\n",
       "    </tr>\n",
       "    <tr>\n",
       "      <th>75%</th>\n",
       "      <td>127.000000</td>\n",
       "      <td>510.000000</td>\n",
       "      <td>0.000000</td>\n",
       "      <td>1.000000</td>\n",
       "      <td>20.000000</td>\n",
       "      <td>216.400000</td>\n",
       "      <td>114.000000</td>\n",
       "      <td>36.790000</td>\n",
       "      <td>235.300000</td>\n",
       "      <td>114.000000</td>\n",
       "      <td>20.000000</td>\n",
       "      <td>235.300000</td>\n",
       "      <td>113.000000</td>\n",
       "      <td>10.590000</td>\n",
       "      <td>12.100000</td>\n",
       "      <td>6.000000</td>\n",
       "      <td>3.270000</td>\n",
       "      <td>2.000000</td>\n",
       "      <td>0.000000</td>\n",
       "    </tr>\n",
       "    <tr>\n",
       "      <th>max</th>\n",
       "      <td>243.000000</td>\n",
       "      <td>510.000000</td>\n",
       "      <td>1.000000</td>\n",
       "      <td>1.000000</td>\n",
       "      <td>51.000000</td>\n",
       "      <td>350.800000</td>\n",
       "      <td>165.000000</td>\n",
       "      <td>59.640000</td>\n",
       "      <td>363.700000</td>\n",
       "      <td>170.000000</td>\n",
       "      <td>30.910000</td>\n",
       "      <td>395.000000</td>\n",
       "      <td>175.000000</td>\n",
       "      <td>17.770000</td>\n",
       "      <td>20.000000</td>\n",
       "      <td>20.000000</td>\n",
       "      <td>5.400000</td>\n",
       "      <td>9.000000</td>\n",
       "      <td>1.000000</td>\n",
       "    </tr>\n",
       "  </tbody>\n",
       "</table>\n",
       "</div>"
      ],
      "text/plain": [
       "       AccountLength     AreaCode     IntlPlan    VMailPlan  VMailMessage  \\\n",
       "count    3333.000000  3333.000000  3333.000000  3333.000000   3333.000000   \n",
       "mean      101.064806   437.182418     0.096910     0.276628      8.099010   \n",
       "std        39.822106    42.371290     0.295879     0.447398     13.688365   \n",
       "min         1.000000   408.000000     0.000000     0.000000      0.000000   \n",
       "25%        74.000000   408.000000     0.000000     0.000000      0.000000   \n",
       "50%       101.000000   415.000000     0.000000     0.000000      0.000000   \n",
       "75%       127.000000   510.000000     0.000000     1.000000     20.000000   \n",
       "max       243.000000   510.000000     1.000000     1.000000     51.000000   \n",
       "\n",
       "           DayMins     DayCalls    DayCharge      EveMins     EveCalls  \\\n",
       "count  3333.000000  3333.000000  3333.000000  3333.000000  3333.000000   \n",
       "mean    179.775098   100.435644    30.562307   200.980348   100.114311   \n",
       "std      54.467389    20.069084     9.259435    50.713844    19.922625   \n",
       "min       0.000000     0.000000     0.000000     0.000000     0.000000   \n",
       "25%     143.700000    87.000000    24.430000   166.600000    87.000000   \n",
       "50%     179.400000   101.000000    30.500000   201.400000   100.000000   \n",
       "75%     216.400000   114.000000    36.790000   235.300000   114.000000   \n",
       "max     350.800000   165.000000    59.640000   363.700000   170.000000   \n",
       "\n",
       "         EveCharge    NightMins   NightCalls  NightCharge     IntlMins  \\\n",
       "count  3333.000000  3333.000000  3333.000000  3333.000000  3333.000000   \n",
       "mean     17.083540   200.872037   100.107711     9.039325    10.237294   \n",
       "std       4.310668    50.573847    19.568609     2.275873     2.791840   \n",
       "min       0.000000    23.200000    33.000000     1.040000     0.000000   \n",
       "25%      14.160000   167.000000    87.000000     7.520000     8.500000   \n",
       "50%      17.120000   201.200000   100.000000     9.050000    10.300000   \n",
       "75%      20.000000   235.300000   113.000000    10.590000    12.100000   \n",
       "max      30.910000   395.000000   175.000000    17.770000    20.000000   \n",
       "\n",
       "         IntlCalls   IntlCharge  CusServCalls        Churn  \n",
       "count  3333.000000  3333.000000   3333.000000  3333.000000  \n",
       "mean      4.479448     2.764581      1.562856     0.144914  \n",
       "std       2.461214     0.753773      1.315491     0.352067  \n",
       "min       0.000000     0.000000      0.000000     0.000000  \n",
       "25%       3.000000     2.300000      1.000000     0.000000  \n",
       "50%       4.000000     2.780000      1.000000     0.000000  \n",
       "75%       6.000000     3.270000      2.000000     0.000000  \n",
       "max      20.000000     5.400000      9.000000     1.000000  "
      ]
     },
     "execution_count": 12,
     "metadata": {},
     "output_type": "execute_result"
    }
   ],
   "source": [
    "churn = pd.read_csv('../data/Churn.csv')\n",
    "churn.describe()"
   ]
  },
  {
   "cell_type": "code",
   "execution_count": 13,
   "metadata": {
    "scrolled": true
   },
   "outputs": [
    {
     "data": {
      "text/plain": [
       "State            0\n",
       "AccountLength    0\n",
       "AreaCode         0\n",
       "Phone            0\n",
       "IntlPlan         0\n",
       "VMailPlan        0\n",
       "VMailMessage     0\n",
       "DayMins          0\n",
       "DayCalls         0\n",
       "DayCharge        0\n",
       "EveMins          0\n",
       "EveCalls         0\n",
       "EveCharge        0\n",
       "NightMins        0\n",
       "NightCalls       0\n",
       "NightCharge      0\n",
       "IntlMins         0\n",
       "IntlCalls        0\n",
       "IntlCharge       0\n",
       "CusServCalls     0\n",
       "Churn            0\n",
       "dtype: int64"
      ]
     },
     "execution_count": 13,
     "metadata": {},
     "output_type": "execute_result"
    }
   ],
   "source": [
    "# missing values\n",
    "churn.isnull().sum()"
   ]
  },
  {
   "cell_type": "code",
   "execution_count": 14,
   "metadata": {},
   "outputs": [
    {
     "name": "stdout",
     "output_type": "stream",
     "text": [
      "count    3333.000000\n",
      "mean        0.144914\n",
      "std         0.352067\n",
      "min         0.000000\n",
      "25%         0.000000\n",
      "50%         0.000000\n",
      "75%         0.000000\n",
      "max         1.000000\n",
      "Name: Churn, dtype: float64\n",
      "(3333, 19)\n"
     ]
    }
   ],
   "source": [
    "# split the file into Independent and dependent variables\n",
    "churnY = churn.iloc[::,20]\n",
    "print(churnY.describe())\n",
    "churnX = churn\n",
    "churnX.drop(columns=['Churn','Phone'],axis=1,inplace=True)\n",
    "print(churnX.shape)"
   ]
  },
  {
   "cell_type": "code",
   "execution_count": 15,
   "metadata": {},
   "outputs": [
    {
     "name": "stdout",
     "output_type": "stream",
     "text": [
      "(2333, 19)\n",
      "(2333,)\n",
      "(1000, 19)\n",
      "(1000,)\n"
     ]
    }
   ],
   "source": [
    "X_train, X_test, Y_train, Y_test = train_test_split(churnX, churnY,\n",
    "                                                    test_size = 0.30,\n",
    "                                                    random_state = 42)\n",
    "print(X_train.shape)\n",
    "print(Y_train.shape)\n",
    "print(X_test.shape)\n",
    "print(Y_test.shape)"
   ]
  },
  {
   "cell_type": "code",
   "execution_count": 16,
   "metadata": {},
   "outputs": [
    {
     "name": "stdout",
     "output_type": "stream",
     "text": [
      "count    2333.000000\n",
      "mean       26.104158\n",
      "std        14.880249\n",
      "min         0.000000\n",
      "25%        14.000000\n",
      "50%        26.000000\n",
      "75%        39.000000\n",
      "max        50.000000\n",
      "Name: State, dtype: float64\n"
     ]
    }
   ],
   "source": [
    "# lable encoding for strings - state\n",
    "from sklearn.preprocessing import LabelEncoder\n",
    "le = LabelEncoder()\n",
    "X_train.State = le.fit_transform(X_train.State)\n",
    "X_test.State = le.transform(X_test.State)\n",
    "print(X_train.State.describe())"
   ]
  },
  {
   "cell_type": "code",
   "execution_count": 17,
   "metadata": {},
   "outputs": [
    {
     "name": "stdout",
     "output_type": "stream",
     "text": [
      "(2333, 33)\n",
      "(1000, 33)\n"
     ]
    }
   ],
   "source": [
    "# apply one hot encoding on state and area\n",
    "from sklearn.preprocessing import OneHotEncoder\n",
    "categories = np.array([17,18])                 # column 17 - state, 18 - area code\n",
    "OHE = OneHotEncoder(n_values = 'auto', categorical_features = categories, \n",
    "                    sparse = False, handle_unknown = 'ignore')\n",
    "X_train = OHE.fit_transform(X_train)\n",
    "print(X_train.shape)\n",
    "X_test = OHE.transform(X_test)\n",
    "print(X_test.shape)"
   ]
  },
  {
   "cell_type": "code",
   "execution_count": 18,
   "metadata": {},
   "outputs": [
    {
     "data": {
      "text/plain": [
       "AdaBoostClassifier(algorithm='SAMME.R',\n",
       "          base_estimator=DecisionTreeClassifier(class_weight='balanced', criterion='gini', max_depth=2,\n",
       "            max_features=None, max_leaf_nodes=None,\n",
       "            min_impurity_decrease=0.0, min_impurity_split=None,\n",
       "            min_samples_leaf=1, min_samples_split=2,\n",
       "            min_weight_fraction_leaf=0.0, presort=False, random_state=42,\n",
       "            splitter='best'),\n",
       "          learning_rate=0.5, n_estimators=200, random_state=42)"
      ]
     },
     "execution_count": 18,
     "metadata": {},
     "output_type": "execute_result"
    }
   ],
   "source": [
    "tree_clf = DecisionTreeClassifier(max_depth=2, class_weight='balanced', random_state=42)\n",
    "\n",
    "ada_clf = AdaBoostClassifier(base_estimator=tree_clf,\n",
    "                             n_estimators=200,\n",
    "                             learning_rate=0.5,\n",
    "                             random_state = 42)\n",
    "\n",
    "ada_clf.fit(X_train,Y_train)"
   ]
  },
  {
   "cell_type": "code",
   "execution_count": 19,
   "metadata": {},
   "outputs": [],
   "source": [
    "Y_pred = ada_clf.predict(X_test)"
   ]
  },
  {
   "cell_type": "code",
   "execution_count": 20,
   "metadata": {},
   "outputs": [
    {
     "name": "stdout",
     "output_type": "stream",
     "text": [
      "Test accuracy: 0.918\n"
     ]
    }
   ],
   "source": [
    "from sklearn.metrics import accuracy_score\n",
    "\n",
    "print(f'Test accuracy: {accuracy_score(Y_test, Y_pred)}')"
   ]
  },
  {
   "cell_type": "markdown",
   "metadata": {},
   "source": [
    "Compare this with a `DecisionTreeClassifier` of `max_depth=5`."
   ]
  },
  {
   "cell_type": "code",
   "execution_count": 21,
   "metadata": {},
   "outputs": [
    {
     "name": "stdout",
     "output_type": "stream",
     "text": [
      "Test accuracy: 0.911\n"
     ]
    }
   ],
   "source": [
    "tree2_clf = DecisionTreeClassifier(max_depth=5, \n",
    "                                   splitter='best', \n",
    "                                   class_weight='balanced',\n",
    "                                   random_state=42)\n",
    "\n",
    "tree2_clf.fit(X_train, Y_train)\n",
    "Y_pred = tree2_clf.predict(X_test)\n",
    "\n",
    "print(f'Test accuracy: {accuracy_score(Y_test, Y_pred)}')"
   ]
  },
  {
   "cell_type": "markdown",
   "metadata": {},
   "source": [
    "Notice, that the test accuracy improves with `AdaBoostClassifier` than even a deeper *DecisionTreeClassifier*."
   ]
  },
  {
   "cell_type": "code",
   "execution_count": 22,
   "metadata": {},
   "outputs": [
    {
     "name": "stdout",
     "output_type": "stream",
     "text": [
      "[[0.51491232 0.48508768]\n",
      " [0.53359181 0.46640819]\n",
      " [0.49534998 0.50465002]\n",
      " [0.5165116  0.4834884 ]\n",
      " [0.52212842 0.47787158]\n",
      " [0.51743587 0.48256413]\n",
      " [0.53100037 0.46899963]\n",
      " [0.53051039 0.46948961]\n",
      " [0.51933125 0.48066875]\n",
      " [0.50875532 0.49124468]]\n"
     ]
    }
   ],
   "source": [
    "predictProb = ada_clf.predict_proba(X_test)\n",
    "print(predictProb[0:10])\n",
    "PProb = pd.DataFrame(predictProb)"
   ]
  },
  {
   "cell_type": "code",
   "execution_count": 23,
   "metadata": {},
   "outputs": [
    {
     "name": "stdout",
     "output_type": "stream",
     "text": [
      "Fitting 2 folds for each of 4 candidates, totalling 8 fits\n",
      "[CV] learning_rate=0.01, n_estimators=100 ............................\n",
      "[CV] learning_rate=0.01, n_estimators=100 ............................\n",
      "[CV] learning_rate=0.01, n_estimators=200 ............................\n",
      "[CV] learning_rate=0.01, n_estimators=200 ............................\n",
      "[CV] learning_rate=0.5, n_estimators=100 .............................\n",
      "[CV] learning_rate=0.5, n_estimators=100 .............................\n",
      "[CV] learning_rate=0.5, n_estimators=200 .............................\n",
      "[CV] learning_rate=0.5, n_estimators=200 .............................\n",
      "[CV]  learning_rate=0.01, n_estimators=100, score=0.7486813381320432, total=   0.4s\n",
      "[CV]  learning_rate=0.01, n_estimators=100, score=0.6957654145995747, total=   0.4s\n",
      "[CV]  learning_rate=0.5, n_estimators=100, score=0.8114638031742287, total=   0.4s\n",
      "[CV]  learning_rate=0.5, n_estimators=100, score=0.7972537207654148, total=   0.4s\n"
     ]
    },
    {
     "name": "stderr",
     "output_type": "stream",
     "text": [
      "[Parallel(n_jobs=-1)]: Done   2 out of   8 | elapsed:    0.5s remaining:    1.5s\n",
      "[Parallel(n_jobs=-1)]: Done   3 out of   8 | elapsed:    0.5s remaining:    0.9s\n",
      "[Parallel(n_jobs=-1)]: Done   4 out of   8 | elapsed:    0.5s remaining:    0.5s\n"
     ]
    },
    {
     "name": "stdout",
     "output_type": "stream",
     "text": [
      "[CV]  learning_rate=0.01, n_estimators=200, score=0.7938727948551537, total=   0.8s\n",
      "[CV]  learning_rate=0.01, n_estimators=200, score=0.7322289156626507, total=   0.8s\n",
      "[CV]  learning_rate=0.5, n_estimators=200, score=0.8059413534721813, total=   0.7s\n",
      "[CV]  learning_rate=0.5, n_estimators=200, score=0.7769489723600285, total=   0.7s\n"
     ]
    },
    {
     "name": "stderr",
     "output_type": "stream",
     "text": [
      "[Parallel(n_jobs=-1)]: Done   5 out of   8 | elapsed:    0.8s remaining:    0.5s\n",
      "[Parallel(n_jobs=-1)]: Done   6 out of   8 | elapsed:    0.8s remaining:    0.3s\n",
      "[Parallel(n_jobs=-1)]: Done   8 out of   8 | elapsed:    0.9s remaining:    0.0s\n",
      "[Parallel(n_jobs=-1)]: Done   8 out of   8 | elapsed:    0.9s finished\n"
     ]
    },
    {
     "data": {
      "text/plain": [
       "GridSearchCV(cv=2, error_score='raise',\n",
       "       estimator=AdaBoostClassifier(algorithm='SAMME.R', base_estimator=None,\n",
       "          learning_rate=1.0, n_estimators=50, random_state=None),\n",
       "       fit_params=None, iid=True, n_jobs=-1,\n",
       "       param_grid={'n_estimators': [100, 200], 'learning_rate': [0.01, 0.5]},\n",
       "       pre_dispatch='2*n_jobs', refit=True, return_train_score='warn',\n",
       "       scoring='roc_auc', verbose=10)"
      ]
     },
     "execution_count": 23,
     "metadata": {},
     "output_type": "execute_result"
    }
   ],
   "source": [
    "# %%time\n",
    "\n",
    "from sklearn.model_selection import GridSearchCV\n",
    "\n",
    "# build grid search parameters\n",
    "params = {'n_estimators': [100, 200],\n",
    "         'learning_rate': [0.01, 0.5]}\n",
    "\n",
    "CV = GridSearchCV(estimator=AdaBoostClassifier(base_estimator=None), \n",
    "                  param_grid=params, \n",
    "                  scoring = 'roc_auc', cv=2, n_jobs=-1, verbose=10)\n",
    "\n",
    "CV.fit(X_train,Y_train)"
   ]
  },
  {
   "cell_type": "code",
   "execution_count": 24,
   "metadata": {},
   "outputs": [
    {
     "name": "stdout",
     "output_type": "stream",
     "text": [
      "[0 0 1 0 0 0 0 0 0 0]\n"
     ]
    }
   ],
   "source": [
    "# Preidct on Test data and check the confusion matrix\n",
    "predictTest = ada_clf.predict(X_test)\n",
    "print(predictTest[0:10])"
   ]
  },
  {
   "cell_type": "code",
   "execution_count": 25,
   "metadata": {},
   "outputs": [
    {
     "data": {
      "text/plain": [
       "0.918"
      ]
     },
     "execution_count": 25,
     "metadata": {},
     "output_type": "execute_result"
    }
   ],
   "source": [
    "acc_ada = (predictTest == Y_test).sum().astype(float)/len(Y_test)\n",
    "acc_ada"
   ]
  },
  {
   "cell_type": "code",
   "execution_count": 26,
   "metadata": {},
   "outputs": [
    {
     "name": "stdout",
     "output_type": "stream",
     "text": [
      "[[826  31]\n",
      " [ 51  92]]\n",
      "             precision    recall  f1-score   support\n",
      "\n",
      "          0       0.94      0.96      0.95       857\n",
      "          1       0.75      0.64      0.69       143\n",
      "\n",
      "avg / total       0.91      0.92      0.92      1000\n",
      "\n"
     ]
    }
   ],
   "source": [
    "# generate confusion matrix\n",
    "# import confusion matrix and classification report\n",
    "from sklearn.metrics import confusion_matrix, classification_report\n",
    "print (confusion_matrix(Y_test,predictTest))\n",
    "print (classification_report(Y_test,predictTest))"
   ]
  },
  {
   "cell_type": "code",
   "execution_count": 27,
   "metadata": {},
   "outputs": [
    {
     "name": "stdout",
     "output_type": "stream",
     "text": [
      "0.14980701911857106\n",
      "0.14980701911857106\n"
     ]
    }
   ],
   "source": [
    "# generate ROC curve\n",
    "from sklearn.metrics import roc_auc_score, roc_curve\n",
    "# AUC for class 1\n",
    "AUC = roc_auc_score(Y_test, PProb[0])\n",
    "print(AUC)\n",
    "# AUC for class 0\n",
    "AUC0 = roc_auc_score(Y_test, PProb[0])\n",
    "print(AUC0)\n",
    "# define variables for True Positive Rate and Falst Positive Rate & threshold value\n",
    "TPR = dict()\n",
    "FPR = dict()\n",
    "THR = dict()\n",
    "FPR, TPR, THR = roc_curve(Y_test, PProb[1])"
   ]
  },
  {
   "cell_type": "code",
   "execution_count": 28,
   "metadata": {},
   "outputs": [
    {
     "name": "stdout",
     "output_type": "stream",
     "text": [
      "[0.59000772 0.56618309 0.56123029 0.54528902 0.54402835 0.53208981\n",
      " 0.53208148 0.52451654 0.52423534 0.52006151 0.51966147 0.51681293\n",
      " 0.51628859 0.51472345 0.51406283 0.50795487 0.50760106 0.50759031\n",
      " 0.50572841 0.50429548 0.50407677 0.50404553 0.50339549 0.50325456\n",
      " 0.50311074 0.50295173 0.50288675 0.50273108 0.50209931 0.50181952\n",
      " 0.50111615 0.50111468 0.4999282  0.49987649 0.49950091 0.4991829\n",
      " 0.49918177 0.49893868 0.49865059 0.49843007 0.49726944 0.49724718\n",
      " 0.49631209 0.49624613 0.4961933  0.49589512 0.49487156 0.4946937\n",
      " 0.49369914 0.49367343 0.49338867 0.49332731 0.49322983 0.4928917\n",
      " 0.49269083 0.49264581 0.49248146 0.49245742 0.49187392 0.49170467\n",
      " 0.48916486 0.4890388  0.48720834 0.48720789 0.48573177 0.48572584\n",
      " 0.48564184 0.48558833 0.48543116 0.48540976 0.48461806 0.48460874\n",
      " 0.4841494  0.48407248 0.48357946 0.48356306 0.48321637 0.48319801\n",
      " 0.48117319 0.48115249 0.47937721 0.47937558 0.47845571 0.4784553\n",
      " 0.47721797 0.47717487 0.47681794 0.47665355 0.4760813  0.47607008\n",
      " 0.47449444 0.4744839  0.47223728 0.47220624 0.46938107 0.46936767\n",
      " 0.46933072 0.46920291 0.46489984 0.46480385 0.4645448  0.46448242\n",
      " 0.46388865 0.46383542 0.46365612 0.46359214 0.44114741 0.43973684\n",
      " 0.43332321 0.43326737 0.43302807 0.43263924 0.42810343 0.42722601\n",
      " 0.41616709 0.41436015 0.40805412 0.40556924 0.3026355 ]\n",
      "[0.00699301 0.05594406 0.05594406 0.13986014 0.13986014 0.26573427\n",
      " 0.26573427 0.34265734 0.34265734 0.37762238 0.37762238 0.41958042\n",
      " 0.41958042 0.44055944 0.44055944 0.57342657 0.57342657 0.58041958\n",
      " 0.58041958 0.6013986  0.6013986  0.60839161 0.60839161 0.61538462\n",
      " 0.61538462 0.62237762 0.62237762 0.62937063 0.62937063 0.63636364\n",
      " 0.63636364 0.64335664 0.64335664 0.65034965 0.65034965 0.66433566\n",
      " 0.66433566 0.67832168 0.67832168 0.69230769 0.69230769 0.6993007\n",
      " 0.6993007  0.70629371 0.70629371 0.72027972 0.72027972 0.72727273\n",
      " 0.72727273 0.73426573 0.73426573 0.74125874 0.74125874 0.74825175\n",
      " 0.74825175 0.75524476 0.75524476 0.76223776 0.76223776 0.77622378\n",
      " 0.77622378 0.78321678 0.78321678 0.79020979 0.79020979 0.7972028\n",
      " 0.7972028  0.8041958  0.8041958  0.81818182 0.81818182 0.82517483\n",
      " 0.82517483 0.83216783 0.83216783 0.83916084 0.83916084 0.84615385\n",
      " 0.84615385 0.85314685 0.85314685 0.86013986 0.86013986 0.86713287\n",
      " 0.86713287 0.87412587 0.87412587 0.88111888 0.88111888 0.88811189\n",
      " 0.88811189 0.8951049  0.8951049  0.9020979  0.9020979  0.90909091\n",
      " 0.90909091 0.92307692 0.92307692 0.93006993 0.93006993 0.93706294\n",
      " 0.93706294 0.94405594 0.94405594 0.95104895 0.95104895 0.95804196\n",
      " 0.95804196 0.96503497 0.96503497 0.97902098 0.97902098 0.98601399\n",
      " 0.98601399 0.99300699 0.99300699 1.         1.        ]\n",
      "[0.         0.         0.00116686 0.00116686 0.00233372 0.00233372\n",
      " 0.00350058 0.00350058 0.00466744 0.00466744 0.00583431 0.00583431\n",
      " 0.00700117 0.00700117 0.00933489 0.00933489 0.01166861 0.01166861\n",
      " 0.01633606 0.01633606 0.01866978 0.01866978 0.01983664 0.01983664\n",
      " 0.02217036 0.02217036 0.02333722 0.02333722 0.02567095 0.02567095\n",
      " 0.03033839 0.03033839 0.03733956 0.03733956 0.04084014 0.04084014\n",
      " 0.042007   0.042007   0.04317386 0.04317386 0.05134189 0.05134189\n",
      " 0.0571762  0.0571762  0.05834306 0.05834306 0.06884481 0.06884481\n",
      " 0.08051342 0.08051342 0.08751459 0.08751459 0.09218203 0.09218203\n",
      " 0.09568261 0.09568261 0.10151692 0.10151692 0.11785298 0.11785298\n",
      " 0.16919487 0.16919487 0.22637106 0.22637106 0.27421237 0.27421237\n",
      " 0.27771295 0.27771295 0.28588098 0.28588098 0.31155193 0.31155193\n",
      " 0.32088681 0.32088681 0.3512252  0.3512252  0.36756126 0.36756126\n",
      " 0.44690782 0.44690782 0.49824971 0.49824971 0.5285881  0.5285881\n",
      " 0.5764294  0.5764294  0.58576429 0.58576429 0.60793466 0.60793466\n",
      " 0.64294049 0.64294049 0.70711785 0.70711785 0.75845974 0.75845974\n",
      " 0.7596266  0.7596266  0.81213536 0.81213536 0.81330222 0.81330222\n",
      " 0.82030338 0.82030338 0.82380397 0.82380397 0.92298716 0.92298716\n",
      " 0.93232205 0.93232205 0.93348891 0.93348891 0.93932322 0.93932322\n",
      " 0.95682614 0.95682614 0.9638273  0.9638273  1.        ]\n"
     ]
    }
   ],
   "source": [
    "print(THR)\n",
    "print(TPR)\n",
    "print(FPR)"
   ]
  },
  {
   "cell_type": "code",
   "execution_count": 29,
   "metadata": {
    "scrolled": true
   },
   "outputs": [
    {
     "data": {
      "text/plain": [
       "Text(0.5, 1.0, 'ROC')"
      ]
     },
     "execution_count": 29,
     "metadata": {},
     "output_type": "execute_result"
    },
    {
     "data": {
      "image/png": "[encoded data removed]",
      "text/plain": [
       "<Figure size 600x400 with 1 Axes>"
      ]
     },
     "metadata": {},
     "output_type": "display_data"
    }
   ],
   "source": [
    "plt.figure()\n",
    "# plot the FPR as X-axis and TPR as Y-axis\n",
    "plt.plot(FPR, TPR)\n",
    "# plot the minimum line \n",
    "plt.plot([0,1], [0,1], color='navy', linestyle = '--')\n",
    "# set X and Y limits\n",
    "plt.xlim([0.0, 1.05])\n",
    "plt.ylim([0.0, 1.05])\n",
    "# mention lables for X and Y\n",
    "plt.xlabel('False Positive Rate')\n",
    "plt.ylabel('True Positive Rate')\n",
    "plt.title('ROC')"
   ]
  },
  {
   "cell_type": "markdown",
   "metadata": {},
   "source": [
    "## Gradient Boosting Regression Trees (or GBRT)\n",
    "\n",
    "Another very popular Boosting algorithm is *Gradient Boosting*. Just like Adaboost, Gradient Boosting works by sequentially adding predictors to an ensemble, each one correcting its predecessor. However, instead of tweaking the instance weights at every iteration like *Adaboost*, this method tries to fit the new predecessor to the *residual errors* made by the previous predecessors.\n",
    "\n",
    "Below is an example of *Gradient Boosting* for regression on a noisy quad dataset."
   ]
  },
  {
   "cell_type": "code",
   "execution_count": 30,
   "metadata": {},
   "outputs": [],
   "source": [
    "n_samples = 200\n",
    "\n",
    "X_reg = 6 * np.random.rand(n_samples, 1) - 3\n",
    "y_reg = 0.5 * X_reg**2 + 0.3 * X_reg + 2 + np.random.rand(n_samples,1)"
   ]
  },
  {
   "cell_type": "code",
   "execution_count": 31,
   "metadata": {},
   "outputs": [
    {
     "data": {
      "text/plain": [
       "Text(0.5, 1.0, 'Noisy dataset')"
      ]
     },
     "execution_count": 31,
     "metadata": {},
     "output_type": "execute_result"
    },
    {
     "data": {
      "image/png": "[encoded data removed]",
      "text/plain": [
       "<Figure size 600x400 with 1 Axes>"
      ]
     },
     "metadata": {},
     "output_type": "display_data"
    }
   ],
   "source": [
    "plt.scatter(X_reg, y_reg, c=\"darkorange\", \n",
    "            edgecolor=\"black\", label=\"data\", s=20)\n",
    "plt.xlabel('x')\n",
    "plt.ylabel('y')\n",
    "plt.title('Noisy dataset')"
   ]
  },
  {
   "cell_type": "code",
   "execution_count": 32,
   "metadata": {},
   "outputs": [],
   "source": [
    "X_reg_train, X_reg_test = X_reg[:100], X_reg[100:]\n",
    "y_reg_train, y_reg_test = y_reg[:100], y_reg[100:]"
   ]
  },
  {
   "cell_type": "code",
   "execution_count": 33,
   "metadata": {},
   "outputs": [
    {
     "data": {
      "text/plain": [
       "GradientBoostingRegressor(alpha=0.9, criterion='friedman_mse', init=None,\n",
       "             learning_rate=0.1, loss='ls', max_depth=2, max_features=None,\n",
       "             max_leaf_nodes=None, min_impurity_decrease=0.0,\n",
       "             min_impurity_split=None, min_samples_leaf=1,\n",
       "             min_samples_split=2, min_weight_fraction_leaf=0.0,\n",
       "             n_estimators=100, presort='auto', random_state=None,\n",
       "             subsample=1.0, verbose=0, warm_start=False)"
      ]
     },
     "execution_count": 33,
     "metadata": {},
     "output_type": "execute_result"
    }
   ],
   "source": [
    "from sklearn.ensemble import GradientBoostingRegressor\n",
    "\n",
    "# gbrt - Gradient Boosted Regression Trees\n",
    "gbrt = GradientBoostingRegressor(max_depth=2, n_estimators = 100, learning_rate = 0.1)\n",
    "gbrt.fit(X_reg_train,y_reg_train)"
   ]
  },
  {
   "cell_type": "code",
   "execution_count": 34,
   "metadata": {},
   "outputs": [],
   "source": [
    "from sklearn.metrics import mean_squared_error\n",
    "\n",
    "X_reg_test = np.arange(-3.0,3.0,0.01)\n",
    "y_reg_pred = gbrt.predict(X_reg_test[:,np.newaxis])"
   ]
  },
  {
   "cell_type": "code",
   "execution_count": 35,
   "metadata": {},
   "outputs": [
    {
     "data": {
      "text/plain": [
       "<matplotlib.legend.Legend at 0x7f8c6d451438>"
      ]
     },
     "execution_count": 35,
     "metadata": {},
     "output_type": "execute_result"
    },
    {
     "data": {
      "image/png": "[encoded data removed]",
      "text/plain": [
       "<Figure size 600x400 with 1 Axes>"
      ]
     },
     "metadata": {},
     "output_type": "display_data"
    }
   ],
   "source": [
    "# Plot the results\n",
    "\n",
    "plt.figure()\n",
    "plt.scatter(X_reg, y_reg, c=\"darkorange\", \n",
    "            edgecolor=\"grey\", label=\"data\", s=10)\n",
    "plt.plot(X_reg_test, y_reg_pred, \n",
    "         c=\"blue\",\n",
    "         label=\"gbrt, max_depth=2\", \n",
    "         )\n",
    "plt.xlabel(\"data\")\n",
    "plt.ylabel(\"target\")\n",
    "plt.title(\"Gradient Boosting Regression\")\n",
    "plt.legend()"
   ]
  },
  {
   "cell_type": "markdown",
   "metadata": {},
   "source": [
    "### Excercise\n",
    "\n",
    "1. Try to train a deeper **Gradient Boosting Regression Tree (or GBRT)** and see how it fits the data.\n",
    "2. Generate a cubic dataset (y = f(x) = a*x^3 + b*x^2 + c*x + d). Fit a GBRT to this data and plot the results.\n",
    "3. Train other models, like KNN, SVM etc as the base estimator in `AdaBoostClassifer`. Which model do you think best fits the data ?"
   ]
  },
  {
   "cell_type": "markdown",
   "metadata": {},
   "source": [
    "# XGBoost\n",
    "\n",
    "Let us recap the concepts of *decision trees*, *bagging*, *adaptive boosting* and *gradient boosting* before diving into *Extreme Gradient Boosting* (or XGBoost).\n",
    "\n",
    "Imagine that you are hiring manager for a company interviewing several candidates with different qualifications. Each step of the evolution of tree-based algorithms can be viewed as a version of the interview process.  [Source](https://towardsdatascience.com/https-medium-com-vishalmorde-xgboost-algorithm-long-she-may-rein-edd9f99be63d)\n",
    "\n",
    "1. **Decision Tree**: Each hiring manager has a set of criteria such as education level, number of years of experience, interview performance. A decision tree is analogous to a hiring manager interviewing candidates based on his or her own criteria.\n",
    "\n",
    "\n",
    "2. **Bagging**: Imagine instead of a single interviewer, there is now an interview panel where each interviewer has a vote. *Bagging* or boostrap aggregation involves combining combining inputs from all interviewers for the final decision through a voting process.\n",
    "\n",
    "\n",
    "3. **Random Forest**: Random Forests are a bagging-based algorithm with the key difference where only a subset of features are selected at random. In other words, an interviewer will only test the interviewee on certain selected qualifications.\n",
    "\n",
    "\n",
    "4. **Boosting**: Boosting is an alternative approach where each interviewer alters the evaluation criteria based on feedback received from the previous interviewer. This *boosts* the efficieny of the interview process by deploying a more dynamic evaluation process.\n",
    "\n",
    "\n",
    "5. **Gradient Boosting**: A special case of *Boosting* where the errors are minimized by gradient descent algorithm.\n",
    "\n",
    "\n",
    "6. **XGBoost**: XGBoost is an enhanced version of gradient boosting, which yields superior results using less computing resources in the shortest amount of time."
   ]
  },
  {
   "cell_type": "markdown",
   "metadata": {},
   "source": [
    "Below are some optimizations XGBoost algorithm inherantly provides over vanilla *Gradient Boosting*.\n",
    "\n",
    "1. **Regularization**: It penalizes more complex models through both L1 and L2 regularization to avoid overfitting.\n",
    "\n",
    "2. **Sparsity Awareness**: XGBoost naturally admits sparse features for inputs by automatically *learning* best missing value depending on training loss and handles different types of sparsity patterns in the data more efficiently.\n",
    "\n",
    "3. **Cross-validation**: The algorithm comes with built-in *cross-validation* method at each iteration, taking away the need to explicitly program this search and to specify the exact number of boosting iterations required in a single run.\n",
    "\n",
    "To use XGBoost in python, you will have to install XGBoost library separately. Look at the [XGBoost documentation](https://xgboost.readthedocs.io/en/latest/build.html#installation-gui) for installing XGBoost on Win, Linux and MacOS. "
   ]
  },
  {
   "cell_type": "markdown",
   "metadata": {},
   "source": [
    "## `XGBoostClassifier` on Churn dataset"
   ]
  },
  {
   "cell_type": "code",
   "execution_count": 1,
   "metadata": {},
   "outputs": [
    {
     "name": "stdout",
     "output_type": "stream",
     "text": [
      "No module named 'py4j'\n"
     ]
    }
   ],
   "source": [
    "# Suppress warnings\n",
    "import warnings\n",
    "warnings.filterwarnings(\"ignore\")\n",
    "\n",
    "try:\n",
    "    from xgboost import XGBClassifier\n",
    "except Exception as e:\n",
    "    print(e) # xgboost module is not installed."
   ]
  },
  {
   "cell_type": "code",
   "execution_count": 2,
   "metadata": {},
   "outputs": [
    {
     "ename": "NameError",
     "evalue": "name 'XGBClassifier' is not defined",
     "output_type": "error",
     "traceback": [
      "\u001b[0;31m---------------------------------------------------------------------------\u001b[0m",
      "\u001b[0;31mNameError\u001b[0m                                 Traceback (most recent call last)",
      "\u001b[0;32m<ipython-input-2-15cdc5d555b1>\u001b[0m in \u001b[0;36m<module>\u001b[0;34m()\u001b[0m\n\u001b[0;32m----> 1\u001b[0;31m \u001b[0mxgb\u001b[0m \u001b[0;34m=\u001b[0m \u001b[0mXGBClassifier\u001b[0m\u001b[0;34m(\u001b[0m\u001b[0mn_estimators\u001b[0m\u001b[0;34m=\u001b[0m\u001b[0;36m10\u001b[0m\u001b[0;34m)\u001b[0m\u001b[0;34m\u001b[0m\u001b[0;34m\u001b[0m\u001b[0m\n\u001b[0m",
      "\u001b[0;31mNameError\u001b[0m: name 'XGBClassifier' is not defined"
     ]
    }
   ],
   "source": [
    "xgb = XGBClassifier(n_estimators=10)"
   ]
  },
  {
   "cell_type": "code",
   "execution_count": 38,
   "metadata": {},
   "outputs": [
    {
     "name": "stdout",
     "output_type": "stream",
     "text": [
      "CPU times: user 156 ms, sys: 6.4 ms, total: 163 ms\n",
      "Wall time: 28.5 ms\n"
     ]
    },
    {
     "data": {
      "text/plain": [
       "XGBClassifier(base_score=0.5, booster='gbtree', colsample_bylevel=1,\n",
       "       colsample_bynode=1, colsample_bytree=1, gamma=0, gpu_id=-1,\n",
       "       importance_type='gain', interaction_constraints='',\n",
       "       learning_rate=0.300000012, max_delta_step=0, max_depth=6,\n",
       "       min_child_weight=1, missing=nan, monotone_constraints='()',\n",
       "       n_estimators=10, n_jobs=0, num_parallel_tree=1,\n",
       "       objective='binary:logistic', random_state=0, reg_alpha=0,\n",
       "       reg_lambda=1, scale_pos_weight=1, subsample=1, tree_method='exact',\n",
       "       validate_parameters=1, verbosity=None)"
      ]
     },
     "execution_count": 38,
     "metadata": {},
     "output_type": "execute_result"
    }
   ],
   "source": [
    "%%time\n",
    "\n",
    "xgb.fit(X_train, Y_train)"
   ]
  },
  {
   "cell_type": "code",
   "execution_count": 39,
   "metadata": {
    "scrolled": true
   },
   "outputs": [],
   "source": [
    "Y_pred = xgb.predict(X_test)"
   ]
  },
  {
   "cell_type": "code",
   "execution_count": 40,
   "metadata": {},
   "outputs": [
    {
     "name": "stdout",
     "output_type": "stream",
     "text": [
      "Test accuracy: 0.95\n"
     ]
    }
   ],
   "source": [
    "test_acc_xgb = (Y_pred == Y_test).sum().astype(float)/len(Y_test)\n",
    "print(f'Test accuracy: {test_acc_xgb:.2f}')"
   ]
  },
  {
   "cell_type": "code",
   "execution_count": 41,
   "metadata": {},
   "outputs": [
    {
     "name": "stdout",
     "output_type": "stream",
     "text": [
      "Train accuracy: 0.97\n"
     ]
    }
   ],
   "source": [
    "Y_train_pred = xgb.predict(X_train)\n",
    "train_acc_xgb = (Y_train_pred == Y_train).sum().astype(float)/len(Y_train)\n",
    "print(f'Train accuracy: {train_acc_xgb:.2f}')"
   ]
  }
 ],
 "metadata": {
  "kernelspec": {
   "display_name": "Python 3",
   "language": "python",
   "name": "python3"
  },
  "language_info": {
   "codemirror_mode": {
    "name": "ipython",
    "version": 3
   },
   "file_extension": ".py",
   "mimetype": "text/x-python",
   "name": "python",
   "nbconvert_exporter": "python",
   "pygments_lexer": "ipython3",
   "version": "3.7.2"
  }
 },
 "nbformat": 4,
 "nbformat_minor": 2
}
