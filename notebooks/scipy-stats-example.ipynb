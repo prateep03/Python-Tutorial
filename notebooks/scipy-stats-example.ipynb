{
 "cells": [
  {
   "cell_type": "markdown",
   "metadata": {},
   "source": [
    "# Statistics for Data Science\n",
    "  \n",
    "<img src=\"../data/stats_intro.png\"> </img>"
   ]
  },
  {
   "cell_type": "markdown",
   "metadata": {},
   "source": [
    "Statistics can be a powerful tool when performing the art of **Data Science (DS)**. From a high-level view, statistics\n",
    "is the use of mathematics to perform technical analysis of data. A basic visualization such as a bar chart might give you\n",
    "some high-level information, but with statistics we get to operate on the data in a much more information-driven and\n",
    "targeted way. The math involved helps us form concrete conclusions about our data rather than just guesstimating. Using\n",
    "statistics, we can gain deeper and more fine grained insights into how exactly our data is structured and based on that\n",
    "structure how we can optimally apply other data science techniques to get even more information.\n",
    "\n",
    "It includes **descriptive statistics** (the study of methods and tools for collecting data, and mathematical models to describe and interpret data) and **inferential statistics** (the systems and techniques for making probability-based decisions and accurate predictions based on incomplete (sample) data)."
   ]
  },
  {
   "cell_type": "markdown",
   "metadata": {},
   "source": [
    "## Linear Algebra\n",
    "\n",
    "Linear algebra is a field of mathematics that is universally agreed to be a prerequisite to a deeper understanding of machine learning. Although linear algebra is a large field with many esoteric theories and findings, the nuts and bolts tools and notations taken from the field are practical for machine learning practitioners.\n",
    "\n",
    "A **scalar** is a number. Examples of scalars are temperature, distance, speed or mass - all quantities that have a magnitude but no \"direction\", other than positive or negative."
   ]
  },
  {
   "cell_type": "code",
   "execution_count": 1,
   "metadata": {},
   "outputs": [],
   "source": [
    "# Import libraries\n",
    "import numpy as np\n",
    "%matplotlib inline\n",
    "from matplotlib import pyplot as plt\n",
    "\n",
    "from plot_helper import *"
   ]
  },
  {
   "cell_type": "markdown",
   "metadata": {},
   "source": [
    "### Vector\n",
    "\n",
    "A vector is a list of numbers. There are (at least) two ways to interpret what this list of numbers mean: One way to think aof the vector as being a point in space. Then this list of numbers is a way of identifying that point in space, where each number represents the vector's component that dimension. Another way to think of a vector is a magnitude and direction, e.g. velocity. \n",
    "\n",
    "An example of a vector is $\\hat{a} = \\left[ 4, 3\\right]$. You can visualize a vector as follows. Use the `plot_vector()` utility function to plot the a vector graphically."
   ]
  },
  {
   "cell_type": "code",
   "execution_count": 2,
   "metadata": {},
   "outputs": [
    {
     "data": {
      "image/png": "[encoded data removed]",
      "text/plain": [
       "<Figure size 400x400 with 1 Axes>"
      ]
     },
     "metadata": {
      "needs_background": "light"
     },
     "output_type": "display_data"
    }
   ],
   "source": [
    "vectors = [(4,3)]\n",
    "plot_vector(vectors)"
   ]
  },
  {
   "cell_type": "markdown",
   "metadata": {},
   "source": [
    "#### Note:\n",
    "\n",
    "The helper function `plot_vector` takes one or two lists as arguments: a list of vectors, and a list of tails (optional). It can plot one vector with its tail on several locations, or several vectors with their tail at one location. It can also plot several vectors with their tails at different locations, but in that case, the two lists have to match in length (if they don't, the function will give an error)."
   ]
  },
  {
   "cell_type": "markdown",
   "metadata": {},
   "source": [
    "<div class=\"alert alert-block alert-success\">\n",
    "    \n",
    " <b> EXCERCISE 1: </b>\n",
    " \n",
    " <p> In a new code cell <span style=\"color:red\">(Ctrl+B) </span>, create a list of vectors and plot them. The default tail position is the origin. Then create a list of tail position, and plot the same vectors again at these positions. </p>\n",
    "    \n",
    "</div>"
   ]
  },
  {
   "cell_type": "markdown",
   "metadata": {},
   "source": [
    "### Vector addition and  substraction"
   ]
  },
  {
   "cell_type": "markdown",
   "metadata": {},
   "source": [
    "Vectors can be added and subtracted. Graphically, we can show vector addition as follows."
   ]
  },
  {
   "cell_type": "code",
   "execution_count": 3,
   "metadata": {},
   "outputs": [
    {
     "data": {
      "text/plain": [
       "Text(0.5, 1.0, 'Adding vectors with coordinates $(4,3)$ and $(1,2)$')"
      ]
     },
     "execution_count": 3,
     "metadata": {},
     "output_type": "execute_result"
    },
    {
     "data": {
      "image/png": "[encoded data removed]",
      "text/plain": [
       "<Figure size 400x400 with 1 Axes>"
      ]
     },
     "metadata": {
      "needs_background": "light"
     },
     "output_type": "display_data"
    }
   ],
   "source": [
    "a = np.array([4,3])\n",
    "b = np.array([1,2])\n",
    "origin = np.array([0,0])\n",
    "\n",
    "vectors = [a, b, a + b]\n",
    "tails = [origin, a, origin]\n",
    "plot_vector(vectors, tails)\n",
    "plt.title(\"Adding vectors with coordinates $(4,3)$ and $(1,2)$\")"
   ]
  },
  {
   "cell_type": "markdown",
   "metadata": {},
   "source": [
    "### Vector multiplication\n",
    "\n",
    "There are two principal ways of multiplying vectors, called *dot products* (or scalar products) and *cross products* (or vector products).\n",
    "\n",
    "A dot product between two vectors $\\vec{a}$ and $\\vec{b}$ is computed as: \n",
    "\n",
    "$$c = \\vec{a} \\cdot \\vec{b} = |\\vec{a}| |\\vec{b}| cos(\\theta)$$, where $\\theta$ is the angle between the two vectors.\n",
    "\n",
    "A cross product between two vectors $\\vec{a}$ and $\\vec{b}$ is computed as: \n",
    "\n",
    "$$\\vec{c} = \\vec{a} \\times \\vec{b} = |\\vec{a}| |\\vec{b}| sin(\\theta) \\mathbf{n}$$\n",
    "\n",
    "where $\\mathbf{n}$ is a *unit vector* perpendicular to vectors $\\vec{a}$ and $\\vec{b}$."
   ]
  },
  {
   "cell_type": "code",
   "execution_count": 4,
   "metadata": {},
   "outputs": [
    {
     "data": {
      "text/plain": [
       "32"
      ]
     },
     "execution_count": 4,
     "metadata": {},
     "output_type": "execute_result"
    }
   ],
   "source": [
    "a = np.array((1,2,3))\n",
    "b = np.array((4,5,6))\n",
    "d = np.dot(a,b)\n",
    "d"
   ]
  },
  {
   "cell_type": "code",
   "execution_count": 5,
   "metadata": {},
   "outputs": [
    {
     "data": {
      "text/plain": [
       "array([-3,  6, -3])"
      ]
     },
     "execution_count": 5,
     "metadata": {},
     "output_type": "execute_result"
    }
   ],
   "source": [
    "c = np.cross(a,b)\n",
    "c\n",
    "# vectors = [a, b, c]\n",
    "#plot_vector(vectors)\n",
    "#plt.title(\"Cross product of two vectors $\\vec{a}$ and $\\vec{b}$\")"
   ]
  },
  {
   "cell_type": "markdown",
   "metadata": {},
   "source": [
    "## Matrices\n",
    "\n",
    "Matrix, like vector, is also a collection of numbers. The difference is that a matrix is a table of numbers rather than a list."
   ]
  },
  {
   "cell_type": "code",
   "execution_count": 8,
   "metadata": {},
   "outputs": [
    {
     "data": {
      "text/plain": [
       "array([[-2,  1],\n",
       "       [ 1, -3]])"
      ]
     },
     "execution_count": 8,
     "metadata": {},
     "output_type": "execute_result"
    }
   ],
   "source": [
    "A = np.array([[-2,1], [1,-3]])\n",
    "A"
   ]
  },
  {
   "cell_type": "markdown",
   "metadata": {},
   "source": [
    "We can add an subtract matrices in the same way as vectors."
   ]
  },
  {
   "cell_type": "code",
   "execution_count": 19,
   "metadata": {},
   "outputs": [
    {
     "data": {
      "text/plain": [
       "array([[0.00672992, 0.61504814],\n",
       "       [0.08501384, 0.78619004]])"
      ]
     },
     "execution_count": 19,
     "metadata": {},
     "output_type": "execute_result"
    }
   ],
   "source": [
    "B = np.random.rand(2,2)\n",
    "B"
   ]
  },
  {
   "cell_type": "code",
   "execution_count": 21,
   "metadata": {},
   "outputs": [
    {
     "data": {
      "text/plain": [
       "array([[-1.99327008,  1.61504814],\n",
       "       [ 1.08501384, -2.21380996]])"
      ]
     },
     "execution_count": 21,
     "metadata": {},
     "output_type": "execute_result"
    }
   ],
   "source": [
    "np.add(A,B)"
   ]
  },
  {
   "cell_type": "markdown",
   "metadata": {},
   "source": [
    "Python (since version 3.5) has a **built-in operator** that computes matrix multiplication `@`."
   ]
  },
  {
   "cell_type": "code",
   "execution_count": 38,
   "metadata": {},
   "outputs": [
    {
     "data": {
      "text/plain": [
       "array([[ 0.071554  , -0.44390623],\n",
       "       [-0.2483116 , -1.743522  ]])"
      ]
     },
     "execution_count": 38,
     "metadata": {},
     "output_type": "execute_result"
    }
   ],
   "source": [
    "A@B # or simply, np.matmul(A,B)"
   ]
  },
  {
   "cell_type": "code",
   "execution_count": 39,
   "metadata": {},
   "outputs": [
    {
     "data": {
      "text/plain": [
       "5.000000000000001"
      ]
     },
     "execution_count": 39,
     "metadata": {},
     "output_type": "execute_result"
    }
   ],
   "source": [
    "# Determinant\n",
    "np.linalg.det(A)"
   ]
  },
  {
   "cell_type": "code",
   "execution_count": 40,
   "metadata": {},
   "outputs": [
    {
     "data": {
      "text/plain": [
       "array([[[1, 2],\n",
       "        [3, 4]],\n",
       "\n",
       "       [[1, 2],\n",
       "        [2, 1]],\n",
       "\n",
       "       [[1, 3],\n",
       "        [3, 1]]])"
      ]
     },
     "execution_count": 40,
     "metadata": {},
     "output_type": "execute_result"
    }
   ],
   "source": [
    "# Determinant from stack of matrices\n",
    "a = np.array([ [[1,2], [3,4]],  [[1,2],[2,1]], [[1,3],[3,1]] ])\n",
    "a"
   ]
  },
  {
   "cell_type": "code",
   "execution_count": 41,
   "metadata": {},
   "outputs": [
    {
     "data": {
      "text/plain": [
       "array([-2., -3., -8.])"
      ]
     },
     "execution_count": 41,
     "metadata": {},
     "output_type": "execute_result"
    }
   ],
   "source": [
    "np.linalg.det(a)"
   ]
  },
  {
   "cell_type": "markdown",
   "metadata": {},
   "source": [
    "A matrix $\\mathbf{A}$ is *invertible* if there exists a matrix $\\mathbf{A}^{-1}$ such that $\\mathbf{A} \\mathbf{A}^{-1} = \\mathbf{I}$."
   ]
  },
  {
   "cell_type": "code",
   "execution_count": 42,
   "metadata": {},
   "outputs": [
    {
     "data": {
      "text/plain": [
       "array([[-0.6, -0.2],\n",
       "       [-0.2, -0.4]])"
      ]
     },
     "execution_count": 42,
     "metadata": {},
     "output_type": "execute_result"
    }
   ],
   "source": [
    "Ai = np.linalg.inv(A)\n",
    "Ai"
   ]
  },
  {
   "cell_type": "code",
   "execution_count": 43,
   "metadata": {},
   "outputs": [
    {
     "data": {
      "text/plain": [
       "array([[1, 0],\n",
       "       [0, 1]])"
      ]
     },
     "execution_count": 43,
     "metadata": {},
     "output_type": "execute_result"
    }
   ],
   "source": [
    "np.matmul(A, Ai).astype(int)"
   ]
  },
  {
   "cell_type": "markdown",
   "metadata": {},
   "source": [
    "## Eigen vectors and Eigen values\n",
    "\n",
    "Eigen vectors and values feature prominently in the analysis of linear transformations."
   ]
  },
  {
   "cell_type": "markdown",
   "metadata": {},
   "source": [
    "### Eigendecomposition in general\n",
    "\n",
    "The eigenvectors of $A$ get scaled after the transformation, i.e., land on their span:\n",
    "\n",
    "$$\n",
    "\\begin{align*}\n",
    "  A \\mathbf{v_1} = s_1 \\mathbf{v_1} \\\\\n",
    "  A \\mathbf{v_2} = s_2 \\mathbf{v_2}\n",
    "\\end{align*}\n",
    "$$\n",
    "\n",
    "The two left-hand sides are matrix-vector multiplications, each giving a vector as result. The two right-hand sides are scalings of a column vector (also resulting in vectors). We would like to combine the two equations together into a matrix equation, leading to the eigendecomposition of $A$.\n",
    "\n",
    "Our first idea is this: matrix-matrix multiplication is the same as applying a transformation via the matrix on the left, to the columns of the matrix on the right. So if we make a matrix with the two eigenvectors as columns, and multiply it with $A$:\n",
    "\n",
    "$$ A \\begin{bmatrix}\n",
    "    \\mathbf{v_1} & \\mathbf{v_2}\n",
    "    \\end{bmatrix}\n",
    "    = \\begin{bmatrix}\n",
    "    A\\mathbf{v_1} & A\\mathbf{v_2}\n",
    "    \\end{bmatrix}\n",
    "$$\n",
    "\n",
    "We can now re-write the eigenvector equations into one matrix equation by matching columns:\n",
    "\n",
    "$$ A \\begin{bmatrix}\n",
    "    \\mathbf{v_1} & \\mathbf{v_2}\n",
    "    \\end{bmatrix}\n",
    "    = \\begin{bmatrix}\n",
    "    s_1\\mathbf{v_1} & s_2\\mathbf{v_2}\n",
    "    \\end{bmatrix}\n",
    "$$\n",
    "\n",
    "Using $C$ to denote the matrix of eigenvectors, the left-hand side of this matrix equation is $A\\, C$.  We can express the right-hand side of the combined eigenvector equations also using $C$, by working with each column:\n",
    "\n",
    "$$ s_1 \\mathbf{v_1} = \\begin{bmatrix}\n",
    "    \\mathbf{v_1} & \\mathbf{v_2} \\end{bmatrix} \\,\n",
    "    \\begin{bmatrix}\n",
    "    s_1 \\\\\n",
    "    0 \n",
    "    \\end{bmatrix} \n",
    "$$\n",
    "\n",
    "$$ s_2 \\mathbf{v_2} = \\begin{bmatrix}\n",
    "    \\mathbf{v_1} & \\mathbf{v_2} \\end{bmatrix} \\,\n",
    "    \\begin{bmatrix}\n",
    "    0 \\\\\n",
    "    s_2 \n",
    "    \\end{bmatrix} \n",
    "$$\n",
    "\n",
    "Matchng the columns, and applying our first idea for matrix-matrix multiplication: \n",
    "\n",
    "$$  \\begin{bmatrix}\n",
    "    s_1\\mathbf{v_1} & s_2\\mathbf{v_2}\n",
    "    \\end{bmatrix}\n",
    "    = C\\, \n",
    "    \\begin{bmatrix}\n",
    "    s_1 & 0 \\\\\n",
    "    0 & s_2\n",
    "    \\end{bmatrix}  \n",
    "$$\n",
    "\n",
    "Using $D$ to denote the diagonal matrix of eigenvalues, this all comes together as:\n",
    "\n",
    "$$\n",
    "  A\\, C = C\\, D\n",
    "$$\n",
    "\n",
    "If we right-multiply by $C^{-1}$ on both sides:\n",
    "\n",
    "$$\n",
    "  A = C\\, D\\, C^{-1}\n",
    "$$\n",
    "\n",
    "A matrix that can be decomposed in this way is called **diagonalizable**.\n",
    "Multiplying on the right by $C$ and on the left by $C^{-1}$:\n",
    "\n",
    "$$\n",
    "  C^{-1} A\\, C = D\n",
    "$$\n",
    "\n",
    "\n",
    "If you go back to the previous lesson, you will find an expression that looks like this for applying a known transformation to a vector in a new basis. Review that section if you need to.\n",
    "\n",
    "Applying the transformation $A$ to a vector in standard basis, $\\mathbf{x}$, is:\n",
    "\n",
    "$$\n",
    "  A\\, \\mathbf{x} = C\\, D\\, C^{-1}\\mathbf{x}\n",
    "$$\n",
    "\n",
    "Viewing $C$ as a change of basis, the expression on the right means we change $\\mathbf{x}$ to a new basis of eigenvectors, apply a scaling by the eigenvalues in the new coordinate system, and change back to the standard basis. The effect is the same as the transformation $A$: the matrices $A$ and $D$ are called **similar**."
   ]
  },
  {
   "cell_type": "markdown",
   "metadata": {},
   "source": [
    "### Compute Eigen values\n",
    "\n",
    "You can compute the eigenvalues and eigenvectors of a matrix using `numpy.linalg.eig()`. It returns a tuple: its first element is an array with eigen values, its second element is a 2D array, where each column is an eigenvector."
   ]
  },
  {
   "cell_type": "code",
   "execution_count": 44,
   "metadata": {},
   "outputs": [
    {
     "data": {
      "text/plain": [
       "array([-1.38196601, -3.61803399])"
      ]
     },
     "execution_count": 44,
     "metadata": {},
     "output_type": "execute_result"
    }
   ],
   "source": [
    "np.linalg.eig(A)[0]"
   ]
  },
  {
   "cell_type": "code",
   "execution_count": 45,
   "metadata": {},
   "outputs": [
    {
     "data": {
      "text/plain": [
       "array([[ 0.85065081, -0.52573111],\n",
       "       [ 0.52573111,  0.85065081]])"
      ]
     },
     "execution_count": 45,
     "metadata": {},
     "output_type": "execute_result"
    }
   ],
   "source": [
    "np.linalg.eig(A)[1]"
   ]
  },
  {
   "cell_type": "code",
   "execution_count": 47,
   "metadata": {},
   "outputs": [
    {
     "name": "stdout",
     "output_type": "stream",
     "text": [
      "-1.381966011250105 [0.85065081 0.52573111]\n",
      "-3.618033988749895 [-0.52573111  0.85065081]\n"
     ]
    }
   ],
   "source": [
    "# display each eigenvalue with corresponding eigenvector\n",
    "evalues, evectors= np.linalg.eig(A)\n",
    "\n",
    "for eva, eve in zip(evalues, evectors.T):\n",
    "    print(eva, eve)"
   ]
  },
  {
   "cell_type": "markdown",
   "metadata": {},
   "source": [
    "Note the `.T` operation in the above for loop. This is because in the natural order, the iteration advances over the first dimension: the rows. The eigen vectors correspond to each column, to get that we need to transpose. "
   ]
  },
  {
   "cell_type": "markdown",
   "metadata": {},
   "source": [
    "To create the diagonal matrix of eigenvalues, use `numpy.diag()` function."
   ]
  },
  {
   "cell_type": "code",
   "execution_count": 48,
   "metadata": {},
   "outputs": [
    {
     "data": {
      "text/plain": [
       "array([[-1.38196601,  0.        ],\n",
       "       [ 0.        , -3.61803399]])"
      ]
     },
     "execution_count": 48,
     "metadata": {},
     "output_type": "execute_result"
    }
   ],
   "source": [
    "np.diag(evalues)"
   ]
  },
  {
   "cell_type": "markdown",
   "metadata": {},
   "source": [
    "To verify the decomposition, check:"
   ]
  },
  {
   "cell_type": "code",
   "execution_count": 51,
   "metadata": {},
   "outputs": [
    {
     "data": {
      "text/plain": [
       "array([[-2.,  1.],\n",
       "       [ 1., -3.]])"
      ]
     },
     "execution_count": 51,
     "metadata": {},
     "output_type": "execute_result"
    }
   ],
   "source": [
    "C = evectors\n",
    "A_decomp = C @ np.diag(evalues) @ np.linalg.inv(C)\n",
    "A_decomp"
   ]
  },
  {
   "cell_type": "markdown",
   "metadata": {},
   "source": [
    "## Probability Distributions"
   ]
  },
  {
   "cell_type": "code",
   "execution_count": null,
   "metadata": {},
   "outputs": [],
   "source": []
  }
 ],
 "metadata": {
  "kernelspec": {
   "display_name": "Python 3",
   "language": "python",
   "name": "python3"
  },
  "language_info": {
   "codemirror_mode": {
    "name": "ipython",
    "version": 3
   },
   "file_extension": ".py",
   "mimetype": "text/x-python",
   "name": "python",
   "nbconvert_exporter": "python",
   "pygments_lexer": "ipython3",
   "version": "3.7.2"
  }
 },
 "nbformat": 4,
 "nbformat_minor": 1
}
