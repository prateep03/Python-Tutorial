{
  "cells": [
    {
      "cell_type": "markdown",
      "metadata": {
        "id": "nxBQ-o0gVVfL"
      },
      "source": [
        "![](https://ruder.io/content/images/size/w2000/2016/04/word_embeddings_colah.png)\n",
        "# What Are Word Embeddings?\n",
        "A word embedding is a learned representation for text where words that have the same meaning have a similar representation. It is this approach to representing words and documents that may be considered one of the key breakthroughs of deep learning on challenging natural language processing problems. Word embeddings are in fact a class of techniques where individual words are represented as real-valued vectors in a predefined vector space. Each word is mapped to one vector and the vector values are learned in a way that resembles a neural network, and hence the technique is often lumped into the field of deep learning.\n",
        "\n",
        "\n",
        "## Representing text as numbers\n",
        "Machine learning models take vectors (arrays of numbers) as input. When working with text, the first thing we must do come up with a strategy to convert strings to numbers (or to \"vectorize\" the text) before feeding it to the model. In this section, we will look at three strategies for doing so.\n",
        "\n",
        "### One-hot encodings\n",
        "As a first idea, we might \"one-hot\" encode each word in our vocabulary. Consider the sentence \"The cat sat on the mat\". The vocabulary (or unique words) in this sentence is (cat, mat, on, sat, the). To represent each word, we will create a zero vector with length equal to the vocabulary, then place a one in the index that corresponds to the word. \n",
        "\n",
        "To create a vector that contains the encoding of the sentence, we could then concatenate the one-hot vectors for each word. However, This approach is inefficient. \n",
        "\n",
        "A one-hot encoded vector is sparse (meaning, most indices are zero). Imagine we have 10,000 words in the vocabulary. To one-hot encode each word, we would create a vector where 99.99% of the elements are zero.\n",
        "\n",
        "\n",
        "### Encode each word with a unique number\n",
        "A second approach we might try is to encode each word using a unique number. Continuing the example above, we could assign 1 to \"cat\", 2 to \"mat\", and so on. We could then encode the sentence \"The cat sat on the mat\" as a dense vector like $[5, 1, 4, 3, 5, 2]$. This appoach is efficient. Instead of a sparse vector, we now have a dense one (where all elements are full).\n",
        "\n",
        "There are two downsides to this approach, however:\n",
        "> The integer-encoding is arbitrary (it does not capture any relationship between words).\n",
        "> An integer-encoding can be challenging for a model to interpret. A linear classifier, for example, learns a single weight for each feature. Because there is no relationship between the similarity of any two words and the similarity of their encodings, this feature-weight combination is not meaningful.\n",
        "\n",
        "### Word embeddings\n",
        "Word embeddings give us a way to use an efficient, dense representation in which similar words have a similar encoding. Importantly, we do not have to specify this encoding by hand. An embedding is a dense vector of floating point values (the length of the vector is a parameter you specify). Instead of specifying the values for the embedding manually, they are trainable parameters (weights learned by the model during training, in the same way a model learns weights for a dense layer). It is common to see word embeddings that are 8-dimensional (for small datasets), up to 1024-dimensions when working with large datasets. A higher dimensional embedding can capture fine-grained relationships between words, but takes more data to learn.\n"
      ]
    },
    {
      "cell_type": "code",
      "execution_count": 2,
      "metadata": {},
      "outputs": [],
      "source": [
        "import os\n",
        "import warnings\n",
        "\n",
        "# Suppress Tensorflow warnings\n",
        "# 0 = all, \n",
        "# 1 = filter out INFO messages, \n",
        "# 2 = filter out INFO and WARNING messages, \n",
        "# 3 = filter out all messages\n",
        "os.environ['TF_CPP_MIN_LOG_LEVEL'] = '2' \n",
        "warnings.filterwarnings(\"ignore\")"
      ]
    },
    {
      "cell_type": "code",
      "execution_count": 3,
      "metadata": {
        "_cell_guid": "b1076dfc-b9ad-4769-8c92-a6c4dae69d19",
        "_uuid": "8f2839f25d086af736a60e9eeb907d3b93b6e0e5",
        "id": "MD8vzMXNVVfP",
        "trusted": true
      },
      "outputs": [
        {
          "name": "stderr",
          "output_type": "stream",
          "text": [
            "2025-07-21 12:01:13.521239: E external/local_xla/xla/stream_executor/cuda/cuda_fft.cc:467] Unable to register cuFFT factory: Attempting to register factory for plugin cuFFT when one has already been registered\n",
            "WARNING: All log messages before absl::InitializeLog() is called are written to STDERR\n",
            "E0000 00:00:1753079473.542986  966805 cuda_dnn.cc:8579] Unable to register cuDNN factory: Attempting to register factory for plugin cuDNN when one has already been registered\n",
            "E0000 00:00:1753079473.549000  966805 cuda_blas.cc:1407] Unable to register cuBLAS factory: Attempting to register factory for plugin cuBLAS when one has already been registered\n",
            "W0000 00:00:1753079473.567356  966805 computation_placer.cc:177] computation placer already registered. Please check linkage and avoid linking the same target more than once.\n",
            "W0000 00:00:1753079473.567398  966805 computation_placer.cc:177] computation placer already registered. Please check linkage and avoid linking the same target more than once.\n",
            "W0000 00:00:1753079473.567400  966805 computation_placer.cc:177] computation placer already registered. Please check linkage and avoid linking the same target more than once.\n",
            "W0000 00:00:1753079473.567402  966805 computation_placer.cc:177] computation placer already registered. Please check linkage and avoid linking the same target more than once.\n"
          ]
        }
      ],
      "source": [
        "import tensorflow as tf\n",
        "from tensorflow import keras\n",
        "from tensorflow.keras import layers\n",
        "import tensorflow_datasets as tfds\n",
        "tfds.disable_progress_bar()"
      ]
    },
    {
      "cell_type": "markdown",
      "metadata": {
        "id": "Ig5NjuCEVVfR"
      },
      "source": [
        "The Embedding layer can be understood as a lookup table that maps from integer indices (which stand for specific words) to dense vectors (their embeddings). The dimensionality (or width) of the embedding is a parameter you can experiment with to see what works well for your problem, much in the same way you would experiment with the number of neurons in a Dense layer."
      ]
    },
    {
      "cell_type": "code",
      "execution_count": 4,
      "metadata": {
        "_cell_guid": "79c7e3d0-c299-4dcb-8224-4455121ee9b0",
        "_uuid": "d629ff2d2480ee46fbb7e2d37f6b5fab8052498a",
        "id": "PhR6VHmmVVfS",
        "trusted": true
      },
      "outputs": [],
      "source": [
        "embedding_layer = layers.Embedding(input_dim=1000, output_dim=5)"
      ]
    },
    {
      "cell_type": "markdown",
      "metadata": {
        "id": "_9s8Iyt_VVfS"
      },
      "source": [
        "When you create an Embedding layer, the weights for the embedding are randomly initialized (just like any other layer). During training, they are gradually adjusted via backpropagation. Once trained, the learned word embeddings will roughly encode similarities between words (as they were learned for the specific problem your model is trained on).\n",
        "\n",
        "If you pass an integer to an embedding layer, the result replaces each integer with the vector from the embedding table:"
      ]
    },
    {
      "cell_type": "code",
      "execution_count": 5,
      "metadata": {
        "id": "CL6WLlCwVVfT",
        "trusted": true
      },
      "outputs": [
        {
          "name": "stderr",
          "output_type": "stream",
          "text": [
            "2025-07-21 12:01:17.469995: E external/local_xla/xla/stream_executor/cuda/cuda_platform.cc:51] failed call to cuInit: INTERNAL: CUDA error: Failed call to cuInit: UNKNOWN ERROR (303)\n"
          ]
        },
        {
          "data": {
            "text/plain": [
              "array([[-0.0468007 , -0.02190587,  0.00131849,  0.03857381, -0.0219506 ],\n",
              "       [ 0.01014169, -0.04641668, -0.0208461 ,  0.00429722,  0.03119952],\n",
              "       [ 0.02613201,  0.00502344,  0.03188536, -0.01973411,  0.00753018],\n",
              "       [ 0.02617231,  0.04503623,  0.00026906, -0.04799347,  0.03047453]],\n",
              "      dtype=float32)"
            ]
          },
          "execution_count": 5,
          "metadata": {},
          "output_type": "execute_result"
        }
      ],
      "source": [
        "result = embedding_layer(tf.constant([1,2,3, 999]))\n",
        "result.numpy()"
      ]
    },
    {
      "cell_type": "markdown",
      "metadata": {
        "id": "wxxqroERVVfT"
      },
      "source": [
        "For text or sequence problems, the Embedding layer takes a 2D tensor of integers, of shape (samples, sequence_length), where each entry is a sequence of integers. It can embed sequences of variable lengths. You could feed into the embedding layer above batches with shapes $(32, 10)$ (batch of 32 sequences of length 10) or $(64, 15)$ (batch of 64 sequences of length 15).\n",
        "\n",
        "The returned tensor has one more axis than the input, the embedding vectors are aligned along the new last axis. Pass it a $(2, 3)$ input batch and the output is $(2, 3, N)$"
      ]
    },
    {
      "cell_type": "code",
      "execution_count": 6,
      "metadata": {
        "id": "HSZ4x-0jVVfU",
        "trusted": true
      },
      "outputs": [
        {
          "name": "stdout",
          "output_type": "stream",
          "text": [
            "(2, 3, 5)\n",
            "tf.Tensor(\n",
            "[[ 0.03009861  0.03926304 -0.0109607   0.01217792 -0.02085043]\n",
            " [-0.0468007  -0.02190587  0.00131849  0.03857381 -0.0219506 ]\n",
            " [ 0.01014169 -0.04641668 -0.0208461   0.00429722  0.03119952]], shape=(3, 5), dtype=float32)\n",
            "tf.Tensor(\n",
            "[[ 0.02613201  0.00502344  0.03188536 -0.01973411  0.00753018]\n",
            " [ 0.03151495  0.02536908  0.0225888   0.03560567  0.02735073]\n",
            " [ 0.00806137 -0.00850574  0.0177815   0.01414937  0.03241012]], shape=(3, 5), dtype=float32)\n"
          ]
        }
      ],
      "source": [
        "result = embedding_layer(tf.constant([[0,1,2],[3,4,5]]))\n",
        "print(result.shape)\n",
        "print(result[0])\n",
        "print(result[1])"
      ]
    },
    {
      "cell_type": "markdown",
      "metadata": {
        "id": "6yDmV2L5VVfV"
      },
      "source": [
        "When given a batch of sequences as input, an embedding layer returns a 3D floating point tensor, of shape **(samples, sequence_length, embedding_dimensionality).** To convert from this sequence of variable length to a fixed representation there are a variety of standard approaches. You could use an **RNN, Attention, or pooling layer** before passing it to a Dense layer. This tutorial uses pooling because it's simplest.\n",
        "\n",
        "## Learning embeddings from scratch"
      ]
    },
    {
      "cell_type": "markdown",
      "metadata": {
        "id": "1RecXV7dVVfV"
      },
      "source": [
        "[Large Movie Review Dataset.](https://ai.stanford.edu/~amaas/data/sentiment/) This is a dataset for binary sentiment classification containing substantially more data than previous benchmark datasets. It contains a set of 25,000 highly polar movie reviews for training, and 25,000 for testing. There is additional 50000 unlabeled data for use as well.\n",
        "\n",
        "One of the common tricks is to use the total 100,000 samples to train a language model which essentially predicts the next word of a sequence given a series of words before that and later on using that model for classification. However, in this notebook, I am simply using them for demonstrating word embeddings. So, I will just work on a small subset of the whole dataset containing vocabulary size of 8,000 words. You are free to explore the other larger version of the dataset from the tensorflow dataframes on [imdb reviews](https://www.tensorflow.org/datasets/catalog/imdb_reviews) ready to use.\n",
        "\n",
        "\n"
      ]
    },
    {
      "cell_type": "code",
      "execution_count": 7,
      "metadata": {
        "id": "s2CJvocCVVfW",
        "trusted": true
      },
      "outputs": [],
      "source": [
        "# Load IMDB dataset with subword tokenization\n",
        "(train_data, test_data), info = tfds.load('imdb_reviews/plain_text',\n",
        "                                          split = (tfds.Split.TRAIN, tfds.Split.TEST),\n",
        "                                          data_dir=\"/work/data/TrainingSession/202/imdb_reviews\",\n",
        "                                          with_info=True,\n",
        "                                          as_supervised=True)"
      ]
    },
    {
      "cell_type": "code",
      "execution_count": 8,
      "metadata": {},
      "outputs": [
        {
          "name": "stdout",
          "output_type": "stream",
          "text": [
            "Review: b\"This was an absolutely terrible movie. Don't be lured in by Christopher Walken or Michael Ironside. Both are great actors, but this must simply be their worst role in history. Even their great acting could not redeem this movie's ridiculous storyline. This movie is an early nineties US propaganda piece. The most pathetic scenes were those when the Columbian rebels were making their cases for revolutions. Maria Conchita Alonso appeared phony, and her pseudo-love affair with Walken was nothing but a pathetic emotional plug in a movie that was devoid of any real meaning. I am disappointed that there are movies like this, ruining actor's like Christopher Walken's good name. I could barely sit through it.\"\n",
            "Label: 0\n",
            "\n",
            "Review: b'I have been known to fall asleep during films, but this is usually due to a combination of things including, really tired, being warm and comfortable on the sette and having just eaten a lot. However on this occasion I fell asleep because the film was rubbish. The plot development was constant. Constantly slow and boring. Things seemed to happen, but with no explanation of what was causing them or why. I admit, I may have missed part of the film, but i watched the majority of it and everything just seemed to happen of its own accord without any real concern for anything else. I cant recommend this film at all.'\n",
            "Label: 0\n",
            "\n",
            "Review: b'Mann photographs the Alberta Rocky Mountains in a superb fashion, and Jimmy Stewart and Walter Brennan give enjoyable performances as they always seem to do. <br /><br />But come on Hollywood - a Mountie telling the people of Dawson City, Yukon to elect themselves a marshal (yes a marshal!) and to enforce the law themselves, then gunfighters battling it out on the streets for control of the town? <br /><br />Nothing even remotely resembling that happened on the Canadian side of the border during the Klondike gold rush. Mr. Mann and company appear to have mistaken Dawson City for Deadwood, the Canadian North for the American Wild West.<br /><br />Canadian viewers be prepared for a Reefer Madness type of enjoyable howl with this ludicrous plot, or, to shake your head in disgust.'\n",
            "Label: 0\n",
            "\n",
            "Review: b'This is the kind of film for a snowy Sunday afternoon when the rest of the world can go ahead with its own business as you descend into a big arm-chair and mellow for a couple of hours. Wonderful performances from Cher and Nicolas Cage (as always) gently row the plot along. There are no rapids to cross, no dangerous waters, just a warm and witty paddle through New York life at its best. A family film in every sense and one that deserves the praise it received.'\n",
            "Label: 1\n",
            "\n",
            "Review: b'As others have mentioned, all the women that go nude in this film are mostly absolutely gorgeous. The plot very ably shows the hypocrisy of the female libido. When men are around they want to be pursued, but when no \"men\" are around, they become the pursuers of a 14 year old boy. And the boy becomes a man really fast (we should all be so lucky at this age!). He then gets up the courage to pursue his true love.'\n",
            "Label: 1\n",
            "\n"
          ]
        }
      ],
      "source": [
        "# Print first 5 examples from the training set\n",
        "for example, label in train_data.take(5):\n",
        "    print(f\"Review: {example.numpy()}\\nLabel: {label.numpy()}\\n\")"
      ]
    },
    {
      "cell_type": "markdown",
      "metadata": {},
      "source": [
        "Using <code>'imdb_reviews/plain_text'</code> configuration, the dataste doesn't have a subword encoder. The <code>plain_text</code> configuration provides raw text without tokenization."
      ]
    },
    {
      "cell_type": "markdown",
      "metadata": {
        "id": "qODnmIFDVVfW"
      },
      "source": [
        "## **NOTE:**\n",
        "\n",
        "Get the encoder [(tfds.features.text.SubwordTextEncoder)](https://www.tensorflow.org/datasets/api_docs/python/tfds/features/text/SubwordTextEncoder), and have a quick look at the vocabulary.\n",
        "The \"_\" in the vocabulary represent spaces. Note how the vocabulary includes whole words (ending with \"_\") and partial words which it can use to build larger words:"
      ]
    },
    {
      "cell_type": "code",
      "execution_count": 9,
      "metadata": {
        "id": "k1CQ0IbKVVfW",
        "trusted": true
      },
      "outputs": [
        {
          "data": {
            "text/plain": [
              "NoneType"
            ]
          },
          "execution_count": 9,
          "metadata": {},
          "output_type": "execute_result"
        }
      ],
      "source": [
        "encoder = info.features['text'].encoder\n",
        "type(encoder)"
      ]
    },
    {
      "cell_type": "code",
      "execution_count": 10,
      "metadata": {},
      "outputs": [],
      "source": [
        "# Create custom tokenizer\n",
        "def custom_tokenizer(dataset, vocab_size=1000):\n",
        "    \"\"\" Create vocabulary and tokenizer for the dataset \"\"\"\n",
        "    all_text = []\n",
        "    for text, label in dataset.take(1000): \n",
        "        all_text.append(text.numpy().decode('utf-8'))\n",
        "        \n",
        "    tokenizer = tf.keras.preprocessing.text.Tokenizer(\n",
        "        num_words=vocab_size,\n",
        "        oov_token=\"<OOV>\"\n",
        "    )\n",
        "    tokenizer.fit_on_texts(all_text)\n",
        "    return tokenizer"
      ]
    },
    {
      "cell_type": "code",
      "execution_count": 11,
      "metadata": {},
      "outputs": [
        {
          "name": "stdout",
          "output_type": "stream",
          "text": [
            "Vocabulary size: 18720\n",
            "Sample words: ['<OOV>', 'the', 'a', 'and', 'of', 'to', 'is', 'br', 'in', 'i']\n"
          ]
        }
      ],
      "source": [
        "# Create a subword tokenizer and vocab size\n",
        "tokenizer = custom_tokenizer(train_data)\n",
        "vocab_size = len(tokenizer.word_index) + 1  # +1 for padding token\n",
        "print(f\"Vocabulary size: {vocab_size}\")\n",
        "print(f\"Sample words: {list(tokenizer.word_index.keys())[:10]}\")"
      ]
    },
    {
      "cell_type": "code",
      "execution_count": 12,
      "metadata": {},
      "outputs": [],
      "source": [
        "# Convert text to sequences first\n",
        "def text_to_sequences(dataset, tokenizer, max_len=500):\n",
        "    texts = []\n",
        "    labels = []\n",
        "    \n",
        "    for text, label in dataset:\n",
        "        # Convert bytes to string and tokenize\n",
        "        text_str = text.numpy().decode('utf-8')\n",
        "        sequence = tokenizer.texts_to_sequences([text_str])[0]\n",
        "        # Pad or truncate\n",
        "        if len(sequence) > max_len:\n",
        "            sequence = sequence[:max_len]\n",
        "        else:\n",
        "            sequence = sequence + [0] * (max_len - len(sequence))\n",
        "        \n",
        "        texts.append(sequence)\n",
        "        labels.append(label.numpy())\n",
        "    \n",
        "    return tf.data.Dataset.from_tensor_slices((texts, labels))\n",
        "\n",
        "# Process datasets\n",
        "train_sequences = text_to_sequences(train_data.take(1000), tokenizer)  # Take subset for demo\n",
        "test_sequences = text_to_sequences(test_data.take(500), tokenizer)\n",
        "\n",
        "# Create batches\n",
        "train_batches = train_sequences.batch(32)\n",
        "test_batches = test_sequences.batch(32)"
      ]
    },
    {
      "cell_type": "markdown",
      "metadata": {
        "id": "KnHdLkVhVVfX"
      },
      "source": [
        "### Create a simple model\n",
        "\n",
        "I will use the [Keras Sequential API](https://www.tensorflow.org/guide/keras/sequential_model) to define our model. In this case it is a [\"Continuous bag of words (CBOW)\"](https://towardsdatascience.com/nlp-101-word2vec-skip-gram-and-cbow-93512ee24314) style model. **In the CBOW model, the distributed representations of context (or surrounding words) are combined to predict the word in the middle. The exact opposite model is the Skip-Gram model,  that is based on a single target word, the sorrounding words (contexts) are predicted** The following figure will clarify them for sure. ![](https://miro.medium.com/max/875/1*cuOmGT7NevP9oJFJfVpRKA.png)\n",
        "\n",
        "* Next the Embedding layer takes the integer-encoded vocabulary and looks up the embedding vector for each word-index. These vectors are learned as the model trains. The vectors add a dimension to the output array. The resulting dimensions are: `(batch, sequence, embedding)`.\n",
        "\n",
        "* Next, a GlobalAveragePooling1D layer returns a fixed-length output vector for each example by averaging over the sequence dimension. This allows the model to handle input of variable length, in the simplest way possible.\n",
        "\n",
        "* This fixed-length output vector is piped through a fully-connected (Dense) layer with 16 hidden units.\n",
        "\n",
        "* The last layer is densely connected with a single output node. Using the sigmoid activation function, this value is a float between 0 and 1, representing a probability (or confidence level) that the review is positive.\n",
        "\n",
        "Caution: This model doesn't use masking, so the zero-padding is used as part of the input, so the padding length may affect the output.  To fix this, see the [masking and padding guide](../../guide/keras/masking_and_padding)."
      ]
    },
    {
      "cell_type": "code",
      "execution_count": 13,
      "metadata": {
        "id": "BJ4IJyohVVfY",
        "trusted": true
      },
      "outputs": [],
      "source": [
        "embedding_dim = 32\n",
        "\n",
        "model = keras.Sequential([\n",
        "  layers.Embedding(vocab_size, embedding_dim),\n",
        "  layers.GlobalAveragePooling1D(),\n",
        "#   layers.Dense(16, activation='relu'),\n",
        "  layers.Dense(1)\n",
        "])"
      ]
    },
    {
      "cell_type": "markdown",
      "metadata": {
        "id": "TJsR0Z5uVVfY"
      },
      "source": [
        "### Compile and train the model"
      ]
    },
    {
      "cell_type": "code",
      "execution_count": 14,
      "metadata": {
        "id": "67u0xp_MVVfY",
        "trusted": true
      },
      "outputs": [],
      "source": [
        "model.compile(optimizer='adam',\n",
        "              loss=tf.keras.losses.BinaryCrossentropy(from_logits=True),\n",
        "              metrics=['accuracy'])"
      ]
    },
    {
      "cell_type": "code",
      "execution_count": 15,
      "metadata": {},
      "outputs": [
        {
          "data": {
            "text/html": [
              "<pre style=\"white-space:pre;overflow-x:auto;line-height:normal;font-family:Menlo,'DejaVu Sans Mono',consolas,'Courier New',monospace\"><span style=\"font-weight: bold\">Model: \"sequential\"</span>\n",
              "</pre>\n"
            ],
            "text/plain": [
              "\u001b[1mModel: \"sequential\"\u001b[0m\n"
            ]
          },
          "metadata": {},
          "output_type": "display_data"
        },
        {
          "data": {
            "text/html": [
              "<pre style=\"white-space:pre;overflow-x:auto;line-height:normal;font-family:Menlo,'DejaVu Sans Mono',consolas,'Courier New',monospace\">┏━━━━━━━━━━━━━━━━━━━━━━━━━━━━━━━━━┳━━━━━━━━━━━━━━━━━━━━━━━━┳━━━━━━━━━━━━━━━┓\n",
              "┃<span style=\"font-weight: bold\"> Layer (type)                    </span>┃<span style=\"font-weight: bold\"> Output Shape           </span>┃<span style=\"font-weight: bold\">       Param # </span>┃\n",
              "┡━━━━━━━━━━━━━━━━━━━━━━━━━━━━━━━━━╇━━━━━━━━━━━━━━━━━━━━━━━━╇━━━━━━━━━━━━━━━┩\n",
              "│ embedding_1 (<span style=\"color: #0087ff; text-decoration-color: #0087ff\">Embedding</span>)         │ ?                      │   <span style=\"color: #00af00; text-decoration-color: #00af00\">0</span> (unbuilt) │\n",
              "├─────────────────────────────────┼────────────────────────┼───────────────┤\n",
              "│ global_average_pooling1d        │ ?                      │             <span style=\"color: #00af00; text-decoration-color: #00af00\">0</span> │\n",
              "│ (<span style=\"color: #0087ff; text-decoration-color: #0087ff\">GlobalAveragePooling1D</span>)        │                        │               │\n",
              "├─────────────────────────────────┼────────────────────────┼───────────────┤\n",
              "│ dense (<span style=\"color: #0087ff; text-decoration-color: #0087ff\">Dense</span>)                   │ ?                      │   <span style=\"color: #00af00; text-decoration-color: #00af00\">0</span> (unbuilt) │\n",
              "└─────────────────────────────────┴────────────────────────┴───────────────┘\n",
              "</pre>\n"
            ],
            "text/plain": [
              "┏━━━━━━━━━━━━━━━━━━━━━━━━━━━━━━━━━┳━━━━━━━━━━━━━━━━━━━━━━━━┳━━━━━━━━━━━━━━━┓\n",
              "┃\u001b[1m \u001b[0m\u001b[1mLayer (type)                   \u001b[0m\u001b[1m \u001b[0m┃\u001b[1m \u001b[0m\u001b[1mOutput Shape          \u001b[0m\u001b[1m \u001b[0m┃\u001b[1m \u001b[0m\u001b[1m      Param #\u001b[0m\u001b[1m \u001b[0m┃\n",
              "┡━━━━━━━━━━━━━━━━━━━━━━━━━━━━━━━━━╇━━━━━━━━━━━━━━━━━━━━━━━━╇━━━━━━━━━━━━━━━┩\n",
              "│ embedding_1 (\u001b[38;5;33mEmbedding\u001b[0m)         │ ?                      │   \u001b[38;5;34m0\u001b[0m (unbuilt) │\n",
              "├─────────────────────────────────┼────────────────────────┼───────────────┤\n",
              "│ global_average_pooling1d        │ ?                      │             \u001b[38;5;34m0\u001b[0m │\n",
              "│ (\u001b[38;5;33mGlobalAveragePooling1D\u001b[0m)        │                        │               │\n",
              "├─────────────────────────────────┼────────────────────────┼───────────────┤\n",
              "│ dense (\u001b[38;5;33mDense\u001b[0m)                   │ ?                      │   \u001b[38;5;34m0\u001b[0m (unbuilt) │\n",
              "└─────────────────────────────────┴────────────────────────┴───────────────┘\n"
            ]
          },
          "metadata": {},
          "output_type": "display_data"
        },
        {
          "data": {
            "text/html": [
              "<pre style=\"white-space:pre;overflow-x:auto;line-height:normal;font-family:Menlo,'DejaVu Sans Mono',consolas,'Courier New',monospace\"><span style=\"font-weight: bold\"> Total params: </span><span style=\"color: #00af00; text-decoration-color: #00af00\">0</span> (0.00 B)\n",
              "</pre>\n"
            ],
            "text/plain": [
              "\u001b[1m Total params: \u001b[0m\u001b[38;5;34m0\u001b[0m (0.00 B)\n"
            ]
          },
          "metadata": {},
          "output_type": "display_data"
        },
        {
          "data": {
            "text/html": [
              "<pre style=\"white-space:pre;overflow-x:auto;line-height:normal;font-family:Menlo,'DejaVu Sans Mono',consolas,'Courier New',monospace\"><span style=\"font-weight: bold\"> Trainable params: </span><span style=\"color: #00af00; text-decoration-color: #00af00\">0</span> (0.00 B)\n",
              "</pre>\n"
            ],
            "text/plain": [
              "\u001b[1m Trainable params: \u001b[0m\u001b[38;5;34m0\u001b[0m (0.00 B)\n"
            ]
          },
          "metadata": {},
          "output_type": "display_data"
        },
        {
          "data": {
            "text/html": [
              "<pre style=\"white-space:pre;overflow-x:auto;line-height:normal;font-family:Menlo,'DejaVu Sans Mono',consolas,'Courier New',monospace\"><span style=\"font-weight: bold\"> Non-trainable params: </span><span style=\"color: #00af00; text-decoration-color: #00af00\">0</span> (0.00 B)\n",
              "</pre>\n"
            ],
            "text/plain": [
              "\u001b[1m Non-trainable params: \u001b[0m\u001b[38;5;34m0\u001b[0m (0.00 B)\n"
            ]
          },
          "metadata": {},
          "output_type": "display_data"
        }
      ],
      "source": [
        "\n",
        "model.summary()"
      ]
    },
    {
      "cell_type": "code",
      "execution_count": 24,
      "metadata": {
        "id": "MC2RsRJYVVfY",
        "trusted": true
      },
      "outputs": [
        {
          "name": "stdout",
          "output_type": "stream",
          "text": [
            "Epoch 1/5\n",
            "\u001b[1m32/32\u001b[0m \u001b[32m━━━━━━━━━━━━━━━━━━━━\u001b[0m\u001b[37m\u001b[0m \u001b[1m1s\u001b[0m 9ms/step - accuracy: 0.4910 - loss: 0.6938 - val_accuracy: 0.5020 - val_loss: 0.6920\n",
            "Epoch 2/5\n",
            "\u001b[1m32/32\u001b[0m \u001b[32m━━━━━━━━━━━━━━━━━━━━\u001b[0m\u001b[37m\u001b[0m \u001b[1m0s\u001b[0m 5ms/step - accuracy: 0.4910 - loss: 0.6930 - val_accuracy: 0.5020 - val_loss: 0.6905\n",
            "Epoch 3/5\n",
            "\u001b[1m32/32\u001b[0m \u001b[32m━━━━━━━━━━━━━━━━━━━━\u001b[0m\u001b[37m\u001b[0m \u001b[1m0s\u001b[0m 5ms/step - accuracy: 0.4910 - loss: 0.6915 - val_accuracy: 0.5020 - val_loss: 0.6886\n",
            "Epoch 4/5\n",
            "\u001b[1m32/32\u001b[0m \u001b[32m━━━━━━━━━━━━━━━━━━━━\u001b[0m\u001b[37m\u001b[0m \u001b[1m0s\u001b[0m 3ms/step - accuracy: 0.4910 - loss: 0.6895 - val_accuracy: 0.5020 - val_loss: 0.6870\n",
            "Epoch 5/5\n",
            "\u001b[1m32/32\u001b[0m \u001b[32m━━━━━━━━━━━━━━━━━━━━\u001b[0m\u001b[37m\u001b[0m \u001b[1m0s\u001b[0m 3ms/step - accuracy: 0.4910 - loss: 0.6876 - val_accuracy: 0.5020 - val_loss: 0.6854\n"
          ]
        }
      ],
      "source": [
        "history = model.fit(train_batches,\n",
        "                    epochs=5,\n",
        "                    validation_data=test_batches,\n",
        "                    validation_steps=250)"
      ]
    },
    {
      "cell_type": "code",
      "execution_count": 25,
      "metadata": {
        "id": "8pswDBeCVVfY",
        "trusted": true
      },
      "outputs": [],
      "source": [
        "def visualize_training(history, lw = 3):\n",
        "    import matplotlib.pyplot as plt\n",
        "    plt.figure(figsize=(10,10))\n",
        "    plt.subplot(2,1,1)\n",
        "    plt.plot(history.history['accuracy'], label = 'training', marker = '*', linewidth = lw)\n",
        "    plt.plot(history.history['val_accuracy'], label = 'validation', marker = 'o', linewidth = lw)\n",
        "    plt.title('Accuracy Comparison')\n",
        "    plt.xlabel('Epochs')\n",
        "    plt.ylabel('Accuracy')\n",
        "    plt.grid(True)\n",
        "    plt.legend(fontsize = 'x-large')\n",
        "\n",
        "\n",
        "    plt.subplot(2,1,2)\n",
        "    plt.plot(history.history['loss'], label = 'training', marker = '*', linewidth = lw)\n",
        "    plt.plot(history.history['val_loss'], label = 'validation', marker = 'o', linewidth = lw)\n",
        "    plt.title('Loss Comparison')\n",
        "    plt.xlabel('Epochs')\n",
        "    plt.ylabel('Loss')\n",
        "    plt.legend(fontsize = 'x-large')\n",
        "    plt.grid(True)\n",
        "    plt.show()\n",
        "\n",
        "#     plt.figure(figsize=(10,5))\n",
        "#     plt.plot(history.history['lr'], label = 'lr', marker = '*',linewidth = lw)\n",
        "#     plt.title('Learning Rate')\n",
        "#     plt.xlabel('Epochs')\n",
        "#     plt.ylabel('Learning Rate')\n",
        "#     plt.grid(True)\n",
        "#     plt.show()"
      ]
    },
    {
      "cell_type": "code",
      "execution_count": 26,
      "metadata": {
        "id": "KqVy7IaFVVfY",
        "trusted": true
      },
      "outputs": [
        {
          "data": {
            "image/png": "[encoded data removed]",
            "text/plain": [
              "<Figure size 1000x1000 with 2 Axes>"
            ]
          },
          "metadata": {},
          "output_type": "display_data"
        }
      ],
      "source": [
        "visualize_training(history)"
      ]
    },
    {
      "cell_type": "markdown",
      "metadata": {
        "id": "Tp3tu2G_VVfY"
      },
      "source": [
        "### Retrieve the learned embeddings\n",
        "Next, let's retrieve the word embeddings learned during training. This will be a matrix of shape `(vocab_size, embedding-dimension)`. Here observe some things carefully.\n",
        "* We are selecting only the first layer of the model because it is the embedding layer in our model descriptor. If you carefully look at the model description, you can get an idea of what I am talking about.\n",
        "\n",
        "``` Python\n",
        "#Model description\n",
        "embedding_dim=300\n",
        "model = keras.Sequential([\n",
        "  layers.Embedding(encoder.vocab_size, embedding_dim),\n",
        "  layers.GlobalAveragePooling1D(),\n",
        "#   layers.Dense(16, activation='relu'),\n",
        "  layers.Dense(1)\n",
        "])\n",
        "```\n",
        "\n",
        "* When we run the summary() command for the model, we saw that `Embedding()` layer had **1044800   ** parameters. Which is exactly equal to **32,650x32 = 1044800.** Therefore it was basically telling the size of the embedding matrix that it was going to learn. However for the quick testing purpose, I would set `embedding_dim = 32 or 16`.\n",
        "\n",
        "* In the summary of the model, we observe that `global_average_pooling1d` layer which is `GlobalAveragePooling1D()` has **0** parameters to learn because it was simply finding out the running average of the previous layers output.\n",
        "\n",
        "* Similarly it is possible to explore the learned parameters of the last two layers. Feel free to explore them for better understanding."
      ]
    },
    {
      "cell_type": "code",
      "execution_count": null,
      "metadata": {
        "id": "_nTXpRSlVVfY",
        "trusted": true
      },
      "outputs": [],
      "source": [
        "# Retrieving the layer\n",
        "e = model.layers[0]\n",
        "#Retrieving the weights learned in that layer.\n",
        "weights = e.get_weights()[0]\n",
        "# The weight matrix is basically a list type matrix. Let's convert them into a numpy array for easier visualization.\n",
        "print(weights.shape)"
      ]
    },
    {
      "cell_type": "markdown",
      "metadata": {
        "id": "BavkDCMTVVfY"
      },
      "source": [
        "We will now write the weights to disk. To use the Embedding Projector, we will upload two files in tab separated format: a file of vectors (containing the embedding), and a file of meta data (containing the words)."
      ]
    },
    {
      "cell_type": "code",
      "execution_count": null,
      "metadata": {
        "id": "56y3fV_yVVfY",
        "trusted": true
      },
      "outputs": [],
      "source": [
        "import io\n",
        "\n",
        "encoder = info.features['text'].encoder\n",
        "\n",
        "out_v = io.open('vecs.tsv', 'w', encoding='utf-8')\n",
        "out_m = io.open('meta.tsv', 'w', encoding='utf-8')\n",
        "\n",
        "for num, word in enumerate(encoder.subwords):\n",
        "    vec = weights[num+1] # skip 0, it's padding.\n",
        "    out_m.write(word + \"\\n\")\n",
        "    out_v.write('\\t'.join([str(x) for x in vec]) + \"\\n\")\n",
        "out_v.close()\n",
        "out_m.close()"
      ]
    },
    {
      "cell_type": "markdown",
      "metadata": {
        "id": "ECmq4blWVVfZ"
      },
      "source": [
        "## Visualize the embeddings\n",
        "After you have run the previous segment of code, your output folder should have two files named\n",
        "* vecs.tsv\n",
        "* meta.tsv\n",
        "\n",
        "To visualize our embeddings we will upload them to the embedding projector.\n",
        "\n",
        "Open the [Embedding Projector](http://projector.tensorflow.org/) (this can also run in a local TensorBoard instance).\n",
        "\n",
        "* Click on \"Load data\".\n",
        "\n",
        "* Upload the two files we created above: `vecs.tsv` and `meta.tsv`.\n",
        "\n",
        "The embeddings you have trained will now be displayed. You can search for words to find their closest neighbors. For example, try searching for **\"beautiful\"**. You may see neighbors like **\"wonderful\"**.\n",
        "\n",
        "Note: your results may be a bit different, depending on how weights were randomly initialized before training the embedding layer.\n",
        "\n",
        "Note: experimentally, you may be able to produce more interpretable embeddings by using a simpler model. Try deleting the `Dense(16)` layer, retraining the model, and visualizing the embeddings again."
      ]
    },
    {
      "cell_type": "markdown",
      "metadata": {
        "id": "HqrBHfUgVVfZ"
      },
      "source": [
        "Let's find the location of the words man, woman, king, queen from the vocabulary and then retrieve their word embedding."
      ]
    },
    {
      "cell_type": "code",
      "execution_count": null,
      "metadata": {
        "id": "sVuEr0EnVVfZ",
        "trusted": true
      },
      "outputs": [],
      "source": [
        "\n",
        "def get_location(word, vocab):\n",
        "    location = None\n",
        "    for index, s in enumerate(vocab):\n",
        "        if(s == word):\n",
        "            location = index\n",
        "            break\n",
        "    return location\n",
        "vocab = encoder.subwords\n",
        "\n",
        "man = weights[get_location(\"man\", vocab)]\n",
        "woman = weights[get_location(\"woman\", vocab)]\n",
        "boy = weights[get_location(\"boy\", vocab)]\n",
        "girl = weights[get_location(\"girl\", vocab)]"
      ]
    },
    {
      "cell_type": "code",
      "execution_count": null,
      "metadata": {
        "id": "DuKUBCAIVVfZ",
        "trusted": true
      },
      "outputs": [],
      "source": [
        "what = boy - man + woman"
      ]
    },
    {
      "cell_type": "markdown",
      "metadata": {
        "id": "n5kGOspbVVfZ"
      },
      "source": [
        "Now for comparative analysis, lets calculate the similarity of what with each of them"
      ]
    },
    {
      "cell_type": "code",
      "execution_count": null,
      "metadata": {
        "id": "guA41HlcVVfZ",
        "trusted": true
      },
      "outputs": [],
      "source": [
        "from sklearn.metrics.pairwise import cosine_similarity\n",
        "import numpy as np\n",
        "\n",
        "print('Similarity between   man & what  : ', np.squeeze(cosine_similarity([what], [man])))\n",
        "print('Similarity between   woman & what: ', np.squeeze(cosine_similarity([what], [woman])))\n",
        "print('Similarity between   boy & what  : ', np.squeeze(cosine_similarity([what], [boy])))\n",
        "print('Similarity between   girl & what : ', np.squeeze(cosine_similarity([what], [girl])))"
      ]
    },
    {
      "cell_type": "markdown",
      "metadata": {
        "id": "Q-oc9C_qVVfa",
        "trusted": true
      },
      "source": [
        "Here we observe that, with the word **gird** our query has the highest similarity i.e. highest cosine value which eventually means the lowest angle between them in the vector space."
      ]
    }
  ],
  "metadata": {
    "colab": {
      "name": "NLP-101: Understanding Word Embedding",
      "provenance": []
    },
    "kernelspec": {
      "display_name": "deeepseek.py310",
      "language": "python",
      "name": "python3"
    },
    "language_info": {
      "codemirror_mode": {
        "name": "ipython",
        "version": 3
      },
      "file_extension": ".py",
      "mimetype": "text/x-python",
      "name": "python",
      "nbconvert_exporter": "python",
      "pygments_lexer": "ipython3",
      "version": "3.10.16"
    }
  },
  "nbformat": 4,
  "nbformat_minor": 0
}
