{
 "cells": [
  {
   "cell_type": "code",
   "execution_count": 1,
   "metadata": {},
   "outputs": [],
   "source": [
    "import pandas as pd\n",
    "import numpy as np\n",
    "import matplotlib.pylab as plt\n",
    "import seaborn as sns\n",
    "from itertools import cycle"
   ]
  },
  {
   "cell_type": "code",
   "execution_count": 2,
   "metadata": {},
   "outputs": [],
   "source": [
    "pd.set_option('max_columns', 50)\n",
    "plt.style.use('bmh')\n",
    "color_pal = plt.rcParams['axes.prop_cycle'].by_key()['color']\n",
    "color_cycle = cycle(plt.rcParams['axes.prop_cycle'].by_key()['color'])"
   ]
  },
  {
   "cell_type": "code",
   "execution_count": 3,
   "metadata": {},
   "outputs": [],
   "source": [
    "cal = pd.read_csv('./inputs/m5-forecasting-accuracy/calendar.csv')\n",
    "train = pd.read_csv('./inputs/m5-forecasting-accuracy/sales_train_evaluation.csv')\n",
    "submission = pd.read_csv('./inputs/m5-forecasting-accuracy/sample_submission.csv')\n",
    "sellprice = pd.read_csv('./inputs/m5-forecasting-accuracy/sell_prices.csv')\n",
    "\n",
    "days = [d for d in train.columns if 'd_' in d]"
   ]
  },
  {
   "cell_type": "code",
   "execution_count": 4,
   "metadata": {},
   "outputs": [
    {
     "name": "stdout",
     "output_type": "stream",
     "text": [
      "6048         15\n",
      "10458        23\n",
      "6682         23\n",
      "935          23\n",
      "10549        24\n",
      "          ...  \n",
      "8442      90412\n",
      "14510     95051\n",
      "2314     128855\n",
      "8908     136269\n",
      "8412     253859\n",
      "Name: total_sale, Length: 14999, dtype: int64\n",
      "\n",
      "\n"
     ]
    }
   ],
   "source": [
    "# total sales over 1913 days of a product\n",
    "train['total_sale'] = train.loc[:,days].sum(axis=1)\n",
    "\n",
    "# sort items by sale\n",
    "print(train['total_sale'].sort_values())\n",
    "print('\\n')"
   ]
  },
  {
   "cell_type": "code",
   "execution_count": null,
   "metadata": {},
   "outputs": [],
   "source": []
  }
 ],
 "metadata": {
  "kernelspec": {
   "display_name": "Python 3",
   "language": "python",
   "name": "python3"
  },
  "language_info": {
   "codemirror_mode": {
    "name": "ipython",
    "version": 3
   },
   "file_extension": ".py",
   "mimetype": "text/x-python",
   "name": "python",
   "nbconvert_exporter": "python",
   "pygments_lexer": "ipython3",
   "version": "3.7.2"
  }
 },
 "nbformat": 4,
 "nbformat_minor": 2
}
