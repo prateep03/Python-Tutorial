{
  "cells": [
    {
      "cell_type": "markdown",
      "metadata": {
        "id": "i8ARWIwdvQBD"
      },
      "source": [
        "# An Overview of Encoding Techniques\n",
        "\n",
        "## **Notebook** [Reference](https://www.kaggle.com/code/shahules/an-overview-of-encoding-techniques).\n",
        "\n",
        "## **Dataset from Kaggle competition - [cat-in-the-dat](https://www.kaggle.com/competitions/cat-in-the-dat/overview)**. \n",
        "Please register to the competition before downloading the data files."
      ]
    },
    {
      "cell_type": "markdown",
      "metadata": {
        "id": "1HtKaF8PvQBH"
      },
      "source": [
        "Through this kernel, we are going to learn and try some of the most commonly used encoding techniques.As this competition mainly deals with encoding I hope that it would be a great time to refresh some the most common and effective encoding techniques currently in use.\n",
        "<p><font size=\"3\" color=\"white\">We will also run and test each of these encoding techniques in a simple logistic regression model and finally observe the performance of each type of encoding.</font></p>"
      ]
    },
    {
      "cell_type": "markdown",
      "metadata": {
        "id": "6z434QuyvQBL"
      },
      "source": [
        "#### So,let's begin..."
      ]
    },
    {
      "cell_type": "markdown",
      "metadata": {
        "id": "88_uknlkvQBM"
      },
      "source": [
        "- **Method 1 :** [Label encoding](#1)\n",
        "- **Method 2 :** [OnHot encoding](#2)\n",
        "- **Method 3 :** [Feature Hashing](#3)\n",
        "- **Method 4 :** [Encoding categories with dataset statistics](#4)\n",
        "- **Cyclic features :** [Encoding cyclic features](#6)\n",
        "- **Method 5:** [Target Encoding](#7)\n",
        "- **Method 6 :** [K-Fold target encoding](#8)\n",
        "- **Summary :** [Summary of model performance](#5)"
      ]
    },
    {
      "cell_type": "markdown",
      "metadata": {
        "id": "A4d0wNi7vQBO"
      },
      "source": [
        "## Importing required libraries"
      ]
    },
    {
      "cell_type": "code",
      "execution_count": 1,
      "metadata": {
        "_cell_guid": "79c7e3d0-c299-4dcb-8224-4455121ee9b0",
        "_uuid": "d629ff2d2480ee46fbb7e2d37f6b5fab8052498a",
        "id": "89pTHG9wvQBP",
        "trusted": true
      },
      "outputs": [],
      "source": [
        "import pandas as pd\n",
        "import numpy as np\n",
        "import matplotlib.pyplot as plt\n",
        "from sklearn.model_selection import train_test_split\n",
        "from sklearn.linear_model import LogisticRegression\n",
        "from sklearn.metrics import accuracy_score\n",
        "from sklearn.model_selection import KFold\n",
        "from sklearn import base\n",
        "\n",
        "import warnings\n",
        "warnings.filterwarnings(\"ignore\")"
      ]
    },
    {
      "cell_type": "code",
      "execution_count": 2,
      "metadata": {},
      "outputs": [],
      "source": [
        "RANDOM_SEED = 42"
      ]
    },
    {
      "cell_type": "code",
      "execution_count": 3,
      "metadata": {
        "id": "5JOx1TnWvQBS",
        "trusted": true
      },
      "outputs": [],
      "source": [
        "df_train_og=pd.read_csv('/work/data/TrainingSession/202/cat-in-the-dat/train.csv')\n",
        "df_test_og=pd.read_csv('/work/data/TrainingSession/202/cat-in-the-dat/test.csv')"
      ]
    },
    {
      "cell_type": "code",
      "execution_count": 4,
      "metadata": {
        "id": "Ac2NtBZlvQBT",
        "trusted": true
      },
      "outputs": [
        {
          "name": "stdout",
          "output_type": "stream",
          "text": [
            "Original dataset sizes\n",
            "-------------------------------------------\n",
            "train data set has got 300000 rows and 25 columns\n",
            "test data set has got 200000 rows and 24 columns\n"
          ]
        }
      ],
      "source": [
        "print(f\"Original dataset sizes\")\n",
        "print('-------------------------------------------')\n",
        "print('train data set has got {} rows and {} columns'.format(df_train_og.shape[0],df_train_og.shape[1]))\n",
        "print('test data set has got {} rows and {} columns'.format(df_test_og.shape[0],df_test_og.shape[1]))"
      ]
    },
    {
      "cell_type": "markdown",
      "metadata": {},
      "source": [
        "For this tutorial, we will take only 10% of data to fit memory."
      ]
    },
    {
      "cell_type": "code",
      "execution_count": 5,
      "metadata": {},
      "outputs": [],
      "source": [
        "percentage=0.05\n",
        "df_train = df_train_og.iloc[:int(len(df_train_og) * percentage)]\n",
        "df_test = df_test_og.iloc[:int(len(df_test_og) * percentage)]"
      ]
    },
    {
      "cell_type": "code",
      "execution_count": 6,
      "metadata": {},
      "outputs": [
        {
          "name": "stdout",
          "output_type": "stream",
          "text": [
            "After taking 10% of the data:\n",
            "-------------------------------------------\n",
            "train data set has got 15000 rows and 25 columns\n",
            "test data set has got 10000 rows and 24 columns\n"
          ]
        }
      ],
      "source": [
        "print('After taking 10% of the data:')\n",
        "print('-------------------------------------------')\n",
        "print('train data set has got {} rows and {} columns'.format(df_train.shape[0],df_train.shape[1]))\n",
        "print('test data set has got {} rows and {} columns'.format(df_test.shape[0],df_test.shape[1]))"
      ]
    },
    {
      "cell_type": "markdown",
      "metadata": {},
      "source": [
        "The data contains binary features <code>(bin_*)</code>, nominal features <code>(nom_*)</code>, ordinal features <code>(ord_*)</code> as well as (potentially cyclical) day (of the week) and month features. The string ordinal features <code>ord_{3-5}</code> are lexically ordered according to <code>string.ascii_letters</code>.\n",
        "\n",
        "Since the purpose of this kernel is to explore various encoding techniques, the data has been simplified in that 1) there are no missing values; 2) the test set does not contain any unseen feature values. "
      ]
    },
    {
      "cell_type": "code",
      "execution_count": 7,
      "metadata": {
        "id": "5Lg1ySq4vQBV",
        "trusted": true
      },
      "outputs": [
        {
          "data": {
            "application/vnd.microsoft.datawrangler.viewer.v0+json": {
              "columns": [
                {
                  "name": "index",
                  "rawType": "int64",
                  "type": "integer"
                },
                {
                  "name": "id",
                  "rawType": "int64",
                  "type": "integer"
                },
                {
                  "name": "bin_0",
                  "rawType": "int64",
                  "type": "integer"
                },
                {
                  "name": "bin_1",
                  "rawType": "int64",
                  "type": "integer"
                },
                {
                  "name": "bin_2",
                  "rawType": "int64",
                  "type": "integer"
                },
                {
                  "name": "bin_3",
                  "rawType": "object",
                  "type": "string"
                },
                {
                  "name": "bin_4",
                  "rawType": "object",
                  "type": "string"
                },
                {
                  "name": "nom_0",
                  "rawType": "object",
                  "type": "string"
                },
                {
                  "name": "nom_1",
                  "rawType": "object",
                  "type": "string"
                },
                {
                  "name": "nom_2",
                  "rawType": "object",
                  "type": "string"
                },
                {
                  "name": "nom_3",
                  "rawType": "object",
                  "type": "string"
                },
                {
                  "name": "nom_4",
                  "rawType": "object",
                  "type": "string"
                },
                {
                  "name": "nom_5",
                  "rawType": "object",
                  "type": "string"
                },
                {
                  "name": "nom_6",
                  "rawType": "object",
                  "type": "string"
                },
                {
                  "name": "nom_7",
                  "rawType": "object",
                  "type": "string"
                },
                {
                  "name": "nom_8",
                  "rawType": "object",
                  "type": "string"
                },
                {
                  "name": "nom_9",
                  "rawType": "object",
                  "type": "string"
                },
                {
                  "name": "ord_0",
                  "rawType": "int64",
                  "type": "integer"
                },
                {
                  "name": "ord_1",
                  "rawType": "object",
                  "type": "string"
                },
                {
                  "name": "ord_2",
                  "rawType": "object",
                  "type": "string"
                },
                {
                  "name": "ord_3",
                  "rawType": "object",
                  "type": "string"
                },
                {
                  "name": "ord_4",
                  "rawType": "object",
                  "type": "string"
                },
                {
                  "name": "ord_5",
                  "rawType": "object",
                  "type": "string"
                },
                {
                  "name": "day",
                  "rawType": "int64",
                  "type": "integer"
                },
                {
                  "name": "month",
                  "rawType": "int64",
                  "type": "integer"
                },
                {
                  "name": "target",
                  "rawType": "int64",
                  "type": "integer"
                }
              ],
              "ref": "e517b410-a063-42ba-832a-04338dd41cfd",
              "rows": [
                [
                  "0",
                  "0",
                  "0",
                  "0",
                  "0",
                  "T",
                  "Y",
                  "Green",
                  "Triangle",
                  "Snake",
                  "Finland",
                  "Bassoon",
                  "50f116bcf",
                  "3ac1b8814",
                  "68f6ad3e9",
                  "c389000ab",
                  "2f4cb3d51",
                  "2",
                  "Grandmaster",
                  "Cold",
                  "h",
                  "D",
                  "kr",
                  "2",
                  "2",
                  "0"
                ],
                [
                  "1",
                  "1",
                  "0",
                  "1",
                  "0",
                  "T",
                  "Y",
                  "Green",
                  "Trapezoid",
                  "Hamster",
                  "Russia",
                  "Piano",
                  "b3b4d25d0",
                  "fbcb50fc1",
                  "3b6dd5612",
                  "4cd920251",
                  "f83c56c21",
                  "1",
                  "Grandmaster",
                  "Hot",
                  "a",
                  "A",
                  "bF",
                  "7",
                  "8",
                  "0"
                ],
                [
                  "2",
                  "2",
                  "0",
                  "0",
                  "0",
                  "F",
                  "Y",
                  "Blue",
                  "Trapezoid",
                  "Lion",
                  "Russia",
                  "Theremin",
                  "3263bdce5",
                  "0922e3cb8",
                  "a6a36f527",
                  "de9c9f684",
                  "ae6800dd0",
                  "1",
                  "Expert",
                  "Lava Hot",
                  "h",
                  "R",
                  "Jc",
                  "7",
                  "2",
                  "0"
                ],
                [
                  "3",
                  "3",
                  "0",
                  "1",
                  "0",
                  "F",
                  "Y",
                  "Red",
                  "Trapezoid",
                  "Snake",
                  "Canada",
                  "Oboe",
                  "f12246592",
                  "50d7ad46a",
                  "ec69236eb",
                  "4ade6ab69",
                  "8270f0d71",
                  "1",
                  "Grandmaster",
                  "Boiling Hot",
                  "i",
                  "D",
                  "kW",
                  "2",
                  "1",
                  "1"
                ],
                [
                  "4",
                  "4",
                  "0",
                  "0",
                  "0",
                  "F",
                  "N",
                  "Red",
                  "Trapezoid",
                  "Lion",
                  "Canada",
                  "Oboe",
                  "5b0f5acd5",
                  "1fe17a1fd",
                  "04ddac2be",
                  "cb43ab175",
                  "b164b72a7",
                  "1",
                  "Grandmaster",
                  "Freezing",
                  "a",
                  "R",
                  "qP",
                  "7",
                  "8",
                  "0"
                ]
              ],
              "shape": {
                "columns": 25,
                "rows": 5
              }
            },
            "text/html": [
              "<div>\n",
              "<style scoped>\n",
              "    .dataframe tbody tr th:only-of-type {\n",
              "        vertical-align: middle;\n",
              "    }\n",
              "\n",
              "    .dataframe tbody tr th {\n",
              "        vertical-align: top;\n",
              "    }\n",
              "\n",
              "    .dataframe thead th {\n",
              "        text-align: right;\n",
              "    }\n",
              "</style>\n",
              "<table border=\"1\" class=\"dataframe\">\n",
              "  <thead>\n",
              "    <tr style=\"text-align: right;\">\n",
              "      <th></th>\n",
              "      <th>id</th>\n",
              "      <th>bin_0</th>\n",
              "      <th>bin_1</th>\n",
              "      <th>bin_2</th>\n",
              "      <th>bin_3</th>\n",
              "      <th>bin_4</th>\n",
              "      <th>nom_0</th>\n",
              "      <th>nom_1</th>\n",
              "      <th>nom_2</th>\n",
              "      <th>nom_3</th>\n",
              "      <th>...</th>\n",
              "      <th>nom_9</th>\n",
              "      <th>ord_0</th>\n",
              "      <th>ord_1</th>\n",
              "      <th>ord_2</th>\n",
              "      <th>ord_3</th>\n",
              "      <th>ord_4</th>\n",
              "      <th>ord_5</th>\n",
              "      <th>day</th>\n",
              "      <th>month</th>\n",
              "      <th>target</th>\n",
              "    </tr>\n",
              "  </thead>\n",
              "  <tbody>\n",
              "    <tr>\n",
              "      <th>0</th>\n",
              "      <td>0</td>\n",
              "      <td>0</td>\n",
              "      <td>0</td>\n",
              "      <td>0</td>\n",
              "      <td>T</td>\n",
              "      <td>Y</td>\n",
              "      <td>Green</td>\n",
              "      <td>Triangle</td>\n",
              "      <td>Snake</td>\n",
              "      <td>Finland</td>\n",
              "      <td>...</td>\n",
              "      <td>2f4cb3d51</td>\n",
              "      <td>2</td>\n",
              "      <td>Grandmaster</td>\n",
              "      <td>Cold</td>\n",
              "      <td>h</td>\n",
              "      <td>D</td>\n",
              "      <td>kr</td>\n",
              "      <td>2</td>\n",
              "      <td>2</td>\n",
              "      <td>0</td>\n",
              "    </tr>\n",
              "    <tr>\n",
              "      <th>1</th>\n",
              "      <td>1</td>\n",
              "      <td>0</td>\n",
              "      <td>1</td>\n",
              "      <td>0</td>\n",
              "      <td>T</td>\n",
              "      <td>Y</td>\n",
              "      <td>Green</td>\n",
              "      <td>Trapezoid</td>\n",
              "      <td>Hamster</td>\n",
              "      <td>Russia</td>\n",
              "      <td>...</td>\n",
              "      <td>f83c56c21</td>\n",
              "      <td>1</td>\n",
              "      <td>Grandmaster</td>\n",
              "      <td>Hot</td>\n",
              "      <td>a</td>\n",
              "      <td>A</td>\n",
              "      <td>bF</td>\n",
              "      <td>7</td>\n",
              "      <td>8</td>\n",
              "      <td>0</td>\n",
              "    </tr>\n",
              "    <tr>\n",
              "      <th>2</th>\n",
              "      <td>2</td>\n",
              "      <td>0</td>\n",
              "      <td>0</td>\n",
              "      <td>0</td>\n",
              "      <td>F</td>\n",
              "      <td>Y</td>\n",
              "      <td>Blue</td>\n",
              "      <td>Trapezoid</td>\n",
              "      <td>Lion</td>\n",
              "      <td>Russia</td>\n",
              "      <td>...</td>\n",
              "      <td>ae6800dd0</td>\n",
              "      <td>1</td>\n",
              "      <td>Expert</td>\n",
              "      <td>Lava Hot</td>\n",
              "      <td>h</td>\n",
              "      <td>R</td>\n",
              "      <td>Jc</td>\n",
              "      <td>7</td>\n",
              "      <td>2</td>\n",
              "      <td>0</td>\n",
              "    </tr>\n",
              "    <tr>\n",
              "      <th>3</th>\n",
              "      <td>3</td>\n",
              "      <td>0</td>\n",
              "      <td>1</td>\n",
              "      <td>0</td>\n",
              "      <td>F</td>\n",
              "      <td>Y</td>\n",
              "      <td>Red</td>\n",
              "      <td>Trapezoid</td>\n",
              "      <td>Snake</td>\n",
              "      <td>Canada</td>\n",
              "      <td>...</td>\n",
              "      <td>8270f0d71</td>\n",
              "      <td>1</td>\n",
              "      <td>Grandmaster</td>\n",
              "      <td>Boiling Hot</td>\n",
              "      <td>i</td>\n",
              "      <td>D</td>\n",
              "      <td>kW</td>\n",
              "      <td>2</td>\n",
              "      <td>1</td>\n",
              "      <td>1</td>\n",
              "    </tr>\n",
              "    <tr>\n",
              "      <th>4</th>\n",
              "      <td>4</td>\n",
              "      <td>0</td>\n",
              "      <td>0</td>\n",
              "      <td>0</td>\n",
              "      <td>F</td>\n",
              "      <td>N</td>\n",
              "      <td>Red</td>\n",
              "      <td>Trapezoid</td>\n",
              "      <td>Lion</td>\n",
              "      <td>Canada</td>\n",
              "      <td>...</td>\n",
              "      <td>b164b72a7</td>\n",
              "      <td>1</td>\n",
              "      <td>Grandmaster</td>\n",
              "      <td>Freezing</td>\n",
              "      <td>a</td>\n",
              "      <td>R</td>\n",
              "      <td>qP</td>\n",
              "      <td>7</td>\n",
              "      <td>8</td>\n",
              "      <td>0</td>\n",
              "    </tr>\n",
              "  </tbody>\n",
              "</table>\n",
              "<p>5 rows × 25 columns</p>\n",
              "</div>"
            ],
            "text/plain": [
              "   id  bin_0  bin_1  bin_2 bin_3 bin_4  nom_0      nom_1    nom_2    nom_3  \\\n",
              "0   0      0      0      0     T     Y  Green   Triangle    Snake  Finland   \n",
              "1   1      0      1      0     T     Y  Green  Trapezoid  Hamster   Russia   \n",
              "2   2      0      0      0     F     Y   Blue  Trapezoid     Lion   Russia   \n",
              "3   3      0      1      0     F     Y    Red  Trapezoid    Snake   Canada   \n",
              "4   4      0      0      0     F     N    Red  Trapezoid     Lion   Canada   \n",
              "\n",
              "   ...      nom_9 ord_0        ord_1        ord_2 ord_3 ord_4  ord_5 day  \\\n",
              "0  ...  2f4cb3d51     2  Grandmaster         Cold     h     D     kr   2   \n",
              "1  ...  f83c56c21     1  Grandmaster          Hot     a     A     bF   7   \n",
              "2  ...  ae6800dd0     1       Expert     Lava Hot     h     R     Jc   7   \n",
              "3  ...  8270f0d71     1  Grandmaster  Boiling Hot     i     D     kW   2   \n",
              "4  ...  b164b72a7     1  Grandmaster     Freezing     a     R     qP   7   \n",
              "\n",
              "  month target  \n",
              "0     2      0  \n",
              "1     8      0  \n",
              "2     2      0  \n",
              "3     1      1  \n",
              "4     8      0  \n",
              "\n",
              "[5 rows x 25 columns]"
            ]
          },
          "execution_count": 7,
          "metadata": {},
          "output_type": "execute_result"
        }
      ],
      "source": [
        "df_train.head()"
      ]
    },
    {
      "cell_type": "code",
      "execution_count": 8,
      "metadata": {
        "id": "fLB3WXnEvQBV",
        "trusted": true
      },
      "outputs": [
        {
          "name": "stdout",
          "output_type": "stream",
          "text": [
            "<class 'pandas.core.frame.DataFrame'>\n",
            "RangeIndex: 15000 entries, 0 to 14999\n",
            "Data columns (total 25 columns):\n",
            " #   Column  Non-Null Count  Dtype \n",
            "---  ------  --------------  ----- \n",
            " 0   id      15000 non-null  int64 \n",
            " 1   bin_0   15000 non-null  int64 \n",
            " 2   bin_1   15000 non-null  int64 \n",
            " 3   bin_2   15000 non-null  int64 \n",
            " 4   bin_3   15000 non-null  object\n",
            " 5   bin_4   15000 non-null  object\n",
            " 6   nom_0   15000 non-null  object\n",
            " 7   nom_1   15000 non-null  object\n",
            " 8   nom_2   15000 non-null  object\n",
            " 9   nom_3   15000 non-null  object\n",
            " 10  nom_4   15000 non-null  object\n",
            " 11  nom_5   15000 non-null  object\n",
            " 12  nom_6   15000 non-null  object\n",
            " 13  nom_7   15000 non-null  object\n",
            " 14  nom_8   15000 non-null  object\n",
            " 15  nom_9   15000 non-null  object\n",
            " 16  ord_0   15000 non-null  int64 \n",
            " 17  ord_1   15000 non-null  object\n",
            " 18  ord_2   15000 non-null  object\n",
            " 19  ord_3   15000 non-null  object\n",
            " 20  ord_4   15000 non-null  object\n",
            " 21  ord_5   15000 non-null  object\n",
            " 22  day     15000 non-null  int64 \n",
            " 23  month   15000 non-null  int64 \n",
            " 24  target  15000 non-null  int64 \n",
            "dtypes: int64(8), object(17)\n",
            "memory usage: 2.9+ MB\n"
          ]
        }
      ],
      "source": [
        "df_train.info()"
      ]
    },
    {
      "cell_type": "markdown",
      "metadata": {
        "id": "t2clmhcOvQBW"
      },
      "source": [
        "### Defining the train and target"
      ]
    },
    {
      "cell_type": "code",
      "execution_count": 9,
      "metadata": {
        "id": "y03lBOJ-vQBW",
        "trusted": true
      },
      "outputs": [
        {
          "name": "stdout",
          "output_type": "stream",
          "text": [
            "Original dataset size: 15000 rows\n"
          ]
        }
      ],
      "source": [
        "X=df_train.drop(['target'],axis=1)\n",
        "y=df_train['target']\n",
        "print(f\"Original dataset size: {X.shape[0]} rows\")\n",
        "#X_train,X_test,y_train,y_test=train_test_split(X,y,random_state=42,test_size=0.2)"
      ]
    },
    {
      "cell_type": "code",
      "execution_count": 10,
      "metadata": {
        "id": "4s8tA6pcvQBX",
        "trusted": true
      },
      "outputs": [
        {
          "data": {
            "image/png": "[encoded data removed]",
            "text/plain": [
              "<Figure size 640x480 with 1 Axes>"
            ]
          },
          "metadata": {},
          "output_type": "display_data"
        }
      ],
      "source": [
        "x=y.value_counts()\n",
        "plt.bar(x.index,x)\n",
        "plt.gca().set_xticks([0,1])\n",
        "plt.title('distribution of target variable')\n",
        "plt.show()"
      ]
    },
    {
      "cell_type": "markdown",
      "metadata": {
        "id": "Thm12hPdvQBX"
      },
      "source": [
        "Before getting into encoding,I will just brief you with types data variables present in this data:\n",
        "- **Binary data** : A  binary variable a variable that has only 2 values..ie 0/1\n",
        "- **Categorical data** : A categorical variable is a variable that can take some limited number of values.for example,day of the week.It can be one of 1,2,3,4,5,6,7 only.\n",
        "- **Ordinal data** : An ordinal variable is a categorical variable that has some order associated with it.for example,the ratings that are given to a movie by a user.\n",
        "- **Nominal data** :  Nominal value is a variable that has no numerical importance,such as occupation,person name etc..\n",
        "- **Timeseries data** : Time series data has a temporal value attached to it, so this would be something like a date or a time stamp that you can look for trends in time.\n",
        "\n"
      ]
    },
    {
      "cell_type": "markdown",
      "metadata": {
        "id": "LfEDnJmJvQBY"
      },
      "source": [
        "## Method 1: Label encoding <a id='1'></a>\n",
        "In this method we change every categorical data to a number.That is each type will be subtuted by a number.for example we will substitute 1 for Grandmaster,2 for master ,3 for expert etc..\n",
        "For implementing this we will first import *Labelencoder* from  *sklearn* module."
      ]
    },
    {
      "cell_type": "code",
      "execution_count": 11,
      "metadata": {
        "id": "RDeXieeqvQBY",
        "trusted": true
      },
      "outputs": [],
      "source": [
        "from sklearn.preprocessing import LabelEncoder"
      ]
    },
    {
      "cell_type": "markdown",
      "metadata": {
        "id": "yNaiL4C4vQBZ"
      },
      "source": [
        "Now we will do these three steps to label encode our data:\n",
        "- Initialize the labelencoder class\n",
        "- Call the fit() method to fit the data\n",
        "- Transform data to labelencoded data"
      ]
    },
    {
      "cell_type": "code",
      "execution_count": 12,
      "metadata": {
        "id": "dvM-6zMlvQBZ",
        "trusted": true
      },
      "outputs": [
        {
          "name": "stdout",
          "output_type": "stream",
          "text": [
            "CPU times: user 50.4 ms, sys: 985 μs, total: 51.4 ms\n",
            "Wall time: 50.6 ms\n"
          ]
        },
        {
          "data": {
            "application/vnd.microsoft.datawrangler.viewer.v0+json": {
              "columns": [
                {
                  "name": "index",
                  "rawType": "int64",
                  "type": "integer"
                },
                {
                  "name": "id",
                  "rawType": "int64",
                  "type": "integer"
                },
                {
                  "name": "bin_0",
                  "rawType": "int64",
                  "type": "integer"
                },
                {
                  "name": "bin_1",
                  "rawType": "int64",
                  "type": "integer"
                },
                {
                  "name": "bin_2",
                  "rawType": "int64",
                  "type": "integer"
                },
                {
                  "name": "bin_3",
                  "rawType": "int64",
                  "type": "integer"
                },
                {
                  "name": "bin_4",
                  "rawType": "int64",
                  "type": "integer"
                },
                {
                  "name": "nom_0",
                  "rawType": "int64",
                  "type": "integer"
                },
                {
                  "name": "nom_1",
                  "rawType": "int64",
                  "type": "integer"
                },
                {
                  "name": "nom_2",
                  "rawType": "int64",
                  "type": "integer"
                },
                {
                  "name": "nom_3",
                  "rawType": "int64",
                  "type": "integer"
                },
                {
                  "name": "nom_4",
                  "rawType": "int64",
                  "type": "integer"
                },
                {
                  "name": "nom_5",
                  "rawType": "int64",
                  "type": "integer"
                },
                {
                  "name": "nom_6",
                  "rawType": "int64",
                  "type": "integer"
                },
                {
                  "name": "nom_7",
                  "rawType": "int64",
                  "type": "integer"
                },
                {
                  "name": "nom_8",
                  "rawType": "int64",
                  "type": "integer"
                },
                {
                  "name": "nom_9",
                  "rawType": "int64",
                  "type": "integer"
                },
                {
                  "name": "ord_0",
                  "rawType": "int64",
                  "type": "integer"
                },
                {
                  "name": "ord_1",
                  "rawType": "int64",
                  "type": "integer"
                },
                {
                  "name": "ord_2",
                  "rawType": "int64",
                  "type": "integer"
                },
                {
                  "name": "ord_3",
                  "rawType": "int64",
                  "type": "integer"
                },
                {
                  "name": "ord_4",
                  "rawType": "int64",
                  "type": "integer"
                },
                {
                  "name": "ord_5",
                  "rawType": "int64",
                  "type": "integer"
                },
                {
                  "name": "day",
                  "rawType": "int64",
                  "type": "integer"
                },
                {
                  "name": "month",
                  "rawType": "int64",
                  "type": "integer"
                }
              ],
              "ref": "c6786825-7616-4e01-aa89-1f0470b2c8be",
              "rows": [
                [
                  "0",
                  "0",
                  "0",
                  "0",
                  "0",
                  "1",
                  "1",
                  "1",
                  "5",
                  "5",
                  "3",
                  "0",
                  "77",
                  "117",
                  "477",
                  "1565",
                  "1441",
                  "2",
                  "2",
                  "1",
                  "7",
                  "3",
                  "135",
                  "2",
                  "2"
                ],
                [
                  "1",
                  "1",
                  "0",
                  "1",
                  "0",
                  "1",
                  "1",
                  "1",
                  "4",
                  "3",
                  "5",
                  "2",
                  "158",
                  "504",
                  "254",
                  "605",
                  "7465",
                  "1",
                  "2",
                  "3",
                  "0",
                  "0",
                  "92",
                  "7",
                  "8"
                ],
                [
                  "2",
                  "2",
                  "0",
                  "0",
                  "0",
                  "0",
                  "1",
                  "0",
                  "4",
                  "4",
                  "5",
                  "3",
                  "43",
                  "14",
                  "739",
                  "1794",
                  "5226",
                  "1",
                  "1",
                  "4",
                  "7",
                  "17",
                  "30",
                  "7",
                  "2"
                ]
              ],
              "shape": {
                "columns": 24,
                "rows": 3
              }
            },
            "text/html": [
              "<div>\n",
              "<style scoped>\n",
              "    .dataframe tbody tr th:only-of-type {\n",
              "        vertical-align: middle;\n",
              "    }\n",
              "\n",
              "    .dataframe tbody tr th {\n",
              "        vertical-align: top;\n",
              "    }\n",
              "\n",
              "    .dataframe thead th {\n",
              "        text-align: right;\n",
              "    }\n",
              "</style>\n",
              "<table border=\"1\" class=\"dataframe\">\n",
              "  <thead>\n",
              "    <tr style=\"text-align: right;\">\n",
              "      <th></th>\n",
              "      <th>id</th>\n",
              "      <th>bin_0</th>\n",
              "      <th>bin_1</th>\n",
              "      <th>bin_2</th>\n",
              "      <th>bin_3</th>\n",
              "      <th>bin_4</th>\n",
              "      <th>nom_0</th>\n",
              "      <th>nom_1</th>\n",
              "      <th>nom_2</th>\n",
              "      <th>nom_3</th>\n",
              "      <th>...</th>\n",
              "      <th>nom_8</th>\n",
              "      <th>nom_9</th>\n",
              "      <th>ord_0</th>\n",
              "      <th>ord_1</th>\n",
              "      <th>ord_2</th>\n",
              "      <th>ord_3</th>\n",
              "      <th>ord_4</th>\n",
              "      <th>ord_5</th>\n",
              "      <th>day</th>\n",
              "      <th>month</th>\n",
              "    </tr>\n",
              "  </thead>\n",
              "  <tbody>\n",
              "    <tr>\n",
              "      <th>0</th>\n",
              "      <td>0</td>\n",
              "      <td>0</td>\n",
              "      <td>0</td>\n",
              "      <td>0</td>\n",
              "      <td>1</td>\n",
              "      <td>1</td>\n",
              "      <td>1</td>\n",
              "      <td>5</td>\n",
              "      <td>5</td>\n",
              "      <td>3</td>\n",
              "      <td>...</td>\n",
              "      <td>1565</td>\n",
              "      <td>1441</td>\n",
              "      <td>2</td>\n",
              "      <td>2</td>\n",
              "      <td>1</td>\n",
              "      <td>7</td>\n",
              "      <td>3</td>\n",
              "      <td>135</td>\n",
              "      <td>2</td>\n",
              "      <td>2</td>\n",
              "    </tr>\n",
              "    <tr>\n",
              "      <th>1</th>\n",
              "      <td>1</td>\n",
              "      <td>0</td>\n",
              "      <td>1</td>\n",
              "      <td>0</td>\n",
              "      <td>1</td>\n",
              "      <td>1</td>\n",
              "      <td>1</td>\n",
              "      <td>4</td>\n",
              "      <td>3</td>\n",
              "      <td>5</td>\n",
              "      <td>...</td>\n",
              "      <td>605</td>\n",
              "      <td>7465</td>\n",
              "      <td>1</td>\n",
              "      <td>2</td>\n",
              "      <td>3</td>\n",
              "      <td>0</td>\n",
              "      <td>0</td>\n",
              "      <td>92</td>\n",
              "      <td>7</td>\n",
              "      <td>8</td>\n",
              "    </tr>\n",
              "    <tr>\n",
              "      <th>2</th>\n",
              "      <td>2</td>\n",
              "      <td>0</td>\n",
              "      <td>0</td>\n",
              "      <td>0</td>\n",
              "      <td>0</td>\n",
              "      <td>1</td>\n",
              "      <td>0</td>\n",
              "      <td>4</td>\n",
              "      <td>4</td>\n",
              "      <td>5</td>\n",
              "      <td>...</td>\n",
              "      <td>1794</td>\n",
              "      <td>5226</td>\n",
              "      <td>1</td>\n",
              "      <td>1</td>\n",
              "      <td>4</td>\n",
              "      <td>7</td>\n",
              "      <td>17</td>\n",
              "      <td>30</td>\n",
              "      <td>7</td>\n",
              "      <td>2</td>\n",
              "    </tr>\n",
              "  </tbody>\n",
              "</table>\n",
              "<p>3 rows × 24 columns</p>\n",
              "</div>"
            ],
            "text/plain": [
              "   id  bin_0  bin_1  bin_2  bin_3  bin_4  nom_0  nom_1  nom_2  nom_3  ...  \\\n",
              "0   0      0      0      0      1      1      1      5      5      3  ...   \n",
              "1   1      0      1      0      1      1      1      4      3      5  ...   \n",
              "2   2      0      0      0      0      1      0      4      4      5  ...   \n",
              "\n",
              "   nom_8  nom_9  ord_0  ord_1  ord_2  ord_3  ord_4  ord_5  day  month  \n",
              "0   1565   1441      2      2      1      7      3    135    2      2  \n",
              "1    605   7465      1      2      3      0      0     92    7      8  \n",
              "2   1794   5226      1      1      4      7     17     30    7      2  \n",
              "\n",
              "[3 rows x 24 columns]"
            ]
          },
          "execution_count": 12,
          "metadata": {},
          "output_type": "execute_result"
        }
      ],
      "source": [
        "%%time\n",
        "\n",
        "train=pd.DataFrame()\n",
        "label=LabelEncoder()\n",
        "for c in  X.columns:\n",
        "    if(X[c].dtype=='object'):\n",
        "        train[c]=label.fit_transform(X[c])\n",
        "    else:\n",
        "        train[c]=X[c]\n",
        "\n",
        "train.head(3)"
      ]
    },
    {
      "cell_type": "markdown",
      "metadata": {
        "id": "56-ZDwYyvQBZ"
      },
      "source": [
        "Here you can see the label encoded output train data.We will check the shape of train data now and verify that there is no change in the number of columns."
      ]
    },
    {
      "cell_type": "code",
      "execution_count": 13,
      "metadata": {
        "id": "AVDRKqj2vQBZ",
        "trusted": true
      },
      "outputs": [
        {
          "name": "stdout",
          "output_type": "stream",
          "text": [
            "train data set has got 15000 rows and 24 columns\n"
          ]
        }
      ],
      "source": [
        "\n",
        "print('train data set has got {} rows and {} columns'.format(train.shape[0],train.shape[1]))\n"
      ]
    },
    {
      "cell_type": "markdown",
      "metadata": {
        "id": "-vR6C8ZwvQBa"
      },
      "source": [
        "### Logistic regression"
      ]
    },
    {
      "cell_type": "code",
      "execution_count": 14,
      "metadata": {
        "id": "70ZFO58GvQBa",
        "trusted": true
      },
      "outputs": [],
      "source": [
        "def logistic(X,y, max_iter=10):\n",
        "    # Convert sparse matrix to dense if needed\n",
        "    if hasattr(X, 'toarray'):\n",
        "        X = X.toarray()\n",
        "    elif isinstance(X, pd.DataFrame):\n",
        "        X = X.values\n",
        "        \n",
        "    X_train,X_test,y_train,y_test=train_test_split(X,y,random_state=RANDOM_SEED,test_size=0.2)\n",
        "    lr=LogisticRegression(max_iter=max_iter, random_state=RANDOM_SEED)  # Increase max_iter to avoid convergence warnings\n",
        "    lr.fit(X_train,y_train)\n",
        "    y_pre=lr.predict(X_test)\n",
        "    print('Accuracy : ',accuracy_score(y_test,y_pre))"
      ]
    },
    {
      "cell_type": "code",
      "execution_count": 15,
      "metadata": {
        "id": "KCPaz1PyvQBa",
        "trusted": true
      },
      "outputs": [
        {
          "name": "stdout",
          "output_type": "stream",
          "text": [
            "Accuracy :  0.7016666666666667\n"
          ]
        }
      ],
      "source": [
        "logistic(train,y, max_iter=200)"
      ]
    },
    {
      "cell_type": "markdown",
      "metadata": {
        "id": "xM_hDgKdvQBa"
      },
      "source": [
        "## Method 2 : On hot encoding  <a id='2'></a>\n",
        "Our second method is encoding each category as a one hot encoding (OHE) vector (or dummy variables). OHE is a representation method that takes each category value and turns it into a binary vector of size |i|(number of values in category i) where all columns are equal to zero besides the category column. Here is a little example:   \n",
        "\n",
        "\n",
        "![](https://miro.medium.com/max/878/1*WXpoiS7HXRC-uwJPYsy1Dg.png)\n",
        "\n",
        "To implement on-hot encoding we will use *get_dummies()* function in *pandas*.\n",
        "\n"
      ]
    },
    {
      "cell_type": "code",
      "execution_count": 16,
      "metadata": {
        "id": "C-2S5tYuvQBa",
        "trusted": true
      },
      "outputs": [
        {
          "name": "stdout",
          "output_type": "stream",
          "text": [
            "train data set has got 15000 rows and 11937 columns\n"
          ]
        }
      ],
      "source": [
        "train=pd.get_dummies(X).astype(np.int8)\n",
        "print('train data set has got {} rows and {} columns'.format(train.shape[0],train.shape[1]))"
      ]
    },
    {
      "cell_type": "markdown",
      "metadata": {
        "id": "c78AUq2fvQBa"
      },
      "source": [
        "This produces output as a pandas dataframe.Alternatively we can use *OneHotEncoder()* method available in* sklearn* to convert out data to on-hot encoded data.But this method produces a sparse metrix.The advantage of this methos is that is uses very less memory/cpu resourses.\n",
        "To do that,we need to :\n",
        "- Import OneHotEncoder from sklean.preprocessing\n",
        "- Initialize the OneHotEncoder\n",
        "- Fit and then transform our data"
      ]
    },
    {
      "cell_type": "code",
      "execution_count": 17,
      "metadata": {
        "id": "Xq0ppoXFvQBb",
        "trusted": true
      },
      "outputs": [],
      "source": [
        "from sklearn.preprocessing import OneHotEncoder"
      ]
    },
    {
      "cell_type": "code",
      "execution_count": 18,
      "metadata": {
        "id": "fyV9sQ7OvQBb",
        "trusted": true
      },
      "outputs": [
        {
          "name": "stdout",
          "output_type": "stream",
          "text": [
            "train data set has got 15000 rows and 26958 columns\n",
            "CPU times: user 78.8 ms, sys: 21 μs, total: 78.8 ms\n",
            "Wall time: 77.9 ms\n"
          ]
        }
      ],
      "source": [
        "%%time\n",
        "\n",
        "one=OneHotEncoder()\n",
        "\n",
        "one.fit(X)\n",
        "train=one.transform(X)\n",
        "\n",
        "print('train data set has got {} rows and {} columns'.format(train.shape[0],train.shape[1]))\n",
        "\n"
      ]
    },
    {
      "cell_type": "code",
      "execution_count": 19,
      "metadata": {
        "id": "kRkrZB6YvQBb",
        "trusted": true
      },
      "outputs": [
        {
          "name": "stdout",
          "output_type": "stream",
          "text": [
            "Accuracy :  0.745\n"
          ]
        }
      ],
      "source": [
        "logistic(train,y)"
      ]
    },
    {
      "cell_type": "markdown",
      "metadata": {
        "id": "HkYPSDcFvQBb"
      },
      "source": [
        "## Method 3 : Feature hashing (a.k.a the hashing trick)  <a id='3'></a>"
      ]
    },
    {
      "cell_type": "markdown",
      "metadata": {},
      "source": [
        "Dictionaries take up a large amount of storage space and grow in size as the training set grows. Instead of growing the vectors along with a dictionary, feature hashing builds a vector of pre-defined length by applying a hash function to the features (e.g tokens), then using the hash values directly as feature indices and updating the resulting vector at those indices. When the feature space is not large enough, hashing functions tend to map distinct values to the same hash code (collisions). As a result, it is impossible to determine what object generated by particular hash code.\n",
        "\n",
        "Because of the above it is impossible to recover the original tokens from the feature matrix and the best approach to estimate the number of unique terms in the original dictionary is to count the number of active columns in the encoded feature matrix.\n",
        "\n",
        "For more information, please see [here](https://scikit-learn.org/stable/auto_examples/text/plot_hashing_vs_dict_vectorizer.html#sphx-glr-auto-examples-text-plot-hashing-vs-dict-vectorizer-py)."
      ]
    },
    {
      "cell_type": "markdown",
      "metadata": {
        "id": "Tzo7WYdVvQBb"
      },
      "source": [
        "Feature hashing is a technique to represent categories in a “one hot encoding style” as a sparse matrix but with a much lower dimensions. In feature hashing we apply a hashing function to the category and then represent it by its indices. for example, if we choose a dimension of 5 to represent “New York” we will calculate H(New York) mod 5 = 3 (for example) so New York representation will be (0,0,1,0,0)."
      ]
    },
    {
      "cell_type": "code",
      "execution_count": 20,
      "metadata": {
        "id": "j6qE0wDxvQBd",
        "trusted": true
      },
      "outputs": [],
      "source": [
        "from sklearn.feature_extraction import FeatureHasher"
      ]
    },
    {
      "cell_type": "code",
      "execution_count": 21,
      "metadata": {},
      "outputs": [
        {
          "data": {
            "text/plain": [
              "array([[ 0.,  0., -4., -1.,  0.,  0.,  0.,  0.,  0.,  2.],\n",
              "       [ 0.,  0.,  0., -2., -5.,  0.,  0.,  0.,  0.,  0.]])"
            ]
          },
          "execution_count": 21,
          "metadata": {},
          "output_type": "execute_result"
        }
      ],
      "source": [
        "h = FeatureHasher(n_features=10)\n",
        "D = [{'dog': 1, 'cat':2, 'elephant':4},{'dog': 2, 'run': 5}]\n",
        "f = h.fit_transform(D)\n",
        "f.toarray()"
      ]
    },
    {
      "cell_type": "markdown",
      "metadata": {},
      "source": [
        "With <code>input_type=\"string\"</code>, the input must be an iterable over iterables of strings."
      ]
    },
    {
      "cell_type": "code",
      "execution_count": 22,
      "metadata": {},
      "outputs": [
        {
          "data": {
            "text/plain": [
              "array([[ 0.,  0.,  0., -1.,  0., -1.,  0.,  1.],\n",
              "       [ 0.,  0.,  0., -1.,  0., -1.,  0.,  0.],\n",
              "       [ 0., -1.,  0.,  0.,  0.,  0.,  0.,  1.]])"
            ]
          },
          "execution_count": 22,
          "metadata": {},
          "output_type": "execute_result"
        }
      ],
      "source": [
        "h = FeatureHasher(n_features=8, input_type=\"string\")\n",
        "raw_X = [[\"dog\", \"cat\", \"snake\"], [\"snake\", \"dog\"], [\"cat\", \"bird\"]]\n",
        "f = h.fit_transform(raw_X)\n",
        "f.toarray()"
      ]
    },
    {
      "cell_type": "code",
      "execution_count": 23,
      "metadata": {
        "id": "jVAhRMeSvQBd",
        "trusted": true
      },
      "outputs": [
        {
          "name": "stdout",
          "output_type": "stream",
          "text": [
            "CPU times: user 263 ms, sys: 1.21 ms, total: 264 ms\n",
            "Wall time: 78.4 ms\n"
          ]
        }
      ],
      "source": [
        "%%time\n",
        "\n",
        "X_train_hash=X.copy()\n",
        "for c in X.columns:\n",
        "    X_train_hash[c]=X[c].astype('str')\n",
        "hashing=FeatureHasher(n_features=100, input_type='string') # default number of features is 1048576 (2 ** 20)\n",
        "train=hashing.transform(X_train_hash.values)"
      ]
    },
    {
      "cell_type": "code",
      "execution_count": 24,
      "metadata": {
        "id": "JeIjrNb8vQBe",
        "trusted": true
      },
      "outputs": [
        {
          "name": "stdout",
          "output_type": "stream",
          "text": [
            "train data set has got 15000 rows and 100 columns\n"
          ]
        }
      ],
      "source": [
        "print('train data set has got {} rows and {} columns'.format(train.shape[0],train.shape[1]))"
      ]
    },
    {
      "cell_type": "code",
      "execution_count": 25,
      "metadata": {
        "id": "dHX69ls2vQBe",
        "trusted": true
      },
      "outputs": [
        {
          "name": "stdout",
          "output_type": "stream",
          "text": [
            "Accuracy :  0.6966666666666667\n"
          ]
        }
      ],
      "source": [
        "logistic(train,y)"
      ]
    },
    {
      "cell_type": "markdown",
      "metadata": {
        "id": "f0e0TBpvvQBe"
      },
      "source": [
        "## Method 4 :Encoding categories with dataset statistics  <a id='4'></a>"
      ]
    },
    {
      "cell_type": "markdown",
      "metadata": {
        "id": "cGaa5pkNvQBe"
      },
      "source": [
        " Now we will try to give our models a numeric representation for every category with a small number of columns but with an encoding that will put similar categories close to each other. The easiest way to do it is replace every category with the number of times that we saw it in the dataset. This way if New York and New Jersey are both big cities, they will probably both appear many times in our dataset and the model will know that they are similar."
      ]
    },
    {
      "cell_type": "code",
      "execution_count": 26,
      "metadata": {
        "id": "7Hog879OvQBt",
        "trusted": true
      },
      "outputs": [
        {
          "name": "stdout",
          "output_type": "stream",
          "text": [
            "CPU times: user 3.68 s, sys: 2 ms, total: 3.68 s\n",
            "Wall time: 66.4 ms\n"
          ]
        }
      ],
      "source": [
        "%%time\n",
        "\n",
        "X_train_stat = X.copy()\n",
        "for c in X_train_stat.columns:\n",
        "    if X_train_stat[c].dtype == 'object':\n",
        "        # Get value counts for the column\n",
        "        counts = X_train_stat[c].value_counts()\n",
        "        # Add small random noise to break ties\n",
        "        counts = counts + np.random.rand(len(counts))/1000\n",
        "        # Map the values directly using the counts\n",
        "        X_train_stat[c] = X_train_stat[c].map(counts)"
      ]
    },
    {
      "cell_type": "code",
      "execution_count": 27,
      "metadata": {
        "id": "0cFZypgbvQBt",
        "trusted": true
      },
      "outputs": [
        {
          "data": {
            "application/vnd.microsoft.datawrangler.viewer.v0+json": {
              "columns": [
                {
                  "name": "index",
                  "rawType": "int64",
                  "type": "integer"
                },
                {
                  "name": "id",
                  "rawType": "int64",
                  "type": "integer"
                },
                {
                  "name": "bin_0",
                  "rawType": "int64",
                  "type": "integer"
                },
                {
                  "name": "bin_1",
                  "rawType": "int64",
                  "type": "integer"
                },
                {
                  "name": "bin_2",
                  "rawType": "int64",
                  "type": "integer"
                },
                {
                  "name": "bin_3",
                  "rawType": "float64",
                  "type": "float"
                },
                {
                  "name": "bin_4",
                  "rawType": "float64",
                  "type": "float"
                },
                {
                  "name": "nom_0",
                  "rawType": "float64",
                  "type": "float"
                },
                {
                  "name": "nom_1",
                  "rawType": "float64",
                  "type": "float"
                },
                {
                  "name": "nom_2",
                  "rawType": "float64",
                  "type": "float"
                },
                {
                  "name": "nom_3",
                  "rawType": "float64",
                  "type": "float"
                },
                {
                  "name": "nom_4",
                  "rawType": "float64",
                  "type": "float"
                },
                {
                  "name": "nom_5",
                  "rawType": "float64",
                  "type": "float"
                },
                {
                  "name": "nom_6",
                  "rawType": "float64",
                  "type": "float"
                },
                {
                  "name": "nom_7",
                  "rawType": "float64",
                  "type": "float"
                },
                {
                  "name": "nom_8",
                  "rawType": "float64",
                  "type": "float"
                },
                {
                  "name": "nom_9",
                  "rawType": "float64",
                  "type": "float"
                },
                {
                  "name": "ord_0",
                  "rawType": "int64",
                  "type": "integer"
                },
                {
                  "name": "ord_1",
                  "rawType": "float64",
                  "type": "float"
                },
                {
                  "name": "ord_2",
                  "rawType": "float64",
                  "type": "float"
                },
                {
                  "name": "ord_3",
                  "rawType": "float64",
                  "type": "float"
                },
                {
                  "name": "ord_4",
                  "rawType": "float64",
                  "type": "float"
                },
                {
                  "name": "ord_5",
                  "rawType": "float64",
                  "type": "float"
                },
                {
                  "name": "day",
                  "rawType": "int64",
                  "type": "integer"
                },
                {
                  "name": "month",
                  "rawType": "int64",
                  "type": "integer"
                }
              ],
              "ref": "537b7b0b-d4fb-473d-bb1a-f6b47d00fb68",
              "rows": [
                [
                  "0",
                  "0",
                  "0",
                  "0",
                  "0",
                  "7706.0000551214325",
                  "9570.000156044429",
                  "6353.000335251794",
                  "1497.0009010203091",
                  "2285.0006434129286",
                  "1852.0001861799574",
                  "3440.000518627684",
                  "128.00027728272852",
                  "48.000147999057155",
                  "16.00034335507786",
                  "11.000393119891202",
                  "2.0006627931035794",
                  "2",
                  "3846.00019897372",
                  "1653.0005344234382",
                  "1280.0003770401124",
                  "178.00020318319216",
                  "23.000168100691372",
                  "2",
                  "2"
                ],
                [
                  "1",
                  "1",
                  "0",
                  "1",
                  "0",
                  "7706.0000551214325",
                  "9570.000156044429",
                  "6353.000335251794",
                  "5096.000497368152",
                  "1467.000168275105",
                  "5043.000100001052",
                  "4094.0008456273727",
                  "38.00039256424753",
                  "44.00043974597562",
                  "10.000882595639206",
                  "6.000388675817642",
                  "2.0006829166561584",
                  "1",
                  "3846.00019897372",
                  "1128.0001700994233",
                  "1777.0002791829277",
                  "929.0002256984661",
                  "118.00024374099033",
                  "7",
                  "8"
                ],
                [
                  "2",
                  "2",
                  "0",
                  "0",
                  "0",
                  "7294.000350973931",
                  "9570.000156044429",
                  "4813.000297094238",
                  "5096.000497368152",
                  "5169.000506567853",
                  "5043.000100001052",
                  "2789.0008670034545",
                  "134.0007058638983",
                  "47.00072863200575",
                  "30.000436605867574",
                  "18.00011752119331",
                  "3.0009822136390456",
                  "1",
                  "1200.0004664097087",
                  "3208.0008331557738",
                  "1280.0003770401124",
                  "840.0005402379272",
                  "143.0008701864795",
                  "7",
                  "2"
                ]
              ],
              "shape": {
                "columns": 24,
                "rows": 3
              }
            },
            "text/html": [
              "<div>\n",
              "<style scoped>\n",
              "    .dataframe tbody tr th:only-of-type {\n",
              "        vertical-align: middle;\n",
              "    }\n",
              "\n",
              "    .dataframe tbody tr th {\n",
              "        vertical-align: top;\n",
              "    }\n",
              "\n",
              "    .dataframe thead th {\n",
              "        text-align: right;\n",
              "    }\n",
              "</style>\n",
              "<table border=\"1\" class=\"dataframe\">\n",
              "  <thead>\n",
              "    <tr style=\"text-align: right;\">\n",
              "      <th></th>\n",
              "      <th>id</th>\n",
              "      <th>bin_0</th>\n",
              "      <th>bin_1</th>\n",
              "      <th>bin_2</th>\n",
              "      <th>bin_3</th>\n",
              "      <th>bin_4</th>\n",
              "      <th>nom_0</th>\n",
              "      <th>nom_1</th>\n",
              "      <th>nom_2</th>\n",
              "      <th>nom_3</th>\n",
              "      <th>...</th>\n",
              "      <th>nom_8</th>\n",
              "      <th>nom_9</th>\n",
              "      <th>ord_0</th>\n",
              "      <th>ord_1</th>\n",
              "      <th>ord_2</th>\n",
              "      <th>ord_3</th>\n",
              "      <th>ord_4</th>\n",
              "      <th>ord_5</th>\n",
              "      <th>day</th>\n",
              "      <th>month</th>\n",
              "    </tr>\n",
              "  </thead>\n",
              "  <tbody>\n",
              "    <tr>\n",
              "      <th>0</th>\n",
              "      <td>0</td>\n",
              "      <td>0</td>\n",
              "      <td>0</td>\n",
              "      <td>0</td>\n",
              "      <td>7706.000055</td>\n",
              "      <td>9570.000156</td>\n",
              "      <td>6353.000335</td>\n",
              "      <td>1497.000901</td>\n",
              "      <td>2285.000643</td>\n",
              "      <td>1852.000186</td>\n",
              "      <td>...</td>\n",
              "      <td>11.000393</td>\n",
              "      <td>2.000663</td>\n",
              "      <td>2</td>\n",
              "      <td>3846.000199</td>\n",
              "      <td>1653.000534</td>\n",
              "      <td>1280.000377</td>\n",
              "      <td>178.000203</td>\n",
              "      <td>23.000168</td>\n",
              "      <td>2</td>\n",
              "      <td>2</td>\n",
              "    </tr>\n",
              "    <tr>\n",
              "      <th>1</th>\n",
              "      <td>1</td>\n",
              "      <td>0</td>\n",
              "      <td>1</td>\n",
              "      <td>0</td>\n",
              "      <td>7706.000055</td>\n",
              "      <td>9570.000156</td>\n",
              "      <td>6353.000335</td>\n",
              "      <td>5096.000497</td>\n",
              "      <td>1467.000168</td>\n",
              "      <td>5043.000100</td>\n",
              "      <td>...</td>\n",
              "      <td>6.000389</td>\n",
              "      <td>2.000683</td>\n",
              "      <td>1</td>\n",
              "      <td>3846.000199</td>\n",
              "      <td>1128.000170</td>\n",
              "      <td>1777.000279</td>\n",
              "      <td>929.000226</td>\n",
              "      <td>118.000244</td>\n",
              "      <td>7</td>\n",
              "      <td>8</td>\n",
              "    </tr>\n",
              "    <tr>\n",
              "      <th>2</th>\n",
              "      <td>2</td>\n",
              "      <td>0</td>\n",
              "      <td>0</td>\n",
              "      <td>0</td>\n",
              "      <td>7294.000351</td>\n",
              "      <td>9570.000156</td>\n",
              "      <td>4813.000297</td>\n",
              "      <td>5096.000497</td>\n",
              "      <td>5169.000507</td>\n",
              "      <td>5043.000100</td>\n",
              "      <td>...</td>\n",
              "      <td>18.000118</td>\n",
              "      <td>3.000982</td>\n",
              "      <td>1</td>\n",
              "      <td>1200.000466</td>\n",
              "      <td>3208.000833</td>\n",
              "      <td>1280.000377</td>\n",
              "      <td>840.000540</td>\n",
              "      <td>143.000870</td>\n",
              "      <td>7</td>\n",
              "      <td>2</td>\n",
              "    </tr>\n",
              "  </tbody>\n",
              "</table>\n",
              "<p>3 rows × 24 columns</p>\n",
              "</div>"
            ],
            "text/plain": [
              "   id  bin_0  bin_1  bin_2        bin_3        bin_4        nom_0  \\\n",
              "0   0      0      0      0  7706.000055  9570.000156  6353.000335   \n",
              "1   1      0      1      0  7706.000055  9570.000156  6353.000335   \n",
              "2   2      0      0      0  7294.000351  9570.000156  4813.000297   \n",
              "\n",
              "         nom_1        nom_2        nom_3  ...      nom_8     nom_9  ord_0  \\\n",
              "0  1497.000901  2285.000643  1852.000186  ...  11.000393  2.000663      2   \n",
              "1  5096.000497  1467.000168  5043.000100  ...   6.000389  2.000683      1   \n",
              "2  5096.000497  5169.000507  5043.000100  ...  18.000118  3.000982      1   \n",
              "\n",
              "         ord_1        ord_2        ord_3       ord_4       ord_5  day  month  \n",
              "0  3846.000199  1653.000534  1280.000377  178.000203   23.000168    2      2  \n",
              "1  3846.000199  1128.000170  1777.000279  929.000226  118.000244    7      8  \n",
              "2  1200.000466  3208.000833  1280.000377  840.000540  143.000870    7      2  \n",
              "\n",
              "[3 rows x 24 columns]"
            ]
          },
          "execution_count": 27,
          "metadata": {},
          "output_type": "execute_result"
        }
      ],
      "source": [
        "X_train_stat.head(3)"
      ]
    },
    {
      "cell_type": "code",
      "execution_count": 28,
      "metadata": {
        "id": "JiTQI8kIvQBu",
        "trusted": true
      },
      "outputs": [
        {
          "name": "stdout",
          "output_type": "stream",
          "text": [
            "train data set has got 15000 rows and 24 columns\n"
          ]
        }
      ],
      "source": [
        "print('train data set has got {} rows and {} columns'.format(X_train_stat.shape[0],X_train_stat.shape[1]))"
      ]
    },
    {
      "cell_type": "code",
      "execution_count": 29,
      "metadata": {
        "id": "AZkKzAc7vQBu",
        "trusted": true
      },
      "outputs": [
        {
          "name": "stdout",
          "output_type": "stream",
          "text": [
            "Accuracy :  0.7016666666666667\n"
          ]
        }
      ],
      "source": [
        "logistic(X_train_stat,y)"
      ]
    },
    {
      "cell_type": "markdown",
      "metadata": {
        "id": "zzZKMFm5vQBu"
      },
      "source": [
        "## Encoding cyclic features  <a id='6'></a>\n",
        "![](https://miro.medium.com/max/343/1*70cevmU8wNggGJEdLam1lw.png)\n",
        "\n",
        "Some of our features are cyclic in nature.ie day,month etc.\n",
        "\n",
        "A common method for encoding cyclical data is to transform the data into two dimensions using a sine and consine transformation.\n",
        "\n"
      ]
    },
    {
      "cell_type": "code",
      "execution_count": 30,
      "metadata": {
        "id": "oe6P2edtvQBu",
        "trusted": true
      },
      "outputs": [
        {
          "name": "stdout",
          "output_type": "stream",
          "text": [
            "CPU times: user 99.2 ms, sys: 0 ns, total: 99.2 ms\n",
            "Wall time: 10.3 ms\n"
          ]
        },
        {
          "data": {
            "application/vnd.microsoft.datawrangler.viewer.v0+json": {
              "columns": [
                {
                  "name": "index",
                  "rawType": "int64",
                  "type": "integer"
                },
                {
                  "name": "day_sin",
                  "rawType": "float64",
                  "type": "float"
                },
                {
                  "name": "day_cos",
                  "rawType": "float64",
                  "type": "float"
                }
              ],
              "ref": "439cbe8b-f6b4-490f-b525-be76e6a999a6",
              "rows": [
                [
                  "0",
                  "0.9749279121818236",
                  "-0.22252093395631434"
                ],
                [
                  "1",
                  "-2.4492935982947064e-16",
                  "1.0"
                ],
                [
                  "2",
                  "-2.4492935982947064e-16",
                  "1.0"
                ]
              ],
              "shape": {
                "columns": 2,
                "rows": 3
              }
            },
            "text/html": [
              "<div>\n",
              "<style scoped>\n",
              "    .dataframe tbody tr th:only-of-type {\n",
              "        vertical-align: middle;\n",
              "    }\n",
              "\n",
              "    .dataframe tbody tr th {\n",
              "        vertical-align: top;\n",
              "    }\n",
              "\n",
              "    .dataframe thead th {\n",
              "        text-align: right;\n",
              "    }\n",
              "</style>\n",
              "<table border=\"1\" class=\"dataframe\">\n",
              "  <thead>\n",
              "    <tr style=\"text-align: right;\">\n",
              "      <th></th>\n",
              "      <th>day_sin</th>\n",
              "      <th>day_cos</th>\n",
              "    </tr>\n",
              "  </thead>\n",
              "  <tbody>\n",
              "    <tr>\n",
              "      <th>0</th>\n",
              "      <td>9.749279e-01</td>\n",
              "      <td>-0.222521</td>\n",
              "    </tr>\n",
              "    <tr>\n",
              "      <th>1</th>\n",
              "      <td>-2.449294e-16</td>\n",
              "      <td>1.000000</td>\n",
              "    </tr>\n",
              "    <tr>\n",
              "      <th>2</th>\n",
              "      <td>-2.449294e-16</td>\n",
              "      <td>1.000000</td>\n",
              "    </tr>\n",
              "  </tbody>\n",
              "</table>\n",
              "</div>"
            ],
            "text/plain": [
              "        day_sin   day_cos\n",
              "0  9.749279e-01 -0.222521\n",
              "1 -2.449294e-16  1.000000\n",
              "2 -2.449294e-16  1.000000"
            ]
          },
          "execution_count": 30,
          "metadata": {},
          "output_type": "execute_result"
        }
      ],
      "source": [
        "%%time\n",
        "\n",
        "X_train_cyclic=X.copy()\n",
        "columns=['day','month']\n",
        "for col in columns:\n",
        "    X_train_cyclic[col+'_sin']=np.sin((2*np.pi*X_train_cyclic[col])/max(X_train_cyclic[col]))\n",
        "    X_train_cyclic[col+'_cos']=np.cos((2*np.pi*X_train_cyclic[col])/max(X_train_cyclic[col]))\n",
        "X_train_cyclic=X_train_cyclic.drop(columns,axis=1)\n",
        "\n",
        "X_train_cyclic[['day_sin','day_cos']].head(3)"
      ]
    },
    {
      "cell_type": "markdown",
      "metadata": {
        "id": "XRja76h9vQBv"
      },
      "source": [
        "Now we will use OnHotEncoder to encode other variables,then feed the data to our model."
      ]
    },
    {
      "cell_type": "code",
      "execution_count": 31,
      "metadata": {
        "id": "Oo79Wb3FvQBv",
        "trusted": true
      },
      "outputs": [
        {
          "name": "stdout",
          "output_type": "stream",
          "text": [
            "train data set has got 15000 rows and 26975 columns\n"
          ]
        }
      ],
      "source": [
        "one=OneHotEncoder()\n",
        "\n",
        "one.fit(X_train_cyclic)\n",
        "train=one.transform(X_train_cyclic)\n",
        "\n",
        "print('train data set has got {} rows and {} columns'.format(train.shape[0],train.shape[1]))\n"
      ]
    },
    {
      "cell_type": "code",
      "execution_count": 32,
      "metadata": {
        "id": "DrOURFSovQBv",
        "trusted": true
      },
      "outputs": [
        {
          "name": "stdout",
          "output_type": "stream",
          "text": [
            "Accuracy :  0.748\n"
          ]
        }
      ],
      "source": [
        "logistic(train,y)"
      ]
    },
    {
      "cell_type": "markdown",
      "metadata": {
        "id": "6l3ABZXRvQBv"
      },
      "source": [
        "## Method 5 : Target encoding <a id='7'></a>\n",
        "\n",
        "Target-based encoding is numerization of categorical variables via target. In this method, we replace the categorical variable with just one new numerical variable and replace each category of the categorical variable with its corresponding probability of the target (if categorical) or average of the target (if numerical). The main drawbacks of this method are its dependency to the distribution of the target, and its lower predictability power compare to the binary encoding method.\n",
        "\n",
        "for example,\n",
        "<table style=\"width : 20%\">\n",
        "    <tr>\n",
        "    <th>Country</th>\n",
        "    <th>Target</th>\n",
        "    </tr>\n",
        "    <tr>\n",
        "    <td>India</td>\n",
        "    <td>1</td>\n",
        "    </tr>\n",
        "    <tr>\n",
        "    <td>China</td>\n",
        "    <td>0</td>\n",
        "    </tr>\n",
        "    <tr>\n",
        "    <td>India</td>\n",
        "    <td>0</td>\n",
        "    </tr>\n",
        "    <tr>\n",
        "    <td>China</td>\n",
        "    <td>1</td>\n",
        "    </tr>\n",
        "    </tr>\n",
        "    <tr>\n",
        "    <td>India</td>\n",
        "    <td>1</td>\n",
        "    </tr>\n",
        "</table>\n",
        "\n"
      ]
    },
    {
      "cell_type": "markdown",
      "metadata": {
        "id": "kBWE6UTDvQBv"
      },
      "source": [
        "Encoding for India = [Number of true targets under the label India/ Total Number of targets under the label India]\n",
        "which is 2/3 = 0.66\n",
        "\n",
        "<table style=\"width : 20%\">\n",
        "    <tr>\n",
        "    <th>Country</th>\n",
        "    <th>Target</th>\n",
        "    </tr>\n",
        "    <tr>\n",
        "    <td>India</td>\n",
        "    <td>0.66</td>\n",
        "    </tr>\n",
        "    <tr>\n",
        "    <td>China</td>\n",
        "    <td>0.5</td>\n",
        "    </tr>\n",
        "</table>\n",
        "\n"
      ]
    },
    {
      "cell_type": "code",
      "execution_count": 33,
      "metadata": {
        "id": "gaPiBKQYvQBw",
        "trusted": true
      },
      "outputs": [
        {
          "name": "stdout",
          "output_type": "stream",
          "text": [
            "CPU times: user 4.63 s, sys: 2.29 ms, total: 4.63 s\n",
            "Wall time: 3.16 s\n"
          ]
        },
        {
          "data": {
            "application/vnd.microsoft.datawrangler.viewer.v0+json": {
              "columns": [
                {
                  "name": "index",
                  "rawType": "int64",
                  "type": "integer"
                },
                {
                  "name": "id",
                  "rawType": "int64",
                  "type": "integer"
                },
                {
                  "name": "bin_0",
                  "rawType": "int64",
                  "type": "integer"
                },
                {
                  "name": "bin_1",
                  "rawType": "int64",
                  "type": "integer"
                },
                {
                  "name": "bin_2",
                  "rawType": "int64",
                  "type": "integer"
                },
                {
                  "name": "bin_3",
                  "rawType": "float64",
                  "type": "float"
                },
                {
                  "name": "bin_4",
                  "rawType": "float64",
                  "type": "float"
                },
                {
                  "name": "nom_0",
                  "rawType": "float64",
                  "type": "float"
                },
                {
                  "name": "nom_1",
                  "rawType": "float64",
                  "type": "float"
                },
                {
                  "name": "nom_2",
                  "rawType": "float64",
                  "type": "float"
                },
                {
                  "name": "nom_3",
                  "rawType": "float64",
                  "type": "float"
                },
                {
                  "name": "nom_4",
                  "rawType": "float64",
                  "type": "float"
                },
                {
                  "name": "nom_5",
                  "rawType": "float64",
                  "type": "float"
                },
                {
                  "name": "nom_6",
                  "rawType": "float64",
                  "type": "float"
                },
                {
                  "name": "nom_7",
                  "rawType": "float64",
                  "type": "float"
                },
                {
                  "name": "nom_8",
                  "rawType": "float64",
                  "type": "float"
                },
                {
                  "name": "nom_9",
                  "rawType": "float64",
                  "type": "float"
                },
                {
                  "name": "ord_0",
                  "rawType": "int64",
                  "type": "integer"
                },
                {
                  "name": "ord_1",
                  "rawType": "float64",
                  "type": "float"
                },
                {
                  "name": "ord_2",
                  "rawType": "float64",
                  "type": "float"
                },
                {
                  "name": "ord_3",
                  "rawType": "float64",
                  "type": "float"
                },
                {
                  "name": "ord_4",
                  "rawType": "float64",
                  "type": "float"
                },
                {
                  "name": "ord_5",
                  "rawType": "float64",
                  "type": "float"
                },
                {
                  "name": "day",
                  "rawType": "float64",
                  "type": "float"
                },
                {
                  "name": "month",
                  "rawType": "float64",
                  "type": "float"
                },
                {
                  "name": "target",
                  "rawType": "int64",
                  "type": "integer"
                }
              ],
              "ref": "96a93268-4390-4c8e-8f0b-3250a97fec80",
              "rows": [
                [
                  "0",
                  "0",
                  "0",
                  "0",
                  "0",
                  "0.30132364391383337",
                  "0.28913270637408567",
                  "0.3207933259877223",
                  "0.3527054108216433",
                  "0.30459518599562363",
                  "0.24298056155507558",
                  "0.24069767441860465",
                  "0.3984375",
                  "0.22916666666666666",
                  "0.1875",
                  "0.36363636363636365",
                  "0.0",
                  "2",
                  "0.3965158606344254",
                  "0.25287356321839083",
                  "0.30078125",
                  "0.2247191011235955",
                  "0.30434782608695654",
                  "0.3143919277748274",
                  "0.2506573181419807",
                  "0"
                ],
                [
                  "1",
                  "1",
                  "0",
                  "1",
                  "0",
                  "0.30132364391383337",
                  "0.28913270637408567",
                  "0.3207933259877223",
                  "0.28924646781789637",
                  "0.3619631901840491",
                  "0.29307951616101524",
                  "0.29115779189057156",
                  "0.42105263157894735",
                  "0.2727272727272727",
                  "0.4",
                  "0.16666666666666666",
                  "0.0",
                  "1",
                  "0.3965158606344254",
                  "0.3173758865248227",
                  "0.208778840742825",
                  "0.18514531754574812",
                  "0.3728813559322034",
                  "0.34057971014492755",
                  "0.3453815261044177",
                  "0"
                ],
                [
                  "2",
                  "2",
                  "0",
                  "0",
                  "0",
                  "0.3050452426652043",
                  "0.28913270637408567",
                  "0.24475379181383752",
                  "0.28924646781789637",
                  "0.2832269297736506",
                  "0.29307951616101524",
                  "0.35532448906418074",
                  "0.29850746268656714",
                  "0.19148936170212766",
                  "0.2",
                  "0.1111111111111111",
                  "0.0",
                  "1",
                  "0.30083333333333334",
                  "0.39432668329177056",
                  "0.30078125",
                  "0.3630952380952381",
                  "0.17482517482517482",
                  "0.34057971014492755",
                  "0.2506573181419807",
                  "0"
                ],
                [
                  "3",
                  "3",
                  "0",
                  "1",
                  "0",
                  "0.3050452426652043",
                  "0.28913270637408567",
                  "0.3471570161711007",
                  "0.28924646781789637",
                  "0.30459518599562363",
                  "0.3376828786081455",
                  "0.32841565105837073",
                  "0.3125",
                  "0.40350877192982454",
                  "0.36",
                  "1.0",
                  "0.5",
                  "1",
                  "0.3965158606344254",
                  "0.36109303838646717",
                  "0.3193570929419986",
                  "0.2247191011235955",
                  "0.31297709923664124",
                  "0.3143919277748274",
                  "0.24033696729435083",
                  "1"
                ]
              ],
              "shape": {
                "columns": 25,
                "rows": 4
              }
            },
            "text/html": [
              "<div>\n",
              "<style scoped>\n",
              "    .dataframe tbody tr th:only-of-type {\n",
              "        vertical-align: middle;\n",
              "    }\n",
              "\n",
              "    .dataframe tbody tr th {\n",
              "        vertical-align: top;\n",
              "    }\n",
              "\n",
              "    .dataframe thead th {\n",
              "        text-align: right;\n",
              "    }\n",
              "</style>\n",
              "<table border=\"1\" class=\"dataframe\">\n",
              "  <thead>\n",
              "    <tr style=\"text-align: right;\">\n",
              "      <th></th>\n",
              "      <th>id</th>\n",
              "      <th>bin_0</th>\n",
              "      <th>bin_1</th>\n",
              "      <th>bin_2</th>\n",
              "      <th>bin_3</th>\n",
              "      <th>bin_4</th>\n",
              "      <th>nom_0</th>\n",
              "      <th>nom_1</th>\n",
              "      <th>nom_2</th>\n",
              "      <th>nom_3</th>\n",
              "      <th>...</th>\n",
              "      <th>nom_9</th>\n",
              "      <th>ord_0</th>\n",
              "      <th>ord_1</th>\n",
              "      <th>ord_2</th>\n",
              "      <th>ord_3</th>\n",
              "      <th>ord_4</th>\n",
              "      <th>ord_5</th>\n",
              "      <th>day</th>\n",
              "      <th>month</th>\n",
              "      <th>target</th>\n",
              "    </tr>\n",
              "  </thead>\n",
              "  <tbody>\n",
              "    <tr>\n",
              "      <th>0</th>\n",
              "      <td>0</td>\n",
              "      <td>0</td>\n",
              "      <td>0</td>\n",
              "      <td>0</td>\n",
              "      <td>0.301324</td>\n",
              "      <td>0.289133</td>\n",
              "      <td>0.320793</td>\n",
              "      <td>0.352705</td>\n",
              "      <td>0.304595</td>\n",
              "      <td>0.242981</td>\n",
              "      <td>...</td>\n",
              "      <td>0.0</td>\n",
              "      <td>2</td>\n",
              "      <td>0.396516</td>\n",
              "      <td>0.252874</td>\n",
              "      <td>0.300781</td>\n",
              "      <td>0.224719</td>\n",
              "      <td>0.304348</td>\n",
              "      <td>0.314392</td>\n",
              "      <td>0.250657</td>\n",
              "      <td>0</td>\n",
              "    </tr>\n",
              "    <tr>\n",
              "      <th>1</th>\n",
              "      <td>1</td>\n",
              "      <td>0</td>\n",
              "      <td>1</td>\n",
              "      <td>0</td>\n",
              "      <td>0.301324</td>\n",
              "      <td>0.289133</td>\n",
              "      <td>0.320793</td>\n",
              "      <td>0.289246</td>\n",
              "      <td>0.361963</td>\n",
              "      <td>0.293080</td>\n",
              "      <td>...</td>\n",
              "      <td>0.0</td>\n",
              "      <td>1</td>\n",
              "      <td>0.396516</td>\n",
              "      <td>0.317376</td>\n",
              "      <td>0.208779</td>\n",
              "      <td>0.185145</td>\n",
              "      <td>0.372881</td>\n",
              "      <td>0.340580</td>\n",
              "      <td>0.345382</td>\n",
              "      <td>0</td>\n",
              "    </tr>\n",
              "    <tr>\n",
              "      <th>2</th>\n",
              "      <td>2</td>\n",
              "      <td>0</td>\n",
              "      <td>0</td>\n",
              "      <td>0</td>\n",
              "      <td>0.305045</td>\n",
              "      <td>0.289133</td>\n",
              "      <td>0.244754</td>\n",
              "      <td>0.289246</td>\n",
              "      <td>0.283227</td>\n",
              "      <td>0.293080</td>\n",
              "      <td>...</td>\n",
              "      <td>0.0</td>\n",
              "      <td>1</td>\n",
              "      <td>0.300833</td>\n",
              "      <td>0.394327</td>\n",
              "      <td>0.300781</td>\n",
              "      <td>0.363095</td>\n",
              "      <td>0.174825</td>\n",
              "      <td>0.340580</td>\n",
              "      <td>0.250657</td>\n",
              "      <td>0</td>\n",
              "    </tr>\n",
              "    <tr>\n",
              "      <th>3</th>\n",
              "      <td>3</td>\n",
              "      <td>0</td>\n",
              "      <td>1</td>\n",
              "      <td>0</td>\n",
              "      <td>0.305045</td>\n",
              "      <td>0.289133</td>\n",
              "      <td>0.347157</td>\n",
              "      <td>0.289246</td>\n",
              "      <td>0.304595</td>\n",
              "      <td>0.337683</td>\n",
              "      <td>...</td>\n",
              "      <td>0.5</td>\n",
              "      <td>1</td>\n",
              "      <td>0.396516</td>\n",
              "      <td>0.361093</td>\n",
              "      <td>0.319357</td>\n",
              "      <td>0.224719</td>\n",
              "      <td>0.312977</td>\n",
              "      <td>0.314392</td>\n",
              "      <td>0.240337</td>\n",
              "      <td>1</td>\n",
              "    </tr>\n",
              "  </tbody>\n",
              "</table>\n",
              "<p>4 rows × 25 columns</p>\n",
              "</div>"
            ],
            "text/plain": [
              "   id  bin_0  bin_1  bin_2     bin_3     bin_4     nom_0     nom_1     nom_2  \\\n",
              "0   0      0      0      0  0.301324  0.289133  0.320793  0.352705  0.304595   \n",
              "1   1      0      1      0  0.301324  0.289133  0.320793  0.289246  0.361963   \n",
              "2   2      0      0      0  0.305045  0.289133  0.244754  0.289246  0.283227   \n",
              "3   3      0      1      0  0.305045  0.289133  0.347157  0.289246  0.304595   \n",
              "\n",
              "      nom_3  ...  nom_9  ord_0     ord_1     ord_2     ord_3     ord_4  \\\n",
              "0  0.242981  ...    0.0      2  0.396516  0.252874  0.300781  0.224719   \n",
              "1  0.293080  ...    0.0      1  0.396516  0.317376  0.208779  0.185145   \n",
              "2  0.293080  ...    0.0      1  0.300833  0.394327  0.300781  0.363095   \n",
              "3  0.337683  ...    0.5      1  0.396516  0.361093  0.319357  0.224719   \n",
              "\n",
              "      ord_5       day     month  target  \n",
              "0  0.304348  0.314392  0.250657       0  \n",
              "1  0.372881  0.340580  0.345382       0  \n",
              "2  0.174825  0.340580  0.250657       0  \n",
              "3  0.312977  0.314392  0.240337       1  \n",
              "\n",
              "[4 rows x 25 columns]"
            ]
          },
          "execution_count": 33,
          "metadata": {},
          "output_type": "execute_result"
        }
      ],
      "source": [
        "%%time\n",
        "\n",
        "X_target=df_train.copy()\n",
        "X_target['day']=X_target['day'].astype('object')\n",
        "X_target['month']=X_target['month'].astype('object')\n",
        "for col in X_target.columns:\n",
        "    if (X_target[col].dtype=='object'):\n",
        "        target= dict ( X_target.groupby(col)['target'].agg('sum')/X_target.groupby(col)['target'].agg('count'))\n",
        "        X_target[col]=X_target[col].replace(target).values\n",
        "\n",
        "\n",
        "\n",
        "\n",
        "X_target.head(4)"
      ]
    },
    {
      "cell_type": "code",
      "execution_count": 34,
      "metadata": {
        "id": "ihz9bLS2vQBw",
        "trusted": true
      },
      "outputs": [
        {
          "name": "stdout",
          "output_type": "stream",
          "text": [
            "Accuracy :  0.7016666666666667\n"
          ]
        }
      ],
      "source": [
        "logistic(X_target.drop('target',axis=1),y)"
      ]
    },
    {
      "cell_type": "markdown",
      "metadata": {
        "id": "Fw77b54lvQBw"
      },
      "source": [
        "### K-Fold target encoding <a id='8' ></a>\n",
        "\n",
        "k-fold target encoding can be applied to reduce the overfitting. In this method, we divide the dataset into the k-folds, here we consider 5 folds. Fig.3 shows the first round of the 5 fold cross-validation. We calculate mean-target for fold 2, 3, 4 and 5 and we use the calculated values, mean_A = 0.556 and mean_B = 0.285 to estimate mean encoding for the fold-1."
      ]
    },
    {
      "cell_type": "markdown",
      "metadata": {
        "id": "OafxD0kdvQBw"
      },
      "source": [
        "![](https://miro.medium.com/max/1955/1*ZKD4eZXzd_FdN0SQDszFVQ.png)"
      ]
    },
    {
      "cell_type": "code",
      "execution_count": 35,
      "metadata": {
        "id": "Kd5xEZ8svQBw",
        "trusted": true
      },
      "outputs": [],
      "source": [
        "X['target']=y\n",
        "cols=X.drop(['target','id'],axis=1).columns"
      ]
    },
    {
      "cell_type": "code",
      "execution_count": 36,
      "metadata": {
        "id": "1FlzGAHmvQBx",
        "trusted": true
      },
      "outputs": [
        {
          "name": "stdout",
          "output_type": "stream",
          "text": [
            "CPU times: user 4.34 s, sys: 1.03 ms, total: 4.34 s\n",
            "Wall time: 3.68 s\n"
          ]
        }
      ],
      "source": [
        "%%time\n",
        "\n",
        "X_fold=X.copy()\n",
        "X_fold[['ord_0','day','month']]=X_fold[['ord_0','day','month']].astype('object')\n",
        "X_fold[['bin_3','bin_4']]=X_fold[['bin_3','bin_4']].replace({'Y':1,'N':0,'T':1,\"F\":0})\n",
        "kf = KFold(n_splits = 5, shuffle = True)\n",
        "for train_ind,val_ind in kf.split(X):\n",
        "    for col in cols:\n",
        "        if(X_fold[col].dtype=='object'):\n",
        "            replaced=dict(X.iloc[train_ind][[col,'target']].groupby(col)['target'].mean())\n",
        "            X_fold.loc[val_ind,col]=X_fold.iloc[val_ind][col].replace(replaced).values\n",
        "\n"
      ]
    },
    {
      "cell_type": "code",
      "execution_count": 37,
      "metadata": {
        "id": "n2ktc8gfvQBx",
        "trusted": true
      },
      "outputs": [
        {
          "data": {
            "application/vnd.microsoft.datawrangler.viewer.v0+json": {
              "columns": [
                {
                  "name": "index",
                  "rawType": "int64",
                  "type": "integer"
                },
                {
                  "name": "id",
                  "rawType": "int64",
                  "type": "integer"
                },
                {
                  "name": "bin_0",
                  "rawType": "int64",
                  "type": "integer"
                },
                {
                  "name": "bin_1",
                  "rawType": "int64",
                  "type": "integer"
                },
                {
                  "name": "bin_2",
                  "rawType": "int64",
                  "type": "integer"
                },
                {
                  "name": "bin_3",
                  "rawType": "int64",
                  "type": "integer"
                },
                {
                  "name": "bin_4",
                  "rawType": "int64",
                  "type": "integer"
                },
                {
                  "name": "nom_0",
                  "rawType": "object",
                  "type": "unknown"
                },
                {
                  "name": "nom_1",
                  "rawType": "object",
                  "type": "unknown"
                },
                {
                  "name": "nom_2",
                  "rawType": "object",
                  "type": "unknown"
                },
                {
                  "name": "nom_3",
                  "rawType": "object",
                  "type": "unknown"
                },
                {
                  "name": "nom_4",
                  "rawType": "object",
                  "type": "unknown"
                },
                {
                  "name": "nom_5",
                  "rawType": "object",
                  "type": "unknown"
                },
                {
                  "name": "nom_6",
                  "rawType": "object",
                  "type": "unknown"
                },
                {
                  "name": "nom_7",
                  "rawType": "object",
                  "type": "unknown"
                },
                {
                  "name": "nom_8",
                  "rawType": "object",
                  "type": "unknown"
                },
                {
                  "name": "nom_9",
                  "rawType": "object",
                  "type": "unknown"
                },
                {
                  "name": "ord_0",
                  "rawType": "object",
                  "type": "unknown"
                },
                {
                  "name": "ord_1",
                  "rawType": "object",
                  "type": "unknown"
                },
                {
                  "name": "ord_2",
                  "rawType": "object",
                  "type": "unknown"
                },
                {
                  "name": "ord_3",
                  "rawType": "object",
                  "type": "unknown"
                },
                {
                  "name": "ord_4",
                  "rawType": "object",
                  "type": "unknown"
                },
                {
                  "name": "ord_5",
                  "rawType": "object",
                  "type": "unknown"
                },
                {
                  "name": "day",
                  "rawType": "object",
                  "type": "unknown"
                },
                {
                  "name": "month",
                  "rawType": "object",
                  "type": "unknown"
                },
                {
                  "name": "target",
                  "rawType": "int64",
                  "type": "integer"
                }
              ],
              "ref": "72fc558d-ed21-4705-8f06-153d41da77db",
              "rows": [
                [
                  "0",
                  "0",
                  "0",
                  "0",
                  "0",
                  "1",
                  "1",
                  "0.3243031016882607",
                  "0.3460884353741497",
                  "0.31155507559395246",
                  "0.24119601328903653",
                  "0.2437683284457478",
                  "0.3854166666666667",
                  "0.1891891891891892",
                  "0.2727272727272727",
                  "0.4",
                  "2f4cb3d51",
                  "0.3323216995447648",
                  "0.3953109736242266",
                  "0.26090225563909775",
                  "0.2876447876447876",
                  "0.2323943661971831",
                  "0.3",
                  "0.3195601466177941",
                  "0.2469545957918051",
                  "0"
                ],
                [
                  "1",
                  "1",
                  "0",
                  "1",
                  "0",
                  "1",
                  "1",
                  "0.316121403232164",
                  "0.28422619047619047",
                  "0.37103684661525277",
                  "0.29135618479880776",
                  "0.28746552252528346",
                  "0.4444444444444444",
                  "0.2857142857142857",
                  "0.5714285714285714",
                  "0.2",
                  "0.0",
                  "0.26770249617931735",
                  "0.3918032786885246",
                  "0.3314794215795328",
                  "0.20557491289198607",
                  "0.19054054054054054",
                  "0.3595505617977528",
                  "0.3353566009104704",
                  "0.3464968152866242",
                  "0"
                ],
                [
                  "2",
                  "2",
                  "0",
                  "0",
                  "0",
                  "0",
                  "1",
                  "0.24564142596929484",
                  "0.28668941979522183",
                  "0.2818840579710145",
                  "0.28578541199900426",
                  "0.35446428571428573",
                  "0.2857142857142857",
                  "0.1951219512195122",
                  "0.2631578947368421",
                  "0.07692307692307693",
                  "0.0",
                  "0.26677766393442626",
                  "0.2982832618025751",
                  "0.4014112112896903",
                  "0.3026188166828322",
                  "0.369969040247678",
                  "0.16071428571428573",
                  "0.32929598788796366",
                  "0.25013390465988217",
                  "0"
                ],
                [
                  "3",
                  "3",
                  "0",
                  "1",
                  "0",
                  "0",
                  "1",
                  "0.3507853403141361",
                  "0.28422619047619047",
                  "0.29671513193322563",
                  "0.3339824732229795",
                  "0.32404458598726116",
                  "0.26",
                  "0.4222222222222222",
                  "0.3333333333333333",
                  "1.0",
                  "0.3333333333333333",
                  "0.26770249617931735",
                  "0.3918032786885246",
                  "0.36006546644844517",
                  "0.3028169014084507",
                  "0.22535211267605634",
                  "0.32323232323232326",
                  "0.31270791749833665",
                  "0.2360939431396786",
                  "1"
                ],
                [
                  "4",
                  "4",
                  "0",
                  "0",
                  "0",
                  "0",
                  "0",
                  "0.35071707953063885",
                  "0.29474708171206226",
                  "0.2902284880894507",
                  "0.33917835671342683",
                  "0.33528628495339546",
                  "0.3116883116883117",
                  "0.35714285714285715",
                  "0.3125",
                  "0.2857142857142857",
                  "1.0",
                  "0.27238901719271236",
                  "0.3999354422207876",
                  "0.23575788402848424",
                  "0.22429906542056074",
                  "0.3518796992481203",
                  "0.39473684210526316",
                  "0.34924242424242424",
                  "0.35031055900621116",
                  "0"
                ]
              ],
              "shape": {
                "columns": 25,
                "rows": 5
              }
            },
            "text/html": [
              "<div>\n",
              "<style scoped>\n",
              "    .dataframe tbody tr th:only-of-type {\n",
              "        vertical-align: middle;\n",
              "    }\n",
              "\n",
              "    .dataframe tbody tr th {\n",
              "        vertical-align: top;\n",
              "    }\n",
              "\n",
              "    .dataframe thead th {\n",
              "        text-align: right;\n",
              "    }\n",
              "</style>\n",
              "<table border=\"1\" class=\"dataframe\">\n",
              "  <thead>\n",
              "    <tr style=\"text-align: right;\">\n",
              "      <th></th>\n",
              "      <th>id</th>\n",
              "      <th>bin_0</th>\n",
              "      <th>bin_1</th>\n",
              "      <th>bin_2</th>\n",
              "      <th>bin_3</th>\n",
              "      <th>bin_4</th>\n",
              "      <th>nom_0</th>\n",
              "      <th>nom_1</th>\n",
              "      <th>nom_2</th>\n",
              "      <th>nom_3</th>\n",
              "      <th>...</th>\n",
              "      <th>nom_9</th>\n",
              "      <th>ord_0</th>\n",
              "      <th>ord_1</th>\n",
              "      <th>ord_2</th>\n",
              "      <th>ord_3</th>\n",
              "      <th>ord_4</th>\n",
              "      <th>ord_5</th>\n",
              "      <th>day</th>\n",
              "      <th>month</th>\n",
              "      <th>target</th>\n",
              "    </tr>\n",
              "  </thead>\n",
              "  <tbody>\n",
              "    <tr>\n",
              "      <th>0</th>\n",
              "      <td>0</td>\n",
              "      <td>0</td>\n",
              "      <td>0</td>\n",
              "      <td>0</td>\n",
              "      <td>1</td>\n",
              "      <td>1</td>\n",
              "      <td>0.324303</td>\n",
              "      <td>0.346088</td>\n",
              "      <td>0.311555</td>\n",
              "      <td>0.241196</td>\n",
              "      <td>...</td>\n",
              "      <td>2f4cb3d51</td>\n",
              "      <td>0.332322</td>\n",
              "      <td>0.395311</td>\n",
              "      <td>0.260902</td>\n",
              "      <td>0.287645</td>\n",
              "      <td>0.232394</td>\n",
              "      <td>0.3</td>\n",
              "      <td>0.31956</td>\n",
              "      <td>0.246955</td>\n",
              "      <td>0</td>\n",
              "    </tr>\n",
              "    <tr>\n",
              "      <th>1</th>\n",
              "      <td>1</td>\n",
              "      <td>0</td>\n",
              "      <td>1</td>\n",
              "      <td>0</td>\n",
              "      <td>1</td>\n",
              "      <td>1</td>\n",
              "      <td>0.316121</td>\n",
              "      <td>0.284226</td>\n",
              "      <td>0.371037</td>\n",
              "      <td>0.291356</td>\n",
              "      <td>...</td>\n",
              "      <td>0.0</td>\n",
              "      <td>0.267702</td>\n",
              "      <td>0.391803</td>\n",
              "      <td>0.331479</td>\n",
              "      <td>0.205575</td>\n",
              "      <td>0.190541</td>\n",
              "      <td>0.359551</td>\n",
              "      <td>0.335357</td>\n",
              "      <td>0.346497</td>\n",
              "      <td>0</td>\n",
              "    </tr>\n",
              "    <tr>\n",
              "      <th>2</th>\n",
              "      <td>2</td>\n",
              "      <td>0</td>\n",
              "      <td>0</td>\n",
              "      <td>0</td>\n",
              "      <td>0</td>\n",
              "      <td>1</td>\n",
              "      <td>0.245641</td>\n",
              "      <td>0.286689</td>\n",
              "      <td>0.281884</td>\n",
              "      <td>0.285785</td>\n",
              "      <td>...</td>\n",
              "      <td>0.0</td>\n",
              "      <td>0.266778</td>\n",
              "      <td>0.298283</td>\n",
              "      <td>0.401411</td>\n",
              "      <td>0.302619</td>\n",
              "      <td>0.369969</td>\n",
              "      <td>0.160714</td>\n",
              "      <td>0.329296</td>\n",
              "      <td>0.250134</td>\n",
              "      <td>0</td>\n",
              "    </tr>\n",
              "    <tr>\n",
              "      <th>3</th>\n",
              "      <td>3</td>\n",
              "      <td>0</td>\n",
              "      <td>1</td>\n",
              "      <td>0</td>\n",
              "      <td>0</td>\n",
              "      <td>1</td>\n",
              "      <td>0.350785</td>\n",
              "      <td>0.284226</td>\n",
              "      <td>0.296715</td>\n",
              "      <td>0.333982</td>\n",
              "      <td>...</td>\n",
              "      <td>0.333333</td>\n",
              "      <td>0.267702</td>\n",
              "      <td>0.391803</td>\n",
              "      <td>0.360065</td>\n",
              "      <td>0.302817</td>\n",
              "      <td>0.225352</td>\n",
              "      <td>0.323232</td>\n",
              "      <td>0.312708</td>\n",
              "      <td>0.236094</td>\n",
              "      <td>1</td>\n",
              "    </tr>\n",
              "    <tr>\n",
              "      <th>4</th>\n",
              "      <td>4</td>\n",
              "      <td>0</td>\n",
              "      <td>0</td>\n",
              "      <td>0</td>\n",
              "      <td>0</td>\n",
              "      <td>0</td>\n",
              "      <td>0.350717</td>\n",
              "      <td>0.294747</td>\n",
              "      <td>0.290228</td>\n",
              "      <td>0.339178</td>\n",
              "      <td>...</td>\n",
              "      <td>1.0</td>\n",
              "      <td>0.272389</td>\n",
              "      <td>0.399935</td>\n",
              "      <td>0.235758</td>\n",
              "      <td>0.224299</td>\n",
              "      <td>0.35188</td>\n",
              "      <td>0.394737</td>\n",
              "      <td>0.349242</td>\n",
              "      <td>0.350311</td>\n",
              "      <td>0</td>\n",
              "    </tr>\n",
              "  </tbody>\n",
              "</table>\n",
              "<p>5 rows × 25 columns</p>\n",
              "</div>"
            ],
            "text/plain": [
              "   id  bin_0  bin_1  bin_2  bin_3  bin_4     nom_0     nom_1     nom_2  \\\n",
              "0   0      0      0      0      1      1  0.324303  0.346088  0.311555   \n",
              "1   1      0      1      0      1      1  0.316121  0.284226  0.371037   \n",
              "2   2      0      0      0      0      1  0.245641  0.286689  0.281884   \n",
              "3   3      0      1      0      0      1  0.350785  0.284226  0.296715   \n",
              "4   4      0      0      0      0      0  0.350717  0.294747  0.290228   \n",
              "\n",
              "      nom_3  ...      nom_9     ord_0     ord_1     ord_2     ord_3     ord_4  \\\n",
              "0  0.241196  ...  2f4cb3d51  0.332322  0.395311  0.260902  0.287645  0.232394   \n",
              "1  0.291356  ...        0.0  0.267702  0.391803  0.331479  0.205575  0.190541   \n",
              "2  0.285785  ...        0.0  0.266778  0.298283  0.401411  0.302619  0.369969   \n",
              "3  0.333982  ...   0.333333  0.267702  0.391803  0.360065  0.302817  0.225352   \n",
              "4  0.339178  ...        1.0  0.272389  0.399935  0.235758  0.224299   0.35188   \n",
              "\n",
              "      ord_5       day     month target  \n",
              "0       0.3   0.31956  0.246955      0  \n",
              "1  0.359551  0.335357  0.346497      0  \n",
              "2  0.160714  0.329296  0.250134      0  \n",
              "3  0.323232  0.312708  0.236094      1  \n",
              "4  0.394737  0.349242  0.350311      0  \n",
              "\n",
              "[5 rows x 25 columns]"
            ]
          },
          "execution_count": 37,
          "metadata": {},
          "output_type": "execute_result"
        }
      ],
      "source": [
        "X_fold.head()"
      ]
    },
    {
      "cell_type": "markdown",
      "metadata": {
        "id": "9rWAl_AmvQBx"
      },
      "source": [
        "# Summary <a id='5'></a>\n",
        "\n",
        "Here you can see the summary of our model performance against each of the encoding techniques we have used.\n",
        "It is clear that OnHotEncoder together with cyclic feature encoding yielded maximum accuracy.\n",
        "\n",
        "<table style=\"width : 50%\">\n",
        "    <tr>\n",
        "    <th>Encoding</th>\n",
        "    <th>Score</th>\n",
        "    <th>Wall time</th>\n",
        "    </tr>\n",
        "    <tr>\n",
        "    <td>Label Encoding</td>\n",
        "    <td>0.692</td>\n",
        "    <td> 973 ms</td>\n",
        "    </tr>\n",
        "    <tr>\n",
        "    <td>OnHotEncoder</td>\n",
        "    <td>0.759</td>\n",
        "    <td>1.84 s</td>\n",
        "    </tr>\n",
        "    <tr>\n",
        "    <td>Feature Hashing</td>\n",
        "    <td>0.751</td>\n",
        "    <td>4.96 s</td>\n",
        "    </tr>\n",
        "    <tr>\n",
        "    <td>Dataset statistic encoding</td>\n",
        "    <td>0.694</td>\n",
        "    <td>894 ms</td>\n",
        "    </tr>\n",
        "    </tr>\n",
        "    <tr>\n",
        "    <td>Cyclic + OnHotEncoding</td>\n",
        "    <td>0.759</td>\n",
        "    <td>431 ms</td>\n",
        "    </tr>\n",
        "    </tr>\n",
        "    <tr>\n",
        "    <td>Target encoding</td>\n",
        "    <td>0.694</td>\n",
        "    <td>2min 5s</td>\n",
        "    </tr>\n",
        "    \n",
        "</table>\n",
        "    "
      ]
    },
    {
      "cell_type": "markdown",
      "metadata": {
        "id": "HlQ02y8HvQBy"
      },
      "source": [
        "**You can try two or more of this approaches together,and encode the dataset in suitable way to acheive higher accuracy**\n"
      ]
    }
  ],
  "metadata": {
    "colab": {
      "name": "An Overview of Encoding Techniques",
      "provenance": []
    },
    "kernelspec": {
      "display_name": "deeepseek.py310",
      "language": "python",
      "name": "python3"
    },
    "language_info": {
      "codemirror_mode": {
        "name": "ipython",
        "version": 3
      },
      "file_extension": ".py",
      "mimetype": "text/x-python",
      "name": "python",
      "nbconvert_exporter": "python",
      "pygments_lexer": "ipython3",
      "version": "3.10.16"
    }
  },
  "nbformat": 4,
  "nbformat_minor": 0
}
